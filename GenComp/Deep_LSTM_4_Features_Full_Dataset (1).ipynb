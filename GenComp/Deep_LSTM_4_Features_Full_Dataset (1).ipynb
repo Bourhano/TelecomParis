{
 "cells": [
  {
   "cell_type": "code",
   "execution_count": 1,
   "metadata": {
    "colab": {
     "base_uri": "https://localhost:8080/",
     "height": 156
    },
    "colab_type": "code",
    "id": "MFc12-kZcUeY",
    "outputId": "d273449e-1d3b-4a05-f1a5-8f0aaa1850e5"
   },
   "outputs": [
    {
     "name": "stderr",
     "output_type": "stream",
     "text": [
      "Using TensorFlow backend.\n"
     ]
    }
   ],
   "source": [
    "from __future__ import absolute_import, division, print_function, unicode_literals\n",
    "try:\n",
    "  # %tensorflow_version only exists in Colab.\n",
    "  %tensorflow_version 2.x\n",
    "except Exception:\n",
    "  pass\n",
    "import tensorflow as tf\n",
    "\n",
    "import matplotlib as mpl\n",
    "import matplotlib.pyplot as plt\n",
    "import numpy as np\n",
    "import os\n",
    "import pandas as pd\n",
    "\n",
    "from keras.models import Sequential\n",
    "from keras.layers import Dense, Dropout\n",
    "from keras.layers import Embedding\n",
    "from keras.layers import LSTM\n",
    "\n",
    "mpl.rcParams['figure.figsize'] = (8, 6)\n",
    "mpl.rcParams['axes.grid'] = False\n",
    "\n",
    "#from google.colab import drive\n",
    "#drive.mount('/content/gdrive', force_remount=True) # Use in Google Colab\n",
    "#root_path = 'gdrive/My Drive/Colab Notebooks/CS230_PROJECT' # Former path used in Google Colab\n",
    "\n",
    "# # Ricardo Carrillo AWS path\n",
    "# root_path = '/home/ubuntu/cs230' "
   ]
  },
  {
   "cell_type": "code",
   "execution_count": 2,
   "metadata": {},
   "outputs": [
    {
     "name": "stdout",
     "output_type": "stream",
     "text": [
      "Name: tensorflow\n",
      "Version: 2.1.0\n",
      "Summary: TensorFlow is an open source machine learning framework for everyone.\n",
      "Home-page: https://www.tensorflow.org/\n",
      "Author: Google Inc.\n",
      "Author-email: packages@tensorflow.org\n",
      "License: Apache 2.0\n",
      "Location: d:\\anaconda3\\lib\\site-packages\n",
      "Requires: wheel, tensorflow-estimator, opt-einsum, six, keras-applications, numpy, keras-preprocessing, wrapt, termcolor, scipy, protobuf, tensorboard, grpcio, gast, google-pasta, absl-py, astor\n",
      "Required-by: \n"
     ]
    }
   ],
   "source": [
    "import os\n",
    "os.getcwd()\n",
    "! pip show tensorflow"
   ]
  },
  {
   "cell_type": "code",
   "execution_count": 3,
   "metadata": {
    "scrolled": true
   },
   "outputs": [
    {
     "name": "stdout",
     "output_type": "stream",
     "text": [
      "Num GPUs Available:  1\n"
     ]
    }
   ],
   "source": [
    "print(\"Num GPUs Available: \", len(tf.config.experimental.list_physical_devices('GPU')))"
   ]
  },
  {
   "cell_type": "code",
   "execution_count": 4,
   "metadata": {},
   "outputs": [
    {
     "name": "stdout",
     "output_type": "stream",
     "text": [
      "['train.csv']\n"
     ]
    }
   ],
   "source": [
    "# files = [f\"{root_path}/stock_data/{f}\" for f in os.listdir(f\"{root_path}/stock_data\")]\n",
    "files = [\"train.csv\"]\n",
    "print(files)"
   ]
  },
  {
   "cell_type": "code",
   "execution_count": 26,
   "metadata": {},
   "outputs": [],
   "source": [
    "df = pd.DataFrame() # Initializing Dataset"
   ]
  },
  {
   "cell_type": "code",
   "execution_count": 27,
   "metadata": {},
   "outputs": [
    {
     "name": "stdout",
     "output_type": "stream",
     "text": [
      "train.csv\n"
     ]
    }
   ],
   "source": [
    "for file in files:\n",
    "            print(file)\n",
    "            #Read in file -- note that parse_dates will be need later\n",
    "            df0 = pd.read_csv(file, names=['open','high','low','close'], index_col=0)\n",
    "            df = df.append(df0)"
   ]
  },
  {
   "cell_type": "code",
   "execution_count": 28,
   "metadata": {},
   "outputs": [
    {
     "data": {
      "text/plain": [
       "746"
      ]
     },
     "execution_count": 28,
     "metadata": {},
     "output_type": "execute_result"
    }
   ],
   "source": [
    "# Total Size of the Quandl Dataset 634525 Samples\n",
    "len(df)"
   ]
  },
  {
   "cell_type": "code",
   "execution_count": 29,
   "metadata": {},
   "outputs": [
    {
     "data": {
      "text/plain": [
       "746"
      ]
     },
     "execution_count": 29,
     "metadata": {},
     "output_type": "execute_result"
    }
   ],
   "source": [
    "# Drop Samples with NaN values, final set 373\n",
    "df=df.dropna() # Just drop samples with Nan \n",
    "len(df)"
   ]
  },
  {
   "cell_type": "code",
   "execution_count": 30,
   "metadata": {
    "colab": {},
    "colab_type": "code",
    "id": "1fbRbpfjcaAq"
   },
   "outputs": [],
   "source": [
    "# Former links to download prototypes datasets in Colab and AWS\n",
    "#df = pd.read_csv('gdrive/My Drive/Colab Notebooks/CS230_PROJECT/MSFT_Premium.csv')\n",
    "#df = pd.read_csv('/home/ubuntu/cs230/MSFT_Premium.csv')"
   ]
  },
  {
   "cell_type": "code",
   "execution_count": 31,
   "metadata": {
    "colab": {
     "base_uri": "https://localhost:8080/",
     "height": 255
    },
    "colab_type": "code",
    "id": "OjLaTv89ceuc",
    "outputId": "5782effa-f59f-4ba5-af0a-8dee0f3b5267"
   },
   "outputs": [
    {
     "data": {
      "text/html": [
       "<div>\n",
       "<style scoped>\n",
       "    .dataframe tbody tr th:only-of-type {\n",
       "        vertical-align: middle;\n",
       "    }\n",
       "\n",
       "    .dataframe tbody tr th {\n",
       "        vertical-align: top;\n",
       "    }\n",
       "\n",
       "    .dataframe thead th {\n",
       "        text-align: right;\n",
       "    }\n",
       "</style>\n",
       "<table border=\"1\" class=\"dataframe\">\n",
       "  <thead>\n",
       "    <tr style=\"text-align: right;\">\n",
       "      <th></th>\n",
       "      <th>open</th>\n",
       "      <th>high</th>\n",
       "      <th>low</th>\n",
       "      <th>close</th>\n",
       "    </tr>\n",
       "  </thead>\n",
       "  <tbody>\n",
       "    <tr>\n",
       "      <th>0</th>\n",
       "      <td>0.012495</td>\n",
       "      <td>0.011126</td>\n",
       "      <td>0.003252</td>\n",
       "      <td>0.006625</td>\n",
       "    </tr>\n",
       "    <tr>\n",
       "      <th>1</th>\n",
       "      <td>0.011439</td>\n",
       "      <td>0.002691</td>\n",
       "      <td>0.001206</td>\n",
       "      <td>0.006947</td>\n",
       "    </tr>\n",
       "    <tr>\n",
       "      <th>2</th>\n",
       "      <td>0.000632</td>\n",
       "      <td>0.007277</td>\n",
       "      <td>0.004049</td>\n",
       "      <td>0.000074</td>\n",
       "    </tr>\n",
       "    <tr>\n",
       "      <th>3</th>\n",
       "      <td>0.017828</td>\n",
       "      <td>0.028210</td>\n",
       "      <td>0.007758</td>\n",
       "      <td>0.007382</td>\n",
       "    </tr>\n",
       "    <tr>\n",
       "      <th>4</th>\n",
       "      <td>0.021115</td>\n",
       "      <td>0.019642</td>\n",
       "      <td>0.009238</td>\n",
       "      <td>0.011499</td>\n",
       "    </tr>\n",
       "  </tbody>\n",
       "</table>\n",
       "</div>"
      ],
      "text/plain": [
       "       open      high       low     close\n",
       "0  0.012495  0.011126  0.003252  0.006625\n",
       "1  0.011439  0.002691  0.001206  0.006947\n",
       "2  0.000632  0.007277  0.004049  0.000074\n",
       "3  0.017828  0.028210  0.007758  0.007382\n",
       "4  0.021115  0.019642  0.009238  0.011499"
      ]
     },
     "execution_count": 31,
     "metadata": {},
     "output_type": "execute_result"
    }
   ],
   "source": [
    "# To check our new dataset\n",
    "df.head()"
   ]
  },
  {
   "cell_type": "code",
   "execution_count": 33,
   "metadata": {
    "colab": {
     "base_uri": "https://localhost:8080/",
     "height": 235
    },
    "colab_type": "code",
    "id": "1igoc8_Lc5nz",
    "outputId": "c8e398a9-2647-4e57-8390-d28883cc1624"
   },
   "outputs": [
    {
     "data": {
      "text/html": [
       "<div>\n",
       "<style scoped>\n",
       "    .dataframe tbody tr th:only-of-type {\n",
       "        vertical-align: middle;\n",
       "    }\n",
       "\n",
       "    .dataframe tbody tr th {\n",
       "        vertical-align: top;\n",
       "    }\n",
       "\n",
       "    .dataframe thead th {\n",
       "        text-align: right;\n",
       "    }\n",
       "</style>\n",
       "<table border=\"1\" class=\"dataframe\">\n",
       "  <thead>\n",
       "    <tr style=\"text-align: right;\">\n",
       "      <th></th>\n",
       "      <th>open</th>\n",
       "      <th>high</th>\n",
       "      <th>low</th>\n",
       "      <th>close</th>\n",
       "    </tr>\n",
       "  </thead>\n",
       "  <tbody>\n",
       "    <tr>\n",
       "      <th>0</th>\n",
       "      <td>0.012495</td>\n",
       "      <td>0.011126</td>\n",
       "      <td>0.003252</td>\n",
       "      <td>0.006625</td>\n",
       "    </tr>\n",
       "    <tr>\n",
       "      <th>1</th>\n",
       "      <td>0.011439</td>\n",
       "      <td>0.002691</td>\n",
       "      <td>0.001206</td>\n",
       "      <td>0.006947</td>\n",
       "    </tr>\n",
       "    <tr>\n",
       "      <th>2</th>\n",
       "      <td>0.000632</td>\n",
       "      <td>0.007277</td>\n",
       "      <td>0.004049</td>\n",
       "      <td>0.000074</td>\n",
       "    </tr>\n",
       "    <tr>\n",
       "      <th>3</th>\n",
       "      <td>0.017828</td>\n",
       "      <td>0.028210</td>\n",
       "      <td>0.007758</td>\n",
       "      <td>0.007382</td>\n",
       "    </tr>\n",
       "    <tr>\n",
       "      <th>4</th>\n",
       "      <td>0.021115</td>\n",
       "      <td>0.019642</td>\n",
       "      <td>0.009238</td>\n",
       "      <td>0.011499</td>\n",
       "    </tr>\n",
       "  </tbody>\n",
       "</table>\n",
       "</div>"
      ],
      "text/plain": [
       "       open      high       low     close\n",
       "0  0.012495  0.011126  0.003252  0.006625\n",
       "1  0.011439  0.002691  0.001206  0.006947\n",
       "2  0.000632  0.007277  0.004049  0.000074\n",
       "3  0.017828  0.028210  0.007758  0.007382\n",
       "4  0.021115  0.019642  0.009238  0.011499"
      ]
     },
     "execution_count": 33,
     "metadata": {},
     "output_type": "execute_result"
    }
   ],
   "source": [
    "# We made 9 list to explore differents sizes of datasets\n",
    "features_considered = ['open','high','low','close']\n",
    "# 4 features\n",
    "#features_considered = ['open','high','low','close','volume','dividends','ev_x','evebit_x','evebitda_x','marketcap_x','pb_x','pe_x','ps_x']\n",
    "# 13 features lists - to explore -\n",
    "#features_considered = ['open','high','low','close','volume','dividends','ev_x','evebit_x','evebitda_x','marketcap_x','pb_x','pe_x','ps_x','assetturnover','de','debt','divyield','dps','ebit','ebitda','ebitdamargin','ebt','eps','epsdil','equity','ev_y','evebit_y','evebitda_y','gp','grossmargin','invcap','inventory','investments','liabilities','marketcap_y','netinc','netmargin','opex','opinc','payables','payoutratio','pb_y','pe_y','pe1','ppnenet','ps_y','ps1','receivables','revenue','rnd','roa','roe','roic','ros']\n",
    "# 54 features lists - to explore -\n",
    "#features_considered = ['open','high','low','close','volume','dividends','ev_x','evebit_x','evebitda_x','marketcap_x','pb_x','pe_x','ps_x','accoci','assets','assetsavg','assetsc','assetsnc','assetturnover','bvps','capex','cashneq','cashnequsd','cor','consolinc','currentratio','de','debt','debtc','debtnc','debtusd','deferredrev','depamor','deposits','divyield','dps','ebit','ebitda','ebitdamargin','ebitdausd','ebitusd','ebt','eps','epsdil','epsusd','equity','equityavg','equityusd','ev_y','evebit_y','evebitda_y','fcf','fcfps','fxusd','gp','grossmargin','intangibles','intexp','invcap','invcapavg','inventory','investments','investmentsc','investmentsnc','liabilities','liabilitiesc','liabilitiesnc','marketcap_y','ncf','ncfbus','ncfcommon','ncfdebt','ncfdiv','ncff','ncfi','ncfinv','ncfo','ncfx','netinc','netinccmn','netinccmnusd','netincdis','netincnci','netmargin','opex','opinc','payables','payoutratio','pb_y','pe_y','pe1','ppnenet','prefdivis','price','ps_y','ps1','receivables','retearn','revenue','revenueusd','rnd','roa','roe','roic','ros','sbcomp','sgna','sharefactor','sharesbas','shareswa','shareswadil','sps','tangibles','taxassets','taxexp','taxliabilities','tbvps','workingcapital']\n",
    "# 41 features lists - to explore -\n",
    "#features_considered = ['open','high','low','close','volume','dividends','ev_x','evebit_x','evebitda_x','marketcap_x','pb_x','pe_x','ps_x','assetturnover','de','debt','divyield','dps','ebit','ebitda','ebitdamargin','ebt','eps','epsdil','equity','ev_y','evebit_y','evebitda_y','gp','grossmargin','invcap','inventory','investments','liabilities','marketcap_y','netinc','netmargin','opex','opinc','payables','payoutratio','pb_y','pe_y','pe1','ppnenet','ps_y','ps1','receivables','revenue','rnd','roa','roe','roic','ros']\n",
    "# 41 features lists - to explore -\n",
    "#features_considered = ['open', 'high', 'low', 'close', 'volume','dividends', 'ev_x', 'evebit_x', 'evebitda_x', 'marketcap_x', 'pb_x', 'pe_x', 'ps_x','accoci','assets','assetsavg','assetsc','assetsnc','assetturnover','bvps','capex','cashneq','cashnequsd','cor','consolinc','currentratio','de','debt','debtc','debtnc','debtusd','deferredrev','depamor','divyield','dps','ebit','ebitda','ebitdamargin','ebitdausd','ebitusd','ebt']\n",
    "# 54 features lists - to explore -\n",
    "#features_considered = ['open', 'high', 'low', 'close', 'volume','dividends', 'ev_x', 'evebit_x', 'evebitda_x', 'marketcap_x', 'pb_x', 'pe_x', 'ps_x','accoci','assets','assetsavg','assetsc','assetsnc','assetturnover','bvps','capex','cashneq','cashnequsd','cor','consolinc','currentratio','de','debt','debtc','debtnc','debtusd','deferredrev','depamor','divyield','dps','ebit','ebitda','ebitdamargin','ebitdausd','ebitusd','ebt','eps','epsdil','epsusd','equity','equityavg','equityusd','ev_y','evebit_y','evebitda_y','fcf','fcfps','gp','grossmargin']\n",
    "# 77 features lists - to explore -\n",
    "#features_considered = ['open', 'high', 'low', 'close', 'volume','dividends', 'ev_x', 'evebit_x', 'evebitda_x', 'marketcap_x', 'pb_x', 'pe_x', 'ps_x','accoci','assets','assetsavg','assetsc','assetsnc','assetturnover','bvps','capex','cashneq','cashnequsd','cor','consolinc','currentratio','de','debt','debtc','debtnc','debtusd','deferredrev','depamor','divyield','dps','ebit','ebitda','ebitdamargin','ebitdausd','ebitusd','ebt','eps','epsdil','epsusd','equity','equityavg','equityusd','ev_y','evebit_y','evebitda_y','fcf','fcfps','gp','grossmargin','intangibles','invcap','invcapavg','inventory','investmentsnc','liabilities','liabilitiesc','liabilitiesnc','marketcap_y','ncf','ncfbus','ncfcommon','ncfdebt','ncfdiv','ncff','ncfi','ncfinv','ncfo','ncfx','netinc','netinccmn','netinccmnusd','netmargin']\n",
    "# 98 features lists - to explore -\n",
    "#features_considered = ['open', 'high', 'low', 'close', 'volume','dividends', 'ev_x', 'evebit_x', 'evebitda_x', 'marketcap_x', 'pb_x', 'pe_x', 'ps_x','accoci','assets','assetsavg','assetsc','assetsnc','assetturnover','bvps','capex','cashneq','cashnequsd','cor','consolinc','currentratio','de','debt','debtc','debtnc','debtusd','deferredrev','depamor','divyield','dps','ebit','ebitda','ebitdamargin','ebitdausd','ebitusd','ebt','eps','epsdil','epsusd','equity','equityavg','equityusd','ev_y','evebit_y','evebitda_y','fcf','fcfps','gp','grossmargin','intangibles','invcap','invcapavg','inventory','investmentsnc','liabilities','liabilitiesc','liabilitiesnc','marketcap_y','ncf','ncfbus','ncfcommon','ncfdebt','ncfdiv','ncff','ncfi','ncfinv','ncfo','ncfx','netinc','netinccmn','netinccmnusd','netmargin','opex','opinc','payables','payoutratio','pb_y','pe_y','pe1','ppnenet','price','ps_y','ps1','receivables','retearn','revenue','revenueusd','rnd','roa','roe','roic','ros','sbcomp']\n",
    "# 109 features lists - to explore -\n",
    "#features_considered = ['open', 'high', 'low', 'close', 'volume','ev_x', 'evebit_x', 'evebitda_x', 'marketcap_x', 'pb_x', 'pe_x', 'ps_x','accoci','assets','assetsavg','assetsc','assetsnc','assetturnover','bvps','capex','cashneq','cashnequsd','cor','consolinc','currentratio','de','debt','debtc','debtnc','debtusd','deferredrev','depamor','divyield','dps','ebit','ebitda','ebitdamargin','ebitdausd','ebitusd','ebt','eps','epsdil','epsusd','equity','equityavg','equityusd','ev_y','evebit_y','evebitda_y','fcf','fcfps','gp','grossmargin','intangibles','invcap','invcapavg','inventory','investmentsnc','liabilities','liabilitiesc','liabilitiesnc','marketcap_y','ncf','ncfbus','ncfcommon','ncfdebt','ncfdiv','ncff','ncfi','ncfinv','ncfo','ncfx','netinc','netinccmn','netinccmnusd','netmargin','opex','opinc','payables','payoutratio','pb_y','pe_y','pe1','ppnenet','price','ps_y','ps1','receivables','retearn','revenue','revenueusd','rnd','roa','roe','roic','ros','sbcomp','sgna','sharesbas','shareswa','shareswadil','sps','tangibles','taxassets','taxexp','taxliabilities','tbvps','workingcapital']\n",
    "#print(len(features_considered))\n",
    "features = df[features_considered]\n",
    "# features.index = df['date']            WHHHHHHHHHHHHHAAT!\n",
    "features.head()"
   ]
  },
  {
   "cell_type": "code",
   "execution_count": 34,
   "metadata": {
    "colab": {
     "base_uri": "https://localhost:8080/",
     "height": 34
    },
    "colab_type": "code",
    "id": "7TfC05DldJa_",
    "outputId": "593a938f-1a0e-4c1e-8b01-832272ac590f"
   },
   "outputs": [
    {
     "name": "stdout",
     "output_type": "stream",
     "text": [
      "0.01078848972417144\n"
     ]
    }
   ],
   "source": [
    "TRAIN_SPLIT=np.int(len(df)*0.9) # Split 90-5-5\n",
    "#features[:,4] = np.log(features[:,4])\n",
    "dataset = features.values # Convert dataset in a numpy array\n",
    "#dataset[:,4] = np.log(dataset[:,4]) # Log apply to the volumen \n",
    "#print(dataset)\n",
    "#data_mean = dataset[:TRAIN_SPLIT].mean(axis=0)\n",
    "data_mean = dataset.mean(axis=0)\n",
    "print(data_mean[3])\n",
    "#print(data_mean)\n",
    "#data_std = dataset[:TRAIN_SPLIT].std(axis=0)\n",
    "data_std = dataset.std(axis=0)\n",
    "#print(data_std)\n",
    "dataset = (dataset-data_mean)/data_std\n",
    "#dataset[:,4] = np.log(dataset[4,:])"
   ]
  },
  {
   "cell_type": "code",
   "execution_count": 35,
   "metadata": {
    "colab": {
     "base_uri": "https://localhost:8080/",
     "height": 85
    },
    "colab_type": "code",
    "id": "AfcwV_vUdhQq",
    "outputId": "a9bad367-6d89-47c9-f81d-7d34978bff1a"
   },
   "outputs": [
    {
     "name": "stdout",
     "output_type": "stream",
     "text": [
      "7.186696532402368 -1.1029893142831146\n",
      "6.466029033029779 -1.0905625774651917\n",
      "6.753418930525753 -1.008087100261586\n",
      "6.804855587323332 -1.1488612016077233\n"
     ]
    }
   ],
   "source": [
    "for i in range(0,4):\n",
    "    print(max(dataset[:,i]),min(dataset[:,i]))\n",
    "    #print(min(dataset[:,i]))\n"
   ]
  },
  {
   "cell_type": "code",
   "execution_count": 37,
   "metadata": {
    "colab": {
     "base_uri": "https://localhost:8080/",
     "height": 388
    },
    "colab_type": "code",
    "id": "bI6kg7tGVLs2",
    "outputId": "9e5d281f-e63c-4c92-bff5-40b41e238907"
   },
   "outputs": [
    {
     "data": {
      "image/png": "[encoded data removed]",
      "text/plain": [
       "<Figure size 576x432 with 1 Axes>"
      ]
     },
     "metadata": {
      "needs_background": "light"
     },
     "output_type": "display_data"
    }
   ],
   "source": [
    "def plot_series(time, series, format=\"-\", start=0, end=None,set=df):\n",
    "    plt.plot(time[start:end], series[start:end], format)\n",
    "    plt.xlabel(\"Time\")\n",
    "    plt.ylabel(\"Value\")\n",
    "    plt.grid(False)\n",
    "\n",
    "time=np.arange(len(dataset),dtype=\"float32\")\n",
    "series_original=(dataset*data_std)+data_mean # To plot the Original Values\n",
    "plot_series(time, series_original[:,2])"
   ]
  },
  {
   "cell_type": "code",
   "execution_count": 38,
   "metadata": {
    "colab": {},
    "colab_type": "code",
    "id": "nQ4mTtiudp_7"
   },
   "outputs": [],
   "source": [
    "def multivariate_data(dataset, target, start_index, end_index, history_size,\n",
    "                      target_size, step, single_step=False):\n",
    "    data = []\n",
    "    labels = []\n",
    "\n",
    "    start_index = start_index + history_size\n",
    "    if end_index is None:\n",
    "        end_index = len(dataset) - target_size\n",
    "\n",
    "    for i in range(start_index, end_index):\n",
    "        indices = range(i-history_size, i, step)\n",
    "        data.append(dataset[indices])\n",
    "\n",
    "        if single_step:\n",
    "            labels.append(target[i+target_size])\n",
    "        else:\n",
    "            labels.append(target[i:i+target_size])\n",
    "    #print(labels)\n",
    "    return np.array(data), np.array(labels)"
   ]
  },
  {
   "cell_type": "code",
   "execution_count": 39,
   "metadata": {
    "colab": {},
    "colab_type": "code",
    "id": "6avz8C_Xd-7W"
   },
   "outputs": [],
   "source": [
    "past_history = 20 #Days taking in the past of each Sample\n",
    "future_target = 0 # future_target + STEP = days forescat in the future\n",
    "STEP = 1\n",
    "np.random.seed(3)\n",
    "\n",
    "x_train_single, y_train_single = multivariate_data(dataset, dataset[:, 3], 0,\n",
    "                                                   TRAIN_SPLIT, past_history,\n",
    "                                                   future_target, STEP,\n",
    "                                                   single_step=True)\n",
    "x_val_single, y_val_single = multivariate_data(dataset, dataset[:, 3],\n",
    "                                               TRAIN_SPLIT, None, past_history,\n",
    "                                               future_target, STEP,\n",
    "                                               single_step=True)"
   ]
  },
  {
   "cell_type": "code",
   "execution_count": 40,
   "metadata": {
    "colab": {
     "base_uri": "https://localhost:8080/",
     "height": 748
    },
    "colab_type": "code",
    "id": "62OQJDove2gj",
    "outputId": "e1b711c5-3394-4a40-cabd-b47f4fa2f82b"
   },
   "outputs": [
    {
     "name": "stdout",
     "output_type": "stream",
     "text": [
      "Single window of past history : [[-0.05450611 -0.14489614 -0.65907657 -0.44616238]\n",
      " [-0.14324192 -0.86557867 -0.87958575 -0.41167788]\n",
      " [-1.05095179 -0.47368703 -0.5732053  -1.14809391]\n",
      " [ 0.39338564  1.314776   -0.17335559 -0.36501109]\n",
      " [ 0.66943994  0.58276885 -0.01386059  0.07616102]\n",
      " [-1.00513463 -0.91634043 -0.86433872 -0.62388136]\n",
      " [-0.28200816  0.27113151  0.11353625 -0.09588647]\n",
      " [-0.72721722 -0.61201678 -0.83188026 -0.49826359]\n",
      " [-0.74061229 -0.92655927 -0.61549824  0.21881004]\n",
      " [ 0.30406372 -0.44447125  0.1287691   0.62481831]\n",
      " [-0.27891088 -0.6476819  -0.38494094 -0.93576366]\n",
      " [-0.35544293 -0.7611526  -0.21808939 -0.13432818]\n",
      " [-0.18317369 -0.15828386  0.21040985 -0.51969945]\n",
      " [ 4.8083621   0.18280379  0.43587407  1.70658022]\n",
      " [ 0.19757688  1.35048187 -0.16186623 -0.35657044]\n",
      " [ 0.37508581 -0.39448858 -0.31443195 -0.7865651 ]\n",
      " [-0.21412549 -0.9274108   0.5832016  -0.48732024]\n",
      " [-0.7103941  -0.26856256 -0.98344159 -0.82555043]\n",
      " [-0.25473058  0.25297042 -0.25856798 -0.60938664]\n",
      " [-0.4032757  -0.23042928  1.00439632  1.26747409]]\n",
      "Single window of past history : (20, 4)\n",
      "Single sample of Future : 1.347611370867117\n",
      "[[-0.05450611 -0.14489614 -0.65907657 -0.44616238]\n",
      " [-0.14324192 -0.86557867 -0.87958575 -0.41167788]\n",
      " [-1.05095179 -0.47368703 -0.5732053  -1.14809391]\n",
      " [ 0.39338564  1.314776   -0.17335559 -0.36501109]\n",
      " [ 0.66943994  0.58276885 -0.01386059  0.07616102]\n",
      " [-1.00513463 -0.91634043 -0.86433872 -0.62388136]\n",
      " [-0.28200816  0.27113151  0.11353625 -0.09588647]\n",
      " [-0.72721722 -0.61201678 -0.83188026 -0.49826359]\n",
      " [-0.74061229 -0.92655927 -0.61549824  0.21881004]\n",
      " [ 0.30406372 -0.44447125  0.1287691   0.62481831]\n",
      " [-0.27891088 -0.6476819  -0.38494094 -0.93576366]\n",
      " [-0.35544293 -0.7611526  -0.21808939 -0.13432818]\n",
      " [-0.18317369 -0.15828386  0.21040985 -0.51969945]\n",
      " [ 4.8083621   0.18280379  0.43587407  1.70658022]\n",
      " [ 0.19757688  1.35048187 -0.16186623 -0.35657044]\n",
      " [ 0.37508581 -0.39448858 -0.31443195 -0.7865651 ]\n",
      " [-0.21412549 -0.9274108   0.5832016  -0.48732024]\n",
      " [-0.7103941  -0.26856256 -0.98344159 -0.82555043]\n",
      " [-0.25473058  0.25297042 -0.25856798 -0.60938664]\n",
      " [-0.4032757  -0.23042928  1.00439632  1.26747409]\n",
      " [ 1.41873086  2.26729296  1.96096265  1.34761137]]\n"
     ]
    }
   ],
   "source": [
    "# Test to see one x_train and y_train sample \n",
    "print ('Single window of past history : {}'.format(x_train_single[0,:])) # check\n",
    "print ('Single window of past history : {}'.format(x_train_single[0].shape)) # check\n",
    "print ('Single sample of Future : {}'.format(y_train_single[0,])) # check\n",
    "print(dataset[0:21,:]) # dataset Check\n"
   ]
  },
  {
   "cell_type": "code",
   "execution_count": 41,
   "metadata": {
    "colab": {},
    "colab_type": "code",
    "id": "2HIbXAxce6-a"
   },
   "outputs": [],
   "source": [
    "BATCH_SIZE = 128\n",
    "BUFFER_SIZE = 1000 # Previous len(df)\n",
    "\n",
    "train_data_single = tf.data.Dataset.from_tensor_slices((x_train_single, y_train_single))\n",
    "train_data_single = train_data_single.cache().shuffle(BUFFER_SIZE).batch(BATCH_SIZE).repeat()\n",
    "\n",
    "val_data_single = tf.data.Dataset.from_tensor_slices((x_val_single, y_val_single))\n",
    "val_data_single = val_data_single.batch(BATCH_SIZE).repeat()"
   ]
  },
  {
   "cell_type": "code",
   "execution_count": 42,
   "metadata": {
    "colab": {
     "base_uri": "https://localhost:8080/",
     "height": 952
    },
    "colab_type": "code",
    "id": "BkWpMAUFnuqk",
    "outputId": "c1f31a8c-d409-43bb-9840-b97dd9ba89c1"
   },
   "outputs": [
    {
     "name": "stdout",
     "output_type": "stream",
     "text": [
      "x =  [[[ 0.90449664  0.15004588  0.5393144  -0.04942338]\n",
      "  [-0.96586425 -0.32064967 -0.05025454 -0.38791338]\n",
      "  [ 0.0402517   1.33096594 -0.19511155 -0.61296908]\n",
      "  ...\n",
      "  [-0.75343553 -0.16703383 -0.27365765  0.87143461]\n",
      "  [-0.75260204 -0.48614442 -0.11086547 -0.33848325]\n",
      "  [-0.95391276 -0.68343759 -0.66511707 -0.61932274]]\n",
      "\n",
      " [[-0.98574388  0.85801701 -0.54304458 -0.72022788]\n",
      "  [-0.95068275 -0.86457692 -0.5786543   0.32002377]\n",
      "  [ 0.86192819 -0.87180674 -0.89882731  0.7723477 ]\n",
      "  ...\n",
      "  [-0.61719636 -1.05167592 -0.93720463 -1.13993761]\n",
      "  [-0.4274417  -0.29308719 -0.41836709 -0.19096252]\n",
      "  [ 1.60841216 -0.06262184 -0.28967035  1.10296955]]\n",
      "\n",
      " [[ 1.30816537  2.01074068  2.82271757  3.59992929]\n",
      "  [-0.96917268 -0.94795034 -0.89831813 -0.64766754]\n",
      "  [-1.02199133  0.06356164  0.76962117 -0.39118219]\n",
      "  ...\n",
      "  [ 1.24195075  1.15801035  0.94569123  1.46143931]\n",
      "  [-0.56773445 -0.57778874  0.76340635 -0.16517352]\n",
      "  [ 4.68644025  2.82944388  3.69367277  5.12144819]]\n",
      "\n",
      " ...\n",
      "\n",
      " [[-1.02199133  0.06356164  0.76962117 -0.39118219]\n",
      "  [-0.68927388 -0.77907084 -0.72040628 -0.90067318]\n",
      "  [-0.90969636 -0.81635163 -0.04968108 -0.88678649]\n",
      "  ...\n",
      "  [ 4.68644025  2.82944388  3.69367277  5.12144819]\n",
      "  [-0.95795889  0.05846318 -0.13331303 -0.094816  ]\n",
      "  [ 2.99029282 -1.00125098  2.13535615  2.34895196]]\n",
      "\n",
      " [[-0.34136187 -0.78486515 -0.14925589  0.21127978]\n",
      "  [-1.02918362  1.5207278   0.92154014 -0.38881972]\n",
      "  [-0.38452877  0.25964834 -0.96836095 -0.88160095]\n",
      "  ...\n",
      "  [ 1.37260785  1.6836786   1.67861778  1.55908658]\n",
      "  [ 0.11338272 -0.60159127 -0.50351729 -1.0212333 ]\n",
      "  [-0.4008801  -0.79058034 -0.97968407 -1.01427046]]\n",
      "\n",
      " [[-0.65392832 -0.63210506 -0.3283124  -0.01437337]\n",
      "  [-0.77359167 -0.64601601 -0.50484219 -0.48212281]\n",
      "  [-0.32621235 -0.52535879 -0.57096065  0.08559098]\n",
      "  ...\n",
      "  [-0.92712533  0.25770724 -0.72385819 -1.1128082 ]\n",
      "  [-0.47361273 -0.90252074  0.20593139  0.62737474]\n",
      "  [ 0.28320327  0.16681503 -0.31770749  0.19091701]]]\n",
      "y =  [ 1.35691679e+00  1.44056324e-03 -9.48160038e-02  2.56220555e+00\n",
      " -1.59101873e-01 -1.84497009e-01 -9.76089674e-01 -8.87280562e-01\n",
      "  1.03079035e+00  3.16312524e-01  2.26952725e+00  9.59642036e-02\n",
      " -1.09711142e+00 -4.94233784e-02  1.57913853e-01 -2.47537315e-01\n",
      " -4.42628556e-01 -5.13278272e-01 -9.14761444e-01 -6.97069281e-01\n",
      " -3.70507315e-01 -8.32423135e-01  9.64326679e-01 -1.05750183e+00\n",
      " -1.04770558e+00 -7.99306914e-01 -7.98747375e-02 -7.72488041e-01\n",
      "  3.13248523e+00 -7.77616248e-01  8.84821231e-01 -2.40838540e-02\n",
      " -6.27437539e-01  1.25104847e+00 -1.08620682e+00 -1.60881484e-01\n",
      "  3.18218568e+00  2.34895196e+00  2.62853073e-01 -3.86580907e-01\n",
      "  4.05894981e+00  6.56091000e-01  1.57922668e-01 -3.18116306e-01\n",
      " -3.06931216e-01  6.92941592e-01 -3.38483246e-01  2.10890530e+00\n",
      "  5.64037806e-01 -3.49920478e-01 -2.69679106e-01 -2.34894356e-01\n",
      "  6.37446631e-01  4.02681249e-02 -5.17365611e-02  1.49636154e-01\n",
      " -9.01148756e-01 -5.91128588e-01  1.09891390e+00 -8.45288928e-01\n",
      " -7.09059048e-01 -9.69398850e-03 -4.66236190e-01  8.46356792e-01\n",
      "  1.67819037e+00  1.78041134e+00 -3.81865848e-01 -9.09900423e-01\n",
      " -1.00641456e+00 -1.54484078e-01 -8.15086057e-01 -4.13099069e-01\n",
      " -2.18468812e-01 -2.48743140e-01 -9.89608657e-01 -7.00281041e-01\n",
      "  1.76810897e-01 -3.64225584e-01  6.63006490e-02  1.42483494e+00\n",
      "  1.57273845e+00 -3.84638298e-01  1.63869853e+00 -3.37162381e-01\n",
      " -4.21504293e-01  1.59239983e-01  5.13465623e+00 -1.03217445e+00\n",
      " -1.74848074e-01 -6.19322738e-01 -1.12552875e+00 -5.59969084e-01\n",
      " -6.12969076e-01 -5.62765582e-01 -4.24504330e-01 -1.29197607e-01\n",
      "  6.32066000e-02 -9.82891827e-01  1.22160857e-02  7.07593924e-01\n",
      "  8.42361258e-02  1.55601159e+00  1.10584224e+00 -3.50102880e-01\n",
      " -5.59633732e-01  3.88332009e-01 -9.87964050e-01 -4.15897052e-01\n",
      " -1.08114411e+00  2.59613292e-01 -4.62127218e-01 -1.12574643e+00\n",
      "  2.52146186e-01  3.08148917e-01 -6.72560600e-01 -1.52116767e-01\n",
      "  3.65251166e-01 -1.07161732e+00 -4.02397395e-01  9.76848080e-02\n",
      "  3.18139879e-01 -5.63718417e-03 -3.91182189e-01  1.12084233e-01\n",
      " -2.03498631e-01  9.70587587e-01 -5.78104670e-01  7.76551866e-01]\n"
     ]
    }
   ],
   "source": [
    "#print(val_data_single)\n",
    "#print(x_val_single.shape)\n",
    "#print(y_val_single.shape)\n",
    "#print(x_train_single.shape[-2:])\n",
    "#print(dataset[0:30,:].shape)\n",
    "for x,y in train_data_single.take(1):\n",
    "  print(\"x = \", x.numpy())\n",
    "  print(\"y = \", y.numpy())\n",
    "  "
   ]
  },
  {
   "cell_type": "markdown",
   "metadata": {
    "colab_type": "text",
    "id": "9wc_YDFw0eEy"
   },
   "source": [
    "We add forget_bias (default: 1) to the biases of the forget gate in order to reduce the scale of forgetting in the beginning of the training."
   ]
  },
  {
   "cell_type": "code",
   "execution_count": 43,
   "metadata": {
    "colab": {
     "base_uri": "https://localhost:8080/",
     "height": 1000
    },
    "colab_type": "code",
    "id": "c83RUPmwnKi6",
    "outputId": "edd30a28-0633-4905-864a-7905e32279b7"
   },
   "outputs": [
    {
     "name": "stdout",
     "output_type": "stream",
     "text": [
      "Train for 200 steps, validate for 50 steps\n",
      "Epoch 1/50\n",
      "200/200 [==============================] - 9s 44ms/step - loss: 0.8191 - mae: 0.7023 - val_loss: 0.7960 - val_mae: 0.7831\n",
      "Epoch 2/50\n",
      "200/200 [==============================] - 2s 9ms/step - loss: 0.7069 - mae: 0.7025 - val_loss: 0.7834 - val_mae: 0.7824\n",
      "Epoch 3/50\n",
      "200/200 [==============================] - 2s 8ms/step - loss: 0.7045 - mae: 0.7027 - val_loss: 0.7854 - val_mae: 0.7844\n",
      "Epoch 4/50\n",
      "200/200 [==============================] - 2s 8ms/step - loss: 0.7065 - mae: 0.7036 - val_loss: 0.7837 - val_mae: 0.7832\n",
      "Epoch 5/50\n",
      "200/200 [==============================] - 2s 8ms/step - loss: 0.7063 - mae: 0.7009 - val_loss: 0.7818 - val_mae: 0.7811\n",
      "Epoch 6/50\n",
      "200/200 [==============================] - 2s 8ms/step - loss: 0.7073 - mae: 0.7029 - val_loss: 0.7840 - val_mae: 0.7832\n",
      "Epoch 7/50\n",
      "200/200 [==============================] - 2s 8ms/step - loss: 0.7044 - mae: 0.7025 - val_loss: 0.7839 - val_mae: 0.7833\n",
      "Epoch 8/50\n",
      "200/200 [==============================] - 2s 8ms/step - loss: 0.6881 - mae: 0.7033 - val_loss: 0.7857 - val_mae: 0.7851\n",
      "Epoch 9/50\n",
      "200/200 [==============================] - 2s 8ms/step - loss: 0.6943 - mae: 0.7018 - val_loss: 0.7813 - val_mae: 0.7806\n",
      "Epoch 10/50\n",
      "200/200 [==============================] - 2s 8ms/step - loss: 0.6928 - mae: 0.7024 - val_loss: 0.7827 - val_mae: 0.7821\n",
      "Epoch 11/50\n",
      "200/200 [==============================] - 2s 8ms/step - loss: 0.7051 - mae: 0.7031 - val_loss: 0.7854 - val_mae: 0.7849\n",
      "Epoch 12/50\n",
      "200/200 [==============================] - 2s 8ms/step - loss: 0.6944 - mae: 0.7021 - val_loss: 0.7824 - val_mae: 0.7818\n",
      "Epoch 13/50\n",
      "200/200 [==============================] - 2s 9ms/step - loss: 0.7013 - mae: 0.7018 - val_loss: 0.7851 - val_mae: 0.7847\n",
      "Epoch 14/50\n",
      "200/200 [==============================] - 2s 8ms/step - loss: 0.7015 - mae: 0.7031 - val_loss: 0.7830 - val_mae: 0.7825\n",
      "Epoch 15/50\n",
      "200/200 [==============================] - 2s 8ms/step - loss: 0.6980 - mae: 0.7026 - val_loss: 0.7807 - val_mae: 0.7802\n",
      "Epoch 16/50\n",
      "200/200 [==============================] - 2s 9ms/step - loss: 0.6961 - mae: 0.7024 - val_loss: 0.7798 - val_mae: 0.7793\n",
      "Epoch 17/50\n",
      "200/200 [==============================] - 2s 9ms/step - loss: 0.7037 - mae: 0.7028 - val_loss: 0.7824 - val_mae: 0.7821\n",
      "Epoch 18/50\n",
      "200/200 [==============================] - 2s 8ms/step - loss: 0.6949 - mae: 0.7028 - val_loss: 0.7822 - val_mae: 0.7818\n",
      "Epoch 19/50\n",
      "200/200 [==============================] - 2s 8ms/step - loss: 0.6994 - mae: 0.7033 - val_loss: 0.7820 - val_mae: 0.7816\n",
      "Epoch 20/50\n",
      "200/200 [==============================] - 2s 8ms/step - loss: 0.6986 - mae: 0.7014 - val_loss: 0.7854 - val_mae: 0.7850\n",
      "Epoch 21/50\n",
      "200/200 [==============================] - 2s 8ms/step - loss: 0.6900 - mae: 0.7027 - val_loss: 0.7793 - val_mae: 0.7789\n",
      "Epoch 22/50\n",
      "200/200 [==============================] - 2s 8ms/step - loss: 0.6995 - mae: 0.7026 - val_loss: 0.7807 - val_mae: 0.7803\n",
      "Epoch 23/50\n",
      "200/200 [==============================] - 2s 8ms/step - loss: 0.6973 - mae: 0.7025 - val_loss: 0.7854 - val_mae: 0.7850\n",
      "Epoch 24/50\n",
      "200/200 [==============================] - 2s 8ms/step - loss: 0.6997 - mae: 0.7024 - val_loss: 0.7833 - val_mae: 0.7829\n",
      "Epoch 25/50\n",
      "200/200 [==============================] - 2s 8ms/step - loss: 0.7028 - mae: 0.7026 - val_loss: 0.7810 - val_mae: 0.7807\n",
      "Epoch 26/50\n",
      "200/200 [==============================] - 2s 9ms/step - loss: 0.6978 - mae: 0.7018 - val_loss: 0.7827 - val_mae: 0.7824\n",
      "Epoch 27/50\n",
      "200/200 [==============================] - 2s 8ms/step - loss: 0.6906 - mae: 0.7029 - val_loss: 0.7833 - val_mae: 0.7830\n",
      "Epoch 28/50\n",
      "200/200 [==============================] - 2s 8ms/step - loss: 0.6976 - mae: 0.7021 - val_loss: 0.7834 - val_mae: 0.7831\n",
      "Epoch 29/50\n",
      "200/200 [==============================] - 2s 8ms/step - loss: 0.6990 - mae: 0.7030 - val_loss: 0.7844 - val_mae: 0.7841\n",
      "Epoch 30/50\n",
      "200/200 [==============================] - 2s 8ms/step - loss: 0.7188 - mae: 0.7022 - val_loss: 0.7823 - val_mae: 0.7820\n",
      "Epoch 31/50\n",
      "200/200 [==============================] - 2s 8ms/step - loss: 0.6946 - mae: 0.7016 - val_loss: 0.7841 - val_mae: 0.7838\n",
      "Epoch 32/50\n",
      "200/200 [==============================] - 2s 8ms/step - loss: 0.6989 - mae: 0.7032 - val_loss: 0.7814 - val_mae: 0.7812\n",
      "Epoch 33/50\n",
      "200/200 [==============================] - 2s 8ms/step - loss: 0.7044 - mae: 0.7027 - val_loss: 0.7827 - val_mae: 0.7825\n",
      "Epoch 34/50\n",
      "200/200 [==============================] - 2s 8ms/step - loss: 0.7016 - mae: 0.7026 - val_loss: 0.7812 - val_mae: 0.7810\n",
      "Epoch 35/50\n",
      "200/200 [==============================] - 2s 9ms/step - loss: 0.7034 - mae: 0.7027 - val_loss: 0.7816 - val_mae: 0.7814\n",
      "Epoch 36/50\n",
      "200/200 [==============================] - 2s 8ms/step - loss: 0.6943 - mae: 0.7021 - val_loss: 0.7815 - val_mae: 0.7813\n",
      "Epoch 37/50\n",
      "200/200 [==============================] - 2s 9ms/step - loss: 0.7054 - mae: 0.7026 - val_loss: 0.7840 - val_mae: 0.7838\n",
      "Epoch 38/50\n",
      "200/200 [==============================] - 2s 8ms/step - loss: 0.7021 - mae: 0.7023 - val_loss: 0.7849 - val_mae: 0.7847\n",
      "Epoch 39/50\n",
      "200/200 [==============================] - 2s 8ms/step - loss: 0.7069 - mae: 0.7024 - val_loss: 0.7819 - val_mae: 0.7817\n",
      "Epoch 40/50\n",
      "200/200 [==============================] - 2s 8ms/step - loss: 0.7029 - mae: 0.7033 - val_loss: 0.7809 - val_mae: 0.7807\n",
      "Epoch 41/50\n",
      "200/200 [==============================] - 2s 8ms/step - loss: 0.7024 - mae: 0.7018 - val_loss: 0.7821 - val_mae: 0.7820\n",
      "Epoch 42/50\n",
      "200/200 [==============================] - 2s 8ms/step - loss: 0.6925 - mae: 0.7023 - val_loss: 0.7814 - val_mae: 0.7812\n",
      "Epoch 43/50\n",
      "200/200 [==============================] - 2s 8ms/step - loss: 0.7028 - mae: 0.7021 - val_loss: 0.7825 - val_mae: 0.7824\n",
      "Epoch 44/50\n",
      "200/200 [==============================] - 2s 8ms/step - loss: 0.6959 - mae: 0.7022 - val_loss: 0.7825 - val_mae: 0.7824\n",
      "Epoch 45/50\n",
      "200/200 [==============================] - 2s 9ms/step - loss: 0.7022 - mae: 0.7030 - val_loss: 0.7842 - val_mae: 0.7840\n",
      "Epoch 46/50\n",
      "200/200 [==============================] - 2s 8ms/step - loss: 0.7071 - mae: 0.7026 - val_loss: 0.7815 - val_mae: 0.7814\n",
      "Epoch 47/50\n",
      "200/200 [==============================] - 2s 8ms/step - loss: 0.6976 - mae: 0.7029 - val_loss: 0.7815 - val_mae: 0.7814\n",
      "Epoch 48/50\n",
      "200/200 [==============================] - 2s 9ms/step - loss: 0.7060 - mae: 0.7022 - val_loss: 0.7839 - val_mae: 0.7838\n",
      "Epoch 49/50\n",
      "200/200 [==============================] - 2s 8ms/step - loss: 0.7201 - mae: 0.7025 - val_loss: 0.7848 - val_mae: 0.7848\n",
      "Epoch 50/50\n",
      "200/200 [==============================] - 2s 8ms/step - loss: 0.7050 - mae: 0.7022 - val_loss: 0.7816 - val_mae: 0.7815\n"
     ]
    }
   ],
   "source": [
    "from keras import regularizers\n",
    "\n",
    "tf.keras.backend.clear_session()\n",
    "tf.random.set_seed(51)\n",
    "np.random.seed(51)\n",
    "TIME_STEPS=past_history\n",
    "EPOCHS=50\n",
    "EVALUATION_INTERVAL=200\n",
    "\n",
    "single_step_model = tf.keras.models.Sequential()\n",
    "single_step_model.add(tf.keras.layers.LSTM(32,input_shape=x_train_single.shape[-2:]\n",
    "                                           ,return_sequences=True,activation='tanh',kernel_initializer='glorot_uniform'\n",
    "                                           ,activity_regularizer=regularizers.l1(0.01)))\n",
    "single_step_model.add(tf.keras.layers.LSTM(16,return_sequences=False,activation='tanh',kernel_initializer='glorot_uniform'\n",
    "                                           ,activity_regularizer=regularizers.l1(0.01)))\n",
    "single_step_model.add(tf.keras.layers.Dense(16,activation='tanh'))\n",
    "#single_step_model.add(tf.keras.layers.Dropout(0.2))\n",
    "#single_step_model.add(tf.keras.layers.Dense(16,activation='tanh'))\n",
    "single_step_model.add(tf.keras.layers.Dense(8,activation='tanh'))\n",
    "single_step_model.add(tf.keras.layers.Dense(1))\n",
    "\n",
    "# Optimizers PRE-DEFINED to Tests\n",
    "optimizeAdam=tf.keras.optimizers.Adam(learning_rate=0.001, beta_1=0.9, beta_2=0.999, amsgrad=False)\n",
    "optimizeAdam1=tf.keras.optimizers.Adam(learning_rate=0.01, beta_1=0.9, beta_2=0.999, amsgrad=False)\n",
    "optimizeRMS=tf.keras.optimizers.RMSprop()\n",
    "optimizeSGD =tf.keras.optimizers.SGD(lr=0.01, decay=1e-6, momentum=0.9, nesterov=True)\n",
    "optimizeSGD1 =tf.keras.optimizers.SGD(lr=0.01, decay=1e-5, momentum=0.9, nesterov=True)\n",
    "\n",
    "# Compile & Fit\n",
    "single_step_model.compile(optimizer=optimizeAdam, loss='mae',metrics=[\"mae\"])\n",
    "\n",
    "single_step_history = single_step_model.fit(train_data_single, epochs=EPOCHS,\n",
    "                                            steps_per_epoch=EVALUATION_INTERVAL,\n",
    "                                            validation_data=val_data_single,\n",
    "                                            validation_steps=50)\n",
    "\n"
   ]
  },
  {
   "cell_type": "code",
   "execution_count": 44,
   "metadata": {
    "colab": {
     "base_uri": "https://localhost:8080/",
     "height": 119
    },
    "colab_type": "code",
    "id": "exWhk6hLvHng",
    "outputId": "d990890c-e5fc-404e-dafa-e675ca3bd1c1"
   },
   "outputs": [
    {
     "name": "stdout",
     "output_type": "stream",
     "text": [
      "(55, 1)\n",
      "[[-0.23114888]\n",
      " [-0.2311487 ]\n",
      " [-0.23114914]\n",
      " [-0.23114926]\n",
      " [-0.23114935]\n",
      " [-0.2311494 ]\n",
      " [-0.23114929]\n",
      " [-0.23114933]\n",
      " [-0.23114926]\n",
      " [-0.23114944]\n",
      " [-0.23114944]\n",
      " [-0.23114868]\n",
      " [-0.23114863]\n",
      " [-0.23114893]\n",
      " [-0.23114885]\n",
      " [-0.23114887]\n",
      " [-0.23114847]\n",
      " [-0.23114792]\n",
      " [-0.23114738]\n",
      " [-0.23114677]\n",
      " [-0.2311478 ]\n",
      " [-0.23114869]\n",
      " [-0.2311491 ]\n",
      " [-0.231149  ]\n",
      " [-0.23114888]\n",
      " [-0.23114873]\n",
      " [-0.23114848]\n",
      " [-0.23114792]\n",
      " [-0.23114848]\n",
      " [-0.23114875]\n",
      " [-0.23114923]\n",
      " [-0.23114958]\n",
      " [-0.23114923]\n",
      " [-0.2311489 ]\n",
      " [-0.23114902]\n",
      " [-0.23114894]\n",
      " [-0.2311486 ]\n",
      " [-0.2311472 ]\n",
      " [-0.23114634]\n",
      " [-0.23114678]\n",
      " [-0.23114797]\n",
      " [-0.23114747]\n",
      " [-0.23114811]\n",
      " [-0.2311483 ]\n",
      " [-0.23114842]\n",
      " [-0.23114717]\n",
      " [-0.23114803]\n",
      " [-0.23114777]\n",
      " [-0.23114824]\n",
      " [-0.23114887]\n",
      " [-0.23114921]\n",
      " [-0.23114932]\n",
      " [-0.23114944]\n",
      " [-0.23114926]\n",
      " [-0.23114938]]\n",
      "y =  [-0.2079806  -1.0809139  -0.72495176 -0.9792746  -0.78317658 -0.12373055\n",
      " -0.99526486  0.22516375 -0.60277262  0.54244863  0.50110575 -0.32005593\n",
      " -0.44567049  0.08109667 -0.28507982  3.02653448  0.17406546  1.46440917\n",
      "  1.38592058 -0.58196832 -0.76256847 -0.96697757  0.94396214  0.08689138\n",
      "  0.72002204 -0.03155012  0.38573637 -0.86742312 -0.55332008 -1.06528942\n",
      " -0.22671616 -0.5440968  -0.8072161  -0.82290388  0.36364497  0.59109441\n",
      "  3.73818883  0.57541971  0.14896371 -0.66207151  3.27352986 -0.86623623\n",
      "  1.0023411  -0.33555791  2.58041981 -0.49915302  2.16874879 -0.65227562\n",
      " -0.51625996 -0.70519113 -0.60894428 -0.94309402 -0.46310966 -0.9760438\n",
      " -0.13165747]\n"
     ]
    }
   ],
   "source": [
    "for x, y in val_data_single.take(1):\n",
    "  print(single_step_model.predict(x).shape)\n",
    "  print(single_step_model.predict(x))\n",
    "  print(\"y = \", y.numpy())\n",
    "  #print(\"x = \", x.numpy())\n",
    "  #print(\"y = \", y.numpy())\n",
    "  #print(single_step_model.predict(x))"
   ]
  },
  {
   "cell_type": "code",
   "execution_count": 45,
   "metadata": {
    "colab": {},
    "colab_type": "code",
    "id": "emO4Xrt3-Two"
   },
   "outputs": [],
   "source": [
    "def plot_train_history(history, title):\n",
    "    loss = history.history['loss']\n",
    "    val_loss = history.history['val_loss']\n",
    "\n",
    "    epochs = range(len(loss))\n",
    "\n",
    "    plt.figure()\n",
    "\n",
    "    plt.plot(epochs, loss, 'b', label='Training loss')\n",
    "    plt.plot(epochs, val_loss, 'r', label='Validation loss')\n",
    "    plt.title(title)\n",
    "    plt.legend()\n",
    "\n",
    "    plt.show()"
   ]
  },
  {
   "cell_type": "code",
   "execution_count": 46,
   "metadata": {
    "colab": {
     "base_uri": "https://localhost:8080/",
     "height": 390
    },
    "colab_type": "code",
    "id": "hHX3vMTD-Xlw",
    "outputId": "e3a66437-90ab-4487-f047-f974c0aaee20"
   },
   "outputs": [
    {
     "data": {
      "image/png": "[encoded data removed]",
      "text/plain": [
       "<Figure size 576x432 with 1 Axes>"
      ]
     },
     "metadata": {
      "needs_background": "light"
     },
     "output_type": "display_data"
    }
   ],
   "source": [
    "plot_train_history(single_step_history,\n",
    "                   'Single Step Training and validation loss')\n",
    "\n"
   ]
  },
  {
   "cell_type": "code",
   "execution_count": 47,
   "metadata": {
    "colab": {
     "base_uri": "https://localhost:8080/",
     "height": 221
    },
    "colab_type": "code",
    "id": "gSrfxBCMMa1X",
    "outputId": "c1a64553-02b2-4722-e11b-14fdf88fa500"
   },
   "outputs": [
    {
     "name": "stdout",
     "output_type": "stream",
     "text": [
      "Model: \"sequential\"\n",
      "_________________________________________________________________\n",
      "Layer (type)                 Output Shape              Param #   \n",
      "=================================================================\n",
      "lstm (LSTM)                  (None, 20, 32)            4736      \n",
      "_________________________________________________________________\n",
      "lstm_1 (LSTM)                (None, 16)                3136      \n",
      "_________________________________________________________________\n",
      "dense (Dense)                (None, 16)                272       \n",
      "_________________________________________________________________\n",
      "dense_1 (Dense)              (None, 8)                 136       \n",
      "_________________________________________________________________\n",
      "dense_2 (Dense)              (None, 1)                 9         \n",
      "=================================================================\n",
      "Total params: 8,289\n",
      "Trainable params: 8,289\n",
      "Non-trainable params: 0\n",
      "_________________________________________________________________\n"
     ]
    }
   ],
   "source": [
    "#single_step_model.predict(x_val_single, batch_size=20, verbose=0)\n",
    "single_step_model.summary()"
   ]
  },
  {
   "cell_type": "code",
   "execution_count": 48,
   "metadata": {
    "colab": {
     "base_uri": "https://localhost:8080/",
     "height": 68
    },
    "colab_type": "code",
    "id": "FdvkKd2gMxoQ",
    "outputId": "67698b96-8741-4fdc-f38c-c7a3382b26a0"
   },
   "outputs": [
    {
     "name": "stdout",
     "output_type": "stream",
     "text": [
      "0.009331980900263435\n",
      "(75,)\n",
      "[-0.60894428 -0.94309402 -0.46310966 -0.9760438  -0.13165747]\n"
     ]
    }
   ],
   "source": [
    "#print(x_val_single.shape)\n",
    "#print(x_val_single)\n",
    "#print(y.shape)\n",
    "print(data_std[3])\n",
    "time=np.arange(len(dataset),dtype=\"float32\")\n",
    "timev=time[TRAIN_SPLIT:]\n",
    "print(timev.shape)\n",
    "print(dataset[-5:,3])\n"
   ]
  },
  {
   "cell_type": "code",
   "execution_count": 49,
   "metadata": {
    "colab": {
     "base_uri": "https://localhost:8080/",
     "height": 388
    },
    "colab_type": "code",
    "id": "cXQByuOOMzxM",
    "outputId": "a94beb73-b1e4-4061-d884-fc5c70efba88"
   },
   "outputs": [],
   "source": [
    "#forecast = []\n",
    "\n",
    "\n",
    "#for time in range(len(dataset) - past_history):\n",
    "#  forecast.append(single_step_model.predict(dataset[time:time + past_history][np.newaxis]))\n",
    "\n",
    "#forecast = forecast[TRAIN_SPLIT-past_history:]\n",
    "#forecast = forecast[len(dataset)-past_history:]\n",
    "\n",
    "#results = np.array(forecast)[:, 0, 0]\n",
    "#print(results.shape)\n",
    "\n",
    "#val_lapse=len(dataset)-TRAIN_SPLIT\n",
    "#plt.figure(figsize=(10, 6))\n",
    "#original_price=(dataset[-val_lapse:,3]*data_std[3])+data_mean[3] # To plot only Validation time\n",
    "\n",
    "#original_price=(dataset[:,3]*data_std[3])+data_mean[3]\n",
    "#adjusted_pred =(results*data_std[3])+data_mean[3]\n",
    "\n",
    "#time=np.arange(len(dataset),dtype=\"float32\") # Total study Time\n",
    "#timev=time[past_history:] # Prediction time\n",
    "#time_valid = time[TRAIN_SPLIT:]\n",
    "#time_valid = time[split_time:]\n",
    "\n",
    "#plot_series(time, original_price) \n",
    "#plot_series(timev, adjusted_pred)"
   ]
  },
  {
   "cell_type": "code",
   "execution_count": 51,
   "metadata": {},
   "outputs": [
    {
     "ename": "IndexError",
     "evalue": "index 746 is out of bounds for axis 0 with size 746",
     "output_type": "error",
     "traceback": [
      "\u001b[1;31m---------------------------------------------------------------------------\u001b[0m",
      "\u001b[1;31mIndexError\u001b[0m                                Traceback (most recent call last)",
      "\u001b[1;32m<ipython-input-51-18ad82ab40c1>\u001b[0m in \u001b[0;36m<module>\u001b[1;34m\u001b[0m\n\u001b[0;32m     12\u001b[0m   \u001b[0mforecast\u001b[0m\u001b[1;33m.\u001b[0m\u001b[0mappend\u001b[0m\u001b[1;33m(\u001b[0m\u001b[0msingle_step_model\u001b[0m\u001b[1;33m.\u001b[0m\u001b[0mpredict\u001b[0m\u001b[1;33m(\u001b[0m\u001b[0mdataset\u001b[0m\u001b[1;33m[\u001b[0m\u001b[0mtime\u001b[0m\u001b[1;33m:\u001b[0m\u001b[0mtime\u001b[0m \u001b[1;33m+\u001b[0m \u001b[0mpast_history\u001b[0m\u001b[1;33m]\u001b[0m\u001b[1;33m[\u001b[0m\u001b[0mnp\u001b[0m\u001b[1;33m.\u001b[0m\u001b[0mnewaxis\u001b[0m\u001b[1;33m]\u001b[0m\u001b[1;33m)\u001b[0m\u001b[1;33m)\u001b[0m\u001b[1;33m\u001b[0m\u001b[1;33m\u001b[0m\u001b[0m\n\u001b[0;32m     13\u001b[0m   \u001b[0mpred\u001b[0m\u001b[1;33m=\u001b[0m\u001b[0msingle_step_model\u001b[0m\u001b[1;33m.\u001b[0m\u001b[0mpredict\u001b[0m\u001b[1;33m(\u001b[0m\u001b[0mdataset\u001b[0m\u001b[1;33m[\u001b[0m\u001b[0mtime\u001b[0m\u001b[1;33m:\u001b[0m\u001b[0mtime\u001b[0m \u001b[1;33m+\u001b[0m \u001b[0mpast_history\u001b[0m\u001b[1;33m]\u001b[0m\u001b[1;33m[\u001b[0m\u001b[0mnp\u001b[0m\u001b[1;33m.\u001b[0m\u001b[0mnewaxis\u001b[0m\u001b[1;33m]\u001b[0m\u001b[1;33m)\u001b[0m\u001b[1;33m\u001b[0m\u001b[1;33m\u001b[0m\u001b[0m\n\u001b[1;32m---> 14\u001b[1;33m   \u001b[1;32mif\u001b[0m \u001b[0mdataset\u001b[0m\u001b[1;33m[\u001b[0m\u001b[0mtime\u001b[0m\u001b[1;33m+\u001b[0m\u001b[0mpast_history\u001b[0m\u001b[1;33m,\u001b[0m\u001b[1;36m3\u001b[0m\u001b[1;33m]\u001b[0m\u001b[1;33m>\u001b[0m\u001b[0mdataset\u001b[0m\u001b[1;33m[\u001b[0m\u001b[0mtime\u001b[0m\u001b[1;33m+\u001b[0m\u001b[0mpast_history\u001b[0m\u001b[1;33m-\u001b[0m\u001b[1;36m1\u001b[0m\u001b[1;33m,\u001b[0m\u001b[1;36m3\u001b[0m\u001b[1;33m]\u001b[0m\u001b[1;33m:\u001b[0m  \u001b[1;31m# Up real\u001b[0m\u001b[1;33m\u001b[0m\u001b[1;33m\u001b[0m\u001b[0m\n\u001b[0m\u001b[0;32m     15\u001b[0m     \u001b[0mup_real\u001b[0m\u001b[1;33m=\u001b[0m\u001b[0mup_real\u001b[0m\u001b[1;33m+\u001b[0m\u001b[1;36m1\u001b[0m\u001b[1;33m\u001b[0m\u001b[1;33m\u001b[0m\u001b[0m\n\u001b[0;32m     16\u001b[0m     \u001b[1;32mif\u001b[0m \u001b[0mpred\u001b[0m \u001b[1;33m>\u001b[0m \u001b[0mdataset\u001b[0m\u001b[1;33m[\u001b[0m\u001b[0mtime\u001b[0m\u001b[1;33m+\u001b[0m\u001b[0mpast_history\u001b[0m\u001b[1;33m-\u001b[0m\u001b[1;36m1\u001b[0m\u001b[1;33m,\u001b[0m\u001b[1;36m3\u001b[0m\u001b[1;33m]\u001b[0m\u001b[1;33m:\u001b[0m\u001b[1;33m\u001b[0m\u001b[1;33m\u001b[0m\u001b[0m\n",
      "\u001b[1;31mIndexError\u001b[0m: index 746 is out of bounds for axis 0 with size 746"
     ]
    }
   ],
   "source": [
    "forecast = []\n",
    "up_real=0\n",
    "down_real=0\n",
    "up_r_up_pred=0\n",
    "up_r_down_pred=0\n",
    "d_r_up_pred=0\n",
    "d_r_down_pred=0\n",
    "mini_data=22000 # Original dataset len(dataset)\n",
    "pred_ant=1000\n",
    "\n",
    "# for time in range(mini_data-2000,mini_data - past_history):\n",
    "for time in range(740):\n",
    "  forecast.append(single_step_model.predict(dataset[time:time + past_history][np.newaxis]))\n",
    "  pred=single_step_model.predict(dataset[time:time + past_history][np.newaxis])\n",
    "  if dataset[time+past_history,3]>dataset[time+past_history-1,3]:  # Up real\n",
    "    up_real=up_real+1\n",
    "    if pred > dataset[time+past_history-1,3]: \n",
    "      up_r_up_pred=up_r_up_pred+1 # Up Real Prediction Up \n",
    "    else:\n",
    "      up_r_down_pred=up_r_down_pred+1 # Up real Prediction down\n",
    "  else: # Down Real\n",
    "    down_real=down_real+1\n",
    "    if pred < dataset[time+past_history-1,3]: \n",
    "      d_r_down_pred=d_r_down_pred+1 # Down real prediction down\n",
    "    else:\n",
    "      d_r_up_pred=d_r_up_pred+1 # Down Real prediction up\n",
    "\n",
    "#forecast = forecast[TRAIN_SPLIT-past_history:]\n",
    "#forecast = forecast[len(dataset)-past_history:]\n",
    "\n",
    "results = np.array(forecast)[:, 0, 0]\n",
    "#print(results.shape)\n",
    "\n",
    "val_lapse=len(dataset)-TRAIN_SPLIT\n",
    "plt.figure(figsize=(10, 6))\n",
    "#original_price=(dataset[-val_lapse:,3]*data_std[3])+data_mean[3] # To plot only Validation time\n",
    "\n",
    "original_price=(dataset[:,3]*data_std[3])+data_mean[3]\n",
    "adjusted_pred =(results*data_std[3])+data_mean[3]\n",
    "\n",
    "time=np.arange(len(dataset),dtype=\"float32\") # Total study Time\n",
    "timev=time[past_history:] # Prediction time\n",
    "#time_valid = time[TRAIN_SPLIT:]\n",
    "#time_valid = time[split_time:]\n",
    "\n",
    "#plot_series(time, original_price) \n",
    "#plot_series(timev, adjusted_pred)\n",
    "print(\"Up_real:\"+str(up_real))\n",
    "print(\"Down_real:\"+str(down_real))\n",
    "print(\"Up Real Up Prediction:\"+str(up_r_up_pred))\n",
    "print(\"Up Real Down Prediction:\"+str(up_r_down_pred))\n",
    "print(\"Down Real Up Prediction:\" + str(d_r_up_pred))\n",
    "print(\"Down Real Down Prediction:\" + str(d_r_down_pred))\n"
   ]
  },
  {
   "cell_type": "code",
   "execution_count": null,
   "metadata": {},
   "outputs": [],
   "source": [
    "import itertools\n",
    "import numpy as np\n",
    "import matplotlib.pyplot as plt\n",
    "\n",
    "\n",
    "from sklearn import svm, datasets\n",
    "from sklearn.model_selection import train_test_split\n",
    "from sklearn.metrics import confusion_matrix\n",
    "\n",
    "\n",
    "\n",
    "class_names = ['NO Increase', 'Increase']\n",
    "\n",
    "\n",
    "\n",
    "def plot_confusion_matrix(cm, classes, normalize=False, title='Confusion matrix', cmap=plt.cm.Blues):\n",
    "\n",
    "    \"\"\"\n",
    "\n",
    "    This function prints and plots the confusion matrix.\n",
    "\n",
    "    Normalization can be applied by setting `normalize=True`.\n",
    "\n",
    "    \"\"\"\n",
    "\n",
    "    if normalize:\n",
    "        cm = cm.astype('float') / cm.sum(axis=1)[:, np.newaxis]\n",
    "        print(\"Normalized Confusion Matrix\")\n",
    "    else:\n",
    "        print(\"Confusion Matrix without normalization\")\n",
    "\n",
    "    print(cm)\n",
    "\n",
    "    plt.imshow(cm, interpolation='nearest', cmap=cmap)\n",
    "    plt.title(title)\n",
    "    plt.colorbar()\n",
    "    tick_marks = np.arange(len(classes))\n",
    "    plt.xticks(tick_marks, classes, rotation=0)\n",
    "    plt.yticks(tick_marks, classes)\n",
    "    plt.ylim([1.5, -.5])\n",
    "\n",
    "    fmt = '.4f' if normalize else 'd'\n",
    "\n",
    "    thresh = cm.max() - 0.05\n",
    "    #plt.text(j, i, format(cm[i, j], fmt),\n",
    "\n",
    "    for i, j in itertools.product(range(cm.shape[0]), range(cm.shape[1])):\n",
    "        #print (cm[i, j])\n",
    "        plt.text(j, i, format(cm[i, j],fmt),\n",
    "                 horizontalalignment=\"center\",\n",
    "                 fontsize=24, \n",
    "                 color=\"white\" if cm[i, j] > thresh else \"black\")\n",
    "\n",
    "    plt.tight_layout()\n",
    "    plt.ylabel('True label')\n",
    "    plt.xlabel('Predicted label')\n",
    "\n",
    "\n",
    "\n",
    "# Compute confusion matrix\n",
    "\n",
    "train_cnf_matrix = np.array([[2034, 2169], [5492, 6225]]).T\n",
    "eval_cnf_matrix = np.array([[27, 25], [3, 15]]).T\n",
    "np.set_printoptions(precision=2)\n",
    "\n",
    "\n",
    "# Set model for saving purposes\n",
    "\n",
    "model = 'shallow_lstm'\n",
    "\n",
    "\n",
    "\n",
    "# Plot normalized confusion matrix\n",
    "\n",
    "plt.figure()\n",
    "\n",
    "plot_confusion_matrix(train_cnf_matrix, classes=class_names, normalize=True)\n",
    "\n",
    "plt.tight_layout()\n",
    "plt.show()\n",
    "\n",
    "#plt.savefig('gdrive/My Drive/Colab Notebooks/CS230_PROJECT/confusion_matrices/%s_train.png' % model)\n",
    "\n",
    "\n",
    "\n",
    "#plt.figure()\n",
    "\n",
    "#plot_confusion_matrix(eval_cnf_matrix, classes=class_names, normalize=True)\n",
    "\n",
    "#plt.savefig('confusion_matrixes/%s_val.png' % model)"
   ]
  },
  {
   "cell_type": "code",
   "execution_count": null,
   "metadata": {},
   "outputs": [],
   "source": []
  }
 ],
 "metadata": {
  "accelerator": "GPU",
  "colab": {
   "collapsed_sections": [],
   "name": "Shallow_LSTM_5_Features.ipynb",
   "provenance": []
  },
  "kernelspec": {
   "display_name": "Python 3",
   "language": "python",
   "name": "python3"
  },
  "language_info": {
   "codemirror_mode": {
    "name": "ipython",
    "version": 3
   },
   "file_extension": ".py",
   "mimetype": "text/x-python",
   "name": "python",
   "nbconvert_exporter": "python",
   "pygments_lexer": "ipython3",
   "version": "3.6.12"
  }
 },
 "nbformat": 4,
 "nbformat_minor": 4
}
