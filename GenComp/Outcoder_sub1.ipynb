{
 "cells": [
  {
   "cell_type": "code",
   "execution_count": 2,
   "metadata": {
    "id": "3Se8NZbMUQvk"
   },
   "outputs": [],
   "source": [
    "import torch\n",
    "import pandas as pd\n",
    "import numpy as np\n",
    "from tqdm import tqdm\n",
    "import torch.nn as nn\n",
    "import torch.nn.functional as F"
   ]
  },
  {
   "cell_type": "code",
   "execution_count": 3,
   "metadata": {
    "id": "__NY09kLUbO4"
   },
   "outputs": [],
   "source": [
    "train = pd.read_csv(\"train.csv\", header=None, index_col=0)"
   ]
  },
  {
   "cell_type": "code",
   "execution_count": 4,
   "metadata": {},
   "outputs": [],
   "source": [
    "days, PRIOR_N = train.shape"
   ]
  },
  {
   "cell_type": "code",
   "execution_count": 5,
   "metadata": {
    "id": "lHRybLzdViz-"
   },
   "outputs": [],
   "source": [
    "# Define the generator\n",
    "class Generator(nn.Module):\n",
    "    def __init__(self):\n",
    "        super().__init__()\n",
    "\n",
    "        hidden_size = 10\n",
    "        self.fc1 = nn.Linear(PRIOR_N, hidden_size)\n",
    "        self.act1 = nn.ReLU()\n",
    "        self.fc2 = nn.Linear(hidden_size, hidden_size)\n",
    "        self.act2 = nn.ReLU()\n",
    "#         self.fc3 = nn.Linear(hidden_size, hidden_size)\n",
    "#         self.act3 = nn.ReLU()\n",
    "#         self.fc4 = nn.Linear(hidden_size, hidden_size)\n",
    "#         self.act4 = nn.ReLU()\n",
    "#         self.fc5 = nn.Linear(hidden_size, hidden_size)\n",
    "#         self.act5 = nn.ReLU()\n",
    "#         self.fc6 = nn.Linear(hidden_size, hidden_size)\n",
    "#         self.act6 = nn.ReLU()\n",
    "        self.fc7 = nn.Linear(hidden_size, PRIOR_N)\n",
    "    \n",
    "\n",
    "    def __call__(self, z):\n",
    "        z = self.fc1(z)\n",
    "        z = self.act1(z)\n",
    "        z = self.fc2(z)\n",
    "        z = self.act2(z)\n",
    "        #z = self.fc3(z)\n",
    "        #z = self.act3(z)\n",
    "        #z = self.fc4(z)\n",
    "        #z = self.act4(z)\n",
    "        #z = self.fc5(z)\n",
    "        #z = self.act5(z)\n",
    "        #z = self.fc6(z)\n",
    "        #z = self.act6(z)\n",
    "        z = self.fc7(z)\n",
    "        \n",
    "        return z\n",
    "    \n",
    "    def generate(self, batchlen):\n",
    "        z = torch.exp(torch.normal(torch.zeros(batchlen, PRIOR_N), 1.0)).cuda()\n",
    "        return self.__call__(z)\n",
    "    \n",
    "\n",
    "# Define the discriminator\n",
    "class Discriminator(nn.Module):\n",
    "    def __init__(self):\n",
    "        super().__init__()\n",
    "        \n",
    "        hidden_size = 20\n",
    "\n",
    "        self.fc1 = nn.Linear(PRIOR_N, hidden_size)\n",
    "        self.act1 = nn.ReLU()\n",
    "        self.fc2 = nn.Linear(hidden_size, hidden_size)\n",
    "        self.act2 = nn.ReLU()\n",
    "#         self.fc3 = nn.Linear(hidden_size, hidden_size)\n",
    "#         self.act3 = nn.ReLU()\n",
    "#         self.fc4 = nn.Linear(hidden_size, hidden_size)\n",
    "#         self.act4 = nn.ReLU()\n",
    "#         self.fc5 = nn.Linear(hidden_size, hidden_size)\n",
    "#         self.act5 = nn.ReLU()\n",
    "#         self.fc6 = nn.Linear(hidden_size, hidden_size)\n",
    "#         self.act6 = nn.ReLU()\n",
    "        self.fc7 = nn.Linear(hidden_size, 1)\n",
    "        self.sig = nn.Sigmoid()\n",
    "    \n",
    "    def __call__(self, z):\n",
    "        z = self.fc1(z)\n",
    "        z = self.act1(z)\n",
    "        z = self.fc2(z)\n",
    "        z = self.act2(z)\n",
    "        #z = self.fc3(z)\n",
    "        #z = self.act3(z)\n",
    "        #z = self.fc4(z)\n",
    "        #z = self.act4(z)\n",
    "        #z = self.fc5(z)\n",
    "        #z = self.act5(z)\n",
    "        #z = self.fc6(z)\n",
    "        #z = self.act6(z)\n",
    "        z = self.fc7(z)\n",
    "\n",
    "        return self.sig(z)"
   ]
  },
  {
   "cell_type": "code",
   "execution_count": 6,
   "metadata": {},
   "outputs": [
    {
     "data": {
      "text/plain": [
       "array([[-0.1935515 ,  0.34948149,  1.3310458 ,  0.1173281 ],\n",
       "       [ 0.89705516,  0.00406266,  0.83019033, -0.66892304],\n",
       "       [ 0.54149743,  1.80946082,  0.56533794,  0.16378855],\n",
       "       ...,\n",
       "       [-0.46325149, -0.12627962, -0.11412708, -0.32986298],\n",
       "       [-0.62775241,  0.42748476,  1.02287489, -0.98081508],\n",
       "       [ 0.54965307,  0.62580232, -2.62666427,  1.03188316]])"
      ]
     },
     "execution_count": 6,
     "metadata": {},
     "output_type": "execute_result"
    }
   ],
   "source": [
    "np.array(np.random.normal(0, 1, size=(days, PRIOR_N)), dtype=float)"
   ]
  },
  {
   "cell_type": "code",
   "execution_count": 7,
   "metadata": {},
   "outputs": [
    {
     "data": {
      "text/plain": [
       "(array([ 11.,  85., 285., 625., 769., 650., 385., 134.,  34.,   6.]),\n",
       " array([-3.1187442 , -2.44646686, -1.77418952, -1.10191218, -0.42963484,\n",
       "         0.2426425 ,  0.91491985,  1.58719719,  2.25947453,  2.93175187,\n",
       "         3.60402921]),\n",
       " <BarContainer object of 10 artists>)"
      ]
     },
     "execution_count": 7,
     "metadata": {},
     "output_type": "execute_result"
    },
    {
     "data": {
      "image/png": "[encoded data removed]",
      "text/plain": [
       "<Figure size 432x288 with 1 Axes>"
      ]
     },
     "metadata": {
      "needs_background": "light"
     },
     "output_type": "display_data"
    }
   ],
   "source": [
    "import matplotlib.pyplot as plt\n",
    "rands = np.random.normal(0, 1, size=(days, PRIOR_N))\n",
    "nbs, cnts = np.unique(rands, return_counts=True)\n",
    "plt.hist(nbs, bins=10)"
   ]
  },
  {
   "cell_type": "code",
   "execution_count": 8,
   "metadata": {},
   "outputs": [],
   "source": [
    "X = np.asarray(train).astype('float32')\n",
    "N = np.array(np.random.normal(0, 1, size=(days, PRIOR_N)), dtype='float32')\n",
    "\n",
    "X_noised = X + N"
   ]
  },
  {
   "cell_type": "code",
   "execution_count": 9,
   "metadata": {},
   "outputs": [
    {
     "data": {
      "text/plain": [
       "dtype('float32')"
      ]
     },
     "execution_count": 9,
     "metadata": {},
     "output_type": "execute_result"
    }
   ],
   "source": [
    "X_noised.dtype"
   ]
  },
  {
   "cell_type": "code",
   "execution_count": 10,
   "metadata": {},
   "outputs": [
    {
     "data": {
      "text/plain": [
       "array([[1.2495353e-02, 1.1125671e-02, 3.2520459e-03, 6.6249110e-03],\n",
       "       [1.1438864e-02, 2.6905688e-03, 1.2064374e-03, 6.9467197e-03],\n",
       "       [6.3166377e-04, 7.2773956e-03, 4.0486520e-03, 7.4499243e-05],\n",
       "       ...,\n",
       "       [7.6829945e-03, 1.9575863e-03, 7.0022419e-03, 6.4667594e-03],\n",
       "       [3.3955891e-03, 1.2795907e-03, 7.6207384e-03, 1.6800676e-03],\n",
       "       [4.5911991e-03, 6.6749216e-03, 7.5999559e-03, 9.5598651e-03]],\n",
       "      dtype=float32)"
      ]
     },
     "execution_count": 10,
     "metadata": {},
     "output_type": "execute_result"
    }
   ],
   "source": [
    "X"
   ]
  },
  {
   "cell_type": "code",
   "execution_count": 11,
   "metadata": {},
   "outputs": [
    {
     "data": {
      "text/plain": [
       "array([[-1.6678413 , -2.0004854 , -1.0315387 , -0.20384976],\n",
       "       [ 0.36068755,  0.04993603,  0.3071441 ,  0.09561739],\n",
       "       [-0.17740366, -1.093399  ,  0.4131536 , -1.7173914 ],\n",
       "       ...,\n",
       "       [-2.284294  , -2.530899  ,  0.12864897,  0.77014184],\n",
       "       [ 0.69533455,  0.54386586,  0.32643116, -0.74736536],\n",
       "       [ 0.98740184, -0.35532624, -0.07643366,  0.10744943]],\n",
       "      dtype=float32)"
      ]
     },
     "execution_count": 11,
     "metadata": {},
     "output_type": "execute_result"
    }
   ],
   "source": [
    "np.log(np.abs(N))"
   ]
  },
  {
   "cell_type": "code",
   "execution_count": 12,
   "metadata": {
    "colab": {
     "base_uri": "https://localhost:8080/"
    },
    "id": "w6Zl6-6LVyEV",
    "outputId": "76ae8983-d02e-4d8a-ce51-074ff7268122",
    "scrolled": true
   },
   "outputs": [
    {
     "name": "stderr",
     "output_type": "stream",
     "text": [
      "  3%|▎         | 265/8001 [00:06<02:59, 43.08it/s]\n"
     ]
    },
    {
     "ename": "KeyboardInterrupt",
     "evalue": "",
     "output_type": "error",
     "traceback": [
      "\u001b[1;31m---------------------------------------------------------------------------\u001b[0m",
      "\u001b[1;31mKeyboardInterrupt\u001b[0m                         Traceback (most recent call last)",
      "\u001b[1;32m~\\AppData\\Local\\Temp/ipykernel_17316/442238751.py\u001b[0m in \u001b[0;36m<module>\u001b[1;34m\u001b[0m\n\u001b[0;32m     48\u001b[0m         \u001b[1;31m#disc_loss = 0\u001b[0m\u001b[1;33m\u001b[0m\u001b[1;33m\u001b[0m\u001b[1;33m\u001b[0m\u001b[0m\n\u001b[0;32m     49\u001b[0m         \u001b[0mdisc_loss\u001b[0m\u001b[1;33m.\u001b[0m\u001b[0mbackward\u001b[0m\u001b[1;33m(\u001b[0m\u001b[1;33m)\u001b[0m\u001b[1;33m\u001b[0m\u001b[1;33m\u001b[0m\u001b[0m\n\u001b[1;32m---> 50\u001b[1;33m         \u001b[0moptim_disc\u001b[0m\u001b[1;33m.\u001b[0m\u001b[0mstep\u001b[0m\u001b[1;33m(\u001b[0m\u001b[1;33m)\u001b[0m\u001b[1;33m\u001b[0m\u001b[1;33m\u001b[0m\u001b[0m\n\u001b[0m\u001b[0;32m     51\u001b[0m \u001b[1;33m\u001b[0m\u001b[0m\n\u001b[0;32m     52\u001b[0m     \u001b[1;31m# train the generator\u001b[0m\u001b[1;33m\u001b[0m\u001b[1;33m\u001b[0m\u001b[1;33m\u001b[0m\u001b[0m\n",
      "\u001b[1;32mD:\\Users\\dernh\\anaconda3\\envs\\deeplearning\\lib\\site-packages\\torch\\optim\\optimizer.py\u001b[0m in \u001b[0;36mwrapper\u001b[1;34m(*args, **kwargs)\u001b[0m\n\u001b[0;32m     86\u001b[0m                 \u001b[0mprofile_name\u001b[0m \u001b[1;33m=\u001b[0m \u001b[1;34m\"Optimizer.step#{}.step\"\u001b[0m\u001b[1;33m.\u001b[0m\u001b[0mformat\u001b[0m\u001b[1;33m(\u001b[0m\u001b[0mobj\u001b[0m\u001b[1;33m.\u001b[0m\u001b[0m__class__\u001b[0m\u001b[1;33m.\u001b[0m\u001b[0m__name__\u001b[0m\u001b[1;33m)\u001b[0m\u001b[1;33m\u001b[0m\u001b[1;33m\u001b[0m\u001b[0m\n\u001b[0;32m     87\u001b[0m                 \u001b[1;32mwith\u001b[0m \u001b[0mtorch\u001b[0m\u001b[1;33m.\u001b[0m\u001b[0mautograd\u001b[0m\u001b[1;33m.\u001b[0m\u001b[0mprofiler\u001b[0m\u001b[1;33m.\u001b[0m\u001b[0mrecord_function\u001b[0m\u001b[1;33m(\u001b[0m\u001b[0mprofile_name\u001b[0m\u001b[1;33m)\u001b[0m\u001b[1;33m:\u001b[0m\u001b[1;33m\u001b[0m\u001b[1;33m\u001b[0m\u001b[0m\n\u001b[1;32m---> 88\u001b[1;33m                     \u001b[1;32mreturn\u001b[0m \u001b[0mfunc\u001b[0m\u001b[1;33m(\u001b[0m\u001b[1;33m*\u001b[0m\u001b[0margs\u001b[0m\u001b[1;33m,\u001b[0m \u001b[1;33m**\u001b[0m\u001b[0mkwargs\u001b[0m\u001b[1;33m)\u001b[0m\u001b[1;33m\u001b[0m\u001b[1;33m\u001b[0m\u001b[0m\n\u001b[0m\u001b[0;32m     89\u001b[0m             \u001b[1;32mreturn\u001b[0m \u001b[0mwrapper\u001b[0m\u001b[1;33m\u001b[0m\u001b[1;33m\u001b[0m\u001b[0m\n\u001b[0;32m     90\u001b[0m \u001b[1;33m\u001b[0m\u001b[0m\n",
      "\u001b[1;32mD:\\Users\\dernh\\anaconda3\\envs\\deeplearning\\lib\\site-packages\\torch\\autograd\\grad_mode.py\u001b[0m in \u001b[0;36mdecorate_context\u001b[1;34m(*args, **kwargs)\u001b[0m\n\u001b[0;32m     26\u001b[0m         \u001b[1;32mdef\u001b[0m \u001b[0mdecorate_context\u001b[0m\u001b[1;33m(\u001b[0m\u001b[1;33m*\u001b[0m\u001b[0margs\u001b[0m\u001b[1;33m,\u001b[0m \u001b[1;33m**\u001b[0m\u001b[0mkwargs\u001b[0m\u001b[1;33m)\u001b[0m\u001b[1;33m:\u001b[0m\u001b[1;33m\u001b[0m\u001b[1;33m\u001b[0m\u001b[0m\n\u001b[0;32m     27\u001b[0m             \u001b[1;32mwith\u001b[0m \u001b[0mself\u001b[0m\u001b[1;33m.\u001b[0m\u001b[0m__class__\u001b[0m\u001b[1;33m(\u001b[0m\u001b[1;33m)\u001b[0m\u001b[1;33m:\u001b[0m\u001b[1;33m\u001b[0m\u001b[1;33m\u001b[0m\u001b[0m\n\u001b[1;32m---> 28\u001b[1;33m                 \u001b[1;32mreturn\u001b[0m \u001b[0mfunc\u001b[0m\u001b[1;33m(\u001b[0m\u001b[1;33m*\u001b[0m\u001b[0margs\u001b[0m\u001b[1;33m,\u001b[0m \u001b[1;33m**\u001b[0m\u001b[0mkwargs\u001b[0m\u001b[1;33m)\u001b[0m\u001b[1;33m\u001b[0m\u001b[1;33m\u001b[0m\u001b[0m\n\u001b[0m\u001b[0;32m     29\u001b[0m         \u001b[1;32mreturn\u001b[0m \u001b[0mcast\u001b[0m\u001b[1;33m(\u001b[0m\u001b[0mF\u001b[0m\u001b[1;33m,\u001b[0m \u001b[0mdecorate_context\u001b[0m\u001b[1;33m)\u001b[0m\u001b[1;33m\u001b[0m\u001b[1;33m\u001b[0m\u001b[0m\n\u001b[0;32m     30\u001b[0m \u001b[1;33m\u001b[0m\u001b[0m\n",
      "\u001b[1;32mD:\\Users\\dernh\\anaconda3\\envs\\deeplearning\\lib\\site-packages\\torch\\optim\\adam.py\u001b[0m in \u001b[0;36mstep\u001b[1;34m(self, closure)\u001b[0m\n\u001b[0;32m    131\u001b[0m                     \u001b[0mstate_steps\u001b[0m\u001b[1;33m.\u001b[0m\u001b[0mappend\u001b[0m\u001b[1;33m(\u001b[0m\u001b[0mstate\u001b[0m\u001b[1;33m[\u001b[0m\u001b[1;34m'step'\u001b[0m\u001b[1;33m]\u001b[0m\u001b[1;33m)\u001b[0m\u001b[1;33m\u001b[0m\u001b[1;33m\u001b[0m\u001b[0m\n\u001b[0;32m    132\u001b[0m \u001b[1;33m\u001b[0m\u001b[0m\n\u001b[1;32m--> 133\u001b[1;33m             F.adam(params_with_grad,\n\u001b[0m\u001b[0;32m    134\u001b[0m                    \u001b[0mgrads\u001b[0m\u001b[1;33m,\u001b[0m\u001b[1;33m\u001b[0m\u001b[1;33m\u001b[0m\u001b[0m\n\u001b[0;32m    135\u001b[0m                    \u001b[0mexp_avgs\u001b[0m\u001b[1;33m,\u001b[0m\u001b[1;33m\u001b[0m\u001b[1;33m\u001b[0m\u001b[0m\n",
      "\u001b[1;32mD:\\Users\\dernh\\anaconda3\\envs\\deeplearning\\lib\\site-packages\\torch\\optim\\_functional.py\u001b[0m in \u001b[0;36madam\u001b[1;34m(params, grads, exp_avgs, exp_avg_sqs, max_exp_avg_sqs, state_steps, amsgrad, beta1, beta2, lr, weight_decay, eps)\u001b[0m\n\u001b[0;32m     85\u001b[0m         \u001b[1;31m# Decay the first and second moment running average coefficient\u001b[0m\u001b[1;33m\u001b[0m\u001b[1;33m\u001b[0m\u001b[1;33m\u001b[0m\u001b[0m\n\u001b[0;32m     86\u001b[0m         \u001b[0mexp_avg\u001b[0m\u001b[1;33m.\u001b[0m\u001b[0mmul_\u001b[0m\u001b[1;33m(\u001b[0m\u001b[0mbeta1\u001b[0m\u001b[1;33m)\u001b[0m\u001b[1;33m.\u001b[0m\u001b[0madd_\u001b[0m\u001b[1;33m(\u001b[0m\u001b[0mgrad\u001b[0m\u001b[1;33m,\u001b[0m \u001b[0malpha\u001b[0m\u001b[1;33m=\u001b[0m\u001b[1;36m1\u001b[0m \u001b[1;33m-\u001b[0m \u001b[0mbeta1\u001b[0m\u001b[1;33m)\u001b[0m\u001b[1;33m\u001b[0m\u001b[1;33m\u001b[0m\u001b[0m\n\u001b[1;32m---> 87\u001b[1;33m         \u001b[0mexp_avg_sq\u001b[0m\u001b[1;33m.\u001b[0m\u001b[0mmul_\u001b[0m\u001b[1;33m(\u001b[0m\u001b[0mbeta2\u001b[0m\u001b[1;33m)\u001b[0m\u001b[1;33m.\u001b[0m\u001b[0maddcmul_\u001b[0m\u001b[1;33m(\u001b[0m\u001b[0mgrad\u001b[0m\u001b[1;33m,\u001b[0m \u001b[0mgrad\u001b[0m\u001b[1;33m.\u001b[0m\u001b[0mconj\u001b[0m\u001b[1;33m(\u001b[0m\u001b[1;33m)\u001b[0m\u001b[1;33m,\u001b[0m \u001b[0mvalue\u001b[0m\u001b[1;33m=\u001b[0m\u001b[1;36m1\u001b[0m \u001b[1;33m-\u001b[0m \u001b[0mbeta2\u001b[0m\u001b[1;33m)\u001b[0m\u001b[1;33m\u001b[0m\u001b[1;33m\u001b[0m\u001b[0m\n\u001b[0m\u001b[0;32m     88\u001b[0m         \u001b[1;32mif\u001b[0m \u001b[0mamsgrad\u001b[0m\u001b[1;33m:\u001b[0m\u001b[1;33m\u001b[0m\u001b[1;33m\u001b[0m\u001b[0m\n\u001b[0;32m     89\u001b[0m             \u001b[1;31m# Maintains the maximum of all 2nd moment running avg. till now\u001b[0m\u001b[1;33m\u001b[0m\u001b[1;33m\u001b[0m\u001b[1;33m\u001b[0m\u001b[0m\n",
      "\u001b[1;31mKeyboardInterrupt\u001b[0m: "
     ]
    }
   ],
   "source": [
    "# Number of times to train the discriminator between two generator steps\n",
    "TRAIN_RATIO = 4\n",
    "\n",
    "# Total number of training iterations for the generator\n",
    "N_ITER = 8001\n",
    "\n",
    "# Batch size to use\n",
    "\n",
    "\n",
    "generator = Generator().cuda()\n",
    "optim_gen = torch.optim.Adam(generator.parameters(), lr=0.003, betas=(0.5,0.99))\n",
    "#optim_gen = torch.optim.SGD(generator.parameters(), lr=1, momentum=0)\n",
    "#criterion_gen=\n",
    "\n",
    "discriminator = Discriminator().cuda()\n",
    "optim_disc = torch.optim.Adam(discriminator.parameters(), lr=0.003, betas=(0.5,0.99))\n",
    "#optim_disc = torch.optim.SGD(discriminator.parameters(), lr=1, momentum=0)\n",
    "\n",
    "criterion = nn.BCELoss()\n",
    "\n",
    "X = np.asarray(train).astype('float32')\n",
    "N = np.array(np.random.normal(0, 1, size=(days, PRIOR_N)), dtype='float32')\n",
    "\n",
    "X_noised = X + N\n",
    "\n",
    "for i in tqdm(range(N_ITER)):\n",
    "    X_train = torch.from_numpy(X_noised)\n",
    "    BATCHLEN = int(len(X_train)/TRAIN_RATIO)\n",
    "    x_batches = torch.split(X_train, BATCHLEN)\n",
    "    \n",
    "    # train the discriminator\n",
    "    for m in range(TRAIN_RATIO):\n",
    "        discriminator.zero_grad()\n",
    "        real_batch = x_batches[m]\n",
    "        fake_batch = generator.generate(BATCHLEN)\n",
    "\n",
    "        # == COMPUTE THE DISCRIMINATOR LOSS HERE ==\n",
    "        real_disc_prediction = discriminator(real_batch.cuda())\n",
    "        #real_disc_prediction = torch.clamp(real_disc_prediction, min=0.0, max=1.0)\n",
    "        real_loss = criterion(real_disc_prediction, torch.ones((BATCHLEN,1)).cuda())\n",
    "\n",
    "        fake_disc_prediction = discriminator(fake_batch.cuda())\n",
    "        #fake_disc_prediction = torch.clamp(fake_disc_prediction, min=0.0, max=1.0)\n",
    "        fake_loss = criterion(fake_disc_prediction, torch.zeros((BATCHLEN,1)).cuda())\n",
    "\n",
    "        disc_loss = real_loss + fake_loss\n",
    "        \n",
    "        #disc_loss = 0\n",
    "        disc_loss.backward()\n",
    "        optim_disc.step()\n",
    "    \n",
    "    # train the generator\n",
    "    generator.zero_grad()\n",
    "    fake_batch = generator.generate(BATCHLEN)\n",
    "\n",
    "    # == COMPUTE THE GENERATOR LOSS HERE\n",
    "    disc_pred = discriminator(fake_batch.cuda())\n",
    "    #disc_pred = torch.clamp(disc_pred, min=0.0, max=1.0)\n",
    "    gen_loss = criterion(disc_pred, torch.ones((BATCHLEN,1)).cuda())\n",
    "    gen_loss.backward()\n",
    "    optim_gen.step()\n",
    "\n",
    "    if i%1000 == 999:\n",
    "        print('step {}: discriminator: {:.3e}, generator: {:.3e}'.format(i, float(disc_loss), float(gen_loss)))\n",
    "        print(sum(real_disc_prediction))\n",
    "        print(sum(fake_disc_prediction))"
   ]
  },
  {
   "cell_type": "code",
   "execution_count": null,
   "metadata": {
    "id": "bNsbetygZLbg"
   },
   "outputs": [],
   "source": [
    "generated_data = generator.generate(410)"
   ]
  },
  {
   "cell_type": "code",
   "execution_count": 12,
   "metadata": {},
   "outputs": [
    {
     "data": {
      "text/plain": [
       "array([-2.5737429, -2.011585 , -2.958512 , -2.2993953], dtype=float32)"
      ]
     },
     "execution_count": 12,
     "metadata": {},
     "output_type": "execute_result"
    }
   ],
   "source": [
    "np.min(generated_data.cpu().detach().numpy(), axis=0)"
   ]
  },
  {
   "cell_type": "code",
   "execution_count": 13,
   "metadata": {
    "id": "vU-P_mmmd1jX"
   },
   "outputs": [],
   "source": [
    "gen_df = pd.DataFrame(torch.abs(generated_data).cpu().detach().numpy())"
   ]
  },
  {
   "cell_type": "code",
   "execution_count": 14,
   "metadata": {
    "colab": {
     "base_uri": "https://localhost:8080/"
    },
    "id": "h0FdqIXFegW8",
    "outputId": "86039d46-5b04-4cab-e23e-9eea7067f047"
   },
   "outputs": [
    {
     "data": {
      "text/plain": [
       "(                1           2           3           4\n",
       " count  746.000000  746.000000  746.000000  746.000000\n",
       " mean     0.013144    0.012822    0.009366    0.010788\n",
       " std      0.011914    0.011712    0.009283    0.009338\n",
       " min      0.000012    0.000057    0.000014    0.000067\n",
       " 25%      0.004761    0.003878    0.003202    0.004226\n",
       " 50%      0.010030    0.009423    0.006641    0.008508\n",
       " 75%      0.017771    0.017810    0.012354    0.014221\n",
       " max      0.098709    0.088502    0.072016    0.074291,\n",
       "                 0           1           2           3\n",
       " count  410.000000  410.000000  410.000000  410.000000\n",
       " mean     0.637153    0.664195    0.781714    0.771321\n",
       " std      0.483362    0.489307    0.567414    0.561323\n",
       " min      0.002476    0.000427    0.003734    0.004256\n",
       " 25%      0.268854    0.265015    0.320140    0.316488\n",
       " 50%      0.525828    0.552923    0.697616    0.665720\n",
       " 75%      0.877810    1.001497    1.113350    1.067700\n",
       " max      2.573743    2.650641    2.958512    2.574780)"
      ]
     },
     "execution_count": 14,
     "metadata": {},
     "output_type": "execute_result"
    }
   ],
   "source": [
    "train.describe(), gen_df.describe()"
   ]
  },
  {
   "cell_type": "code",
   "execution_count": 15,
   "metadata": {
    "id": "YnjpJjpCvEXg"
   },
   "outputs": [
    {
     "name": "stdout",
     "output_type": "stream",
     "text": [
      "absl-py @ file:///C:/ci/absl-py_1623867339542/work\n",
      "aiohttp @ file:///C:/ci/aiohttp_1632750093640/work\n",
      "argon2-cffi @ file:///C:/ci/argon2-cffi_1613037959010/work\n",
      "astor==0.8.1\n",
      "astunparse==1.6.3\n",
      "async-generator @ file:///home/ktietz/src/ci/async_generator_1611927993394/work\n",
      "async-timeout==3.0.1\n",
      "attrs @ file:///tmp/build/80754af9/attrs_1620827162558/work\n",
      "backcall @ file:///home/ktietz/src/ci/backcall_1611930011877/work\n",
      "bleach @ file:///tmp/build/80754af9/bleach_1628110601003/work\n",
      "blinker==1.4\n",
      "Bottleneck==1.3.2\n",
      "brotlipy==0.7.0\n",
      "cachetools @ file:///tmp/build/80754af9/cachetools_1619597386817/work\n",
      "certifi==2021.10.8\n",
      "cffi @ file:///C:/ci/cffi_1625831749120/work\n",
      "chardet @ file:///C:/ci/chardet_1607690654534/work\n",
      "charset-normalizer @ file:///tmp/build/80754af9/charset-normalizer_1630003229654/work\n",
      "click==8.0.3\n",
      "colorama @ file:///tmp/build/80754af9/colorama_1607707115595/work\n",
      "coverage @ file:///C:/ci/coverage_1614615074147/work\n",
      "cryptography @ file:///C:/ci/cryptography_1633520552480/work\n",
      "cycler==0.10.0\n",
      "Cython @ file:///C:/ci/cython_1636036427608/work\n",
      "debugpy @ file:///C:/ci/debugpy_1629222854708/work\n",
      "decorator @ file:///tmp/build/80754af9/decorator_1632776554403/work\n",
      "defusedxml @ file:///tmp/build/80754af9/defusedxml_1615228127516/work\n",
      "entrypoints==0.3\n",
      "fonttools==4.25.0\n",
      "gast @ file:///tmp/build/80754af9/gast_1597433534803/work\n",
      "google-auth @ file:///tmp/build/80754af9/google-auth_1626320605116/work\n",
      "google-auth-oauthlib==0.4.1\n",
      "google-pasta @ file:///Users/ktietz/demo/mc3/conda-bld/google-pasta_1630577991354/work\n",
      "grpcio @ file:///C:/ci/grpcio_1614884412260/work\n",
      "h5py==2.10.0\n",
      "idna @ file:///tmp/build/80754af9/idna_1622654382723/work\n",
      "importlib-metadata @ file:///C:/ci/importlib-metadata_1631916848487/work\n",
      "ipykernel @ file:///C:/ci/ipykernel_1633545574250/work/dist/ipykernel-6.4.1-py3-none-any.whl\n",
      "ipython @ file:///C:/ci/ipython_1635944310712/work\n",
      "ipython-genutils @ file:///tmp/build/80754af9/ipython_genutils_1606773439826/work\n",
      "jedi @ file:///C:/ci/jedi_1611315808330/work\n",
      "Jinja2 @ file:///tmp/build/80754af9/jinja2_1635780242639/work\n",
      "jsonschema @ file:///Users/ktietz/demo/mc3/conda-bld/jsonschema_1630511932244/work\n",
      "jupyter-client @ file:///tmp/build/80754af9/jupyter_client_1630690655192/work\n",
      "jupyter-core @ file:///C:/ci/jupyter_core_1633420665940/work\n",
      "jupyterlab-pygments @ file:///tmp/build/80754af9/jupyterlab_pygments_1601490720602/work\n",
      "Keras-Applications @ file:///tmp/build/80754af9/keras-applications_1594366238411/work\n",
      "Keras-Preprocessing @ file:///tmp/build/80754af9/keras-preprocessing_1612283640596/work\n",
      "kiwisolver @ file:///C:/ci/kiwisolver_1612282606037/work\n",
      "Markdown @ file:///C:/ci/markdown_1614364121613/work\n",
      "MarkupSafe @ file:///C:/ci/markupsafe_1621528314575/work\n",
      "matplotlib @ file:///C:/ci/matplotlib-suite_1634667159685/work\n",
      "matplotlib-inline @ file:///tmp/build/80754af9/matplotlib-inline_1628242447089/work\n",
      "mistune==0.8.4\n",
      "mkl-fft==1.3.1\n",
      "mkl-random @ file:///C:/ci/mkl_random_1626186184278/work\n",
      "mkl-service==2.4.0\n",
      "multidict @ file:///C:/ci/multidict_1607362065515/work\n",
      "munkres==1.1.4\n",
      "nbclient @ file:///tmp/build/80754af9/nbclient_1614364831625/work\n",
      "nbconvert @ file:///C:/ci/nbconvert_1624479163777/work\n",
      "nbformat @ file:///tmp/build/80754af9/nbformat_1617383369282/work\n",
      "nest-asyncio @ file:///tmp/build/80754af9/nest-asyncio_1613680548246/work\n",
      "notebook @ file:///C:/ci/notebook_1635411854770/work\n",
      "numexpr @ file:///C:/ci/numexpr_1618856738664/work\n",
      "numpy @ file:///C:/ci/numpy_and_numpy_base_1634106873763/work\n",
      "oauthlib @ file:///tmp/build/80754af9/oauthlib_1623060228408/work\n",
      "olefile @ file:///Users/ktietz/demo/mc3/conda-bld/olefile_1629805411829/work\n",
      "opt-einsum @ file:///tmp/build/80754af9/opt_einsum_1621500238896/work\n",
      "packaging @ file:///tmp/build/80754af9/packaging_1625611678980/work\n",
      "pandas @ file:///C:/ci/pandas_1635488579061/work\n",
      "pandocfilters @ file:///C:/ci/pandocfilters_1605102497129/work\n",
      "parso @ file:///tmp/build/80754af9/parso_1617223946239/work\n",
      "pickleshare @ file:///tmp/build/80754af9/pickleshare_1606932040724/work\n",
      "Pillow==8.4.0\n",
      "prometheus-client @ file:///tmp/build/80754af9/prometheus_client_1623189609245/work\n",
      "prompt-toolkit @ file:///tmp/build/80754af9/prompt-toolkit_1633440160888/work\n",
      "protobuf==3.17.2\n",
      "pyasn1 @ file:///Users/ktietz/demo/mc3/conda-bld/pyasn1_1629708007385/work\n",
      "pyasn1-modules==0.2.8\n",
      "pycparser @ file:///tmp/build/80754af9/pycparser_1594388511720/work\n",
      "Pygments @ file:///tmp/build/80754af9/pygments_1629234116488/work\n",
      "PyJWT @ file:///C:/ci/pyjwt_1619651841937/work\n",
      "pyOpenSSL @ file:///tmp/build/80754af9/pyopenssl_1635333100036/work\n",
      "pyparsing @ file:///tmp/build/80754af9/pyparsing_1635766073266/work\n",
      "pyreadline==2.1\n",
      "pyrsistent @ file:///C:/ci/pyrsistent_1600141795814/work\n",
      "PySocks @ file:///C:/ci/pysocks_1605287845585/work\n",
      "python-dateutil @ file:///tmp/build/80754af9/python-dateutil_1626374649649/work\n",
      "pytz==2021.3\n",
      "pywin32==228\n",
      "pywinpty==0.5.7\n",
      "pyzmq @ file:///C:/ci/pyzmq_1628276144921/work\n",
      "requests @ file:///tmp/build/80754af9/requests_1629994808627/work\n",
      "requests-oauthlib==1.3.0\n",
      "rsa @ file:///tmp/build/80754af9/rsa_1614366226499/work\n",
      "scipy @ file:///C:/ci/scipy_1630606942584/work\n",
      "Send2Trash @ file:///tmp/build/80754af9/send2trash_1632406701022/work\n",
      "sip==4.19.13\n",
      "six @ file:///tmp/build/80754af9/six_1623709665295/work\n",
      "tensorboard @ file:///tmp/build/80754af9/tensorboard_1633093581375/work/tensorboard-2.6.0-py3-none-any.whl\n",
      "tensorboard-data-server @ file:///C:/ci/tensorboard-data-server_1633035228378/work/tensorboard_data_server-0.6.0-py3-none-any.whl\n",
      "tensorboard-plugin-wit==1.6.0\n",
      "tensorflow==2.3.0\n",
      "tensorflow-estimator @ file:///home/builder/adipietro/tf/tensorflow-estimator_1630508970172/work/tensorflow_estimator-2.6.0-py2.py3-none-any.whl\n",
      "termcolor==1.1.0\n",
      "terminado==0.9.4\n",
      "testpath @ file:///tmp/build/80754af9/testpath_1624638946665/work\n",
      "torch==1.10.0\n",
      "torchaudio==0.10.0\n",
      "torchvision==0.11.1\n",
      "tornado @ file:///C:/ci/tornado_1606942392901/work\n",
      "tqdm @ file:///tmp/build/80754af9/tqdm_1635330843403/work\n",
      "traitlets @ file:///tmp/build/80754af9/traitlets_1632522747050/work\n",
      "typing-extensions @ file:///tmp/build/80754af9/typing_extensions_1631814937681/work\n",
      "urllib3==1.26.7\n",
      "wcwidth @ file:///Users/ktietz/demo/mc3/conda-bld/wcwidth_1629357192024/work\n",
      "webencodings==0.5.1\n",
      "Werkzeug @ file:///tmp/build/80754af9/werkzeug_1635505089296/work\n",
      "win-inet-pton @ file:///C:/ci/win_inet_pton_1605306167264/work\n",
      "wincertstore==0.2\n",
      "wrapt==1.12.1\n",
      "yarl @ file:///C:/ci/yarl_1606940076464/work\n",
      "zipp @ file:///tmp/build/80754af9/zipp_1633618647012/work\n"
     ]
    }
   ],
   "source": [
    "!pip freeze"
   ]
  },
  {
   "cell_type": "code",
   "execution_count": null,
   "metadata": {},
   "outputs": [],
   "source": [
    "! pip "
   ]
  }
 ],
 "metadata": {
  "accelerator": "GPU",
  "colab": {
   "name": "Outcoder_sub1.ipynb",
   "provenance": []
  },
  "kernelspec": {
   "display_name": "Python 3 (ipykernel)",
   "language": "python",
   "name": "python3"
  },
  "language_info": {
   "codemirror_mode": {
    "name": "ipython",
    "version": 3
   },
   "file_extension": ".py",
   "mimetype": "text/x-python",
   "name": "python",
   "nbconvert_exporter": "python",
   "pygments_lexer": "ipython3",
   "version": "3.8.12"
  }
 },
 "nbformat": 4,
 "nbformat_minor": 4
}
