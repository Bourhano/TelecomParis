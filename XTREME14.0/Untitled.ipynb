{
 "cells": [
  {
   "cell_type": "code",
   "execution_count": null,
   "metadata": {},
   "outputs": [],
   "source": [
    "def parser():\n",
    "    while 1:\n",
    "        data = list(input().split(' '))\n",
    "        for number in data:\n",
    "            if len(number) > 0:\n",
    "                yield(number)   \n",
    "\n",
    "input_parser = parser()\n",
    "\n",
    "def get_word():\n",
    "    global input_parser\n",
    "    return next(input_parser)\n",
    "\n",
    "def get_number():\n",
    "    data = get_word()\n",
    "    try:\n",
    "        return int(data)\n",
    "    except ValueError:\n",
    "        return float(data)\n",
    "\n",
    "import numpy as np\n",
    "\n",
    "rule = input().split(\";\")\n",
    "N  = get_number()\n",
    "M = get_number()\n",
    "\n",
    "grid=np.zeros((N,N), dtype=int)\n",
    "for i in range(N):\n",
    "    n = input()\n",
    "    j=-1\n",
    "    for c in n:\n",
    "        j+=1\n",
    "        if c == \"1\":\n",
    "            grid[i, j] = 1;\n",
    "newGrid = grid.copy()\n",
    "while(M>0):\n",
    "    M-=1\n",
    "    for i in range(N):\n",
    "        for j in range(N):\n",
    "            total = int((grid[i, (j-1)%N] + grid[i, (j+1)%N] +grid[(i-1)%N, j]+ grid[(i+1)%N, j]))\n",
    "            if grid[i, j] == 1:\n",
    "                if rule[0][4-total] == \"1\" :\n",
    "                    newGrid[i, j] = 0\n",
    "            elif grid[i, j] == 0:\n",
    "                if rule[1][total] == \"1\":\n",
    "                    newGrid[i, j] = 1\n",
    "    grid = newGrid.copy()\n",
    "for row in grid:\n",
    "    for j in range(N):\n",
    "        if j == N-1:\n",
    "            print(row[j])\n",
    "        else:\n",
    "            print(row[j], end = '')"
   ]
  },
  {
   "cell_type": "code",
   "execution_count": null,
   "metadata": {},
   "outputs": [],
   "source": []
  },
  {
   "cell_type": "code",
   "execution_count": null,
   "metadata": {},
   "outputs": [],
   "source": []
  }
 ],
 "metadata": {
  "kernelspec": {
   "display_name": "Python 3",
   "language": "python",
   "name": "python3"
  },
  "language_info": {
   "codemirror_mode": {
    "name": "ipython",
    "version": 3
   },
   "file_extension": ".py",
   "mimetype": "text/x-python",
   "name": "python",
   "nbconvert_exporter": "python",
   "pygments_lexer": "ipython3",
   "version": "3.6.4"
  }
 },
 "nbformat": 4,
 "nbformat_minor": 2
}
