{
 "cells": [
  {
   "cell_type": "markdown",
   "metadata": {},
   "source": [
    "# TP2 - Linear Regression\n",
    "___"
   ]
  },
  {
   "cell_type": "markdown",
   "metadata": {},
   "source": [
    "##### File naming"
   ]
  },
  {
   "cell_type": "code",
   "execution_count": 11,
   "metadata": {},
   "outputs": [
    {
     "name": "stdout",
     "output_type": "stream",
     "text": [
      "sd-tsia204_lab2_dernayka_bourhan.ipynb\n"
     ]
    }
   ],
   "source": [
    "fn1 = \"bourhan\"\n",
    "ln1 = \"dernayka\"\n",
    "filename = \"_\".join(map(lambda s: s.strip().lower(), [\"SD-TSIA204_lab2\", ln1, fn1])) + \".ipynb\"\n",
    "print(filename)"
   ]
  },
  {
   "cell_type": "markdown",
   "metadata": {},
   "source": [
    "___\n",
    "### 1- Process the data"
   ]
  },
  {
   "cell_type": "code",
   "execution_count": 147,
   "metadata": {},
   "outputs": [],
   "source": [
    "import numpy as np\n",
    "import pandas as pd\n",
    "\n",
    "from sklearn.model_selection import train_test_split\n",
    "from sklearn import linear_model\n",
    "from sklearn.preprocessing import StandardScaler\n",
    "\n",
    "import matplotlib.pyplot as plt\n",
    "import seaborn as sns\n",
    "sns.set(font_scale=1, style=\"whitegrid\")"
   ]
  },
  {
   "cell_type": "code",
   "execution_count": 55,
   "metadata": {},
   "outputs": [
    {
     "data": {
      "text/html": [
       "<div>\n",
       "<style scoped>\n",
       "    .dataframe tbody tr th:only-of-type {\n",
       "        vertical-align: middle;\n",
       "    }\n",
       "\n",
       "    .dataframe tbody tr th {\n",
       "        vertical-align: top;\n",
       "    }\n",
       "\n",
       "    .dataframe thead th {\n",
       "        text-align: right;\n",
       "    }\n",
       "</style>\n",
       "<table border=\"1\" class=\"dataframe\">\n",
       "  <thead>\n",
       "    <tr style=\"text-align: right;\">\n",
       "      <th></th>\n",
       "      <th>X76</th>\n",
       "      <th>X95</th>\n",
       "      <th>X52</th>\n",
       "      <th>X36</th>\n",
       "      <th>X74</th>\n",
       "      <th>X69</th>\n",
       "      <th>X23</th>\n",
       "      <th>X27</th>\n",
       "      <th>X19</th>\n",
       "      <th>X39</th>\n",
       "      <th>...</th>\n",
       "      <th>X45</th>\n",
       "      <th>X67</th>\n",
       "      <th>X16</th>\n",
       "      <th>X37</th>\n",
       "      <th>X56</th>\n",
       "      <th>X35</th>\n",
       "      <th>X87</th>\n",
       "      <th>X89</th>\n",
       "      <th>X96</th>\n",
       "      <th>Y</th>\n",
       "    </tr>\n",
       "  </thead>\n",
       "  <tbody>\n",
       "    <tr>\n",
       "      <th>0</th>\n",
       "      <td>-0.208298</td>\n",
       "      <td>0.793446</td>\n",
       "      <td>-0.200865</td>\n",
       "      <td>-0.005766</td>\n",
       "      <td>-0.336092</td>\n",
       "      <td>0.037238</td>\n",
       "      <td>0.148319</td>\n",
       "      <td>-1.423624</td>\n",
       "      <td>-0.411594</td>\n",
       "      <td>0.541975</td>\n",
       "      <td>...</td>\n",
       "      <td>-0.216825</td>\n",
       "      <td>0.552672</td>\n",
       "      <td>0.499400</td>\n",
       "      <td>0.134669</td>\n",
       "      <td>-1.639742</td>\n",
       "      <td>-0.004640</td>\n",
       "      <td>-0.635006</td>\n",
       "      <td>-0.758949</td>\n",
       "      <td>0.488324</td>\n",
       "      <td>24.0</td>\n",
       "    </tr>\n",
       "    <tr>\n",
       "      <th>1</th>\n",
       "      <td>-0.221028</td>\n",
       "      <td>-0.363311</td>\n",
       "      <td>-0.631604</td>\n",
       "      <td>1.152664</td>\n",
       "      <td>-0.532182</td>\n",
       "      <td>1.176513</td>\n",
       "      <td>-0.100142</td>\n",
       "      <td>1.170051</td>\n",
       "      <td>0.360931</td>\n",
       "      <td>0.593115</td>\n",
       "      <td>...</td>\n",
       "      <td>0.571930</td>\n",
       "      <td>-0.186832</td>\n",
       "      <td>-0.238081</td>\n",
       "      <td>1.404931</td>\n",
       "      <td>0.489104</td>\n",
       "      <td>0.248675</td>\n",
       "      <td>0.361039</td>\n",
       "      <td>0.435418</td>\n",
       "      <td>-1.324025</td>\n",
       "      <td>21.6</td>\n",
       "    </tr>\n",
       "    <tr>\n",
       "      <th>2</th>\n",
       "      <td>-1.059124</td>\n",
       "      <td>-0.777557</td>\n",
       "      <td>-0.172609</td>\n",
       "      <td>0.767116</td>\n",
       "      <td>0.141027</td>\n",
       "      <td>0.677921</td>\n",
       "      <td>0.820292</td>\n",
       "      <td>-0.255193</td>\n",
       "      <td>0.691621</td>\n",
       "      <td>0.254366</td>\n",
       "      <td>...</td>\n",
       "      <td>-0.643929</td>\n",
       "      <td>-0.543850</td>\n",
       "      <td>-0.478493</td>\n",
       "      <td>-0.386637</td>\n",
       "      <td>0.175114</td>\n",
       "      <td>-0.658092</td>\n",
       "      <td>-0.338583</td>\n",
       "      <td>-0.177981</td>\n",
       "      <td>-0.050339</td>\n",
       "      <td>34.7</td>\n",
       "    </tr>\n",
       "    <tr>\n",
       "      <th>3</th>\n",
       "      <td>1.133450</td>\n",
       "      <td>-0.790638</td>\n",
       "      <td>-0.586627</td>\n",
       "      <td>0.942378</td>\n",
       "      <td>0.283674</td>\n",
       "      <td>-0.577118</td>\n",
       "      <td>-0.145977</td>\n",
       "      <td>-0.263209</td>\n",
       "      <td>1.435926</td>\n",
       "      <td>-0.750034</td>\n",
       "      <td>...</td>\n",
       "      <td>0.719154</td>\n",
       "      <td>0.056236</td>\n",
       "      <td>-0.495367</td>\n",
       "      <td>0.204324</td>\n",
       "      <td>-1.078683</td>\n",
       "      <td>0.640999</td>\n",
       "      <td>-0.921276</td>\n",
       "      <td>-0.602238</td>\n",
       "      <td>0.421393</td>\n",
       "      <td>33.4</td>\n",
       "    </tr>\n",
       "    <tr>\n",
       "      <th>4</th>\n",
       "      <td>0.908181</td>\n",
       "      <td>-0.913293</td>\n",
       "      <td>0.362265</td>\n",
       "      <td>-0.437131</td>\n",
       "      <td>0.514517</td>\n",
       "      <td>-1.625222</td>\n",
       "      <td>1.019997</td>\n",
       "      <td>-0.422887</td>\n",
       "      <td>0.140903</td>\n",
       "      <td>-0.073760</td>\n",
       "      <td>...</td>\n",
       "      <td>1.026587</td>\n",
       "      <td>-0.230706</td>\n",
       "      <td>0.151710</td>\n",
       "      <td>-0.638937</td>\n",
       "      <td>0.072631</td>\n",
       "      <td>-0.517829</td>\n",
       "      <td>-1.028707</td>\n",
       "      <td>0.465484</td>\n",
       "      <td>0.351005</td>\n",
       "      <td>36.2</td>\n",
       "    </tr>\n",
       "  </tbody>\n",
       "</table>\n",
       "<p>5 rows × 101 columns</p>\n",
       "</div>"
      ],
      "text/plain": [
       "        X76       X95       X52       X36       X74       X69       X23  \\\n",
       "0 -0.208298  0.793446 -0.200865 -0.005766 -0.336092  0.037238  0.148319   \n",
       "1 -0.221028 -0.363311 -0.631604  1.152664 -0.532182  1.176513 -0.100142   \n",
       "2 -1.059124 -0.777557 -0.172609  0.767116  0.141027  0.677921  0.820292   \n",
       "3  1.133450 -0.790638 -0.586627  0.942378  0.283674 -0.577118 -0.145977   \n",
       "4  0.908181 -0.913293  0.362265 -0.437131  0.514517 -1.625222  1.019997   \n",
       "\n",
       "        X27       X19       X39  ...       X45       X67       X16       X37  \\\n",
       "0 -1.423624 -0.411594  0.541975  ... -0.216825  0.552672  0.499400  0.134669   \n",
       "1  1.170051  0.360931  0.593115  ...  0.571930 -0.186832 -0.238081  1.404931   \n",
       "2 -0.255193  0.691621  0.254366  ... -0.643929 -0.543850 -0.478493 -0.386637   \n",
       "3 -0.263209  1.435926 -0.750034  ...  0.719154  0.056236 -0.495367  0.204324   \n",
       "4 -0.422887  0.140903 -0.073760  ...  1.026587 -0.230706  0.151710 -0.638937   \n",
       "\n",
       "        X56       X35       X87       X89       X96     Y  \n",
       "0 -1.639742 -0.004640 -0.635006 -0.758949  0.488324  24.0  \n",
       "1  0.489104  0.248675  0.361039  0.435418 -1.324025  21.6  \n",
       "2  0.175114 -0.658092 -0.338583 -0.177981 -0.050339  34.7  \n",
       "3 -1.078683  0.640999 -0.921276 -0.602238  0.421393  33.4  \n",
       "4  0.072631 -0.517829 -1.028707  0.465484  0.351005  36.2  \n",
       "\n",
       "[5 rows x 101 columns]"
      ]
     },
     "execution_count": 55,
     "metadata": {},
     "output_type": "execute_result"
    }
   ],
   "source": [
    "\n",
    "data = pd.read_csv(\"data_tp_2.csv\", usecols= all)\n",
    "data.head()"
   ]
  },
  {
   "cell_type": "code",
   "execution_count": 79,
   "metadata": {},
   "outputs": [
    {
     "data": {
      "image/png": "[encoded data removed]",
      "text/plain": [
       "<Figure size 432x288 with 1 Axes>"
      ]
     },
     "metadata": {},
     "output_type": "display_data"
    }
   ],
   "source": [
    "plot = plt.plot(data.median())"
   ]
  },
  {
   "cell_type": "code",
   "execution_count": 44,
   "metadata": {},
   "outputs": [
    {
     "data": {
      "image/png": "[encoded data removed]",
      "text/plain": [
       "<Figure size 432x288 with 1 Axes>"
      ]
     },
     "metadata": {},
     "output_type": "display_data"
    }
   ],
   "source": [
    "plot = plt.plot(data.std())"
   ]
  },
  {
   "cell_type": "code",
   "execution_count": 108,
   "metadata": {},
   "outputs": [
    {
     "data": {
      "text/plain": [
       "91"
      ]
     },
     "execution_count": 108,
     "metadata": {},
     "output_type": "execute_result"
    }
   ],
   "source": [
    "sum(data.median()<1)"
   ]
  },
  {
   "cell_type": "code",
   "execution_count": 113,
   "metadata": {},
   "outputs": [
    {
     "data": {
      "text/plain": [
       "90"
      ]
     },
     "execution_count": 113,
     "metadata": {},
     "output_type": "execute_result"
    }
   ],
   "source": [
    "sum(data.std()<1)"
   ]
  },
  {
   "cell_type": "markdown",
   "metadata": {},
   "source": [
    "    We note that most of the data is close to being centered, 91 covariates have a mean lesser than 1.\n",
    "    Also, 90 covariates have standard deviations of less than 1.\n",
    "    The data is not centered, normalized or standardized."
   ]
  },
  {
   "cell_type": "code",
   "execution_count": 120,
   "metadata": {},
   "outputs": [],
   "source": [
    "X = data.iloc[:,:-1]\n",
    "X_matrix = X.to_numpy()\n",
    "y = data.iloc[:,-1]\n",
    "y_matrix = Y.to_numpy()"
   ]
  },
  {
   "cell_type": "markdown",
   "metadata": {},
   "source": [
    "    We split the data into train and test sets, one fourth of the data is for testing.\n",
    "    \n",
    "    Note: removing the random_state parameter will generate different data partition on each run. Howeer I opt to keep the same data partition throughout this study."
   ]
  },
  {
   "cell_type": "code",
   "execution_count": 188,
   "metadata": {},
   "outputs": [],
   "source": [
    "X_train, X_test, y_train, y_test = train_test_split(X, y, test_size = 0.25, random_state=7)"
   ]
  },
  {
   "cell_type": "markdown",
   "metadata": {},
   "source": [
    "    We standarize our data using the StandardScaler() method fit_transform"
   ]
  },
  {
   "cell_type": "code",
   "execution_count": 299,
   "metadata": {},
   "outputs": [],
   "source": [
    "X_train_matrix_fitted = StandardScaler().fit_transform(X_train)\n",
    "X_test_matrix_fitted  = StandardScaler().fit_transform(X_test)"
   ]
  },
  {
   "cell_type": "markdown",
   "metadata": {},
   "source": [
    "    In fact this is equivalent to doing it by hand: (small error difference comparing to the fit_transform method)"
   ]
  },
  {
   "cell_type": "code",
   "execution_count": 300,
   "metadata": {},
   "outputs": [],
   "source": [
    "X_train_fitted = (X_train-X_train.mean())/X_train.std()\n",
    "X_test_fitted  = (X_test-X_test.mean())/X_test.std()  "
   ]
  },
  {
   "cell_type": "code",
   "execution_count": 301,
   "metadata": {},
   "outputs": [
    {
     "data": {
      "text/plain": [
       "array([[-1.11022302e-15, -2.77555756e-16, -4.71844785e-16, ...,\n",
       "        -4.44089210e-16, -2.22044605e-16, -6.10622664e-16],\n",
       "       [-1.11022302e-15, -2.63677968e-16,  8.88178420e-16, ...,\n",
       "        -3.33066907e-16, -2.22044605e-16, -2.22044605e-16],\n",
       "       [-1.66533454e-16, -2.77555756e-16,  1.11022302e-16, ...,\n",
       "        -3.33066907e-16, -4.44089210e-16, -8.88178420e-16],\n",
       "       ...,\n",
       "       [-1.55431223e-15, -2.22044605e-16, -1.33226763e-15, ...,\n",
       "        -3.33066907e-16, -3.66026653e-16, -1.11022302e-15],\n",
       "       [-8.88178420e-16, -3.33066907e-16,  4.44089210e-16, ...,\n",
       "        -2.22044605e-16, -3.33066907e-16, -1.77635684e-15],\n",
       "       [-1.33226763e-15, -2.77555756e-16, -9.99200722e-16, ...,\n",
       "        -2.22044605e-16, -2.22044605e-16,  1.55431223e-15]])"
      ]
     },
     "execution_count": 301,
     "metadata": {},
     "output_type": "execute_result"
    }
   ],
   "source": [
    "X_train_fitted-X_train_matrix_fitted"
   ]
  },
  {
   "cell_type": "code",
   "execution_count": 244,
   "metadata": {},
   "outputs": [
    {
     "data": {
      "image/png": "[encoded data removed]",
      "text/plain": [
       "<Figure size 1080x720 with 1 Axes>"
      ]
     },
     "metadata": {},
     "output_type": "display_data"
    }
   ],
   "source": [
    "plt.figure(figsize=(15,10))\n",
    "plt.ylim((1 - 1e-14, 1 + 1e-14))\n",
    "plot = plt.plot(X_train_fitted.columns, X_train_fitted.std(), 'bo', \n",
    "                X_test_fitted.columns, X_test_fitted.std(), 'r+')"
   ]
  },
  {
   "cell_type": "code",
   "execution_count": 303,
   "metadata": {},
   "outputs": [
    {
     "ename": "AttributeError",
     "evalue": "'numpy.ndarray' object has no attribute 'columns'",
     "output_type": "error",
     "traceback": [
      "\u001b[1;31m---------------------------------------------------------------------------\u001b[0m",
      "\u001b[1;31mAttributeError\u001b[0m                            Traceback (most recent call last)",
      "\u001b[1;32m<ipython-input-303-a1a4b8322864>\u001b[0m in \u001b[0;36m<module>\u001b[1;34m\u001b[0m\n\u001b[0;32m      2\u001b[0m \u001b[1;31m#plt.ylim((0 - 5e-14, 0 + 5e-14))\u001b[0m\u001b[1;33m\u001b[0m\u001b[1;33m\u001b[0m\u001b[1;33m\u001b[0m\u001b[0m\n\u001b[0;32m      3\u001b[0m \u001b[0mplt\u001b[0m\u001b[1;33m.\u001b[0m\u001b[0myscale\u001b[0m\u001b[1;33m(\u001b[0m\u001b[1;34m'log'\u001b[0m\u001b[1;33m)\u001b[0m\u001b[1;33m\u001b[0m\u001b[1;33m\u001b[0m\u001b[0m\n\u001b[1;32m----> 4\u001b[1;33m plot = plt.plot(X_train_fitted.columns, X_train_matrix_fitted.mean(), 'bo', \n\u001b[0m\u001b[0;32m      5\u001b[0m                 X_test_fitted.columns, X_test_fitted.mean(), 'r+')\n\u001b[0;32m      6\u001b[0m plot = plt.plot(X_train_fitted.columns, X_train_fitted.std(), 'bo', \n",
      "\u001b[1;31mAttributeError\u001b[0m: 'numpy.ndarray' object has no attribute 'columns'"
     ]
    },
    {
     "data": {
      "image/png": "[encoded data removed]",
      "text/plain": [
       "<Figure size 1080x720 with 1 Axes>"
      ]
     },
     "metadata": {},
     "output_type": "display_data"
    }
   ],
   "source": [
    "plt.figure(figsize=(15,10))\n",
    "#plt.ylim((0 - 5e-14, 0 + 5e-14))\n",
    "plt.yscale('log')\n",
    "plot = plt.plot(X_train_fitted.columns, X_train_fitted.mean(), 'bo', \n",
    "                X_test_fitted.columns, X_test_fitted.mean(), 'r+')\n",
    "plot = plt.plot(X_train_fitted.columns, X_train_fitted.std(), 'bo', \n",
    "                X_test_fitted.columns, X_test_fitted.std(), 'r+')"
   ]
  },
  {
   "cell_type": "markdown",
   "metadata": {},
   "source": [
    "    We note that after standardizing the data, the mean is equal to 0 and the standard deviation equals 1 in the order of 1e-14.\n",
    "    \n",
    "    Standardizing data is very important in order to be able to compare the different covariates. In fact, it makes them all based on the same scale in order to have a meaningful covariation when comparing them together. In addition, this improves the LASSO method in particular, since it requires the presence of small, centered covariates in order to yield better answers.\n",
    "    In fact, when computing the lambda parameters of the LASSO, their amplitudes depend of the amplitude of the variables they are multiplying. Hence, smaller variables improve the minimization the LASSO method tries to achieve."
   ]
  },
  {
   "cell_type": "code",
   "execution_count": 245,
   "metadata": {},
   "outputs": [],
   "source": [
    "df_test = pd.DataFrame()\n",
    "df_coef = pd.DataFrame()"
   ]
  },
  {
   "cell_type": "markdown",
   "metadata": {},
   "source": [
    "___\n",
    "### 2- Functions to compute the determination coefficient and the mean squared error."
   ]
  },
  {
   "cell_type": "code",
   "execution_count": 331,
   "metadata": {},
   "outputs": [],
   "source": [
    "def det_coef(y, y_pred):\n",
    "    if y.shape != y_pred.shape:\n",
    "        return -1\n",
    "    y_mean = y.mean()\n",
    "    return np.sum(np.power(y_pred - y_mean, 2)) / np.sum(np.power(y - y_mean, 2))\n",
    "def MSE(y, y_pred):\n",
    "    if y.shape != y_pred.shape:\n",
    "        return -1\n",
    "    n = y.shape[0]\n",
    "    return np.sum(np.power(y - y_pred, 2))/n"
   ]
  },
  {
   "cell_type": "markdown",
   "metadata": {},
   "source": [
    "___\n",
    "### 3- Fit a linear regression model on the train set."
   ]
  },
  {
   "cell_type": "code",
   "execution_count": 305,
   "metadata": {},
   "outputs": [
    {
     "name": "stdout",
     "output_type": "stream",
     "text": [
      "Using \"sklearn\"'s \"linear_model\" one obtains:\n",
      "\n",
      "\n",
      "Determination coefficient R^2 = -5.3717.\n",
      "\n"
     ]
    },
    {
     "data": {
      "text/plain": [
       "6.960990917499257"
      ]
     },
     "execution_count": 305,
     "metadata": {},
     "output_type": "execute_result"
    }
   ],
   "source": [
    "lin_reg = linear_model.LinearRegression(fit_intercept=False)\n",
    "lin_reg.fit(X_train_matrix_fitted, y_train)\n",
    "\n",
    "print('Using \"sklearn\"\\'s \"linear_model\" one obtains:\\n')\n",
    "#print('Estimated parameters are:')\n",
    "#for i in range(100):\n",
    "#    print('b{} = {:.4f},'.format(i, lin_reg.coef_[i]))\n",
    "\n",
    "print('\\nDetermination coefficient R^2 = {:.4f}.\\n'.format(lin_reg.score(X_train_matrix_fitted, y_train)))\n",
    "\n",
    "y_pred = lin_reg.predict(X_train_matrix_fitted)\n",
    "det_coef(y_train, y_pred)\n",
    "#1 - np.sum(np.power(y_train - y_pred, 2)) / np.sum(np.power(y_train - y_train.mean(), 2))"
   ]
  },
  {
   "cell_type": "code",
   "execution_count": 284,
   "metadata": {},
   "outputs": [
    {
     "data": {
      "text/html": [
       "<div>\n",
       "<style scoped>\n",
       "    .dataframe tbody tr th:only-of-type {\n",
       "        vertical-align: middle;\n",
       "    }\n",
       "\n",
       "    .dataframe tbody tr th {\n",
       "        vertical-align: top;\n",
       "    }\n",
       "\n",
       "    .dataframe thead th {\n",
       "        text-align: right;\n",
       "    }\n",
       "</style>\n",
       "<table border=\"1\" class=\"dataframe\">\n",
       "  <thead>\n",
       "    <tr style=\"text-align: right;\">\n",
       "      <th></th>\n",
       "      <th>X76</th>\n",
       "      <th>X95</th>\n",
       "      <th>X52</th>\n",
       "      <th>X36</th>\n",
       "      <th>X74</th>\n",
       "      <th>X69</th>\n",
       "      <th>X23</th>\n",
       "      <th>X27</th>\n",
       "      <th>X19</th>\n",
       "      <th>X39</th>\n",
       "      <th>...</th>\n",
       "      <th>X94</th>\n",
       "      <th>X45</th>\n",
       "      <th>X67</th>\n",
       "      <th>X16</th>\n",
       "      <th>X37</th>\n",
       "      <th>X56</th>\n",
       "      <th>X35</th>\n",
       "      <th>X87</th>\n",
       "      <th>X89</th>\n",
       "      <th>X96</th>\n",
       "    </tr>\n",
       "  </thead>\n",
       "  <tbody>\n",
       "    <tr>\n",
       "      <th>41</th>\n",
       "      <td>0.973949</td>\n",
       "      <td>-1.878493</td>\n",
       "      <td>-0.808453</td>\n",
       "      <td>0.514662</td>\n",
       "      <td>-1.116717</td>\n",
       "      <td>0.510078</td>\n",
       "      <td>0.271519</td>\n",
       "      <td>-1.626711</td>\n",
       "      <td>-0.745075</td>\n",
       "      <td>0.062611</td>\n",
       "      <td>...</td>\n",
       "      <td>1.889635</td>\n",
       "      <td>-0.066624</td>\n",
       "      <td>0.487829</td>\n",
       "      <td>0.493673</td>\n",
       "      <td>1.854483</td>\n",
       "      <td>1.636417</td>\n",
       "      <td>-0.404239</td>\n",
       "      <td>0.319549</td>\n",
       "      <td>-0.094425</td>\n",
       "      <td>-2.571430</td>\n",
       "    </tr>\n",
       "    <tr>\n",
       "      <th>264</th>\n",
       "      <td>-0.034088</td>\n",
       "      <td>1.238614</td>\n",
       "      <td>-1.646874</td>\n",
       "      <td>-1.145856</td>\n",
       "      <td>-0.293535</td>\n",
       "      <td>1.541127</td>\n",
       "      <td>-0.735458</td>\n",
       "      <td>0.359342</td>\n",
       "      <td>1.151741</td>\n",
       "      <td>0.501032</td>\n",
       "      <td>...</td>\n",
       "      <td>0.211576</td>\n",
       "      <td>-0.708368</td>\n",
       "      <td>-0.205122</td>\n",
       "      <td>0.513157</td>\n",
       "      <td>1.191770</td>\n",
       "      <td>0.852046</td>\n",
       "      <td>0.764452</td>\n",
       "      <td>0.168777</td>\n",
       "      <td>0.746514</td>\n",
       "      <td>0.238529</td>\n",
       "    </tr>\n",
       "    <tr>\n",
       "      <th>193</th>\n",
       "      <td>-0.479064</td>\n",
       "      <td>0.339198</td>\n",
       "      <td>-0.012550</td>\n",
       "      <td>-1.525123</td>\n",
       "      <td>-0.957134</td>\n",
       "      <td>0.658778</td>\n",
       "      <td>0.162755</td>\n",
       "      <td>-1.152779</td>\n",
       "      <td>-0.105295</td>\n",
       "      <td>-1.501538</td>\n",
       "      <td>...</td>\n",
       "      <td>0.052377</td>\n",
       "      <td>0.248780</td>\n",
       "      <td>-1.179089</td>\n",
       "      <td>-1.106664</td>\n",
       "      <td>-1.020760</td>\n",
       "      <td>0.294468</td>\n",
       "      <td>2.119220</td>\n",
       "      <td>-0.291617</td>\n",
       "      <td>0.134415</td>\n",
       "      <td>0.763580</td>\n",
       "    </tr>\n",
       "    <tr>\n",
       "      <th>205</th>\n",
       "      <td>1.628753</td>\n",
       "      <td>-0.365769</td>\n",
       "      <td>0.334694</td>\n",
       "      <td>-0.355923</td>\n",
       "      <td>1.324805</td>\n",
       "      <td>1.621800</td>\n",
       "      <td>-1.296514</td>\n",
       "      <td>2.406513</td>\n",
       "      <td>-1.228022</td>\n",
       "      <td>0.336057</td>\n",
       "      <td>...</td>\n",
       "      <td>-1.457303</td>\n",
       "      <td>0.703872</td>\n",
       "      <td>0.833432</td>\n",
       "      <td>-0.720457</td>\n",
       "      <td>0.539339</td>\n",
       "      <td>0.689748</td>\n",
       "      <td>0.769217</td>\n",
       "      <td>-1.694820</td>\n",
       "      <td>-0.466581</td>\n",
       "      <td>0.525536</td>\n",
       "    </tr>\n",
       "    <tr>\n",
       "      <th>79</th>\n",
       "      <td>-0.110894</td>\n",
       "      <td>-0.414613</td>\n",
       "      <td>0.886337</td>\n",
       "      <td>1.167830</td>\n",
       "      <td>0.221229</td>\n",
       "      <td>0.021028</td>\n",
       "      <td>-0.213422</td>\n",
       "      <td>0.093800</td>\n",
       "      <td>-1.628982</td>\n",
       "      <td>1.146608</td>\n",
       "      <td>...</td>\n",
       "      <td>-0.313427</td>\n",
       "      <td>0.836995</td>\n",
       "      <td>-0.860407</td>\n",
       "      <td>0.003063</td>\n",
       "      <td>0.605627</td>\n",
       "      <td>-0.119988</td>\n",
       "      <td>-1.417834</td>\n",
       "      <td>0.665518</td>\n",
       "      <td>-0.430162</td>\n",
       "      <td>1.723995</td>\n",
       "    </tr>\n",
       "    <tr>\n",
       "      <th>...</th>\n",
       "      <td>...</td>\n",
       "      <td>...</td>\n",
       "      <td>...</td>\n",
       "      <td>...</td>\n",
       "      <td>...</td>\n",
       "      <td>...</td>\n",
       "      <td>...</td>\n",
       "      <td>...</td>\n",
       "      <td>...</td>\n",
       "      <td>...</td>\n",
       "      <td>...</td>\n",
       "      <td>...</td>\n",
       "      <td>...</td>\n",
       "      <td>...</td>\n",
       "      <td>...</td>\n",
       "      <td>...</td>\n",
       "      <td>...</td>\n",
       "      <td>...</td>\n",
       "      <td>...</td>\n",
       "      <td>...</td>\n",
       "      <td>...</td>\n",
       "    </tr>\n",
       "    <tr>\n",
       "      <th>67</th>\n",
       "      <td>-0.318648</td>\n",
       "      <td>-1.459971</td>\n",
       "      <td>0.454039</td>\n",
       "      <td>-0.092491</td>\n",
       "      <td>-0.752673</td>\n",
       "      <td>1.517194</td>\n",
       "      <td>-0.177521</td>\n",
       "      <td>0.184083</td>\n",
       "      <td>0.255533</td>\n",
       "      <td>-0.882437</td>\n",
       "      <td>...</td>\n",
       "      <td>1.800698</td>\n",
       "      <td>-0.738815</td>\n",
       "      <td>0.569093</td>\n",
       "      <td>-0.208855</td>\n",
       "      <td>-1.023227</td>\n",
       "      <td>0.385396</td>\n",
       "      <td>1.439886</td>\n",
       "      <td>-1.184452</td>\n",
       "      <td>-0.239320</td>\n",
       "      <td>0.404350</td>\n",
       "    </tr>\n",
       "    <tr>\n",
       "      <th>502</th>\n",
       "      <td>-0.226478</td>\n",
       "      <td>0.485988</td>\n",
       "      <td>-0.518819</td>\n",
       "      <td>-0.175720</td>\n",
       "      <td>-0.570818</td>\n",
       "      <td>-0.677135</td>\n",
       "      <td>0.614686</td>\n",
       "      <td>1.700168</td>\n",
       "      <td>-0.097323</td>\n",
       "      <td>-0.248151</td>\n",
       "      <td>...</td>\n",
       "      <td>-0.755008</td>\n",
       "      <td>2.426509</td>\n",
       "      <td>-0.288933</td>\n",
       "      <td>1.238741</td>\n",
       "      <td>-0.852251</td>\n",
       "      <td>-0.895807</td>\n",
       "      <td>-0.551596</td>\n",
       "      <td>1.098065</td>\n",
       "      <td>0.759420</td>\n",
       "      <td>0.296957</td>\n",
       "    </tr>\n",
       "    <tr>\n",
       "      <th>25</th>\n",
       "      <td>-1.115659</td>\n",
       "      <td>-0.943124</td>\n",
       "      <td>-1.061031</td>\n",
       "      <td>-2.148220</td>\n",
       "      <td>-1.109194</td>\n",
       "      <td>-0.490310</td>\n",
       "      <td>0.362995</td>\n",
       "      <td>-1.275113</td>\n",
       "      <td>-0.857240</td>\n",
       "      <td>0.816556</td>\n",
       "      <td>...</td>\n",
       "      <td>-1.490605</td>\n",
       "      <td>-0.632966</td>\n",
       "      <td>-0.564517</td>\n",
       "      <td>-0.228979</td>\n",
       "      <td>-0.017757</td>\n",
       "      <td>0.364149</td>\n",
       "      <td>0.719956</td>\n",
       "      <td>1.241640</td>\n",
       "      <td>0.851702</td>\n",
       "      <td>-0.319567</td>\n",
       "    </tr>\n",
       "    <tr>\n",
       "      <th>196</th>\n",
       "      <td>0.115134</td>\n",
       "      <td>0.609275</td>\n",
       "      <td>0.510633</td>\n",
       "      <td>-0.269662</td>\n",
       "      <td>-0.710470</td>\n",
       "      <td>0.086116</td>\n",
       "      <td>-0.381159</td>\n",
       "      <td>-0.023578</td>\n",
       "      <td>0.586465</td>\n",
       "      <td>0.338908</td>\n",
       "      <td>...</td>\n",
       "      <td>-2.156376</td>\n",
       "      <td>2.842822</td>\n",
       "      <td>-0.834003</td>\n",
       "      <td>0.253544</td>\n",
       "      <td>-0.329754</td>\n",
       "      <td>-1.274314</td>\n",
       "      <td>0.647970</td>\n",
       "      <td>-1.209272</td>\n",
       "      <td>-1.081645</td>\n",
       "      <td>-0.579116</td>\n",
       "    </tr>\n",
       "    <tr>\n",
       "      <th>175</th>\n",
       "      <td>1.437935</td>\n",
       "      <td>-0.819436</td>\n",
       "      <td>0.939532</td>\n",
       "      <td>1.127816</td>\n",
       "      <td>-1.148304</td>\n",
       "      <td>-0.400591</td>\n",
       "      <td>-0.237930</td>\n",
       "      <td>-0.181376</td>\n",
       "      <td>-0.059973</td>\n",
       "      <td>0.870362</td>\n",
       "      <td>...</td>\n",
       "      <td>0.670152</td>\n",
       "      <td>-0.584193</td>\n",
       "      <td>-1.121072</td>\n",
       "      <td>-0.593326</td>\n",
       "      <td>-0.066641</td>\n",
       "      <td>-0.180631</td>\n",
       "      <td>2.124806</td>\n",
       "      <td>-0.687127</td>\n",
       "      <td>-1.680681</td>\n",
       "      <td>1.036291</td>\n",
       "    </tr>\n",
       "  </tbody>\n",
       "</table>\n",
       "<p>379 rows × 100 columns</p>\n",
       "</div>"
      ],
      "text/plain": [
       "          X76       X95       X52       X36       X74       X69       X23  \\\n",
       "41   0.973949 -1.878493 -0.808453  0.514662 -1.116717  0.510078  0.271519   \n",
       "264 -0.034088  1.238614 -1.646874 -1.145856 -0.293535  1.541127 -0.735458   \n",
       "193 -0.479064  0.339198 -0.012550 -1.525123 -0.957134  0.658778  0.162755   \n",
       "205  1.628753 -0.365769  0.334694 -0.355923  1.324805  1.621800 -1.296514   \n",
       "79  -0.110894 -0.414613  0.886337  1.167830  0.221229  0.021028 -0.213422   \n",
       "..        ...       ...       ...       ...       ...       ...       ...   \n",
       "67  -0.318648 -1.459971  0.454039 -0.092491 -0.752673  1.517194 -0.177521   \n",
       "502 -0.226478  0.485988 -0.518819 -0.175720 -0.570818 -0.677135  0.614686   \n",
       "25  -1.115659 -0.943124 -1.061031 -2.148220 -1.109194 -0.490310  0.362995   \n",
       "196  0.115134  0.609275  0.510633 -0.269662 -0.710470  0.086116 -0.381159   \n",
       "175  1.437935 -0.819436  0.939532  1.127816 -1.148304 -0.400591 -0.237930   \n",
       "\n",
       "          X27       X19       X39  ...       X94       X45       X67  \\\n",
       "41  -1.626711 -0.745075  0.062611  ...  1.889635 -0.066624  0.487829   \n",
       "264  0.359342  1.151741  0.501032  ...  0.211576 -0.708368 -0.205122   \n",
       "193 -1.152779 -0.105295 -1.501538  ...  0.052377  0.248780 -1.179089   \n",
       "205  2.406513 -1.228022  0.336057  ... -1.457303  0.703872  0.833432   \n",
       "79   0.093800 -1.628982  1.146608  ... -0.313427  0.836995 -0.860407   \n",
       "..        ...       ...       ...  ...       ...       ...       ...   \n",
       "67   0.184083  0.255533 -0.882437  ...  1.800698 -0.738815  0.569093   \n",
       "502  1.700168 -0.097323 -0.248151  ... -0.755008  2.426509 -0.288933   \n",
       "25  -1.275113 -0.857240  0.816556  ... -1.490605 -0.632966 -0.564517   \n",
       "196 -0.023578  0.586465  0.338908  ... -2.156376  2.842822 -0.834003   \n",
       "175 -0.181376 -0.059973  0.870362  ...  0.670152 -0.584193 -1.121072   \n",
       "\n",
       "          X16       X37       X56       X35       X87       X89       X96  \n",
       "41   0.493673  1.854483  1.636417 -0.404239  0.319549 -0.094425 -2.571430  \n",
       "264  0.513157  1.191770  0.852046  0.764452  0.168777  0.746514  0.238529  \n",
       "193 -1.106664 -1.020760  0.294468  2.119220 -0.291617  0.134415  0.763580  \n",
       "205 -0.720457  0.539339  0.689748  0.769217 -1.694820 -0.466581  0.525536  \n",
       "79   0.003063  0.605627 -0.119988 -1.417834  0.665518 -0.430162  1.723995  \n",
       "..        ...       ...       ...       ...       ...       ...       ...  \n",
       "67  -0.208855 -1.023227  0.385396  1.439886 -1.184452 -0.239320  0.404350  \n",
       "502  1.238741 -0.852251 -0.895807 -0.551596  1.098065  0.759420  0.296957  \n",
       "25  -0.228979 -0.017757  0.364149  0.719956  1.241640  0.851702 -0.319567  \n",
       "196  0.253544 -0.329754 -1.274314  0.647970 -1.209272 -1.081645 -0.579116  \n",
       "175 -0.593326 -0.066641 -0.180631  2.124806 -0.687127 -1.680681  1.036291  \n",
       "\n",
       "[379 rows x 100 columns]"
      ]
     },
     "execution_count": 284,
     "metadata": {},
     "output_type": "execute_result"
    }
   ],
   "source": [
    "X_train_fitted"
   ]
  },
  {
   "cell_type": "code",
   "execution_count": 358,
   "metadata": {},
   "outputs": [
    {
     "name": "stdout",
     "output_type": "stream",
     "text": [
      "506 100\n",
      "\n",
      "Determination coefficient R^2 = 0.7906.\n",
      "\n",
      "0.7906236312683592\n",
      "17.22750429460126\n"
     ]
    },
    {
     "data": {
      "text/plain": [
       "0.7906236312683597"
      ]
     },
     "execution_count": 358,
     "metadata": {},
     "output_type": "execute_result"
    },
    {
     "data": {
      "image/png": "[encoded data removed]",
      "text/plain": [
       "<Figure size 432x288 with 1 Axes>"
      ]
     },
     "metadata": {},
     "output_type": "display_data"
    }
   ],
   "source": [
    "df = pd.read_csv('data_tp_2.csv')\n",
    "Y = df.Y\n",
    "df = df.drop('Y',axis=1)\n",
    "X = df.values\n",
    "n,p = X.shape\n",
    "print(n,p)\n",
    "\n",
    "plt.plot(X.mean(axis=0))\n",
    "plt.plot(X.std(axis=0))\n",
    "plt.yscale('log')\n",
    "\n",
    "X_train, X_test, y_train, y_test = train_test_split(X, Y, test_size = 0.25)\n",
    "df_test = pd.DataFrame()\n",
    "df_coef = pd.DataFrame()\n",
    "results = []\n",
    "\n",
    "X_train = StandardScaler().fit_transform(X_train)\n",
    "plt.plot(X_train.mean(axis=0))\n",
    "plt.plot(X_train.std(axis=0))\n",
    "\n",
    "X_test = StandardScaler().fit_transform(X_test)\n",
    "plt.plot(X_test.mean(axis=0))\n",
    "plt.plot(X_test.std(axis=0))\n",
    "\n",
    "lin_reg = linear_model.LinearRegression()\n",
    "lin_reg.fit(X_train, y_train)\n",
    "print('\\nDetermination coefficient R^2 = {:.4f}.\\n'.format(lin_reg.score(X_train, y_train)))\n",
    "y_pred = lin_reg.predict(X_train)\n",
    "print(det_coef(y_train, y_pred))\n",
    "print(MSE(y_train, y_pred))\n",
    "1-np.sum(np.power(y_train - y_pred, 2)) / np.sum(np.power(y_train - y_train.mean(), 2))\n"
   ]
  },
  {
   "cell_type": "code",
   "execution_count": null,
   "metadata": {},
   "outputs": [],
   "source": []
  },
  {
   "cell_type": "code",
   "execution_count": null,
   "metadata": {},
   "outputs": [],
   "source": []
  },
  {
   "cell_type": "code",
   "execution_count": null,
   "metadata": {},
   "outputs": [],
   "source": []
  }
 ],
 "metadata": {
  "kernelspec": {
   "display_name": "Python 3",
   "language": "python",
   "name": "python3"
  },
  "language_info": {
   "codemirror_mode": {
    "name": "ipython",
    "version": 3
   },
   "file_extension": ".py",
   "mimetype": "text/x-python",
   "name": "python",
   "nbconvert_exporter": "python",
   "pygments_lexer": "ipython3",
   "version": "3.6.12"
  }
 },
 "nbformat": 4,
 "nbformat_minor": 4
}
