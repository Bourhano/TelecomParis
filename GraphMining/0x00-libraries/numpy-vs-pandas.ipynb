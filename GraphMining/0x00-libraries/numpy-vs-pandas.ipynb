{
 "cells": [
  {
   "cell_type": "markdown",
   "metadata": {},
   "source": [
    "# Numpy vs Pandas"
   ]
  },
  {
   "cell_type": "markdown",
   "metadata": {},
   "source": [
    "A simple performance test of Numpy vs Pandas for inverting a series."
   ]
  },
  {
   "cell_type": "code",
   "execution_count": 1,
   "metadata": {
    "ExecuteTime": {
     "end_time": "2019-05-20T11:19:47.854184Z",
     "start_time": "2019-05-20T11:19:47.318740Z"
    }
   },
   "outputs": [],
   "source": [
    "import numpy as np\n",
    "import pandas as pd\n",
    "import matplotlib.pyplot as plt\n",
    "import time"
   ]
  },
  {
   "cell_type": "markdown",
   "metadata": {},
   "source": [
    "## Random sequence"
   ]
  },
  {
   "cell_type": "code",
   "execution_count": 2,
   "metadata": {
    "heading_collapsed": true,
    "hidden": true
   },
   "outputs": [],
   "source": [
    "x = np.random.rand(10**6)"
   ]
  },
  {
   "cell_type": "markdown",
   "metadata": {},
   "source": [
    "## Inversion methods"
   ]
  },
  {
   "cell_type": "code",
   "execution_count": 3,
   "metadata": {},
   "outputs": [],
   "source": [
    "def invert_vectorized(s):\n",
    "    return 1 / s"
   ]
  },
  {
   "cell_type": "code",
   "execution_count": 4,
   "metadata": {},
   "outputs": [],
   "source": [
    "def invert_by_loop(s):\n",
    "    s_inv = np.zeros(len(s))\n",
    "    for i in range(len(s)):\n",
    "        s_inv[i] = 1 / s[i]\n",
    "    return s_inv"
   ]
  },
  {
   "cell_type": "code",
   "execution_count": 5,
   "metadata": {},
   "outputs": [],
   "source": [
    "def invert_by_map(s):\n",
    "    return s.map(lambda x: 1/x)"
   ]
  },
  {
   "cell_type": "markdown",
   "metadata": {},
   "source": [
    "## Test"
   ]
  },
  {
   "cell_type": "code",
   "execution_count": 6,
   "metadata": {},
   "outputs": [],
   "source": [
    "def get_results(n_range, methods, n_samples=100, verbose=True):\n",
    "    '''Performance test.'''\n",
    "    results = []\n",
    "    for name, method in methods.items():\n",
    "        if verbose:\n",
    "            print(name)\n",
    "        results_method = np.zeros((n_samples, len(n_range)))\n",
    "        for j, n in enumerate(n_range):\n",
    "            if name != 'numpy':\n",
    "                s = pd.Series(x[:n])\n",
    "            else:\n",
    "                s = x[:n]\n",
    "            for i in range(n_samples):\n",
    "                t0 = time.time()\n",
    "                method(s)\n",
    "                t1 = time.time()\n",
    "                results_method[i, j] = t1 - t0\n",
    "        results.append(results_method.mean(axis=0))\n",
    "    return np.array(results).T"
   ]
  },
  {
   "cell_type": "code",
   "execution_count": 11,
   "metadata": {},
   "outputs": [],
   "source": [
    "n_range = [10**i for i in range(2, 10)]"
   ]
  },
  {
   "cell_type": "code",
   "execution_count": 12,
   "metadata": {},
   "outputs": [],
   "source": [
    "methods = {'numpy': invert_vectorized, \n",
    "           'pandas (vector)': invert_vectorized, \n",
    "           'pandas (map)': invert_by_map, \n",
    "           'loop': invert_by_map}"
   ]
  },
  {
   "cell_type": "code",
   "execution_count": 13,
   "metadata": {},
   "outputs": [
    {
     "name": "stdout",
     "output_type": "stream",
     "text": [
      "numpy\n",
      "pandas (vector)\n",
      "pandas (map)\n",
      "loop\n"
     ]
    }
   ],
   "source": [
    "results = get_results(n_range, methods)"
   ]
  },
  {
   "cell_type": "code",
   "execution_count": 14,
   "metadata": {},
   "outputs": [
    {
     "data": {
      "image/png": "[encoded data removed]",
      "text/plain": [
       "<Figure size 432x288 with 1 Axes>"
      ]
     },
     "metadata": {
      "needs_background": "light"
     },
     "output_type": "display_data"
    }
   ],
   "source": [
    "plt.xlabel('Data size')\n",
    "plt.ylabel('Run time')\n",
    "plt.xscale('log')\n",
    "plt.yscale('log')\n",
    "plt.plot(n_range, results, marker='o')\n",
    "plt.legend(list(methods))\n",
    "plt.show()"
   ]
  },
  {
   "cell_type": "code",
   "execution_count": null,
   "metadata": {},
   "outputs": [],
   "source": []
  }
 ],
 "metadata": {
  "kernelspec": {
   "display_name": "Python 3",
   "language": "python",
   "name": "python3"
  },
  "language_info": {
   "codemirror_mode": {
    "name": "ipython",
    "version": 3
   },
   "file_extension": ".py",
   "mimetype": "text/x-python",
   "name": "python",
   "nbconvert_exporter": "python",
   "pygments_lexer": "ipython3",
   "version": "3.6.12"
  },
  "toc": {
   "base_numbering": 1,
   "nav_menu": {},
   "number_sections": false,
   "sideBar": true,
   "skip_h1_title": true,
   "title_cell": "Table of Contents",
   "title_sidebar": "Contents",
   "toc_cell": false,
   "toc_position": {},
   "toc_section_display": true,
   "toc_window_display": false
  }
 },
 "nbformat": 4,
 "nbformat_minor": 4
}
