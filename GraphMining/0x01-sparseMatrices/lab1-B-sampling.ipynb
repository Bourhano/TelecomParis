{
 "cells": [
  {
   "cell_type": "markdown",
   "metadata": {},
   "source": [
    "# SD212: Graph mining\n",
    "\n",
    "# Lab 1: Sampling"
   ]
  },
  {
   "cell_type": "markdown",
   "metadata": {},
   "source": [
    "The objective of this lab is to explore differents ways to sample nodes in graphs. You're supposed to have done the lab on sparse matrices before."
   ]
  },
  {
   "cell_type": "markdown",
   "metadata": {},
   "source": [
    "## Import"
   ]
  },
  {
   "cell_type": "code",
   "execution_count": null,
   "metadata": {},
   "outputs": [],
   "source": [
    "from IPython.display import SVG"
   ]
  },
  {
   "cell_type": "code",
   "execution_count": null,
   "metadata": {},
   "outputs": [],
   "source": [
    "import numpy as np\n",
    "from scipy import sparse"
   ]
  },
  {
   "cell_type": "code",
   "execution_count": null,
   "metadata": {},
   "outputs": [],
   "source": [
    "from sknetwork.data import load_netset\n",
    "from sknetwork.visualization import svg_graph"
   ]
  },
  {
   "cell_type": "code",
   "execution_count": null,
   "metadata": {},
   "outputs": [],
   "source": [
    "from sknetwork.linalg import normalize"
   ]
  },
  {
   "cell_type": "markdown",
   "metadata": {},
   "source": [
    "## Graphs"
   ]
  },
  {
   "cell_type": "markdown",
   "metadata": {},
   "source": [
    "We will sample nodes from [Openflights](https://openflights.org), the graph of daily flights between airports."
   ]
  },
  {
   "cell_type": "code",
   "execution_count": null,
   "metadata": {},
   "outputs": [],
   "source": [
    "graph = load_netset(\"openflights\")"
   ]
  },
  {
   "cell_type": "code",
   "execution_count": null,
   "metadata": {},
   "outputs": [],
   "source": [
    "adjacency_weighted = graph.adjacency\n",
    "names = graph.names\n",
    "position = graph.position"
   ]
  },
  {
   "cell_type": "code",
   "execution_count": null,
   "metadata": {},
   "outputs": [],
   "source": [
    "# display graph (without edges)\n",
    "image = svg_graph(adjacency_weighted, position, height=400, width=800, \n",
    "                  display_node_weight=True, display_edges=False)"
   ]
  },
  {
   "cell_type": "code",
   "execution_count": null,
   "metadata": {},
   "outputs": [],
   "source": [
    "SVG(image)"
   ]
  },
  {
   "cell_type": "code",
   "execution_count": null,
   "metadata": {},
   "outputs": [],
   "source": [
    "# remove weights\n",
    "adjacency = (adjacency_weighted > 0).astype(int)"
   ]
  },
  {
   "cell_type": "markdown",
   "metadata": {},
   "source": [
    "## To do"
   ]
  },
  {
   "cell_type": "markdown",
   "metadata": {},
   "source": [
    "* How many nodes are there in this graph?\n",
    "* How many edges?\n",
    "* What is the degree of Paris-Orly airport?"
   ]
  },
  {
   "cell_type": "markdown",
   "metadata": {},
   "source": [
    "## To do"
   ]
  },
  {
   "cell_type": "markdown",
   "metadata": {},
   "source": [
    "Sample 10 nodes at random and give their names, using the following methods:\n",
    "* uniform node sampling\n",
    "* uniform edge sampling\n",
    "* uniform neighbor sampling\n",
    "\n",
    "**Hint:** Use ``np.random.choice``."
   ]
  },
  {
   "cell_type": "code",
   "execution_count": null,
   "metadata": {},
   "outputs": [],
   "source": [
    "def sample_nodes(adjacency, n_samples=10):\n",
    "    '''Sample nodes uniformly at random.\n",
    "    \n",
    "    Parameters\n",
    "    ----------\n",
    "    adjacency : sparse.csr_matrix\n",
    "        Adjacency matrix.\n",
    "    n_samples : int\n",
    "        Number of samples.\n",
    "        \n",
    "    Returns\n",
    "    -------\n",
    "    nodes : np.ndarray\n",
    "        Sampled nodes.\n",
    "    '''\n",
    "    # to be modified\n",
    "    # no loop allowed\n",
    "    return None"
   ]
  },
  {
   "cell_type": "code",
   "execution_count": null,
   "metadata": {},
   "outputs": [],
   "source": [
    "def sample_from_edges(adjacency, n_samples=10):\n",
    "    '''Sample nodes from edges, selected uniformly at random.\n",
    "    \n",
    "    Parameters\n",
    "    ----------\n",
    "    adjacency : sparse.csr_matrix\n",
    "        Adjacency matrix.\n",
    "    n_samples : int\n",
    "        Number of samples.\n",
    "        \n",
    "    Returns\n",
    "    -------\n",
    "    nodes : np.ndarray\n",
    "        Sampled nodes.\n",
    "    '''\n",
    "    # to be modified\n",
    "    # no loop allowed\n",
    "    return None"
   ]
  },
  {
   "cell_type": "code",
   "execution_count": null,
   "metadata": {},
   "outputs": [],
   "source": [
    "def sample_from_neighbors(adjacency, n_samples=10):\n",
    "    '''Sample nodes from neighbors, selected uniformly at random.\n",
    "    \n",
    "    Parameters\n",
    "    ----------\n",
    "    adjacency : sparse.csr_matrix\n",
    "        Adjacency matrix.\n",
    "    n_samples : int\n",
    "        Number of samples.\n",
    "        \n",
    "    Returns\n",
    "    -------\n",
    "    nodes : np.ndarray\n",
    "        Sampled nodes.\n",
    "    '''\n",
    "    # to be modified\n",
    "    # no loop allowed\n",
    "    transition_matrix = normalize(adjacency)\n",
    "    return None"
   ]
  },
  {
   "cell_type": "markdown",
   "metadata": {},
   "source": [
    "## To do"
   ]
  },
  {
   "cell_type": "markdown",
   "metadata": {},
   "source": [
    "Compute the average degree of a node sampled with each of the above sampling methods.\n",
    "\n",
    "**Note:** You must give the exact value (i.e., don't sample nodes!)"
   ]
  },
  {
   "cell_type": "markdown",
   "metadata": {},
   "source": [
    "## Weighted graphs"
   ]
  },
  {
   "cell_type": "markdown",
   "metadata": {},
   "source": [
    "We now take the weights into account (here the daily number of flights between airports)."
   ]
  },
  {
   "cell_type": "markdown",
   "metadata": {},
   "source": [
    "## To do"
   ]
  },
  {
   "cell_type": "markdown",
   "metadata": {},
   "source": [
    "* How many daily flights are there?\n",
    "* What are the top-3 airports in number of flights?"
   ]
  },
  {
   "cell_type": "markdown",
   "metadata": {},
   "source": [
    "## To do"
   ]
  },
  {
   "cell_type": "markdown",
   "metadata": {},
   "source": [
    "Sample 10 nodes at random and give their names, using the following methods:\n",
    "* weighted edge sampling\n",
    "* weighted neighbor sampling"
   ]
  },
  {
   "cell_type": "code",
   "execution_count": null,
   "metadata": {},
   "outputs": [],
   "source": [
    "def sample_from_edges_weighted(adjacency, n_samples = 10):\n",
    "    '''Sample nodes from edges, selected in proportion to weights.\n",
    "    \n",
    "    Parameters\n",
    "    ----------\n",
    "    adjacency : sparse.csr_matrix\n",
    "        Weigthed adjacency matrix.\n",
    "    n_samples : int\n",
    "        Number of samples.\n",
    "        \n",
    "    Returns\n",
    "    -------\n",
    "    nodes : np.ndarray\n",
    "        Sampled nodes.\n",
    "    '''\n",
    "    # to be modified\n",
    "    # no loop allowed\n",
    "    return None"
   ]
  },
  {
   "cell_type": "code",
   "execution_count": null,
   "metadata": {},
   "outputs": [],
   "source": [
    "def sample_from_neighbors_weighted(adjacency, n_samples = 10):\n",
    "    '''Sample nodes from neighbors, selected uniformly at random.\n",
    "    \n",
    "    Parameters\n",
    "    ----------\n",
    "    adjacency : sparse.csr_matrix\n",
    "        Weigthed adjacency matrix.\n",
    "    n_samples : int\n",
    "        Number of samples.\n",
    "        \n",
    "    Returns\n",
    "    -------\n",
    "    nodes : np.ndarray\n",
    "        Sampled nodes.\n",
    "    '''\n",
    "    # to be modified\n",
    "    # no loop allowed\n",
    "    return None"
   ]
  },
  {
   "cell_type": "markdown",
   "metadata": {},
   "source": [
    "## To do"
   ]
  },
  {
   "cell_type": "markdown",
   "metadata": {},
   "source": [
    "Compute the average weight (i.e., average number of daily flights) of a node sampled from each of the above sampling methods.\n",
    "\n",
    "**Note:** Again, you must give the exact values."
   ]
  }
 ],
 "metadata": {
  "kernelspec": {
   "display_name": "Python 3",
   "language": "python",
   "name": "python3"
  },
  "language_info": {
   "codemirror_mode": {
    "name": "ipython",
    "version": 3
   },
   "file_extension": ".py",
   "mimetype": "text/x-python",
   "name": "python",
   "nbconvert_exporter": "python",
   "pygments_lexer": "ipython3",
   "version": "3.6.12"
  }
 },
 "nbformat": 4,
 "nbformat_minor": 4
}
