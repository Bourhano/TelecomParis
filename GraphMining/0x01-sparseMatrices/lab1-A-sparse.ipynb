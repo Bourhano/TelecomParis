{
 "cells": [
  {
   "cell_type": "markdown",
   "metadata": {},
   "source": [
    "# SD212: Graph mining\n",
    "\n",
    "# Lab 1: Sparse matrices"
   ]
  },
  {
   "cell_type": "markdown",
   "metadata": {},
   "source": [
    "The objective of this lab is to understand the structure and main properties of [sparse matrices](https://en.wikipedia.org/wiki/Sparse_matrix).\n",
    "\n",
    "You will learn to code your own sparse matrices to understand their underlying structure. <br>Note that in the other labs, we will only use sparse matrices of [SciPy](https://www.scipy.org/scipylib/index.html). "
   ]
  },
  {
   "cell_type": "markdown",
   "metadata": {},
   "source": [
    "## Import"
   ]
  },
  {
   "cell_type": "code",
   "execution_count": 1,
   "metadata": {},
   "outputs": [],
   "source": [
    "import numpy as np"
   ]
  },
  {
   "cell_type": "code",
   "execution_count": 2,
   "metadata": {},
   "outputs": [],
   "source": [
    "from scipy import sparse"
   ]
  },
  {
   "cell_type": "markdown",
   "metadata": {},
   "source": [
    "## Coordinate format"
   ]
  },
  {
   "cell_type": "code",
   "execution_count": 3,
   "metadata": {},
   "outputs": [],
   "source": [
    "# random matrix (dense format)\n",
    "A_dense = np.random.randint(2, size = (5,10))"
   ]
  },
  {
   "cell_type": "code",
   "execution_count": 4,
   "metadata": {},
   "outputs": [
    {
     "data": {
      "text/plain": [
       "array([[1, 0, 0, 0, 0, 1, 1, 0, 1, 0],\n",
       "       [0, 0, 1, 0, 0, 1, 1, 1, 1, 0],\n",
       "       [0, 0, 1, 1, 1, 0, 1, 1, 0, 0],\n",
       "       [1, 0, 0, 0, 0, 0, 0, 1, 1, 0],\n",
       "       [0, 0, 0, 1, 0, 1, 0, 0, 1, 1]])"
      ]
     },
     "execution_count": 4,
     "metadata": {},
     "output_type": "execute_result"
    }
   ],
   "source": [
    "A_dense"
   ]
  },
  {
   "cell_type": "code",
   "execution_count": 5,
   "metadata": {},
   "outputs": [],
   "source": [
    "A_coo = sparse.coo_matrix(A_dense)"
   ]
  },
  {
   "cell_type": "code",
   "execution_count": 6,
   "metadata": {},
   "outputs": [
    {
     "data": {
      "text/plain": [
       "<5x10 sparse matrix of type '<class 'numpy.int32'>'\n",
       "\twith 21 stored elements in COOrdinate format>"
      ]
     },
     "execution_count": 6,
     "metadata": {},
     "output_type": "execute_result"
    }
   ],
   "source": [
    "A_coo"
   ]
  },
  {
   "cell_type": "code",
   "execution_count": 7,
   "metadata": {},
   "outputs": [
    {
     "data": {
      "text/plain": [
       "(5, 10)"
      ]
     },
     "execution_count": 7,
     "metadata": {},
     "output_type": "execute_result"
    }
   ],
   "source": [
    "A_coo.shape"
   ]
  },
  {
   "cell_type": "code",
   "execution_count": 8,
   "metadata": {},
   "outputs": [
    {
     "data": {
      "text/plain": [
       "21"
      ]
     },
     "execution_count": 8,
     "metadata": {},
     "output_type": "execute_result"
    }
   ],
   "source": [
    "A_coo.nnz"
   ]
  },
  {
   "cell_type": "code",
   "execution_count": 9,
   "metadata": {},
   "outputs": [
    {
     "name": "stdout",
     "output_type": "stream",
     "text": [
      "[0 0 0 0 1 1 1 1 1 2 2 2 2 2 3 3 3 4 4 4 4]\n",
      "[0 5 6 8 2 5 6 7 8 2 3 4 6 7 0 7 8 3 5 8 9]\n",
      "[1 1 1 1 1 1 1 1 1 1 1 1 1 1 1 1 1 1 1 1 1]\n"
     ]
    }
   ],
   "source": [
    "print(A_coo.row)\n",
    "print(A_coo.col)\n",
    "print(A_coo.data)"
   ]
  },
  {
   "cell_type": "code",
   "execution_count": 10,
   "metadata": {},
   "outputs": [],
   "source": [
    "# there might be zeros in data!\n",
    "row = A_coo.row\n",
    "col = A_coo.col\n",
    "data = np.random.randint(5, size=len(A_coo.data))\n",
    "shape = A_coo.shape"
   ]
  },
  {
   "cell_type": "code",
   "execution_count": 11,
   "metadata": {},
   "outputs": [],
   "source": [
    "B_coo = sparse.coo_matrix((data, (row, col)), shape)"
   ]
  },
  {
   "cell_type": "code",
   "execution_count": 12,
   "metadata": {},
   "outputs": [
    {
     "data": {
      "text/plain": [
       "<5x10 sparse matrix of type '<class 'numpy.int32'>'\n",
       "\twith 21 stored elements in COOrdinate format>"
      ]
     },
     "execution_count": 12,
     "metadata": {},
     "output_type": "execute_result"
    }
   ],
   "source": [
    "B_coo"
   ]
  },
  {
   "cell_type": "code",
   "execution_count": 13,
   "metadata": {},
   "outputs": [
    {
     "data": {
      "text/plain": [
       "array([[4, 0, 0, 0, 0, 2, 1, 0, 0, 0],\n",
       "       [0, 0, 1, 0, 0, 2, 3, 2, 0, 0],\n",
       "       [0, 0, 0, 1, 2, 0, 1, 0, 0, 0],\n",
       "       [2, 0, 0, 0, 0, 0, 0, 4, 4, 0],\n",
       "       [0, 0, 0, 3, 0, 3, 0, 0, 3, 4]])"
      ]
     },
     "execution_count": 13,
     "metadata": {},
     "output_type": "execute_result"
    }
   ],
   "source": [
    "B_coo.toarray()"
   ]
  },
  {
   "cell_type": "code",
   "execution_count": 14,
   "metadata": {},
   "outputs": [
    {
     "data": {
      "text/plain": [
       "21"
      ]
     },
     "execution_count": 14,
     "metadata": {},
     "output_type": "execute_result"
    }
   ],
   "source": [
    "B_coo.nnz"
   ]
  },
  {
   "cell_type": "code",
   "execution_count": 15,
   "metadata": {},
   "outputs": [
    {
     "data": {
      "text/plain": [
       "17"
      ]
     },
     "execution_count": 15,
     "metadata": {},
     "output_type": "execute_result"
    }
   ],
   "source": [
    "np.sum(B_coo.data > 0)"
   ]
  },
  {
   "cell_type": "code",
   "execution_count": 16,
   "metadata": {},
   "outputs": [],
   "source": [
    "B_coo.eliminate_zeros()"
   ]
  },
  {
   "cell_type": "code",
   "execution_count": 17,
   "metadata": {},
   "outputs": [
    {
     "data": {
      "text/plain": [
       "<5x10 sparse matrix of type '<class 'numpy.int32'>'\n",
       "\twith 17 stored elements in COOrdinate format>"
      ]
     },
     "execution_count": 17,
     "metadata": {},
     "output_type": "execute_result"
    }
   ],
   "source": [
    "B_coo"
   ]
  },
  {
   "cell_type": "markdown",
   "metadata": {},
   "source": [
    "## ~To do~"
   ]
  },
  {
   "cell_type": "markdown",
   "metadata": {},
   "source": [
    "Complete the function below that converts a dense matrix into a sparse matrix in COO format. \n",
    "\n",
    "Needless to say...\n",
    "* don't use `scipy`\n",
    "* don't use any loop\n",
    "\n",
    "**Hint:** Use `np.nonzero`"
   ]
  },
  {
   "cell_type": "code",
   "execution_count": 18,
   "metadata": {},
   "outputs": [
    {
     "data": {
      "text/plain": [
       "array([1, 1, 1, 1, 1, 1, 1, 1, 1, 1, 1, 1, 1, 1, 1, 1, 1, 1, 1, 1, 1])"
      ]
     },
     "execution_count": 18,
     "metadata": {},
     "output_type": "execute_result"
    }
   ],
   "source": [
    "nnz = A_dense.nonzero()\n",
    "A_dense[nnz]"
   ]
  },
  {
   "cell_type": "code",
   "execution_count": 19,
   "metadata": {},
   "outputs": [],
   "source": [
    "class SparseCOO():\n",
    "    def __init__(self, data: np.ndarray, row: np.ndarray, col: np.ndarray, shape: tuple):\n",
    "        self.data = data\n",
    "        self.row = row\n",
    "        self.col = col\n",
    "        self.shape = shape"
   ]
  },
  {
   "cell_type": "code",
   "execution_count": 20,
   "metadata": {},
   "outputs": [],
   "source": [
    "def dense_to_coo(A):\n",
    "    '''Convert dense matrix to sparse in COO format.\n",
    "    \n",
    "    Parameters\n",
    "    ----------\n",
    "    A : np.ndarray\n",
    "        Dense matrix\n",
    "        \n",
    "    Returns\n",
    "    -------\n",
    "    A_coo : SparseCOO\n",
    "        Sparse matrix in COO format.\n",
    "    '''\n",
    "    # to be modified\n",
    "    row, col = A.nonzero()\n",
    "    data = A[row, col] # or data = A[A!=0]\n",
    "    shape = A.shape\n",
    "    return SparseCOO(data, row, col, shape)"
   ]
  },
  {
   "cell_type": "code",
   "execution_count": 21,
   "metadata": {},
   "outputs": [],
   "source": [
    "def test_equality(A, B, attributes):\n",
    "    return [np.all(getattr(A, a) == getattr(B, a)) for a in attributes]"
   ]
  },
  {
   "cell_type": "code",
   "execution_count": 22,
   "metadata": {},
   "outputs": [],
   "source": [
    "# test\n",
    "A_dense = np.random.randint(2, size = (5,10))\n",
    "A_coo = sparse.coo_matrix(A_dense)\n",
    "A_coo_ = dense_to_coo(A_dense)"
   ]
  },
  {
   "cell_type": "code",
   "execution_count": 23,
   "metadata": {},
   "outputs": [
    {
     "data": {
      "text/plain": [
       "[True, True, True]"
      ]
     },
     "execution_count": 23,
     "metadata": {},
     "output_type": "execute_result"
    }
   ],
   "source": [
    "test_equality(A_coo, A_coo_, [\"data\", \"row\", \"col\"])"
   ]
  },
  {
   "cell_type": "markdown",
   "metadata": {},
   "source": [
    "## CSR format"
   ]
  },
  {
   "cell_type": "markdown",
   "metadata": {},
   "source": [
    "The CSR (Compressed Sparse Row) format is the most efficient for arithmetic operations (see below)."
   ]
  },
  {
   "cell_type": "code",
   "execution_count": 24,
   "metadata": {
    "scrolled": true
   },
   "outputs": [
    {
     "data": {
      "text/plain": [
       "array([[1, 1, 1, 1, 0, 1, 0, 0, 1, 1],\n",
       "       [1, 1, 1, 1, 1, 0, 1, 1, 1, 0],\n",
       "       [1, 1, 1, 1, 0, 1, 1, 1, 0, 1],\n",
       "       [0, 1, 0, 0, 0, 1, 0, 1, 1, 1],\n",
       "       [0, 1, 0, 0, 1, 1, 1, 0, 1, 1]])"
      ]
     },
     "execution_count": 24,
     "metadata": {},
     "output_type": "execute_result"
    }
   ],
   "source": [
    "A_dense"
   ]
  },
  {
   "cell_type": "code",
   "execution_count": 25,
   "metadata": {},
   "outputs": [],
   "source": [
    "A_csr = sparse.csr_matrix(A_dense)"
   ]
  },
  {
   "cell_type": "code",
   "execution_count": 26,
   "metadata": {},
   "outputs": [
    {
     "data": {
      "text/plain": [
       "<5x10 sparse matrix of type '<class 'numpy.intc'>'\n",
       "\twith 34 stored elements in Compressed Sparse Row format>"
      ]
     },
     "execution_count": 26,
     "metadata": {},
     "output_type": "execute_result"
    }
   ],
   "source": [
    "A_csr"
   ]
  },
  {
   "cell_type": "code",
   "execution_count": 27,
   "metadata": {},
   "outputs": [
    {
     "data": {
      "text/plain": [
       "(5, 10)"
      ]
     },
     "execution_count": 27,
     "metadata": {},
     "output_type": "execute_result"
    }
   ],
   "source": [
    "A_csr.shape"
   ]
  },
  {
   "cell_type": "code",
   "execution_count": 28,
   "metadata": {},
   "outputs": [
    {
     "data": {
      "text/plain": [
       "34"
      ]
     },
     "execution_count": 28,
     "metadata": {},
     "output_type": "execute_result"
    }
   ],
   "source": [
    "A_csr.nnz"
   ]
  },
  {
   "cell_type": "code",
   "execution_count": 29,
   "metadata": {},
   "outputs": [
    {
     "name": "stdout",
     "output_type": "stream",
     "text": [
      "[0 1 2 3 5 8 9 0 1 2 3 4 6 7 8 0 1 2 3 5 6 7 9 1 5 7 8 9 1 4 5 6 8 9]\n",
      "[ 0  7 15 23 28 34]\n",
      "[1 1 1 1 1 1 1 1 1 1 1 1 1 1 1 1 1 1 1 1 1 1 1 1 1 1 1 1 1 1 1 1 1 1]\n"
     ]
    }
   ],
   "source": [
    "print(A_csr.indices)\n",
    "print(A_csr.indptr)\n",
    "print(A_csr.data)"
   ]
  },
  {
   "cell_type": "code",
   "execution_count": 30,
   "metadata": {},
   "outputs": [
    {
     "data": {
      "text/plain": [
       "0"
      ]
     },
     "execution_count": 30,
     "metadata": {},
     "output_type": "execute_result"
    }
   ],
   "source": [
    "A_csr[3, 4]"
   ]
  },
  {
   "cell_type": "code",
   "execution_count": 31,
   "metadata": {},
   "outputs": [
    {
     "data": {
      "text/plain": [
       "<1x10 sparse matrix of type '<class 'numpy.intc'>'\n",
       "\twith 5 stored elements in Compressed Sparse Row format>"
      ]
     },
     "execution_count": 31,
     "metadata": {},
     "output_type": "execute_result"
    }
   ],
   "source": [
    "A_csr[3]"
   ]
  },
  {
   "cell_type": "code",
   "execution_count": 32,
   "metadata": {},
   "outputs": [
    {
     "data": {
      "text/plain": [
       "array([[0, 1, 0, 0, 0, 1, 0, 1, 1, 1]], dtype=int32)"
      ]
     },
     "execution_count": 32,
     "metadata": {},
     "output_type": "execute_result"
    }
   ],
   "source": [
    "A_csr[3].toarray()"
   ]
  },
  {
   "cell_type": "code",
   "execution_count": 33,
   "metadata": {},
   "outputs": [],
   "source": [
    "# data might have zeros!\n",
    "indices = A_csr.indices\n",
    "indptr = A_csr.indptr\n",
    "data = np.random.randint(5, size=len(A_csr.data))\n",
    "shape = A_csr.shape"
   ]
  },
  {
   "cell_type": "code",
   "execution_count": 34,
   "metadata": {},
   "outputs": [],
   "source": [
    "B_csr = sparse.csr_matrix((data, indices, indptr), shape)"
   ]
  },
  {
   "cell_type": "code",
   "execution_count": 35,
   "metadata": {},
   "outputs": [
    {
     "data": {
      "text/plain": [
       "<5x10 sparse matrix of type '<class 'numpy.int32'>'\n",
       "\twith 34 stored elements in Compressed Sparse Row format>"
      ]
     },
     "execution_count": 35,
     "metadata": {},
     "output_type": "execute_result"
    }
   ],
   "source": [
    "B_csr"
   ]
  },
  {
   "cell_type": "code",
   "execution_count": 36,
   "metadata": {},
   "outputs": [],
   "source": [
    "B_csr.eliminate_zeros()"
   ]
  },
  {
   "cell_type": "code",
   "execution_count": 37,
   "metadata": {},
   "outputs": [
    {
     "data": {
      "text/plain": [
       "<5x10 sparse matrix of type '<class 'numpy.int32'>'\n",
       "\twith 30 stored elements in Compressed Sparse Row format>"
      ]
     },
     "execution_count": 37,
     "metadata": {},
     "output_type": "execute_result"
    }
   ],
   "source": [
    "B_csr"
   ]
  },
  {
   "cell_type": "code",
   "execution_count": 38,
   "metadata": {},
   "outputs": [],
   "source": [
    "# from COO format\n",
    "row = [0, 0, 1, 2, 2]\n",
    "col = [2, 3, 0, 1, 2]\n",
    "data = np.ones(5)\n",
    "A_csr = sparse.csr_matrix((data, (row, col)), shape = (3, 4))"
   ]
  },
  {
   "cell_type": "code",
   "execution_count": 39,
   "metadata": {},
   "outputs": [
    {
     "data": {
      "text/plain": [
       "array([[0., 0., 1., 1.],\n",
       "       [1., 0., 0., 0.],\n",
       "       [0., 1., 1., 0.]])"
      ]
     },
     "execution_count": 39,
     "metadata": {},
     "output_type": "execute_result"
    }
   ],
   "source": [
    "A_csr.toarray()"
   ]
  },
  {
   "cell_type": "code",
   "execution_count": 40,
   "metadata": {},
   "outputs": [],
   "source": [
    "# equivalently\n",
    "A_coo = sparse.coo_matrix((data, (row, col)), shape = (3, 4))\n",
    "A_csr = sparse.csr_matrix(A_coo)"
   ]
  },
  {
   "cell_type": "code",
   "execution_count": 41,
   "metadata": {},
   "outputs": [
    {
     "data": {
      "text/plain": [
       "array([[0., 0., 1., 1.],\n",
       "       [1., 0., 0., 0.],\n",
       "       [0., 1., 1., 0.]])"
      ]
     },
     "execution_count": 41,
     "metadata": {},
     "output_type": "execute_result"
    }
   ],
   "source": [
    "A_csr.toarray()"
   ]
  },
  {
   "cell_type": "markdown",
   "metadata": {},
   "source": [
    "## ~To do~"
   ]
  },
  {
   "cell_type": "markdown",
   "metadata": {},
   "source": [
    "Complete the function below that converts a sparse matrix from COO format to CSR format.\n",
    "\n",
    "Again...\n",
    "* don't use `scipy`\n",
    "* don't use any loop\n",
    "\n",
    "**Hint:** Use ``np.unique`` and ``np.cumsum``."
   ]
  },
  {
   "cell_type": "code",
   "execution_count": 42,
   "metadata": {},
   "outputs": [
    {
     "data": {
      "text/plain": [
       "(array([0, 0, 0, 0, 0, 0, 0, 1, 1, 1, 1, 1, 1, 1, 1, 2, 2, 2, 2, 2, 2, 2,\n",
       "        2, 3, 3, 3, 3, 3, 4, 4, 4, 4, 4, 4], dtype=int32),\n",
       " (array([0, 1, 2, 3, 4], dtype=int32), array([7, 8, 8, 5, 6], dtype=int64)))"
      ]
     },
     "execution_count": 42,
     "metadata": {},
     "output_type": "execute_result"
    }
   ],
   "source": [
    "A_coo = sparse.coo_matrix(A_dense)\n",
    "A_csr = sparse.csr_matrix(A_dense)\n",
    "A_coo.col, A_csr.indices # they are the same\n",
    "A_coo.row, np.unique(A_coo.row, return_counts=True)"
   ]
  },
  {
   "cell_type": "code",
   "execution_count": 96,
   "metadata": {},
   "outputs": [
    {
     "data": {
      "text/plain": [
       "(array([ 0,  7, 14, 21, 26, 32], dtype=int32),\n",
       " array([ 0,  7, 14, 21, 26, 32], dtype=int32))"
      ]
     },
     "execution_count": 96,
     "metadata": {},
     "output_type": "execute_result"
    }
   ],
   "source": [
    "indptr = np.zeros(shape[0] + 1, dtype=int)\n",
    "row_indices, counts = np.unique(A_coo.row, return_counts=True)\n",
    "indptr[row_indices + 1] = counts\n",
    "indptr\n",
    "indptr = np.cumsum(indptr)\n",
    "\n",
    "indptr, A_csr.indptr"
   ]
  },
  {
   "cell_type": "code",
   "execution_count": 43,
   "metadata": {},
   "outputs": [],
   "source": [
    "class SparseCSR():\n",
    "    def __init__(self, data: np.ndarray, indices: np.ndarray, indptr: np.ndarray, shape: tuple):\n",
    "        self.data = data\n",
    "        self.indices = indices\n",
    "        self.indptr = indptr\n",
    "        self.shape = shape"
   ]
  },
  {
   "cell_type": "code",
   "execution_count": 97,
   "metadata": {},
   "outputs": [],
   "source": [
    "def coo_to_csr(A_coo):\n",
    "    '''Convert a sparse matrix from COO to CSR format.\n",
    "    \n",
    "    Parameters\n",
    "    ----------\n",
    "    A_coo : SparseCSR\n",
    "        Sparse matrix in COO format.\n",
    "        \n",
    "    Returns\n",
    "    -------\n",
    "    A_csr : SparseCSR\n",
    "        Sparse matrix in CSR format.\n",
    "    '''\n",
    "    # to be modified\n",
    "    data = A_coo.data\n",
    "    \n",
    "    indices = A_coo.col\n",
    "    \n",
    "    shape = A_coo.shape\n",
    "    \n",
    "    indptr = np.zeros(shape[0] + 1, dtype=int)\n",
    "    row_indices, counts = np.unique(A_coo.row, return_counts=True)\n",
    "    indptr[row_indices + 1] = counts\n",
    "    indptr = np.cumsum(indptr)\n",
    "    \n",
    "    return SparseCSR(data, indices, indptr, shape)"
   ]
  },
  {
   "cell_type": "code",
   "execution_count": 98,
   "metadata": {},
   "outputs": [],
   "source": [
    "def dense_to_csr(A):\n",
    "    '''Convert dense matrix to sparse in CSR format.\n",
    "    \n",
    "    Parameters\n",
    "    ----------\n",
    "    A : np.ndarray\n",
    "        Dense matrix\n",
    "        \n",
    "    Returns\n",
    "    -------\n",
    "    A_csr : SparseCSR\n",
    "        Sparse matrix in CSR format.\n",
    "    '''\n",
    "    return coo_to_csr(sparse.coo_matrix(A))"
   ]
  },
  {
   "cell_type": "code",
   "execution_count": 99,
   "metadata": {
    "scrolled": true
   },
   "outputs": [],
   "source": [
    "# test\n",
    "A_dense = np.random.randint(2, size = (5,10))\n",
    "A_csr = sparse.csr_matrix(A_dense)\n",
    "A_csr_ = dense_to_csr(A_dense)"
   ]
  },
  {
   "cell_type": "code",
   "execution_count": 100,
   "metadata": {},
   "outputs": [
    {
     "data": {
      "text/plain": [
       "[True, True, True]"
      ]
     },
     "execution_count": 100,
     "metadata": {},
     "output_type": "execute_result"
    }
   ],
   "source": [
    "test_equality(A_csr, A_csr_, [\"data\", \"indices\", \"indptr\"])"
   ]
  },
  {
   "cell_type": "markdown",
   "metadata": {},
   "source": [
    "## Diagonal format"
   ]
  },
  {
   "cell_type": "code",
   "execution_count": 101,
   "metadata": {},
   "outputs": [],
   "source": [
    "A_diag = sparse.diags(np.arange(5))"
   ]
  },
  {
   "cell_type": "code",
   "execution_count": 102,
   "metadata": {},
   "outputs": [
    {
     "data": {
      "text/plain": [
       "<5x5 sparse matrix of type '<class 'numpy.float64'>'\n",
       "\twith 5 stored elements (1 diagonals) in DIAgonal format>"
      ]
     },
     "execution_count": 102,
     "metadata": {},
     "output_type": "execute_result"
    }
   ],
   "source": [
    "A_diag"
   ]
  },
  {
   "cell_type": "code",
   "execution_count": 103,
   "metadata": {},
   "outputs": [
    {
     "data": {
      "text/plain": [
       "array([[0., 0., 0., 0., 0.],\n",
       "       [0., 1., 0., 0., 0.],\n",
       "       [0., 0., 2., 0., 0.],\n",
       "       [0., 0., 0., 3., 0.],\n",
       "       [0., 0., 0., 0., 4.]])"
      ]
     },
     "execution_count": 103,
     "metadata": {},
     "output_type": "execute_result"
    }
   ],
   "source": [
    "A_diag.toarray()"
   ]
  },
  {
   "cell_type": "code",
   "execution_count": 104,
   "metadata": {
    "scrolled": true
   },
   "outputs": [
    {
     "data": {
      "text/plain": [
       "array([0., 1., 2., 3., 4.])"
      ]
     },
     "execution_count": 104,
     "metadata": {},
     "output_type": "execute_result"
    }
   ],
   "source": [
    "A_diag.diagonal()"
   ]
  },
  {
   "cell_type": "code",
   "execution_count": 105,
   "metadata": {},
   "outputs": [],
   "source": [
    "A = sparse.csr_matrix(A_diag)"
   ]
  },
  {
   "cell_type": "code",
   "execution_count": 106,
   "metadata": {},
   "outputs": [
    {
     "data": {
      "text/plain": [
       "(<5x5 sparse matrix of type '<class 'numpy.float64'>'\n",
       " \twith 4 stored elements in Compressed Sparse Row format>,\n",
       " array([1., 2., 3., 4.]),\n",
       " array([1, 2, 3, 4], dtype=int32),\n",
       " array([0, 0, 1, 2, 3, 4], dtype=int32))"
      ]
     },
     "execution_count": 106,
     "metadata": {},
     "output_type": "execute_result"
    }
   ],
   "source": [
    "A, A.data, A.indices, A.indptr"
   ]
  },
  {
   "cell_type": "markdown",
   "metadata": {},
   "source": [
    "## ~To do~"
   ]
  },
  {
   "cell_type": "markdown",
   "metadata": {},
   "source": [
    "Complete the following function that returns a sparse CSR matrix with the pseudo-inverse vector on the diagonal.\n",
    "\n",
    "**Example:** pseudo inverse of (0, 1, 2) -> (0, 1, 1/2)\n",
    "\n",
    "**Hint:** Use the property of sparse matrices!"
   ]
  },
  {
   "cell_type": "code",
   "execution_count": 246,
   "metadata": {},
   "outputs": [],
   "source": [
    "def get_pseudo_inverse(vector):\n",
    "    '''Return a sparse matrix with pseudo-inverse on the diagonal.\n",
    "    \n",
    "    Parameters\n",
    "    ----------\n",
    "    vector : np.ndarray\n",
    "        Input vector. \n",
    "        \n",
    "    Returns\n",
    "    -------\n",
    "    A_csr : sparse.csr_matrix\n",
    "        Sparse matrix in scipy CSR format.\n",
    "    '''    \n",
    "    # to be modified\n",
    "    Dinv = sparse.csr_matrix(vector, dtype=float)\n",
    "    Dinv.data = np.reciprocal(Dinv.data) #elelment-wise inverse of a vector\n",
    "    return Dinv"
   ]
  },
  {
   "cell_type": "code",
   "execution_count": 247,
   "metadata": {},
   "outputs": [
    {
     "data": {
      "text/plain": [
       "array([[0. , 1. , 0.5]])"
      ]
     },
     "execution_count": 247,
     "metadata": {},
     "output_type": "execute_result"
    }
   ],
   "source": [
    "# test\n",
    "get_pseudo_inverse(np.arange(3)).toarray()"
   ]
  },
  {
   "cell_type": "markdown",
   "metadata": {},
   "source": [
    "## Operations"
   ]
  },
  {
   "cell_type": "markdown",
   "metadata": {},
   "source": [
    "Usual arithmetic operations apply to sparse matrices. The only contraint is to have a sparse matrix on the **left-hand side** of the operator."
   ]
  },
  {
   "cell_type": "code",
   "execution_count": 202,
   "metadata": {},
   "outputs": [
    {
     "data": {
      "text/plain": [
       "array([[0, 0, 1, 1, 1, 0, 1, 0, 1, 0],\n",
       "       [1, 0, 1, 0, 1, 1, 1, 0, 0, 0],\n",
       "       [1, 1, 1, 0, 0, 1, 1, 1, 1, 1],\n",
       "       [1, 0, 1, 0, 0, 1, 1, 0, 0, 1],\n",
       "       [1, 1, 1, 0, 0, 1, 1, 1, 1, 1]])"
      ]
     },
     "execution_count": 202,
     "metadata": {},
     "output_type": "execute_result"
    }
   ],
   "source": [
    "A_dense"
   ]
  },
  {
   "cell_type": "code",
   "execution_count": 203,
   "metadata": {},
   "outputs": [],
   "source": [
    "A = sparse.csr_matrix(A_dense)"
   ]
  },
  {
   "cell_type": "code",
   "execution_count": 204,
   "metadata": {},
   "outputs": [],
   "source": [
    "n_row, n_col = A.shape"
   ]
  },
  {
   "cell_type": "code",
   "execution_count": 205,
   "metadata": {
    "scrolled": true
   },
   "outputs": [
    {
     "data": {
      "text/plain": [
       "array([5, 5, 8, 5, 8], dtype=int32)"
      ]
     },
     "execution_count": 205,
     "metadata": {},
     "output_type": "execute_result"
    }
   ],
   "source": [
    "A.dot(np.ones(n_col, dtype=int)) #degree of each node"
   ]
  },
  {
   "cell_type": "code",
   "execution_count": 206,
   "metadata": {},
   "outputs": [
    {
     "data": {
      "text/plain": [
       "array([4, 2, 5, 1, 2, 4, 5, 2, 3, 3], dtype=int32)"
      ]
     },
     "execution_count": 206,
     "metadata": {},
     "output_type": "execute_result"
    }
   ],
   "source": [
    "A.T.dot(np.ones(n_row, dtype=int))"
   ]
  },
  {
   "cell_type": "code",
   "execution_count": 207,
   "metadata": {},
   "outputs": [
    {
     "data": {
      "text/plain": [
       "<10x5 sparse matrix of type '<class 'numpy.intc'>'\n",
       "\twith 31 stored elements in Compressed Sparse Column format>"
      ]
     },
     "execution_count": 207,
     "metadata": {},
     "output_type": "execute_result"
    }
   ],
   "source": [
    "# observe the format of the transpose\n",
    "A.T"
   ]
  },
  {
   "cell_type": "code",
   "execution_count": 208,
   "metadata": {},
   "outputs": [
    {
     "data": {
      "text/plain": [
       "<10x10 sparse matrix of type '<class 'numpy.intc'>'\n",
       "\twith 84 stored elements in Compressed Sparse Column format>"
      ]
     },
     "execution_count": 208,
     "metadata": {},
     "output_type": "execute_result"
    }
   ],
   "source": [
    "A.T.dot(A)"
   ]
  },
  {
   "cell_type": "code",
   "execution_count": 209,
   "metadata": {},
   "outputs": [
    {
     "data": {
      "text/plain": [
       "<5x5 sparse matrix of type '<class 'numpy.intc'>'\n",
       "\twith 25 stored elements in Compressed Sparse Row format>"
      ]
     },
     "execution_count": 209,
     "metadata": {},
     "output_type": "execute_result"
    }
   ],
   "source": [
    "A.dot(A.T)"
   ]
  },
  {
   "cell_type": "code",
   "execution_count": 210,
   "metadata": {},
   "outputs": [],
   "source": [
    "A.data = np.random.choice((1,2,3,4), size = len(A.data))"
   ]
  },
  {
   "cell_type": "code",
   "execution_count": 217,
   "metadata": {},
   "outputs": [
    {
     "data": {
      "text/plain": [
       "array([3, 1, 3, 4, 1, 2, 4, 3, 3, 1, 3, 2, 4, 1, 3, 3, 3, 2, 1, 3, 4, 3,\n",
       "       1, 4, 3, 2, 1, 3, 4, 3, 1])"
      ]
     },
     "execution_count": 217,
     "metadata": {},
     "output_type": "execute_result"
    }
   ],
   "source": [
    "A.data"
   ]
  },
  {
   "cell_type": "code",
   "execution_count": 218,
   "metadata": {},
   "outputs": [],
   "source": [
    "B = A > 1"
   ]
  },
  {
   "cell_type": "code",
   "execution_count": 231,
   "metadata": {},
   "outputs": [
    {
     "data": {
      "text/plain": [
       "<5x10 sparse matrix of type '<class 'numpy.bool_'>'\n",
       "\twith 19 stored elements in Compressed Sparse Row format>"
      ]
     },
     "execution_count": 231,
     "metadata": {},
     "output_type": "execute_result"
    }
   ],
   "source": [
    "B"
   ]
  },
  {
   "cell_type": "code",
   "execution_count": 235,
   "metadata": {},
   "outputs": [],
   "source": [
    "# Explain the following warning...\n",
    "B = A < 1\n",
    "# There is no element that is less than 1 in A, so the resulting answer will be an empty matrix, which is ineffeicient to store in a CSR matrix.\n",
    "#Usually, sparse matrices hold values bigger than 0.\n",
    "# All sparse data saatisfy the condition..."
   ]
  },
  {
   "cell_type": "code",
   "execution_count": 236,
   "metadata": {},
   "outputs": [
    {
     "data": {
      "text/plain": [
       "<5x10 sparse matrix of type '<class 'numpy.bool_'>'\n",
       "\twith 19 stored elements in Compressed Sparse Row format>"
      ]
     },
     "execution_count": 236,
     "metadata": {},
     "output_type": "execute_result"
    }
   ],
   "source": [
    "B"
   ]
  },
  {
   "cell_type": "code",
   "execution_count": 237,
   "metadata": {},
   "outputs": [],
   "source": [
    "B_dense = np.random.randint(2, size = (5,10))\n",
    "B = sparse.csr_matrix(B_dense)"
   ]
  },
  {
   "cell_type": "code",
   "execution_count": 238,
   "metadata": {},
   "outputs": [
    {
     "data": {
      "text/plain": [
       "<5x10 sparse matrix of type '<class 'numpy.intc'>'\n",
       "\twith 41 stored elements in Compressed Sparse Row format>"
      ]
     },
     "execution_count": 238,
     "metadata": {},
     "output_type": "execute_result"
    }
   ],
   "source": [
    "2 * A + 5 * B"
   ]
  },
  {
   "cell_type": "markdown",
   "metadata": {},
   "source": [
    "## To do"
   ]
  },
  {
   "cell_type": "markdown",
   "metadata": {},
   "source": [
    "Complete the following function that normalizes a sparse CSR matrix with non-negative entries so that each row sums to 1 (or to 0 if the whole row is zero). \n",
    "\n",
    "**Hint:** Use the above function ``get_pseudo_inverse``."
   ]
  },
  {
   "cell_type": "code",
   "execution_count": 256,
   "metadata": {},
   "outputs": [
    {
     "data": {
      "text/plain": [
       "(<1x31 sparse matrix of type '<class 'numpy.float64'>'\n",
       " \twith 31 stored elements in Compressed Sparse Row format>,\n",
       " array([3, 1, 3, 4, 1, 2, 4, 3, 3, 1, 3, 2, 4, 1, 3, 3, 3, 2, 1, 3, 4, 3,\n",
       "        1, 4, 3, 2, 1, 3, 4, 3, 1]))"
      ]
     },
     "execution_count": 256,
     "metadata": {},
     "output_type": "execute_result"
    }
   ],
   "source": [
    "get_pseudo_inverse(A.data), A.data"
   ]
  },
  {
   "cell_type": "code",
   "execution_count": 341,
   "metadata": {},
   "outputs": [
    {
     "data": {
      "text/plain": [
       "array([13, 14, 15, 21, 19, 19, 16, 18, 14, 20, 14, 15, 14, 14, 15, 14, 14,\n",
       "       13, 12, 11], dtype=int32)"
      ]
     },
     "execution_count": 341,
     "metadata": {},
     "output_type": "execute_result"
    }
   ],
   "source": [
    "row_weights = A.dot(np.ones(A.shape[1], dtype=int))"
   ]
  },
  {
   "cell_type": "code",
   "execution_count": 255,
   "metadata": {},
   "outputs": [
    {
     "ename": "SyntaxError",
     "evalue": "invalid syntax (<ipython-input-255-1def34668bf3>, line 15)",
     "output_type": "error",
     "traceback": [
      "\u001b[1;36m  File \u001b[1;32m\"<ipython-input-255-1def34668bf3>\"\u001b[1;36m, line \u001b[1;32m15\u001b[0m\n\u001b[1;33m    A.data =\u001b[0m\n\u001b[1;37m             ^\u001b[0m\n\u001b[1;31mSyntaxError\u001b[0m\u001b[1;31m:\u001b[0m invalid syntax\n"
     ]
    }
   ],
   "source": [
    "def normalize_rows(A):\n",
    "    '''Normalize the rows of a CSR matrix so that all sum to 1 (or 0).\n",
    "    \n",
    "    Parameters\n",
    "    ----------\n",
    "    A : sparse.csr_matrix\n",
    "        Input matrix (non-negative entries).\n",
    "    \n",
    "    Returns\n",
    "    -------\n",
    "    A_norm : sparse.csr_matrix\n",
    "        Normalized matrix. \n",
    "    \n",
    "    '''\n",
    "    A.data = \n",
    "    return None"
   ]
  },
  {
   "cell_type": "markdown",
   "metadata": {},
   "source": [
    "## To do"
   ]
  },
  {
   "cell_type": "markdown",
   "metadata": {},
   "source": [
    "Complete the following method that returns the dot product of a sparse CSR matrix with a vector.\n",
    "\n",
    "* No loop allowed!"
   ]
  },
  {
   "cell_type": "code",
   "execution_count": 258,
   "metadata": {
    "collapsed": true,
    "jupyter": {
     "outputs_hidden": true
    }
   },
   "outputs": [
    {
     "data": {
      "text/plain": [
       "\u001b[1;31mDocstring:\u001b[0m\n",
       "reduceat(a, indices, axis=0, dtype=None, out=None)\n",
       "\n",
       "Performs a (local) reduce with specified slices over a single axis.\n",
       "\n",
       "For i in ``range(len(indices))``, `reduceat` computes\n",
       "``ufunc.reduce(a[indices[i]:indices[i+1]])``, which becomes the i-th\n",
       "generalized \"row\" parallel to `axis` in the final result (i.e., in a\n",
       "2-D array, for example, if `axis = 0`, it becomes the i-th row, but if\n",
       "`axis = 1`, it becomes the i-th column).  There are three exceptions to this:\n",
       "\n",
       "* when ``i = len(indices) - 1`` (so for the last index),\n",
       "  ``indices[i+1] = a.shape[axis]``.\n",
       "* if ``indices[i] >= indices[i + 1]``, the i-th generalized \"row\" is\n",
       "  simply ``a[indices[i]]``.\n",
       "* if ``indices[i] >= len(a)`` or ``indices[i] < 0``, an error is raised.\n",
       "\n",
       "The shape of the output depends on the size of `indices`, and may be\n",
       "larger than `a` (this happens if ``len(indices) > a.shape[axis]``).\n",
       "\n",
       "Parameters\n",
       "----------\n",
       "a : array_like\n",
       "    The array to act on.\n",
       "indices : array_like\n",
       "    Paired indices, comma separated (not colon), specifying slices to\n",
       "    reduce.\n",
       "axis : int, optional\n",
       "    The axis along which to apply the reduceat.\n",
       "dtype : data-type code, optional\n",
       "    The type used to represent the intermediate results. Defaults\n",
       "    to the data type of the output array if this is provided, or\n",
       "    the data type of the input array if no output array is provided.\n",
       "out : ndarray, None, or tuple of ndarray and None, optional\n",
       "    A location into which the result is stored. If not provided or None,\n",
       "    a freshly-allocated array is returned. For consistency with\n",
       "    ``ufunc.__call__``, if given as a keyword, this may be wrapped in a\n",
       "    1-element tuple.\n",
       "\n",
       "    .. versionchanged:: 1.13.0\n",
       "       Tuples are allowed for keyword argument.\n",
       "\n",
       "Returns\n",
       "-------\n",
       "r : ndarray\n",
       "    The reduced values. If `out` was supplied, `r` is a reference to\n",
       "    `out`.\n",
       "\n",
       "Notes\n",
       "-----\n",
       "A descriptive example:\n",
       "\n",
       "If `a` is 1-D, the function `ufunc.accumulate(a)` is the same as\n",
       "``ufunc.reduceat(a, indices)[::2]`` where `indices` is\n",
       "``range(len(array) - 1)`` with a zero placed\n",
       "in every other element:\n",
       "``indices = zeros(2 * len(a) - 1)``, ``indices[1::2] = range(1, len(a))``.\n",
       "\n",
       "Don't be fooled by this attribute's name: `reduceat(a)` is not\n",
       "necessarily smaller than `a`.\n",
       "\n",
       "Examples\n",
       "--------\n",
       "To take the running sum of four successive values:\n",
       "\n",
       ">>> np.add.reduceat(np.arange(8),[0,4, 1,5, 2,6, 3,7])[::2]\n",
       "array([ 6, 10, 14, 18])\n",
       "\n",
       "A 2-D example:\n",
       "\n",
       ">>> x = np.linspace(0, 15, 16).reshape(4,4)\n",
       ">>> x\n",
       "array([[ 0.,   1.,   2.,   3.],\n",
       "       [ 4.,   5.,   6.,   7.],\n",
       "       [ 8.,   9.,  10.,  11.],\n",
       "       [12.,  13.,  14.,  15.]])\n",
       "\n",
       "::\n",
       "\n",
       " # reduce such that the result has the following five rows:\n",
       " # [row1 + row2 + row3]\n",
       " # [row4]\n",
       " # [row2]\n",
       " # [row3]\n",
       " # [row1 + row2 + row3 + row4]\n",
       "\n",
       ">>> np.add.reduceat(x, [0, 3, 1, 2, 0])\n",
       "array([[12.,  15.,  18.,  21.],\n",
       "       [12.,  13.,  14.,  15.],\n",
       "       [ 4.,   5.,   6.,   7.],\n",
       "       [ 8.,   9.,  10.,  11.],\n",
       "       [24.,  28.,  32.,  36.]])\n",
       "\n",
       "::\n",
       "\n",
       " # reduce such that result has the following two columns:\n",
       " # [col1 * col2 * col3, col4]\n",
       "\n",
       ">>> np.multiply.reduceat(x, [0, 3], 1)\n",
       "array([[   0.,     3.],\n",
       "       [ 120.,     7.],\n",
       "       [ 720.,    11.],\n",
       "       [2184.,    15.]])\n",
       "\u001b[1;31mType:\u001b[0m      builtin_function_or_method\n"
      ]
     },
     "metadata": {},
     "output_type": "display_data"
    }
   ],
   "source": [
    "np.add.reduceat?"
   ]
  },
  {
   "cell_type": "code",
   "execution_count": null,
   "metadata": {},
   "outputs": [],
   "source": [
    "class SparseCSR():\n",
    "    def __init__(self, data: np.ndarray, indices: np.ndarray, indptr: np.ndarray, shape: tuple):\n",
    "        self.data = data\n",
    "        self.indices = indices\n",
    "        self.indptr = indptr\n",
    "        self.shape = shape\n",
    "        \n",
    "    def dot(self, x: np.ndarray) -> np.ndarray:\n",
    "        '''Sparse-vector dot product.'''\n",
    "        # to be modified\n",
    "        return None"
   ]
  },
  {
   "cell_type": "markdown",
   "metadata": {},
   "source": [
    "## Slicing"
   ]
  },
  {
   "cell_type": "markdown",
   "metadata": {},
   "source": [
    "Sparse matrices can be sliced like numpy arrays. The CSR format is more efficient for row slicing (although column slicing is possible), while the CSC format is more efficient for column slicing."
   ]
  },
  {
   "cell_type": "code",
   "execution_count": 260,
   "metadata": {},
   "outputs": [
    {
     "data": {
      "text/plain": [
       "<5x10 sparse matrix of type '<class 'numpy.intc'>'\n",
       "\twith 31 stored elements in Compressed Sparse Row format>"
      ]
     },
     "execution_count": 260,
     "metadata": {},
     "output_type": "execute_result"
    }
   ],
   "source": [
    "A = sparse.csr_matrix(A_dense)\n",
    "A"
   ]
  },
  {
   "cell_type": "code",
   "execution_count": 261,
   "metadata": {},
   "outputs": [
    {
     "data": {
      "text/plain": [
       "<2x10 sparse matrix of type '<class 'numpy.intc'>'\n",
       "\twith 10 stored elements in Compressed Sparse Row format>"
      ]
     },
     "execution_count": 261,
     "metadata": {},
     "output_type": "execute_result"
    }
   ],
   "source": [
    "A[:2]"
   ]
  },
  {
   "cell_type": "code",
   "execution_count": 262,
   "metadata": {},
   "outputs": [
    {
     "data": {
      "text/plain": [
       "<3x8 sparse matrix of type '<class 'numpy.intc'>'\n",
       "\twith 14 stored elements in Compressed Sparse Row format>"
      ]
     },
     "execution_count": 262,
     "metadata": {},
     "output_type": "execute_result"
    }
   ],
   "source": [
    "A[1:4,2:]"
   ]
  },
  {
   "cell_type": "code",
   "execution_count": 264,
   "metadata": {},
   "outputs": [
    {
     "data": {
      "text/plain": [
       "<3x10 sparse matrix of type '<class 'numpy.intc'>'\n",
       "\twith 21 stored elements in Compressed Sparse Row format>"
      ]
     },
     "execution_count": 264,
     "metadata": {},
     "output_type": "execute_result"
    }
   ],
   "source": [
    "A[np.array([0,2,4])] #cherry-picking rows"
   ]
  },
  {
   "cell_type": "markdown",
   "metadata": {},
   "source": [
    "## ~To do~\n",
    "\n",
    "Consider the following matrix:"
   ]
  },
  {
   "cell_type": "code",
   "execution_count": 323,
   "metadata": {},
   "outputs": [
    {
     "data": {
      "text/plain": [
       "<20x30 sparse matrix of type '<class 'numpy.intc'>'\n",
       "\twith 305 stored elements in Compressed Sparse Row format>"
      ]
     },
     "execution_count": 323,
     "metadata": {},
     "output_type": "execute_result"
    }
   ],
   "source": [
    "A = sparse.csr_matrix(np.random.randint(2, size = (20,30)))\n",
    "A"
   ]
  },
  {
   "cell_type": "markdown",
   "metadata": {},
   "source": [
    "Extract the 10 rows of largest sums and build the corresponding matrix."
   ]
  },
  {
   "cell_type": "code",
   "execution_count": 328,
   "metadata": {},
   "outputs": [
    {
     "data": {
      "text/plain": [
       "matrix([[13, 14, 15, 21, 19, 19, 16, 18, 14, 20, 14, 15, 14, 14, 15, 14,\n",
       "         14, 13, 12, 11]])"
      ]
     },
     "execution_count": 328,
     "metadata": {},
     "output_type": "execute_result"
    }
   ],
   "source": [
    "A.sum(axis=1).T"
   ]
  },
  {
   "cell_type": "code",
   "execution_count": 339,
   "metadata": {},
   "outputs": [
    {
     "data": {
      "text/plain": [
       "array([13, 14, 15, 21, 19, 19, 16, 18, 14, 20, 14, 15, 14, 14, 15, 14, 14,\n",
       "       13, 12, 11], dtype=int32)"
      ]
     },
     "execution_count": 339,
     "metadata": {},
     "output_type": "execute_result"
    }
   ],
   "source": [
    "A.dot(np.ones(A.shape[1], dtype=int))"
   ]
  },
  {
   "cell_type": "code",
   "execution_count": 329,
   "metadata": {},
   "outputs": [
    {
     "data": {
      "text/plain": [
       "array([19, 18, 17,  0,  8, 10, 12, 13, 15, 16], dtype=int64)"
      ]
     },
     "execution_count": 329,
     "metadata": {},
     "output_type": "execute_result"
    }
   ],
   "source": [
    "np.argsort(A.dot(np.ones(A.shape[1], dtype=int)))[:10]"
   ]
  },
  {
   "cell_type": "markdown",
   "metadata": {},
   "source": [
    "#### Solution"
   ]
  },
  {
   "cell_type": "code",
   "execution_count": 340,
   "metadata": {},
   "outputs": [
    {
     "data": {
      "text/plain": [
       "<10x30 sparse matrix of type '<class 'numpy.intc'>'\n",
       "\twith 172 stored elements in Compressed Sparse Row format>"
      ]
     },
     "execution_count": 340,
     "metadata": {},
     "output_type": "execute_result"
    }
   ],
   "source": [
    "A[np.argsort(-A.dot(np.ones(A.shape[1], dtype=int)))[:10]]"
   ]
  },
  {
   "cell_type": "markdown",
   "metadata": {},
   "source": [
    "## Bonus"
   ]
  },
  {
   "cell_type": "markdown",
   "metadata": {},
   "source": [
    "Complete all methods of the following CSR class."
   ]
  },
  {
   "cell_type": "code",
   "execution_count": null,
   "metadata": {},
   "outputs": [],
   "source": [
    "class SparseCSR():\n",
    "    def __init__(self, data: np.ndarray, indices: np.ndarray, indptr: np.ndarray, shape: tuple):\n",
    "        self.data = data\n",
    "        self.indices = indices\n",
    "        self.indptr = indptr\n",
    "        self.shape = shape\n",
    "        \n",
    "    def dot(self, x: np.ndarray) -> np.ndarray:\n",
    "        '''Sparse-vector dot product.'''\n",
    "        # to be modified\n",
    "        prod = np.zeros(shape[0])\n",
    "        x[indices]\n",
    "        return None\n",
    "\n",
    "    def dot_array(self, X: np.ndarray) -> np.ndarray:\n",
    "        '''Sparse-array dot product.'''\n",
    "        # to be modified\n",
    "        return None\n",
    "    \n",
    "    def dot_sparse(self, X: SparseCSR) -> SparseCSR:\n",
    "        '''Sparse-sparse dot product.'''\n",
    "        # to be modified\n",
    "        return None\n",
    "    \n",
    "    def add_sparse(self, X: SparseCSR) -> SparseCSR:\n",
    "        '''Add a sparse matrix.'''\n",
    "        # to be modified\n",
    "        return None\n",
    "    \n",
    "    def slice_row(self, index: np.ndarray) -> SparseCSR:\n",
    "        '''Slice rows of a sparse matrix.'''\n",
    "        # to be modified\n",
    "        return None\n",
    "    \n",
    "    def slice_col(self, index: np.ndarray) -> SparseCSR:\n",
    "        '''Slice columns of a sparse matrix.'''\n",
    "        # to be modified\n",
    "        return None\n",
    "    \n",
    "    def eliminate_zeros(self) -> SparseCSR:\n",
    "        '''Eliminate zeros of a sparse matrix.'''\n",
    "        # to be modified\n",
    "        return None"
   ]
  }
 ],
 "metadata": {
  "kernelspec": {
   "display_name": "Python 3",
   "language": "python",
   "name": "python3"
  },
  "language_info": {
   "codemirror_mode": {
    "name": "ipython",
    "version": 3
   },
   "file_extension": ".py",
   "mimetype": "text/x-python",
   "name": "python",
   "nbconvert_exporter": "python",
   "pygments_lexer": "ipython3",
   "version": "3.6.12"
  }
 },
 "nbformat": 4,
 "nbformat_minor": 4
}
