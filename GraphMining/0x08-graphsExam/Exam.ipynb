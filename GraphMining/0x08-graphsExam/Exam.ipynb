{
 "cells": [
  {
   "cell_type": "markdown",
   "metadata": {},
   "source": [
    "# FREE RUN - EXAM"
   ]
  },
  {
   "cell_type": "code",
   "execution_count": 1,
   "metadata": {},
   "outputs": [],
   "source": [
    "from IPython.display import SVG\n",
    "\n",
    "import numpy as np\n",
    "from scipy import sparse\n",
    "import matplotlib.pyplot as plt\n",
    "\n",
    "from sknetwork.data import load_netset, karate_club\n",
    "from sknetwork.linalg import normalize\n",
    "from sknetwork.utils import membership_matrix\n",
    "from sknetwork.ranking import PageRank, BiPageRank, top_k\n",
    "from sknetwork.clustering import Louvain, BiLouvain, modularity, bimodularity\n",
    "from sknetwork.hierarchy import LouvainHierarchy, BiLouvainHierarchy, Paris, BiParis, cut_straight\n",
    "from sknetwork.visualization import svg_graph, svg_digraph, svg_dendrogram"
   ]
  },
  {
   "cell_type": "code",
   "execution_count": 2,
   "metadata": {},
   "outputs": [],
   "source": [
    "def estimate_diameter(adjacency: sparse.csr_matrix, n_samples=100) -> int:\n",
    "    '''Estimate the diameter of a graph (longest shortest path).\n",
    "    \n",
    "    Parameters\n",
    "    ----------\n",
    "    adjacency: \n",
    "        Adjacency matrix of the graph.\n",
    "    n_samples:\n",
    "        Number of samples.\n",
    "    \n",
    "    Returns\n",
    "    -------\n",
    "    diameter:\n",
    "        Estimation of the diameter. \n",
    "    '''    \n",
    "    n = adjacency.shape[0]\n",
    "    # start from random nodes\n",
    "    nodes = np.random.choice(n, size=n_samples)\n",
    "    distances = distance(adjacency.T, sources=nodes)\n",
    "    distances[distances == np.inf] = -1\n",
    "    # get the corresponding furthest nodes\n",
    "    nodes_far = distances.argmax(axis=1)    \n",
    "    distances = distance(adjacency, sources=nodes_far)\n",
    "    distances[distances == np.inf] = -1\n",
    "    # take the longest shortest path from these nodes \n",
    "    diameter = distances.max()\n",
    "    return int(diameter)"
   ]
  },
  {
   "cell_type": "code",
   "execution_count": null,
   "metadata": {},
   "outputs": [],
   "source": []
  },
  {
   "cell_type": "code",
   "execution_count": null,
   "metadata": {},
   "outputs": [],
   "source": [
    "P = np.array([[]])"
   ]
  },
  {
   "cell_type": "code",
   "execution_count": 4,
   "metadata": {},
   "outputs": [
    {
     "data": {
      "text/plain": [
       "array([[0, 1, 0, 0, 3],\n",
       "       [0, 0, 0, 0, 0],\n",
       "       [1, 2, 1, 0, 0]])"
      ]
     },
     "execution_count": 4,
     "metadata": {},
     "output_type": "execute_result"
    }
   ],
   "source": [
    "sparse.csr_matrix((data, indices, indptr), shape)"
   ]
  },
  {
   "cell_type": "code",
   "execution_count": 6,
   "metadata": {},
   "outputs": [
    {
     "data": {
      "text/plain": [
       "array([[3, 0, 0, 1],\n",
       "       [0, 2, 1, 0],\n",
       "       [0, 0, 0, 0],\n",
       "       [2, 0, 0, 1]])"
      ]
     },
     "execution_count": 6,
     "metadata": {},
     "output_type": "execute_result"
    }
   ],
   "source": [
    "\n",
    "sparse.csr_matrix(( [3, 1, 2, 1, 2, 1], [0, 3, 1, 2, 0, 3], [0, 2, 4, 4, 6]), (4, 4)).toarray()"
   ]
  },
  {
   "cell_type": "code",
   "execution_count": null,
   "metadata": {},
   "outputs": [],
   "source": []
  }
 ],
 "metadata": {
  "kernelspec": {
   "display_name": "Python 3",
   "language": "python",
   "name": "python3"
  },
  "language_info": {
   "codemirror_mode": {
    "name": "ipython",
    "version": 3
   },
   "file_extension": ".py",
   "mimetype": "text/x-python",
   "name": "python",
   "nbconvert_exporter": "python",
   "pygments_lexer": "ipython3",
   "version": "3.6.12"
  }
 },
 "nbformat": 4,
 "nbformat_minor": 4
}
