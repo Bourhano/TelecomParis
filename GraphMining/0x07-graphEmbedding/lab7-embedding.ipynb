{
 "cells": [
  {
   "cell_type": "markdown",
   "metadata": {},
   "source": [
    "# SD212: Graph mining\n",
    "## Lab 7: Graph embedding\n",
    "\n",
    "In this lab, you will learn to embed the nodes of a graph in a vector space of low dimension."
   ]
  },
  {
   "cell_type": "markdown",
   "metadata": {},
   "source": [
    "## Import"
   ]
  },
  {
   "cell_type": "code",
   "execution_count": 1,
   "metadata": {},
   "outputs": [],
   "source": [
    "from IPython.display import SVG"
   ]
  },
  {
   "cell_type": "code",
   "execution_count": 2,
   "metadata": {},
   "outputs": [],
   "source": [
    "import numpy as np\n",
    "from scipy import sparse"
   ]
  },
  {
   "cell_type": "code",
   "execution_count": 3,
   "metadata": {},
   "outputs": [],
   "source": [
    "from sknetwork.data import load_netset, karate_club\n",
    "from sknetwork.embedding import Spectral, BiSpectral  # the target class\n",
    "from sknetwork.linalg import HalkoEig\n",
    "from sknetwork.ranking import top_k\n",
    "from sknetwork.utils import KMeansDense\n",
    "from sknetwork.visualization import svg_graph"
   ]
  },
  {
   "cell_type": "markdown",
   "metadata": {},
   "source": [
    "## Pre-lab"
   ]
  },
  {
   "cell_type": "code",
   "execution_count": 12,
   "metadata": {},
   "outputs": [
    {
     "data": {
      "text/plain": [
       "HalkoEig(which=[[0.  0.5 0.  0.  0.  0.5]\n",
       " [0.5 0.  0.5 0.  0.  0. ]\n",
       " [0.  0.5 0.  0.5 0.  0. ]\n",
       " [0.  0.  0.5 0.  0.5 0. ]\n",
       " [0.  0.  0.  0.5 0.  0.5]\n",
       " [0.5 0.  0.  0.  0.5 0. ]], n_oversamples=10, n_iter='auto', power_iteration_normalizer='auto', one_pass=False)"
      ]
     },
     "execution_count": 12,
     "metadata": {},
     "output_type": "execute_result"
    }
   ],
   "source": [
    "# answering the quiz:\n",
    "P = np.array([[0, 1/2, 0, 0, 0, 1/2],\n",
    "              [1/2, 0, 1/2, 0, 0, 0],\n",
    "              [0, 1/2, 0, 1/2, 0, 0],\n",
    "              [0, 0, 1/2, 0, 1/2, 0],\n",
    "              [0, 0, 0, 1/2, 0, 1/2],\n",
    "              [1/2, 0, 0, 0, 1/2, 0]])\n",
    "np.linalg.eig(P)\n",
    "HalkoEig(P)"
   ]
  },
  {
   "cell_type": "markdown",
   "metadata": {},
   "source": [
    "## Data"
   ]
  },
  {
   "cell_type": "markdown",
   "metadata": {},
   "source": [
    "We will work on the following graphs (see the [NetSet](https://netset.telecom-paristech.fr/) collection for details):\n",
    "* Openflights (graph)\n",
    "* WikiVitals (directed graph and bipartite graph)"
   ]
  },
  {
   "cell_type": "code",
   "execution_count": 7,
   "metadata": {},
   "outputs": [
    {
     "name": "stdout",
     "output_type": "stream",
     "text": [
      "Parsing files...\n",
      "Done.\n",
      "Parsing files...\n",
      "Done.\n"
     ]
    }
   ],
   "source": [
    "openflights = load_netset('openflights')\n",
    "wikivitals = load_netset('wikivitals')"
   ]
  },
  {
   "cell_type": "markdown",
   "metadata": {},
   "source": [
    "## 1. Graphs"
   ]
  },
  {
   "cell_type": "markdown",
   "metadata": {},
   "source": [
    "## Karate Club\n"
   ]
  },
  {
   "cell_type": "markdown",
   "metadata": {},
   "source": [
    "We first consider the spectral embedding of the [karate club graph](https://en.wikipedia.org/wiki/Zachary%27s_karate_club)."
   ]
  },
  {
   "cell_type": "code",
   "execution_count": 8,
   "metadata": {},
   "outputs": [],
   "source": [
    "graph = karate_club(True)"
   ]
  },
  {
   "cell_type": "code",
   "execution_count": 9,
   "metadata": {},
   "outputs": [],
   "source": [
    "adjacency = graph.adjacency\n",
    "position = graph.position\n",
    "labels_true = graph.labels"
   ]
  },
  {
   "cell_type": "code",
   "execution_count": 10,
   "metadata": {},
   "outputs": [
    {
     "data": {
      "image/svg+xml": [
       "<svg height=\"340\" width=\"440\" xmlns=\"http://www.w3.org/2000/svg\">\n",
       "<path d=\"M 264 200 353 168\" stroke=\"black\" stroke-width=\"1\"/>\n",
       "<path d=\"M 20 116 153 125\" stroke=\"black\" stroke-width=\"1\"/>\n",
       "<path d=\"M 28 91 131 68\" stroke=\"black\" stroke-width=\"1\"/>\n",
       "<path d=\"M 28 91 20 116\" stroke=\"black\" stroke-width=\"1\"/>\n",
       "<path d=\"M 28 91 153 125\" stroke=\"black\" stroke-width=\"1\"/>\n",
       "<path d=\"M 162 20 171 45\" stroke=\"black\" stroke-width=\"1\"/>\n",
       "<path d=\"M 162 20 246 82\" stroke=\"black\" stroke-width=\"1\"/>\n",
       "<path d=\"M 122 103 251 143\" stroke=\"black\" stroke-width=\"1\"/>\n",
       "<path d=\"M 122 103 131 68\" stroke=\"black\" stroke-width=\"1\"/>\n",
       "<path d=\"M 122 103 20 116\" stroke=\"black\" stroke-width=\"1\"/>\n",
       "<path d=\"M 122 103 246 82\" stroke=\"black\" stroke-width=\"1\"/>\n",
       "<path d=\"M 197 120 251 143\" stroke=\"black\" stroke-width=\"1\"/>\n",
       "<path d=\"M 197 120 153 125\" stroke=\"black\" stroke-width=\"1\"/>\n",
       "<path d=\"M 197 120 246 82\" stroke=\"black\" stroke-width=\"1\"/>\n",
       "<path d=\"M 171 45 131 68\" stroke=\"black\" stroke-width=\"1\"/>\n",
       "<path d=\"M 171 45 162 20\" stroke=\"black\" stroke-width=\"1\"/>\n",
       "<path d=\"M 20 116 122 103\" stroke=\"black\" stroke-width=\"1\"/>\n",
       "<path d=\"M 20 116 28 91\" stroke=\"black\" stroke-width=\"1\"/>\n",
       "<path d=\"M 131 68 246 82\" stroke=\"black\" stroke-width=\"1\"/>\n",
       "<path d=\"M 131 68 260 73\" stroke=\"black\" stroke-width=\"1\"/>\n",
       "<path d=\"M 388 216 264 200\" stroke=\"black\" stroke-width=\"1\"/>\n",
       "<path d=\"M 388 216 353 168\" stroke=\"black\" stroke-width=\"1\"/>\n",
       "<path d=\"M 313 34 260 73\" stroke=\"black\" stroke-width=\"1\"/>\n",
       "<path d=\"M 313 34 246 82\" stroke=\"black\" stroke-width=\"1\"/>\n",
       "<path d=\"M 331 143 264 200\" stroke=\"black\" stroke-width=\"1\"/>\n",
       "<path d=\"M 331 143 353 168\" stroke=\"black\" stroke-width=\"1\"/>\n",
       "<path d=\"M 331 143 246 82\" stroke=\"black\" stroke-width=\"1\"/>\n",
       "<path d=\"M 171 45 260 73\" stroke=\"black\" stroke-width=\"1\"/>\n",
       "<path d=\"M 366 61 260 73\" stroke=\"black\" stroke-width=\"1\"/>\n",
       "<path d=\"M 420 202 264 200\" stroke=\"black\" stroke-width=\"1\"/>\n",
       "<path d=\"M 420 202 353 168\" stroke=\"black\" stroke-width=\"1\"/>\n",
       "<path d=\"M 228 32 260 73\" stroke=\"black\" stroke-width=\"1\"/>\n",
       "<path d=\"M 228 32 246 82\" stroke=\"black\" stroke-width=\"1\"/>\n",
       "<path d=\"M 131 68 28 91\" stroke=\"black\" stroke-width=\"1\"/>\n",
       "<path d=\"M 131 68 122 103\" stroke=\"black\" stroke-width=\"1\"/>\n",
       "<path d=\"M 131 68 171 45\" stroke=\"black\" stroke-width=\"1\"/>\n",
       "<path d=\"M 366 61 246 82\" stroke=\"black\" stroke-width=\"1\"/>\n",
       "<path d=\"M 220 320 264 277\" stroke=\"black\" stroke-width=\"1\"/>\n",
       "<path d=\"M 171 45 246 82\" stroke=\"black\" stroke-width=\"1\"/>\n",
       "<path d=\"M 344 107 282 125\" stroke=\"black\" stroke-width=\"1\"/>\n",
       "<path d=\"M 246 82 282 125\" stroke=\"black\" stroke-width=\"1\"/>\n",
       "<path d=\"M 246 82 197 100\" stroke=\"black\" stroke-width=\"1\"/>\n",
       "<path d=\"M 246 82 282 153\" stroke=\"black\" stroke-width=\"1\"/>\n",
       "<path d=\"M 246 82 348 43\" stroke=\"black\" stroke-width=\"1\"/>\n",
       "<path d=\"M 246 82 273 27\" stroke=\"black\" stroke-width=\"1\"/>\n",
       "<path d=\"M 246 82 313 34\" stroke=\"black\" stroke-width=\"1\"/>\n",
       "<path d=\"M 246 82 331 143\" stroke=\"black\" stroke-width=\"1\"/>\n",
       "<path d=\"M 246 82 366 61\" stroke=\"black\" stroke-width=\"1\"/>\n",
       "<path d=\"M 246 82 228 32\" stroke=\"black\" stroke-width=\"1\"/>\n",
       "<path d=\"M 246 82 131 68\" stroke=\"black\" stroke-width=\"1\"/>\n",
       "<path d=\"M 246 82 162 20\" stroke=\"black\" stroke-width=\"1\"/>\n",
       "<path d=\"M 246 82 122 103\" stroke=\"black\" stroke-width=\"1\"/>\n",
       "<path d=\"M 246 82 197 120\" stroke=\"black\" stroke-width=\"1\"/>\n",
       "<path d=\"M 246 82 171 45\" stroke=\"black\" stroke-width=\"1\"/>\n",
       "<path d=\"M 246 82 344 107\" stroke=\"black\" stroke-width=\"1\"/>\n",
       "<path d=\"M 260 73 246 82\" stroke=\"black\" stroke-width=\"1\"/>\n",
       "<path d=\"M 260 73 153 125\" stroke=\"black\" stroke-width=\"1\"/>\n",
       "<path d=\"M 260 73 344 107\" stroke=\"black\" stroke-width=\"1\"/>\n",
       "<path d=\"M 260 73 171 45\" stroke=\"black\" stroke-width=\"1\"/>\n",
       "<path d=\"M 344 107 260 73\" stroke=\"black\" stroke-width=\"1\"/>\n",
       "<path d=\"M 344 107 246 82\" stroke=\"black\" stroke-width=\"1\"/>\n",
       "<path d=\"M 153 125 264 200\" stroke=\"black\" stroke-width=\"1\"/>\n",
       "<path d=\"M 153 125 20 116\" stroke=\"black\" stroke-width=\"1\"/>\n",
       "<path d=\"M 153 125 28 91\" stroke=\"black\" stroke-width=\"1\"/>\n",
       "<path d=\"M 153 125 197 120\" stroke=\"black\" stroke-width=\"1\"/>\n",
       "<path d=\"M 153 125 260 73\" stroke=\"black\" stroke-width=\"1\"/>\n",
       "<path d=\"M 344 107 353 168\" stroke=\"black\" stroke-width=\"1\"/>\n",
       "<path d=\"M 153 125 246 82\" stroke=\"black\" stroke-width=\"1\"/>\n",
       "<path d=\"M 260 73 282 125\" stroke=\"black\" stroke-width=\"1\"/>\n",
       "<path d=\"M 260 73 348 43\" stroke=\"black\" stroke-width=\"1\"/>\n",
       "<path d=\"M 260 73 273 27\" stroke=\"black\" stroke-width=\"1\"/>\n",
       "<path d=\"M 260 73 313 34\" stroke=\"black\" stroke-width=\"1\"/>\n",
       "<path d=\"M 260 73 366 61\" stroke=\"black\" stroke-width=\"1\"/>\n",
       "<path d=\"M 260 73 228 32\" stroke=\"black\" stroke-width=\"1\"/>\n",
       "<path d=\"M 260 73 131 68\" stroke=\"black\" stroke-width=\"1\"/>\n",
       "<path d=\"M 260 73 251 143\" stroke=\"black\" stroke-width=\"1\"/>\n",
       "<path d=\"M 220 320 211 275\" stroke=\"black\" stroke-width=\"1\"/>\n",
       "<path d=\"M 273 27 246 82\" stroke=\"black\" stroke-width=\"1\"/>\n",
       "<path d=\"M 273 27 260 73\" stroke=\"black\" stroke-width=\"1\"/>\n",
       "<path d=\"M 353 168 388 216\" stroke=\"black\" stroke-width=\"1\"/>\n",
       "<path d=\"M 353 168 331 143\" stroke=\"black\" stroke-width=\"1\"/>\n",
       "<path d=\"M 353 168 420 202\" stroke=\"black\" stroke-width=\"1\"/>\n",
       "<path d=\"M 353 168 344 107\" stroke=\"black\" stroke-width=\"1\"/>\n",
       "<path d=\"M 251 143 264 200\" stroke=\"black\" stroke-width=\"1\"/>\n",
       "<path d=\"M 251 143 353 168\" stroke=\"black\" stroke-width=\"1\"/>\n",
       "<path d=\"M 251 143 304 191\" stroke=\"black\" stroke-width=\"1\"/>\n",
       "<path d=\"M 251 143 340 186\" stroke=\"black\" stroke-width=\"1\"/>\n",
       "<path d=\"M 251 143 282 125\" stroke=\"black\" stroke-width=\"1\"/>\n",
       "<path d=\"M 251 143 197 100\" stroke=\"black\" stroke-width=\"1\"/>\n",
       "<path d=\"M 251 143 282 153\" stroke=\"black\" stroke-width=\"1\"/>\n",
       "<path d=\"M 251 143 122 103\" stroke=\"black\" stroke-width=\"1\"/>\n",
       "<path d=\"M 251 143 197 120\" stroke=\"black\" stroke-width=\"1\"/>\n",
       "<path d=\"M 251 143 260 73\" stroke=\"black\" stroke-width=\"1\"/>\n",
       "<path d=\"M 304 191 264 200\" stroke=\"black\" stroke-width=\"1\"/>\n",
       "<path d=\"M 353 168 282 153\" stroke=\"black\" stroke-width=\"1\"/>\n",
       "<path d=\"M 353 168 340 186\" stroke=\"black\" stroke-width=\"1\"/>\n",
       "<path d=\"M 353 168 304 191\" stroke=\"black\" stroke-width=\"1\"/>\n",
       "<path d=\"M 353 168 251 143\" stroke=\"black\" stroke-width=\"1\"/>\n",
       "<path d=\"M 264 200 251 143\" stroke=\"black\" stroke-width=\"1\"/>\n",
       "<path d=\"M 264 200 304 191\" stroke=\"black\" stroke-width=\"1\"/>\n",
       "<path d=\"M 264 200 255 255\" stroke=\"black\" stroke-width=\"1\"/>\n",
       "<path d=\"M 264 200 211 275\" stroke=\"black\" stroke-width=\"1\"/>\n",
       "<path d=\"M 264 200 264 277\" stroke=\"black\" stroke-width=\"1\"/>\n",
       "<path d=\"M 264 200 340 186\" stroke=\"black\" stroke-width=\"1\"/>\n",
       "<path d=\"M 264 200 282 125\" stroke=\"black\" stroke-width=\"1\"/>\n",
       "<path d=\"M 304 191 353 168\" stroke=\"black\" stroke-width=\"1\"/>\n",
       "<path d=\"M 264 200 188 252\" stroke=\"black\" stroke-width=\"1\"/>\n",
       "<path d=\"M 264 200 335 236\" stroke=\"black\" stroke-width=\"1\"/>\n",
       "<path d=\"M 264 200 282 153\" stroke=\"black\" stroke-width=\"1\"/>\n",
       "<path d=\"M 264 200 388 216\" stroke=\"black\" stroke-width=\"1\"/>\n",
       "<path d=\"M 264 200 331 143\" stroke=\"black\" stroke-width=\"1\"/>\n",
       "<path d=\"M 264 200 420 202\" stroke=\"black\" stroke-width=\"1\"/>\n",
       "<path d=\"M 264 200 153 125\" stroke=\"black\" stroke-width=\"1\"/>\n",
       "<path d=\"M 353 168 264 200\" stroke=\"black\" stroke-width=\"1\"/>\n",
       "<path d=\"M 264 200 122 212\" stroke=\"black\" stroke-width=\"1\"/>\n",
       "<path d=\"M 304 191 251 143\" stroke=\"black\" stroke-width=\"1\"/>\n",
       "<path d=\"M 304 191 340 186\" stroke=\"black\" stroke-width=\"1\"/>\n",
       "<path d=\"M 304 191 335 236\" stroke=\"black\" stroke-width=\"1\"/>\n",
       "<path d=\"M 282 125 246 82\" stroke=\"black\" stroke-width=\"1\"/>\n",
       "<path d=\"M 197 100 251 143\" stroke=\"black\" stroke-width=\"1\"/>\n",
       "<path d=\"M 197 100 246 82\" stroke=\"black\" stroke-width=\"1\"/>\n",
       "<path d=\"M 188 252 264 200\" stroke=\"black\" stroke-width=\"1\"/>\n",
       "<path d=\"M 188 252 255 255\" stroke=\"black\" stroke-width=\"1\"/>\n",
       "<path d=\"M 188 252 211 275\" stroke=\"black\" stroke-width=\"1\"/>\n",
       "<path d=\"M 122 212 264 200\" stroke=\"black\" stroke-width=\"1\"/>\n",
       "<path d=\"M 282 125 260 73\" stroke=\"black\" stroke-width=\"1\"/>\n",
       "<path d=\"M 335 236 264 200\" stroke=\"black\" stroke-width=\"1\"/>\n",
       "<path d=\"M 282 153 264 200\" stroke=\"black\" stroke-width=\"1\"/>\n",
       "<path d=\"M 282 153 353 168\" stroke=\"black\" stroke-width=\"1\"/>\n",
       "<path d=\"M 282 153 251 143\" stroke=\"black\" stroke-width=\"1\"/>\n",
       "<path d=\"M 282 153 304 191\" stroke=\"black\" stroke-width=\"1\"/>\n",
       "<path d=\"M 282 153 246 82\" stroke=\"black\" stroke-width=\"1\"/>\n",
       "<path d=\"M 348 43 260 73\" stroke=\"black\" stroke-width=\"1\"/>\n",
       "<path d=\"M 348 43 246 82\" stroke=\"black\" stroke-width=\"1\"/>\n",
       "<path d=\"M 335 236 304 191\" stroke=\"black\" stroke-width=\"1\"/>\n",
       "<path d=\"M 246 82 153 125\" stroke=\"black\" stroke-width=\"1\"/>\n",
       "<path d=\"M 282 125 344 107\" stroke=\"black\" stroke-width=\"1\"/>\n",
       "<path d=\"M 282 125 264 200\" stroke=\"black\" stroke-width=\"1\"/>\n",
       "<path d=\"M 304 191 282 153\" stroke=\"black\" stroke-width=\"1\"/>\n",
       "<path d=\"M 255 255 264 200\" stroke=\"black\" stroke-width=\"1\"/>\n",
       "<path d=\"M 255 255 264 277\" stroke=\"black\" stroke-width=\"1\"/>\n",
       "<path d=\"M 255 255 188 252\" stroke=\"black\" stroke-width=\"1\"/>\n",
       "<path d=\"M 211 275 264 200\" stroke=\"black\" stroke-width=\"1\"/>\n",
       "<path d=\"M 211 275 264 277\" stroke=\"black\" stroke-width=\"1\"/>\n",
       "<path d=\"M 211 275 188 252\" stroke=\"black\" stroke-width=\"1\"/>\n",
       "<path d=\"M 282 125 251 143\" stroke=\"black\" stroke-width=\"1\"/>\n",
       "<path d=\"M 211 275 220 320\" stroke=\"black\" stroke-width=\"1\"/>\n",
       "<path d=\"M 264 277 255 255\" stroke=\"black\" stroke-width=\"1\"/>\n",
       "<path d=\"M 264 277 211 275\" stroke=\"black\" stroke-width=\"1\"/>\n",
       "<path d=\"M 264 277 220 320\" stroke=\"black\" stroke-width=\"1\"/>\n",
       "<path d=\"M 340 186 264 200\" stroke=\"black\" stroke-width=\"1\"/>\n",
       "<path d=\"M 340 186 353 168\" stroke=\"black\" stroke-width=\"1\"/>\n",
       "<path d=\"M 340 186 251 143\" stroke=\"black\" stroke-width=\"1\"/>\n",
       "<path d=\"M 340 186 304 191\" stroke=\"black\" stroke-width=\"1\"/>\n",
       "<path d=\"M 264 277 264 200\" stroke=\"black\" stroke-width=\"1\"/>\n",
       "<path d=\"M 246 82 260 73\" stroke=\"black\" stroke-width=\"1\"/>\n",
       "<circle cx=\"264\" cy=\"200\" r=\"7.0\" style=\"fill:red;stroke:black;stroke-width:1.0\"/>\n",
       "<circle cx=\"353\" cy=\"168\" r=\"7.0\" style=\"fill:red;stroke:black;stroke-width:1.0\"/>\n",
       "<circle cx=\"251\" cy=\"143\" r=\"7.0\" style=\"fill:red;stroke:black;stroke-width:1.0\"/>\n",
       "<circle cx=\"304\" cy=\"191\" r=\"7.0\" style=\"fill:red;stroke:black;stroke-width:1.0\"/>\n",
       "<circle cx=\"255\" cy=\"255\" r=\"7.0\" style=\"fill:red;stroke:black;stroke-width:1.0\"/>\n",
       "<circle cx=\"211\" cy=\"275\" r=\"7.0\" style=\"fill:red;stroke:black;stroke-width:1.0\"/>\n",
       "<circle cx=\"264\" cy=\"277\" r=\"7.0\" style=\"fill:red;stroke:black;stroke-width:1.0\"/>\n",
       "<circle cx=\"340\" cy=\"186\" r=\"7.0\" style=\"fill:red;stroke:black;stroke-width:1.0\"/>\n",
       "<circle cx=\"282\" cy=\"125\" r=\"7.0\" style=\"fill:red;stroke:black;stroke-width:1.0\"/>\n",
       "<circle cx=\"197\" cy=\"100\" r=\"7.0\" style=\"fill:blue;stroke:black;stroke-width:1.0\"/>\n",
       "<circle cx=\"188\" cy=\"252\" r=\"7.0\" style=\"fill:red;stroke:black;stroke-width:1.0\"/>\n",
       "<circle cx=\"122\" cy=\"212\" r=\"7.0\" style=\"fill:red;stroke:black;stroke-width:1.0\"/>\n",
       "<circle cx=\"335\" cy=\"236\" r=\"7.0\" style=\"fill:red;stroke:black;stroke-width:1.0\"/>\n",
       "<circle cx=\"282\" cy=\"153\" r=\"7.0\" style=\"fill:red;stroke:black;stroke-width:1.0\"/>\n",
       "<circle cx=\"348\" cy=\"43\" r=\"7.0\" style=\"fill:blue;stroke:black;stroke-width:1.0\"/>\n",
       "<circle cx=\"273\" cy=\"27\" r=\"7.0\" style=\"fill:blue;stroke:black;stroke-width:1.0\"/>\n",
       "<circle cx=\"220\" cy=\"320\" r=\"7.0\" style=\"fill:red;stroke:black;stroke-width:1.0\"/>\n",
       "<circle cx=\"388\" cy=\"216\" r=\"7.0\" style=\"fill:red;stroke:black;stroke-width:1.0\"/>\n",
       "<circle cx=\"313\" cy=\"34\" r=\"7.0\" style=\"fill:blue;stroke:black;stroke-width:1.0\"/>\n",
       "<circle cx=\"331\" cy=\"143\" r=\"7.0\" style=\"fill:red;stroke:black;stroke-width:1.0\"/>\n",
       "<circle cx=\"366\" cy=\"61\" r=\"7.0\" style=\"fill:blue;stroke:black;stroke-width:1.0\"/>\n",
       "<circle cx=\"420\" cy=\"202\" r=\"7.0\" style=\"fill:red;stroke:black;stroke-width:1.0\"/>\n",
       "<circle cx=\"228\" cy=\"32\" r=\"7.0\" style=\"fill:blue;stroke:black;stroke-width:1.0\"/>\n",
       "<circle cx=\"131\" cy=\"68\" r=\"7.0\" style=\"fill:blue;stroke:black;stroke-width:1.0\"/>\n",
       "<circle cx=\"20\" cy=\"116\" r=\"7.0\" style=\"fill:blue;stroke:black;stroke-width:1.0\"/>\n",
       "<circle cx=\"28\" cy=\"91\" r=\"7.0\" style=\"fill:blue;stroke:black;stroke-width:1.0\"/>\n",
       "<circle cx=\"162\" cy=\"20\" r=\"7.0\" style=\"fill:blue;stroke:black;stroke-width:1.0\"/>\n",
       "<circle cx=\"122\" cy=\"103\" r=\"7.0\" style=\"fill:blue;stroke:black;stroke-width:1.0\"/>\n",
       "<circle cx=\"197\" cy=\"120\" r=\"7.0\" style=\"fill:blue;stroke:black;stroke-width:1.0\"/>\n",
       "<circle cx=\"171\" cy=\"45\" r=\"7.0\" style=\"fill:blue;stroke:black;stroke-width:1.0\"/>\n",
       "<circle cx=\"344\" cy=\"107\" r=\"7.0\" style=\"fill:blue;stroke:black;stroke-width:1.0\"/>\n",
       "<circle cx=\"153\" cy=\"125\" r=\"7.0\" style=\"fill:blue;stroke:black;stroke-width:1.0\"/>\n",
       "<circle cx=\"260\" cy=\"73\" r=\"7.0\" style=\"fill:blue;stroke:black;stroke-width:1.0\"/>\n",
       "<circle cx=\"246\" cy=\"82\" r=\"7.0\" style=\"fill:blue;stroke:black;stroke-width:1.0\"/>\n",
       "</svg>"
      ],
      "text/plain": [
       "<IPython.core.display.SVG object>"
      ]
     },
     "execution_count": 10,
     "metadata": {},
     "output_type": "execute_result"
    }
   ],
   "source": [
    "image = svg_graph(adjacency, position, labels=labels_true)\n",
    "SVG(image)"
   ]
  },
  {
   "cell_type": "markdown",
   "metadata": {},
   "source": [
    "## To do\n",
    "\n",
    "* Display the spectrum of the transition matrix (e.g., first 20 eigenvalues). \n",
    "* What does the spectrum suggest?\n",
    "* Display the graph with the embedding in dimension 2.\n",
    "* Check that the embedding weighted by the degrees is centered and that the components have the same variance.\n",
    "* How many nodes are misclassified using the sign of the first eigenvector? What are these nodes?"
   ]
  },
  {
   "cell_type": "code",
   "execution_count": 11,
   "metadata": {},
   "outputs": [],
   "source": [
    "spectral = Spectral(20, normalized=False, regularization=None, scaling=0)"
   ]
  },
  {
   "cell_type": "code",
   "execution_count": null,
   "metadata": {},
   "outputs": [],
   "source": [
    "spectral.fit(adjacency)"
   ]
  },
  {
   "cell_type": "code",
   "execution_count": null,
   "metadata": {},
   "outputs": [],
   "source": [
    "eigenvalues = spectral.eigenvalues_"
   ]
  },
  {
   "cell_type": "code",
   "execution_count": null,
   "metadata": {},
   "outputs": [],
   "source": [
    "embedding = spectral.embedding_"
   ]
  },
  {
   "cell_type": "markdown",
   "metadata": {},
   "source": [
    "## Openflights\n"
   ]
  },
  {
   "cell_type": "markdown",
   "metadata": {},
   "source": [
    "We now consider a larger graph. We use the Laplacian eigenmap in dimension 20. We measure proximity between nodes in terms of [cosine similarity](https://en.wikipedia.org/wiki/Cosine_similarity). Equivalently, we work on the embedding in the unit sphere, which can be obtained through the parameter ``normalized`` of the class ``Spectral``."
   ]
  },
  {
   "cell_type": "code",
   "execution_count": null,
   "metadata": {},
   "outputs": [],
   "source": [
    "graph = openflights"
   ]
  },
  {
   "cell_type": "code",
   "execution_count": null,
   "metadata": {},
   "outputs": [],
   "source": [
    "adjacency = graph.adjacency\n",
    "position = graph.position\n",
    "names = graph.names"
   ]
  },
  {
   "cell_type": "code",
   "execution_count": null,
   "metadata": {},
   "outputs": [],
   "source": [
    "image = svg_graph(adjacency, position, width=800, height=400, node_size=3, display_edges=False)\n",
    "SVG(image)"
   ]
  },
  {
   "cell_type": "markdown",
   "metadata": {},
   "source": [
    "## To do\n",
    "\n",
    "* Display the spectrum of the normalized Laplacian.\n",
    "* Display the same world map with the scores equal to the cosine similarity to **Beijing** in the embedding space.\n",
    "* List the 10 closest airports to **Madrid** in terms of cosine similarity in the embedding space.\n",
    "* Display the same world map with 8 clusters found by k-means in the embedding space (still using cosing similarity)."
   ]
  },
  {
   "cell_type": "code",
   "execution_count": null,
   "metadata": {},
   "outputs": [],
   "source": [
    "spectral = Spectral(20, normalized=True, regularization=None, scaling=0)"
   ]
  },
  {
   "cell_type": "code",
   "execution_count": null,
   "metadata": {},
   "outputs": [],
   "source": [
    "beijing = 1618"
   ]
  },
  {
   "cell_type": "code",
   "execution_count": null,
   "metadata": {},
   "outputs": [],
   "source": [
    "madrid = 572"
   ]
  },
  {
   "cell_type": "markdown",
   "metadata": {},
   "source": [
    "## 2. Directed graphs"
   ]
  },
  {
   "cell_type": "markdown",
   "metadata": {},
   "source": [
    "## Wikipedia Vitals\n",
    "\n",
    "We now consider a large directed graph. We use the class ``BiSpectral`` (i.e., the directed graph is viewed as a bipartite graph)."
   ]
  },
  {
   "cell_type": "code",
   "execution_count": null,
   "metadata": {},
   "outputs": [],
   "source": [
    "graph = wikivitals"
   ]
  },
  {
   "cell_type": "code",
   "execution_count": null,
   "metadata": {},
   "outputs": [],
   "source": [
    "adjacency = graph.adjacency\n",
    "names = graph.names\n",
    "labels = graph.labels_hierarchy\n",
    "names_labels = graph.names_labels_hierarchy"
   ]
  },
  {
   "cell_type": "markdown",
   "metadata": {},
   "source": [
    "## To do\n",
    "\n",
    "* Check that the average cosine similarity between all node pairs in some set $S$ is given by the square norm of the barycenter of $S$.\n",
    "* Give the average cosine similarity between nodes in the **Mammals** category.\n",
    "* Compare with the expected cosine similarity between two nodes sampled uniformly at random.\n",
    "* Defining a category as **topical** if its average cosine similarity is high, give the most topical category and the less topical category among all categories having at least 10 articles. "
   ]
  },
  {
   "cell_type": "code",
   "execution_count": null,
   "metadata": {},
   "outputs": [],
   "source": [
    "spectral = BiSpectral(20, solver=HalkoEig(random_state=42), regularization=None, scaling=0)"
   ]
  },
  {
   "cell_type": "code",
   "execution_count": null,
   "metadata": {},
   "outputs": [],
   "source": [
    "mammal = 274"
   ]
  },
  {
   "cell_type": "code",
   "execution_count": null,
   "metadata": {},
   "outputs": [],
   "source": [
    "names_labels[mammal]"
   ]
  },
  {
   "cell_type": "markdown",
   "metadata": {},
   "source": [
    "## 3. Bipartite graphs\n",
    "\n",
    "Finally, we consider the co-embedding of each part of a bipartite graph. We focus on the bipartite graph formed by words used in the summaries of the articles of Wikivitals. "
   ]
  },
  {
   "cell_type": "markdown",
   "metadata": {},
   "source": [
    "## Wikipedia Vitals"
   ]
  },
  {
   "cell_type": "code",
   "execution_count": null,
   "metadata": {},
   "outputs": [],
   "source": [
    "graph = wikivitals"
   ]
  },
  {
   "cell_type": "code",
   "execution_count": null,
   "metadata": {},
   "outputs": [],
   "source": [
    "biadjacency = graph.biadjacency\n",
    "articles = graph.names_row\n",
    "words = graph.names_col"
   ]
  },
  {
   "cell_type": "code",
   "execution_count": null,
   "metadata": {},
   "outputs": [],
   "source": [
    "biadjacency"
   ]
  },
  {
   "cell_type": "markdown",
   "metadata": {},
   "source": [
    "## To do"
   ]
  },
  {
   "cell_type": "markdown",
   "metadata": {},
   "source": [
    "* What are now the most topical category and the less topical category among all categories having at least 10 articles?\n",
    "* List the 10 most topical words associated with the most topical category, among all words used at least 10 times in the whole dataset."
   ]
  }
 ],
 "metadata": {
  "anaconda-cloud": {},
  "hide_input": false,
  "kernelspec": {
   "display_name": "Python 3",
   "language": "python",
   "name": "python3"
  },
  "language_info": {
   "codemirror_mode": {
    "name": "ipython",
    "version": 3
   },
   "file_extension": ".py",
   "mimetype": "text/x-python",
   "name": "python",
   "nbconvert_exporter": "python",
   "pygments_lexer": "ipython3",
   "version": "3.6.12"
  }
 },
 "nbformat": 4,
 "nbformat_minor": 1
}
