{
 "cells": [
  {
   "cell_type": "markdown",
   "metadata": {},
   "source": [
    "# Text segmentation using Hidden Markov Models"
   ]
  },
  {
   "cell_type": "markdown",
   "metadata": {},
   "source": [
    "### Task : automatic segmentation of mails, problem statement"
   ]
  },
  {
   "cell_type": "code",
   "execution_count": 1,
   "metadata": {},
   "outputs": [],
   "source": [
    "import numpy as np"
   ]
  },
  {
   "cell_type": "markdown",
   "metadata": {},
   "source": [
    "## Q1 :\n",
    "**Give the value of the $\\pi$ vector of the initial probabilities**"
   ]
  },
  {
   "cell_type": "markdown",
   "metadata": {},
   "source": [
    "$\\pi = \\{ 1, 0 \\}$"
   ]
  },
  {
   "cell_type": "code",
   "execution_count": 2,
   "metadata": {},
   "outputs": [],
   "source": [
    "pi = np.array([1, 0])"
   ]
  },
  {
   "cell_type": "code",
   "execution_count": 146,
   "metadata": {},
   "outputs": [],
   "source": [
    "# transition matrix \n",
    "A = np.array([\n",
    "              [0.999218078035812 ,0.000781921964187974],\n",
    "              [0                 ,1                   ]\n",
    "             ])"
   ]
  },
  {
   "cell_type": "markdown",
   "metadata": {},
   "source": [
    "### Q2 :\n",
    "\n",
    "**- What is the probability to move from state 1 to state 2 ?**\n",
    "\n",
    "**- What is the probability to remain in state 2 ?**\n",
    "\n",
    "**- What is the lower/higher probability ? Try to explain why**"
   ]
  },
  {
   "cell_type": "markdown",
   "metadata": {},
   "source": [
    "- P (move from state 1 to 2) $= \\mathbb{P}(q2 | q1) = \\mathbb{P}(2 | 1) = A(1, 2) = 0.000781921964187974$\n",
    "\n",
    "- P (stay in state 2) = P (move from state 2 to 2) $= \\mathbb{P}(q2 | q2) = \\mathbb{P}(2 | 2) = A(2, 2) = 1$\n",
    "\n",
    "  It is deterministic to stay at state 2, once we are in state 2. This result is logical since once we are in the body we can't get back to the header.\n",
    "  \n",
    "  The probability for the text to move from the header to the body is very low. Actually, this event only happens once in a document, and since there are many words in a text, the probability to jump to the body is low, but not null.\n",
    "\n",
    "- The lowest probability, which is 0, is the prob to go from state 2 to state 1, which is from body to header. This is impossible since there is no going back.\n",
    "  \n",
    "  The higher probability was explained already; we are sure that we won't change the state again to header once we have reached the body, so it is always the other way around."
   ]
  },
  {
   "cell_type": "code",
   "execution_count": 145,
   "metadata": {},
   "outputs": [
    {
     "data": {
      "text/plain": [
       "(0.000781921964187974, 1.0)"
      ]
     },
     "execution_count": 145,
     "metadata": {},
     "output_type": "execute_result"
    }
   ],
   "source": [
    "A[0,1], A[1,1]"
   ]
  },
  {
   "cell_type": "markdown",
   "metadata": {},
   "source": [
    "## Q3 :\n",
    "**What is the size of B ?**"
   ]
  },
  {
   "cell_type": "markdown",
   "metadata": {},
   "source": [
    "B is the emission (observation) probabilities. We have multiple files, each containing a text of N characters. \n",
    "\n",
    "Each of these N charcters is one of the 256 chars encoded on 1 ascii byte. So, B represents the probabilities in each state for each of the 256 characters to appear.\n",
    "\n",
    "Hence, the shape of B is 256x2."
   ]
  },
  {
   "cell_type": "markdown",
   "metadata": {},
   "source": [
    "### Material\n",
    "##### Coding/decoding mails\n"
   ]
  },
  {
   "cell_type": "code",
   "execution_count": 227,
   "metadata": {},
   "outputs": [
    {
     "name": "stdout",
     "output_type": "stream",
     "text": [
      "mail1.dat\n",
      "mail10.dat\n",
      "mail11.dat\n",
      "mail12.dat\n",
      "mail13.dat\n",
      "mail14.dat\n",
      "mail15.dat\n",
      "mail16.dat\n",
      "mail17.dat\n",
      "mail18.dat\n",
      "mail19.dat\n",
      "mail2.dat\n",
      "mail20.dat\n",
      "mail21.dat\n",
      "mail22.dat\n",
      "mail23.dat\n",
      "mail24.dat\n",
      "mail25.dat\n",
      "mail26.dat\n",
      "mail27.dat\n",
      "mail28.dat\n",
      "mail29.dat\n",
      "mail3.dat\n",
      "mail30.dat\n",
      "mail4.dat\n",
      "mail5.dat\n",
      "mail6.dat\n",
      "mail7.dat\n",
      "mail8.dat\n",
      "mail9.dat\n"
     ]
    }
   ],
   "source": [
    "texts = []\n",
    "names = open('./dat/mail.lst').read().splitlines()\n",
    "for i in range(len(names)):\n",
    "    print(names[i])\n",
    "    names[i] = './dat/' + names[i]\n",
    "    texts.append(np.loadtxt(names[i], dtype=int))    "
   ]
  },
  {
   "cell_type": "code",
   "execution_count": 230,
   "metadata": {},
   "outputs": [
    {
     "data": {
      "text/plain": [
       "array([ 70, 114, 111, 109,  32, 101, 120, 109, 104,  45, 119, 111, 114,\n",
       "       107, 101, 114, 115,  45,  97, 100, 109, 105, 110,  64, 114, 101,\n",
       "       100, 104,  97, 116,  46,  99, 111, 109,  32,  32,  84, 104, 117,\n",
       "        32,  65, 117, 103,  32,  50,  50,  32,  49,  50,  58,  51,  54,\n",
       "        58,  50,  51,  32,  50,  48,  48,  50,  10,  82, 101, 116, 117,\n",
       "       114, 110,  45,  80,  97, 116, 104,  58,  32,  60, 101, 120, 109,\n",
       "       104,  45, 119, 111, 114, 107, 101, 114, 115,  45,  97, 100, 109,\n",
       "       105, 110,  64, 115, 112,  97, 109,  97, 115])"
      ]
     },
     "execution_count": 230,
     "metadata": {},
     "output_type": "execute_result"
    }
   ],
   "source": [
    "texts[0][:100]"
   ]
  },
  {
   "cell_type": "code",
   "execution_count": 209,
   "metadata": {},
   "outputs": [],
   "source": [
    "mails = dict(zip(names, texts))"
   ]
  },
  {
   "cell_type": "code",
   "execution_count": 211,
   "metadata": {},
   "outputs": [
    {
     "data": {
      "text/plain": [
       "('./dat/mail1.dat', array([ 70, 114, 111, ..., 115,  10,  10]))"
      ]
     },
     "execution_count": 211,
     "metadata": {},
     "output_type": "execute_result"
    }
   ],
   "source": [
    "names[0], texts[0]"
   ]
  },
  {
   "cell_type": "code",
   "execution_count": 238,
   "metadata": {
    "collapsed": true,
    "jupyter": {
     "outputs_hidden": true
    }
   },
   "outputs": [
    {
     "data": {
      "text/plain": [
       "[array([ 70, 114, 111, ..., 115,  10,  10]),\n",
       " array([ 70, 114, 111, ..., 107,  10,  10]),\n",
       " array([ 70, 114, 111, ..., 108,  10,  10]),\n",
       " array([ 70, 114, 111, ..., 108,  10,  10]),\n",
       " array([ 70, 114, 111, ..., 101,  10,  10]),\n",
       " array([ 70, 114, 111, ..., 115,  10,  10]),\n",
       " array([ 70, 114, 111, ..., 107,  10,  10]),\n",
       " array([ 70, 114, 111, ..., 117,  10,  10]),\n",
       " array([ 70, 114, 111, ...,  10,  10,  10]),\n",
       " array([ 70, 114, 111, ..., 101,  10,  10]),\n",
       " array([ 70, 114, 111, ...,  10,  10,  10]),\n",
       " array([ 70, 114, 111, ...,  10,  10,  10]),\n",
       " array([ 70, 114, 111, ..., 101,  10,  10]),\n",
       " array([ 70, 114, 111, ...,  10,  10,  10]),\n",
       " array([ 70, 114, 111, ..., 101,  10,  10]),\n",
       " array([ 70, 114, 111, ..., 101,  10,  10]),\n",
       " array([ 70, 114, 111, ...,  10,  10,  10]),\n",
       " array([ 70, 114, 111, ..., 101,  10,  10]),\n",
       " array([ 70, 114, 111, ..., 107,  10,  10]),\n",
       " array([ 70, 114, 111, ..., 101,  10,  10]),\n",
       " array([ 70, 114, 111, ..., 107,  10,  10]),\n",
       " array([ 70, 114, 111, ..., 107,  10,  10]),\n",
       " array([ 70, 114, 111, ...,  10,  10,  10]),\n",
       " array([ 70, 114, 111, ..., 101,  10,  10]),\n",
       " array([ 70, 114, 111, ..., 115,  10,  10]),\n",
       " array([ 70, 114, 111, ...,  10,  10,  10]),\n",
       " array([ 70, 114, 111, ...,  10,  10,  10]),\n",
       " array([ 70, 114, 111, ...,  10,  10,  10]),\n",
       " array([ 70, 114, 111, ...,  10,  10,  10]),\n",
       " array([ 70, 114, 111, ...,  10,  10,  10])]"
      ]
     },
     "execution_count": 238,
     "metadata": {},
     "output_type": "execute_result"
    }
   ],
   "source": [
    "texts"
   ]
  },
  {
   "cell_type": "markdown",
   "metadata": {},
   "source": [
    "##### Distribution files"
   ]
  },
  {
   "cell_type": "code",
   "execution_count": 143,
   "metadata": {},
   "outputs": [],
   "source": [
    "P = np.loadtxt('./PerlScriptAndModel/P.text')"
   ]
  },
  {
   "cell_type": "code",
   "execution_count": 144,
   "metadata": {},
   "outputs": [
    {
     "data": {
      "text/plain": [
       "((256, 2), array([1.00000039, 1.00000061]))"
      ]
     },
     "execution_count": 144,
     "metadata": {},
     "output_type": "execute_result"
    }
   ],
   "source": [
    "P.shape, np.sum(P, axis=0)"
   ]
  },
  {
   "cell_type": "markdown",
   "metadata": {},
   "source": [
    "The P matrix gives us the distribution probability of all the 255 ascii characters, between both states 1 and 2 (header and body).\n"
   ]
  },
  {
   "cell_type": "code",
   "execution_count": 64,
   "metadata": {},
   "outputs": [
    {
     "data": {
      "text/plain": [
       "(' ', ' ')"
      ]
     },
     "execution_count": 64,
     "metadata": {},
     "output_type": "execute_result"
    }
   ],
   "source": [
    "chr(P[:,0].argmax()), chr(P[:,1].argmax())  "
   ]
  },
  {
   "cell_type": "markdown",
   "metadata": {},
   "source": [
    "The most probable characters while in header or in body (in all the text) is the space character, which is obvious."
   ]
  },
  {
   "cell_type": "code",
   "execution_count": 133,
   "metadata": {},
   "outputs": [
    {
     "name": "stdout",
     "output_type": "stream",
     "text": [
      "char        header            body\n",
      "\n",
      "  \\t     0.00156408         6.12724e-07\n",
      "  \\n     0.0188428          0.0256125\n",
      "  ' '     0.089717          0.148709\n",
      "  !      3.90922e-07        0.000858427\n",
      "  \"      0.000625866        0.00177751\n",
      "  #      0.000117668        6.12724e-07\n",
      "  $      7.85753e-05        0.00018443\n",
      "  &      3.90922e-07        0.00042952\n",
      "  '      0.000117668        0.00171624\n",
      "  (      0.00723245        0.000552065\n",
      "  )      0.00723245        0.000552065\n",
      "  +      0.00175954        0.000552065\n",
      "  ,      0.00277594        0.00814985\n",
      "  -      0.0185301        0.0526949\n",
      "  .      0.0443309        0.0110297\n",
      "  /      0.00332323        0.00667931\n",
      "  0      0.0369425        0.00404459\n",
      "  1      0.0232993        0.00239024\n",
      "  2      0.0301014        0.00263533\n",
      "  3      0.00883523        0.00116479\n",
      "  4      0.00914797        0.0015937\n",
      "  5      0.00828794        0.000858427\n",
      "  6      0.010008        0.000858427\n",
      "  7      0.0064506        0.00128733\n",
      "  8      0.00754519        0.000919699\n",
      "  9      0.00566876        0.00116479\n",
      "  :      0.0232212        0.00330932\n",
      "  ;      0.00465236        6.18852e-05\n",
      "  <      0.00433963        0.00018443\n",
      "  =      0.00109497        0.000123158\n",
      "  >      0.00433963        0.00165497\n",
      "  ?      0.000391313        0.000613337\n",
      "  @      0.00781883        0.00067461\n",
      "  A      0.00688062        0.0037995\n",
      "  B      0.00121225        0.00294169\n",
      "  C      0.00222865        0.00116479\n",
      "  D      0.00371415        0.00116479\n",
      "  E      0.00492601        0.00122606\n",
      "  F      0.00168136        0.00104224\n",
      "  G      0.000469497        0.00165497\n",
      "  H      0.000430405        0.00128733\n",
      "  I      0.00277594        0.00306423\n",
      "  J      3.90922e-07        0.00042952\n",
      "  K      3.94831e-05        0.000490792\n",
      "  L      0.00172045        0.00018443\n",
      "  M      0.007467        0.00239024\n",
      "  N      0.000899512        0.00128733\n",
      "  O      0.00121225        0.00067461\n",
      "  P      0.00508238        0.00134861\n",
      "  Q      0.000586774        6.12724e-07\n",
      "  R      0.00535602        0.000613337\n",
      "  S      0.00621605        0.00312551\n",
      "  T      0.0089916        0.00294169\n",
      "  U      0.00109497        0.000306975\n",
      "  V      0.000899512        0.00067461\n",
      "  W      0.000313129        0.000490792\n",
      "  X      0.00211137        0.000368247\n",
      "  Y      0.000313129        0.00171624\n",
      "  Z      0.000704051        6.18852e-05\n",
      "  [      0.00261957        6.18852e-05\n",
      "  ]      0.00261957        6.18852e-05\n",
      "  _      0.000938604        0.00894639\n",
      "  a      0.0387017        0.0527562\n",
      "  b      0.0101644        0.0125615\n",
      "  c      0.0256058        0.0235905\n",
      "  d      0.0154809        0.0215072\n",
      "  e      0.0508203        0.0775715\n",
      "  f      0.00992981        0.0155638\n",
      "  g      0.0169273        0.01201\n",
      "  h      0.0191947        0.0327814\n",
      "  i      0.0324469        0.048896\n",
      "  j      0.000860419        0.00183879\n",
      "  k      0.00566876        0.00527004\n",
      "  l      0.0195856        0.0245096\n",
      "  m      0.0236512        0.0199142\n",
      "  n      0.0288113        0.0439942\n",
      "  o      0.0510939        0.0535527\n",
      "  p      0.0123535        0.0163604\n",
      "  q      0.000782235        0.000552065\n",
      "  r      0.0351443        0.0430751\n",
      "  s      0.0394835        0.0541042\n",
      "  t      0.0378416        0.0567389\n",
      "  u      0.0216184        0.0215685\n",
      "  v      0.00684153        0.00667931\n",
      "  w      0.0064506        0.0112747\n",
      "  x      0.00304958        0.00239024\n",
      "  y      0.00985163        0.0110909\n",
      "  z      0.0156764        0.000735882\n",
      "  {      3.90922e-07        0.000245703\n",
      "  |      3.90922e-07        6.18852e-05\n",
      "  }      3.90922e-07        0.000245703\n",
      "  ~      3.90922e-07        0.000858427\n",
      "        3.90922e-07        0.000858427\n",
      "  £      3.90922e-07        0.00018443\n"
     ]
    }
   ],
   "source": [
    "print(\"char        header            body\\n\")  #ord('a')\n",
    "for i, (hed, bod) in enumerate(P):\n",
    "    if hed + bod > 1e-5:\n",
    "        if i == 9:\n",
    "            print(\" \", \"\\\\t\", \"   \", \"{:1.6}         {:1.6}\".format(hed, bod))\n",
    "        elif i == 10:\n",
    "            print(\" \", \"\\\\n\", \"   \", \"{:1.6}          {:1.6}\".format(hed, bod))\n",
    "        elif i == 32:\n",
    "            print(\" \", \"' '\", \"   \", \"{:1.6}          {:1.6}\".format(hed, bod))\n",
    "        else:\n",
    "            print(\" \", chr(i), \"    \", \"{:1.6}        {:1.6}\".format(hed, bod))"
   ]
  },
  {
   "cell_type": "markdown",
   "metadata": {},
   "source": [
    "### Viterbi algorithm"
   ]
  },
  {
   "cell_type": "code",
   "execution_count": 29,
   "metadata": {},
   "outputs": [],
   "source": [
    "# !/usr/bin/env python3\n",
    "# -*- coding: utf-8 -*-\n",
    "\"\"\"\n",
    "Created on Wed Jun  6 10:03:27 2018\n",
    "\n",
    "@author: chloeclavel\n",
    "\"\"\"\n",
    "def viterbi_obsolete(X, A, B, pi, states):\n",
    "    \"\"\"\n",
    "        Viterbi Algorithm Implementation\n",
    "\n",
    "        Keyword arguments:\n",
    "            - X: sequence of observation (dim: 1xN)\n",
    "            - A: transition matrix (dim: QxQ)\n",
    "            - B: emission probability matrix (dim: NxQ)\n",
    "            - pi: initial vector of probabilities (dim: 1xQ)\n",
    "            - states:list of states (dim: 1xQ)\n",
    "        Returns:\n",
    "            - seq: sequence of state\n",
    "    \"\"\"\n",
    "\n",
    "#     realmin = np.finfo(np.double).tiny  # smallest 'visible' number\n",
    "#     A = np.log(A+realmin)               # avoids log(0)\n",
    "#     B = np.log(B+realmin)               # avoids log(0)\n",
    "#     pi = np.log(pi+realmin)             # avoids log(0)\n",
    "    \n",
    "    T = X.shape[0]                      # number of observed characters\n",
    "    N = B.shape[0]                      # number of characters\n",
    "    Q = pi.shape[0]                     # model's number of states\n",
    "    print(\"dict length:\", N, \", observed characters:\", T, \", number of states:\", Q)\n",
    "    \n",
    "    #Initialisation\n",
    "    logl = np.zeros((Q,T))\n",
    "    bcktr = np.zeros((N-1,Q))\n",
    "    \n",
    "    logl[:,0] = pi * B[X[0],:]       # initial delta\n",
    "    for t in range(1,(T-1)):\n",
    "        for q in range(Q):\n",
    "            state = logl[:,t-1] * 1\n",
    "        logl[:,t] = logl[:,t-1] + B[X[t],:]\n",
    "    \n",
    "    path = 1\n",
    "    return logl, path\n"
   ]
  },
  {
   "cell_type": "code",
   "execution_count": 337,
   "metadata": {},
   "outputs": [],
   "source": [
    "# !/usr/bin/env python3\n",
    "# -*- coding: utf-8 -*-\n",
    "\"\"\"\n",
    "Created on Wed Jun  6 10:03:27 2018\n",
    "\n",
    "@author: bourhandernayka\n",
    "\"\"\"\n",
    "def viterbi_prod(X, A, B, pi, states):\n",
    "    \"\"\"\n",
    "        Viterbi Algorithm Implementation\n",
    "\n",
    "        Keyword arguments:\n",
    "            - X: sequence of observation (dim: 1xN)\n",
    "            - A: transition matrix (dim: QxQ)\n",
    "            - B: emission probability matrix (dim: NxQ)\n",
    "            - pi: initial vector of probabilities (dim: 1xQ)\n",
    "            - states:list of states (dim: 1xQ)\n",
    "        Returns:\n",
    "            - seq: sequence of state\n",
    "    \"\"\"\n",
    "\n",
    "#     realmin = np.finfo(np.double).tiny  # smallest 'visible' number\n",
    "#     A = np.log(A+realmin)               # avoids log(0)\n",
    "#     B = np.log(B+realmin)               # avoids log(0)\n",
    "#     pi = np.log(pi+realmin)             # avoids log(0)\n",
    "    \n",
    "    T = X.shape[0]                      # number of observed characters\n",
    "    N = B.shape[0]                      # number of characters\n",
    "    Q = pi.shape[0]                     # model's number of states\n",
    "    print(\"dict length:\", N, \", observed characters:\", T, \", number of states:\", Q)\n",
    "    \n",
    "    #Initialisation\n",
    "    delta = np.zeros((Q,T))\n",
    "    bcktr = -1*np.ones((Q,T), dtype=int)\n",
    "    path = -1*np.ones(T, dtype=int)\n",
    "    \n",
    "    delta[:,0] = pi * B[X[0],:]       # initial delta (dim: Qx1)\n",
    "    for t in range(1, T):\n",
    "        for q in range(Q):\n",
    "            delta[q,t] = np.max(delta[:,t-1] * A[:, q]) *  B[X[t],q]\n",
    "            bcktr[q,t] = np.argmax(delta[:,t-1] * A[:, q])\n",
    "    \n",
    "    path[T-1] = states[bcktr[states[np.argmax(delta[:,T-1])], T-1]]\n",
    "    for t in range(T-1, 0, -1):\n",
    "        path[t-1] = states[bcktr[path[t], t]]\n",
    "    \n",
    "    return delta, bcktr, path\n"
   ]
  },
  {
   "cell_type": "code",
   "execution_count": 305,
   "metadata": {},
   "outputs": [],
   "source": [
    "# !/usr/bin/env python3\n",
    "# -*- coding: utf-8 -*-\n",
    "\"\"\"\n",
    "Created on Wed Jun  6 10:03:27 2018\n",
    "\n",
    "@author: bourhandernayka\n",
    "\"\"\"\n",
    "def viterbi(X, A, B, pi, states):\n",
    "    \"\"\"\n",
    "        Viterbi Algorithm Implementation\n",
    "\n",
    "        Keyword arguments:\n",
    "            - X: sequence of observation (dim: 1xN)\n",
    "            - A: transition matrix (dim: QxQ)\n",
    "            - B: emission probability matrix (dim: NxQ)\n",
    "            - pi: initial vector of probabilities (dim: 1xQ)\n",
    "            - states: list of states (dim: 1xQ)\n",
    "        Returns:\n",
    "            - path: sequence of predicted states\n",
    "    \"\"\"\n",
    "\n",
    "    realmin = np.finfo(np.double).tiny  # smallest 'visible' number\n",
    "    A = np.log(A+realmin)               # avoids log(0)\n",
    "    B = np.log(B+realmin)               # avoids log(0)\n",
    "    pi = np.log(pi+realmin)             # avoids log(0)\n",
    "    \n",
    "    T = X.shape[0]                      # number of observed characters\n",
    "    N = B.shape[0]                      # number of characters\n",
    "    Q = pi.shape[0]                     # model's number of states\n",
    "    print(\"dict length:\", N, \", observed characters:\", T, \", number of states:\", Q)\n",
    "    \n",
    "    #Initialisation\n",
    "    delta = np.zeros((Q,T))\n",
    "    bcktr = -1*np.ones((Q,T), dtype=int)\n",
    "    path  = -1*np.ones(T, dtype=int)\n",
    "    \n",
    "    # initial delta (dim: Qx1)\n",
    "    delta[:,0] = pi + B[X[0],:]\n",
    "    \n",
    "    # recursion\n",
    "    for t in range(1, T):\n",
    "        for q in range(Q):\n",
    "            delta[q,t] = np.max(delta[:,t-1] + A[:, q]) +  B[X[t],q]\n",
    "            bcktr[q,t] = states[np.argmax((delta[:,t-1] + A[:, q]))]\n",
    "    \n",
    "    # backtrack\n",
    "    path[T-1] = states[bcktr[states[np.argmax(delta[:,T-1])], T-1]]\n",
    "    for t in range(T-1, 0, -1):\n",
    "        path[t-1] = states[bcktr[path[t], t]]\n",
    "\n",
    "    return delta, bcktr, path"
   ]
  },
  {
   "cell_type": "markdown",
   "metadata": {},
   "source": [
    "___\n",
    "#### Implementing the example from the course to check results:"
   ]
  },
  {
   "cell_type": "code",
   "execution_count": 338,
   "metadata": {},
   "outputs": [
    {
     "name": "stdout",
     "output_type": "stream",
     "text": [
      "dict length: 2 , observed characters: 4 , number of states: 3\n"
     ]
    },
    {
     "data": {
      "text/plain": [
       "(array([[0.6    , 0.18   , 0.     , 0.     ],\n",
       "        [0.2    , 0.15   , 0.045  , 0.00675],\n",
       "        [0.     , 0.     , 0.105  , 0.105  ]]),\n",
       " array([[-1,  0,  0,  0],\n",
       "        [-1,  0,  0,  1],\n",
       "        [-1,  1,  1,  2]]),\n",
       " array([0, 1, 2, 2]))"
      ]
     },
     "execution_count": 338,
     "metadata": {},
     "output_type": "execute_result"
    }
   ],
   "source": [
    "viterbi_prod(np.array([0,0,1,1]), np.array([[.3,.5,.2],\n",
    "                                       [0, .3, .7],\n",
    "                                       [0, 0, 1]\n",
    "                                      ]),\n",
    "       np.array([[1, .5, 0], \n",
    "                 [0, .5, 1]]),\n",
    "       np.array([0.6, .4, 0]),\n",
    "       np.array([0, 1, 2], dtype=int))"
   ]
  },
  {
   "cell_type": "code",
   "execution_count": 307,
   "metadata": {},
   "outputs": [
    {
     "name": "stdout",
     "output_type": "stream",
     "text": [
      "dict length: 2 , observed characters: 4 , number of states: 3\n"
     ]
    },
    {
     "data": {
      "text/plain": [
       "(array([[-5.10825624e-01, -1.71479843e+00, -7.11315190e+02,\n",
       "         -1.41904663e+03],\n",
       "        [-1.60943791e+00, -1.89711998e+00, -3.10109279e+00,\n",
       "         -4.99821277e+00],\n",
       "        [-1.41679284e+03, -7.10362531e+02, -2.25379493e+00,\n",
       "         -2.25379493e+00]]),\n",
       " array([[-1,  0,  0,  2],\n",
       "        [-1,  0,  0,  1],\n",
       "        [-1,  1,  1,  2]]),\n",
       " array([0, 1, 2, 2]))"
      ]
     },
     "execution_count": 307,
     "metadata": {},
     "output_type": "execute_result"
    }
   ],
   "source": [
    "viterbi(np.array([0,0,1,1]), np.array([[.3,.5,.2],\n",
    "                                       [0, .3, .7],\n",
    "                                       [0, 0, 1]\n",
    "                                      ]),\n",
    "       np.array([[1, .5, 0], \n",
    "                 [0, .5, 1]]),\n",
    "       np.array([0.6, .4, 0]),\n",
    "       np.array([0, 1, 2], dtype=int))"
   ]
  },
  {
   "cell_type": "markdown",
   "metadata": {},
   "source": [
    "This matches exactly the results from the course, for the both algorithms (with and without log).\n",
    "___"
   ]
  },
  {
   "cell_type": "code",
   "execution_count": 308,
   "metadata": {},
   "outputs": [
    {
     "name": "stdout",
     "output_type": "stream",
     "text": [
      "dict length: 7 , observed characters: 9 , number of states: 2\n"
     ]
    },
    {
     "data": {
      "text/plain": [
       "(array([[9.00000000e-01, 6.25590000e-01, 3.72726522e-01, 1.85058718e-01,\n",
       "         9.18816536e-02, 1.82476964e-02, 1.81199625e-03, 1.79931228e-04,\n",
       "         1.78671709e-05],\n",
       "        [0.00000000e+00, 1.89000000e-03, 1.75165200e-03, 1.30454283e-03,\n",
       "         6.52271413e-04, 5.21817131e-04, 4.69635418e-04, 4.22671876e-04,\n",
       "         3.80404688e-04]]),\n",
       " array([[-1,  0,  0,  0,  0,  0,  0,  0,  0],\n",
       "        [-1,  0,  0,  0,  1,  1,  1,  1,  1]]),\n",
       " array([0., 0., 0., 0., 0., 0., 1., 1., 1.]))"
      ]
     },
     "execution_count": 308,
     "metadata": {},
     "output_type": "execute_result"
    }
   ],
   "source": [
    "# other experiment:\n",
    "viterbi_prod(np.array([1, 4, 6, 5, 2, 0, 3, 3, 3]), np.array([[.993, .007],[0,1]]),\n",
    "       np.array([[.2, .9, .5, .1, .7, .5, .6], \n",
    "                 [.8, .1, .5, .9, .3, .5, .4]]).T,\n",
    "       np.array([1, 0]),\n",
    "       [0,1])"
   ]
  },
  {
   "cell_type": "markdown",
   "metadata": {},
   "source": [
    "___\n",
    "Now, we get back to test our Viterbi on our mails:"
   ]
  },
  {
   "cell_type": "code",
   "execution_count": 339,
   "metadata": {},
   "outputs": [
    {
     "name": "stdout",
     "output_type": "stream",
     "text": [
      "dict length: 256 , observed characters: 5216 , number of states: 2\n"
     ]
    }
   ],
   "source": [
    "# testing on the first mail:\n",
    "deltas, track, path = viterbi(texts[0], A, P, pi, [0,1])"
   ]
  },
  {
   "cell_type": "code",
   "execution_count": 340,
   "metadata": {},
   "outputs": [
    {
     "name": "stdout",
     "output_type": "stream",
     "text": [
      "3795\n"
     ]
    }
   ],
   "source": [
    "# checking where to cut, and if there were more than one spot\n",
    "for i in range(len(path)-1):\n",
    "    if path[i] == 0 and path[i+1] == 1:\n",
    "        print(i)"
   ]
  },
  {
   "cell_type": "markdown",
   "metadata": {},
   "source": [
    "The mail will be cut in just one spot, which is reasonable. This means that the labels only alternate once, jumping from 0 to 1, after 3795 characters read."
   ]
  },
  {
   "cell_type": "markdown",
   "metadata": {},
   "source": [
    "#### Visualizing Segmentation"
   ]
  },
  {
   "cell_type": "code",
   "execution_count": 341,
   "metadata": {},
   "outputs": [],
   "source": [
    "def visualize_segmentation(mail_filename, visualized_mail_filename, path):\n",
    "    ## @parameter mail_filename : Path to the mail on wich we try the algorithm.\n",
    "    ## @parameter visualized_mail_filename : The path on which we write the mail with the v\n",
    "    ## @parameter path : The sequence of 0 and 1 that the Viterbi algorithm returns.\n",
    "    ## return: True if the header corresponds to the\n",
    "    i = 0\n",
    "    while path[i] == 0:\n",
    "        i+=1\n",
    "    print('cutting at char', i)\n",
    "    visu = open(visualized_mail_filename, 'w') \n",
    "    if(mail_filename.endswith(\".dat\")):\n",
    "        mail_filename = mail_filename[:-4] + \".txt\" \n",
    "    mail = open(mail_filename, 'r')\n",
    "    header = mail.read(i)\n",
    "    visu.write(header) \n",
    "    visu.write(\"\\n===================== cut here =======================\\n\") \n",
    "    visu.write(mail.read(int(path.sum())))\n",
    "    visu.close() \n",
    "    mail.close() "
   ]
  },
  {
   "cell_type": "code",
   "execution_count": 342,
   "metadata": {},
   "outputs": [
    {
     "name": "stdout",
     "output_type": "stream",
     "text": [
      "cutting at char 3796\n"
     ]
    }
   ],
   "source": [
    "visualize_segmentation(names[0], 'out_now.txt', path)"
   ]
  },
  {
   "cell_type": "markdown",
   "metadata": {},
   "source": [
    "The output file shows the cut, where it fits exactly the separation between the header and the body."
   ]
  },
  {
   "cell_type": "markdown",
   "metadata": {},
   "source": [
    "## Q4 :\n",
    "**Print the track then present and discuss the results obtained on mail11.txt to mail30.txt**"
   ]
  },
  {
   "cell_type": "code",
   "execution_count": 345,
   "metadata": {},
   "outputs": [
    {
     "data": {
      "text/plain": [
       "(array([0, 0, 0, ..., 1, 1, 1]),\n",
       " array([0, 0, 0, 0, 0, 0, 0, 0, 0, 0, 0, 0, 0, 0, 0, 0, 0, 0, 0, 0, 0, 0,\n",
       "        0, 0, 0, 0, 0, 0, 0, 0, 0, 0, 0, 0, 0, 0, 0, 0, 0, 0, 0, 0, 0, 0,\n",
       "        0, 0, 0, 0, 0, 0, 0, 0, 0, 0, 0, 0, 0, 0, 0, 0, 0, 0, 0, 0, 0, 0,\n",
       "        0, 0, 0, 0, 0, 0, 0, 0, 0, 0, 0, 0, 0, 0, 0, 0, 0, 0, 0, 0, 0, 0,\n",
       "        0, 0, 0, 0, 0, 0, 0, 0, 1, 1, 1, 1, 1, 1, 1, 1, 1, 1, 1, 1, 1, 1,\n",
       "        1, 1, 1, 1, 1, 1, 1, 1, 1, 1, 1, 1, 1, 1, 1, 1, 1, 1, 1, 1, 1, 1,\n",
       "        1, 1, 1, 1, 1, 1, 1, 1, 1, 1, 1, 1, 1, 1, 1, 1, 1, 1, 1, 1, 1, 1,\n",
       "        1, 1, 1, 1, 1, 1, 1, 1, 1, 1, 1, 1, 1, 1, 1, 1, 1, 1, 1, 1, 1, 1,\n",
       "        1, 1, 1, 1, 1, 1, 1, 1, 1, 1, 1, 1, 1, 1, 1, 1, 1, 1, 1, 1, 1, 1,\n",
       "        1, 1]))"
      ]
     },
     "execution_count": 345,
     "metadata": {},
     "output_type": "execute_result"
    }
   ],
   "source": [
    "path, path[3700:3900]"
   ]
  },
  {
   "cell_type": "markdown",
   "metadata": {},
   "source": [
    "    Date: Thu, 22 Aug 2002 18:26:25 +0700\n",
    "\n",
    "        Date:        Wed, 21 Aug 2002 10:54:46 -0500\n",
    "        From:        Chris Garrigues <cwg-dated-1030377287.06fa6d@DeepEddy.Com>\n",
    "        Message-ID:  <1029945287.4797.TMDA@deepeddy.vircio.com>\n",
    "    ===================== cut here =======================\n",
    "\n",
    "\n",
    "\n",
    "      | I can't reproduce this error.\n",
    "\n",
    "    For me it is very repeatable... (like every time, without fail).\n",
    "\n",
    "    This is the debug log of the pick happening ..."
   ]
  },
  {
   "cell_type": "markdown",
   "metadata": {},
   "source": [
    "We remark that the cut happens at a logical place, just after the non-subject text part, and just after the cut the actaual body of the message begins. This extract is that of the mail1.txt"
   ]
  },
  {
   "cell_type": "markdown",
   "metadata": {},
   "source": [
    "#### Automatizing the segmentation process"
   ]
  },
  {
   "cell_type": "code",
   "execution_count": 330,
   "metadata": {},
   "outputs": [],
   "source": [
    "def split_mail(mailname):\n",
    "    ### This function generalizes the mail treatment procedure, by taking into input just the name of the mail text file.\n",
    "    nb = mailname[-6:-4]\n",
    "    deltas, track, path = viterbi(mails[mailname], A, P, pi, [0, 1])\n",
    "    visualize_segmentation(mailname, 'out'+nb+'.txt', path)\n",
    "    \n",
    "    return path"
   ]
  },
  {
   "cell_type": "code",
   "execution_count": 346,
   "metadata": {},
   "outputs": [
    {
     "name": "stdout",
     "output_type": "stream",
     "text": [
      "dict length: 256 , observed characters: 3475 , number of states: 2\n",
      "cutting at char 2851\n"
     ]
    }
   ],
   "source": [
    "path = split_mail('./dat/mail11.dat')"
   ]
  },
  {
   "cell_type": "markdown",
   "metadata": {},
   "source": [
    "**For the mail11.txt:**\n",
    "\n",
    "    List-Archive: <http://www.geocrawler.com/redir-sf.php3?list=spamassassin-devel>\n",
    "    X-Original-Date: Thu, 22 Aug 2002 16:19:48 +0200\n",
    "    Date: Thu, 22 Aug 2002 16:19:48 +0200\n",
    "    ===================== cut here =======================\n",
    "\n",
    "\n",
    "    Hello, have you seen and discussed this article and his approach?\n",
    "\n",
    "    Thank you\n",
    "\n",
    "Once again, the cut is perfect, just at the beginning of the actual subject of the mail"
   ]
  },
  {
   "cell_type": "code",
   "execution_count": 347,
   "metadata": {},
   "outputs": [
    {
     "name": "stdout",
     "output_type": "stream",
     "text": [
      "dict length: 256 , observed characters: 2664 , number of states: 2\n",
      "cutting at char 2103\n"
     ]
    }
   ],
   "source": [
    "path = split_mail('./dat/mail21.dat')"
   ]
  },
  {
   "cell_type": "markdown",
   "metadata": {},
   "source": [
    "    Date: Thu, 22 Aug 2002 17:23:28 +0100\n",
    "    Subject: Re: [zzzzteana] Which Muppet Are You?\n",
    "    Reply-To: zzzzteana@yahoogroups.com\n",
    "    Content-Type: text/plain; charset=US-ASCII\n",
    "    C\n",
    "    ===================== cut here =======================\n",
    "    ontent-Transfer-Encoding: 7bit\n",
    "\n",
    "    > Apols if this has been posted before:\n",
    "    > \n",
    "    > http://www.pinkpaperclips.net/subs/quiz2.html\n",
    "    >\n",
    "    So, anyone who isn't Beaker?\n",
    "\n",
    "    TimC\n",
    "    Meep\n",
    "\n",
    "This time, the cut was mislead by 1 line, however it is still relevant as a cut."
   ]
  },
  {
   "cell_type": "code",
   "execution_count": 349,
   "metadata": {},
   "outputs": [
    {
     "name": "stdout",
     "output_type": "stream",
     "text": [
      "dict length: 256 , observed characters: 2890 , number of states: 2\n",
      "cutting at char 2344\n"
     ]
    }
   ],
   "source": [
    "path = split_mail('./dat/mail29.dat')"
   ]
  },
  {
   "cell_type": "markdown",
   "metadata": {},
   "source": [
    "Mail29 was also cut finely, at the perfect spot."
   ]
  },
  {
   "cell_type": "markdown",
   "metadata": {},
   "source": [
    "#### Further questions:\n",
    "## Q5\n",
    "**How would you model the problem if you had to segment the mails in more than two parts\n",
    "(for example : header, body, signature) ?**\n",
    "\n",
    "If we had more than 2 parts, we will have to increase the dimension of the transition matrix and that of the initial vector states. Also, the observations probabilities will be then distributed over all the possible states...\n",
    "\n",
    "In the example of 3 possible segments, the transition matrix A will be of dim 3x3, the initial states vector would be of dim 3x1, and the observations probabilities matrix will be of dim 26x3, each column corresponding to header, body and signature, respectively.\n",
    "\n",
    "However, ecverything else would be unchanged, even the Viterbi algorithm. This is very generic."
   ]
  },
  {
   "cell_type": "markdown",
   "metadata": {},
   "source": [
    "## Q6\n",
    "**How would you model the problem of separating the portions of mail included, knowing that\n",
    "they always start with the character \">\" ?**\n",
    "\n",
    "Knowing that new segments always start with \">\", we would increase the probability of the observation of \">\" leading to a more probable jump to the next state once we encounter \">\".\n",
    "\n",
    "In fact, there would be no change in terms of the transition matrx, nor the initial probabilities matrix. Just the B matrix will change at the row of the observation \">\"."
   ]
  }
 ],
 "metadata": {
  "kernelspec": {
   "display_name": "Python 3",
   "language": "python",
   "name": "python3"
  },
  "language_info": {
   "codemirror_mode": {
    "name": "ipython",
    "version": 3
   },
   "file_extension": ".py",
   "mimetype": "text/x-python",
   "name": "python",
   "nbconvert_exporter": "python",
   "pygments_lexer": "ipython3",
   "version": "3.6.12"
  }
 },
 "nbformat": 4,
 "nbformat_minor": 4
}
