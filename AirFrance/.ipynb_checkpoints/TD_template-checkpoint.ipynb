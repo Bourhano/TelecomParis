{
 "cells": [
  {
   "cell_type": "markdown",
   "metadata": {},
   "source": [
    "# Network optimization for revenue management"
   ]
  },
  {
   "cell_type": "markdown",
   "metadata": {},
   "source": [
    "#### Dependencies"
   ]
  },
  {
   "cell_type": "code",
   "execution_count": 1,
   "metadata": {},
   "outputs": [],
   "source": [
    "%matplotlib inline\n",
    "import matplotlib.pyplot as plt\n",
    "import numpy as np\n",
    "import pandas as pd\n",
    "\n",
    "import shutil\n",
    "import sys\n",
    "import os.path\n",
    "\n",
    "#Install modeler \"pyomo\"\n",
    "if not shutil.which(\"pyomo\"):\n",
    "    !pip install -q pyomo\n",
    "    assert(shutil.which(\"pyomo\"))\n",
    "import pyomo.environ as pyomo\n",
    "\n",
    "#If using an older version of Python, the following import might help : \n",
    "#from __future__ import print_function #if python < 3"
   ]
  },
  {
   "cell_type": "code",
   "execution_count": 2,
   "metadata": {},
   "outputs": [],
   "source": [
    "#conda install -c conda-forge glpk"
   ]
  },
  {
   "cell_type": "markdown",
   "metadata": {},
   "source": [
    "#### Data loading"
   ]
  },
  {
   "cell_type": "code",
   "execution_count": 3,
   "metadata": {},
   "outputs": [
    {
     "name": "stdout",
     "output_type": "stream",
     "text": [
      "Read :  30  products  6  flights  6  aircrafts \n"
     ]
    }
   ],
   "source": [
    "#Read data tables\n",
    "products=pd.read_csv('products.csv', sep=';')\n",
    "m=len(products)\n",
    "flights=pd.read_csv('flights.csv', sep=';')\n",
    "n=len(flights)\n",
    "aircrafts=pd.read_csv('aircrafts.csv', sep=';')\n",
    "p=len(aircrafts)\n",
    "print('Read : ',m,' products ',n,' flights ',p,' aircrafts ')"
   ]
  },
  {
   "cell_type": "markdown",
   "metadata": {},
   "source": [
    "#### List of all products, their associated price (=fare in €), the current number of seats sold and the demand forecast"
   ]
  },
  {
   "cell_type": "code",
   "execution_count": 8,
   "metadata": {
    "scrolled": true
   },
   "outputs": [
    {
     "data": {
      "text/html": [
       "<div>\n",
       "<style scoped>\n",
       "    .dataframe tbody tr th:only-of-type {\n",
       "        vertical-align: middle;\n",
       "    }\n",
       "\n",
       "    .dataframe tbody tr th {\n",
       "        vertical-align: top;\n",
       "    }\n",
       "\n",
       "    .dataframe thead th {\n",
       "        text-align: right;\n",
       "    }\n",
       "</style>\n",
       "<table border=\"1\" class=\"dataframe\">\n",
       "  <thead>\n",
       "    <tr style=\"text-align: right;\">\n",
       "      <th></th>\n",
       "      <th>Route</th>\n",
       "      <th>BookingClass</th>\n",
       "      <th>Name</th>\n",
       "      <th>Fare</th>\n",
       "      <th>SeatsSold</th>\n",
       "      <th>ExpectedDemandToCome</th>\n",
       "      <th>ListofFlights</th>\n",
       "    </tr>\n",
       "  </thead>\n",
       "  <tbody>\n",
       "    <tr>\n",
       "      <th>0</th>\n",
       "      <td>FCOAMS</td>\n",
       "      <td>High</td>\n",
       "      <td>'FCOAMS_High'</td>\n",
       "      <td>650</td>\n",
       "      <td>5</td>\n",
       "      <td>5</td>\n",
       "      <td>[AF1005,AF1040]</td>\n",
       "    </tr>\n",
       "    <tr>\n",
       "      <th>1</th>\n",
       "      <td>FCOLHR</td>\n",
       "      <td>High</td>\n",
       "      <td>'FCOLHR_High'</td>\n",
       "      <td>600</td>\n",
       "      <td>0</td>\n",
       "      <td>0</td>\n",
       "      <td>[AF1005,AF1080]</td>\n",
       "    </tr>\n",
       "    <tr>\n",
       "      <th>2</th>\n",
       "      <td>BCNAMS</td>\n",
       "      <td>High</td>\n",
       "      <td>'BCNAMS_High'</td>\n",
       "      <td>550</td>\n",
       "      <td>5</td>\n",
       "      <td>10</td>\n",
       "      <td>[AF1049,AF1040]</td>\n",
       "    </tr>\n",
       "    <tr>\n",
       "      <th>3</th>\n",
       "      <td>FCOFRA</td>\n",
       "      <td>High</td>\n",
       "      <td>'FCOFRA_High'</td>\n",
       "      <td>550</td>\n",
       "      <td>5</td>\n",
       "      <td>10</td>\n",
       "      <td>[AF1005,AF1018]</td>\n",
       "    </tr>\n",
       "    <tr>\n",
       "      <th>4</th>\n",
       "      <td>BCNFRA</td>\n",
       "      <td>High</td>\n",
       "      <td>'BCNFRA_High'</td>\n",
       "      <td>525</td>\n",
       "      <td>5</td>\n",
       "      <td>5</td>\n",
       "      <td>[AF1049,AF1018]</td>\n",
       "    </tr>\n",
       "  </tbody>\n",
       "</table>\n",
       "</div>"
      ],
      "text/plain": [
       "    Route BookingClass           Name  Fare  SeatsSold  ExpectedDemandToCome  \\\n",
       "0  FCOAMS         High  'FCOAMS_High'   650          5                     5   \n",
       "1  FCOLHR         High  'FCOLHR_High'   600          0                     0   \n",
       "2  BCNAMS         High  'BCNAMS_High'   550          5                    10   \n",
       "3  FCOFRA         High  'FCOFRA_High'   550          5                    10   \n",
       "4  BCNFRA         High  'BCNFRA_High'   525          5                     5   \n",
       "\n",
       "     ListofFlights  \n",
       "0  [AF1005,AF1040]  \n",
       "1  [AF1005,AF1080]  \n",
       "2  [AF1049,AF1040]  \n",
       "3  [AF1005,AF1018]  \n",
       "4  [AF1049,AF1018]  "
      ]
     },
     "execution_count": 8,
     "metadata": {},
     "output_type": "execute_result"
    }
   ],
   "source": [
    "products.head()"
   ]
  },
  {
   "cell_type": "markdown",
   "metadata": {},
   "source": [
    "#### List of all scheduled flights, their origin and destination, and the physical aircraft ID currently used"
   ]
  },
  {
   "cell_type": "code",
   "execution_count": 5,
   "metadata": {},
   "outputs": [
    {
     "data": {
      "text/html": [
       "<div>\n",
       "<style scoped>\n",
       "    .dataframe tbody tr th:only-of-type {\n",
       "        vertical-align: middle;\n",
       "    }\n",
       "\n",
       "    .dataframe tbody tr th {\n",
       "        vertical-align: top;\n",
       "    }\n",
       "\n",
       "    .dataframe thead th {\n",
       "        text-align: right;\n",
       "    }\n",
       "</style>\n",
       "<table border=\"1\" class=\"dataframe\">\n",
       "  <thead>\n",
       "    <tr style=\"text-align: right;\">\n",
       "      <th></th>\n",
       "      <th>FlightNumber</th>\n",
       "      <th>FlightDeparture</th>\n",
       "      <th>FlightArrival</th>\n",
       "      <th>AircraftId</th>\n",
       "    </tr>\n",
       "  </thead>\n",
       "  <tbody>\n",
       "    <tr>\n",
       "      <th>0</th>\n",
       "      <td>AF1001</td>\n",
       "      <td>MAD</td>\n",
       "      <td>CDG</td>\n",
       "      <td>1</td>\n",
       "    </tr>\n",
       "    <tr>\n",
       "      <th>1</th>\n",
       "      <td>AF1049</td>\n",
       "      <td>BCN</td>\n",
       "      <td>CDG</td>\n",
       "      <td>2</td>\n",
       "    </tr>\n",
       "    <tr>\n",
       "      <th>2</th>\n",
       "      <td>AF1005</td>\n",
       "      <td>FCO</td>\n",
       "      <td>CDG</td>\n",
       "      <td>3</td>\n",
       "    </tr>\n",
       "    <tr>\n",
       "      <th>3</th>\n",
       "      <td>AF1080</td>\n",
       "      <td>CDG</td>\n",
       "      <td>LHR</td>\n",
       "      <td>4</td>\n",
       "    </tr>\n",
       "    <tr>\n",
       "      <th>4</th>\n",
       "      <td>AF1018</td>\n",
       "      <td>CDG</td>\n",
       "      <td>FRA</td>\n",
       "      <td>5</td>\n",
       "    </tr>\n",
       "    <tr>\n",
       "      <th>5</th>\n",
       "      <td>AF1040</td>\n",
       "      <td>CDG</td>\n",
       "      <td>AMS</td>\n",
       "      <td>6</td>\n",
       "    </tr>\n",
       "  </tbody>\n",
       "</table>\n",
       "</div>"
      ],
      "text/plain": [
       "  FlightNumber FlightDeparture FlightArrival  AircraftId\n",
       "0       AF1001             MAD           CDG           1\n",
       "1       AF1049             BCN           CDG           2\n",
       "2       AF1005             FCO           CDG           3\n",
       "3       AF1080             CDG           LHR           4\n",
       "4       AF1018             CDG           FRA           5\n",
       "5       AF1040             CDG           AMS           6"
      ]
     },
     "execution_count": 5,
     "metadata": {},
     "output_type": "execute_result"
    }
   ],
   "source": [
    "flights"
   ]
  },
  {
   "cell_type": "markdown",
   "metadata": {},
   "source": [
    "#### List of all the aircrafts in the fleet and their capacity"
   ]
  },
  {
   "cell_type": "code",
   "execution_count": 6,
   "metadata": {},
   "outputs": [
    {
     "data": {
      "text/html": [
       "<div>\n",
       "<style scoped>\n",
       "    .dataframe tbody tr th:only-of-type {\n",
       "        vertical-align: middle;\n",
       "    }\n",
       "\n",
       "    .dataframe tbody tr th {\n",
       "        vertical-align: top;\n",
       "    }\n",
       "\n",
       "    .dataframe thead th {\n",
       "        text-align: right;\n",
       "    }\n",
       "</style>\n",
       "<table border=\"1\" class=\"dataframe\">\n",
       "  <thead>\n",
       "    <tr style=\"text-align: right;\">\n",
       "      <th></th>\n",
       "      <th>AircraftId</th>\n",
       "      <th>Capacity</th>\n",
       "    </tr>\n",
       "  </thead>\n",
       "  <tbody>\n",
       "    <tr>\n",
       "      <th>0</th>\n",
       "      <td>1</td>\n",
       "      <td>50</td>\n",
       "    </tr>\n",
       "    <tr>\n",
       "      <th>1</th>\n",
       "      <td>2</td>\n",
       "      <td>80</td>\n",
       "    </tr>\n",
       "    <tr>\n",
       "      <th>2</th>\n",
       "      <td>3</td>\n",
       "      <td>100</td>\n",
       "    </tr>\n",
       "    <tr>\n",
       "      <th>3</th>\n",
       "      <td>4</td>\n",
       "      <td>50</td>\n",
       "    </tr>\n",
       "    <tr>\n",
       "      <th>4</th>\n",
       "      <td>5</td>\n",
       "      <td>80</td>\n",
       "    </tr>\n",
       "    <tr>\n",
       "      <th>5</th>\n",
       "      <td>6</td>\n",
       "      <td>100</td>\n",
       "    </tr>\n",
       "  </tbody>\n",
       "</table>\n",
       "</div>"
      ],
      "text/plain": [
       "   AircraftId  Capacity\n",
       "0           1        50\n",
       "1           2        80\n",
       "2           3       100\n",
       "3           4        50\n",
       "4           5        80\n",
       "5           6       100"
      ]
     },
     "execution_count": 6,
     "metadata": {},
     "output_type": "execute_result"
    }
   ],
   "source": [
    "aircrafts"
   ]
  },
  {
   "cell_type": "markdown",
   "metadata": {},
   "source": [
    "## Part 1 - Network Optimization"
   ]
  },
  {
   "cell_type": "markdown",
   "metadata": {},
   "source": [
    "#### Write the revenue management linear program as : \n",
    "$$ \\begin{align*}\\text{min} f.x \\\\\\text{s.t.} Ax <= c \\\\x &\\geq 0\\end{align*} $$"
   ]
  },
  {
   "cell_type": "markdown",
   "metadata": {},
   "source": [
    "![](Problem.jpg)"
   ]
  },
  {
   "cell_type": "markdown",
   "metadata": {},
   "source": [
    "## Part 2 - Aircraft Allocation"
   ]
  },
  {
   "cell_type": "code",
   "execution_count": 38,
   "metadata": {},
   "outputs": [],
   "source": [
    "A = np.zeros(shape=(n,m))\n",
    "for i in range(n):\n",
    "    flight = flights['FlightNumber'][i]\n",
    "    #Ori = flights['FlightDeparture'][i]\n",
    "    #Dst = flights['FlightArrival'][i]\n",
    "    \n",
    "    for j in range(m):\n",
    "        list_flights = products['ListofFlights'][j]\n",
    "        if (flight in list_flights):\n",
    "            A[i,j] = 1"
   ]
  },
  {
   "cell_type": "code",
   "execution_count": 34,
   "metadata": {},
   "outputs": [],
   "source": [
    "C = np.zeros(n)\n",
    "for i in range(n):\n",
    "    Capacity = aircrafts['Capacity'][i]\n",
    "    for j in range(m):\n",
    "        Capacity -= products['SeatsSold'][j]*A[i,j]\n",
    "    C[i] = Capacity\n",
    "    #print(Capacity)"
   ]
  },
  {
   "cell_type": "code",
   "execution_count": 35,
   "metadata": {},
   "outputs": [],
   "source": [
    "model = pyomo.ConcreteModel()\n",
    "\n",
    "model.x = pyomo.Var(products['Name'], domain = pyomo.NonNegativeReals)\n",
    "\n",
    "model.revenue = pyomo.Objective(sense= pyomo.maximize, \n",
    "                               expr = sum(model.x[products['Name'][i]]*products['Fare'][i] for i in range(m)))\n"
   ]
  },
  {
   "cell_type": "code",
   "execution_count": 36,
   "metadata": {},
   "outputs": [
    {
     "name": "stdout",
     "output_type": "stream",
     "text": [
      "Optimal Allocation\n",
      "    0 : 5.0 demand accepted\n",
      "    1 : 0.0 demand accepted\n",
      "    2 : 10.0 demand accepted\n",
      "    3 : 10.0 demand accepted\n",
      "    4 : 0.0 demand accepted\n",
      "    5 : 0.0 demand accepted\n",
      "    6 : 0.0 demand accepted\n",
      "    7 : 0.0 demand accepted\n",
      "    8 : 5.0 demand accepted\n",
      "    9 : 0.0 demand accepted\n",
      "    10 : 5.0 demand accepted\n",
      "    11 : 0.0 demand accepted\n",
      "    12 : 5.0 demand accepted\n",
      "    13 : 0.0 demand accepted\n",
      "    14 : 5.0 demand accepted\n",
      "    15 : 0.0 demand accepted\n",
      "    16 : 0.0 demand accepted\n",
      "    17 : 0.0 demand accepted\n",
      "    18 : 0.0 demand accepted\n",
      "    19 : 10.0 demand accepted\n",
      "    20 : 0.0 demand accepted\n",
      "    21 : 5.0 demand accepted\n",
      "    22 : 5.0 demand accepted\n",
      "    23 : 0.0 demand accepted\n",
      "    24 : 0.0 demand accepted\n",
      "    25 : 0.0 demand accepted\n",
      "    26 : 0.0 demand accepted\n",
      "    27 : 0.0 demand accepted\n",
      "    28 : 10.0 demand accepted\n",
      "    29 : 0.0 demand accepted\n",
      "\n",
      "revenue = EU 23000.0\n"
     ]
    }
   ],
   "source": [
    "model.demand = pyomo.ConstraintList()\n",
    "\n",
    "for i in range(m):\n",
    "    model.demand.add(model.x[products['Name'][i]] <= products['ExpectedDemandToCome'][i])\n",
    "\n",
    "model.capacity = pyomo.ConstraintList()\n",
    "\n",
    "for i in range(n):\n",
    "    flight = flights['FlightNumber'][i]\n",
    "    model.capacity.add(sum([model.x[products['Name'][j]]* A[i,j] for j in range(m)]) <= C[i])\n",
    "    \n",
    "solver = pyomo.SolverFactory('glpk')\n",
    "\n",
    "solver.solve(model)\n",
    "\n",
    "print('Optimal Allocation')\n",
    "for i in range(m):\n",
    "    print('   ', i, ':', model.x[products['Name'][i]](), 'demand accepted')\n",
    "print()\n",
    "print('revenue = EU', model.revenue())\n"
   ]
  },
  {
   "cell_type": "code",
   "execution_count": 37,
   "metadata": {},
   "outputs": [
    {
     "name": "stdout",
     "output_type": "stream",
     "text": [
      "# ==========================================================\n",
      "# = Solver Results                                         =\n",
      "# ==========================================================\n",
      "# ----------------------------------------------------------\n",
      "#   Problem Information\n",
      "# ----------------------------------------------------------\n",
      "Problem: \n",
      "- Name: unknown\n",
      "  Lower bound: 23000.0\n",
      "  Upper bound: 23000.0\n",
      "  Number of objectives: 1\n",
      "  Number of constraints: 37\n",
      "  Number of variables: 31\n",
      "  Number of nonzeros: 79\n",
      "  Sense: maximize\n",
      "# ----------------------------------------------------------\n",
      "#   Solver Information\n",
      "# ----------------------------------------------------------\n",
      "Solver: \n",
      "- Status: ok\n",
      "  Termination condition: optimal\n",
      "  Statistics: \n",
      "    Branch and bound: \n",
      "      Number of bounded subproblems: 0\n",
      "      Number of created subproblems: 0\n",
      "  Error rc: 0\n",
      "  Time: 0.01660633087158203\n",
      "# ----------------------------------------------------------\n",
      "#   Solution Information\n",
      "# ----------------------------------------------------------\n",
      "Solution: \n",
      "- number of solutions: 0\n",
      "  number of solutions displayed: 0\n"
     ]
    }
   ],
   "source": [
    "pyomo.SolverFactory('glpk').solve(model).write()"
   ]
  },
  {
   "cell_type": "markdown",
   "metadata": {},
   "source": [
    "# Part 2"
   ]
  },
  {
   "cell_type": "code",
   "execution_count": null,
   "metadata": {},
   "outputs": [],
   "source": [
    "A = np."
   ]
  }
 ],
 "metadata": {
  "kernelspec": {
   "display_name": "Python 3",
   "language": "python",
   "name": "python3"
  },
  "language_info": {
   "codemirror_mode": {
    "name": "ipython",
    "version": 3
   },
   "file_extension": ".py",
   "mimetype": "text/x-python",
   "name": "python",
   "nbconvert_exporter": "python",
   "pygments_lexer": "ipython3",
   "version": "3.6.12"
  }
 },
 "nbformat": 4,
 "nbformat_minor": 4
}
