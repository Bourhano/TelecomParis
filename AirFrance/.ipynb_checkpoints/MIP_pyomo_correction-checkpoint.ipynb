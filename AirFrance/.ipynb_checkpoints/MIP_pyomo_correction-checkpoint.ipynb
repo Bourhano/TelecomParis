{
 "cells": [
  {
   "cell_type": "markdown",
   "metadata": {},
   "source": [
    "# Network optimization for revenue management"
   ]
  },
  {
   "cell_type": "markdown",
   "metadata": {},
   "source": [
    "#### Dependencies"
   ]
  },
  {
   "cell_type": "code",
   "execution_count": 1,
   "metadata": {},
   "outputs": [],
   "source": [
    "%matplotlib inline\n",
    "import matplotlib.pyplot as plt\n",
    "import numpy as np\n",
    "import pandas as pd\n",
    "\n",
    "import shutil\n",
    "import sys\n",
    "import os.path\n",
    "\n",
    "#Install modeler \"pyomo\"\n",
    "if not shutil.which(\"pyomo\"):\n",
    "    !pip install -q pyomo\n",
    "    assert(shutil.which(\"pyomo\"))\n",
    "import pyomo.environ as pyomo\n",
    "\n",
    "#from __future__ import print_function #if python < 3"
   ]
  },
  {
   "cell_type": "code",
   "execution_count": 2,
   "metadata": {},
   "outputs": [],
   "source": [
    "#conda install -c conda-forge glpk"
   ]
  },
  {
   "cell_type": "markdown",
   "metadata": {},
   "source": [
    "#### Data loading"
   ]
  },
  {
   "cell_type": "code",
   "execution_count": 3,
   "metadata": {},
   "outputs": [
    {
     "name": "stdout",
     "output_type": "stream",
     "text": [
      "Read :  30  products  6  flights  6  aircrafts \n"
     ]
    }
   ],
   "source": [
    "#Read data tables\n",
    "products=pd.read_csv('products.csv', sep=';')\n",
    "m=len(products)\n",
    "flights=pd.read_csv('flights.csv', sep=';')\n",
    "n=len(flights)\n",
    "aircrafts=pd.read_csv('aircrafts.csv', sep=';')\n",
    "p=len(aircrafts)\n",
    "print('Read : ',m,' products ',n,' flights ',p,' aircrafts ')"
   ]
  },
  {
   "cell_type": "markdown",
   "metadata": {},
   "source": [
    "## Part 2 - Mixed-Integer programming"
   ]
  },
  {
   "cell_type": "markdown",
   "metadata": {},
   "source": [
    "### 1) Create matrix of network"
   ]
  },
  {
   "cell_type": "code",
   "execution_count": 4,
   "metadata": {},
   "outputs": [],
   "source": [
    "#Create matrix of network\n",
    "A=np.zeros(shape=(n,m))\n",
    "\n",
    "for i in range(n):           \n",
    "    flight = flights['FlightNumber'][i]\n",
    "    Ori = flights['FlightDeparture'][i]\n",
    "    Dst = flights['FlightArrival'][i]\n",
    "    #print('i = ',i,\" creating constraint for flight : \", flight,\" \",Ori,Dst)\n",
    "\n",
    "    for j in range(m):\n",
    "        list_flights = products['ListofFlights'][j]       \n",
    "        if(flight in list_flights):\n",
    "            #print('   Match flight with product : ',products['Name'][j])\n",
    "            A[i,j] = 1"
   ]
  },
  {
   "cell_type": "markdown",
   "metadata": {},
   "source": [
    "### 2) Define vector of capacities"
   ]
  },
  {
   "cell_type": "code",
   "execution_count": 5,
   "metadata": {},
   "outputs": [],
   "source": [
    "#Create matrix of remaining capacities\n",
    "C=np.zeros(shape=(n,p))\n",
    "\n",
    "for i in range(n):           \n",
    "    for k in range(p):\n",
    "        flight = flights['FlightNumber'][i]\n",
    "        #print(\" creating capacity for flight \", flight, ' and aircraft id : ',k)\n",
    "        remaining_capacity = aircrafts['Capacity'][k]\n",
    "        \n",
    "        for j in range(m):\n",
    "            list_flights = products['ListofFlights'][j]       \n",
    "            if(flight in list_flights):\n",
    "                #print('   Match flight with product : ',products['Name'][i])\n",
    "                nb_seat_solds = products['SeatsSold'][j]\n",
    "                remaining_capacity -= nb_seat_solds\n",
    "                \n",
    "        #print(\"remaining_capacity = \", remaining_capacity)\n",
    "        C[i,k] = remaining_capacity"
   ]
  },
  {
   "cell_type": "markdown",
   "metadata": {},
   "source": [
    "### 3) Define model and variables"
   ]
  },
  {
   "cell_type": "code",
   "execution_count": 6,
   "metadata": {},
   "outputs": [],
   "source": [
    "# Define variables\n",
    "model = pyomo.ConcreteModel()\n",
    "model.x = pyomo.Var(products['Name'], domain=pyomo.NonNegativeReals)\n",
    "model.y = pyomo.Var(np.arange(n*n), domain=pyomo.Binary)"
   ]
  },
  {
   "cell_type": "markdown",
   "metadata": {},
   "source": [
    "### 4) Define objective function"
   ]
  },
  {
   "cell_type": "code",
   "execution_count": 7,
   "metadata": {},
   "outputs": [],
   "source": [
    "# Define objective\n",
    "model.revenue = pyomo.Objective(sense = pyomo.maximize,\n",
    "                                expr = sum(model.x[products['Name'][i]]*products['Fare'][i] for i in range(m)))"
   ]
  },
  {
   "cell_type": "markdown",
   "metadata": {},
   "source": [
    "### 5) Define constraints"
   ]
  },
  {
   "cell_type": "code",
   "execution_count": 8,
   "metadata": {},
   "outputs": [],
   "source": [
    "# Define constraints\n",
    "model.demand = pyomo.ConstraintList()\n",
    "for i in range(m):\n",
    "    model.demand.add(model.x[products['Name'][i]] <= products['ExpectedDemandToCome'][i])\n",
    "    \n",
    "model.capacity = pyomo.ConstraintList()\n",
    "for i in range(n):\n",
    "    flight = flights['FlightNumber'][i]\n",
    "    #print('i = ',i,\" creating constraint for flight : \", flight)           \n",
    "    model.capacity.add(sum([model.x[products['Name'][j]]*A[i,j] for j in range(m)]) <= sum([model.y[i*n+k] * C[i,k] for k in range(n)]))\n",
    "\n",
    "model.aircraft = pyomo.ConstraintList()\n",
    "for i in range(n):\n",
    "    model.aircraft.add(sum([model.y[i*n+k] for k in range(n)]) == 1)\n",
    "    \n",
    "for k in range(n):\n",
    "    model.aircraft.add(sum([model.y[i*n+k] for i in range(n)]) == 1)"
   ]
  },
  {
   "cell_type": "markdown",
   "metadata": {},
   "source": [
    "### 6) Solve and print results"
   ]
  },
  {
   "cell_type": "code",
   "execution_count": 9,
   "metadata": {},
   "outputs": [
    {
     "name": "stdout",
     "output_type": "stream",
     "text": [
      "Optimal allocation\n",
      "   'FCOAMS_High' : 5.0 demand accepted\n",
      "   'FCOLHR_High' : 0.0 demand accepted\n",
      "   'BCNAMS_High' : 10.0 demand accepted\n",
      "   'FCOFRA_High' : 10.0 demand accepted\n",
      "   'BCNFRA_High' : 5.0 demand accepted\n",
      "   'BCNLHR_High' : 0.0 demand accepted\n",
      "   'MADAMS_High' : 0.0 demand accepted\n",
      "   'MADFRA_High' : 5.0 demand accepted\n",
      "   'MADLHR_High' : 0.0 demand accepted\n",
      "   'FCOCDG_High' : 0.0 demand accepted\n",
      "   'BCNCDG_High' : 5.0 demand accepted\n",
      "   'CDGFRA_High' : 5.0 demand accepted\n",
      "   'CDGLHR_High' : 5.0 demand accepted\n",
      "   'MADCDG_High' : 0.0 demand accepted\n",
      "   'CDGAMS_High' : 5.0 demand accepted\n",
      "   'BCNAMS_Low' : 0.0 demand accepted\n",
      "   'FCOLHR_Low' : 0.0 demand accepted\n",
      "   'FCOFRA_Low' : 0.0 demand accepted\n",
      "   'BCNFRA_Low' : 5.0 demand accepted\n",
      "   'FCOAMS_Low' : 0.0 demand accepted\n",
      "   'MADFRA_Low' : 0.0 demand accepted\n",
      "   'BCNCDG_Low' : 5.0 demand accepted\n",
      "   'FCOCDG_Low' : 5.0 demand accepted\n",
      "   'CDGFRA_Low' : 0.0 demand accepted\n",
      "   'MADLHR_Low' : 0.0 demand accepted\n",
      "   'MADAMS_Low' : 0.0 demand accepted\n",
      "   'BCNLHR_Low' : 10.0 demand accepted\n",
      "   'CDGLHR_Low' : 0.0 demand accepted\n",
      "   'CDGAMS_Low' : 0.0 demand accepted\n",
      "   'MADCDG_Low' : 0.0 demand accepted\n",
      "\n",
      "   0 : 1.0\n",
      "   1 : 0.0\n",
      "   2 : 0.0\n",
      "   3 : 0.0\n",
      "   4 : 0.0\n",
      "   5 : 0.0\n",
      "   6 : 0.0\n",
      "   7 : 0.0\n",
      "   8 : 1.0\n",
      "   9 : 0.0\n",
      "   10 : 0.0\n",
      "   11 : 0.0\n",
      "   12 : 0.0\n",
      "   13 : 0.0\n",
      "   14 : 0.0\n",
      "   15 : 0.0\n",
      "   16 : 1.0\n",
      "   17 : 0.0\n",
      "   18 : 0.0\n",
      "   19 : 0.0\n",
      "   20 : 0.0\n",
      "   21 : 1.0\n",
      "   22 : 0.0\n",
      "   23 : 0.0\n",
      "   24 : 0.0\n",
      "   25 : 0.0\n",
      "   26 : 0.0\n",
      "   27 : 0.0\n",
      "   28 : 0.0\n",
      "   29 : 1.0\n",
      "   30 : 0.0\n",
      "   31 : 1.0\n",
      "   32 : 0.0\n",
      "   33 : 0.0\n",
      "   34 : 0.0\n",
      "   35 : 0.0\n",
      "\n",
      "revenue = € 26775.0\n"
     ]
    }
   ],
   "source": [
    "solver = pyomo.SolverFactory('glpk')\n",
    "solver.solve(model)\n",
    "\n",
    "print('Optimal allocation')\n",
    "for i in range(m):\n",
    "    print('  ', products['Name'][i], ':', model.x[products['Name'][i]](), 'demand accepted')\n",
    "print()\n",
    "for j in range(n*n):\n",
    "    print('  ', j, ':', model.y[j]())\n",
    "print()\n",
    "print('revenue = €', model.revenue())    "
   ]
  },
  {
   "cell_type": "markdown",
   "metadata": {},
   "source": [
    "### 6) Check aircraft allocation"
   ]
  },
  {
   "cell_type": "code",
   "execution_count": 10,
   "metadata": {},
   "outputs": [],
   "source": [
    "#Verification : avion utilisé une fois seulement\n",
    "flights_allocation=np.zeros(shape=(n,n))\n",
    "it=0\n",
    "for k in range(n*n):\n",
    "    i=int(it%6)\n",
    "    j=int(it/6)\n",
    "    flights_allocation[j,i] = model.y[k]()\n",
    "    it+=1"
   ]
  },
  {
   "cell_type": "code",
   "execution_count": 11,
   "metadata": {},
   "outputs": [
    {
     "data": {
      "text/plain": [
       "array([[1., 0., 0., 0., 0., 0.],\n",
       "       [0., 0., 1., 0., 0., 0.],\n",
       "       [0., 0., 0., 0., 1., 0.],\n",
       "       [0., 0., 0., 1., 0., 0.],\n",
       "       [0., 0., 0., 0., 0., 1.],\n",
       "       [0., 1., 0., 0., 0., 0.]])"
      ]
     },
     "execution_count": 11,
     "metadata": {},
     "output_type": "execute_result"
    }
   ],
   "source": [
    "#ligne = leg, colonne = avion (ex:leg 0 utilise avion 3)\n",
    "flights_allocation"
   ]
  },
  {
   "cell_type": "code",
   "execution_count": null,
   "metadata": {},
   "outputs": [],
   "source": []
  },
  {
   "cell_type": "code",
   "execution_count": null,
   "metadata": {},
   "outputs": [],
   "source": []
  }
 ],
 "metadata": {
  "kernelspec": {
   "display_name": "Python 3",
   "language": "python",
   "name": "python3"
  },
  "language_info": {
   "codemirror_mode": {
    "name": "ipython",
    "version": 3
   },
   "file_extension": ".py",
   "mimetype": "text/x-python",
   "name": "python",
   "nbconvert_exporter": "python",
   "pygments_lexer": "ipython3",
   "version": "3.6.12"
  }
 },
 "nbformat": 4,
 "nbformat_minor": 4
}
