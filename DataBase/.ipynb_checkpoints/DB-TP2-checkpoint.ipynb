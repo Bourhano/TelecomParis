{
 "cells": [
  {
   "cell_type": "markdown",
   "metadata": {},
   "source": [
    "# TP2 - DB Normalization and Querying\n",
    "\n",
    "The objectives of this TP are:\n",
    "1. Apply normalization 1NF -> 2NF -> 3NF\n",
    "2. Perform SQL queries on the normalized database\n",
    "\n",
    "In this TP, we will use a database **`wine.db`** (available in the course's website) containing wine information related to 'production' and 'sales'. \n",
    "\n",
    "> Production <---> Wine <---> Sales\n",
    "\n",
    "\n",
    "---\n",
    "\n",
    "### Working with db files in Jupyter\n",
    "- Python provides an interface for SQLite through the *sqlite3* module\n",
    "- The **`%%sql`** magic builds upon it (and other tools) to enable the usage of SQL commands within a Jupyter Notebook as in common SQL clients.\n",
    "- Before proceeding, make sure that **`wine.db`** is in the same path as this notebook.\n",
    "  - If **`wine.db`** is not in the same path, an empty **`wine.db`** file will be created, resulting in errors in later steps of the TP.\n",
    "- The SQLite module in Python commits transactions automatically, this means that any change in the DB is immediately written to the file, e.g. creating/deleting tables.\n",
    "  -  For this reason, it is recommended to have a backup of **`wine.db`** as it is provided in the course's website.\n",
    "\n",
    "---"
   ]
  },
  {
   "cell_type": "markdown",
   "metadata": {},
   "source": [
    "**`wine.db`** contains the following unnormalized tables:\n",
    "\n",
    "<center>**Master1**</center>\n",
    "\n",
    "|*Attribute*|         *Description*          |\n",
    "| -------   |--------------------------------|\n",
    "| NV        | Wine number                    |\n",
    "| CRU       | Vineyard or group of vineyards |\n",
    "| DEGRE     | Alcohol content                |\n",
    "| MILL      | Vintage year                   |\n",
    "| QTE       | Number of bottles harvested    |\n",
    "| NP        | Producer number                |\n",
    "| NOM       | Producer's last name           |\n",
    "| PRENOM    | Producer's first name          |\n",
    "| REGION    | Production region              |\n",
    "\n",
    "From wikipedia:\n",
    "\n",
    "__Cru__: Often used to indicate a specifically named and legally defined vineyard or ensemble of vineyards and the vines \"which grow on [such] a reputed terroir; by extension of good quality.\" The term is also used to refer to the wine produced from such vines.\n",
    "\n",
    "\n",
    "<center>**Master2**</center>\n",
    "\n",
    "|*Attribute*|                         *Description*                  |\n",
    "| -------   |--------------------------------------------------------|\n",
    "| NV        | Wine number                                            |\n",
    "| CRU       | Vineyard or group of vineyards                         |\n",
    "| DEGRE     | Alcohol content                                        |\n",
    "| MILL      | Vintage year                                           |\n",
    "| DATES     | Buying date                                            |\n",
    "| LIEU      | Place where the wine was sold                          |\n",
    "| QTE       | Number of bottles bought                               |\n",
    "| NB        | Client (buveur) number                                 |\n",
    "| NOM       | Client's last name                                     |\n",
    "| PRENOM    | Client's first name                                    |\n",
    "| TYPE      | Type of client by volume of purchases                  |\n",
    "| REGION    | Administrative Region (different to production region) |\n"
   ]
  },
  {
   "cell_type": "code",
   "execution_count": 8,
   "metadata": {},
   "outputs": [],
   "source": [
    "import sqlite3    # Python interface for SQLite databases"
   ]
  },
  {
   "cell_type": "code",
   "execution_count": 9,
   "metadata": {},
   "outputs": [],
   "source": [
    "def printSchema(connection):\n",
    "    # Function to print the DB schema\n",
    "    # Source: http://stackoverflow.com/a/35092773/4765776\n",
    "    for (tableName,) in connection.execute(\n",
    "        \"\"\"\n",
    "        select NAME from SQLITE_MASTER where TYPE='table' order by NAME;\n",
    "        \"\"\"\n",
    "    ):\n",
    "        print(\"{}:\".format(tableName))\n",
    "        for (\n",
    "            columnID, columnName, columnType,\n",
    "            columnNotNull, columnDefault, columnPK,\n",
    "        ) in connection.execute(\"pragma table_info('{}');\".format(tableName)):\n",
    "            print(\"  {id}: {name}({type}){null}{default}{pk}\".format(\n",
    "                id=columnID,\n",
    "                name=columnName,\n",
    "                type=columnType,\n",
    "                null=\" not null\" if columnNotNull else \"\",\n",
    "                default=\" [{}]\".format(columnDefault) if columnDefault else \"\",\n",
    "                pk=\" *{}\".format(columnPK) if columnPK else \"\",\n",
    "            ))"
   ]
  },
  {
   "cell_type": "code",
   "execution_count": 10,
   "metadata": {},
   "outputs": [
    {
     "name": "stdout",
     "output_type": "stream",
     "text": [
      "Database schema:\n",
      "Customer:\n",
      "  0: NB(NUM)\n",
      "  1: NOM(TEXT)\n",
      "  2: PRENOM(TEXT)\n",
      "  3: TYPE(TEXT)\n",
      "  4: REGION(TEXT)\n",
      "MASTER1:\n",
      "  0: NV(NUM)\n",
      "  1: CRU(TEXT)\n",
      "  2: DEGRE(NUM)\n",
      "  3: MILL(NUM)\n",
      "  4: QTE(NUM)\n",
      "  5: NP(NUM)\n",
      "  6: NOM(TEXT)\n",
      "  7: PRENOM(TEXT)\n",
      "  8: REGION(TEXT)\n",
      "MASTER2:\n",
      "  0: NV(NUM)\n",
      "  1: CRU(TEXT)\n",
      "  2: DEGRE(NUM)\n",
      "  3: MILL(NUM)\n",
      "  4: DATES(DATE)\n",
      "  5: LIEU(TEXT)\n",
      "  6: QTE(NUM)\n",
      "  7: NB(NUM)\n",
      "  8: NOM(TEXT)\n",
      "  9: PRENOM(TEXT)\n",
      "  10: TYPE(TEXT)\n",
      "  11: REGION(TEXT)\n",
      "ProducedBottles:\n",
      "  0: NV(NUM)\n",
      "  1: NP(NUM)\n",
      "  2: QTE(NUM)\n",
      "Production:\n",
      "  0: NP(NUM)\n",
      "  1: NOM(TEXT)\n",
      "  2: PRENOM(TEXT)\n",
      "  3: REGION(TEXT)\n",
      "RBA:\n",
      "  0: NB(NUM)\n",
      "  1: NOM(TEXT)\n",
      "  2: PRENOM(TEXT)\n",
      "  3: TYPE(TEXT)\n",
      "RBB:\n",
      "  0: NB(NUM)\n",
      "  1: NOM(TEXT)\n",
      "  2: PRENOM(TEXT)\n",
      "  3: TYPE(TEXT)\n",
      "Sale:\n",
      "  0: NB(NUM)\n",
      "  1: NV(NUM)\n",
      "  2: DATES(NUM)\n",
      "  3: LIEU(TEXT)\n",
      "  4: QTE(NUM)\n",
      "Wine:\n",
      "  0: NV(NUM)\n",
      "  1: CRU(TEXT)\n",
      "  2: DEGRE(NUM)\n",
      "  3: MILL(NUM)\n"
     ]
    }
   ],
   "source": [
    "conn = sqlite3.connect('wine.db')\n",
    "c = conn.cursor()\n",
    "print(\"Database schema:\")\n",
    "printSchema(conn)           # An usefull way to viualize the content of the database"
   ]
  },
  {
   "cell_type": "markdown",
   "metadata": {},
   "source": [
    "From this point we will use __%%sql__ magic"
   ]
  },
  {
   "cell_type": "code",
   "execution_count": 11,
   "metadata": {},
   "outputs": [
    {
     "data": {
      "text/plain": [
       "'Connected: @wine.db'"
      ]
     },
     "execution_count": 11,
     "metadata": {},
     "output_type": "execute_result"
    }
   ],
   "source": [
    "%load_ext sql\n",
    "%sql sqlite:///wine.db"
   ]
  },
  {
   "cell_type": "markdown",
   "metadata": {},
   "source": [
    "# PART I: Database normalization"
   ]
  },
  {
   "cell_type": "markdown",
   "metadata": {},
   "source": [
    "The first task on this TP is the normalization of the wine data. In its current state both tables **Master1** and **Master2** are in the First Normal Form (1NF).\n",
    "\n",
    "By inspecting the content of these tables we can see that multiple tuples have NULL values."
   ]
  },
  {
   "cell_type": "code",
   "execution_count": 12,
   "metadata": {},
   "outputs": [
    {
     "name": "stdout",
     "output_type": "stream",
     "text": [
      " * sqlite:///wine.db\n",
      "Done.\n"
     ]
    },
    {
     "data": {
      "text/html": [
       "<table>\n",
       "    <tr>\n",
       "        <th>NV</th>\n",
       "        <th>CRU</th>\n",
       "        <th>DEGRE</th>\n",
       "        <th>MILL</th>\n",
       "        <th>QTE</th>\n",
       "        <th>NP</th>\n",
       "        <th>NOM</th>\n",
       "        <th>PRENOM</th>\n",
       "        <th>REGION</th>\n",
       "    </tr>\n",
       "    <tr>\n",
       "        <td>None</td>\n",
       "        <td>None</td>\n",
       "        <td>None</td>\n",
       "        <td>None</td>\n",
       "        <td>None</td>\n",
       "        <td>3</td>\n",
       "        <td>Six</td>\n",
       "        <td>Paul</td>\n",
       "        <td>Alsace</td>\n",
       "    </tr>\n",
       "    <tr>\n",
       "        <td>None</td>\n",
       "        <td>None</td>\n",
       "        <td>None</td>\n",
       "        <td>None</td>\n",
       "        <td>None</td>\n",
       "        <td>6</td>\n",
       "        <td>Marmagne</td>\n",
       "        <td>Bernard</td>\n",
       "        <td>Bourgogne</td>\n",
       "    </tr>\n",
       "    <tr>\n",
       "        <td>None</td>\n",
       "        <td>None</td>\n",
       "        <td>None</td>\n",
       "        <td>None</td>\n",
       "        <td>None</td>\n",
       "        <td>8</td>\n",
       "        <td>Lioger d&#x27;Harduy</td>\n",
       "        <td>Gabriel</td>\n",
       "        <td>Bourgogne</td>\n",
       "    </tr>\n",
       "    <tr>\n",
       "        <td>None</td>\n",
       "        <td>None</td>\n",
       "        <td>None</td>\n",
       "        <td>None</td>\n",
       "        <td>None</td>\n",
       "        <td>16</td>\n",
       "        <td>Barbin</td>\n",
       "        <td>Bernard</td>\n",
       "        <td>Bourgogne</td>\n",
       "    </tr>\n",
       "    <tr>\n",
       "        <td>None</td>\n",
       "        <td>None</td>\n",
       "        <td>None</td>\n",
       "        <td>None</td>\n",
       "        <td>None</td>\n",
       "        <td>17</td>\n",
       "        <td>Faiveley</td>\n",
       "        <td>Guy</td>\n",
       "        <td>Bourgogne</td>\n",
       "    </tr>\n",
       "    <tr>\n",
       "        <td>None</td>\n",
       "        <td>None</td>\n",
       "        <td>None</td>\n",
       "        <td>None</td>\n",
       "        <td>None</td>\n",
       "        <td>18</td>\n",
       "        <td>Tramier</td>\n",
       "        <td>Jean</td>\n",
       "        <td>Bourgogne</td>\n",
       "    </tr>\n",
       "    <tr>\n",
       "        <td>None</td>\n",
       "        <td>None</td>\n",
       "        <td>None</td>\n",
       "        <td>None</td>\n",
       "        <td>None</td>\n",
       "        <td>19</td>\n",
       "        <td>Dupaquier</td>\n",
       "        <td>Roger</td>\n",
       "        <td>Bourgogne</td>\n",
       "    </tr>\n",
       "    <tr>\n",
       "        <td>None</td>\n",
       "        <td>None</td>\n",
       "        <td>None</td>\n",
       "        <td>None</td>\n",
       "        <td>None</td>\n",
       "        <td>20</td>\n",
       "        <td>Lamy</td>\n",
       "        <td>Jean</td>\n",
       "        <td>Bourgogne</td>\n",
       "    </tr>\n",
       "    <tr>\n",
       "        <td>None</td>\n",
       "        <td>None</td>\n",
       "        <td>None</td>\n",
       "        <td>None</td>\n",
       "        <td>None</td>\n",
       "        <td>21</td>\n",
       "        <td>Cornu</td>\n",
       "        <td>Edmond</td>\n",
       "        <td>Bourgogne</td>\n",
       "    </tr>\n",
       "    <tr>\n",
       "        <td>None</td>\n",
       "        <td>None</td>\n",
       "        <td>None</td>\n",
       "        <td>None</td>\n",
       "        <td>None</td>\n",
       "        <td>26</td>\n",
       "        <td>Violot</td>\n",
       "        <td>Gilbert</td>\n",
       "        <td>Bourgogne</td>\n",
       "    </tr>\n",
       "</table>"
      ],
      "text/plain": [
       "[(None, None, None, None, None, 3, 'Six', 'Paul', 'Alsace'),\n",
       " (None, None, None, None, None, 6, 'Marmagne', 'Bernard', 'Bourgogne'),\n",
       " (None, None, None, None, None, 8, \"Lioger d'Harduy\", 'Gabriel', 'Bourgogne'),\n",
       " (None, None, None, None, None, 16, 'Barbin', 'Bernard', 'Bourgogne'),\n",
       " (None, None, None, None, None, 17, 'Faiveley', 'Guy', 'Bourgogne'),\n",
       " (None, None, None, None, None, 18, 'Tramier', 'Jean', 'Bourgogne'),\n",
       " (None, None, None, None, None, 19, 'Dupaquier', 'Roger', 'Bourgogne'),\n",
       " (None, None, None, None, None, 20, 'Lamy', 'Jean', 'Bourgogne'),\n",
       " (None, None, None, None, None, 21, 'Cornu', 'Edmond', 'Bourgogne'),\n",
       " (None, None, None, None, None, 26, 'Violot', 'Gilbert', 'Bourgogne')]"
      ]
     },
     "execution_count": 12,
     "metadata": {},
     "output_type": "execute_result"
    }
   ],
   "source": [
    "%%sql SELECT *\n",
    "FROM Master1\n",
    "LIMIT 10;"
   ]
  },
  {
   "cell_type": "markdown",
   "metadata": {},
   "source": [
    "* Notice that Jupyter *displays* 'None' instead of 'NULL'. \n",
    "  - This is only to comply with python notation.\n",
    "* To account for NULL values, your SQL queries must test explicitly for 'NULL'.\n",
    "\n",
    "Another problem in **Master1** and **Master2** is data redundancy, for example:"
   ]
  },
  {
   "cell_type": "code",
   "execution_count": 13,
   "metadata": {},
   "outputs": [
    {
     "name": "stdout",
     "output_type": "stream",
     "text": [
      " * sqlite:///wine.db\n",
      "Done.\n"
     ]
    },
    {
     "data": {
      "text/html": [
       "<table>\n",
       "    <tr>\n",
       "        <th>NV</th>\n",
       "        <th>CRU</th>\n",
       "        <th>DEGRE</th>\n",
       "        <th>MILL</th>\n",
       "        <th>QTE</th>\n",
       "        <th>NP</th>\n",
       "        <th>NOM</th>\n",
       "        <th>PRENOM</th>\n",
       "        <th>REGION</th>\n",
       "    </tr>\n",
       "    <tr>\n",
       "        <td>45</td>\n",
       "        <td>Chiroubles</td>\n",
       "        <td>None</td>\n",
       "        <td>1983</td>\n",
       "        <td>90</td>\n",
       "        <td>2</td>\n",
       "        <td>Boxler</td>\n",
       "        <td>Albert</td>\n",
       "        <td>Alsace</td>\n",
       "    </tr>\n",
       "    <tr>\n",
       "        <td>45</td>\n",
       "        <td>Chiroubles</td>\n",
       "        <td>None</td>\n",
       "        <td>1983</td>\n",
       "        <td>912</td>\n",
       "        <td>67</td>\n",
       "        <td>Descombes</td>\n",
       "        <td>Jean Ernest</td>\n",
       "        <td>Beaujolais</td>\n",
       "    </tr>\n",
       "    <tr>\n",
       "        <td>45</td>\n",
       "        <td>Chiroubles</td>\n",
       "        <td>None</td>\n",
       "        <td>1983</td>\n",
       "        <td>98</td>\n",
       "        <td>71</td>\n",
       "        <td>Chalandard</td>\n",
       "        <td>Danile</td>\n",
       "        <td>Jura</td>\n",
       "    </tr>\n",
       "    <tr>\n",
       "        <td>45</td>\n",
       "        <td>Chiroubles</td>\n",
       "        <td>None</td>\n",
       "        <td>1983</td>\n",
       "        <td>540</td>\n",
       "        <td>78</td>\n",
       "        <td>Michlel</td>\n",
       "        <td>Pierre Emile</td>\n",
       "        <td>Jura</td>\n",
       "    </tr>\n",
       "    <tr>\n",
       "        <td>45</td>\n",
       "        <td>Chiroubles</td>\n",
       "        <td>None</td>\n",
       "        <td>1983</td>\n",
       "        <td>450</td>\n",
       "        <td>86</td>\n",
       "        <td>Dumazet</td>\n",
       "        <td>Marc</td>\n",
       "        <td>Rhone</td>\n",
       "    </tr>\n",
       "</table>"
      ],
      "text/plain": [
       "[(45, 'Chiroubles', None, 1983, 90, 2, 'Boxler', 'Albert', 'Alsace'),\n",
       " (45, 'Chiroubles', None, 1983, 912, 67, 'Descombes', 'Jean Ernest', 'Beaujolais'),\n",
       " (45, 'Chiroubles', None, 1983, 98, 71, 'Chalandard', 'Danile', 'Jura'),\n",
       " (45, 'Chiroubles', None, 1983, 540, 78, 'Michlel', 'Pierre Emile', 'Jura'),\n",
       " (45, 'Chiroubles', None, 1983, 450, 86, 'Dumazet', 'Marc', 'Rhone')]"
      ]
     },
     "execution_count": 13,
     "metadata": {},
     "output_type": "execute_result"
    }
   ],
   "source": [
    "%%sql SELECT *\n",
    "FROM Master1\n",
    "WHERE NV = 45;"
   ]
  },
  {
   "cell_type": "markdown",
   "metadata": {},
   "source": [
    "---\n",
    "\n",
    "Additional resource for Normalization:\n",
    "\n",
    "https://www.youtube.com/watch?v=UrYLYV7WSHM\n",
    "\n",
    "---"
   ]
  },
  {
   "cell_type": "markdown",
   "metadata": {},
   "source": [
    "#### Exercise 1.1\n",
    "\n",
    "Convert table **Master1** to the Second Normal Form (2NF) or Third Normal Form (3NF) as applicable.\n",
    "* Explain your answer\n",
    "* List main functional dependencies (not all of them)\n",
    "* Describe the schema of new tables and how they relate\n",
    "  * You can write Tables as above or you can insert images in the notebook.\n",
    "  \n",
    "Remember that **`wine.db`** contains information related to wine 'production' and 'sells'.\n",
    "\n",
    "> Production <---> Wine <---> Sales\n",
    "\n",
    "A good start point is to look for the 'Wine' attributes.\n",
    "\n",
    "**Hint:** Look for redundant information between the master tables."
   ]
  },
  {
   "cell_type": "markdown",
   "metadata": {},
   "source": [
    "---"
   ]
  },
  {
   "cell_type": "markdown",
   "metadata": {},
   "source": [
    "<center>**MY ANSWER FOR EXERCISE 1.1**</center>\n",
    "\n",
    "EXPLANATION: \n",
    "\n",
    "The main MASTER1 table is not normalized, main issues are: data redundancies, table misstructures and everything is put in one single table to represent the PRODUCTIONS.\n",
    "As a first heuristic, we can see that the rlation between the wines produced and the producers is a Many-to-Many relation, since multiple producers can produce the same wine, and a wine can be produced by more than one producer with different number of bottles (QTE). So, we should split this big table into three tables, which are: Wine, Productions and ProducedBottles. The latter one is a join table that links the Wine and Productions. This way we removed redundancies and describe the wine in a single table, and have info about the producer in the Production table.\n",
    "\n",
    "Main Functional Dependencies:\n",
    "\n",
    "NV -> CRU, DEGRE, MILL<br>\n",
    "NP -> NOM, PRENOM, REGION<br>\n",
    "NV, NP -> QTE\n",
    "\n",
    "<center>**Wine**</center>\n",
    "\n",
    "|*Attribute*|         *Description*          |\n",
    "| -------   |--------------------------------|\n",
    "| NV        | Wine number   (PK)             |\n",
    "| CRU       | Vineyard or group of vineyards |\n",
    "| DEGRE     | Alcohol content                |\n",
    "| MILL      | Vintage year                   |\n",
    "\n",
    "\n",
    "<center>**Production**</center>\n",
    "\n",
    "|*Attribute*|         *Description*          |\n",
    "| -------   |--------------------------------|\n",
    "| NP        | Producer number (PK)           |\n",
    "| NOM       | Producer's last name           |\n",
    "| PRENOM    | Producer's first name          |\n",
    "| REGION    | Production region              |\n",
    "\n",
    "<center>**ProducedBottles**</center>\n",
    "\n",
    "|*Attribute*|         *Description*          |\n",
    "| -------   |--------------------------------|\n",
    "| NV        | Wine number   (FK)             |\n",
    "| NP        | Producer number (FK)           |\n",
    "| QTE       | Number of bottles harvested    |\n",
    "\n",
    "We should note that the PK in the ProducedBottles table is the couple (NV, NP) where each one of them is a key for another table.\n",
    "\n",
    "We should also state that all tables are now in 3rd Normal Form (3NF), since each entry is atomic, any non-key attribute is not dependant on a key part and there are no FD between non-key attributes."
   ]
  },
  {
   "cell_type": "markdown",
   "metadata": {},
   "source": [
    "___"
   ]
  },
  {
   "cell_type": "markdown",
   "metadata": {},
   "source": [
    "#### Exercise 1.2\n",
    "\n",
    "Convert table **Master2** to the Second Normal Form (2NF) or Third Normal Form (3NF) as applicable.\n",
    "* Explain your answer\n",
    "* List main functional dependencies (not all of them)\n",
    "* Describe the schema of new tables and how they relate\n",
    "  * You can write Tables as above or you can insert images in the notebook.\n",
    "\n",
    "**Note:** For this part, consider that a wine can be bought in multiple locations and multiple times per day."
   ]
  },
  {
   "cell_type": "markdown",
   "metadata": {},
   "source": [
    "___"
   ]
  },
  {
   "cell_type": "markdown",
   "metadata": {},
   "source": [
    "<center>**MY ANSWER FOR EXERCISE 1.2**</center>\n",
    "\n",
    "EXPLANATION: \n",
    "\n",
    "The main MASTER2 table is also not normalized and have data redundancies which most of them are now solved by EX1.1, and this table represents the SALES.\n",
    "\n",
    "<strike>Starting from where we left off EX1.1, we already have data describing the Wine and the Producers, now we need to represent the Sale and the Customer, so we need two additional tables: Customer which contains atomic info about each buyer, and Sale which represent a receipt that is a result of a Customer buying a Wine from a Producer, so this table has a PK which is the triplet : (NB, NP, NV). \n",
    "This way we omit redundancy and still preserve the 3NF, because we don't have contradicting dependencies.\n",
    "</strike>\n",
    "I realised that I developed the exercise further than what was needed, I related the Producer with the Master2, which was not required nor suggested! That's why I striked through the wrong parts all along my answers!\n",
    "\n",
    "\n",
    "We will use the same Wine table from EX1.1 with the same definition, and we will add another table which is Customer. It represents the buyer and all the details related to him, and another table: Sale to describe the purchases made by each buyer atomically and without redundancy. It's primary key is the couple : (NB, NV)\n",
    "\n",
    "Main Functional Dependencies:\n",
    "\n",
    "NB -> NOM, PRENOM, TYPE<br>\n",
    "NB, NV -> DATES, LIEU, REGION, QTE\n",
    "<strike>NB, NV, NP -> DATES, LIEU, QTE</strike><br>\n",
    "\n",
    "In addition to the Wine table <strike>and Production table</strike>, we need:\n",
    "\n",
    "<center>**Customer**</center>\n",
    "\n",
    "|*Attribute*|         *Description*          |\n",
    "| -------   |--------------------------------|\n",
    "| NB        | Client (buveur) number   (PK)  |\n",
    "| NOM       | Client's last name             |\n",
    "| PRENOM    | Client's first name            |\n",
    "| TYPE      | Type of client by volume of purchases|\n",
    "\n",
    "\n",
    "\n",
    "<center>**Sale**</center>\n",
    "\n",
    "|*Attribute*|         *Description*          |\n",
    "| -------   |--------------------------------|\n",
    "| NB        | Client (buveur) number   (FK)  |\n",
    "| NV        | Wine number              (FK)  |\n",
    "| DATES     | Buying date                    |\n",
    "| LIEU      | Place where the wine was sold  |\n",
    "| REGION    | Administrative Region (different to production region) |\n",
    "| QTE       | Number of bottles bought       |"
   ]
  },
  {
   "cell_type": "markdown",
   "metadata": {},
   "source": [
    "---"
   ]
  },
  {
   "cell_type": "markdown",
   "metadata": {},
   "source": [
    "Once you have defined the 2NF or 3NF (as applicable) we need to split the data into new tables.\n",
    "\n",
    "A table can be created from the result of a query.\n",
    "\n",
    "In the following example we will create a new table \"dummy\" to store the different values of alcohol content."
   ]
  },
  {
   "cell_type": "code",
   "execution_count": 14,
   "metadata": {},
   "outputs": [
    {
     "name": "stdout",
     "output_type": "stream",
     "text": [
      " * sqlite:///wine.db\n",
      "Done.\n",
      "Done.\n"
     ]
    },
    {
     "data": {
      "text/plain": [
       "[]"
      ]
     },
     "execution_count": 14,
     "metadata": {},
     "output_type": "execute_result"
    }
   ],
   "source": [
    "%%sql DROP TABLE IF EXISTS dummy;\n",
    "\n",
    "-- Create dummy table\n",
    "CREATE TABLE dummy AS\n",
    "SELECT DISTINCT DEGRE\n",
    "FROM MASTER1;"
   ]
  },
  {
   "cell_type": "code",
   "execution_count": 15,
   "metadata": {},
   "outputs": [
    {
     "name": "stdout",
     "output_type": "stream",
     "text": [
      "\n",
      "Content of the database\n",
      "Customer:\n",
      "  0: NB(NUM)\n",
      "  1: NOM(TEXT)\n",
      "  2: PRENOM(TEXT)\n",
      "  3: TYPE(TEXT)\n",
      "  4: REGION(TEXT)\n",
      "MASTER1:\n",
      "  0: NV(NUM)\n",
      "  1: CRU(TEXT)\n",
      "  2: DEGRE(NUM)\n",
      "  3: MILL(NUM)\n",
      "  4: QTE(NUM)\n",
      "  5: NP(NUM)\n",
      "  6: NOM(TEXT)\n",
      "  7: PRENOM(TEXT)\n",
      "  8: REGION(TEXT)\n",
      "MASTER2:\n",
      "  0: NV(NUM)\n",
      "  1: CRU(TEXT)\n",
      "  2: DEGRE(NUM)\n",
      "  3: MILL(NUM)\n",
      "  4: DATES(DATE)\n",
      "  5: LIEU(TEXT)\n",
      "  6: QTE(NUM)\n",
      "  7: NB(NUM)\n",
      "  8: NOM(TEXT)\n",
      "  9: PRENOM(TEXT)\n",
      "  10: TYPE(TEXT)\n",
      "  11: REGION(TEXT)\n",
      "ProducedBottles:\n",
      "  0: NV(NUM)\n",
      "  1: NP(NUM)\n",
      "  2: QTE(NUM)\n",
      "Production:\n",
      "  0: NP(NUM)\n",
      "  1: NOM(TEXT)\n",
      "  2: PRENOM(TEXT)\n",
      "  3: REGION(TEXT)\n",
      "RBA:\n",
      "  0: NB(NUM)\n",
      "  1: NOM(TEXT)\n",
      "  2: PRENOM(TEXT)\n",
      "  3: TYPE(TEXT)\n",
      "RBB:\n",
      "  0: NB(NUM)\n",
      "  1: NOM(TEXT)\n",
      "  2: PRENOM(TEXT)\n",
      "  3: TYPE(TEXT)\n",
      "Sale:\n",
      "  0: NB(NUM)\n",
      "  1: NV(NUM)\n",
      "  2: DATES(NUM)\n",
      "  3: LIEU(TEXT)\n",
      "  4: QTE(NUM)\n",
      "Wine:\n",
      "  0: NV(NUM)\n",
      "  1: CRU(TEXT)\n",
      "  2: DEGRE(NUM)\n",
      "  3: MILL(NUM)\n",
      "dummy:\n",
      "  0: DEGRE(NUM)\n"
     ]
    }
   ],
   "source": [
    "print(\"\\nContent of the database\")\n",
    "printSchema(conn)"
   ]
  },
  {
   "cell_type": "code",
   "execution_count": 16,
   "metadata": {},
   "outputs": [
    {
     "name": "stdout",
     "output_type": "stream",
     "text": [
      " * sqlite:///wine.db\n",
      "Done.\n"
     ]
    },
    {
     "data": {
      "text/html": [
       "<table>\n",
       "    <tr>\n",
       "        <th>DEGRE</th>\n",
       "    </tr>\n",
       "    <tr>\n",
       "        <td>None</td>\n",
       "    </tr>\n",
       "    <tr>\n",
       "        <td>11.5</td>\n",
       "    </tr>\n",
       "    <tr>\n",
       "        <td>11.3</td>\n",
       "    </tr>\n",
       "    <tr>\n",
       "        <td>12.1</td>\n",
       "    </tr>\n",
       "    <tr>\n",
       "        <td>10.9</td>\n",
       "    </tr>\n",
       "    <tr>\n",
       "        <td>11.7</td>\n",
       "    </tr>\n",
       "    <tr>\n",
       "        <td>11.2</td>\n",
       "    </tr>\n",
       "    <tr>\n",
       "        <td>12.3</td>\n",
       "    </tr>\n",
       "    <tr>\n",
       "        <td>11.9</td>\n",
       "    </tr>\n",
       "    <tr>\n",
       "        <td>11.8</td>\n",
       "    </tr>\n",
       "    <tr>\n",
       "        <td>10.7</td>\n",
       "    </tr>\n",
       "    <tr>\n",
       "        <td>11.4</td>\n",
       "    </tr>\n",
       "    <tr>\n",
       "        <td>10.5</td>\n",
       "    </tr>\n",
       "    <tr>\n",
       "        <td>11</td>\n",
       "    </tr>\n",
       "    <tr>\n",
       "        <td>11.6</td>\n",
       "    </tr>\n",
       "    <tr>\n",
       "        <td>12</td>\n",
       "    </tr>\n",
       "    <tr>\n",
       "        <td>10</td>\n",
       "    </tr>\n",
       "    <tr>\n",
       "        <td>12.5</td>\n",
       "    </tr>\n",
       "    <tr>\n",
       "        <td>10.8</td>\n",
       "    </tr>\n",
       "    <tr>\n",
       "        <td>14</td>\n",
       "    </tr>\n",
       "    <tr>\n",
       "        <td>11.1</td>\n",
       "    </tr>\n",
       "    <tr>\n",
       "        <td>13</td>\n",
       "    </tr>\n",
       "</table>"
      ],
      "text/plain": [
       "[(None,),\n",
       " (11.5,),\n",
       " (11.3,),\n",
       " (12.1,),\n",
       " (10.9,),\n",
       " (11.7,),\n",
       " (11.2,),\n",
       " (12.3,),\n",
       " (11.9,),\n",
       " (11.8,),\n",
       " (10.7,),\n",
       " (11.4,),\n",
       " (10.5,),\n",
       " (11,),\n",
       " (11.6,),\n",
       " (12,),\n",
       " (10,),\n",
       " (12.5,),\n",
       " (10.8,),\n",
       " (14,),\n",
       " (11.1,),\n",
       " (13,)]"
      ]
     },
     "execution_count": 16,
     "metadata": {},
     "output_type": "execute_result"
    }
   ],
   "source": [
    "%%sql\n",
    "SELECT *\n",
    "FROM dummy;"
   ]
  },
  {
   "cell_type": "markdown",
   "metadata": {},
   "source": [
    "Looking into \"dummy\", we notice that our query includes NULL. This is not allowed if we were to use DEGRE as key for a table.\n",
    "\n",
    "To correct this, we need to change the query to explicitly test for NULL as follows:"
   ]
  },
  {
   "cell_type": "code",
   "execution_count": 17,
   "metadata": {},
   "outputs": [
    {
     "name": "stdout",
     "output_type": "stream",
     "text": [
      " * sqlite:///wine.db\n",
      "Done.\n",
      "Done.\n",
      "Done.\n"
     ]
    },
    {
     "data": {
      "text/html": [
       "<table>\n",
       "    <tr>\n",
       "        <th>DEGRE</th>\n",
       "    </tr>\n",
       "    <tr>\n",
       "        <td>11.5</td>\n",
       "    </tr>\n",
       "    <tr>\n",
       "        <td>11.3</td>\n",
       "    </tr>\n",
       "    <tr>\n",
       "        <td>12.1</td>\n",
       "    </tr>\n",
       "    <tr>\n",
       "        <td>10.9</td>\n",
       "    </tr>\n",
       "    <tr>\n",
       "        <td>11.7</td>\n",
       "    </tr>\n",
       "    <tr>\n",
       "        <td>11.2</td>\n",
       "    </tr>\n",
       "    <tr>\n",
       "        <td>12.3</td>\n",
       "    </tr>\n",
       "    <tr>\n",
       "        <td>11.9</td>\n",
       "    </tr>\n",
       "    <tr>\n",
       "        <td>11.8</td>\n",
       "    </tr>\n",
       "    <tr>\n",
       "        <td>10.7</td>\n",
       "    </tr>\n",
       "    <tr>\n",
       "        <td>11.4</td>\n",
       "    </tr>\n",
       "    <tr>\n",
       "        <td>10.5</td>\n",
       "    </tr>\n",
       "    <tr>\n",
       "        <td>11</td>\n",
       "    </tr>\n",
       "    <tr>\n",
       "        <td>11.6</td>\n",
       "    </tr>\n",
       "    <tr>\n",
       "        <td>12</td>\n",
       "    </tr>\n",
       "    <tr>\n",
       "        <td>10</td>\n",
       "    </tr>\n",
       "    <tr>\n",
       "        <td>12.5</td>\n",
       "    </tr>\n",
       "    <tr>\n",
       "        <td>10.8</td>\n",
       "    </tr>\n",
       "    <tr>\n",
       "        <td>14</td>\n",
       "    </tr>\n",
       "    <tr>\n",
       "        <td>11.1</td>\n",
       "    </tr>\n",
       "    <tr>\n",
       "        <td>13</td>\n",
       "    </tr>\n",
       "</table>"
      ],
      "text/plain": [
       "[(11.5,),\n",
       " (11.3,),\n",
       " (12.1,),\n",
       " (10.9,),\n",
       " (11.7,),\n",
       " (11.2,),\n",
       " (12.3,),\n",
       " (11.9,),\n",
       " (11.8,),\n",
       " (10.7,),\n",
       " (11.4,),\n",
       " (10.5,),\n",
       " (11,),\n",
       " (11.6,),\n",
       " (12,),\n",
       " (10,),\n",
       " (12.5,),\n",
       " (10.8,),\n",
       " (14,),\n",
       " (11.1,),\n",
       " (13,)]"
      ]
     },
     "execution_count": 17,
     "metadata": {},
     "output_type": "execute_result"
    }
   ],
   "source": [
    "%%sql DROP TABLE IF EXISTS dummy;\n",
    "\n",
    "-- Create dummy table\n",
    "CREATE TABLE dummy AS\n",
    "SELECT DISTINCT DEGRE\n",
    "FROM MASTER1\n",
    "WHERE DEGRE IS NOT NULL;\n",
    "\n",
    "SELECT *\n",
    "FROM dummy;"
   ]
  },
  {
   "cell_type": "markdown",
   "metadata": {},
   "source": [
    "Notice that we use `NULL` given that `None` is only used for display."
   ]
  },
  {
   "cell_type": "code",
   "execution_count": 18,
   "metadata": {},
   "outputs": [
    {
     "name": "stdout",
     "output_type": "stream",
     "text": [
      " * sqlite:///wine.db\n",
      "Done.\n"
     ]
    },
    {
     "data": {
      "text/plain": [
       "[]"
      ]
     },
     "execution_count": 18,
     "metadata": {},
     "output_type": "execute_result"
    }
   ],
   "source": [
    "# Remove \"dummy\" table\n",
    "%sql DROP TABLE IF EXISTS dummy;"
   ]
  },
  {
   "cell_type": "markdown",
   "metadata": {},
   "source": [
    "#### Exercise 1.3\n",
    "\n",
    "Create the new tables from Master1:"
   ]
  },
  {
   "cell_type": "code",
   "execution_count": 21,
   "metadata": {},
   "outputs": [
    {
     "name": "stdout",
     "output_type": "stream",
     "text": [
      " * sqlite:///wine.db\n",
      "Done.\n",
      "Done.\n",
      "Done.\n"
     ]
    },
    {
     "data": {
      "text/plain": [
       "[]"
      ]
     },
     "execution_count": 21,
     "metadata": {},
     "output_type": "execute_result"
    }
   ],
   "source": [
    "%%sql\n",
    "\n",
    "-- Create Wine table\n",
    "CREATE TABLE Wine AS\n",
    "SELECT DISTINCT NV, CRU, DEGRE, MILL\n",
    "FROM MASTER1\n",
    "WHERE NV IS NOT NULL;\n",
    "\n",
    "-- Create Production table\n",
    "CREATE TABLE Production AS\n",
    "SELECT DISTINCT NP, NOM, PRENOM, REGION\n",
    "FROM MASTER1\n",
    "WHERE NP IS NOT NULL;\n",
    "\n",
    "-- Create ProducedBottles table\n",
    "CREATE TABLE ProducedBottles AS\n",
    "SELECT DISTINCT NV, NP, QTE\n",
    "FROM MASTER1\n",
    "WHERE NP IS NOT NULL and NV IS NOT NULL;"
   ]
  },
  {
   "cell_type": "code",
   "execution_count": 20,
   "metadata": {},
   "outputs": [
    {
     "name": "stdout",
     "output_type": "stream",
     "text": [
      " * sqlite:///wine.db\n",
      "Done.\n",
      "Done.\n",
      "Done.\n"
     ]
    },
    {
     "data": {
      "text/plain": [
       "[]"
      ]
     },
     "execution_count": 20,
     "metadata": {},
     "output_type": "execute_result"
    }
   ],
   "source": [
    "%%sql\n",
    "DROP TABLE IF EXISTS Wine;\n",
    "DROP TABLE IF EXISTS Production;\n",
    "DROP TABLE IF EXISTS ProducedBottles;"
   ]
  },
  {
   "cell_type": "markdown",
   "metadata": {},
   "source": [
    "#### Exercise 1.4\n",
    "\n",
    "Create the new tables from Master2:"
   ]
  },
  {
   "cell_type": "code",
   "execution_count": 27,
   "metadata": {},
   "outputs": [
    {
     "name": "stdout",
     "output_type": "stream",
     "text": [
      " * sqlite:///wine.db\n",
      "Done.\n",
      "Done.\n"
     ]
    },
    {
     "data": {
      "text/plain": [
       "[]"
      ]
     },
     "execution_count": 27,
     "metadata": {},
     "output_type": "execute_result"
    }
   ],
   "source": [
    "%%sql\n",
    "\n",
    "-- Create Customer table\n",
    "CREATE TABLE Customer AS\n",
    "SELECT DISTINCT NB, NOM, PRENOM, TYPE\n",
    "FROM MASTER2\n",
    "WHERE NB IS NOT NULL;\n",
    "\n",
    "-- Create Sale table\n",
    "CREATE TABLE Sale AS\n",
    "SELECT DISTINCT NB, NV, DATES, LIEU, REGION, QTE\n",
    "FROM MASTER2\n",
    "WHERE NB IS NOT NULL and NV IS NOT NULL;"
   ]
  },
  {
   "cell_type": "code",
   "execution_count": 26,
   "metadata": {},
   "outputs": [
    {
     "name": "stdout",
     "output_type": "stream",
     "text": [
      " * sqlite:///wine.db\n",
      "Done.\n",
      "Done.\n"
     ]
    },
    {
     "data": {
      "text/plain": [
       "[]"
      ]
     },
     "execution_count": 26,
     "metadata": {},
     "output_type": "execute_result"
    }
   ],
   "source": [
    "%%sql\n",
    "DROP TABLE IF EXISTS Customer;\n",
    "DROP TABLE IF EXISTS Sale;"
   ]
  },
  {
   "cell_type": "markdown",
   "metadata": {},
   "source": [
    "# PART II: SQL QUERIES\n",
    "\n",
    "In the second part of this TP you will create SQL queries to retrieve information from the database.\n",
    "\n",
    "**Important:**\n",
    "\n",
    "- You MUST use the normalized tables created in previous steps.\n",
    "  - The normalized tables will also be used in TP3.\n",
    "- Do NOT use **Master1** and **Master2** in your queries."
   ]
  },
  {
   "cell_type": "markdown",
   "metadata": {},
   "source": [
    "#### Exercise 2.1\n",
    "\n",
    "What are the different types of clients (buveurs) by volume of purchases?"
   ]
  },
  {
   "cell_type": "code",
   "execution_count": null,
   "metadata": {},
   "outputs": [],
   "source": [
    "%%sql\n",
    "SELECT \n",
    "DISTINCT TYPE AS 'Drinkers Type'\n",
    "FROM Customer;"
   ]
  },
  {
   "cell_type": "markdown",
   "metadata": {},
   "source": [
    "#### Exercise 2.2\n",
    "\n",
    "What regions produce Pommard or Brouilly?"
   ]
  },
  {
   "cell_type": "code",
   "execution_count": null,
   "metadata": {},
   "outputs": [],
   "source": [
    "%sql SELECT * FROM Wine"
   ]
  },
  {
   "cell_type": "code",
   "execution_count": null,
   "metadata": {},
   "outputs": [],
   "source": [
    "%%sql\n",
    "SELECT\n",
    "   CRU, REGION  \n",
    "FROM Production \n",
    "    INNER JOIN ProducedBottles on Production.NP = ProducedBottles.NP\n",
    "        INNER JOIN Wine on ProducedBottles.NV = Wine.NV\n",
    "WHERE CRU IN ('Pommard', 'Brouilly');"
   ]
  },
  {
   "cell_type": "markdown",
   "metadata": {},
   "source": [
    "#### Exercise 2.3\n",
    "\n",
    "What regions produce Pommard and Brouilly?"
   ]
  },
  {
   "cell_type": "code",
   "execution_count": 1,
   "metadata": {},
   "outputs": [
    {
     "name": "stderr",
     "output_type": "stream",
     "text": [
      "UsageError: Cell magic `%%sql` not found.\n"
     ]
    }
   ],
   "source": [
    "%%sql\n",
    "SELECT\n",
    "   CRU, REGION  \n",
    "FROM \n",
    "    ( SELECT CRU, REGION FROM Production \n",
    "    INNER JOIN ProducedBottles on Production.NP = ProducedBottles.NP\n",
    "        INNER JOIN Wine on ProducedBottles.NV = Wine.NV\n",
    "WHERE CRU IN ('Pommard', 'Brouilly');"
   ]
  },
  {
   "cell_type": "code",
   "execution_count": null,
   "metadata": {},
   "outputs": [],
   "source": [
    "%%sql\n",
    "SELECT\n",
    "    REGION  \n",
    "FROM Production \n",
    "    INNER JOIN ProducedBottles on Production.NP = ProducedBottles.NP\n",
    "        INNER JOIN Wine on ProducedBottles.NV = Wine.NV\n",
    "WHERE CRU IN ('Pommard', 'Brouilly')\n",
    "GROUP BY REGION\n",
    "HAVING COUNT() = 2;"
   ]
  },
  {
   "cell_type": "markdown",
   "metadata": {},
   "source": [
    "#### Exercise 2.4\n",
    "\n",
    "Get the number of wines bought by CRU and Millésime"
   ]
  },
  {
   "cell_type": "code",
   "execution_count": null,
   "metadata": {},
   "outputs": [],
   "source": [
    "%%sql\n",
    "SELECT \n",
    "    CRU, MILL, SUM(QTE) AS 'Number of Bought Wine'\n",
    "FROM Wine INNER JOIN\n",
    "        Sale on Wine.NV = Sale.NV\n",
    "GROUP BY CRU, MILL"
   ]
  },
  {
   "cell_type": "markdown",
   "metadata": {},
   "source": [
    "#### Exercise 2.5\n",
    "\n",
    "Retrieve the wine number (NV) of wines produced by more than three producers"
   ]
  },
  {
   "cell_type": "code",
   "execution_count": null,
   "metadata": {},
   "outputs": [],
   "source": [
    "%%sql\n",
    "SELECT\n",
    "    Wine.NV, COUNT(Production.NP) AS 'Number of Producers'\n",
    "FROM Wine \n",
    "    INNER JOIN ProducedBottles on Wine.NV = ProducedBottles.NV\n",
    "        INNER JOIN Production on ProducedBottles.NP = Production.NP\n",
    "GROUP BY Wine.NV\n",
    "HAVING COUNT(Production.NP) > 3;"
   ]
  },
  {
   "cell_type": "markdown",
   "metadata": {},
   "source": [
    "#### Exercise 2.6\n",
    "\n",
    "Which producers have not produced any wine?"
   ]
  },
  {
   "cell_type": "code",
   "execution_count": null,
   "metadata": {
    "scrolled": false
   },
   "outputs": [],
   "source": [
    "%%sql\n",
    "SELECT \n",
    "     DISTINCT Production.NP, Production.NOM, Production.PRENOM\n",
    "FROM Production \n",
    "        LEFT JOIN ProducedBottles on Production.NP = ProducedBottles.NP\n",
    "WHERE \n",
    "    Production.NP NOT IN (SELECT NP FROM ProducedBottles)\n",
    "ORDER BY Production.NP"
   ]
  },
  {
   "cell_type": "markdown",
   "metadata": {},
   "source": [
    "#### Exercise 2.7\n",
    "\n",
    "What clients (buveurs) have bought at least one wine from 1980?"
   ]
  },
  {
   "cell_type": "code",
   "execution_count": null,
   "metadata": {},
   "outputs": [],
   "source": [
    "%%sql\n",
    "SELECT DISTINCT\n",
    "    Customer.NB, NOM, PRENOM, MILL\n",
    "FROM\n",
    "    Customer INNER JOIN Sale \n",
    "                        on Customer.NB = Sale.NB\n",
    "             INNER JOIN Wine\n",
    "                        on Wine.NV = Sale.NV\n",
    "                               AND\n",
    "                           MILL = '1980'\n",
    "ORDER BY Customer.NB"
   ]
  },
  {
   "cell_type": "markdown",
   "metadata": {},
   "source": [
    "#### Exercise 2.8\n",
    "\n",
    "What clients (buveurs) have NOT bought any wine from 1980?"
   ]
  },
  {
   "cell_type": "code",
   "execution_count": null,
   "metadata": {
    "scrolled": true
   },
   "outputs": [],
   "source": [
    "%%sql\n",
    "SELECT DISTINCT\n",
    "    NB, NOM, PRENOM\n",
    "FROM \n",
    "    Customer\n",
    "WHERE NB NOT IN\n",
    "(\n",
    "SELECT DISTINCT\n",
    "    Customer.NB\n",
    "FROM\n",
    "    Customer INNER JOIN Sale \n",
    "                        on Customer.NB = Sale.NB\n",
    "             INNER JOIN Wine\n",
    "                        on Wine.NV = Sale.NV\n",
    "                               AND\n",
    "                           MILL = '1980'\n",
    ")\n",
    "ORDER BY NB"
   ]
  },
  {
   "cell_type": "markdown",
   "metadata": {},
   "source": [
    "#### Exercise 2.9\n",
    "\n",
    "What clients (buveurs) have bought ONLY wines from 1980?"
   ]
  },
  {
   "cell_type": "code",
   "execution_count": null,
   "metadata": {},
   "outputs": [],
   "source": [
    "%%sql\n",
    "SELECT DISTINCT\n",
    "    NB, NOM, PRENOM\n",
    "FROM CUSTOMER\n",
    "WHERE \n",
    "NB IN\n",
    "(   SELECT\n",
    "        Customer.NB\n",
    "    FROM\n",
    "    Customer INNER JOIN Sale \n",
    "                        on Customer.NB = Sale.NB\n",
    "             INNER JOIN Wine\n",
    "                        on Wine.NV = Sale.NV\n",
    "                               AND\n",
    "                           MILL = '1980'\n",
    ")\n",
    "AND\n",
    "NB NOT IN\n",
    "(   SELECT\n",
    "        Customer.NB\n",
    "    FROM\n",
    "    Customer INNER JOIN Sale \n",
    "                        on Customer.NB = Sale.NB\n",
    "             INNER JOIN Wine\n",
    "                        on Wine.NV = Sale.NV\n",
    "                               AND\n",
    "                           MILL <> '1980'\n",
    ")\n",
    "ORDER BY Customer.NB"
   ]
  },
  {
   "cell_type": "markdown",
   "metadata": {},
   "source": [
    "#### Exercise 2.10\n",
    "\n",
    "List all wines from 1980"
   ]
  },
  {
   "cell_type": "code",
   "execution_count": null,
   "metadata": {},
   "outputs": [],
   "source": [
    "%%sql\n",
    "SELECT\n",
    "    NV, CRU, MILL, DEGRE\n",
    "FROM\n",
    "    Wine\n",
    "WHERE\n",
    "    MILL = '1980'"
   ]
  },
  {
   "cell_type": "markdown",
   "metadata": {},
   "source": [
    "#### Exercise 2.11\n",
    "\n",
    "What are the wines from 1980 bought by NB=2?"
   ]
  },
  {
   "cell_type": "code",
   "execution_count": null,
   "metadata": {},
   "outputs": [],
   "source": [
    "%%sql\n",
    "SELECT DISTINCT\n",
    "    Wine.NV, CRU, MILL, DEGRE\n",
    "FROM\n",
    "    Wine\n",
    "        INNER JOIN Sale\n",
    "            on Sale.NV = Wine.NV\n",
    "                INNER JOIN Customer on Customer.NB = Sale.NB\n",
    "WHERE\n",
    "    MILL = '1980' and Sale.NB = 2"
   ]
  },
  {
   "cell_type": "markdown",
   "metadata": {},
   "source": [
    "#### Exercise 2.12\n",
    "\n",
    "What clients (buveurs) have bought ALL the wines from 1980?"
   ]
  },
  {
   "cell_type": "code",
   "execution_count": null,
   "metadata": {},
   "outputs": [],
   "source": [
    "%%sql\n",
    "SELECT DISTINCT\n",
    "    Customer.NB, NOM, PRENOM\n",
    "FROM\n",
    "    Customer\n",
    "        INNER JOIN Sale\n",
    "                on Sale.NB = Customer.NB\n",
    "            INNER JOIN Wine\n",
    "                on Sale.NV = Wine.NV\n",
    "                    AND\n",
    "                   MILL = '1980'\n",
    "GROUP BY\n",
    "    Customer.NB\n",
    "HAVING\n",
    "    COUNT(QTE)\n",
    "        =\n",
    "    (SELECT COUNT() FROM Wine WHERE MILL = '1980')"
   ]
  }
 ],
 "metadata": {
  "anaconda-cloud": {},
  "kernelspec": {
   "display_name": "Python 3",
   "language": "python",
   "name": "python3"
  },
  "language_info": {
   "codemirror_mode": {
    "name": "ipython",
    "version": 3
   },
   "file_extension": ".py",
   "mimetype": "text/x-python",
   "name": "python",
   "nbconvert_exporter": "python",
   "pygments_lexer": "ipython3",
   "version": "3.6.4"
  }
 },
 "nbformat": 4,
 "nbformat_minor": 2
}
