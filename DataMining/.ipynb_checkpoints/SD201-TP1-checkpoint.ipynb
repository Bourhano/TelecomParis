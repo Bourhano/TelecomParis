{
 "cells": [
  {
   "cell_type": "markdown",
   "metadata": {},
   "source": [
    "# Python tutorials"
   ]
  },
  {
   "cell_type": "markdown",
   "metadata": {},
   "source": [
    "## 1"
   ]
  },
  {
   "cell_type": "markdown",
   "metadata": {},
   "source": [
    "### a "
   ]
  },
  {
   "cell_type": "code",
   "execution_count": 1,
   "metadata": {},
   "outputs": [],
   "source": [
    "L = [1, 2, 4, 8, 16]"
   ]
  },
  {
   "cell_type": "code",
   "execution_count": 2,
   "metadata": {},
   "outputs": [
    {
     "name": "stdout",
     "output_type": "stream",
     "text": [
      "<class 'list'>\n"
     ]
    }
   ],
   "source": [
    "print(type(L))"
   ]
  },
  {
   "cell_type": "code",
   "execution_count": 3,
   "metadata": {},
   "outputs": [],
   "source": [
    "M = [number ** 2 for number in L] #check 'map'"
   ]
  },
  {
   "cell_type": "code",
   "execution_count": 4,
   "metadata": {},
   "outputs": [
    {
     "name": "stdout",
     "output_type": "stream",
     "text": [
      "[1, 4, 16, 64, 256]\n"
     ]
    }
   ],
   "source": [
    "print(M)"
   ]
  },
  {
   "cell_type": "markdown",
   "metadata": {},
   "source": [
    "### b"
   ]
  },
  {
   "cell_type": "code",
   "execution_count": 18,
   "metadata": {},
   "outputs": [],
   "source": [
    "def evenOut(L):\n",
    "    return [i for i in L if i%2 == 0] # check 'filter'"
   ]
  },
  {
   "cell_type": "code",
   "execution_count": 20,
   "metadata": {},
   "outputs": [
    {
     "data": {
      "text/plain": [
       "[2, 4, 8, 16]"
      ]
     },
     "execution_count": 20,
     "metadata": {},
     "output_type": "execute_result"
    }
   ],
   "source": [
    "N = evenOut(L)\n",
    "N"
   ]
  },
  {
   "cell_type": "markdown",
   "metadata": {},
   "source": [
    "### c"
   ]
  },
  {
   "cell_type": "code",
   "execution_count": 84,
   "metadata": {},
   "outputs": [],
   "source": [
    "file = open(\"SD201-TP1-list.txt\", \"r\")"
   ]
  },
  {
   "cell_type": "code",
   "execution_count": 85,
   "metadata": {},
   "outputs": [],
   "source": [
    "L = [int(i) for i in file.read().split()]"
   ]
  },
  {
   "cell_type": "code",
   "execution_count": 86,
   "metadata": {},
   "outputs": [
    {
     "data": {
      "text/plain": [
       "[1, 3, 9, 18, 27]"
      ]
     },
     "execution_count": 86,
     "metadata": {},
     "output_type": "execute_result"
    }
   ],
   "source": [
    "L"
   ]
  },
  {
   "cell_type": "code",
   "execution_count": 87,
   "metadata": {},
   "outputs": [],
   "source": [
    "L = evenOut(L)"
   ]
  },
  {
   "cell_type": "code",
   "execution_count": 88,
   "metadata": {},
   "outputs": [
    {
     "name": "stdout",
     "output_type": "stream",
     "text": [
      "[18]\n"
     ]
    }
   ],
   "source": [
    "print(L)"
   ]
  },
  {
   "cell_type": "markdown",
   "metadata": {},
   "source": [
    "## 2 Implementing PageRank in Python"
   ]
  },
  {
   "cell_type": "markdown",
   "metadata": {},
   "source": [
    "### 1 PageRank Algorithm"
   ]
  },
  {
   "cell_type": "code",
   "execution_count": 23,
   "metadata": {},
   "outputs": [],
   "source": [
    "def module(u, v):\n",
    "    mod = 0\n",
    "    if len(u) == len(v):\n",
    "        for i in range(len(u)):\n",
    "            mod += abs(u[i]-v[i])\n",
    "    return mod"
   ]
  },
  {
   "cell_type": "code",
   "execution_count": 117,
   "metadata": {
    "scrolled": true
   },
   "outputs": [],
   "source": [
    "def pageRank(file, beta, eps):\n",
    "    links = file.read().split('\\n')\n",
    "    lines = []\n",
    "    pages = {}\n",
    "    j = 0\n",
    "    #create list of lists to represent the graph and produce dictionary containing the delta_out of each page\n",
    "    for line in links:\n",
    "        if line == \"\":\n",
    "            continue\n",
    "        line = line.split();\n",
    "        lines.append([int(i) for i in line])\n",
    "        u,v = lines[j]\n",
    "        if u not in pages:\n",
    "            pages[u] = 1\n",
    "        else:\n",
    "            pages[u] += 1\n",
    "        j += 1\n",
    "    #initialize the ranks vector\n",
    "    n = len(pages)\n",
    "    ranks = [1 / n] * n\n",
    "    \n",
    "    #NB: no need to initialize A matrix since its values are predetermined by the list of lines and dictionary of nodes\n",
    "    #                       A[i][j] = [1 / pages[j] if [i,j] in lines else 0]\n",
    "    \n",
    "    #enter the iteration loop to reach the steady state\n",
    "    t =0; tooSmall = False; ranksNext = [0] * n; bias = [(1-beta)/n] * n\n",
    "    while t < 100 and not tooSmall:\n",
    "        t+=1\n",
    "        for i in range(n):\n",
    "            for link in lines:\n",
    "                src, dest = link\n",
    "                if i == dest - 1:\n",
    "                    ranksNext[i] += beta * (1/pages[src]) * ranks[src-1]\n",
    "        ranksNext = [x + y for x, y in zip(ranksNext,bias)]\n",
    "        tooSmall = module(ranks, ranksNext) < eps\n",
    "        ranks = ranksNext\n",
    "        ranksNext = [0] * n\n",
    "    return (ranks)"
   ]
  },
  {
   "cell_type": "code",
   "execution_count": 118,
   "metadata": {},
   "outputs": [
    {
     "name": "stdout",
     "output_type": "stream",
     "text": [
      "[0.2708333333333333, 0.13541666666666666, 0.15625, 0.14583333333333331, 0.13541666666666666, 0.15625]\n"
     ]
    }
   ],
   "source": [
    "# solve the first question\n",
    "file = open(\"SD201-TP1-graph.txt\", \"r\")\n",
    "print(pageRank(file, 1, 0.1)) #usage: pageRank(graph, beta, epsilon)\n",
    "file.close()"
   ]
  },
  {
   "cell_type": "markdown",
   "metadata": {},
   "source": [
    "##### Having the initial graph with neither dead ends nor spider webs, the page rank algorithm gave us a logical result. We clearly see that being at the page 1 is the most probable and that is logical since it is the only page of the example graph having two refferal pages ( two pages can take us to the page nb.1), meanwhile, every other page has only one referral thus they have a somewhat clos probability of being at them.\n",
    "\n",
    "##### We can notice that for beta = 1 (random surfer ver.1), the probabilities vector of being at each page tends to [2/7, 1/7, 1/7, 1/7, 1/7, 1/7]. This result is expected because of the count of pages that are referring to another page. \n",
    "##### Also, for beta != 1 (beta = 0.8) where we adapted the Random Surfer v2 (ability to do a jump), the probabilities had a little break down, lowering the probability of being at page 1, and amplifying the probability of being at other pages (the effect of the jump ability makes other pages more probable to land on). But also, we can notice that being on pages 2 and 5 is less probable than (1, definitely) 3, 4 and 6: this is because once we land on 2 or 5, we are obliged to pass by 3->4 or 6, respectively. Hence 4 is the \"most probable page to land on\" between the \"pages that are referred by only one page\".\n",
    "\n"
   ]
  },
  {
   "cell_type": "markdown",
   "metadata": {},
   "source": [
    "### 2 Extract the graph"
   ]
  },
  {
   "cell_type": "code",
   "execution_count": 144,
   "metadata": {},
   "outputs": [],
   "source": [
    "import re\n",
    "def makeGraphText(pages, textName):\n",
    "    file = open(textName, 'w')\n",
    "    graph=[]\n",
    "    for pageName in pages:\n",
    "        pageFrom = open(\"./pages/\"+pageName, \"r\", encoding=\"utf-8\")\n",
    "        links = set(re.findall('a href=\"(\\S+)\"', pageFrom.read()))\n",
    "        for pageTo in links:\n",
    "            #link = [pages.index(pageName), pages.index(pageTo)]\n",
    "            #if link not in graph:\n",
    "            #    graph.append(link)\n",
    "                file.write(f\"{pages.index(pageName)+1} {pages.index(pageTo)+1}\\n\")\n",
    "    file.close()"
   ]
  },
  {
   "cell_type": "code",
   "execution_count": 163,
   "metadata": {
    "scrolled": true
   },
   "outputs": [
    {
     "name": "stdout",
     "output_type": "stream",
     "text": [
      "0.9999999999999999\n",
      "[3.468762160126722, 0.7553825984974729, 1.1159466427404956, 1.4737744082024864, 2.8401018451271565, 2.160238209599977, 1.5220042118910495, 3.020196334863824, 2.158517753456203, 2.1593925862995245, 1.6247026495554966, 2.11106238408277, 2.3182890002136065, 1.1464916919309467, 3.7095453922430965, 1.2628982190975955, 0.9933820960785902, 1.9762258090694436, 1.322831867027545, 1.4139460232102241, 2.2317391006596616, 1.6384761558304732, 2.154696380518429, 2.1570155434260285, 1.7678972478243244, 1.1158122935073618, 2.295612721013476, 3.1283557718662744, 0.7229082275295009, 0.4940535360078805, 1.3459147543523582, 2.602507682009239, 1.493147830384201, 1.378184354529037, 1.5775825633947953, 1.0216293333272346, 0.9015437994524365, 2.6699232611395245, 1.6655162060149387, 3.3557322870136783, 1.5608302974101413, 1.0796661632778533, 4.27892818444078, 0.710866846074481, 2.4867019697837365, 1.7260127576164992, 0.4381419357643133, 1.477697396531313, 1.380821986356225, 2.034105624280337, 0.7360297205633208, 1.719728368569507, 1.9773285715304976, 1.856116661312739, 2.265082583373174]\n"
     ]
    }
   ],
   "source": [
    "import os\n",
    "pages = [page for page in os.listdir('./pages') if page.endswith(\".html\")]\n",
    "makeGraphText(pages, \"./SD201-TP1-graph2.txt\")\n",
    "\n",
    "file = open(\"SD201-TP1-graph2.txt\", \"r\")\n",
    "ranks = pageRank(file, 0.8, 0.1)\n",
    "file.close()\n",
    "sum = 0\n",
    "for i in ranks:\n",
    "    sum += i\n",
    "    ranks[ranks.index(i)]=i*100\n",
    "print(sum)\n",
    "print(ranks) \n"
   ]
  },
  {
   "cell_type": "markdown",
   "metadata": {},
   "source": [
    "##### "
   ]
  },
  {
   "cell_type": "code",
   "execution_count": 166,
   "metadata": {},
   "outputs": [
    {
     "data": {
      "text/plain": [
       "'Programming_language.html'"
      ]
     },
     "execution_count": 166,
     "metadata": {},
     "output_type": "execute_result"
    }
   ],
   "source": [
    "max = ranks[0]\n",
    "for i in ranks:\n",
    "    if i > max:\n",
    "        max = i\n",
    "        maxi = ranks.index(i)\n",
    "max\n",
    "maxi\n",
    "pages[maxi]"
   ]
  },
  {
   "cell_type": "markdown",
   "metadata": {},
   "source": [
    "### 3 Remove Dead-Ends"
   ]
  },
  {
   "cell_type": "code",
   "execution_count": null,
   "metadata": {},
   "outputs": [],
   "source": [
    "def noDeadEnds(file):\n",
    "    links = file.read().split('\\n')\n",
    "    lines = []\n",
    "    pages = {}\n",
    "    j = 0\n",
    "    #create list of lists to represent the graph and produce dictionary containing the delta_out of each page\n",
    "    for line in links:\n",
    "        if line == \"\":\n",
    "            continue\n",
    "        line = line.split();\n",
    "        lines.append([int(i) for i in line])\n",
    "        u,v = lines[j]\n",
    "        if u not in pages:\n",
    "            pages[u] = 1\n",
    "        else:\n",
    "            pages[u] += 1\n",
    "        j += 1"
   ]
  },
  {
   "cell_type": "markdown",
   "metadata": {},
   "source": [
    "# TESTS *__ignore__*"
   ]
  },
  {
   "cell_type": "code",
   "execution_count": 135,
   "metadata": {},
   "outputs": [
    {
     "name": "stdout",
     "output_type": "stream",
     "text": [
      "{'C_(programming_language).html', 'Porting.html', 'Imperative_programming.html', 'Programming_language.html', 'COBOL.html', 'Binary_file.html', 'Subroutine.html', 'Low-level_programming_language.html', 'Python_(programming_language).html', 'Logic_programming.html', 'Virtual_machine.html', 'Comparison_of_programming_languages.html', 'Software_portability.html', 'Dynamic_programming_language.html', 'Lisp_(programming_language).html', 'List_of_programming_languages.html', 'Unix.html', 'Assembly_language.html', 'Java_(programming_language).html', 'Instruction_set.html', 'Computer.html', 'Fortran.html', 'Source_code.html', 'JavaScript.html', 'Object-oriented_programming.html', 'Computer_science.html', 'Compiler.html', 'C++.html', 'High-level_programming_language.html', 'Operating_system.html', 'Object_(computer_science).html', 'Scripting_language.html'}\n"
     ]
    }
   ],
   "source": [
    "import re\n",
    "import os\n",
    "pages = [page for page in os.listdir('./pages') if page.endswith(\".html\")]\n",
    "#makeGraphText(pages)\n",
    "page = open(\"./pages/Assembly_language.html\", \"r\", encoding=\"utf-8\")\n",
    "#print(page.read())\n",
    "links = re.findall('a href=\"(\\S+)\"', page.read())\n",
    "print((set(links)))"
   ]
  },
  {
   "cell_type": "code",
   "execution_count": 128,
   "metadata": {},
   "outputs": [
    {
     "name": "stdout",
     "output_type": "stream",
     "text": [
      "[1, 2, 3]\n"
     ]
    }
   ],
   "source": [
    "a=[1,2,3]\n",
    "a.index(3)\n",
    "print(f\"{a}\")"
   ]
  },
  {
   "cell_type": "code",
   "execution_count": 129,
   "metadata": {},
   "outputs": [
    {
     "name": "stdout",
     "output_type": "stream",
     "text": [
      "[0.2, 1.2, 2.2, 3.2, 4.2, 5.2, 6.2, 7.2, 8.2, 9.2, 10.2, 11.2]\n"
     ]
    }
   ],
   "source": [
    "dict = {1:\"hi\"}\n",
    "1 in dict\n",
    "a=[]\n",
    "for i in range(12):\n",
    "    a.append(i)\n",
    "b=[0.2] * 12\n",
    "print([x + y for x, y in zip(b,a)])"
   ]
  },
  {
   "cell_type": "code",
   "execution_count": 130,
   "metadata": {},
   "outputs": [
    {
     "data": {
      "text/plain": [
       "0.4"
      ]
     },
     "execution_count": 130,
     "metadata": {},
     "output_type": "execute_result"
    }
   ],
   "source": [
    "a=[0.2] * 10\n",
    "a[0]= a[0]*2\n",
    "a[0]"
   ]
  },
  {
   "cell_type": "code",
   "execution_count": 131,
   "metadata": {},
   "outputs": [],
   "source": [
    "f = open(\"SD201-TP1-graph.txt\", \"r\")\n",
    "for line in f:\n",
    "    u,v=[int(x) for x in line.split()]\n"
   ]
  },
  {
   "cell_type": "code",
   "execution_count": 132,
   "metadata": {},
   "outputs": [],
   "source": [
    "# unused\n",
    "def multiply(A, v):\n",
    "    n = len(v)\n",
    "    res = []\n",
    "    for i in range(n):\n",
    "        res[i] = [(A[i][j] * v[j]) for j in range(n)]"
   ]
  }
 ],
 "metadata": {
  "kernelspec": {
   "display_name": "Python 3",
   "language": "python",
   "name": "python3"
  },
  "language_info": {
   "codemirror_mode": {
    "name": "ipython",
    "version": 3
   },
   "file_extension": ".py",
   "mimetype": "text/x-python",
   "name": "python",
   "nbconvert_exporter": "python",
   "pygments_lexer": "ipython3",
   "version": "3.6.4"
  }
 },
 "nbformat": 4,
 "nbformat_minor": 2
}
