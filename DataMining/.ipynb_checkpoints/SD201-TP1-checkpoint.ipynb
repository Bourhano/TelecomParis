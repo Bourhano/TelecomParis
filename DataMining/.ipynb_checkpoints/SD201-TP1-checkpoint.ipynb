{
 "cells": [
  {
   "cell_type": "markdown",
   "metadata": {},
   "source": [
    "# Python tutorials"
   ]
  },
  {
   "cell_type": "markdown",
   "metadata": {},
   "source": [
    "## 1"
   ]
  },
  {
   "cell_type": "markdown",
   "metadata": {},
   "source": [
    "### a "
   ]
  },
  {
   "cell_type": "code",
   "execution_count": 1,
   "metadata": {},
   "outputs": [],
   "source": [
    "L = [1, 2, 4, 8, 16]"
   ]
  },
  {
   "cell_type": "code",
   "execution_count": 2,
   "metadata": {},
   "outputs": [
    {
     "name": "stdout",
     "output_type": "stream",
     "text": [
      "<class 'list'>\n"
     ]
    }
   ],
   "source": [
    "print(type(L))"
   ]
  },
  {
   "cell_type": "code",
   "execution_count": 3,
   "metadata": {},
   "outputs": [],
   "source": [
    "M = [number ** 2 for number in L] #check 'map'"
   ]
  },
  {
   "cell_type": "code",
   "execution_count": 4,
   "metadata": {},
   "outputs": [
    {
     "name": "stdout",
     "output_type": "stream",
     "text": [
      "[1, 4, 16, 64, 256]\n"
     ]
    }
   ],
   "source": [
    "print(M)"
   ]
  },
  {
   "cell_type": "markdown",
   "metadata": {},
   "source": [
    "### b"
   ]
  },
  {
   "cell_type": "code",
   "execution_count": 5,
   "metadata": {},
   "outputs": [],
   "source": [
    "def evenOut(L):\n",
    "    return [i for i in L if i%2 == 0] # check 'filter'"
   ]
  },
  {
   "cell_type": "code",
   "execution_count": 6,
   "metadata": {},
   "outputs": [
    {
     "data": {
      "text/plain": [
       "[2, 4, 8, 16]"
      ]
     },
     "execution_count": 6,
     "metadata": {},
     "output_type": "execute_result"
    }
   ],
   "source": [
    "N = evenOut(L)\n",
    "N"
   ]
  },
  {
   "cell_type": "markdown",
   "metadata": {},
   "source": [
    "### c"
   ]
  },
  {
   "cell_type": "code",
   "execution_count": 50,
   "metadata": {},
   "outputs": [],
   "source": [
    "file = open(\"SD201-TP1-list.txt\", \"r\")"
   ]
  },
  {
   "cell_type": "code",
   "execution_count": 51,
   "metadata": {},
   "outputs": [],
   "source": [
    "L = [int(i) for i in file.read().split()]\n",
    "file.close()"
   ]
  },
  {
   "cell_type": "code",
   "execution_count": 52,
   "metadata": {},
   "outputs": [
    {
     "data": {
      "text/plain": [
       "[1, 3, 9, 18, 27]"
      ]
     },
     "execution_count": 52,
     "metadata": {},
     "output_type": "execute_result"
    }
   ],
   "source": [
    "L"
   ]
  },
  {
   "cell_type": "code",
   "execution_count": 10,
   "metadata": {},
   "outputs": [],
   "source": [
    "L = evenOut(L)"
   ]
  },
  {
   "cell_type": "code",
   "execution_count": 11,
   "metadata": {},
   "outputs": [
    {
     "name": "stdout",
     "output_type": "stream",
     "text": [
      "[18]\n"
     ]
    }
   ],
   "source": [
    "print(L)"
   ]
  },
  {
   "cell_type": "markdown",
   "metadata": {},
   "source": [
    "## 2 Implementing PageRank in Python"
   ]
  },
  {
   "cell_type": "markdown",
   "metadata": {},
   "source": [
    "### 1 PageRank Algorithm"
   ]
  },
  {
   "cell_type": "code",
   "execution_count": 12,
   "metadata": {},
   "outputs": [],
   "source": [
    "def module(u, v):\n",
    "    mod = 0\n",
    "    if len(u) == len(v):\n",
    "        for i in range(len(u)):\n",
    "            mod += abs(u[i]-v[i])\n",
    "    return mod"
   ]
  },
  {
   "cell_type": "code",
   "execution_count": 74,
   "metadata": {
    "scrolled": true
   },
   "outputs": [],
   "source": [
    "def pageRank(file, beta, eps):\n",
    "    links = file.read().split('\\n')\n",
    "    lines = []\n",
    "    pages = {}\n",
    "    j = 0\n",
    "    #create list of lists to represent the graph and produce dictionary containing the delta_out of each page\n",
    "    for line in links:\n",
    "        if line == \"\":\n",
    "            continue\n",
    "        line = line.split();\n",
    "        lines.append([int(i) for i in line])\n",
    "        u,v = lines[j]\n",
    "        if u not in pages:\n",
    "            pages[u] = 1\n",
    "        else:\n",
    "            pages[u] += 1\n",
    "        if v not in pages:\n",
    "            pages[v] = 0\n",
    "        j += 1\n",
    "    #initialize the ranks vector\n",
    "    n = len(pages)\n",
    "    ranks = [1 / n] * n\n",
    "    \n",
    "    #NB: no need to initialize the A matrix since its values are predetermined by the list of lines and dictionary of nodes\n",
    "    #                       A[i][j] = [1 / pages[from] if [from,to] in lines else 0]\n",
    "    \n",
    "    #enter the iteration loop to reach the steady state\n",
    "    t =0; tooSmall = False; ranksNext = [0] * n; bias = [(1-beta)/n] * n\n",
    "    while t < 100 and not tooSmall:\n",
    "        t+=1\n",
    "        #sparse matrix multiplication:\n",
    "        for i in range(n):\n",
    "            for link in lines:\n",
    "                src, dest = link\n",
    "                if i == dest - 1:\n",
    "                    ranksNext[i] += beta * (1/pages[src]) * ranks[src-1]\n",
    "        #get new rank vector\n",
    "        ranksNext = [x + y for x, y in zip(ranksNext,bias)]\n",
    "        #prepare for next iteration\n",
    "        tooSmall = module(ranks, ranksNext) < eps\n",
    "        ranks = ranksNext\n",
    "        ranksNext = [0] * n\n",
    "    if (t<100):\n",
    "        print(\"Converged in\",t,\"iterations due to epsilon.\")\n",
    "    else:\n",
    "        print(\"Maximum number of iterations reached.\")\n",
    "    return (ranks)    "
   ]
  },
  {
   "cell_type": "markdown",
   "metadata": {},
   "source": [
    "Main:"
   ]
  },
  {
   "cell_type": "code",
   "execution_count": 75,
   "metadata": {},
   "outputs": [
    {
     "name": "stdout",
     "output_type": "stream",
     "text": [
      "Converged in 11 iterations due to epsilon.\n",
      "[0.2708333333333333, 0.13541666666666666, 0.15625, 0.14583333333333331, 0.13541666666666666, 0.15625]\n",
      "Converged in 4 iterations due to epsilon.\n",
      "[0.2573333333333333, 0.13626666666666665, 0.15599999999999997, 0.1581333333333333, 0.13626666666666665, 0.15599999999999997]\n"
     ]
    }
   ],
   "source": [
    "# solve the first question\n",
    "file = open(\"SD201-TP1-graph.txt\", \"r\")\n",
    "beta = 1; epsilon = 0.1\n",
    "print(pageRank(file, beta, epsilon)) #usage: pageRank(graph, beta, epsilon)\n",
    "file.seek(0)\n",
    "beta = 0.8\n",
    "print(pageRank(file, beta, epsilon))\n",
    "file.close()"
   ]
  },
  {
   "cell_type": "markdown",
   "metadata": {},
   "source": [
    "##### Having the initial graph with neither dead ends nor spider webs, the page rank algorithm gave us a logical result. We clearly see that being at the page 1 is the most probable and that is logical since it is the only page of the example graph having two refferal pages ( two pages can take us to the page nb.1), meanwhile, every other page has only one referral thus they have a somewhat clos probability of being at them.\n",
    "\n",
    "##### We can notice that for beta = 1 (random surfer ver.1), the probabilities vector of being at each page tends to [2/7, 1/7, 1/7, 1/7, 1/7, 1/7]. This result is expected because of the count of pages that are referring to another page. \n",
    "##### Also, for beta != 1 (beta = 0.8) where we adapted the Random Surfer v2 (ability to do a jump), the probabilities had a little break down, lowering the probability of being at page 1, and amplifying the probability of being at other pages (the effect of the jump ability makes other pages more probable to land on). But also, we can notice that being on pages 2 and 5 is less probable than (1, definitely) 3, 4 and 6: this is because once we land on 2 or 5, we are obliged to pass by 3->4 or 6, respectively. Hence 4 is the \"most probable page to land on\" between the \"pages that are referred by only one page\"."
   ]
  },
  {
   "cell_type": "markdown",
   "metadata": {},
   "source": [
    "### 2 Extract the graph"
   ]
  },
  {
   "cell_type": "code",
   "execution_count": 131,
   "metadata": {},
   "outputs": [],
   "source": [
    "import re\n",
    "def makeGraphText(pages, textName):\n",
    "    file = open(textName, 'w')\n",
    "    graph=[]\n",
    "    for pageName in pages:\n",
    "        pageFrom = open(\"./pages/\"+pageName, \"r\", encoding=\"utf-8\")\n",
    "        links = set(re.findall('a href=\"(\\S+)\"', pageFrom.read()))\n",
    "        for pageTo in links:\n",
    "                file.write(f\"{pages.index(pageName)+1} {pages.index(pageTo)+1}\\n\")\n",
    "    file.close()"
   ]
  },
  {
   "cell_type": "markdown",
   "metadata": {},
   "source": [
    "We allowed repetitions in links from a page to another page, since a page that is referred twice by another page will be more imporatant than another one that is only mentioned once, hence we should consider both references.\n",
    "However, selfloops are omitted due to their insignificance from a surfer's point of view."
   ]
  },
  {
   "cell_type": "code",
   "execution_count": 107,
   "metadata": {
    "scrolled": true
   },
   "outputs": [
    {
     "name": "stdout",
     "output_type": "stream",
     "text": [
      "Converged in 2 iterations due to epsilon.\n",
      "\n",
      "[3.468762160126722, 0.7553825984974729, 1.1159466427404956, 1.4737744082024864, 2.8401018451271565, 2.160238209599977, 1.5220042118910495, 3.020196334863824, 2.158517753456203, 2.1593925862995245, 1.6247026495554966, 2.11106238408277, 2.3182890002136065, 1.1464916919309467, 3.7095453922430965, 1.2628982190975955, 0.9933820960785902, 1.9762258090694436, 1.322831867027545, 1.4139460232102241, 2.2317391006596616, 1.6384761558304732, 2.154696380518429, 2.1570155434260285, 1.7678972478243244, 1.1158122935073618, 2.295612721013476, 3.1283557718662744, 0.7229082275295009, 0.4940535360078805, 1.3459147543523582, 2.602507682009239, 1.493147830384201, 1.378184354529037, 1.5775825633947953, 1.0216293333272346, 0.9015437994524365, 2.6699232611395245, 1.6655162060149387, 3.3557322870136783, 1.5608302974101413, 1.0796661632778533, 4.27892818444078, 0.710866846074481, 2.4867019697837365, 1.7260127576164992, 0.4381419357643133, 1.477697396531313, 1.380821986356225, 2.034105624280337, 0.7360297205633208, 1.719728368569507, 1.9773285715304976, 1.856116661312739, 2.265082583373174]\n",
      "\n",
      "The most visited page is Programming_language.html\n"
     ]
    }
   ],
   "source": [
    "import os\n",
    "pages = [page for page in os.listdir('./pages') if page.endswith(\".html\")]\n",
    "wikiGraph=\"SD201-TP1-WIKIPEDIA-graph.txt\"\n",
    "makeGraphText(pages, \"./\"+wikiGraph)\n",
    "\n",
    "file = open(wikiGraph, \"r\")\n",
    "ranks = pageRank(file, 0.8, 0.1)\n",
    "file.close()\n",
    "sum = 0\n",
    "for i in ranks:\n",
    "    sum += i\n",
    "    ranks[ranks.index(i)]=i*100\n",
    "print()\n",
    "print(ranks) \n",
    "max = ranks[0]\n",
    "for i in ranks:\n",
    "    if i > max:\n",
    "        max = i\n",
    "        maxi = ranks.index(i)\n",
    "max\n",
    "maxi\n",
    "print()\n",
    "print(\"The most visited page is\",pages[maxi])"
   ]
  },
  {
   "cell_type": "markdown",
   "metadata": {},
   "source": [
    "##### The ordered results are:"
   ]
  },
  {
   "cell_type": "code",
   "execution_count": 108,
   "metadata": {},
   "outputs": [
    {
     "data": {
      "text/plain": [
       "[('Programming_language.html', 4.27892818444078),\n",
       " ('C_(programming_language).html', 3.7095453922430965),\n",
       " ('Assembly_language.html', 3.468762160126722),\n",
       " ('Operating_system.html', 3.3557322870136783),\n",
       " ('Java_(programming_language).html', 3.1283557718662744),\n",
       " ('Compiler.html', 3.020196334863824),\n",
       " ('C++.html', 2.8401018451271565),\n",
       " ('Object-oriented_programming.html', 2.6699232611395245),\n",
       " ('Lisp_(programming_language).html', 2.602507682009239),\n",
       " ('Python_(programming_language).html', 2.4867019697837365),\n",
       " ('Computer_science.html', 2.3182890002136065),\n",
       " ('JavaScript.html', 2.295612721013476),\n",
       " ('Virtual_machine.html', 2.265082583373174),\n",
       " ('Fortran.html', 2.2317391006596616),\n",
       " ('COBOL.html', 2.160238209599977),\n",
       " ('Computer_hardware.html', 2.1593925862995245),\n",
       " ('Computer.html', 2.158517753456203),\n",
       " ('Imperative_programming.html', 2.1570155434260285),\n",
       " ('High-level_programming_language.html', 2.154696380518429),\n",
       " ('Computer_program.html', 2.11106238408277),\n",
       " ('Source_code.html', 2.034105624280337),\n",
       " ('Type_system.html', 1.9773285715304976),\n",
       " ('Data_type.html', 1.9762258090694436),\n",
       " ('Unix.html', 1.856116661312739),\n",
       " ('Instruction_set.html', 1.7678972478243244),\n",
       " ('Scripting_language.html', 1.7260127576164992),\n",
       " ('Subroutine.html', 1.719728368569507),\n",
       " ('Object_(computer_science).html', 1.6655162060149387),\n",
       " ('GNU_Compiler_Collection.html', 1.6384761558304732),\n",
       " ('Computer_memory.html', 1.6247026495554966),\n",
       " ('Low-level_programming_language.html', 1.5775825633947953),\n",
       " ('Pointer_(computer_programming).html', 1.5608302974101413),\n",
       " ('Comparison_of_programming_languages.html', 1.5220042118910495),\n",
       " ('List_of_programming_languages.html', 1.493147830384201),\n",
       " ('Software.html', 1.477697396531313),\n",
       " ('Bytecode.html', 1.4737744082024864),\n",
       " ('Executable.html', 1.4139460232102241),\n",
       " ('Software_portability.html', 1.380821986356225),\n",
       " ('Logic_programming.html', 1.378184354529037),\n",
       " ('Linux.html', 1.3459147543523582),\n",
       " ('Dynamic_programming_language.html', 1.322831867027545),\n",
       " ('Database.html', 1.2628982190975955),\n",
       " ('Control_flow.html', 1.1464916919309467),\n",
       " ('Boolean_data_type.html', 1.1159466427404956),\n",
       " ('Integer_(computer_science).html', 1.1158122935073618),\n",
       " ('Porting.html', 1.0796661632778533),\n",
       " ('Memory_address.html', 1.0216293333272346),\n",
       " ('Data_(computing).html', 0.9933820960785902),\n",
       " ('Method_(computer_programming).html', 0.9015437994524365),\n",
       " ('Binary_file.html', 0.7553825984974729),\n",
       " ('Strong_and_weak_typing.html', 0.7360297205633208),\n",
       " ('Kernel_(computing).html', 0.7229082275295009),\n",
       " ('Program_(machine).html', 0.710866846074481),\n",
       " ('Lexical_scope.html', 0.4940535360078805),\n",
       " ('Snowball_programming_language.html', 0.4381419357643133)]"
      ]
     },
     "execution_count": 108,
     "metadata": {},
     "output_type": "execute_result"
    }
   ],
   "source": [
    "result = dict(zip(pages,ranks))\n",
    "result = sorted(result.items(), key=lambda x: x[1], reverse=True)\n",
    "result"
   ]
  },
  {
   "cell_type": "markdown",
   "metadata": {},
   "source": [
    "### 3 Remove Dead-Ends"
   ]
  },
  {
   "cell_type": "code",
   "execution_count": 128,
   "metadata": {},
   "outputs": [],
   "source": [
    "def removeDeadEnds(fileName):\n",
    "    file = open(fileName+\".txt\", \"r\")\n",
    "    links = file.read().split('\\n')\n",
    "    lines = []\n",
    "    pages = {}\n",
    "    j = 0\n",
    "    #read the current graph, ignore self-loops if present, omit pages that are only mentioned as a destination page\n",
    "    for line in links:\n",
    "        if line == \"\":\n",
    "            continue\n",
    "        line = line.split();\n",
    "        lines.append([int(i) for i in line])\n",
    "        u,v = lines[j]\n",
    "        if u not in pages:\n",
    "            pages[u] = 1\n",
    "        else:\n",
    "            pages[u] += 1\n",
    "        j += 1\n",
    "    file.close()\n",
    "    file = open(fileName+\"-cleaned\"+\".txt\", 'w')\n",
    "    for line in lines:\n",
    "        src, dest = line\n",
    "        if dest in pages and pages[dest]!=0:\n",
    "            file.write(f\"{src} {dest}\\n\")\n",
    "    file.close()"
   ]
  },
  {
   "cell_type": "code",
   "execution_count": 130,
   "metadata": {},
   "outputs": [],
   "source": [
    "removeDeadEnds(\"SD201-TP1-DEADENDS-graph\")"
   ]
  },
  {
   "cell_type": "markdown",
   "metadata": {},
   "source": [
    "Input values are in the file: SD201-TP1-DEADENDS-graph\n",
    "\n",
    "Output links (cleaned links) will be in the generated file: SD201-TP1-DEADENDS-graph-cleaned"
   ]
  },
  {
   "cell_type": "markdown",
   "metadata": {},
   "source": [
    "___"
   ]
  },
  {
   "cell_type": "markdown",
   "metadata": {},
   "source": [
    "# TESTS *__ignore__*"
   ]
  },
  {
   "cell_type": "code",
   "execution_count": 19,
   "metadata": {},
   "outputs": [
    {
     "name": "stdout",
     "output_type": "stream",
     "text": [
      "{'Binary_file.html', 'Software_portability.html', 'Logic_programming.html', 'Fortran.html', 'Imperative_programming.html', 'Subroutine.html', 'Computer.html', 'Object-oriented_programming.html', 'Low-level_programming_language.html', 'JavaScript.html', 'Python_(programming_language).html', 'C_(programming_language).html', 'Instruction_set.html', 'Programming_language.html', 'Assembly_language.html', 'Operating_system.html', 'COBOL.html', 'Computer_science.html', 'Virtual_machine.html', 'Object_(computer_science).html', 'Unix.html', 'Comparison_of_programming_languages.html', 'Scripting_language.html', 'C++.html', 'High-level_programming_language.html', 'Lisp_(programming_language).html', 'Dynamic_programming_language.html', 'Porting.html', 'Java_(programming_language).html', 'Compiler.html', 'Source_code.html', 'List_of_programming_languages.html'}\n"
     ]
    }
   ],
   "source": [
    "import re\n",
    "import os\n",
    "pages = [page for page in os.listdir('./pages') if page.endswith(\".html\")]\n",
    "#makeGraphText(pages)\n",
    "page = open(\"./pages/Assembly_language.html\", \"r\", encoding=\"utf-8\")\n",
    "#print(page.read())\n",
    "links = re.findall('a href=\"(\\S+)\"', page.read())\n",
    "print((set(links)))"
   ]
  },
  {
   "cell_type": "code",
   "execution_count": 20,
   "metadata": {},
   "outputs": [
    {
     "name": "stdout",
     "output_type": "stream",
     "text": [
      "[1, 2, 3]\n"
     ]
    }
   ],
   "source": [
    "a=[1,2,3]\n",
    "a.index(3)\n",
    "print(f\"{a}\")"
   ]
  },
  {
   "cell_type": "code",
   "execution_count": 21,
   "metadata": {},
   "outputs": [
    {
     "name": "stdout",
     "output_type": "stream",
     "text": [
      "[0.2, 1.2, 2.2, 3.2, 4.2, 5.2, 6.2, 7.2, 8.2, 9.2, 10.2, 11.2]\n"
     ]
    }
   ],
   "source": [
    "dict = {1:\"hi\"}\n",
    "1 in dict\n",
    "a=[]\n",
    "for i in range(12):\n",
    "    a.append(i)\n",
    "b=[0.2] * 12\n",
    "print([x + y for x, y in zip(b,a)])"
   ]
  },
  {
   "cell_type": "code",
   "execution_count": 22,
   "metadata": {},
   "outputs": [
    {
     "data": {
      "text/plain": [
       "0.4"
      ]
     },
     "execution_count": 22,
     "metadata": {},
     "output_type": "execute_result"
    }
   ],
   "source": [
    "a=[0.2] * 10\n",
    "a[0]= a[0]*2\n",
    "a[0]"
   ]
  },
  {
   "cell_type": "code",
   "execution_count": 23,
   "metadata": {},
   "outputs": [],
   "source": [
    "f = open(\"SD201-TP1-graph.txt\", \"r\")\n",
    "for line in f:\n",
    "    u,v=[int(x) for x in line.split()]\n"
   ]
  },
  {
   "cell_type": "code",
   "execution_count": 24,
   "metadata": {},
   "outputs": [],
   "source": [
    "# unused\n",
    "def multiply(A, v):\n",
    "    n = len(v)\n",
    "    res = []\n",
    "    for i in range(n):\n",
    "        res[i] = [(A[i][j] * v[j]) for j in range(n)]"
   ]
  }
 ],
 "metadata": {
  "kernelspec": {
   "display_name": "Python 3",
   "language": "python",
   "name": "python3"
  },
  "language_info": {
   "codemirror_mode": {
    "name": "ipython",
    "version": 3
   },
   "file_extension": ".py",
   "mimetype": "text/x-python",
   "name": "python",
   "nbconvert_exporter": "python",
   "pygments_lexer": "ipython3",
   "version": "3.6.10"
  }
 },
 "nbformat": 4,
 "nbformat_minor": 4
}
