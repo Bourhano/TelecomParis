{
 "cells": [
  {
   "cell_type": "markdown",
   "metadata": {},
   "source": [
    "# Function Definitions"
   ]
  },
  {
   "cell_type": "code",
   "execution_count": 175,
   "metadata": {},
   "outputs": [],
   "source": [
    "def getVals(df, attribute):\n",
    "    \"\"\"returns the DISTINCT values of a specified attribute from a dataset\"\"\"\n",
    "    vals = []\n",
    "    for val in list(df[attribute]):\n",
    "        if val not in vals:\n",
    "            vals += [val]\n",
    "    vals.sort()\n",
    "    return vals"
   ]
  },
  {
   "cell_type": "code",
   "execution_count": 176,
   "metadata": {},
   "outputs": [],
   "source": [
    "def GINI(data, classifier):\n",
    "    \"\"\"returns the Gini of the given node, based on the Class\"\"\"\n",
    "    classVals=getVals(data,classifier)\n",
    "    cl=data[classifier]\n",
    "    sqSum = 0\n",
    "    for val in classVals:\n",
    "        sqSum += (len(cl[cl==val])/len(data))**2\n",
    "    GINI= 1-sqSum\n",
    "    return GINI"
   ]
  },
  {
   "cell_type": "code",
   "execution_count": 172,
   "metadata": {},
   "outputs": [],
   "source": [
    "def split(node, attribute, value):\n",
    "    \"\"\"returns two nodes based on a given split (attribute < value), input is node dict\"\"\"\n",
    "    data = node[\"tree\"]\n",
    "    yes = data[data[attribute] < value]\n",
    "    no = data[data[attribute] >= value]\n",
    "    return yes,no"
   ]
  },
  {
   "cell_type": "code",
   "execution_count": 173,
   "metadata": {},
   "outputs": [],
   "source": [
    "def GINIsplit(node, attribute, value):\n",
    "    \"\"\"returns the Gini of the split if applied on the given attribute\"\"\"\n",
    "    [yes,no]=split(node, attribute, value)\n",
    "    gini = (GINI(yes,node[\"classifier\"])*len(yes)+GINI(no, node[\"classifier\"])*len(no))/len(node[\"tree\"])\n",
    "    del yes\n",
    "    del no\n",
    "    return gini"
   ]
  },
  {
   "cell_type": "code",
   "execution_count": 174,
   "metadata": {},
   "outputs": [],
   "source": [
    "def bestCandidate(tree):\n",
    "    tests={}\n",
    "    atts = tree['attributes']\n",
    "    for att in atts:\n",
    "        vals = getVals(tree[\"tree\"],att)\n",
    "        tests[att]=vals\n",
    "    \n",
    "    ginis={}\n",
    "    for test in tests:\n",
    "        vals = tests[test][1:] #skip the first value since it is the infimum\n",
    "        \n",
    "        for val in vals:\n",
    "            ginis[(test,val)]=GINIsplit(tree, test, val)\n",
    "    best=min(ginis, key=ginis.get)\n",
    "    return best"
   ]
  },
  {
   "cell_type": "code",
   "execution_count": 192,
   "metadata": {},
   "outputs": [],
   "source": [
    "def createNode(D, A, nodeType, level, classifier, minNum=5,alpha=0.5, default = 0):\n",
    "    node = {}\n",
    "    node[\"tree\"] = D\n",
    "    node[\"attributes\"] = A\n",
    "    node[\"type\"] = nodeType\n",
    "    node[\"level\"] = level\n",
    "    node[\"classifier\"] = classifier\n",
    "    node[\"min\"]=minNum\n",
    "    node[\"gini\"]=float(GINI(D,classifier))\n",
    "    return node"
   ]
  },
  {
   "cell_type": "code",
   "execution_count": 224,
   "metadata": {},
   "outputs": [],
   "source": [
    "def continueTree(root):\n",
    "    A = list(root[\"attributes\"])\n",
    "    if(len(root[\"tree\"])<=root[\"min\"] or root[\"gini\"]==0 or root[\"type\"]==\"leaf\"):\n",
    "        root[\"type\"]=\"leaf\"\n",
    "        return\n",
    "    if(len(root[\"attributes\"])==1):\n",
    "        decision= [attribute, value] = bestCandidate(root)\n",
    "        A.remove(attribute)\n",
    "        left,right = split(root, attribute, value)\n",
    "        root[\"left\"]  = createNode(left, A, \"leaf\", root[\"level\"]+1, root[\"classifier\"])\n",
    "        root[\"right\"] = createNode(right, A, \"leaf\", root[\"level\"]+1, root[\"classifier\"])\n",
    "        \n",
    "    else:\n",
    "        decision= [attribute, value] = bestCandidate(root)\n",
    "        A.remove(attribute)\n",
    "        left,right = split(root, attribute, value)\n",
    "        root[\"left\"]  = createNode(left , A, \"intermediate\", root[\"level\"]+1, root[\"classifier\"])\n",
    "        root[\"right\"] = createNode(right, A, \"intermediate\", root[\"level\"]+1, root[\"classifier\"])\n",
    "        continueTree(root[\"left\"])\n",
    "        continueTree(root[\"right\"])"
   ]
  },
  {
   "cell_type": "code",
   "execution_count": 225,
   "metadata": {},
   "outputs": [],
   "source": [
    "def BuildDecisionTree(path):\n",
    "    df=pd.read_csv(path)\n",
    "    df=df[:20]\n",
    "    A=list(df.columns[:-1])\n",
    "    classifier=df.columns[-1]\n",
    "    D = df\n",
    "    default = 0\n",
    "    tree= createNode(D, A, \"root\", 0, classifier)\n",
    "    continueTree(tree)\n",
    "    return tree"
   ]
  },
  {
   "cell_type": "code",
   "execution_count": null,
   "metadata": {},
   "outputs": [],
   "source": [
    "def printDecisionTree(tree):\n",
    "    "
   ]
  },
  {
   "cell_type": "markdown",
   "metadata": {},
   "source": [
    "# Main"
   ]
  },
  {
   "cell_type": "code",
   "execution_count": 226,
   "metadata": {},
   "outputs": [],
   "source": [
    "import numpy as np\n",
    "import pandas as pd\n",
    "\n",
    "tree = BuildDecisionTree('data.csv')\n",
    "printDecisionTree(tree)"
   ]
  },
  {
   "cell_type": "code",
   "execution_count": 227,
   "metadata": {},
   "outputs": [
    {
     "data": {
      "text/plain": [
       "{'tree':     Sex  Pclass  Embarked  Survived\n",
       " 0     1       3         2         0\n",
       " 1     0       1         0         1\n",
       " 2     0       3         2         1\n",
       " 3     0       1         2         1\n",
       " 4     1       3         2         0\n",
       " 5     1       3         1         0\n",
       " 6     1       1         2         0\n",
       " 7     1       3         2         0\n",
       " 8     0       3         2         1\n",
       " 9     0       2         0         1\n",
       " 10    0       3         2         1\n",
       " 11    0       1         2         1\n",
       " 12    1       3         2         0\n",
       " 13    1       3         2         0\n",
       " 14    0       3         2         0\n",
       " 15    0       2         2         1\n",
       " 16    1       3         1         0\n",
       " 17    1       2         2         1\n",
       " 18    0       3         2         0\n",
       " 19    0       3         0         1,\n",
       " 'attributes': ['Sex', 'Pclass', 'Embarked'],\n",
       " 'type': 'root',\n",
       " 'level': 0,\n",
       " 'classifier': 'Survived',\n",
       " 'min': 5,\n",
       " 'gini': 0.5,\n",
       " 'left': {'tree':     Sex  Pclass  Embarked  Survived\n",
       "  1     0       1         0         1\n",
       "  2     0       3         2         1\n",
       "  3     0       1         2         1\n",
       "  8     0       3         2         1\n",
       "  9     0       2         0         1\n",
       "  10    0       3         2         1\n",
       "  11    0       1         2         1\n",
       "  14    0       3         2         0\n",
       "  15    0       2         2         1\n",
       "  18    0       3         2         0\n",
       "  19    0       3         0         1,\n",
       "  'attributes': ['Pclass', 'Embarked'],\n",
       "  'type': 'intermediate',\n",
       "  'level': 1,\n",
       "  'classifier': 'Survived',\n",
       "  'min': 5,\n",
       "  'gini': 0.2975206611570247,\n",
       "  'left': {'tree':     Sex  Pclass  Embarked  Survived\n",
       "   1     0       1         0         1\n",
       "   3     0       1         2         1\n",
       "   9     0       2         0         1\n",
       "   11    0       1         2         1\n",
       "   15    0       2         2         1,\n",
       "   'attributes': ['Embarked'],\n",
       "   'type': 'leaf',\n",
       "   'level': 2,\n",
       "   'classifier': 'Survived',\n",
       "   'min': 5,\n",
       "   'gini': 0.0},\n",
       "  'right': {'tree':     Sex  Pclass  Embarked  Survived\n",
       "   2     0       3         2         1\n",
       "   8     0       3         2         1\n",
       "   10    0       3         2         1\n",
       "   14    0       3         2         0\n",
       "   18    0       3         2         0\n",
       "   19    0       3         0         1,\n",
       "   'attributes': ['Embarked'],\n",
       "   'type': 'intermediate',\n",
       "   'level': 2,\n",
       "   'classifier': 'Survived',\n",
       "   'min': 5,\n",
       "   'gini': 0.4444444444444444,\n",
       "   'left': {'tree':     Sex  Pclass  Embarked  Survived\n",
       "    19    0       3         0         1,\n",
       "    'attributes': [],\n",
       "    'type': 'leaf',\n",
       "    'level': 3,\n",
       "    'classifier': 'Survived',\n",
       "    'min': 5,\n",
       "    'gini': 0.0},\n",
       "   'right': {'tree':     Sex  Pclass  Embarked  Survived\n",
       "    2     0       3         2         1\n",
       "    8     0       3         2         1\n",
       "    10    0       3         2         1\n",
       "    14    0       3         2         0\n",
       "    18    0       3         2         0,\n",
       "    'attributes': [],\n",
       "    'type': 'leaf',\n",
       "    'level': 3,\n",
       "    'classifier': 'Survived',\n",
       "    'min': 5,\n",
       "    'gini': 0.48}}},\n",
       " 'right': {'tree':     Sex  Pclass  Embarked  Survived\n",
       "  0     1       3         2         0\n",
       "  4     1       3         2         0\n",
       "  5     1       3         1         0\n",
       "  6     1       1         2         0\n",
       "  7     1       3         2         0\n",
       "  12    1       3         2         0\n",
       "  13    1       3         2         0\n",
       "  16    1       3         1         0\n",
       "  17    1       2         2         1,\n",
       "  'attributes': ['Pclass', 'Embarked'],\n",
       "  'type': 'intermediate',\n",
       "  'level': 1,\n",
       "  'classifier': 'Survived',\n",
       "  'min': 5,\n",
       "  'gini': 0.19753086419753085,\n",
       "  'left': {'tree':     Sex  Pclass  Embarked  Survived\n",
       "   6     1       1         2         0\n",
       "   17    1       2         2         1,\n",
       "   'attributes': ['Embarked'],\n",
       "   'type': 'leaf',\n",
       "   'level': 2,\n",
       "   'classifier': 'Survived',\n",
       "   'min': 5,\n",
       "   'gini': 0.5},\n",
       "  'right': {'tree':     Sex  Pclass  Embarked  Survived\n",
       "   0     1       3         2         0\n",
       "   4     1       3         2         0\n",
       "   5     1       3         1         0\n",
       "   7     1       3         2         0\n",
       "   12    1       3         2         0\n",
       "   13    1       3         2         0\n",
       "   16    1       3         1         0,\n",
       "   'attributes': ['Embarked'],\n",
       "   'type': 'leaf',\n",
       "   'level': 2,\n",
       "   'classifier': 'Survived',\n",
       "   'min': 5,\n",
       "   'gini': 0.0}}}"
      ]
     },
     "execution_count": 227,
     "metadata": {},
     "output_type": "execute_result"
    }
   ],
   "source": [
    "tree"
   ]
  },
  {
   "cell_type": "code",
   "execution_count": 205,
   "metadata": {},
   "outputs": [
    {
     "data": {
      "text/plain": [
       "('Sex', 1)"
      ]
     },
     "execution_count": 205,
     "metadata": {},
     "output_type": "execute_result"
    }
   ],
   "source": [
    "bestCandidate(root)"
   ]
  },
  {
   "cell_type": "code",
   "execution_count": 158,
   "metadata": {},
   "outputs": [
    {
     "data": {
      "text/plain": [
       "0.2525252525252525"
      ]
     },
     "execution_count": 158,
     "metadata": {},
     "output_type": "execute_result"
    }
   ],
   "source": [
    "split(root,'Sex',1)\n",
    "[yes,no]=split(tree, 'Sex', 1)\n",
    "(GINI(yes,tree[\"classifier\"])*len(yes)+GINI(no, tree[\"classifier\"])*len(no))/len(root[\"tree\"])"
   ]
  },
  {
   "cell_type": "code",
   "execution_count": 84,
   "metadata": {},
   "outputs": [
    {
     "data": {
      "text/plain": [
       "{'tree':     Sex  Pclass  Embarked  Survived\n",
       " 0     1       3         2         0\n",
       " 2     0       3         2         1\n",
       " 3     0       1         2         1\n",
       " 4     1       3         2         0\n",
       " 6     1       1         2         0\n",
       " 7     1       3         2         0\n",
       " 8     0       3         2         1\n",
       " 10    0       3         2         1\n",
       " 11    0       1         2         1\n",
       " 12    1       3         2         0\n",
       " 13    1       3         2         0\n",
       " 14    0       3         2         0\n",
       " 15    0       2         2         1\n",
       " 17    1       2         2         1\n",
       " 18    0       3         2         0,\n",
       " 'attributes': ['Sex', 'Pclass'],\n",
       " 'type': 'intermediate',\n",
       " 'level': 1,\n",
       " 'classifier': 'Survived',\n",
       " 'others': [5, 0.5, 0],\n",
       " 'gini': 0.49777777777777776}"
      ]
     },
     "execution_count": 84,
     "metadata": {},
     "output_type": "execute_result"
    }
   ],
   "source": [
    "tree['right']"
   ]
  },
  {
   "cell_type": "code",
   "execution_count": 85,
   "metadata": {},
   "outputs": [
    {
     "data": {
      "text/plain": [
       "0.5"
      ]
     },
     "execution_count": 85,
     "metadata": {},
     "output_type": "execute_result"
    }
   ],
   "source": [
    "tree['gini']"
   ]
  },
  {
   "cell_type": "markdown",
   "metadata": {},
   "source": [
    "# TESTS"
   ]
  },
  {
   "cell_type": "code",
   "execution_count": 69,
   "metadata": {},
   "outputs": [],
   "source": [
    "def bestCandidate1(tree):\n",
    "    tests={}\n",
    "    atts = tree['attributes']\n",
    "    for att in atts:\n",
    "        vals = getVals(tree[\"tree\"],att)\n",
    "        tests[att]=vals\n",
    "    print(tests)\n",
    "    ginis={}\n",
    "    for test in tests:\n",
    "        vals = tests[test][1:] #skip the first value since it is the infimum\n",
    "        \n",
    "        for val in vals:\n",
    "            ginis[(test,val)]=GINIsplit(tree, test, val)\n",
    "    best=max(ginis, key=ginis.get)\n",
    "    return best"
   ]
  },
  {
   "cell_type": "code",
   "execution_count": 62,
   "metadata": {},
   "outputs": [],
   "source": [
    "b=a={\"pip\":[1,2]}\n",
    "bb=aa = {\"man\":a, \"men\":[1,2]}\n",
    "cc=list(bb)"
   ]
  },
  {
   "cell_type": "code",
   "execution_count": 64,
   "metadata": {},
   "outputs": [
    {
     "data": {
      "text/plain": [
       "['man', 'men']"
      ]
     },
     "execution_count": 64,
     "metadata": {},
     "output_type": "execute_result"
    }
   ],
   "source": [
    "a[\"pap\"]=[1]\n",
    "bb\n",
    "cc"
   ]
  },
  {
   "cell_type": "code",
   "execution_count": 39,
   "metadata": {},
   "outputs": [
    {
     "data": {
      "text/plain": [
       "[]"
      ]
     },
     "execution_count": 39,
     "metadata": {},
     "output_type": "execute_result"
    }
   ],
   "source": [
    "a = [1]\n",
    "a.remove(1)\n",
    "a is None\n",
    "a"
   ]
  },
  {
   "cell_type": "code",
   "execution_count": 37,
   "metadata": {},
   "outputs": [
    {
     "data": {
      "text/plain": [
       "[0, 1]"
      ]
     },
     "execution_count": 37,
     "metadata": {},
     "output_type": "execute_result"
    }
   ],
   "source": [
    "l=[0,3,1]\n",
    "l.remove(3)\n",
    "l"
   ]
  },
  {
   "cell_type": "code",
   "execution_count": 30,
   "metadata": {},
   "outputs": [],
   "source": [
    "df = df.append({'A': i}, ignore_index=True)"
   ]
  },
  {
   "cell_type": "code",
   "execution_count": 89,
   "metadata": {},
   "outputs": [
    {
     "data": {
      "text/plain": [
       "1.0"
      ]
     },
     "execution_count": 89,
     "metadata": {},
     "output_type": "execute_result"
    }
   ],
   "source": [
    "classVals=getVals(df,classifier)\n",
    "cl=df[classifier]\n",
    "sqSum = 0\n",
    "for val in classVals:\n",
    "    sqSum += (len(cl[cl==val])/len(df))**2\n",
    "GINI= 1-sqSum\n",
    "GINI"
   ]
  },
  {
   "cell_type": "code",
   "execution_count": 110,
   "metadata": {},
   "outputs": [
    {
     "data": {
      "text/plain": [
       "0.5"
      ]
     },
     "execution_count": 110,
     "metadata": {},
     "output_type": "execute_result"
    }
   ],
   "source": [
    "GINI(node)"
   ]
  },
  {
   "cell_type": "code",
   "execution_count": 62,
   "metadata": {},
   "outputs": [
    {
     "data": {
      "text/plain": [
       "0     0\n",
       "4     0\n",
       "5     0\n",
       "6     0\n",
       "7     0\n",
       "12    0\n",
       "13    0\n",
       "14    0\n",
       "16    0\n",
       "18    0\n",
       "Name: Survived, dtype: int64"
      ]
     },
     "execution_count": 62,
     "metadata": {},
     "output_type": "execute_result"
    }
   ],
   "source": [
    "cl=df[classifier]\n",
    "cl[cl==0]"
   ]
  },
  {
   "cell_type": "code",
   "execution_count": 66,
   "metadata": {},
   "outputs": [
    {
     "data": {
      "text/plain": [
       "10"
      ]
     },
     "execution_count": 66,
     "metadata": {},
     "output_type": "execute_result"
    }
   ],
   "source": [
    "len(cl[cl==val])"
   ]
  },
  {
   "cell_type": "code",
   "execution_count": 38,
   "metadata": {},
   "outputs": [
    {
     "data": {
      "text/plain": [
       "'iiiih'"
      ]
     },
     "execution_count": 38,
     "metadata": {},
     "output_type": "execute_result"
    }
   ],
   "source": [
    "ginis={\"ahh\":2,\"ohhh\":4,\"iiiih\":1}\n",
    "min(ginis, key=ginis.get)"
   ]
  },
  {
   "cell_type": "code",
   "execution_count": 71,
   "metadata": {},
   "outputs": [],
   "source": [
    "d=tree['tree']\n"
   ]
  },
  {
   "cell_type": "code",
   "execution_count": 125,
   "metadata": {},
   "outputs": [
    {
     "data": {
      "text/html": [
       "<div>\n",
       "<style scoped>\n",
       "    .dataframe tbody tr th:only-of-type {\n",
       "        vertical-align: middle;\n",
       "    }\n",
       "\n",
       "    .dataframe tbody tr th {\n",
       "        vertical-align: top;\n",
       "    }\n",
       "\n",
       "    .dataframe thead th {\n",
       "        text-align: right;\n",
       "    }\n",
       "</style>\n",
       "<table border=\"1\" class=\"dataframe\">\n",
       "  <thead>\n",
       "    <tr style=\"text-align: right;\">\n",
       "      <th></th>\n",
       "      <th>Sex</th>\n",
       "      <th>Pclass</th>\n",
       "      <th>Embarked</th>\n",
       "      <th>Survived</th>\n",
       "    </tr>\n",
       "  </thead>\n",
       "  <tbody>\n",
       "    <tr>\n",
       "      <th>0</th>\n",
       "      <td>1</td>\n",
       "      <td>3</td>\n",
       "      <td>2</td>\n",
       "      <td>0</td>\n",
       "    </tr>\n",
       "    <tr>\n",
       "      <th>2</th>\n",
       "      <td>0</td>\n",
       "      <td>3</td>\n",
       "      <td>2</td>\n",
       "      <td>1</td>\n",
       "    </tr>\n",
       "    <tr>\n",
       "      <th>4</th>\n",
       "      <td>1</td>\n",
       "      <td>3</td>\n",
       "      <td>2</td>\n",
       "      <td>0</td>\n",
       "    </tr>\n",
       "    <tr>\n",
       "      <th>5</th>\n",
       "      <td>1</td>\n",
       "      <td>3</td>\n",
       "      <td>1</td>\n",
       "      <td>0</td>\n",
       "    </tr>\n",
       "    <tr>\n",
       "      <th>7</th>\n",
       "      <td>1</td>\n",
       "      <td>3</td>\n",
       "      <td>2</td>\n",
       "      <td>0</td>\n",
       "    </tr>\n",
       "    <tr>\n",
       "      <th>8</th>\n",
       "      <td>0</td>\n",
       "      <td>3</td>\n",
       "      <td>2</td>\n",
       "      <td>1</td>\n",
       "    </tr>\n",
       "    <tr>\n",
       "      <th>9</th>\n",
       "      <td>0</td>\n",
       "      <td>2</td>\n",
       "      <td>0</td>\n",
       "      <td>1</td>\n",
       "    </tr>\n",
       "    <tr>\n",
       "      <th>10</th>\n",
       "      <td>0</td>\n",
       "      <td>3</td>\n",
       "      <td>2</td>\n",
       "      <td>1</td>\n",
       "    </tr>\n",
       "    <tr>\n",
       "      <th>12</th>\n",
       "      <td>1</td>\n",
       "      <td>3</td>\n",
       "      <td>2</td>\n",
       "      <td>0</td>\n",
       "    </tr>\n",
       "    <tr>\n",
       "      <th>13</th>\n",
       "      <td>1</td>\n",
       "      <td>3</td>\n",
       "      <td>2</td>\n",
       "      <td>0</td>\n",
       "    </tr>\n",
       "    <tr>\n",
       "      <th>14</th>\n",
       "      <td>0</td>\n",
       "      <td>3</td>\n",
       "      <td>2</td>\n",
       "      <td>0</td>\n",
       "    </tr>\n",
       "    <tr>\n",
       "      <th>15</th>\n",
       "      <td>0</td>\n",
       "      <td>2</td>\n",
       "      <td>2</td>\n",
       "      <td>1</td>\n",
       "    </tr>\n",
       "    <tr>\n",
       "      <th>16</th>\n",
       "      <td>1</td>\n",
       "      <td>3</td>\n",
       "      <td>1</td>\n",
       "      <td>0</td>\n",
       "    </tr>\n",
       "    <tr>\n",
       "      <th>17</th>\n",
       "      <td>1</td>\n",
       "      <td>2</td>\n",
       "      <td>2</td>\n",
       "      <td>1</td>\n",
       "    </tr>\n",
       "    <tr>\n",
       "      <th>18</th>\n",
       "      <td>0</td>\n",
       "      <td>3</td>\n",
       "      <td>2</td>\n",
       "      <td>0</td>\n",
       "    </tr>\n",
       "    <tr>\n",
       "      <th>19</th>\n",
       "      <td>0</td>\n",
       "      <td>3</td>\n",
       "      <td>0</td>\n",
       "      <td>1</td>\n",
       "    </tr>\n",
       "  </tbody>\n",
       "</table>\n",
       "</div>"
      ],
      "text/plain": [
       "    Sex  Pclass  Embarked  Survived\n",
       "0     1       3         2         0\n",
       "2     0       3         2         1\n",
       "4     1       3         2         0\n",
       "5     1       3         1         0\n",
       "7     1       3         2         0\n",
       "8     0       3         2         1\n",
       "9     0       2         0         1\n",
       "10    0       3         2         1\n",
       "12    1       3         2         0\n",
       "13    1       3         2         0\n",
       "14    0       3         2         0\n",
       "15    0       2         2         1\n",
       "16    1       3         1         0\n",
       "17    1       2         2         1\n",
       "18    0       3         2         0\n",
       "19    0       3         0         1"
      ]
     },
     "execution_count": 125,
     "metadata": {},
     "output_type": "execute_result"
    }
   ],
   "source": [
    "transd=d.T\n",
    "\n",
    "for row in transd:\n",
    "    if transd[row]['Sex'] < 1:\n",
    "        a += [transd[row]]\n",
    "b= d[d['Pclass']<2]\n",
    "bb = d[d['Pclass']>=2]\n",
    "bb"
   ]
  },
  {
   "cell_type": "code",
   "execution_count": 167,
   "metadata": {},
   "outputs": [
    {
     "data": {
      "text/plain": [
       "4"
      ]
     },
     "execution_count": 167,
     "metadata": {},
     "output_type": "execute_result"
    }
   ],
   "source": [
    "b.T.count().count()"
   ]
  },
  {
   "cell_type": "code",
   "execution_count": null,
   "metadata": {},
   "outputs": [],
   "source": []
  }
 ],
 "metadata": {
  "kernelspec": {
   "display_name": "Python 3",
   "language": "python",
   "name": "python3"
  },
  "language_info": {
   "codemirror_mode": {
    "name": "ipython",
    "version": 3
   },
   "file_extension": ".py",
   "mimetype": "text/x-python",
   "name": "python",
   "nbconvert_exporter": "python",
   "pygments_lexer": "ipython3",
   "version": "3.6.10"
  }
 },
 "nbformat": 4,
 "nbformat_minor": 4
}
