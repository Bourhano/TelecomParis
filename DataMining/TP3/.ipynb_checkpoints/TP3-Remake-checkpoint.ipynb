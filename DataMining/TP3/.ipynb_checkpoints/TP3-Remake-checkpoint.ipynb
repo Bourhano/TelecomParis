{
 "cells": [
  {
   "cell_type": "code",
   "execution_count": 56,
   "metadata": {},
   "outputs": [
    {
     "name": "stdout",
     "output_type": "stream",
     "text": [
      "0     0\n",
      "1     1\n",
      "2     1\n",
      "3     1\n",
      "4     0\n",
      "5     0\n",
      "6     0\n",
      "7     0\n",
      "8     1\n",
      "9     1\n",
      "10    1\n",
      "11    1\n",
      "12    0\n",
      "13    0\n",
      "14    0\n",
      "15    1\n",
      "16    0\n",
      "17    1\n",
      "18    0\n",
      "19    1\n",
      "Name: Survived, dtype: int64\n",
      "0.5\n",
      "0.5\n"
     ]
    }
   ],
   "source": [
    "import pandas as pd\n",
    "path='data.csv'\n",
    "df=pd.read_csv(path)\n",
    "df=df[:20]\n",
    "A=list(df.columns[:-1])\n",
    "classifier=df.columns[-1]\n",
    "D = df\n",
    "default = 0\n",
    "tree= createNode(D, A, \"Root\", 0, classifier)"
   ]
  },
  {
   "cell_type": "code",
   "execution_count": 57,
   "metadata": {},
   "outputs": [
    {
     "data": {
      "text/plain": [
       "{'tree':     Sex  Pclass  Embarked  Survived\n",
       " 0     1       3         2         0\n",
       " 1     0       1         0         1\n",
       " 2     0       3         2         1\n",
       " 3     0       1         2         1\n",
       " 4     1       3         2         0\n",
       " 5     1       3         1         0\n",
       " 6     1       1         2         0\n",
       " 7     1       3         2         0\n",
       " 8     0       3         2         1\n",
       " 9     0       2         0         1\n",
       " 10    0       3         2         1\n",
       " 11    0       1         2         1\n",
       " 12    1       3         2         0\n",
       " 13    1       3         2         0\n",
       " 14    0       3         2         0\n",
       " 15    0       2         2         1\n",
       " 16    1       3         1         0\n",
       " 17    1       2         2         1\n",
       " 18    0       3         2         0\n",
       " 19    0       3         0         1,\n",
       " 'attributes': ['Sex', 'Pclass', 'Embarked'],\n",
       " 'type': 'Root',\n",
       " 'level': 0,\n",
       " 'classifier': 'Survived',\n",
       " 'min': 5,\n",
       " 'default': 1,\n",
       " 'gini': 0.5}"
      ]
     },
     "execution_count": 57,
     "metadata": {},
     "output_type": "execute_result"
    }
   ],
   "source": [
    "tree"
   ]
  },
  {
   "cell_type": "markdown",
   "metadata": {},
   "source": [
    "# FUNCTIONS"
   ]
  },
  {
   "cell_type": "code",
   "execution_count": 76,
   "metadata": {},
   "outputs": [
    {
     "name": "stdout",
     "output_type": "stream",
     "text": [
      "0     0\n",
      "4     0\n",
      "5     0\n",
      "7     0\n",
      "12    0\n",
      "13    0\n",
      "16    0\n",
      "Name: Survived, dtype: int64\n"
     ]
    },
    {
     "data": {
      "text/plain": [
       "0.0"
      ]
     },
     "execution_count": 76,
     "metadata": {},
     "output_type": "execute_result"
    }
   ],
   "source": [
    "d=tree[\"tree\"]\n",
    "ds=d[d[\"Sex\"]==1]\n",
    "dd=d[d[\"Sex\"]==0]\n",
    "getVals(d, \"Sex\")\n",
    "\n",
    "dds=dd[dd[\"Pclass\"]<3]\n",
    "ddd=dd[dd[\"Pclass\"]>=3]\n",
    "ddds=ddd[ddd[\"Embarked\"]<2]\n",
    "dddd=ddd[ddd[\"Embarked\"]>=2]\n",
    "\n",
    "dsd=ds[ds[\"Pclass\"]<3]\n",
    "dss=ds[ds[\"Pclass\"]>=3]\n",
    "GINI(dss, \"Survived\")"
   ]
  },
  {
   "cell_type": "code",
   "execution_count": 77,
   "metadata": {},
   "outputs": [],
   "source": [
    "def getVals(df, attribute):\n",
    "    \"\"\"returns the DISTINCT values of a specified attribute from a dataset\"\"\"\n",
    "    vals = []\n",
    "    for val in list(df[attribute]):\n",
    "        if val not in vals:\n",
    "            vals += [val]\n",
    "    vals.sort()\n",
    "    return vals"
   ]
  },
  {
   "cell_type": "code",
   "execution_count": 78,
   "metadata": {},
   "outputs": [],
   "source": [
    "def GINI(data, classifier):\n",
    "    \"\"\"returns the Gini of the given node, based on the Class\"\"\"\n",
    "    classVals=getVals(data,classifier)\n",
    "    cl=data[classifier]\n",
    "    print(cl)\n",
    "    sqSum = 0\n",
    "    for val in classVals:\n",
    "        prob= len(cl[cl==val])/len(data)\n",
    "        sqSum += prob**2\n",
    "    GINI= 1-sqSum\n",
    "    return GINI"
   ]
  },
  {
   "cell_type": "code",
   "execution_count": 1,
   "metadata": {},
   "outputs": [],
   "source": [
    "def createNode(D, A, nodeType, level, classifier, minNum=5,alpha=0.5, default = 1):\n",
    "    node = {}\n",
    "    node[\"tree\"] = D\n",
    "    node[\"attributes\"] = A\n",
    "    node[\"type\"] = nodeType\n",
    "    node[\"level\"] = level\n",
    "    node[\"classifier\"] = classifier\n",
    "    node[\"min\"]=minNum\n",
    "    node[\"default\"]=default\n",
    "    node[\"gini\"]=float(GINI(D,classifier))\n",
    "    return node"
   ]
  },
  {
   "cell_type": "code",
   "execution_count": null,
   "metadata": {},
   "outputs": [],
   "source": []
  }
 ],
 "metadata": {
  "kernelspec": {
   "display_name": "Python 3",
   "language": "python",
   "name": "python3"
  },
  "language_info": {
   "codemirror_mode": {
    "name": "ipython",
    "version": 3
   },
   "file_extension": ".py",
   "mimetype": "text/x-python",
   "name": "python",
   "nbconvert_exporter": "python",
   "pygments_lexer": "ipython3",
   "version": "3.6.10"
  }
 },
 "nbformat": 4,
 "nbformat_minor": 4
}
