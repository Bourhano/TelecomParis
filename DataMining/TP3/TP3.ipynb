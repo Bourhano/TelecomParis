{
 "cells": [
  {
   "cell_type": "markdown",
   "metadata": {},
   "source": [
    "# Function Definitions"
   ]
  },
  {
   "cell_type": "code",
   "execution_count": 1,
   "metadata": {},
   "outputs": [],
   "source": [
    "def split(node, attribute, value):\n",
    "    \"\"\"returns two nodes based on a given split (attribute < value), input is node dict\"\"\"\n",
    "    data = node[\"tree\"]\n",
    "    yes = data[data[attribute] < value]\n",
    "    no = data[data[attribute] >= value]\n",
    "    return yes,no"
   ]
  },
  {
   "cell_type": "code",
   "execution_count": 2,
   "metadata": {},
   "outputs": [],
   "source": [
    "def getVals(df, attribute):\n",
    "    \"\"\"returns the DISTINCT values of a specified attribute from a dataset\"\"\"\n",
    "    vals = []\n",
    "    for val in list(df[attribute]):\n",
    "        if val not in vals:\n",
    "            vals += [val]\n",
    "    vals.sort()\n",
    "    return vals"
   ]
  },
  {
   "cell_type": "code",
   "execution_count": 3,
   "metadata": {},
   "outputs": [],
   "source": [
    "def GINI(data, classifier):\n",
    "    \"\"\"returns the Gini of the given node, based on the Class\"\"\"\n",
    "    classVals=getVals(data,classifier)\n",
    "    cl=data[classifier]\n",
    "    sqSum = 0\n",
    "    \n",
    "    if(len(classVals)<2): #recently added\n",
    "        return 0\n",
    "    \n",
    "    print(classVals,\"gini\")\n",
    "    for val in classVals:\n",
    "        sqSum += (len(cl[cl==val])/len(data))**2\n",
    "    GINI= 1-sqSum\n",
    "    return GINI"
   ]
  },
  {
   "cell_type": "code",
   "execution_count": 4,
   "metadata": {},
   "outputs": [],
   "source": [
    "def GINIsplit(node, attribute, value):\n",
    "    \"\"\"returns the Gini of the split if applied on the given attribute\"\"\"\n",
    "    [yes,no]=split(node, attribute, value)\n",
    "    if(len(yes)==0 or len(no)==0):            #recently added\n",
    "        print(\"tell me\", yes, no,\"STOOOOOOOOOOOP HEREEEEE in GiniSplit\")\n",
    "    gini = (GINI(yes,node[\"classifier\"])*len(yes)+GINI(no, node[\"classifier\"])*len(no))/len(node[\"tree\"])\n",
    "    del yes\n",
    "    del no\n",
    "    return gini"
   ]
  },
  {
   "cell_type": "code",
   "execution_count": 5,
   "metadata": {},
   "outputs": [],
   "source": [
    "def bestCandidate(tree):\n",
    "    tests={}\n",
    "    atts = tree['attributes']\n",
    "    for att in atts:\n",
    "        vals = getVals(tree[\"tree\"],att)\n",
    "        if (len(vals)>1):                 #added this recently\n",
    "            tests[att]=vals\n",
    "    print(tests,'tests to do...')\n",
    "    \n",
    "    \n",
    "    ginis={}\n",
    "    for test in tests:\n",
    "        vals = tests[test][1:] #skip the first value since it is the infimum\n",
    "        for val in vals:\n",
    "            ginis[(test,val)]=GINIsplit(tree, test, val)     \n",
    "    \n",
    "    best=min(ginis, key=ginis.get)\n",
    "    return best"
   ]
  },
  {
   "cell_type": "code",
   "execution_count": 6,
   "metadata": {},
   "outputs": [],
   "source": [
    "def createNode(D, A, nodeType, level, classifier, minNum=5,alpha=0.5, default = 1):\n",
    "    node = {}\n",
    "    node[\"tree\"] = D\n",
    "    node[\"attributes\"] = A\n",
    "    node[\"type\"] = nodeType\n",
    "    node[\"level\"] = level\n",
    "    node[\"classifier\"] = classifier\n",
    "    node[\"min\"]=minNum\n",
    "    node[\"default\"]=default\n",
    "    node[\"gini\"]=float(GINI(D,classifier))\n",
    "    return node"
   ]
  },
  {
   "cell_type": "code",
   "execution_count": 7,
   "metadata": {},
   "outputs": [],
   "source": [
    "def continueTreeOld(root):\n",
    "    A = list(root[\"attributes\"])\n",
    "    if(len(root[\"tree\"])<=root[\"min\"] or root[\"gini\"]==0 or root[\"type\"]==\"leaf\"):\n",
    "        root[\"type\"]=\"Leaf\"\n",
    "        return\n",
    "    if(len(root[\"attributes\"])==1):\n",
    "        root[\"feature\"]= [attribute, value] = bestCandidate(root)\n",
    "        A.remove(attribute)\n",
    "        left,right = split(root, attribute, value)\n",
    "        root[\"left\"]  = createNode(left, A, \"Leaf\", root[\"level\"]+1, root[\"classifier\"])\n",
    "        root[\"right\"] = createNode(right, A, \"Leaf\", root[\"level\"]+1, root[\"classifier\"])\n",
    "        \n",
    "    else:\n",
    "        root[\"feature\"]= [attribute, value] = bestCandidate(root)\n",
    "        A.remove(attribute)\n",
    "        left,right = split(root, attribute, value)\n",
    "        root[\"left\"]  = createNode(left , A, \"Intermediate\", root[\"level\"]+1, root[\"classifier\"])\n",
    "        root[\"right\"] = createNode(right, A, \"Intermediate\", root[\"level\"]+1, root[\"classifier\"])\n",
    "        continueTree(root[\"left\"])\n",
    "        continueTree(root[\"right\"])"
   ]
  },
  {
   "cell_type": "code",
   "execution_count": 8,
   "metadata": {},
   "outputs": [],
   "source": [
    "def continueTree(root):\n",
    "    A = list(root[\"attributes\"])\n",
    "    if(len(root[\"tree\"])<=root[\"min\"] or root[\"gini\"]==0 or root[\"type\"]==\"leaf\"):\n",
    "        root[\"type\"]=\"Leaf\"\n",
    "        return\n",
    "    print(root[\"tree\"][root[\"classifier\"]])\n",
    "    #if(all(element == root[\"tree\"][root[\"classifier\"]][0] for element in root[\"tree\"][root[\"classifier\"]])):\n",
    "    #    root[\"type\"]=\"Leaf\"\n",
    "    #    return\n",
    "    root[\"feature\"]= [attribute, value] = bestCandidate(root) #don't call for best candidate if there are no new best candidates\n",
    "    #A.remove(attribute)\n",
    "    print(\"decision:\",attribute)\n",
    "    left,right = split(root, attribute, value)\n",
    "    print('done the split')\n",
    "    root[\"left\"]  = createNode(left , A, \"Intermediate\", root[\"level\"]+1, root[\"classifier\"])\n",
    "    print('got my left')\n",
    "    root[\"right\"] = createNode(right, A, \"Intermediate\", root[\"level\"]+1, root[\"classifier\"])\n",
    "    print('got my right')\n",
    "    continueTree(root[\"left\"])\n",
    "    continueTree(root[\"right\"])"
   ]
  },
  {
   "cell_type": "code",
   "execution_count": 9,
   "metadata": {},
   "outputs": [],
   "source": [
    "def BuildDecisionTree(path):\n",
    "    df=pd.read_csv(path)\n",
    "    df=df[:20]\n",
    "    A=list(df.columns[:-1])\n",
    "    classifier=df.columns[-1]\n",
    "    D = df\n",
    "    default = 0\n",
    "    tree= createNode(D, A, \"Root\", 0, classifier)\n",
    "    continueTree(tree)\n",
    "    return tree"
   ]
  },
  {
   "cell_type": "code",
   "execution_count": 10,
   "metadata": {},
   "outputs": [],
   "source": [
    "def printNode(node):\n",
    "    nType = node[\"type\"]\n",
    "    nLevel= node[\"level\"]\n",
    "    nGini =node[\"gini\"]\n",
    "    print(nType)\n",
    "    print(\"Level\",nLevel)\n",
    "    if nType in (\"Root\",\"Intermediate\"):\n",
    "        feature = node[\"feature\"]\n",
    "        print(\"Feature\",feature[0],end=\" \")\n",
    "        for i in range(min(getVals(node[\"tree\"],feature[0])),feature[1]):\n",
    "            if (i != feature[1] - 1):\n",
    "                print(i, end = \" \")\n",
    "            else:\n",
    "                print(i, end = \"\")\n",
    "        print()\n",
    "    else:\n",
    "        test = sum(node[\"tree\"][node[\"classifier\"]])/len(node[\"tree\"]) > 0.5\n",
    "        cl = 1 if test else 0\n",
    "        if (len(node[\"tree\"])<node[\"min\"]): cl = node[\"default\"]\n",
    "        print(\"Class\",cl)\n",
    "    if(nGini!=0):\n",
    "        print(\"Gini\",\"{:.4}\".format(nGini))\n",
    "    else:\n",
    "        print(\"Gini\",0)"
   ]
  },
  {
   "cell_type": "code",
   "execution_count": 11,
   "metadata": {},
   "outputs": [],
   "source": [
    "def getNextLevel(tree, result):\n",
    "    if 'left' in tree.keys():\n",
    "        result[tree['level']+1]= result[tree['level']+1] + [tree['left']]\n",
    "        result[tree['level']+1]= result[tree['level']+1] + [tree['right']]\n",
    "        getNextLevel(tree['left'],result)\n",
    "        getNextLevel(tree['right'],result)"
   ]
  },
  {
   "cell_type": "code",
   "execution_count": 12,
   "metadata": {},
   "outputs": [],
   "source": [
    "def getTreeOrdered(tree):\n",
    "    nodesByLevel=[[]]*len(tree[\"tree\"].columns)*5 #recently edited!!!\n",
    "    nodesByLevel[0] = [tree]\n",
    "    getNextLevel(tree, nodesByLevel)\n",
    "    return nodesByLevel"
   ]
  },
  {
   "cell_type": "code",
   "execution_count": 13,
   "metadata": {},
   "outputs": [],
   "source": [
    "def printDecisionTree(tree):\n",
    "    printNode(tree)\n",
    "    print()\n",
    "    nodesByLevel= getTreeOrdered(tree)\n",
    "    for level in nodesByLevel[1:]:\n",
    "        i=0\n",
    "        for node in level:\n",
    "            i+=1\n",
    "            printNode(node)\n",
    "            if (i != len(level)):\n",
    "                print('*********')\n",
    "        print()"
   ]
  },
  {
   "cell_type": "code",
   "execution_count": 14,
   "metadata": {},
   "outputs": [],
   "source": [
    "def generalizationError(tree, alpha):\n",
    "    nodesByLevel= getTreeOrdered(tree)\n",
    "    complexity=0\n",
    "    mistakes=0\n",
    "    for level in nodesByLevel[1:]:\n",
    "        for node in level:\n",
    "            if(node[\"type\"]==\"Leaf\"):\n",
    "                complexity+=1\n",
    "                vals=node[\"tree\"].T\n",
    "                for row in node[\"tree\"].T:\n",
    "                    test = sum(node[\"tree\"][node[\"classifier\"]])/len(node[\"tree\"]) > 0.5\n",
    "                    cl = 1 if test else 0\n",
    "                    if (len(node[\"tree\"])<node[\"min\"]): cl = node[\"default\"]\n",
    "                    if(vals[row][node[\"classifier\"]]!=cl):\n",
    "                        mistakes+=1\n",
    "    error = mistakes + alpha * complexity\n",
    "    print(\"Generalization Error =\",error/len(tree[\"tree\"]))\n",
    "    return error, mistakes, complexity"
   ]
  },
  {
   "cell_type": "code",
   "execution_count": 15,
   "metadata": {},
   "outputs": [],
   "source": [
    "def pruneTree(tree, minNum, alpha):\n",
    "    prunedTree=dict(tree)\n",
    "    \n",
    "    for level in nodesByLevel[1:]:\n",
    "        for node in level:\n",
    "            if(node[\"type\"]==\"Leaf\"):\n",
    "                disappear()\n",
    "    return prunedTree"
   ]
  },
  {
   "cell_type": "markdown",
   "metadata": {},
   "source": [
    "# Main"
   ]
  },
  {
   "cell_type": "code",
   "execution_count": 16,
   "metadata": {},
   "outputs": [
    {
     "name": "stdout",
     "output_type": "stream",
     "text": [
      "[0, 1] gini\n",
      "0     0\n",
      "1     1\n",
      "2     1\n",
      "3     1\n",
      "4     0\n",
      "5     0\n",
      "6     0\n",
      "7     0\n",
      "8     1\n",
      "9     1\n",
      "10    1\n",
      "11    1\n",
      "12    0\n",
      "13    0\n",
      "14    0\n",
      "15    1\n",
      "16    0\n",
      "17    1\n",
      "18    0\n",
      "19    1\n",
      "Name: Survived, dtype: int64\n",
      "{'Sex': [0, 1], 'Pclass': [1, 2, 3], 'Embarked': [0, 1, 2]} tests to do...\n",
      "[0, 1] gini\n",
      "[0, 1] gini\n",
      "[0, 1] gini\n",
      "[0, 1] gini\n",
      "[0, 1] gini\n",
      "[0, 1] gini\n",
      "[0, 1] gini\n",
      "[0, 1] gini\n",
      "[0, 1] gini\n",
      "decision: Sex\n",
      "done the split\n",
      "[0, 1] gini\n",
      "got my left\n",
      "[0, 1] gini\n",
      "got my right\n",
      "1     1\n",
      "2     1\n",
      "3     1\n",
      "8     1\n",
      "9     1\n",
      "10    1\n",
      "11    1\n",
      "14    0\n",
      "15    1\n",
      "18    0\n",
      "19    1\n",
      "Name: Survived, dtype: int64\n",
      "{'Pclass': [1, 2, 3], 'Embarked': [0, 2]} tests to do...\n",
      "[0, 1] gini\n",
      "[0, 1] gini\n",
      "[0, 1] gini\n",
      "decision: Pclass\n",
      "done the split\n",
      "got my left\n",
      "[0, 1] gini\n",
      "got my right\n",
      "2     1\n",
      "8     1\n",
      "10    1\n",
      "14    0\n",
      "18    0\n",
      "19    1\n",
      "Name: Survived, dtype: int64\n",
      "{'Embarked': [0, 2]} tests to do...\n",
      "[0, 1] gini\n",
      "decision: Embarked\n",
      "done the split\n",
      "got my left\n",
      "[0, 1] gini\n",
      "got my right\n",
      "0     0\n",
      "4     0\n",
      "5     0\n",
      "6     0\n",
      "7     0\n",
      "12    0\n",
      "13    0\n",
      "16    0\n",
      "17    1\n",
      "Name: Survived, dtype: int64\n",
      "{'Pclass': [1, 2, 3], 'Embarked': [1, 2]} tests to do...\n",
      "[0, 1] gini\n",
      "[0, 1] gini\n",
      "[0, 1] gini\n",
      "decision: Pclass\n",
      "done the split\n",
      "[0, 1] gini\n",
      "got my left\n",
      "got my right\n",
      "Root\n",
      "Level 0\n",
      "Feature Sex 0\n",
      "Gini 0.5\n",
      "\n",
      "Intermediate\n",
      "Level 1\n",
      "Feature Pclass 1 2\n",
      "Gini 0.2975\n",
      "*********\n",
      "Intermediate\n",
      "Level 1\n",
      "Feature Pclass 1 2\n",
      "Gini 0.1975\n",
      "\n",
      "Leaf\n",
      "Level 2\n",
      "Class 1\n",
      "Gini 0\n",
      "*********\n",
      "Intermediate\n",
      "Level 2\n",
      "Feature Embarked 0 1\n",
      "Gini 0.4444\n",
      "*********\n",
      "Leaf\n",
      "Level 2\n",
      "Class 1\n",
      "Gini 0.5\n",
      "*********\n",
      "Leaf\n",
      "Level 2\n",
      "Class 0\n",
      "Gini 0\n",
      "\n",
      "Leaf\n",
      "Level 3\n",
      "Class 1\n",
      "Gini 0\n",
      "*********\n",
      "Leaf\n",
      "Level 3\n",
      "Class 1\n",
      "Gini 0.48\n",
      "\n",
      "\n",
      "\n",
      "\n",
      "\n",
      "\n",
      "\n",
      "\n",
      "\n",
      "\n",
      "\n",
      "\n",
      "\n",
      "\n",
      "\n",
      "\n",
      "\n",
      "Generalization Error = 0.275\n"
     ]
    }
   ],
   "source": [
    "import numpy as np\n",
    "import pandas as pd\n",
    "\n",
    "### TODO:  \n",
    "###      - add class attribute once you know it's a Leaf... if nb(attributes)<minNum ==> default class (Survived)\n",
    "###      - add class attribute once all data in df have the same Class c\n",
    "###      - make sure if yu divide genError by len(df)\n",
    "tree = BuildDecisionTree('data.csv')\n",
    "printDecisionTree(tree)\n",
    "error,mistakes,complexity = generalizationError(tree, alpha=0.5)"
   ]
  },
  {
   "cell_type": "code",
   "execution_count": 173,
   "metadata": {},
   "outputs": [
    {
     "data": {
      "text/plain": [
       "(3, 5, 20)"
      ]
     },
     "execution_count": 173,
     "metadata": {},
     "output_type": "execute_result"
    }
   ],
   "source": [
    "mistakes,complexity,len(tree[\"tree\"])"
   ]
  },
  {
   "cell_type": "code",
   "execution_count": 174,
   "metadata": {},
   "outputs": [
    {
     "name": "stdout",
     "output_type": "stream",
     "text": [
      "Root\n",
      "Level 0\n",
      "Feature Sex 0\n",
      "Gini 0.5\n",
      "\n",
      "Intermediate\n",
      "Level 1\n",
      "Feature Pclass 1 2\n",
      "Gini 0.2975\n",
      "*********\n",
      "Intermediate\n",
      "Level 1\n",
      "Feature Pclass 1 2\n",
      "Gini 0.1975\n",
      "\n",
      "Leaf\n",
      "Level 2\n",
      "Class 1\n",
      "Gini 0\n",
      "*********\n",
      "Intermediate\n",
      "Level 2\n",
      "Feature Embarked 0 1\n",
      "Gini 0.4444\n",
      "*********\n",
      "Leaf\n",
      "Level 2\n",
      "Class 1\n",
      "Gini 0.5\n",
      "*********\n",
      "Leaf\n",
      "Level 2\n",
      "Class 0\n",
      "Gini 0\n",
      "\n",
      "Leaf\n",
      "Level 3\n",
      "Class 1\n",
      "Gini 0\n",
      "*********\n",
      "Leaf\n",
      "Level 3\n",
      "Class 1\n",
      "Gini 0.48\n",
      "\n"
     ]
    }
   ],
   "source": [
    "tree\n",
    "printDecisionTree(tree)"
   ]
  },
  {
   "cell_type": "markdown",
   "metadata": {},
   "source": [
    "# Tests"
   ]
  },
  {
   "cell_type": "code",
   "execution_count": 140,
   "metadata": {},
   "outputs": [
    {
     "data": {
      "text/plain": [
       "{'hi': 1, 'he': 1}"
      ]
     },
     "execution_count": 140,
     "metadata": {},
     "output_type": "execute_result"
    }
   ],
   "source": [
    "a={\"hi\":1}\n",
    "b=dict(a)\n",
    "b[\"he\"]=1\n",
    "a\n",
    "b"
   ]
  },
  {
   "cell_type": "code",
   "execution_count": 138,
   "metadata": {},
   "outputs": [
    {
     "name": "stdout",
     "output_type": "stream",
     "text": [
      "1\n",
      "1\n",
      "1\n",
      "1\n",
      "1\n",
      "1\n",
      "1\n",
      "1\n",
      "1\n",
      "1\n",
      "1\n",
      "1\n",
      "1\n",
      "1\n",
      "1\n",
      "1\n",
      "1\n",
      "1\n",
      "1\n",
      "1\n"
     ]
    }
   ],
   "source": [
    "nodesByLevel=[[0]]*len(tree[\"tree\"].columns)\n",
    "nodesByLevel[2] = nodesByLevel[2]+[1] \n",
    "nodesByLevel\n",
    "\n",
    "for row in list(tree[\"tree\"].T):\n",
    "    tree[\"tree\"][tree[\"classifier\"]]\n",
    "    print('1')"
   ]
  },
  {
   "cell_type": "code",
   "execution_count": 116,
   "metadata": {},
   "outputs": [
    {
     "name": "stdout",
     "output_type": "stream",
     "text": [
      "0\n",
      "1\n",
      "2\n",
      "3\n",
      "4\n",
      "5\n",
      "6\n",
      "7\n",
      "8\n",
      "9\n",
      "10\n",
      "11\n",
      "12\n",
      "13\n",
      "14\n",
      "15\n",
      "16\n",
      "17\n",
      "18\n",
      "19\n"
     ]
    }
   ],
   "source": [
    "for r in tree[\"tree\"].T:\n",
    "    print(r)"
   ]
  },
  {
   "cell_type": "code",
   "execution_count": 59,
   "metadata": {},
   "outputs": [
    {
     "data": {
      "text/plain": [
       "2"
      ]
     },
     "execution_count": 59,
     "metadata": {},
     "output_type": "execute_result"
    }
   ],
   "source": [
    "a=[[]]*5\n",
    "a[3]=[2]\n",
    "a[3]+=[1]\n",
    "len(a[3])"
   ]
  },
  {
   "cell_type": "code",
   "execution_count": 12,
   "metadata": {},
   "outputs": [
    {
     "data": {
      "text/plain": [
       "{'tree':     Sex  Pclass  Embarked  Survived\n",
       " 0     1       3         2         0\n",
       " 1     0       1         0         1\n",
       " 2     0       3         2         1\n",
       " 3     0       1         2         1\n",
       " 4     1       3         2         0\n",
       " 5     1       3         1         0\n",
       " 6     1       1         2         0\n",
       " 7     1       3         2         0\n",
       " 8     0       3         2         1\n",
       " 9     0       2         0         1\n",
       " 10    0       3         2         1\n",
       " 11    0       1         2         1\n",
       " 12    1       3         2         0\n",
       " 13    1       3         2         0\n",
       " 14    0       3         2         0\n",
       " 15    0       2         2         1\n",
       " 16    1       3         1         0\n",
       " 17    1       2         2         1\n",
       " 18    0       3         2         0\n",
       " 19    0       3         0         1,\n",
       " 'attributes': ['Sex', 'Pclass', 'Embarked'],\n",
       " 'type': 'Root',\n",
       " 'level': 0,\n",
       " 'classifier': 'Survived',\n",
       " 'min': 5,\n",
       " 'gini': 0.5,\n",
       " 'feature': ('Sex', 1),\n",
       " 'left': {'tree':     Sex  Pclass  Embarked  Survived\n",
       "  1     0       1         0         1\n",
       "  2     0       3         2         1\n",
       "  3     0       1         2         1\n",
       "  8     0       3         2         1\n",
       "  9     0       2         0         1\n",
       "  10    0       3         2         1\n",
       "  11    0       1         2         1\n",
       "  14    0       3         2         0\n",
       "  15    0       2         2         1\n",
       "  18    0       3         2         0\n",
       "  19    0       3         0         1,\n",
       "  'attributes': ['Pclass', 'Embarked'],\n",
       "  'type': 'Intermediate',\n",
       "  'level': 1,\n",
       "  'classifier': 'Survived',\n",
       "  'min': 5,\n",
       "  'gini': 0.2975206611570247,\n",
       "  'feature': ('Pclass', 3),\n",
       "  'left': {'tree':     Sex  Pclass  Embarked  Survived\n",
       "   1     0       1         0         1\n",
       "   3     0       1         2         1\n",
       "   9     0       2         0         1\n",
       "   11    0       1         2         1\n",
       "   15    0       2         2         1,\n",
       "   'attributes': ['Embarked'],\n",
       "   'type': 'Leaf',\n",
       "   'level': 2,\n",
       "   'classifier': 'Survived',\n",
       "   'min': 5,\n",
       "   'gini': 0.0},\n",
       "  'right': {'tree':     Sex  Pclass  Embarked  Survived\n",
       "   2     0       3         2         1\n",
       "   8     0       3         2         1\n",
       "   10    0       3         2         1\n",
       "   14    0       3         2         0\n",
       "   18    0       3         2         0\n",
       "   19    0       3         0         1,\n",
       "   'attributes': ['Embarked'],\n",
       "   'type': 'Intermediate',\n",
       "   'level': 2,\n",
       "   'classifier': 'Survived',\n",
       "   'min': 5,\n",
       "   'gini': 0.4444444444444444,\n",
       "   'feature': ('Embarked', 2),\n",
       "   'left': {'tree':     Sex  Pclass  Embarked  Survived\n",
       "    19    0       3         0         1,\n",
       "    'attributes': [],\n",
       "    'type': 'Leaf',\n",
       "    'level': 3,\n",
       "    'classifier': 'Survived',\n",
       "    'min': 5,\n",
       "    'gini': 0.0},\n",
       "   'right': {'tree':     Sex  Pclass  Embarked  Survived\n",
       "    2     0       3         2         1\n",
       "    8     0       3         2         1\n",
       "    10    0       3         2         1\n",
       "    14    0       3         2         0\n",
       "    18    0       3         2         0,\n",
       "    'attributes': [],\n",
       "    'type': 'Leaf',\n",
       "    'level': 3,\n",
       "    'classifier': 'Survived',\n",
       "    'min': 5,\n",
       "    'gini': 0.48}}},\n",
       " 'right': {'tree':     Sex  Pclass  Embarked  Survived\n",
       "  0     1       3         2         0\n",
       "  4     1       3         2         0\n",
       "  5     1       3         1         0\n",
       "  6     1       1         2         0\n",
       "  7     1       3         2         0\n",
       "  12    1       3         2         0\n",
       "  13    1       3         2         0\n",
       "  16    1       3         1         0\n",
       "  17    1       2         2         1,\n",
       "  'attributes': ['Pclass', 'Embarked'],\n",
       "  'type': 'Intermediate',\n",
       "  'level': 1,\n",
       "  'classifier': 'Survived',\n",
       "  'min': 5,\n",
       "  'gini': 0.19753086419753085,\n",
       "  'feature': ('Pclass', 3),\n",
       "  'left': {'tree':     Sex  Pclass  Embarked  Survived\n",
       "   6     1       1         2         0\n",
       "   17    1       2         2         1,\n",
       "   'attributes': ['Embarked'],\n",
       "   'type': 'Leaf',\n",
       "   'level': 2,\n",
       "   'classifier': 'Survived',\n",
       "   'min': 5,\n",
       "   'gini': 0.5},\n",
       "  'right': {'tree':     Sex  Pclass  Embarked  Survived\n",
       "   0     1       3         2         0\n",
       "   4     1       3         2         0\n",
       "   5     1       3         1         0\n",
       "   7     1       3         2         0\n",
       "   12    1       3         2         0\n",
       "   13    1       3         2         0\n",
       "   16    1       3         1         0,\n",
       "   'attributes': ['Embarked'],\n",
       "   'type': 'Leaf',\n",
       "   'level': 2,\n",
       "   'classifier': 'Survived',\n",
       "   'min': 5,\n",
       "   'gini': 0.0}}}"
      ]
     },
     "execution_count": 12,
     "metadata": {},
     "output_type": "execute_result"
    }
   ],
   "source": [
    "tree"
   ]
  },
  {
   "cell_type": "code",
   "execution_count": 402,
   "metadata": {},
   "outputs": [
    {
     "data": {
      "text/plain": [
       "4"
      ]
     },
     "execution_count": 402,
     "metadata": {},
     "output_type": "execute_result"
    }
   ],
   "source": [
    "len(tree[\"tree\"].columns)"
   ]
  },
  {
   "cell_type": "code",
   "execution_count": 403,
   "metadata": {},
   "outputs": [
    {
     "data": {
      "text/plain": [
       "('Sex', 1)"
      ]
     },
     "execution_count": 403,
     "metadata": {},
     "output_type": "execute_result"
    }
   ],
   "source": [
    "bestCandidate(root)"
   ]
  },
  {
   "cell_type": "code",
   "execution_count": 158,
   "metadata": {},
   "outputs": [
    {
     "data": {
      "text/plain": [
       "0.2525252525252525"
      ]
     },
     "execution_count": 158,
     "metadata": {},
     "output_type": "execute_result"
    }
   ],
   "source": [
    "split(root,'Sex',1)\n",
    "[yes,no]=split(tree, 'Sex', 1)\n",
    "(GINI(yes,tree[\"classifier\"])*len(yes)+GINI(no, tree[\"classifier\"])*len(no))/len(root[\"tree\"])"
   ]
  },
  {
   "cell_type": "code",
   "execution_count": 84,
   "metadata": {},
   "outputs": [
    {
     "data": {
      "text/plain": [
       "{'tree':     Sex  Pclass  Embarked  Survived\n",
       " 0     1       3         2         0\n",
       " 2     0       3         2         1\n",
       " 3     0       1         2         1\n",
       " 4     1       3         2         0\n",
       " 6     1       1         2         0\n",
       " 7     1       3         2         0\n",
       " 8     0       3         2         1\n",
       " 10    0       3         2         1\n",
       " 11    0       1         2         1\n",
       " 12    1       3         2         0\n",
       " 13    1       3         2         0\n",
       " 14    0       3         2         0\n",
       " 15    0       2         2         1\n",
       " 17    1       2         2         1\n",
       " 18    0       3         2         0,\n",
       " 'attributes': ['Sex', 'Pclass'],\n",
       " 'type': 'intermediate',\n",
       " 'level': 1,\n",
       " 'classifier': 'Survived',\n",
       " 'others': [5, 0.5, 0],\n",
       " 'gini': 0.49777777777777776}"
      ]
     },
     "execution_count": 84,
     "metadata": {},
     "output_type": "execute_result"
    }
   ],
   "source": [
    "tree['right']"
   ]
  },
  {
   "cell_type": "code",
   "execution_count": 85,
   "metadata": {},
   "outputs": [
    {
     "data": {
      "text/plain": [
       "0.5"
      ]
     },
     "execution_count": 85,
     "metadata": {},
     "output_type": "execute_result"
    }
   ],
   "source": [
    "tree['gini']"
   ]
  },
  {
   "cell_type": "code",
   "execution_count": 387,
   "metadata": {
    "collapsed": true,
    "jupyter": {
     "outputs_hidden": true
    }
   },
   "outputs": [
    {
     "data": {
      "text/plain": [
       "['',\n",
       " 'def split(node, attribute, value):\\n    \"\"\"returns two nodes based on a given split\"\"\"\\n    data = node[\"tree\"]\\n    yes = data[data[attribute] < value]\\n    no = data[data[attribute] >= value]\\n    return yes,no',\n",
       " 'def GINIsplit(node, attribute, value):\\n    \"\"\"returns the Gini of the split if applied on the given attribute\"\"\"\\n    [yes,no]=split(node, attribute, value)\\n    gini = (GINI(yes,node[\"classifier\"])*len(yes)+GINI(no, node[\"classifier\"])*len(no))/len(node)\\n    del yes\\n    del no\\n    return gini',\n",
       " 'def bestCandidate(tree):\\n    tests={}\\n    atts = tree[\\'attributes\\']\\n    for att in atts:\\n        vals = getVals(tree[\"tree\"],att)\\n        tests[att]=vals\\n    \\n    ginis={}\\n    for test in tests:\\n        vals = tests[test][1:] #skip the first value since it is the infimum\\n        \\n        for val in vals:\\n            ginis[(test,val)]=GINIsplit(tree, test, val)\\n    best=max(ginis, key=ginis.get)\\n    return best',\n",
       " 'def getVals(df, attribute):\\n    \"\"\"returns the DISTINCT values of a specified attribute from a dataset\"\"\"\\n    vals = []\\n    for val in list(df[attribute]):\\n        if val not in vals:\\n            vals += [val]\\n    vals.sort()\\n    return vals',\n",
       " 'def GINI(data, classifier):\\n    \"\"\"returns the Gini of the given node, based on the Class\"\"\"\\n    classVals=getVals(data,classifier)\\n    cl=data[classifier]\\n    sqSum = 0\\n    for val in classVals:\\n        sqSum += (len(cl[cl==val])/len(df))**2\\n    GINI= 1-sqSum\\n    return GINI',\n",
       " 'def BuildDecisionTree(D, A, minNum=5,alpha=0.5,d, classifier):\\n    node = {}\\n    node[\"type\"]= \"root\"\\n    node[\"level\"]=0\\n    node[\"tree\"]=D\\n    node[\"attributes\"]=A\\n    node[\"classifier\"] = classifier\\n    gini=float(GINI(D,classifier))\\n    node[\"gini\"]=gini\\n    node[\"others\"]=[minNum,alpha,d]\\n    return node',\n",
       " 'def BuildDecisionTree(D, A, minNum=5,alpha=0.5,d, classifier):\\n    node = {}\\n    node[\"type\"]= \"root\"\\n    node[\"level\"]=0\\n    node[\"tree\"]=D\\n    node[\"attributes\"]=A\\n    node[\"classifier\"] = classifier\\n    gini=float(GINI(D,classifier))\\n    node[\"gini\"]=gini\\n    return node',\n",
       " 'def BuildDecisionTree(D, A, minNum=5,alpha=0.5,d, classifier):\\n    node = {}\\n    node[\"type\"]= \"root\"\\n    node[\"level\"]=0\\n    node[\"tree\"]=D\\n    node[\"attributes\"]=A\\n    node[\"classifier\"] = classifier\\n    gini=float(GINI(D,classifier))\\n    node[\"gini\"]=gini\\n    return node',\n",
       " 'def createNode(D, A, nodeType, level, classifier, minNum=5,alpha=0.5, default = 0):\\n    node = {}\\n    node[\"tree\"] = D\\n    node[\"attributes\"] = A\\n    node[\"type\"] = nodeType\\n    node[\"level\"] = level\\n    node[\"classifier\"] = classifier\\n    node[\"others\"]=[minNum,alpha,default]\\n    gini=float(GINI(D,classifier))\\n    node[\"gini\"]=gini\\n    return node',\n",
       " 'def BuildDecisionTree(D, A, minNum=5,alpha=0.5,d, classifier):\\n    node ={}',\n",
       " 'def BuildDecisionTree (D, A, minNum=5,alpha=0.5,d, classifier):\\n    node ={}',\n",
       " 'def BuildDecisionTree (D, A, minNum=5,alpha=0.5,d, classifier):',\n",
       " 'def BuildDecisionTree(D, A, minNum=5,alpha=0.5,d, classifier):',\n",
       " 'def BuildDecisionTree(D, A, minNum=5,alpha=0.5,d, classifier):\\n    print()',\n",
       " 'def BuildDecisionTree(D, A, d, classifier,minNum=5,alpha=0.5):\\n    print()',\n",
       " 'b=a={\"pip\":[1,2]}\\naa = {\"man\":a, \"men\":[1,2]}',\n",
       " 'b=a={\"pip\":[1,2]}\\nbb=aa = {\"man\":a, \"men\":[1,2]}',\n",
       " 'a[\"pap\"]=[1]\\naa\\nbb',\n",
       " 'def BuildDecisionTree(root):\\n    root+=[0]',\n",
       " 'a[\"pap\"]=[1]\\nBuildDecisionTree(aa)\\nbb',\n",
       " 'a[\"pap\"]=[1]\\nbb',\n",
       " 'l=[0,3,1]\\nl.sort()\\nl\\nBuildDecisionTree(4)',\n",
       " 'l=[0,3,1]\\nl.sort()\\nl\\nBuildDecisionTree(l)',\n",
       " 'l=[0,3,1]\\nl.sort()\\nl\\nBuildDecisionTree(l)\\nl',\n",
       " 'def BuildDecisionTree(root):\\n    if(len(root[\"attributes\"])==1):\\n        decision= [attribute, value] = bestCandidate(root)\\n        left,right = split(root, attribute, value)\\n        yes= createNode(left, A, \"leaf\", root[\"level\"]+1, root.classifier)\\n        no= createNode(right, A, \"leaf\", root[\"level\"]+1, root.classifier)\\n    decision= [attribute, value] = bestCandidate(root)\\n    A = root[\"attributes\"]\\n    A.remove(attribute)\\n    left,right = split(root, attribute, value)\\n    yes = createNode(left, A, \"intermediate\", root[\"level\"]+1, root.classifier)\\n    no  = createNode(right, A, \"intermediate\", root[\"level\"]+1, root.classifier)\\n    root[\"left\"]=  yes\\n    root[\"right\"]= no',\n",
       " 'def BuildDecisionTree(root):\\n    if(len(root[\"attributes\"])==1):\\n        decision= [attribute, value] = bestCandidate(root)\\n        left,right = split(root, attribute, value)\\n        yes= createNode(left, A, \"leaf\", root[\"level\"]+1, root.classifier)\\n        no= createNode(right, A, \"leaf\", root[\"level\"]+1, root.classifier)\\n    decision= [attribute, value] = bestCandidate(root)\\n    A = root[\"attributes\"]\\n    A.remove(attribute)\\n    left,right = split(root, attribute, value)\\n    root[\"left\"]  = createNode(left, A, \"intermediate\", root[\"level\"]+1, root.classifier)\\n    root[\"right\"] = createNode(right, A, \"intermediate\", root[\"level\"]+1, root.classifier)',\n",
       " 'def createNode(D, A, nodeType, level, classifier, minNum=5,alpha=0.5, default = 0):\\n    node = {}\\n    node[\"tree\"] = D\\n    node[\"attributes\"] = A\\n    node[\"type\"] = nodeType\\n    node[\"level\"] = level\\n    node[\"classifier\"] = classifier\\n    node[\"others\"]=[minNum,alpha,default]\\n    node[\"gini\"]=float(GINI(D,classifier))\\n    return node',\n",
       " 'def BuildDecisionTree(root):\\n    if(len(root[\"attributes\"])==1):\\n        decision= [attribute, value] = bestCandidate(root)\\n        left,right = split(root, attribute, value)\\n        yes= createNode(left, A, \"leaf\", root[\"level\"]+1, root.classifier)\\n        no= createNode(right, A, \"leaf\", root[\"level\"]+1, root.classifier)\\n    decision= [attribute, value] = bestCandidate(root)\\n    A = root[\"attributes\"]\\n    A.remove(attribute)\\n    left,right = split(root, attribute, value)\\n    root[\"left\"]  = createNode(left, A, \"intermediate\", root[\"level\"]+1, root.classifier)\\n    root[\"right\"] = createNode(right, A, \"intermediate\", root[\"level\"]+1, root.classifier)',\n",
       " 'def BuildDecisionTree(root):\\n    if(len(root[\"attributes\"])==1):\\n        decision= [attribute, value] = bestCandidate(root)\\n        left,right = split(root, attribute, value)\\n        yes= createNode(left, A, \"leaf\", root[\"level\"]+1, root.classifier)\\n        no= createNode(right, A, \"leaf\", root[\"level\"]+1, root.classifier)\\n    decision= [attribute, value] = bestCandidate(root)\\n    A = root[\"attributes\"]\\n    A.remove(attribute)\\n    left,right = split(root, attribute, value)\\n    root[\"left\"]  = createNode(left, A, \"intermediate\", root[\"level\"]+1, root.classifier)\\n    root[\"right\"] = createNode(right, A, \"intermediate\", root[\"level\"]+1, root.classifier)',\n",
       " 'def BuildDecisionTree(root):\\n    if(len(root[\"attributes\"])==1):\\n        decision= [attribute, value] = bestCandidate(root)\\n        left,right = split(root, attribute, value)\\n        yes= createNode(left, A, \"leaf\", root[\"level\"]+1, root.classifier)\\n        no= createNode(right, A, \"leaf\", root[\"level\"]+1, root.classifier)\\n    decision= [attribute, value] = bestCandidate(root)\\n    A = root[\"attributes\"]\\n    A.remove(attribute)\\n    left,right = split(root, attribute, value)\\n    root[\"left\"]  = createNode(left, A, \"intermediate\", root[\"level\"]+1, root.classifier)\\n    root[\"right\"] = createNode(right, A, \"intermediate\", root[\"level\"]+1, root.classifier)\\n    BuildDecisionTree(root[\"left\"])\\n    BuildDecisionTree(root[\"right\"])',\n",
       " 'import numpy as np\\nimport pandas as pd\\n\\ndf=pd.read_csv(\\'data.csv\\')\\ndf=df[:20]\\nA=list(df.columns[:-1])\\nclassifier=df.columns[-1]\\nD = df\\nminNum = 5\\nalpha = 0.5\\ndefault = 0\\ntree=root= createNode(D, A, \"root\", 0, classifier)\\nBuildDecisionTree(tree)',\n",
       " 'def BuildDecisionTree(root):\\n    if(len(root[\"attributes\"])==1):\\n        decision= [attribute, value] = bestCandidate(root)\\n        left,right = split(root, attribute, value)\\n        yes= createNode(left, A, \"leaf\", root[\"level\"]+1, root[\"classifier\"])\\n        no= createNode(right, A, \"leaf\", root[\"level\"]+1, root[\"classifier\"])\\n    decision= [attribute, value] = bestCandidate(root)\\n    A = root[\"attributes\"]\\n    A.remove(attribute)\\n    left,right = split(root, attribute, value)\\n    root[\"left\"]  = createNode(left, A, \"intermediate\", root[\"level\"]+1, root[\"classifier\"])\\n    root[\"right\"] = createNode(right, A, \"intermediate\", root[\"level\"]+1, root[\"classifier\"])\\n    BuildDecisionTree(root[\"left\"])\\n    BuildDecisionTree(root[\"right\"])',\n",
       " 'import numpy as np\\nimport pandas as pd\\n\\ndf=pd.read_csv(\\'data.csv\\')\\ndf=df[:20]\\nA=list(df.columns[:-1])\\nclassifier=df.columns[-1]\\nD = df\\nminNum = 5\\nalpha = 0.5\\ndefault = 0\\ntree=root= createNode(D, A, \"root\", 0, classifier)\\nBuildDecisionTree(tree)',\n",
       " 'def BuildDecisionTree(root):\\n    if(len(root[\"attributes\"])==1):\\n        decision= [attribute, value] = bestCandidate(root)\\n        left,right = split(root, attribute, value)\\n        yes= createNode(left, A, \"leaf\", root[\"level\"]+1, root[\"classifier\"])\\n        no= createNode(right, A, \"leaf\", root[\"level\"]+1, root[\"classifier\"])\\n    decision= [attribute, value] = bestCandidate(root)\\n    A = root[\"attributes\"]\\n    A.remove(attribute)\\n    left,right = split(root, attribute, value)\\n    root[\"left\"]  = createNode(left , root[\"attributes\"], \"intermediate\", root[\"level\"]+1, root[\"classifier\"])\\n    root[\"right\"] = createNode(right, root[\"attributes\"], \"intermediate\", root[\"level\"]+1, root[\"classifier\"])\\n    BuildDecisionTree(root[\"left\"])\\n    BuildDecisionTree(root[\"right\"])',\n",
       " 'import numpy as np\\nimport pandas as pd\\n\\ndf=pd.read_csv(\\'data.csv\\')\\ndf=df[:20]\\nA=list(df.columns[:-1])\\nclassifier=df.columns[-1]\\nD = df\\nminNum = 5\\nalpha = 0.5\\ndefault = 0\\ntree=root= createNode(D, A, \"root\", 0, classifier)\\nBuildDecisionTree(tree)',\n",
       " 'l=[0,3,1]\\nl.remove(3)',\n",
       " 'l=[0,3,1]\\nl.remove(3)\\nl',\n",
       " 'def BuildDecisionTree(root):\\n    if(len(root[\"attributes\"])==1):\\n        decision= [attribute, value] = bestCandidate(root)\\n        left,right = split(root, attribute, value)\\n        yes= createNode(left, A, \"leaf\", root[\"level\"]+1, root[\"classifier\"])\\n        no= createNode(right, A, \"leaf\", root[\"level\"]+1, root[\"classifier\"])\\n    decision= [attribute, value] = bestCandidate(root)\\n    A = root[\"attributes\"]\\n    A.remove(attribute)\\n    print(A)\\n    left,right = split(root, attribute, value)\\n    root[\"left\"]  = createNode(left , A, \"intermediate\", root[\"level\"]+1, root[\"classifier\"])\\n    root[\"right\"] = createNode(right, A, \"intermediate\", root[\"level\"]+1, root[\"classifier\"])\\n    BuildDecisionTree(root[\"left\"])\\n    BuildDecisionTree(root[\"right\"])',\n",
       " 'import numpy as np\\nimport pandas as pd\\n\\ndf=pd.read_csv(\\'data.csv\\')\\ndf=df[:20]\\nA=list(df.columns[:-1])\\nclassifier=df.columns[-1]\\nD = df\\nminNum = 5\\nalpha = 0.5\\ndefault = 0\\ntree=root= createNode(D, A, \"root\", 0, classifier)\\nBuildDecisionTree(tree)',\n",
       " 'def BuildDecisionTree(root):\\n    if(len(root[\"attributes\"])==1):\\n        decision= [attribute, value] = bestCandidate(root)\\n        left,right = split(root, attribute, value)\\n        yes= createNode(left, A, \"leaf\", root[\"level\"]+1, root[\"classifier\"])\\n        no= createNode(right, A, \"leaf\", root[\"level\"]+1, root[\"classifier\"])\\n    else:\\n        decision= [attribute, value] = bestCandidate(root)\\n        A = root[\"attributes\"]\\n        A.remove(attribute)\\n        print(A)\\n        left,right = split(root, attribute, value)\\n        root[\"left\"]  = createNode(left , A, \"intermediate\", root[\"level\"]+1, root[\"classifier\"])\\n        root[\"right\"] = createNode(right, A, \"intermediate\", root[\"level\"]+1, root[\"classifier\"])\\n        BuildDecisionTree(root[\"left\"])\\n        BuildDecisionTree(root[\"right\"])',\n",
       " 'import numpy as np\\nimport pandas as pd\\n\\ndf=pd.read_csv(\\'data.csv\\')\\ndf=df[:20]\\nA=list(df.columns[:-1])\\nclassifier=df.columns[-1]\\nD = df\\nminNum = 5\\nalpha = 0.5\\ndefault = 0\\ntree=root= createNode(D, A, \"root\", 0, classifier)\\nBuildDecisionTree(tree)',\n",
       " 'def BuildDecisionTree(root):\\n    A = root[\"attributes\"]\\n    if(len(root[\"attributes\"])==1):\\n        decision= [attribute, value] = bestCandidate(root)\\n        left,right = split(root, attribute, value)\\n        yes= createNode(left, A, \"leaf\", root[\"level\"]+1, root[\"classifier\"])\\n        no= createNode(right, A, \"leaf\", root[\"level\"]+1, root[\"classifier\"])\\n    else:\\n        decision= [attribute, value] = bestCandidate(root)\\n        A.remove(attribute)\\n        print(A)\\n        left,right = split(root, attribute, value)\\n        root[\"left\"]  = createNode(left , A, \"intermediate\", root[\"level\"]+1, root[\"classifier\"])\\n        root[\"right\"] = createNode(right, A, \"intermediate\", root[\"level\"]+1, root[\"classifier\"])\\n        BuildDecisionTree(root[\"left\"])\\n        BuildDecisionTree(root[\"right\"])',\n",
       " 'import numpy as np\\nimport pandas as pd\\n\\ndf=pd.read_csv(\\'data.csv\\')\\ndf=df[:20]\\nA=list(df.columns[:-1])\\nclassifier=df.columns[-1]\\nD = df\\nminNum = 5\\nalpha = 0.5\\ndefault = 0\\ntree=root= createNode(D, A, \"root\", 0, classifier)\\nBuildDecisionTree(tree)',\n",
       " 'tree',\n",
       " 'import numpy as np\\nimport pandas as pd\\n\\ndf=pd.read_csv(\\'data.csv\\')\\ndf=df[:20]\\nA=list(df.columns[:-1])\\nclassifier=df.columns[-1]\\nD = df\\nminNum = 5\\nalpha = 0.5\\ndefault = 0\\ntree=root= createNode(D, A, \"root\", 0, classifier)\\nBuildDecisionTree(tree)',\n",
       " 'tree',\n",
       " 'tree.describe()',\n",
       " 'tree.describe',\n",
       " 'tree.desc',\n",
       " 'tree.desc()',\n",
       " 'describe(tree)',\n",
       " 'for a in tree:\\n    print(a)',\n",
       " 'def BuildDecisionTree(root):\\n    A = root[\"attributes\"]\\n    if(len(root[\"attributes\"])==1):\\n        print(\"oops\")\\n        decision= [attribute, value] = bestCandidate(root)\\n        left,right = split(root, attribute, value)\\n        yes= createNode(left, A, \"leaf\", root[\"level\"]+1, root[\"classifier\"])\\n        no= createNode(right, A, \"leaf\", root[\"level\"]+1, root[\"classifier\"])\\n    else:\\n        decision= [attribute, value] = bestCandidate(root)\\n        A.remove(attribute)\\n        print(A)\\n        left,right = split(root, attribute, value)\\n        root[\"left\"]  = createNode(left , A, \"intermediate\", root[\"level\"]+1, root[\"classifier\"])\\n        root[\"right\"] = createNode(right, A, \"intermediate\", root[\"level\"]+1, root[\"classifier\"])\\n        BuildDecisionTree(root[\"left\"])\\n        BuildDecisionTree(root[\"right\"])',\n",
       " 'import numpy as np\\nimport pandas as pd\\n\\ndf=pd.read_csv(\\'data.csv\\')\\ndf=df[:20]\\nA=list(df.columns[:-1])\\nclassifier=df.columns[-1]\\nD = df\\nminNum = 5\\nalpha = 0.5\\ndefault = 0\\ntree=root= createNode(D, A, \"root\", 0, classifier)\\nBuildDecisionTree(tree)',\n",
       " 'for a in tree:\\n    print(a)',\n",
       " 'tree',\n",
       " \"tree['left']\",\n",
       " \"tree['left']['left']\",\n",
       " \"tree['left']['right']\",\n",
       " \"tree['right']['right']\",\n",
       " \"tree['right']\",\n",
       " 'b=a={\"pip\":[1,2]}\\nbb=aa = {\"man\":a, \"men\":[1,2]}\\ncc=list(bb)',\n",
       " 'a[\"pap\"]=[1]\\nbb',\n",
       " 'a[\"pap\"]=[1]\\nbb\\ncc',\n",
       " 'def BuildDecisionTree(root):\\n    A = list(root[\"attributes\"])\\n    if(len(root[\"attributes\"])==1):\\n        print(\"oops\")\\n        decision= [attribute, value] = bestCandidate(root)\\n        left,right = split(root, attribute, value)\\n        yes= createNode(left, A, \"leaf\", root[\"level\"]+1, root[\"classifier\"])\\n        no= createNode(right, A, \"leaf\", root[\"level\"]+1, root[\"classifier\"])\\n    else:\\n        decision= [attribute, value] = bestCandidate(root)\\n        A.remove(attribute)\\n        print(A)\\n        left,right = split(root, attribute, value)\\n        root[\"left\"]  = createNode(left , A, \"intermediate\", root[\"level\"]+1, root[\"classifier\"])\\n        root[\"right\"] = createNode(right, A, \"intermediate\", root[\"level\"]+1, root[\"classifier\"])\\n        BuildDecisionTree(root[\"left\"])\\n        BuildDecisionTree(root[\"right\"])',\n",
       " 'import numpy as np\\nimport pandas as pd\\n\\ndf=pd.read_csv(\\'data.csv\\')\\ndf=df[:20]\\nA=list(df.columns[:-1])\\nclassifier=df.columns[-1]\\nD = df\\nminNum = 5\\nalpha = 0.5\\ndefault = 0\\ntree=root= createNode(D, A, \"root\", 0, classifier)\\nBuildDecisionTree(tree)',\n",
       " 'def BuildDecisionTree(root):\\n    A = list(root[\"attributes\"])\\n    if(len(root[\"attributes\"])==1):\\n        print(\"oops\")\\n        decision= [attribute, value] = bestCandidate(root)\\n        A.remove(attribute)\\n        left,right = split(root, attribute, value)\\n        yes= createNode(left, A, \"leaf\", root[\"level\"]+1, root[\"classifier\"])\\n        no= createNode(right, A, \"leaf\", root[\"level\"]+1, root[\"classifier\"])\\n    else:\\n        decision= [attribute, value] = bestCandidate(root)\\n        A.remove(attribute)\\n        print(A)\\n        left,right = split(root, attribute, value)\\n        root[\"left\"]  = createNode(left , A, \"intermediate\", root[\"level\"]+1, root[\"classifier\"])\\n        root[\"right\"] = createNode(right, A, \"intermediate\", root[\"level\"]+1, root[\"classifier\"])\\n        BuildDecisionTree(root[\"left\"])\\n        BuildDecisionTree(root[\"right\"])',\n",
       " 'import numpy as np\\nimport pandas as pd\\n\\ndf=pd.read_csv(\\'data.csv\\')\\ndf=df[:20]\\nA=list(df.columns[:-1])\\nclassifier=df.columns[-1]\\nD = df\\nminNum = 5\\nalpha = 0.5\\ndefault = 0\\ntree=root= createNode(D, A, \"root\", 0, classifier)\\nBuildDecisionTree(tree)',\n",
       " 'def bestCandidate1(tree):\\n    tests={}\\n    atts = tree[\\'attributes\\']\\n    for att in atts:\\n        vals = getVals(tree[\"tree\"],att)\\n        tests[att]=vals\\n    print(tests)\\n    ginis={}\\n    for test in tests:\\n        vals = tests[test][1:] #skip the first value since it is the infimum\\n        \\n        for val in vals:\\n            ginis[(test,val)]=GINIsplit(tree, test, val)\\n    best=max(ginis, key=ginis.get)\\n    return best',\n",
       " 'def BuildDecisionTree(root):\\n    A = list(root[\"attributes\"])\\n    if(len(root[\"attributes\"])==1):\\n        decision= [attribute, value] = bestCandidate1(root)\\n        A.remove(attribute)\\n        left,right = split(root, attribute, value)\\n        yes= createNode(left, A, \"leaf\", root[\"level\"]+1, root[\"classifier\"])\\n        no= createNode(right, A, \"leaf\", root[\"level\"]+1, root[\"classifier\"])\\n    else:\\n        decision= [attribute, value] = bestCandidate(root)\\n        A.remove(attribute)\\n        print(A)\\n        left,right = split(root, attribute, value)\\n        root[\"left\"]  = createNode(left , A, \"intermediate\", root[\"level\"]+1, root[\"classifier\"])\\n        root[\"right\"] = createNode(right, A, \"intermediate\", root[\"level\"]+1, root[\"classifier\"])\\n        BuildDecisionTree(root[\"left\"])\\n        BuildDecisionTree(root[\"right\"])',\n",
       " 'import numpy as np\\nimport pandas as pd\\n\\ndf=pd.read_csv(\\'data.csv\\')\\ndf=df[:20]\\nA=list(df.columns[:-1])\\nclassifier=df.columns[-1]\\nD = df\\nminNum = 5\\nalpha = 0.5\\ndefault = 0\\ntree=root= createNode(D, A, \"root\", 0, classifier)\\nBuildDecisionTree(tree)',\n",
       " 'def BuildDecisionTree(root):\\n    A = list(root[\"attributes\"])\\n    if(len(root[\"attributes\"])==1):\\n        decision= [attribute, value] = bestCandidate1(root)\\n        A.remove(attribute)\\n        left,right = split(root, attribute, value)\\n        yes= createNode(left, A, \"leaf\", root[\"level\"]+1, root[\"classifier\"])\\n        no= createNode(right, A, \"leaf\", root[\"level\"]+1, root[\"classifier\"])\\n    else:\\n        decision= [attribute, value] = bestCandidate(root)\\n        A.remove(attribute)\\n        left,right = split(root, attribute, value)\\n        root[\"left\"]  = createNode(left , A, \"intermediate\", root[\"level\"]+1, root[\"classifier\"])\\n        root[\"right\"] = createNode(right, A, \"intermediate\", root[\"level\"]+1, root[\"classifier\"])\\n        BuildDecisionTree(root[\"left\"])\\n        BuildDecisionTree(root[\"right\"])',\n",
       " 'import numpy as np\\nimport pandas as pd\\n\\ndf=pd.read_csv(\\'data.csv\\')\\ndf=df[:20]\\nA=list(df.columns[:-1])\\nclassifier=df.columns[-1]\\nD = df\\nminNum = 5\\nalpha = 0.5\\ndefault = 0\\ntree=root= createNode(D, A, \"root\", 0, classifier)\\nBuildDecisionTree(tree)',\n",
       " 'tree',\n",
       " \"tree['right']['right']\",\n",
       " \"tree['gini']\",\n",
       " \"tree['left']['gini']\",\n",
       " \"1-tree['left']['gini']\",\n",
       " 'def GINI(data, classifier):\\n    \"\"\"returns the Gini of the given node, based on the Class\"\"\"\\n    classVals=getVals(data,classifier)\\n    cl=data[classifier]\\n    sqSum = 0\\n    for val in classVals:\\n        sqSum += (len(cl[cl==val])/len(data))**2\\n    GINI= 1-sqSum\\n    return GINI',\n",
       " 'import numpy as np\\nimport pandas as pd\\n\\ndf=pd.read_csv(\\'data.csv\\')\\ndf=df[:20]\\nA=list(df.columns[:-1])\\nclassifier=df.columns[-1]\\nD = df\\nminNum = 5\\nalpha = 0.5\\ndefault = 0\\ntree=root= createNode(D, A, \"root\", 0, classifier)\\nBuildDecisionTree(tree)',\n",
       " \"1-tree['left']['gini']\",\n",
       " \"tree['left']['gini']\",\n",
       " 'tree',\n",
       " \"tree['right']\",\n",
       " \"tree['gini']\",\n",
       " 'def BuildDecisionTree(root):\\n    A = list(root[\"attributes\"])\\n    if(len(root[\"attributes\"])==1):\\n        decision= [attribute, value] = bestCandidate1(root)\\n        A.remove(attribute)\\n        left,right = split(root, attribute, value)\\n        yes= createNode(left, A, \"leaf\", root[\"level\"]+1, root[\"classifier\"])\\n        no= createNode(right, A, \"leaf\", root[\"level\"]+1, root[\"classifier\"])\\n    else:\\n        decision= [attribute, value] = bestCandidate(root)\\n        print(root[\"level\"], decision)\\n        A.remove(attribute)\\n        left,right = split(root, attribute, value)\\n        root[\"left\"]  = createNode(left , A, \"intermediate\", root[\"level\"]+1, root[\"classifier\"])\\n        root[\"right\"] = createNode(right, A, \"intermediate\", root[\"level\"]+1, root[\"classifier\"])\\n        BuildDecisionTree(root[\"left\"])\\n        BuildDecisionTree(root[\"right\"])',\n",
       " 'import numpy as np\\nimport pandas as pd\\n\\ndf=pd.read_csv(\\'data.csv\\')\\ndf=df[:20]\\nA=list(df.columns[:-1])\\nclassifier=df.columns[-1]\\nD = df\\nminNum = 5\\nalpha = 0.5\\ndefault = 0\\ntree=root= createNode(D, A, \"root\", 0, classifier)\\nBuildDecisionTree(tree)',\n",
       " 'len(df)',\n",
       " 'import numpy as np\\nimport pandas as pd\\n\\ndf=pd.read_csv(\\'data.csv\\')\\ndf=df[:20]\\nA=list(df.columns[:-1])\\nclassifier=df.columns[-1]\\nD = df\\nminNum = 5\\nalpha = 0.5\\ndefault = 0\\ntree=root= createNode(D, A, \"root\", 0, classifier)\\nBuildDecisionTree(tree)',\n",
       " 'tree',\n",
       " 'bestCandidate(root)',\n",
       " 'def bestCandidate(tree):\\n    tests={}\\n    atts = tree[\\'attributes\\']\\n    for att in atts:\\n        vals = getVals(tree[\"tree\"],att)\\n        tests[att]=vals\\n    \\n    ginis={}\\n    for test in tests:\\n        vals = tests[test][1:] #skip the first value since it is the infimum\\n        \\n        for val in vals:\\n            ginis[(test,val)]=GINIsplit(tree, test, val)\\n    best=max(ginis, key=ginis.get)\\n    return best,ginis',\n",
       " 'def getVals(df, attribute):\\n    \"\"\"returns the DISTINCT values of a specified attribute from a dataset\"\"\"\\n    vals = []\\n    for val in list(df[attribute]):\\n        if val not in vals:\\n            vals += [val]\\n    vals.sort()\\n    return vals',\n",
       " 'def GINI(data, classifier):\\n    \"\"\"returns the Gini of the given node, based on the Class\"\"\"\\n    classVals=getVals(data,classifier)\\n    cl=data[classifier]\\n    sqSum = 0\\n    for val in classVals:\\n        sqSum += (len(cl[cl==val])/len(data))**2\\n    GINI= 1-sqSum\\n    return GINI',\n",
       " 'def createNode(D, A, nodeType, level, classifier, minNum=5,alpha=0.5, default = 0):\\n    node = {}\\n    node[\"tree\"] = D\\n    node[\"attributes\"] = A\\n    node[\"type\"] = nodeType\\n    node[\"level\"] = level\\n    node[\"classifier\"] = classifier\\n    node[\"others\"]=[minNum,alpha,default]\\n    node[\"gini\"]=float(GINI(D,classifier))\\n    return node',\n",
       " 'def BuildDecisionTree(root):\\n    A = list(root[\"attributes\"])\\n    if(len(root[\"attributes\"])==1):\\n        decision,_= [attribute, value] = bestCandidate1(root)\\n        A.remove(attribute)\\n        left,right = split(root, attribute, value)\\n        yes= createNode(left, A, \"leaf\", root[\"level\"]+1, root[\"classifier\"])\\n        no= createNode(right, A, \"leaf\", root[\"level\"]+1, root[\"classifier\"])\\n    else:\\n        decision,_= [attribute, value] = bestCandidate(root)\\n        print(root[\"level\"], decision)\\n        A.remove(attribute)\\n        left,right = split(root, attribute, value)\\n        root[\"left\"]  = createNode(left , A, \"intermediate\", root[\"level\"]+1, root[\"classifier\"])\\n        root[\"right\"] = createNode(right, A, \"intermediate\", root[\"level\"]+1, root[\"classifier\"])\\n        BuildDecisionTree(root[\"left\"])\\n        BuildDecisionTree(root[\"right\"])',\n",
       " 'import numpy as np\\nimport pandas as pd\\n\\ndf=pd.read_csv(\\'data.csv\\')\\ndf=df[:20]\\nA=list(df.columns[:-1])\\nclassifier=df.columns[-1]\\nD = df\\nminNum = 5\\nalpha = 0.5\\ndefault = 0\\ntree=root= createNode(D, A, \"root\", 0, classifier)\\nBuildDecisionTree(tree)',\n",
       " 'bestCandidate(root)',\n",
       " 'tree',\n",
       " 'import numpy as np\\nimport pandas as pd\\n\\ndf=pd.read_csv(\\'data.csv\\')\\ndf=df[:20]\\nA=list(df.columns[:-1])\\nclassifier=df.columns[-1]\\nD = df\\nminNum = 5\\nalpha = 0.5\\ndefault = 0\\ntree=root= createNode(D, A, \"root\", 0, classifier)\\nBuildDecisionTree(tree)',\n",
       " 'import numpy as np\\nimport pandas as pd\\n\\ndf=pd.read_csv(\\'data.csv\\')\\ndf=df[:20]\\nA=list(df.columns[:-1])\\nclassifier=df.columns[-1]\\nD = df\\nminNum = 5\\nalpha = 0.5\\ndefault = 0\\ntree=root= createNode(D, A, \"root\", 0, classifier)\\nBuildDecisionTree(tree)',\n",
       " 'def BuildDecisionTree(root):\\n    A = list(root[\"attributes\"])\\n    if(len(root[\"attributes\"])==1):\\n        decision,_= [attribute, value],_ = bestCandidate1(root)\\n        A.remove(attribute)\\n        left,right = split(root, attribute, value)\\n        yes= createNode(left, A, \"leaf\", root[\"level\"]+1, root[\"classifier\"])\\n        no= createNode(right, A, \"leaf\", root[\"level\"]+1, root[\"classifier\"])\\n    else:\\n        decision,_= [attribute, value],_ = bestCandidate(root)\\n        print(root[\"level\"], decision)\\n        A.remove(attribute)\\n        left,right = split(root, attribute, value)\\n        root[\"left\"]  = createNode(left , A, \"intermediate\", root[\"level\"]+1, root[\"classifier\"])\\n        root[\"right\"] = createNode(right, A, \"intermediate\", root[\"level\"]+1, root[\"classifier\"])\\n        BuildDecisionTree(root[\"left\"])\\n        BuildDecisionTree(root[\"right\"])',\n",
       " 'import numpy as np\\nimport pandas as pd\\n\\ndf=pd.read_csv(\\'data.csv\\')\\ndf=df[:20]\\nA=list(df.columns[:-1])\\nclassifier=df.columns[-1]\\nD = df\\nminNum = 5\\nalpha = 0.5\\ndefault = 0\\ntree=root= createNode(D, A, \"root\", 0, classifier)\\nBuildDecisionTree(tree)',\n",
       " 'tree',\n",
       " 'bestCandidate(root)',\n",
       " 'def GINIsplit(node, attribute, value):\\n    \"\"\"returns the Gini of the split if applied on the given attribute\"\"\"\\n    [yes,no]=split(node, attribute, value)\\n    gini = (GINI(yes,node[\"classifier\"])*len(yes)+GINI(no, node[\"classifier\"])*len(no))/len(node)\\n    print(gini)\\n    del yes\\n    del no\\n    return gini',\n",
       " 'def bestCandidate(tree):\\n    tests={}\\n    atts = tree[\\'attributes\\']\\n    for att in atts:\\n        vals = getVals(tree[\"tree\"],att)\\n        tests[att]=vals\\n    \\n    ginis={}\\n    for test in tests:\\n        vals = tests[test][1:] #skip the first value since it is the infimum\\n        \\n        for val in vals:\\n            ginis[(test,val)]=GINIsplit(tree, test, val)\\n    best=max(ginis, key=ginis.get)\\n    return best,ginis',\n",
       " 'def getVals(df, attribute):\\n    \"\"\"returns the DISTINCT values of a specified attribute from a dataset\"\"\"\\n    vals = []\\n    for val in list(df[attribute]):\\n        if val not in vals:\\n            vals += [val]\\n    vals.sort()\\n    return vals',\n",
       " 'def GINI(data, classifier):\\n    \"\"\"returns the Gini of the given node, based on the Class\"\"\"\\n    classVals=getVals(data,classifier)\\n    cl=data[classifier]\\n    sqSum = 0\\n    for val in classVals:\\n        sqSum += (len(cl[cl==val])/len(data))**2\\n    GINI= 1-sqSum\\n    return GINI',\n",
       " 'def createNode(D, A, nodeType, level, classifier, minNum=5,alpha=0.5, default = 0):\\n    node = {}\\n    node[\"tree\"] = D\\n    node[\"attributes\"] = A\\n    node[\"type\"] = nodeType\\n    node[\"level\"] = level\\n    node[\"classifier\"] = classifier\\n    node[\"others\"]=[minNum,alpha,default]\\n    node[\"gini\"]=float(GINI(D,classifier))\\n    return node',\n",
       " 'def BuildDecisionTree(root):\\n    A = list(root[\"attributes\"])\\n    if(len(root[\"attributes\"])==1):\\n        decision,_= [attribute, value],_ = bestCandidate1(root)\\n        A.remove(attribute)\\n        left,right = split(root, attribute, value)\\n        yes= createNode(left, A, \"leaf\", root[\"level\"]+1, root[\"classifier\"])\\n        no= createNode(right, A, \"leaf\", root[\"level\"]+1, root[\"classifier\"])\\n    else:\\n        decision,_= [attribute, value],_ = bestCandidate(root)\\n        print(root[\"level\"], decision)\\n        A.remove(attribute)\\n        left,right = split(root, attribute, value)\\n        root[\"left\"]  = createNode(left , A, \"intermediate\", root[\"level\"]+1, root[\"classifier\"])\\n        root[\"right\"] = createNode(right, A, \"intermediate\", root[\"level\"]+1, root[\"classifier\"])\\n        BuildDecisionTree(root[\"left\"])\\n        BuildDecisionTree(root[\"right\"])',\n",
       " 'import numpy as np\\nimport pandas as pd\\n\\ndf=pd.read_csv(\\'data.csv\\')\\ndf=df[:20]\\nA=list(df.columns[:-1])\\nclassifier=df.columns[-1]\\nD = df\\nminNum = 5\\nalpha = 0.5\\ndefault = 0\\ntree=root= createNode(D, A, \"root\", 0, classifier)\\nBuildDecisionTree(tree)',\n",
       " 'def GINIsplit(node, attribute, value):\\n    \"\"\"returns the Gini of the split if applied on the given attribute\"\"\"\\n    [yes,no]=split(node, attribute, value)\\n    gini = (GINI(yes,node[\"classifier\"])*len(yes)+GINI(no, node[\"classifier\"])*len(no))/len(node[\"tree\"])\\n    print(gini,len(yes),len(no),len(node))\\n    del yes\\n    del no\\n    return gini',\n",
       " 'def bestCandidate(tree):\\n    tests={}\\n    atts = tree[\\'attributes\\']\\n    for att in atts:\\n        vals = getVals(tree[\"tree\"],att)\\n        tests[att]=vals\\n    \\n    ginis={}\\n    for test in tests:\\n        vals = tests[test][1:] #skip the first value since it is the infimum\\n        \\n        for val in vals:\\n            ginis[(test,val)]=GINIsplit(tree, test, val)\\n    best=max(ginis, key=ginis.get)\\n    return best,ginis',\n",
       " 'def getVals(df, attribute):\\n    \"\"\"returns the DISTINCT values of a specified attribute from a dataset\"\"\"\\n    vals = []\\n    for val in list(df[attribute]):\\n        if val not in vals:\\n            vals += [val]\\n    vals.sort()\\n    return vals',\n",
       " 'def GINI(data, classifier):\\n    \"\"\"returns the Gini of the given node, based on the Class\"\"\"\\n    classVals=getVals(data,classifier)\\n    cl=data[classifier]\\n    sqSum = 0\\n    for val in classVals:\\n        sqSum += (len(cl[cl==val])/len(data))**2\\n    GINI= 1-sqSum\\n    return GINI',\n",
       " 'def createNode(D, A, nodeType, level, classifier, minNum=5,alpha=0.5, default = 0):\\n    node = {}\\n    node[\"tree\"] = D\\n    node[\"attributes\"] = A\\n    node[\"type\"] = nodeType\\n    node[\"level\"] = level\\n    node[\"classifier\"] = classifier\\n    node[\"others\"]=[minNum,alpha,default]\\n    node[\"gini\"]=float(GINI(D,classifier))\\n    return node',\n",
       " 'def BuildDecisionTree(root):\\n    A = list(root[\"attributes\"])\\n    if(len(root[\"attributes\"])==1):\\n        decision,_= [attribute, value],_ = bestCandidate1(root)\\n        A.remove(attribute)\\n        left,right = split(root, attribute, value)\\n        yes= createNode(left, A, \"leaf\", root[\"level\"]+1, root[\"classifier\"])\\n        no= createNode(right, A, \"leaf\", root[\"level\"]+1, root[\"classifier\"])\\n    else:\\n        decision,_= [attribute, value],_ = bestCandidate(root)\\n        print(root[\"level\"], decision)\\n        A.remove(attribute)\\n        left,right = split(root, attribute, value)\\n        root[\"left\"]  = createNode(left , A, \"intermediate\", root[\"level\"]+1, root[\"classifier\"])\\n        root[\"right\"] = createNode(right, A, \"intermediate\", root[\"level\"]+1, root[\"classifier\"])\\n        BuildDecisionTree(root[\"left\"])\\n        BuildDecisionTree(root[\"right\"])',\n",
       " 'import numpy as np\\nimport pandas as pd\\n\\ndf=pd.read_csv(\\'data.csv\\')\\ndf=df[:20]\\nA=list(df.columns[:-1])\\nclassifier=df.columns[-1]\\nD = df\\nminNum = 5\\nalpha = 0.5\\ndefault = 0\\ntree=root= createNode(D, A, \"root\", 0, classifier)\\nBuildDecisionTree(tree)',\n",
       " 'tree',\n",
       " 'bestCandidate(root)',\n",
       " 'import numpy as np\\nimport pandas as pd\\n\\ndf=pd.read_csv(\\'data.csv\\')\\ndf=df[:20]\\nA=list(df.columns[:-1])\\nclassifier=df.columns[-1]\\nD = df\\nminNum = 5\\nalpha = 0.5\\ndefault = 0\\ntree=root= createNode(D, A, \"root\", 0, classifier)\\nBuildDecisionTree(tree)',\n",
       " 'def GINIsplit(node, attribute, value):\\n    \"\"\"returns the Gini of the split if applied on the given attribute\"\"\"\\n    [yes,no]=split(node, attribute, value)\\n    gini = (GINI(yes,node[\"classifier\"])*len(yes)+GINI(no, node[\"classifier\"])*len(no))/len(node[\"tree\"])\\n    del yes\\n    del no\\n    return gini',\n",
       " 'def bestCandidate(tree):\\n    tests={}\\n    atts = tree[\\'attributes\\']\\n    for att in atts:\\n        vals = getVals(tree[\"tree\"],att)\\n        tests[att]=vals\\n    \\n    ginis={}\\n    for test in tests:\\n        vals = tests[test][1:] #skip the first value since it is the infimum\\n        \\n        for val in vals:\\n            ginis[(test,val)]=GINIsplit(tree, test, val)\\n    best=max(ginis, key=ginis.get)\\n    return best,ginis',\n",
       " 'def bestCandidate(tree):\\n    tests={}\\n    atts = tree[\\'attributes\\']\\n    for att in atts:\\n        vals = getVals(tree[\"tree\"],att)\\n        tests[att]=vals\\n    \\n    ginis={}\\n    for test in tests:\\n        vals = tests[test][1:] #skip the first value since it is the infimum\\n        \\n        for val in vals:\\n            ginis[(test,val)]=GINIsplit(tree, test, val)\\n    best=max(ginis, key=ginis.get)\\n    return best,ginis',\n",
       " 'def getVals(df, attribute):\\n    \"\"\"returns the DISTINCT values of a specified attribute from a dataset\"\"\"\\n    vals = []\\n    for val in list(df[attribute]):\\n        if val not in vals:\\n            vals += [val]\\n    vals.sort()\\n    return vals',\n",
       " 'def GINI(data, classifier):\\n    \"\"\"returns the Gini of the given node, based on the Class\"\"\"\\n    classVals=getVals(data,classifier)\\n    cl=data[classifier]\\n    sqSum = 0\\n    for val in classVals:\\n        sqSum += (len(cl[cl==val])/len(data))**2\\n    GINI= 1-sqSum\\n    return GINI',\n",
       " 'def createNode(D, A, nodeType, level, classifier, minNum=5,alpha=0.5, default = 0):\\n    node = {}\\n    node[\"tree\"] = D\\n    node[\"attributes\"] = A\\n    node[\"type\"] = nodeType\\n    node[\"level\"] = level\\n    node[\"classifier\"] = classifier\\n    node[\"others\"]=[minNum,alpha,default]\\n    node[\"gini\"]=float(GINI(D,classifier))\\n    return node',\n",
       " 'def BuildDecisionTree(root):\\n    A = list(root[\"attributes\"])\\n    if(len(root[\"attributes\"])==1):\\n        decision,_= [attribute, value],_ = bestCandidate1(root)\\n        A.remove(attribute)\\n        left,right = split(root, attribute, value)\\n        yes= createNode(left, A, \"leaf\", root[\"level\"]+1, root[\"classifier\"])\\n        no= createNode(right, A, \"leaf\", root[\"level\"]+1, root[\"classifier\"])\\n    else:\\n        decision,_= [attribute, value],_ = bestCandidate(root)\\n        print(root[\"level\"], decision)\\n        A.remove(attribute)\\n        left,right = split(root, attribute, value)\\n        root[\"left\"]  = createNode(left , A, \"intermediate\", root[\"level\"]+1, root[\"classifier\"])\\n        root[\"right\"] = createNode(right, A, \"intermediate\", root[\"level\"]+1, root[\"classifier\"])\\n        BuildDecisionTree(root[\"left\"])\\n        BuildDecisionTree(root[\"right\"])',\n",
       " 'import numpy as np\\nimport pandas as pd\\n\\ndf=pd.read_csv(\\'data.csv\\')\\ndf=df[:20]\\nA=list(df.columns[:-1])\\nclassifier=df.columns[-1]\\nD = df\\nminNum = 5\\nalpha = 0.5\\ndefault = 0\\ntree=root= createNode(D, A, \"root\", 0, classifier)\\nBuildDecisionTree(tree)',\n",
       " 'tree',\n",
       " 'def BuildDecisionTree(root):\\n    A = list(root[\"attributes\"])\\n    if(len(root[\"tree\"])<=5)\\n        return\\n    if(len(root[\"attributes\"])==1):\\n        decision,_= [attribute, value],_ = bestCandidate1(root)\\n        A.remove(attribute)\\n        left,right = split(root, attribute, value)\\n        yes= createNode(left, A, \"leaf\", root[\"level\"]+1, root[\"classifier\"])\\n        no= createNode(right, A, \"leaf\", root[\"level\"]+1, root[\"classifier\"])\\n    else:\\n        decision,_= [attribute, value],_ = bestCandidate(root)\\n        print(root[\"level\"], decision)\\n        A.remove(attribute)\\n        left,right = split(root, attribute, value)\\n        root[\"left\"]  = createNode(left , A, \"intermediate\", root[\"level\"]+1, root[\"classifier\"])\\n        root[\"right\"] = createNode(right, A, \"intermediate\", root[\"level\"]+1, root[\"classifier\"])\\n        BuildDecisionTree(root[\"left\"])\\n        BuildDecisionTree(root[\"right\"])',\n",
       " 'def BuildDecisionTree(root):\\n    A = list(root[\"attributes\"])\\n    if(len(root[\"tree\"])<=5):\\n        return\\n    if(len(root[\"attributes\"])==1):\\n        decision,_= [attribute, value],_ = bestCandidate1(root)\\n        A.remove(attribute)\\n        left,right = split(root, attribute, value)\\n        yes= createNode(left, A, \"leaf\", root[\"level\"]+1, root[\"classifier\"])\\n        no= createNode(right, A, \"leaf\", root[\"level\"]+1, root[\"classifier\"])\\n    else:\\n        decision,_= [attribute, value],_ = bestCandidate(root)\\n        print(root[\"level\"], decision)\\n        A.remove(attribute)\\n        left,right = split(root, attribute, value)\\n        root[\"left\"]  = createNode(left , A, \"intermediate\", root[\"level\"]+1, root[\"classifier\"])\\n        root[\"right\"] = createNode(right, A, \"intermediate\", root[\"level\"]+1, root[\"classifier\"])\\n        BuildDecisionTree(root[\"left\"])\\n        BuildDecisionTree(root[\"right\"])',\n",
       " 'import numpy as np\\nimport pandas as pd\\n\\ndf=pd.read_csv(\\'data.csv\\')\\ndf=df[:20]\\nA=list(df.columns[:-1])\\nclassifier=df.columns[-1]\\nD = df\\nminNum = 5\\nalpha = 0.5\\ndefault = 0\\ntree=root= createNode(D, A, \"root\", 0, classifier)\\nBuildDecisionTree(tree)',\n",
       " 'tree',\n",
       " 'bestCandidate(root)',\n",
       " 'bestCandidate(root)',\n",
       " 'tree,classifier',\n",
       " 'df[classifier]',\n",
       " 'tree',\n",
       " \"split(root,'Sex',1)\",\n",
       " \"split(root,'Sex',1)\\nGINIsplit(root,'Sex',1)\",\n",
       " \"split(root,'Embarked',1)\",\n",
       " \"split(root,'Embarked',2)\",\n",
       " 'split(root,\\'Sex\\',1)\\n[yes,no]=split(tree, \\'Sex\\', 1)\\na=GINI(yes,tree[\"classifier\"])*len(yes)+GINI(no, node[\"classifier\"])*len(no)\\na/=len(node[\"tree\"])\\na',\n",
       " 'split(root,\\'Sex\\',1)\\n[yes,no]=split(tree, \\'Sex\\', 1)\\na=GINI(yes,tree[\"classifier\"])*len(yes)+GINI(no, node[\"classifier\"])*len(no)\\na/=len(tree[\"tree\"])\\na',\n",
       " 'split(root,\\'Sex\\',1)\\n[yes,no]=split(tree, \\'Sex\\', 1)\\na=GINI(yes,tree[\"classifier\"])*len(yes)+GINI(no, tree[\"classifier\"])*len(no)\\na/=len(tree[\"tree\"])\\na',\n",
       " 'split(root,\\'Sex\\',1)\\n[yes,no]=split(tree, \\'Sex\\', 1)\\na=GINI(yes,tree[\"classifier\"])*len(yes)+GINI(no, tree[\"classifier\"])*len(no)\\nlen(tree[\"tree\"])',\n",
       " 'split(root,\\'Sex\\',1)\\n[yes,no]=split(tree, \\'Sex\\', 1)\\na=GINI(yes,tree[\"classifier\"])*len(yes)+GINI(no, tree[\"classifier\"])*len(no)\\n\\nlen(no)',\n",
       " 'split(root,\\'Sex\\',1)\\n[yes,no]=split(tree, \\'Sex\\', 1)\\na=GINI(yes,tree[\"classifier\"])*len(yes)+GINI(no, tree[\"classifier\"])*len(no)\\n\\nlen(no)\\nsplit(tree, \\'Sex\\', 1)\\nlen(yes)',\n",
       " 'split(root,\\'Sex\\',1)\\n[yes,no]=split(tree, \\'Sex\\', 1)\\na=GINI(yes,tree[\"classifier\"])*len(yes)+GINI(no, tree[\"classifier\"])*len(no)\\n\\nlen(no)\\nsplit(tree, \\'Sex\\', 1)',\n",
       " 'split(root,\\'Sex\\',1)\\n[yes,no]=split(tree, \\'Sex\\', 1)\\na=GINI(yes,tree[\"classifier\"])*len(yes)+GINI(no, tree[\"classifier\"])*len(no)\\n\\nlen(no)\\nGINI(yes,tree[\"classifier\"])',\n",
       " 'split(root,\\'Sex\\',1)\\n[yes,no]=split(tree, \\'Sex\\', 1)\\na=GINI(yes,tree[\"classifier\"])*len(yes)+GINI(no, tree[\"classifier\"])*len(no)\\n\\nlen(no)\\nGINI(no,tree[\"classifier\"])',\n",
       " 'split(root,\\'Sex\\',1)\\n[yes,no]=split(tree, \\'Sex\\', 1)\\na=GINI(yes,tree[\"classifier\"])*len(yes)+GINI(no, tree[\"classifier\"])*len(no)\\n\\nlen(no)\\nGINI(no,tree[\"classifier\"])\\nyes',\n",
       " 'split(root,\\'Sex\\',1)\\n[yes,no]=split(tree, \\'Sex\\', 1)\\na=GINI(yes,tree[\"classifier\"])*len(yes)+GINI(no, tree[\"classifier\"])*len(no)\\n\\nlen(no)\\nGINI(yes,tree[\"classifier\"])',\n",
       " 'split(root,\\'Sex\\',1)\\n[yes,no]=split(tree, \\'Sex\\', 1)\\na=GINI(yes,tree[\"classifier\"])*len(yes)+GINI(no, tree[\"classifier\"])*len(no)\\na',\n",
       " 'split(root,\\'Sex\\',1)\\n[yes,no]=split(tree, \\'Sex\\', 1)\\n(GINI(yes,tree[\"classifier\"])*len(yes)+GINI(no, tree[\"classifier\"])*len(no))/len(root)',\n",
       " 'split(root,\\'Sex\\',1)\\n[yes,no]=split(tree, \\'Sex\\', 1)\\n(GINI(yes,tree[\"classifier\"])*len(yes)+GINI(no, tree[\"classifier\"])*len(no))/len(root[\"tree\"])',\n",
       " 'def bestCandidate(tree):\\n    tests={}\\n    atts = tree[\\'attributes\\']\\n    for att in atts:\\n        vals = getVals(tree[\"tree\"],att)\\n        tests[att]=vals\\n    \\n    ginis={}\\n    for test in tests:\\n        vals = tests[test][1:] #skip the first value since it is the infimum\\n        \\n        for val in vals:\\n            ginis[(test,val)]=GINIsplit(tree, test, val)\\n    best=min(ginis, key=ginis.get)\\n    return best,ginis',\n",
       " 'def getVals(df, attribute):\\n    \"\"\"returns the DISTINCT values of a specified attribute from a dataset\"\"\"\\n    vals = []\\n    for val in list(df[attribute]):\\n        if val not in vals:\\n            vals += [val]\\n    vals.sort()\\n    return vals',\n",
       " 'def GINI(data, classifier):\\n    \"\"\"returns the Gini of the given node, based on the Class\"\"\"\\n    classVals=getVals(data,classifier)\\n    cl=data[classifier]\\n    sqSum = 0\\n    for val in classVals:\\n        sqSum += (len(cl[cl==val])/len(data))**2\\n    GINI= 1-sqSum\\n    return GINI',\n",
       " 'def createNode(D, A, nodeType, level, classifier, minNum=5,alpha=0.5, default = 0):\\n    node = {}\\n    node[\"tree\"] = D\\n    node[\"attributes\"] = A\\n    node[\"type\"] = nodeType\\n    node[\"level\"] = level\\n    node[\"classifier\"] = classifier\\n    node[\"others\"]=[minNum,alpha,default]\\n    node[\"gini\"]=float(GINI(D,classifier))\\n    return node',\n",
       " 'def BuildDecisionTree(root):\\n    A = list(root[\"attributes\"])\\n    if(len(root[\"tree\"])<=5):\\n        return\\n    if(len(root[\"attributes\"])==1):\\n        decision,_= [attribute, value],_ = bestCandidate1(root)\\n        A.remove(attribute)\\n        left,right = split(root, attribute, value)\\n        yes= createNode(left, A, \"leaf\", root[\"level\"]+1, root[\"classifier\"])\\n        no= createNode(right, A, \"leaf\", root[\"level\"]+1, root[\"classifier\"])\\n    else:\\n        decision,_= [attribute, value],_ = bestCandidate(root)\\n        print(root[\"level\"], decision)\\n        A.remove(attribute)\\n        left,right = split(root, attribute, value)\\n        root[\"left\"]  = createNode(left , A, \"intermediate\", root[\"level\"]+1, root[\"classifier\"])\\n        root[\"right\"] = createNode(right, A, \"intermediate\", root[\"level\"]+1, root[\"classifier\"])\\n        BuildDecisionTree(root[\"left\"])\\n        BuildDecisionTree(root[\"right\"])',\n",
       " 'import numpy as np\\nimport pandas as pd\\n\\ndf=pd.read_csv(\\'data.csv\\')\\ndf=df[:20]\\nA=list(df.columns[:-1])\\nclassifier=df.columns[-1]\\nD = df\\nminNum = 5\\nalpha = 0.5\\ndefault = 0\\ntree=root= createNode(D, A, \"root\", 0, classifier)\\nBuildDecisionTree(tree)',\n",
       " 'def bestCandidate(tree):\\n    tests={}\\n    atts = tree[\\'attributes\\']\\n    for att in atts:\\n        vals = getVals(tree[\"tree\"],att)\\n        tests[att]=vals\\n    \\n    ginis={}\\n    for test in tests:\\n        vals = tests[test][1:] #skip the first value since it is the infimum\\n        \\n        for val in vals:\\n            ginis[(test,val)]=GINIsplit(tree, test, val)\\n    best=min(ginis, key=ginis.get)\\n    return best',\n",
       " 'def getVals(df, attribute):\\n    \"\"\"returns the DISTINCT values of a specified attribute from a dataset\"\"\"\\n    vals = []\\n    for val in list(df[attribute]):\\n        if val not in vals:\\n            vals += [val]\\n    vals.sort()\\n    return vals',\n",
       " 'def GINI(data, classifier):\\n    \"\"\"returns the Gini of the given node, based on the Class\"\"\"\\n    classVals=getVals(data,classifier)\\n    cl=data[classifier]\\n    sqSum = 0\\n    for val in classVals:\\n        sqSum += (len(cl[cl==val])/len(data))**2\\n    GINI= 1-sqSum\\n    return GINI',\n",
       " 'def createNode(D, A, nodeType, level, classifier, minNum=5,alpha=0.5, default = 0):\\n    node = {}\\n    node[\"tree\"] = D\\n    node[\"attributes\"] = A\\n    node[\"type\"] = nodeType\\n    node[\"level\"] = level\\n    node[\"classifier\"] = classifier\\n    node[\"others\"]=[minNum,alpha,default]\\n    node[\"gini\"]=float(GINI(D,classifier))\\n    return node',\n",
       " 'def BuildDecisionTree(root):\\n    A = list(root[\"attributes\"])\\n    if(len(root[\"tree\"])<=5):\\n        return\\n    if(len(root[\"attributes\"])==1):\\n        decision,_= [attribute, value],_ = bestCandidate1(root)\\n        A.remove(attribute)\\n        left,right = split(root, attribute, value)\\n        yes= createNode(left, A, \"leaf\", root[\"level\"]+1, root[\"classifier\"])\\n        no= createNode(right, A, \"leaf\", root[\"level\"]+1, root[\"classifier\"])\\n    else:\\n        decision,_= [attribute, value],_ = bestCandidate(root)\\n        print(root[\"level\"], decision)\\n        A.remove(attribute)\\n        left,right = split(root, attribute, value)\\n        root[\"left\"]  = createNode(left , A, \"intermediate\", root[\"level\"]+1, root[\"classifier\"])\\n        root[\"right\"] = createNode(right, A, \"intermediate\", root[\"level\"]+1, root[\"classifier\"])\\n        BuildDecisionTree(root[\"left\"])\\n        BuildDecisionTree(root[\"right\"])',\n",
       " 'import numpy as np\\nimport pandas as pd\\n\\ndf=pd.read_csv(\\'data.csv\\')\\ndf=df[:20]\\nA=list(df.columns[:-1])\\nclassifier=df.columns[-1]\\nD = df\\nminNum = 5\\nalpha = 0.5\\ndefault = 0\\ntree=root= createNode(D, A, \"root\", 0, classifier)\\nBuildDecisionTree(tree)',\n",
       " 'tree',\n",
       " 'def split(node, attribute, value):\\n    \"\"\"returns two nodes based on a given split (attribute < value), input is node dict\"\"\"\\n    data = node[\"tree\"]\\n    yes = data[data[attribute] < value]\\n    no = data[data[attribute] >= value]\\n    return yes,no',\n",
       " 'def GINIsplit(node, attribute, value):\\n    \"\"\"returns the Gini of the split if applied on the given attribute\"\"\"\\n    [yes,no]=split(node, attribute, value)\\n    gini = (GINI(yes,node[\"classifier\"])*len(yes)+GINI(no, node[\"classifier\"])*len(no))/len(node[\"tree\"])\\n    del yes\\n    del no\\n    return gini',\n",
       " 'def bestCandidate(tree):\\n    tests={}\\n    atts = tree[\\'attributes\\']\\n    for att in atts:\\n        vals = getVals(tree[\"tree\"],att)\\n        tests[att]=vals\\n    \\n    ginis={}\\n    for test in tests:\\n        vals = tests[test][1:] #skip the first value since it is the infimum\\n        \\n        for val in vals:\\n            ginis[(test,val)]=GINIsplit(tree, test, val)\\n    best=min(ginis, key=ginis.get)\\n    return best',\n",
       " 'def getVals(df, attribute):\\n    \"\"\"returns the DISTINCT values of a specified attribute from a dataset\"\"\"\\n    vals = []\\n    for val in list(df[attribute]):\\n        if val not in vals:\\n            vals += [val]\\n    vals.sort()\\n    return vals',\n",
       " 'def GINI(data, classifier):\\n    \"\"\"returns the Gini of the given node, based on the Class\"\"\"\\n    classVals=getVals(data,classifier)\\n    cl=data[classifier]\\n    sqSum = 0\\n    for val in classVals:\\n        sqSum += (len(cl[cl==val])/len(data))**2\\n    GINI= 1-sqSum\\n    return GINI',\n",
       " 'def createNode(D, A, nodeType, level, classifier, minNum=5,alpha=0.5, default = 0):\\n    node = {}\\n    node[\"tree\"] = D\\n    node[\"attributes\"] = A\\n    node[\"type\"] = nodeType\\n    node[\"level\"] = level\\n    node[\"classifier\"] = classifier\\n    node[\"others\"]=[minNum,alpha,default]\\n    node[\"gini\"]=float(GINI(D,classifier))\\n    return node',\n",
       " 'def BuildDecisionTree(root):\\n    A = list(root[\"attributes\"])\\n    if(len(root[\"tree\"])<=5):\\n        return\\n    if(len(root[\"attributes\"])==1):\\n        decision= [attribute, value] = bestCandidate1(root)\\n        A.remove(attribute)\\n        left,right = split(root, attribute, value)\\n        yes= createNode(left, A, \"leaf\", root[\"level\"]+1, root[\"classifier\"])\\n        no= createNode(right, A, \"leaf\", root[\"level\"]+1, root[\"classifier\"])\\n    else:\\n        decision= [attribute, value] = bestCandidate(root)\\n        print(root[\"level\"], decision)\\n        A.remove(attribute)\\n        left,right = split(root, attribute, value)\\n        root[\"left\"]  = createNode(left , A, \"intermediate\", root[\"level\"]+1, root[\"classifier\"])\\n        root[\"right\"] = createNode(right, A, \"intermediate\", root[\"level\"]+1, root[\"classifier\"])\\n        BuildDecisionTree(root[\"left\"])\\n        BuildDecisionTree(root[\"right\"])',\n",
       " 'import numpy as np\\nimport pandas as pd\\n\\ndf=pd.read_csv(\\'data.csv\\')\\ndf=df[:20]\\nA=list(df.columns[:-1])\\nclassifier=df.columns[-1]\\nD = df\\nminNum = 5\\nalpha = 0.5\\ndefault = 0\\ntree=root= createNode(D, A, \"root\", 0, classifier)\\nBuildDecisionTree(tree)',\n",
       " 'tree',\n",
       " 'len(tree)',\n",
       " 'tree',\n",
       " 'def BuildDecisionTree(root):\\n    A = list(root[\"attributes\"])\\n    if(len(root[\"tree\"])<=5):\\n        return\\n    if(len(root[\"attributes\"])==1):\\n        decision= [attribute, value] = bestCandidate(root)\\n        A.remove(attribute)\\n        left,right = split(root, attribute, value)\\n        yes= createNode(left, A, \"leaf\", root[\"level\"]+1, root[\"classifier\"])\\n        no= createNode(right, A, \"leaf\", root[\"level\"]+1, root[\"classifier\"])\\n    else:\\n        decision= [attribute, value] = bestCandidate(root)\\n        print(root[\"level\"], decision)\\n        A.remove(attribute)\\n        left,right = split(root, attribute, value)\\n        root[\"left\"]  = createNode(left , A, len(left)\"intermediate\", root[\"level\"]+1, root[\"classifier\"])\\n        root[\"right\"] = createNode(right, A, \"intermediate\", root[\"level\"]+1, root[\"classifier\"])\\n        BuildDecisionTree(root[\"left\"])\\n        BuildDecisionTree(root[\"right\"])',\n",
       " 'def BuildDecisionTree(root):\\n    A = list(root[\"attributes\"])\\n    if(len(root[\"tree\"])<=5):\\n        return\\n    if(len(root[\"attributes\"])==1):\\n        decision= [attribute, value] = bestCandidate(root)\\n        A.remove(attribute)\\n        left,right = split(root, attribute, value)\\n        yes= createNode(left, A, \"leaf\", root[\"level\"]+1, root[\"classifier\"])\\n        no= createNode(right, A, \"leaf\", root[\"level\"]+1, root[\"classifier\"])\\n    else:\\n        decision= [attribute, value] = bestCandidate(root)\\n        print(root[\"level\"], decision)\\n        A.remove(attribute)\\n        left,right = split(root, attribute, value)\\n        root[\"left\"]  = createNode(left , A, \"intermediate\", root[\"level\"]+1, root[\"classifier\"])\\n        root[\"right\"] = createNode(right, A, \"intermediate\", root[\"level\"]+1, root[\"classifier\"])\\n        BuildDecisionTree(root[\"left\"])\\n        BuildDecisionTree(root[\"right\"])',\n",
       " 'import numpy as np\\nimport pandas as pd\\n\\ndf=pd.read_csv(\\'data.csv\\')\\ndf=df[:20]\\nA=list(df.columns[:-1])\\nclassifier=df.columns[-1]\\nD = df\\nminNum = 5\\nalpha = 0.5\\ndefault = 0\\ntree=root= createNode(D, A, \"root\", 0, classifier)\\nBuildDecisionTree(tree)',\n",
       " 'tree',\n",
       " 'import numpy as np\\nimport pandas as pd\\n\\ndf=pd.read_csv(\\'data.csv\\')\\ndf=df[:20]\\nA=list(df.columns[:-1])\\nclassifier=df.columns[-1]\\nD = df\\nminNum = 5\\nalpha = 0.5\\ndefault = 0\\ntree=root= createNode(D, A, \"root\", 0, classifier)\\nBuildDecisionTree(tree)',\n",
       " 'def BuildDecisionTree(root):\\n    A = list(root[\"attributes\"])\\n    if(len(root[\"tree\"])<=5):\\n        return\\n    if(len(root[\"attributes\"])==1):\\n        decision= [attribute, value] = bestCandidate(root)\\n        A.remove(attribute)\\n        left,right = split(root, attribute, value)\\n        yes= createNode(left, A, \"leaf\", root[\"level\"]+1, root[\"classifier\"])\\n        no= createNode(right, A, \"leaf\", root[\"level\"]+1, root[\"classifier\"])\\n    else:\\n        decision= [attribute, value] = bestCandidate(root)\\n        A.remove(attribute)\\n        left,right = split(root, attribute, value)\\n        root[\"left\"]  = createNode(left , A, \"intermediate\", root[\"level\"]+1, root[\"classifier\"])\\n        root[\"right\"] = createNode(right, A, \"intermediate\", root[\"level\"]+1, root[\"classifier\"])\\n        BuildDecisionTree(root[\"left\"])\\n        BuildDecisionTree(root[\"right\"])',\n",
       " 'def BuildDecisionTree(root):\\n    A = list(root[\"attributes\"])\\n    if(len(root[\"tree\"])<=5):\\n        return\\n    if(len(root[\"attributes\"])==1):\\n        decision= [attribute, value] = bestCandidate(root)\\n        A.remove(attribute)\\n        left,right = split(root, attribute, value)\\n        root[\"left\"]  = createNode(left, A, \"leaf\", root[\"level\"]+1, root[\"classifier\"])\\n        root[\"right\"] = createNode(right, A, \"leaf\", root[\"level\"]+1, root[\"classifier\"])\\n        \\n    else:\\n        decision= [attribute, value] = bestCandidate(root)\\n        A.remove(attribute)\\n        left,right = split(root, attribute, value)\\n        root[\"left\"]  = createNode(left , A, \"intermediate\", root[\"level\"]+1, root[\"classifier\"])\\n        root[\"right\"] = createNode(right, A, \"intermediate\", root[\"level\"]+1, root[\"classifier\"])\\n        BuildDecisionTree(root[\"left\"])\\n        BuildDecisionTree(root[\"right\"])',\n",
       " 'import numpy as np\\nimport pandas as pd\\n\\ndf=pd.read_csv(\\'data.csv\\')\\ndf=df[:20]\\nA=list(df.columns[:-1])\\nclassifier=df.columns[-1]\\nD = df\\nminNum = 5\\nalpha = 0.5\\ndefault = 0\\ntree=root= createNode(D, A, \"root\", 0, classifier)\\nBuildDecisionTree(tree)',\n",
       " 'tree',\n",
       " 'def createNode(D, A, nodeType, level, classifier, minNum=5,alpha=0.5, default = 0):\\n    node = {}\\n    node[\"tree\"] = D\\n    node[\"attributes\"] = A\\n    node[\"type\"] = nodeType\\n    node[\"level\"] = level\\n    node[\"classifier\"] = classifier\\n    node[\"min\"]=minNum\\n    node[\"gini\"]=float(GINI(D,classifier))\\n    return node',\n",
       " 'def BuildDecisionTree(root):\\n    A = list(root[\"attributes\"])\\n    if(len(root[\"tree\"])<=5):\\n        return\\n    if(len(root[\"attributes\"])==1):\\n        decision= [attribute, value] = bestCandidate(root)\\n        A.remove(attribute)\\n        left,right = split(root, attribute, value)\\n        root[\"left\"]  = createNode(left, A, \"leaf\", root[\"level\"]+1, root[\"classifier\"])\\n        root[\"right\"] = createNode(right, A, \"leaf\", root[\"level\"]+1, root[\"classifier\"])\\n        \\n    else:\\n        decision= [attribute, value] = bestCandidate(root)\\n        A.remove(attribute)\\n        left,right = split(root, attribute, value)\\n        root[\"left\"]  = createNode(left , A, \"intermediate\", root[\"level\"]+1, root[\"classifier\"])\\n        root[\"right\"] = createNode(right, A, \"intermediate\", root[\"level\"]+1, root[\"classifier\"])\\n        BuildDecisionTree(root[\"left\"])\\n        BuildDecisionTree(root[\"right\"])',\n",
       " 'def BuildDecisionTree(root):\\n    A = list(root[\"attributes\"])\\n    if(len(root[\"tree\"])<=root[\"min\"]):\\n        return\\n    if(len(root[\"attributes\"])==1):\\n        decision= [attribute, value] = bestCandidate(root)\\n        A.remove(attribute)\\n        left,right = split(root, attribute, value)\\n        root[\"left\"]  = createNode(left, A, \"leaf\", root[\"level\"]+1, root[\"classifier\"])\\n        root[\"right\"] = createNode(right, A, \"leaf\", root[\"level\"]+1, root[\"classifier\"])\\n        \\n    else:\\n        decision= [attribute, value] = bestCandidate(root)\\n        A.remove(attribute)\\n        left,right = split(root, attribute, value)\\n        root[\"left\"]  = createNode(left , A, \"intermediate\", root[\"level\"]+1, root[\"classifier\"])\\n        root[\"right\"] = createNode(right, A, \"intermediate\", root[\"level\"]+1, root[\"classifier\"])\\n        BuildDecisionTree(root[\"left\"])\\n        BuildDecisionTree(root[\"right\"])',\n",
       " 'import numpy as np\\nimport pandas as pd\\n\\ndf=pd.read_csv(\\'data.csv\\')\\ndf=df[:20]\\nA=list(df.columns[:-1])\\nclassifier=df.columns[-1]\\nD = df\\nminNum = 5\\nalpha = 0.5\\ndefault = 0\\ntree=root= createNode(D, A, \"root\", 0, classifier)\\nBuildDecisionTree(tree)',\n",
       " 'tree',\n",
       " 'def BuildDecisionTree(root):\\n    A = list(root[\"attributes\"])\\n    if(len(root[\"tree\"])<=root[\"min\"] or root[\"gini\"]==0):\\n        return\\n    if(len(root[\"attributes\"])==1):\\n        decision= [attribute, value] = bestCandidate(root)\\n        A.remove(attribute)\\n        left,right = split(root, attribute, value)\\n        root[\"left\"]  = createNode(left, A, \"leaf\", root[\"level\"]+1, root[\"classifier\"])\\n        root[\"right\"] = createNode(right, A, \"leaf\", root[\"level\"]+1, root[\"classifier\"])\\n        \\n    else:\\n        decision= [attribute, value] = bestCandidate(root)\\n        A.remove(attribute)\\n        left,right = split(root, attribute, value)\\n        root[\"left\"]  = createNode(left , A, \"intermediate\", root[\"level\"]+1, root[\"classifier\"])\\n        root[\"right\"] = createNode(right, A, \"intermediate\", root[\"level\"]+1, root[\"classifier\"])\\n        BuildDecisionTree(root[\"left\"])\\n        BuildDecisionTree(root[\"right\"])',\n",
       " 'import numpy as np\\nimport pandas as pd\\n\\ndf=pd.read_csv(\\'data.csv\\')\\ndf=df[:20]\\nA=list(df.columns[:-1])\\nclassifier=df.columns[-1]\\nD = df\\nminNum = 5\\nalpha = 0.5\\ndefault = 0\\ntree=root= createNode(D, A, \"root\", 0, classifier)\\nBuildDecisionTree(tree)',\n",
       " 'tree',\n",
       " 'def BuildDecisionTree(root):\\n    A = list(root[\"attributes\"])\\n    if(len(root[\"tree\"])<=root[\"min\"] or root[\"gini\"]==0):\\n        root[\"type\"]=\"leaf\"\\n        return\\n    if(len(root[\"attributes\"])==1):\\n        decision= [attribute, value] = bestCandidate(root)\\n        A.remove(attribute)\\n        left,right = split(root, attribute, value)\\n        root[\"left\"]  = createNode(left, A, \"leaf\", root[\"level\"]+1, root[\"classifier\"])\\n        root[\"right\"] = createNode(right, A, \"leaf\", root[\"level\"]+1, root[\"classifier\"])\\n        \\n    else:\\n        decision= [attribute, value] = bestCandidate(root)\\n        A.remove(attribute)\\n        left,right = split(root, attribute, value)\\n        root[\"left\"]  = createNode(left , A, \"intermediate\", root[\"level\"]+1, root[\"classifier\"])\\n        root[\"right\"] = createNode(right, A, \"intermediate\", root[\"level\"]+1, root[\"classifier\"])\\n        BuildDecisionTree(root[\"left\"])\\n        BuildDecisionTree(root[\"right\"])',\n",
       " 'import numpy as np\\nimport pandas as pd\\n\\ndf=pd.read_csv(\\'data.csv\\')\\ndf=df[:20]\\nA=list(df.columns[:-1])\\nclassifier=df.columns[-1]\\nD = df\\nminNum = 5\\nalpha = 0.5\\ndefault = 0\\ntree=root= createNode(D, A, \"root\", 0, classifier)\\nBuildDecisionTree(tree)',\n",
       " 'tree',\n",
       " 'import numpy as np\\nimport pandas as pd\\n\\ndf=pd.read_csv(\\'data.csv\\')\\n\\nA=list(df.columns[:-1])\\nclassifier=df.columns[-1]\\nD = df\\nminNum = 5\\nalpha = 0.5\\ndefault = 0\\ntree=root= createNode(D, A, \"root\", 0, classifier)\\nBuildDecisionTree(tree)',\n",
       " 'tree',\n",
       " 'bestCandidate(root)',\n",
       " 'import numpy as np\\nimport pandas as pd\\n\\ndf=pd.read_csv(\\'data.csv\\')\\ndf=df[:20]\\nA=list(df.columns[:-1])\\nclassifier=df.columns[-1]\\nD = df\\nminNum = 5\\nalpha = 0.5\\ndefault = 0\\ntree=root= createNode(D, A, \"root\", 0, classifier)\\nBuildDecisionTree(tree)',\n",
       " 'tree',\n",
       " 'def BuildDecisionTree(path):\\n    df=pd.read_csv(\\'data.csv\\')\\n    df=df[:20]\\n    A=list(df.columns[:-1])\\n    classifier=df.columns[-1]\\n    D = df\\n    minNum = 5\\n    alpha = 0.5\\n    default = 0\\n    tree=root= createNode(D, A, \"root\", 0, classifier)\\n    continueTree(tree)\\n    return tree',\n",
       " \"import numpy as np\\nimport pandas as pd\\n\\ntree = BuildDecisionTree('data.csv')\",\n",
       " 'def continueTree(root):\\n    A = list(root[\"attributes\"])\\n    if(len(root[\"tree\"])<=root[\"min\"] or root[\"gini\"]==0):\\n        root[\"type\"]=\"leaf\"\\n        return\\n    if(len(root[\"attributes\"])==1):\\n        decision= [attribute, value] = bestCandidate(root)\\n        A.remove(attribute)\\n        left,right = split(root, attribute, value)\\n        root[\"left\"]  = createNode(left, A, \"leaf\", root[\"level\"]+1, root[\"classifier\"])\\n        root[\"right\"] = createNode(right, A, \"leaf\", root[\"level\"]+1, root[\"classifier\"])\\n        \\n    else:\\n        decision= [attribute, value] = bestCandidate(root)\\n        A.remove(attribute)\\n        left,right = split(root, attribute, value)\\n        root[\"left\"]  = createNode(left , A, \"intermediate\", root[\"level\"]+1, root[\"classifier\"])\\n        root[\"right\"] = createNode(right, A, \"intermediate\", root[\"level\"]+1, root[\"classifier\"])\\n        BuildDecisionTree(root[\"left\"])\\n        BuildDecisionTree(root[\"right\"])',\n",
       " 'def BuildDecisionTree(path):\\n    df=pd.read_csv(\\'data.csv\\')\\n    df=df[:20]\\n    A=list(df.columns[:-1])\\n    classifier=df.columns[-1]\\n    D = df\\n    minNum = 5\\n    alpha = 0.5\\n    default = 0\\n    tree=root= createNode(D, A, \"root\", 0, classifier)\\n    continueTree(tree)\\n    return tree',\n",
       " \"import numpy as np\\nimport pandas as pd\\n\\ntree = BuildDecisionTree('data.csv')\",\n",
       " \"import numpy as np\\nimport pandas as pd\\n\\ntree = BuildDecisionTree('data.csv')\",\n",
       " 'def continueTree(root):\\n    A = list(root[\"attributes\"])\\n    if(len(root[\"tree\"])<=root[\"min\"] or root[\"gini\"]==0 or root[\"type\"]==\"leaf\"):\\n        root[\"type\"]=\"leaf\"\\n        return\\n    if(len(root[\"attributes\"])==1):\\n        decision= [attribute, value] = bestCandidate(root)\\n        A.remove(attribute)\\n        left,right = split(root, attribute, value)\\n        root[\"left\"]  = createNode(left, A, \"leaf\", root[\"level\"]+1, root[\"classifier\"])\\n        root[\"right\"] = createNode(right, A, \"leaf\", root[\"level\"]+1, root[\"classifier\"])\\n        \\n    else:\\n        decision= [attribute, value] = bestCandidate(root)\\n        A.remove(attribute)\\n        left,right = split(root, attribute, value)\\n        root[\"left\"]  = createNode(left , A, \"intermediate\", root[\"level\"]+1, root[\"classifier\"])\\n        root[\"right\"] = createNode(right, A, \"intermediate\", root[\"level\"]+1, root[\"classifier\"])\\n        BuildDecisionTree(root[\"left\"])\\n        BuildDecisionTree(root[\"right\"])',\n",
       " 'def BuildDecisionTree(path):\\n    df=pd.read_csv(path)\\n    df=df[:20]\\n    A=list(df.columns[:-1])\\n    classifier=df.columns[-1]\\n    D = df\\n    default = 0\\n    tree= createNode(D, A, \"root\", 0, classifier)\\n    continueTree(tree)\\n    return tree',\n",
       " \"import numpy as np\\nimport pandas as pd\\n\\ntree = BuildDecisionTree('data.csv')\",\n",
       " \"import numpy as np\\nimport pandas as pd\\n\\ntree = BuildDecisionTree('data.csv')\",\n",
       " 'def continueTree(root):\\n    A = list(root[\"attributes\"])\\n    if(len(root[\"tree\"])<=root[\"min\"] or root[\"gini\"]==0 or root[\"type\"]==\"leaf\"):\\n        root[\"type\"]=\"leaf\"\\n        return\\n    if(len(root[\"attributes\"])==1):\\n        decision= [attribute, value] = bestCandidate(root)\\n        A.remove(attribute)\\n        left,right = split(root, attribute, value)\\n        root[\"left\"]  = createNode(left, A, \"leaf\", root[\"level\"]+1, root[\"classifier\"])\\n        root[\"right\"] = createNode(right, A, \"leaf\", root[\"level\"]+1, root[\"classifier\"])\\n        \\n    else:\\n        decision= [attribute, value] = bestCandidate(root)\\n        A.remove(attribute)\\n        left,right = split(root, attribute, value)\\n        root[\"left\"]  = createNode(left , A, \"intermediate\", root[\"level\"]+1, root[\"classifier\"])\\n        root[\"right\"] = createNode(right, A, \"intermediate\", root[\"level\"]+1, root[\"classifier\"])\\n        BuildDecisionTree(root[\"left\"])\\n        BuildDecisionTree(root[\"right\"])',\n",
       " 'def BuildDecisionTree(path):\\n    df=pd.read_csv(path)\\n    df=df[:20]\\n    A=list(df.columns[:-1])\\n    classifier=df.columns[-1]\\n    D = df\\n    default = 0\\n    tree= createNode(D, A, \"root\", 0, classifier)\\n    continueTree(tree)\\n    return tree',\n",
       " \"import numpy as np\\nimport pandas as pd\\n\\ntree = BuildDecisionTree('data.csv')\",\n",
       " 'import numpy as np\\nimport pandas as pd\\ndf=pd.read_csv(\\'data.csv\\')\\n    df=df[:20]\\n    A=list(df.columns[:-1])\\n    classifier=df.columns[-1]\\n    D = df\\n    default = 0\\n    tree= createNode(D, A, \"root\", 0, classifier)\\n    continueTree(tree)',\n",
       " 'import numpy as np\\nimport pandas as pd\\ndf=pd.read_csv(\\'data.csv\\')\\ndf=df[:20]\\nA=list(df.columns[:-1])\\nclassifier=df.columns[-1]\\nD = df\\ndefault = 0\\ntree= createNode(D, A, \"root\", 0, classifier)\\ncontinueTree(tree)',\n",
       " 'import numpy as np\\nimport pandas as pd\\ndf=pd.read_csv(\\'data.csv\\')\\ndf=df[:20]\\nA=list(df.columns[:-1])\\nclassifier=df.columns[-1]\\nD = df\\ndefault = 0\\ntree= createNode(D, A, \"root\", 0, classifier)\\ncontinueTree(tree)',\n",
       " 'def continueTree(root):\\n    A = list(root[\"attributes\"])\\n    if(len(root[\"tree\"])<=root[\"min\"] or root[\"gini\"]==0 or root[\"type\"]==\"leaf\"):\\n        root[\"type\"]=\"leaf\"\\n        return\\n    if(len(root[\"attributes\"])==1):\\n        decision= [attribute, value] = bestCandidate(root)\\n        A.remove(attribute)\\n        left,right = split(root, attribute, value)\\n        root[\"left\"]  = createNode(left, A, \"leaf\", root[\"level\"]+1, root[\"classifier\"])\\n        root[\"right\"] = createNode(right, A, \"leaf\", root[\"level\"]+1, root[\"classifier\"])\\n        \\n    else:\\n        decision= [attribute, value] = bestCandidate(root)\\n        A.remove(attribute)\\n        left,right = split(root, attribute, value)\\n        root[\"left\"]  = createNode(left , A, \"intermediate\", root[\"level\"]+1, root[\"classifier\"])\\n        root[\"right\"] = createNode(right, A, \"intermediate\", root[\"level\"]+1, root[\"classifier\"])\\n        continueTree(root[\"left\"])\\n        continueTree(root[\"right\"])',\n",
       " 'def BuildDecisionTree(path):\\n    df=pd.read_csv(path)\\n    df=df[:20]\\n    A=list(df.columns[:-1])\\n    classifier=df.columns[-1]\\n    D = df\\n    default = 0\\n    tree= createNode(D, A, \"root\", 0, classifier)\\n    continueTree(tree)\\n    return tree',\n",
       " \"import numpy as np\\nimport pandas as pd\\n\\ntree = BuildDecisionTree('data.csv')\",\n",
       " 'tree',\n",
       " 'print(range(0,2))',\n",
       " 'a=range(0,2)\\nprint(a)',\n",
       " 'a=range(2)\\nprint(a)',\n",
       " 'range(2)\\nprint(a)',\n",
       " 'range(2)',\n",
       " 'range(2)',\n",
       " 'a=range(2)\\nprint([a])',\n",
       " 'a=range(2)\\nfor i in a:\\n    i=int(i)\\nprint([a])',\n",
       " 'a=range(2)\\nfor i in a:\\n    i=int(i)\\n    print(i)\\nprint([a])',\n",
       " 'a=range(2)\\nfor i in a:\\n    i=int(i)\\n    print(i, end=\" \")\\nprint([a])',\n",
       " 'a=range(2)\\nfor i in a:\\n    i=int(i)\\n    print(i, end=\"\\\\n\")\\nprint([a])',\n",
       " 'a=range(2)\\nfor i in a:\\n    i=int(i)\\n    print(i, end=\"khara\")\\nprint([a])',\n",
       " 'a=range(2)\\nfor i in a:\\n    i=int(i)\\n    print(i, end=\"\\\\b\")\\nprint([a])',\n",
       " 'a=range(2)\\nfor i in a:\\n    i=int(i)\\n    print(i, end=\"\\\\t\")\\nprint([a])',\n",
       " 'a=range(2)\\nfor i in a:\\n    i=int(i)\\n    print(i, end=\"\\\\beep\")\\nprint([a])',\n",
       " 'def printDecisionTree(tree):\\n    printNode(tree)',\n",
       " 'def continueTree(root):\\n    A = list(root[\"attributes\"])\\n    if(len(root[\"tree\"])<=root[\"min\"] or root[\"gini\"]==0 or root[\"type\"]==\"leaf\"):\\n        root[\"type\"]=\"Leaf\"\\n        return\\n    if(len(root[\"attributes\"])==1):\\n        root[\"decision\"]= [attribute, value] = bestCandidate(root)\\n        A.remove(attribute)\\n        left,right = split(root, attribute, value)\\n        root[\"left\"]  = createNode(left, A, \"Leaf\", root[\"level\"]+1, root[\"classifier\"])\\n        root[\"right\"] = createNode(right, A, \"Leaf\", root[\"level\"]+1, root[\"classifier\"])\\n        \\n    else:\\n        root[\"decision\"]= [attribute, value] = bestCandidate(root)\\n        A.remove(attribute)\\n        left,right = split(root, attribute, value)\\n        root[\"left\"]  = createNode(left , A, \"Intermediate\", root[\"level\"]+1, root[\"classifier\"])\\n        root[\"right\"] = createNode(right, A, \"Intermediate\", root[\"level\"]+1, root[\"classifier\"])\\n        continueTree(root[\"left\"])\\n        continueTree(root[\"right\"])',\n",
       " 'def BuildDecisionTree(path):\\n    df=pd.read_csv(path)\\n    df=df[:20]\\n    A=list(df.columns[:-1])\\n    classifier=df.columns[-1]\\n    D = df\\n    default = 0\\n    tree= createNode(D, A, \"Root\", 0, classifier)\\n    continueTree(tree)\\n    return tree',\n",
       " 'def printNode(node):\\n    nType= node[\"type\"]\\n    if nType == \"Root\":\\n        ',\n",
       " 'def printDecisionTree(tree):\\n    printNode(tree)',\n",
       " \"import numpy as np\\nimport pandas as pd\\n\\ntree = BuildDecisionTree('data.csv')\\nprintDecisionTree(tree)\",\n",
       " \"import numpy as np\\nimport pandas as pd\\n\\ntree = BuildDecisionTree('data.csv')\\n#printDecisionTree(tree)\",\n",
       " 'tree',\n",
       " 'def continueTree(root):\\n    A = list(root[\"attributes\"])\\n    if(len(root[\"tree\"])<=root[\"min\"] or root[\"gini\"]==0 or root[\"type\"]==\"leaf\"):\\n        root[\"type\"]=\"Leaf\"\\n        return\\n    if(len(root[\"attributes\"])==1):\\n        root[\"feature\"]= [attribute, value] = bestCandidate(root)\\n        A.remove(attribute)\\n        left,right = split(root, attribute, value)\\n        root[\"left\"]  = createNode(left, A, \"Leaf\", root[\"level\"]+1, root[\"classifier\"])\\n        root[\"right\"] = createNode(right, A, \"Leaf\", root[\"level\"]+1, root[\"classifier\"])\\n        \\n    else:\\n        root[\"feature\"]= [attribute, value] = bestCandidate(root)\\n        A.remove(attribute)\\n        left,right = split(root, attribute, value)\\n        root[\"left\"]  = createNode(left , A, \"Intermediate\", root[\"level\"]+1, root[\"classifier\"])\\n        root[\"right\"] = createNode(right, A, \"Intermediate\", root[\"level\"]+1, root[\"classifier\"])\\n        continueTree(root[\"left\"])\\n        continueTree(root[\"right\"])',\n",
       " 'def BuildDecisionTree(path):\\n    df=pd.read_csv(path)\\n    df=df[:20]\\n    A=list(df.columns[:-1])\\n    classifier=df.columns[-1]\\n    D = df\\n    default = 0\\n    tree= createNode(D, A, \"Root\", 0, classifier)\\n    continueTree(tree)\\n    return tree',\n",
       " 'def printNode(node):\\n    nType= node[\"type\"]\\n    nLevel= node[\"level\"]\\n    print(nType)\\n    print(level)\\n    if nType == \"Root\":\\n        ',\n",
       " 'def printDecisionTree(tree):\\n    printNode(tree)',\n",
       " \"import numpy as np\\nimport pandas as pd\\n\\ntree = BuildDecisionTree('data.csv')\\n#printDecisionTree(tree)\",\n",
       " 'tree',\n",
       " 'def continueTree(root):\\n    A = list(root[\"attributes\"])\\n    if( root[\"gini\"]==0 or root[\"type\"]==\"leaf\"):\\n        root[\"type\"]=\"Leaf\"\\n        return\\n    if(len(root[\"attributes\"])==1):\\n        root[\"feature\"]= [attribute, value] = bestCandidate(root)\\n        A.remove(attribute)\\n        left,right = split(root, attribute, value)\\n        root[\"left\"]  = createNode(left, A, \"Leaf\", root[\"level\"]+1, root[\"classifier\"])\\n        root[\"right\"] = createNode(right, A, \"Leaf\", root[\"level\"]+1, root[\"classifier\"])\\n        \\n    else:\\n        root[\"feature\"]= [attribute, value] = bestCandidate(root)\\n        A.remove(attribute)\\n        left,right = split(root, attribute, value)\\n        root[\"left\"]  = createNode(left , A, \"Intermediate\", root[\"level\"]+1, root[\"classifier\"])\\n        root[\"right\"] = createNode(right, A, \"Intermediate\", root[\"level\"]+1, root[\"classifier\"])\\n        continueTree(root[\"left\"])\\n        continueTree(root[\"right\"])',\n",
       " 'def BuildDecisionTree(path):\\n    df=pd.read_csv(path)\\n    df=df[:20]\\n    A=list(df.columns[:-1])\\n    classifier=df.columns[-1]\\n    D = df\\n    default = 0\\n    tree= createNode(D, A, \"Root\", 0, classifier)\\n    continueTree(tree)\\n    return tree',\n",
       " 'def printNode(node):\\n    nType= node[\"type\"]\\n    nLevel= node[\"level\"]\\n    print(nType)\\n    print(level)\\n    if nType == \"Root\":\\n        ',\n",
       " 'def printDecisionTree(tree):\\n    printNode(tree)',\n",
       " \"import numpy as np\\nimport pandas as pd\\n\\ntree = BuildDecisionTree('data.csv')\\n#printDecisionTree(tree)\",\n",
       " 'tree',\n",
       " 'def BuildDecisionTree(path):\\n    df=pd.read_csv(path)\\n    \\n    A=list(df.columns[:-1])\\n    classifier=df.columns[-1]\\n    D = df\\n    default = 0\\n    tree= createNode(D, A, \"Root\", 0, classifier)\\n    continueTree(tree)\\n    return tree',\n",
       " 'def printNode(node):\\n    nType= node[\"type\"]\\n    nLevel= node[\"level\"]\\n    print(nType)\\n    print(level)\\n    if nType == \"Root\":\\n        ',\n",
       " 'def printDecisionTree(tree):\\n    printNode(tree)',\n",
       " \"import numpy as np\\nimport pandas as pd\\n\\ntree = BuildDecisionTree('data.csv')\\n#printDecisionTree(tree)\",\n",
       " 'tree',\n",
       " 'def bestCandidate(tree):\\n    tests={}\\n    atts = tree[\\'attributes\\']\\n    for att in atts:\\n        vals = getVals(tree[\"tree\"],att)\\n        tests[att]=vals\\n    \\n    ginis={}\\n    for test in tests:\\n        vals = tests[test][1:] #skip the first value since it is the infimum\\n        \\n        for val in vals:\\n            ginis[(test,val)]=GINIsplit(tree, test, val)\\n    best=min(ginis, key=ginis.get)\\n    return best',\n",
       " 'def continueTree(root):\\n    A = list(root[\"attributes\"])\\n    if(len(root[\"tree\"])<=root[\"min\"] or root[\"gini\"]==0 or root[\"type\"]==\"leaf\"):\\n        root[\"type\"]=\"Leaf\"\\n        return\\n    if(len(root[\"attributes\"])==1):\\n        root[\"feature\"]= [attribute, value] = bestCandidate(root)\\n        A.remove(attribute)\\n        left,right = split(root, attribute, value)\\n        root[\"left\"]  = createNode(left, A, \"Leaf\", root[\"level\"]+1, root[\"classifier\"])\\n        root[\"right\"] = createNode(right, A, \"Leaf\", root[\"level\"]+1, root[\"classifier\"])\\n        \\n    else:\\n        root[\"feature\"]= [attribute, value] = bestCandidate(root)\\n        A.remove(attribute)\\n        left,right = split(root, attribute, value)\\n        root[\"left\"]  = createNode(left , A, \"Intermediate\", root[\"level\"]+1, root[\"classifier\"])\\n        root[\"right\"] = createNode(right, A, \"Intermediate\", root[\"level\"]+1, root[\"classifier\"])\\n        continueTree(root[\"left\"])\\n        continueTree(root[\"right\"])',\n",
       " 'def BuildDecisionTree(path):\\n    df=pd.read_csv(path)\\n    \\n    A=list(df.columns[:-1])\\n    classifier=df.columns[-1]\\n    D = df\\n    default = 0\\n    tree= createNode(D, A, \"Root\", 0, classifier)\\n    continueTree(tree)\\n    return tree',\n",
       " 'def BuildDecisionTree(path):\\n    df=pd.read_csv(path)\\n    df=df[:20]\\n    A=list(df.columns[:-1])\\n    classifier=df.columns[-1]\\n    D = df\\n    default = 0\\n    tree= createNode(D, A, \"Root\", 0, classifier)\\n    continueTree(tree)\\n    return tree',\n",
       " 'def printNode(node):\\n    nType= node[\"type\"]\\n    nLevel= node[\"level\"]\\n    print(nType)\\n    print(level)\\n    if nType == \"Root\":\\n        ',\n",
       " 'def printDecisionTree(tree):\\n    printNode(tree)',\n",
       " \"import numpy as np\\nimport pandas as pd\\n\\ntree = BuildDecisionTree('data.csv')\\n#printDecisionTree(tree)\",\n",
       " 'tree',\n",
       " 'def printNode(node):\\n    nType= node[\"type\"]\\n    nLevel= node[\"level\"]\\n    print(nType)\\n    print(\"Level\",level)\\n    if nType in (\"Root\",\"Intermediate\"):\\n        ',\n",
       " 'def printNode(node):\\n    nType= node[\"type\"]\\n    nLevel= node[\"level\"]\\n    print(nType)\\n    print(\"Level\",level)\\n    if nType in (\"Root\",\"Intermediate\"):\\n        feature = node[\"feature\"]\\n        print(\"Feature\",feature[0],end=\"\")\\n        for i in range(feature[1]):\\n            print(\" \",i, end = \"\")\\n        print()\\n    else:\\n        print()\\n    print(node[\"gini\"])',\n",
       " 'def printDecisionTree(tree):\\n    printNode(tree)',\n",
       " \"import numpy as np\\nimport pandas as pd\\n\\ntree = BuildDecisionTree('data.csv')\\nprintDecisionTree(tree)\",\n",
       " 'def printNode(node):\\n    nType= node[\"type\"]\\n    nLevel= node[\"level\"]\\n    print(nType)\\n    print(\"Level\",nLevel)\\n    if nType in (\"Root\",\"Intermediate\"):\\n        feature = node[\"feature\"]\\n        print(\"Feature\",feature[0],end=\"\")\\n        for i in range(feature[1]):\\n            print(\" \",i, end = \"\")\\n        print()\\n    else:\\n        print()\\n    print(node[\"gini\"])',\n",
       " 'def printDecisionTree(tree):\\n    printNode(tree)',\n",
       " \"import numpy as np\\nimport pandas as pd\\n\\ntree = BuildDecisionTree('data.csv')\\nprintDecisionTree(tree)\",\n",
       " \"import numpy as np\\nimport pandas as pd\\n\\ntree = BuildDecisionTree('data.csv')\\nprintDecisionTree(tree['left'])\",\n",
       " 'def printNode(node):\\n    nType= node[\"type\"]\\n    nLevel= node[\"level\"]\\n    print(nType)\\n    print(\"Level\",nLevel)\\n    if nType in (\"Root\",\"Intermediate\"):\\n        feature = node[\"feature\"]\\n        print(\"Feature\",feature[0],end=\"\")\\n        for i in range(feature[1]):\\n            print(\" \",i, end = \"\")\\n        print()\\n    else:\\n        print(\"Class\")\\n    print(\"Gini\",node[\"gini\"])',\n",
       " 'def printDecisionTree(tree):\\n    printNode(tree)',\n",
       " \"import numpy as np\\nimport pandas as pd\\n\\ntree = BuildDecisionTree('data.csv')\\nprintDecisionTree(tree['left'])\",\n",
       " 'def printNode(node):\\n    nType= node[\"type\"]\\n    nLevel= node[\"level\"]\\n    print(nType)\\n    print(\"Level\",nLevel)\\n    if nType in (\"Root\",\"Intermediate\"):\\n        feature = node[\"feature\"]\\n        print(\"Feature\",feature[0],end=\"\")\\n        for i in range(feature[1]):\\n            print(\" \",i, end = \"\")\\n        print()\\n    else:\\n        print(\"Class\")\\n    print(\"Gini\",\"{f:.4}\".format(node[\"gini\"]))',\n",
       " 'def printDecisionTree(tree):\\n    printNode(tree)',\n",
       " \"import numpy as np\\nimport pandas as pd\\n\\ntree = BuildDecisionTree('data.csv')\\nprintDecisionTree(tree['left'])\",\n",
       " 'def printNode(node):\\n    nType= node[\"type\"]\\n    nLevel= node[\"level\"]\\n    print(nType)\\n    print(\"Level\",nLevel)\\n    if nType in (\"Root\",\"Intermediate\"):\\n        feature = node[\"feature\"]\\n        print(\"Feature\",feature[0],end=\"\")\\n        for i in range(feature[1]):\\n            print(\" \",i, end = \"\")\\n        print()\\n    else:\\n        print(\"Class\")\\n    print(\"Gini\",\"{:.4}\".format(node[\"gini\"]))',\n",
       " 'def printDecisionTree(tree):\\n    printNode(tree)',\n",
       " \"import numpy as np\\nimport pandas as pd\\n\\ntree = BuildDecisionTree('data.csv')\\nprintDecisionTree(tree['left'])\",\n",
       " \"import numpy as np\\nimport pandas as pd\\n\\ntree = BuildDecisionTree('data.csv')\\nprintDecisionTree(tree['right'])\",\n",
       " \"import numpy as np\\nimport pandas as pd\\n\\ntree = BuildDecisionTree('data.csv')\\nprintDecisionTree(tree['right']['left'])\",\n",
       " \"import numpy as np\\nimport pandas as pd\\n\\ntree = BuildDecisionTree('data.csv')\\nprintDecisionTree(tree['left']['right'])\",\n",
       " 'def printNode(node):\\n    nType= node[\"type\"]\\n    nLevel= node[\"level\"]\\n    print(nType)\\n    print(\"Level\",nLevel)\\n    if nType in (\"Root\",\"Intermediate\"):\\n        feature = node[\"feature\"]\\n        print(\"Feature\",feature[0],end=\"\")\\n        for i in range(feature[1]):\\n            print(i, end = \"\")\\n        print()\\n    else:\\n        print(\"Class\")\\n    print(\"Gini\",\"{:.4}\".format(node[\"gini\"]))',\n",
       " 'def printDecisionTree(tree):\\n    printNode(tree)',\n",
       " \"import numpy as np\\nimport pandas as pd\\n\\ntree = BuildDecisionTree('data.csv')\\nprintDecisionTree(tree['left']['right'])\",\n",
       " 'def printNode(node):\\n    nType= node[\"type\"]\\n    nLevel= node[\"level\"]\\n    print(nType)\\n    print(\"Level\",nLevel)\\n    if nType in (\"Root\",\"Intermediate\"):\\n        feature = node[\"feature\"]\\n        print(\"Feature\",feature[0],end=\"\")\\n        for i in range(feature[1]):\\n            print(i, end = \" \")\\n        print()\\n    else:\\n        print(\"Class\")\\n    print(\"Gini\",\"{:.4}\".format(node[\"gini\"]))',\n",
       " 'def printDecisionTree(tree):\\n    printNode(tree)',\n",
       " \"import numpy as np\\nimport pandas as pd\\n\\ntree = BuildDecisionTree('data.csv')\\nprintDecisionTree(tree['left']['right'])\",\n",
       " 'def printNode(node):\\n    nType= node[\"type\"]\\n    nLevel= node[\"level\"]\\n    print(nType)\\n    print(\"Level\",nLevel)\\n    if nType in (\"Root\",\"Intermediate\"):\\n        feature = node[\"feature\"]\\n        print(\"Feature\",feature[0],end=\" \")\\n        for i in range(feature[1]):\\n            print(i, end = \" \")\\n        print()\\n    else:\\n        print(\"Class\")\\n    print(\"Gini\",\"{:.4}\".format(node[\"gini\"]))',\n",
       " 'def printDecisionTree(tree):\\n    printNode(tree)',\n",
       " \"import numpy as np\\nimport pandas as pd\\n\\ntree = BuildDecisionTree('data.csv')\\nprintDecisionTree(tree['left']['right'])\",\n",
       " 'def printNode(node):\\n    nType= node[\"type\"]\\n    nLevel= node[\"level\"]\\n    print(nType)\\n    print(\"Level\",nLevel)\\n    if nType in (\"Root\",\"Intermediate\"):\\n        feature = node[\"feature\"]\\n        print(\"Feature\",feature[0],end=\" \")\\n        for i in range(min(getVals(node[\"tree\"],feature[0])),feature[1]):\\n            print(i, end = \" \")\\n        print()\\n    else:\\n        print(\"Class\")\\n    print(\"Gini\",\"{:.4}\".format(node[\"gini\"]))',\n",
       " 'def printDecisionTree(tree):\\n    printNode(tree)',\n",
       " \"import numpy as np\\nimport pandas as pd\\n\\ntree = BuildDecisionTree('data.csv')\\nprintDecisionTree(tree['left']['right'])\",\n",
       " \"import numpy as np\\nimport pandas as pd\\n\\ntree = BuildDecisionTree('data.csv')\\nprintDecisionTree(tree['left'])\",\n",
       " \"import numpy as np\\nimport pandas as pd\\n\\ntree = BuildDecisionTree('data.csv')\\nprintDecisionTree(tree['left']['right'])\",\n",
       " \"import numpy as np\\nimport pandas as pd\\n\\ntree = BuildDecisionTree('data.csv')\\nprintDecisionTree(tree['left']['right']['right'])\",\n",
       " 'def printNode(node):\\n    nType= node[\"type\"]\\n    nLevel= node[\"level\"]\\n    print(nType)\\n    print(\"Level\",nLevel)\\n    if nType in (\"Root\",\"Intermediate\"):\\n        feature = node[\"feature\"]\\n        print(\"Feature\",feature[0],end=\" \")\\n        for i in range(min(getVals(node[\"tree\"],feature[0])),feature[1]):\\n            print(i, end = \" \")\\n        print()\\n    else:\\n        test = sum(node[\"tree\"][node[\"classifier\"]])/len(node[\"tree\"]) > 0.5\\n        cl = 1 if test else cl = 0\\n        print(\"Class\",cl)\\n    print(\"Gini\",\"{:.4}\".format(node[\"gini\"]))',\n",
       " 'def printNode(node):\\n    nType= node[\"type\"]\\n    nLevel= node[\"level\"]\\n    print(nType)\\n    print(\"Level\",nLevel)\\n    if nType in (\"Root\",\"Intermediate\"):\\n        feature = node[\"feature\"]\\n        print(\"Feature\",feature[0],end=\" \")\\n        for i in range(min(getVals(node[\"tree\"],feature[0])),feature[1]):\\n            print(i, end = \" \")\\n        print()\\n    else:\\n        test = sum(node[\"tree\"][node[\"classifier\"]])/len(node[\"tree\"]) > 0.5\\n        [cl = 1 if test else cl = 0]\\n        print(\"Class\",cl)\\n    print(\"Gini\",\"{:.4}\".format(node[\"gini\"]))',\n",
       " 'def printNode(node):\\n    nType= node[\"type\"]\\n    nLevel= node[\"level\"]\\n    print(nType)\\n    print(\"Level\",nLevel)\\n    if nType in (\"Root\",\"Intermediate\"):\\n        feature = node[\"feature\"]\\n        print(\"Feature\",feature[0],end=\" \")\\n        for i in range(min(getVals(node[\"tree\"],feature[0])),feature[1]):\\n            print(i, end = \" \")\\n        print()\\n    else:\\n        test = sum(node[\"tree\"][node[\"classifier\"]])/len(node[\"tree\"]) > 0.5\\n        cl = 1 if test else cl = 0\\n        print(\"Class\",cl)\\n    print(\"Gini\",\"{:.4}\".format(node[\"gini\"]))',\n",
       " 'def printNode(node):\\n    nType= node[\"type\"]\\n    nLevel= node[\"level\"]\\n    print(nType)\\n    print(\"Level\",nLevel)\\n    if nType in (\"Root\",\"Intermediate\"):\\n        feature = node[\"feature\"]\\n        print(\"Feature\",feature[0],end=\" \")\\n        for i in range(min(getVals(node[\"tree\"],feature[0])),feature[1]):\\n            print(i, end = \" \")\\n        print()\\n    else:\\n        test = sum(node[\"tree\"][node[\"classifier\"]])/len(node[\"tree\"]) > 0.5\\n        cl = 1 if test else  0\\n        print(\"Class\",cl)\\n    print(\"Gini\",\"{:.4}\".format(node[\"gini\"]))',\n",
       " 'def printNode(node):\\n    nType= node[\"type\"]\\n    nLevel= node[\"level\"]\\n    print(nType)\\n    print(\"Level\",nLevel)\\n    if nType in (\"Root\",\"Intermediate\"):\\n        feature = node[\"feature\"]\\n        print(\"Feature\",feature[0],end=\" \")\\n        for i in range(min(getVals(node[\"tree\"],feature[0])),feature[1]):\\n            print(i, end = \" \")\\n        print()\\n    else:\\n        test = sum(node[\"tree\"][node[\"classifier\"]])/len(node[\"tree\"]) > 0.5\\n        cl = 1 if test else 0\\n        print(\"Class\",cl)\\n    print(\"Gini\",\"{:.4}\".format(node[\"gini\"]))',\n",
       " 'def printDecisionTree(tree):\\n    printNode(tree)',\n",
       " \"import numpy as np\\nimport pandas as pd\\n\\ntree = BuildDecisionTree('data.csv')\\nprintDecisionTree(tree['left']['right']['right'])\",\n",
       " \"import numpy as np\\nimport pandas as pd\\n\\ntree = BuildDecisionTree('data.csv')\\nprintDecisionTree(tree['left']['right']['left'])\",\n",
       " \"import numpy as np\\nimport pandas as pd\\n\\ntree = BuildDecisionTree('data.csv')\\nprintDecisionTree(tree['left']['left'])\",\n",
       " \"import numpy as np\\nimport pandas as pd\\n\\ntree = BuildDecisionTree('data.csv')\\nprintDecisionTree(tree['right']['left']['left'])\",\n",
       " \"import numpy as np\\nimport pandas as pd\\n\\ntree = BuildDecisionTree('data.csv')\\nprintDecisionTree(tree['right']['left'])\",\n",
       " \"import numpy as np\\nimport pandas as pd\\n\\ntree = BuildDecisionTree('data.csv')\\nprintDecisionTree(tree['right']['right'])\",\n",
       " \"import numpy as np\\nimport pandas as pd\\n\\ntree = BuildDecisionTree('data.csv')\\nprintDecisionTree(tree['right']['left'])\",\n",
       " 'def printNode(node):\\n    nType= node[\"type\"]\\n    nLevel= node[\"level\"]\\n    print(nType)\\n    print(\"Level\",nLevel)\\n    if nType in (\"Root\",\"Intermediate\"):\\n        feature = node[\"feature\"]\\n        print(\"Feature\",feature[0],end=\" \")\\n        for i in range(min(getVals(node[\"tree\"],feature[0])),feature[1]):\\n            if i != feature[1]-1:\\n                print(i, end = \" \")\\n            else:\\n                print(i, end = \"\")\\n        print()\\n    else:\\n        test = sum(node[\"tree\"][node[\"classifier\"]])/len(node[\"tree\"]) > 0.5\\n        cl = 1 if test else 0\\n        print(\"Class\",cl)\\n    print(\"Gini\",\"{:.4}\".format(node[\"gini\"]))',\n",
       " 'def printDecisionTree(tree):\\n    printNode(tree)',\n",
       " \"import numpy as np\\nimport pandas as pd\\n\\ntree = BuildDecisionTree('data.csv')\\nprintDecisionTree(tree['right']['left'])\",\n",
       " \"import numpy as np\\nimport pandas as pd\\n\\ntree = BuildDecisionTree('data.csv')\\nprintDecisionTree(tree['right'])\",\n",
       " \"import numpy as np\\nimport pandas as pd\\n\\ntree = BuildDecisionTree('data.csv')\\nprintDecisionTree()\",\n",
       " \"import numpy as np\\nimport pandas as pd\\n\\ntree = BuildDecisionTree('data.csv')\\nprintDecisionTree(tree)\",\n",
       " 'tree[\"hi\"] is None',\n",
       " '\"hi\" in tree.get()',\n",
       " '\"hi\" in tree.attributes()',\n",
       " '\"hi\" in tree.values()',\n",
       " 'tree.values()',\n",
       " 'tree.get()',\n",
       " 'tree.keys()',\n",
       " \"'hi' in tree.keys()\",\n",
       " \"'left' in tree.keys()\",\n",
       " 'tree',\n",
       " \"def printDecisionTree(tree):\\n    printNode(tree)\\n    print()\\n    nodesByLevel=[]\\n    while('left' in tree.keys())\\n        nodesByLevel[tree['level']+1] += [tree['left']]\\n        nodesByLevel[tree['level']+1] += [tree['left']]\\n        tree = tree['left']\\n    \",\n",
       " \"def printDecisionTree(tree):\\n    printNode(tree)\\n    print()\\n    nodesByLevel=[]\\n    while('left' in tree.keys()):\\n        nodesByLevel[tree['level']+1] += [tree['left']]\\n        nodesByLevel[tree['level']+1] += [tree['left']]\\n        tree = tree['left']\\n    return nodesByLevel\",\n",
       " \"import numpy as np\\nimport pandas as pd\\n\\ntree = BuildDecisionTree('data.csv')\\nprintDecisionTree(tree)\",\n",
       " 'tree[\"tree\"]',\n",
       " 'tree[\"tree\"].items',\n",
       " 'tree[\"tree\"].attrs',\n",
       " 'tree[\"tree\"].values',\n",
       " 'tree[\"tree\"].pivot',\n",
       " 'tree[\"tree\"].head()',\n",
       " 'tree[\"tree\"].columns',\n",
       " 'tree[\"tree\"].columns()',\n",
       " 'tree[\"tree\"].columns',\n",
       " 'len(tree[\"tree\"].columns)',\n",
       " 'def printDecisionTree(tree):\\n    printNode(tree)\\n    print()\\n    nodesByLevel=[0]*len(tree[\"tree\"].columns)\\n    while(\\'left\\' in tree.keys()):\\n        nodesByLevel[tree[\\'level\\']+1] += [tree[\\'left\\']]\\n        nodesByLevel[tree[\\'level\\']+1] += [tree[\\'left\\']]\\n        tree = tree[\\'left\\']\\n    return nodesByLevel',\n",
       " \"import numpy as np\\nimport pandas as pd\\n\\ntree = BuildDecisionTree('data.csv')\\nprintDecisionTree(tree)\",\n",
       " 'def printDecisionTree(tree):\\n    printNode(tree)\\n    print()\\n    nodesByLevel=[[]]*len(tree[\"tree\"].columns)\\n    while(\\'left\\' in tree.keys()):\\n        nodesByLevel[tree[\\'level\\']+1] += [tree[\\'left\\']]\\n        nodesByLevel[tree[\\'level\\']+1] += [tree[\\'left\\']]\\n        tree = tree[\\'left\\']\\n    return nodesByLevel',\n",
       " \"import numpy as np\\nimport pandas as pd\\n\\ntree = BuildDecisionTree('data.csv')\\nprintDecisionTree(tree)\",\n",
       " 'len(tree[\"tree\"].columns)',\n",
       " \"import numpy as np\\nimport pandas as pd\\n\\ntree = BuildDecisionTree('data.csv')\\nall=printDecisionTree(tree)\",\n",
       " \"import numpy as np\\nimport pandas as pd\\n\\ntree = BuildDecisionTree('data.csv')\\nall=printDecisionTree(tree)\\nall[0]\",\n",
       " \"import numpy as np\\nimport pandas as pd\\n\\ntree = BuildDecisionTree('data.csv')\\nall=printDecisionTree(tree)\\nall[1]\",\n",
       " \"import numpy as np\\nimport pandas as pd\\n\\ntree = BuildDecisionTree('data.csv')\\nall=printDecisionTree(tree)\\nall[2]\",\n",
       " \"import numpy as np\\nimport pandas as pd\\n\\ntree = BuildDecisionTree('data.csv')\\nall=printDecisionTree(tree)\\nall[3]\",\n",
       " 'def printDecisionTree(tree):\\n    printNode(tree)\\n    print()\\n    nodesByLevel=[[]]*len(tree[\"tree\"].columns)\\n    while(\\'left\\' in tree.keys()):\\n        nodesByLevel[tree[\\'level\\']+1] += [tree[\\'left\\']]\\n        nodesByLevel[tree[\\'level\\']+1] += [tree[\\'right\\']]\\n        tree = tree[\\'left\\']\\n    return nodesByLevel',\n",
       " \"import numpy as np\\nimport pandas as pd\\n\\ntree = BuildDecisionTree('data.csv')\\nall=printDecisionTree(tree)\\nall[3]\",\n",
       " \"import numpy as np\\nimport pandas as pd\\n\\ntree = BuildDecisionTree('data.csv')\\nall=printDecisionTree(tree)\\nall[4]\",\n",
       " \"import numpy as np\\nimport pandas as pd\\n\\ntree = BuildDecisionTree('data.csv')\\nall=printDecisionTree(tree)\\nall[0]\",\n",
       " \"import numpy as np\\nimport pandas as pd\\n\\ntree = BuildDecisionTree('data.csv')\\nall=printDecisionTree(tree)\\nlen(all[0])\",\n",
       " \"import numpy as np\\nimport pandas as pd\\n\\ntree = BuildDecisionTree('data.csv')\\nall=printDecisionTree(tree)\\nlen(all[1])\",\n",
       " \"import numpy as np\\nimport pandas as pd\\n\\ntree = BuildDecisionTree('data.csv')\\nall=printDecisionTree(tree)\\nlen(all[2])\",\n",
       " \"import numpy as np\\nimport pandas as pd\\n\\ntree = BuildDecisionTree('data.csv')\\nall=printDecisionTree(tree)\\nlen(all[3])\",\n",
       " 'def printDecisionTree(tree):\\n    printNode(tree)\\n    print()\\n    nodesByLevel=[[]]*len(tree[\"tree\"].columns)\\n    while(\\'left\\' in tree.keys()):\\n        nodesByLevel[tree[\\'level\\']+1] += [tree[\\'left\\']]\\n        #nodesByLevel[tree[\\'level\\']+1] += [tree[\\'right\\']]\\n        tree = tree[\\'left\\']\\n    return nodesByLevel',\n",
       " \"import numpy as np\\nimport pandas as pd\\n\\ntree = BuildDecisionTree('data.csv')\\nall=printDecisionTree(tree)\\nlen(all[3])\",\n",
       " 'def printDecisionTree(tree):\\n    printNode(tree)\\n    print()\\n    nodesByLevel=[[]]*len(tree[\"tree\"].columns)\\n    while(\\'left\\' in tree.keys()):\\n        nodesByLevel[tree[\\'level\\']+1] += [tree[\\'left\\']]\\n        #nodesByLevel[tree[\\'level\\']+1] += [tree[\\'right\\']]\\n        tree = tree[\\'right\\']\\n    return nodesByLevel',\n",
       " \"import numpy as np\\nimport pandas as pd\\n\\ntree = BuildDecisionTree('data.csv')\\nall=printDecisionTree(tree)\\nlen(all[3])\",\n",
       " 'len(tree[\"tree\"].columns)',\n",
       " '# TESTS',\n",
       " \"import numpy as np\\nimport pandas as pd\\n\\ntree = BuildDecisionTree('data.csv')\\nall=printDecisionTree(tree)\\nlen(all[3])\",\n",
       " 'def BuildDecisionTree(path):\\n    df=pd.read_csv(path)\\n    \\n    A=list(df.columns[:-1])\\n    classifier=df.columns[-1]\\n    D = df\\n    default = 0\\n    tree= createNode(D, A, \"Root\", 0, classifier)\\n    continueTree(tree)\\n    return tree',\n",
       " \"import numpy as np\\nimport pandas as pd\\n\\ntree = BuildDecisionTree('data.csv')\\nall=printDecisionTree(tree)\\nlen(all[3])\",\n",
       " 'def BuildDecisionTree(path):\\n    df=pd.read_csv(path)\\n    df=df[:20]\\n    A=list(df.columns[:-1])\\n    classifier=df.columns[-1]\\n    D = df\\n    default = 0\\n    tree= createNode(D, A, \"Root\", 0, classifier)\\n    continueTree(tree)\\n    return tree',\n",
       " \"import numpy as np\\nimport pandas as pd\\n\\ntree = BuildDecisionTree('data.csv')\\nall=printDecisionTree(tree)\\nlen(all[3])\",\n",
       " '_ih[-5:]',\n",
       " '_ih[-10:]',\n",
       " '_ih[-200:]',\n",
       " 'def BuildDecisionTree(path):\\n    df=pd.read_csv(path)\\n    \\n    A=list(df.columns[:-1])\\n    classifier=df.columns[-1]\\n    D = df\\n    default = 0\\n    tree= createNode(D, A, \"Root\", 0, classifier)\\n    continueTree(tree)\\n    return tree',\n",
       " 'def BuildDecisionTree(path):\\n    df=pd.read_csv(path)\\n    df=df[:20]\\n    A=list(df.columns[:-1])\\n    classifier=df.columns[-1]\\n    D = df\\n    default = 0\\n    tree= createNode(D, A, \"Root\", 0, classifier)\\n    continueTree(tree)\\n    return tree',\n",
       " '_ih[-500:]']"
      ]
     },
     "execution_count": 387,
     "metadata": {},
     "output_type": "execute_result"
    }
   ],
   "source": [
    "_ih[-500:]"
   ]
  },
  {
   "cell_type": "markdown",
   "metadata": {},
   "source": [
    "# TESTS"
   ]
  },
  {
   "cell_type": "code",
   "execution_count": 69,
   "metadata": {},
   "outputs": [],
   "source": [
    "def bestCandidate1(tree):\n",
    "    tests={}\n",
    "    atts = tree['attributes']\n",
    "    for att in atts:\n",
    "        vals = getVals(tree[\"tree\"],att)\n",
    "        tests[att]=vals\n",
    "    print(tests)\n",
    "    ginis={}\n",
    "    for test in tests:\n",
    "        vals = tests[test][1:] #skip the first value since it is the infimum\n",
    "        \n",
    "        for val in vals:\n",
    "            ginis[(test,val)]=GINIsplit(tree, test, val)\n",
    "    best=max(ginis, key=ginis.get)\n",
    "    return best"
   ]
  },
  {
   "cell_type": "code",
   "execution_count": 62,
   "metadata": {},
   "outputs": [],
   "source": [
    "b=a={\"pip\":[1,2]}\n",
    "bb=aa = {\"man\":a, \"men\":[1,2]}\n",
    "cc=list(bb)"
   ]
  },
  {
   "cell_type": "code",
   "execution_count": 64,
   "metadata": {},
   "outputs": [
    {
     "data": {
      "text/plain": [
       "['man', 'men']"
      ]
     },
     "execution_count": 64,
     "metadata": {},
     "output_type": "execute_result"
    }
   ],
   "source": [
    "a[\"pap\"]=[1]\n",
    "bb\n",
    "cc"
   ]
  },
  {
   "cell_type": "code",
   "execution_count": 39,
   "metadata": {},
   "outputs": [
    {
     "data": {
      "text/plain": [
       "[]"
      ]
     },
     "execution_count": 39,
     "metadata": {},
     "output_type": "execute_result"
    }
   ],
   "source": [
    "a = [1]\n",
    "a.remove(1)\n",
    "a is None\n",
    "a"
   ]
  },
  {
   "cell_type": "code",
   "execution_count": 37,
   "metadata": {},
   "outputs": [
    {
     "data": {
      "text/plain": [
       "[0, 1]"
      ]
     },
     "execution_count": 37,
     "metadata": {},
     "output_type": "execute_result"
    }
   ],
   "source": [
    "l=[0,3,1]\n",
    "l.remove(3)\n",
    "l"
   ]
  },
  {
   "cell_type": "code",
   "execution_count": 30,
   "metadata": {},
   "outputs": [],
   "source": [
    "df = df.append({'A': i}, ignore_index=True)"
   ]
  },
  {
   "cell_type": "code",
   "execution_count": 89,
   "metadata": {},
   "outputs": [
    {
     "data": {
      "text/plain": [
       "1.0"
      ]
     },
     "execution_count": 89,
     "metadata": {},
     "output_type": "execute_result"
    }
   ],
   "source": [
    "classVals=getVals(df,classifier)\n",
    "cl=df[classifier]\n",
    "sqSum = 0\n",
    "for val in classVals:\n",
    "    sqSum += (len(cl[cl==val])/len(df))**2\n",
    "GINI= 1-sqSum\n",
    "GINI"
   ]
  },
  {
   "cell_type": "code",
   "execution_count": 110,
   "metadata": {},
   "outputs": [
    {
     "data": {
      "text/plain": [
       "0.5"
      ]
     },
     "execution_count": 110,
     "metadata": {},
     "output_type": "execute_result"
    }
   ],
   "source": [
    "GINI(node)"
   ]
  },
  {
   "cell_type": "code",
   "execution_count": 62,
   "metadata": {},
   "outputs": [
    {
     "data": {
      "text/plain": [
       "0     0\n",
       "4     0\n",
       "5     0\n",
       "6     0\n",
       "7     0\n",
       "12    0\n",
       "13    0\n",
       "14    0\n",
       "16    0\n",
       "18    0\n",
       "Name: Survived, dtype: int64"
      ]
     },
     "execution_count": 62,
     "metadata": {},
     "output_type": "execute_result"
    }
   ],
   "source": [
    "cl=df[classifier]\n",
    "cl[cl==0]"
   ]
  },
  {
   "cell_type": "code",
   "execution_count": 66,
   "metadata": {},
   "outputs": [
    {
     "data": {
      "text/plain": [
       "10"
      ]
     },
     "execution_count": 66,
     "metadata": {},
     "output_type": "execute_result"
    }
   ],
   "source": [
    "len(cl[cl==val])"
   ]
  },
  {
   "cell_type": "code",
   "execution_count": 38,
   "metadata": {},
   "outputs": [
    {
     "data": {
      "text/plain": [
       "'iiiih'"
      ]
     },
     "execution_count": 38,
     "metadata": {},
     "output_type": "execute_result"
    }
   ],
   "source": [
    "ginis={\"ahh\":2,\"ohhh\":4,\"iiiih\":1}\n",
    "min(ginis, key=ginis.get)"
   ]
  },
  {
   "cell_type": "code",
   "execution_count": 71,
   "metadata": {},
   "outputs": [],
   "source": [
    "d=tree['tree']\n"
   ]
  },
  {
   "cell_type": "code",
   "execution_count": 125,
   "metadata": {},
   "outputs": [
    {
     "data": {
      "text/html": [
       "<div>\n",
       "<style scoped>\n",
       "    .dataframe tbody tr th:only-of-type {\n",
       "        vertical-align: middle;\n",
       "    }\n",
       "\n",
       "    .dataframe tbody tr th {\n",
       "        vertical-align: top;\n",
       "    }\n",
       "\n",
       "    .dataframe thead th {\n",
       "        text-align: right;\n",
       "    }\n",
       "</style>\n",
       "<table border=\"1\" class=\"dataframe\">\n",
       "  <thead>\n",
       "    <tr style=\"text-align: right;\">\n",
       "      <th></th>\n",
       "      <th>Sex</th>\n",
       "      <th>Pclass</th>\n",
       "      <th>Embarked</th>\n",
       "      <th>Survived</th>\n",
       "    </tr>\n",
       "  </thead>\n",
       "  <tbody>\n",
       "    <tr>\n",
       "      <th>0</th>\n",
       "      <td>1</td>\n",
       "      <td>3</td>\n",
       "      <td>2</td>\n",
       "      <td>0</td>\n",
       "    </tr>\n",
       "    <tr>\n",
       "      <th>2</th>\n",
       "      <td>0</td>\n",
       "      <td>3</td>\n",
       "      <td>2</td>\n",
       "      <td>1</td>\n",
       "    </tr>\n",
       "    <tr>\n",
       "      <th>4</th>\n",
       "      <td>1</td>\n",
       "      <td>3</td>\n",
       "      <td>2</td>\n",
       "      <td>0</td>\n",
       "    </tr>\n",
       "    <tr>\n",
       "      <th>5</th>\n",
       "      <td>1</td>\n",
       "      <td>3</td>\n",
       "      <td>1</td>\n",
       "      <td>0</td>\n",
       "    </tr>\n",
       "    <tr>\n",
       "      <th>7</th>\n",
       "      <td>1</td>\n",
       "      <td>3</td>\n",
       "      <td>2</td>\n",
       "      <td>0</td>\n",
       "    </tr>\n",
       "    <tr>\n",
       "      <th>8</th>\n",
       "      <td>0</td>\n",
       "      <td>3</td>\n",
       "      <td>2</td>\n",
       "      <td>1</td>\n",
       "    </tr>\n",
       "    <tr>\n",
       "      <th>9</th>\n",
       "      <td>0</td>\n",
       "      <td>2</td>\n",
       "      <td>0</td>\n",
       "      <td>1</td>\n",
       "    </tr>\n",
       "    <tr>\n",
       "      <th>10</th>\n",
       "      <td>0</td>\n",
       "      <td>3</td>\n",
       "      <td>2</td>\n",
       "      <td>1</td>\n",
       "    </tr>\n",
       "    <tr>\n",
       "      <th>12</th>\n",
       "      <td>1</td>\n",
       "      <td>3</td>\n",
       "      <td>2</td>\n",
       "      <td>0</td>\n",
       "    </tr>\n",
       "    <tr>\n",
       "      <th>13</th>\n",
       "      <td>1</td>\n",
       "      <td>3</td>\n",
       "      <td>2</td>\n",
       "      <td>0</td>\n",
       "    </tr>\n",
       "    <tr>\n",
       "      <th>14</th>\n",
       "      <td>0</td>\n",
       "      <td>3</td>\n",
       "      <td>2</td>\n",
       "      <td>0</td>\n",
       "    </tr>\n",
       "    <tr>\n",
       "      <th>15</th>\n",
       "      <td>0</td>\n",
       "      <td>2</td>\n",
       "      <td>2</td>\n",
       "      <td>1</td>\n",
       "    </tr>\n",
       "    <tr>\n",
       "      <th>16</th>\n",
       "      <td>1</td>\n",
       "      <td>3</td>\n",
       "      <td>1</td>\n",
       "      <td>0</td>\n",
       "    </tr>\n",
       "    <tr>\n",
       "      <th>17</th>\n",
       "      <td>1</td>\n",
       "      <td>2</td>\n",
       "      <td>2</td>\n",
       "      <td>1</td>\n",
       "    </tr>\n",
       "    <tr>\n",
       "      <th>18</th>\n",
       "      <td>0</td>\n",
       "      <td>3</td>\n",
       "      <td>2</td>\n",
       "      <td>0</td>\n",
       "    </tr>\n",
       "    <tr>\n",
       "      <th>19</th>\n",
       "      <td>0</td>\n",
       "      <td>3</td>\n",
       "      <td>0</td>\n",
       "      <td>1</td>\n",
       "    </tr>\n",
       "  </tbody>\n",
       "</table>\n",
       "</div>"
      ],
      "text/plain": [
       "    Sex  Pclass  Embarked  Survived\n",
       "0     1       3         2         0\n",
       "2     0       3         2         1\n",
       "4     1       3         2         0\n",
       "5     1       3         1         0\n",
       "7     1       3         2         0\n",
       "8     0       3         2         1\n",
       "9     0       2         0         1\n",
       "10    0       3         2         1\n",
       "12    1       3         2         0\n",
       "13    1       3         2         0\n",
       "14    0       3         2         0\n",
       "15    0       2         2         1\n",
       "16    1       3         1         0\n",
       "17    1       2         2         1\n",
       "18    0       3         2         0\n",
       "19    0       3         0         1"
      ]
     },
     "execution_count": 125,
     "metadata": {},
     "output_type": "execute_result"
    }
   ],
   "source": [
    "transd=d.T\n",
    "\n",
    "for row in transd:\n",
    "    if transd[row]['Sex'] < 1:\n",
    "        a += [transd[row]]\n",
    "b= d[d['Pclass']<2]\n",
    "bb = d[d['Pclass']>=2]\n",
    "bb"
   ]
  },
  {
   "cell_type": "code",
   "execution_count": 167,
   "metadata": {},
   "outputs": [
    {
     "data": {
      "text/plain": [
       "4"
      ]
     },
     "execution_count": 167,
     "metadata": {},
     "output_type": "execute_result"
    }
   ],
   "source": [
    "b.T.count().count()"
   ]
  },
  {
   "cell_type": "code",
   "execution_count": null,
   "metadata": {},
   "outputs": [],
   "source": []
  }
 ],
 "metadata": {
  "kernelspec": {
   "display_name": "Python 3",
   "language": "python",
   "name": "python3"
  },
  "language_info": {
   "codemirror_mode": {
    "name": "ipython",
    "version": 3
   },
   "file_extension": ".py",
   "mimetype": "text/x-python",
   "name": "python",
   "nbconvert_exporter": "python",
   "pygments_lexer": "ipython3",
   "version": "3.6.10"
  }
 },
 "nbformat": 4,
 "nbformat_minor": 4
}
