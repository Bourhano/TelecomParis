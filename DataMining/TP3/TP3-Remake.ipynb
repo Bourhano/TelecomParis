{
 "cells": [
  {
   "cell_type": "code",
   "execution_count": 355,
   "metadata": {},
   "outputs": [
    {
     "name": "stdout",
     "output_type": "stream",
     "text": [
      "this: 0\n",
      "left:  1\n",
      "right:  1\n",
      "this: 1\n",
      "left:  2\n",
      "right:  2\n",
      "this: 2\n",
      "left:  3\n",
      "right:  3\n",
      "this: 1\n",
      "left:  2\n",
      "right:  2\n"
     ]
    }
   ],
   "source": [
    "# IMPORTANT CONDITION:\n",
    "# Attributes of each node are the attributes that have more than one value in the current DataFarme.\n",
    "# Because:\n",
    "# \n",
    "# We shall not try to find a good split of a node that has the same classifier!!!\n",
    "import pandas as pd\n",
    "path='data.csv'\n",
    "df=pd.read_csv(path)\n",
    "df=df[:20]\n",
    "A=list(df.columns[:-1])\n",
    "classifier=df.columns[-1]\n",
    "D = df\n",
    "default = 0\n",
    "tree= createNode(D, A, \"Root\", 0, classifier)\n",
    "continueTree(tree)"
   ]
  },
  {
   "cell_type": "code",
   "execution_count": 351,
   "metadata": {
    "collapsed": true,
    "jupyter": {
     "outputs_hidden": true
    }
   },
   "outputs": [
    {
     "data": {
      "text/plain": [
       "{'tree':     Sex  Pclass  Embarked  Survived\n",
       " 0     1       3         2         0\n",
       " 1     0       1         0         1\n",
       " 2     0       3         2         1\n",
       " 3     0       1         2         1\n",
       " 4     1       3         2         0\n",
       " 5     1       3         1         0\n",
       " 6     1       1         2         0\n",
       " 7     1       3         2         0\n",
       " 8     0       3         2         1\n",
       " 9     0       2         0         1\n",
       " 10    0       3         2         1\n",
       " 11    0       1         2         1\n",
       " 12    1       3         2         0\n",
       " 13    1       3         2         0\n",
       " 14    0       3         2         0\n",
       " 15    0       2         2         1\n",
       " 16    1       3         1         0\n",
       " 17    1       2         2         1\n",
       " 18    0       3         2         0\n",
       " 19    0       3         0         1\n",
       " 20    1       2         2         0\n",
       " 21    1       2         2         1\n",
       " 22    0       3         1         1\n",
       " 23    1       1         2         1\n",
       " 24    0       3         2         0,\n",
       " 'attributes': ['Sex', 'Pclass', 'Embarked'],\n",
       " 'type': 'Root',\n",
       " 'level': 0,\n",
       " 'classifier': 'Survived',\n",
       " 'min': 5,\n",
       " 'default': 1,\n",
       " 'gini': 0.4992,\n",
       " 'feature': ('Sex', 1),\n",
       " 'left': {'tree':     Sex  Pclass  Embarked  Survived\n",
       "  1     0       1         0         1\n",
       "  2     0       3         2         1\n",
       "  3     0       1         2         1\n",
       "  8     0       3         2         1\n",
       "  9     0       2         0         1\n",
       "  10    0       3         2         1\n",
       "  11    0       1         2         1\n",
       "  14    0       3         2         0\n",
       "  15    0       2         2         1\n",
       "  18    0       3         2         0\n",
       "  19    0       3         0         1\n",
       "  22    0       3         1         1\n",
       "  24    0       3         2         0,\n",
       "  'attributes': ['Sex', 'Pclass', 'Embarked'],\n",
       "  'type': 'Intermediate',\n",
       "  'level': 1,\n",
       "  'classifier': 'Survived',\n",
       "  'min': 5,\n",
       "  'default': 1,\n",
       "  'gini': 0.3550295857988165,\n",
       "  'feature': ('Pclass', 3),\n",
       "  'left': {'tree':     Sex  Pclass  Embarked  Survived\n",
       "   1     0       1         0         1\n",
       "   3     0       1         2         1\n",
       "   9     0       2         0         1\n",
       "   11    0       1         2         1\n",
       "   15    0       2         2         1,\n",
       "   'attributes': ['Sex', 'Pclass', 'Embarked'],\n",
       "   'type': 'Leaf',\n",
       "   'level': 2,\n",
       "   'classifier': 'Survived',\n",
       "   'min': 5,\n",
       "   'default': 1,\n",
       "   'gini': 0.0},\n",
       "  'right': {'tree':     Sex  Pclass  Embarked  Survived\n",
       "   2     0       3         2         1\n",
       "   8     0       3         2         1\n",
       "   10    0       3         2         1\n",
       "   14    0       3         2         0\n",
       "   18    0       3         2         0\n",
       "   19    0       3         0         1\n",
       "   22    0       3         1         1\n",
       "   24    0       3         2         0,\n",
       "   'attributes': ['Sex', 'Pclass', 'Embarked'],\n",
       "   'type': 'Intermediate',\n",
       "   'level': 2,\n",
       "   'classifier': 'Survived',\n",
       "   'min': 5,\n",
       "   'default': 1,\n",
       "   'gini': 0.46875,\n",
       "   'feature': ('Embarked', 2),\n",
       "   'left': {'tree':     Sex  Pclass  Embarked  Survived\n",
       "    19    0       3         0         1\n",
       "    22    0       3         1         1,\n",
       "    'attributes': ['Sex', 'Pclass', 'Embarked'],\n",
       "    'type': 'Leaf',\n",
       "    'level': 3,\n",
       "    'classifier': 'Survived',\n",
       "    'min': 5,\n",
       "    'default': 1,\n",
       "    'gini': 0.0},\n",
       "   'right': {'tree':     Sex  Pclass  Embarked  Survived\n",
       "    2     0       3         2         1\n",
       "    8     0       3         2         1\n",
       "    10    0       3         2         1\n",
       "    14    0       3         2         0\n",
       "    18    0       3         2         0\n",
       "    24    0       3         2         0,\n",
       "    'attributes': ['Sex', 'Pclass', 'Embarked'],\n",
       "    'type': 'Leaf',\n",
       "    'level': 3,\n",
       "    'classifier': 'Survived',\n",
       "    'min': 5,\n",
       "    'default': 1,\n",
       "    'gini': 0.5}}},\n",
       " 'right': {'tree':     Sex  Pclass  Embarked  Survived\n",
       "  0     1       3         2         0\n",
       "  4     1       3         2         0\n",
       "  5     1       3         1         0\n",
       "  6     1       1         2         0\n",
       "  7     1       3         2         0\n",
       "  12    1       3         2         0\n",
       "  13    1       3         2         0\n",
       "  16    1       3         1         0\n",
       "  17    1       2         2         1\n",
       "  20    1       2         2         0\n",
       "  21    1       2         2         1\n",
       "  23    1       1         2         1,\n",
       "  'attributes': ['Sex', 'Pclass', 'Embarked'],\n",
       "  'type': 'Intermediate',\n",
       "  'level': 1,\n",
       "  'classifier': 'Survived',\n",
       "  'min': 5,\n",
       "  'default': 1,\n",
       "  'gini': 0.375,\n",
       "  'feature': ('Pclass', 3),\n",
       "  'left': {'tree':     Sex  Pclass  Embarked  Survived\n",
       "   6     1       1         2         0\n",
       "   17    1       2         2         1\n",
       "   20    1       2         2         0\n",
       "   21    1       2         2         1\n",
       "   23    1       1         2         1,\n",
       "   'attributes': ['Sex', 'Pclass', 'Embarked'],\n",
       "   'type': 'Leaf',\n",
       "   'level': 2,\n",
       "   'classifier': 'Survived',\n",
       "   'min': 5,\n",
       "   'default': 1,\n",
       "   'gini': 0.48},\n",
       "  'right': {'tree':     Sex  Pclass  Embarked  Survived\n",
       "   0     1       3         2         0\n",
       "   4     1       3         2         0\n",
       "   5     1       3         1         0\n",
       "   7     1       3         2         0\n",
       "   12    1       3         2         0\n",
       "   13    1       3         2         0\n",
       "   16    1       3         1         0,\n",
       "   'attributes': ['Sex', 'Pclass', 'Embarked'],\n",
       "   'type': 'Leaf',\n",
       "   'level': 2,\n",
       "   'classifier': 'Survived',\n",
       "   'min': 5,\n",
       "   'default': 1,\n",
       "   'gini': 0.0}}}"
      ]
     },
     "execution_count": 351,
     "metadata": {},
     "output_type": "execute_result"
    }
   ],
   "source": [
    "tree"
   ]
  },
  {
   "cell_type": "markdown",
   "metadata": {},
   "source": [
    "# FUNCTIONS"
   ]
  },
  {
   "cell_type": "code",
   "execution_count": 334,
   "metadata": {},
   "outputs": [
    {
     "data": {
      "text/html": [
       "<div>\n",
       "<style scoped>\n",
       "    .dataframe tbody tr th:only-of-type {\n",
       "        vertical-align: middle;\n",
       "    }\n",
       "\n",
       "    .dataframe tbody tr th {\n",
       "        vertical-align: top;\n",
       "    }\n",
       "\n",
       "    .dataframe thead th {\n",
       "        text-align: right;\n",
       "    }\n",
       "</style>\n",
       "<table border=\"1\" class=\"dataframe\">\n",
       "  <thead>\n",
       "    <tr style=\"text-align: right;\">\n",
       "      <th></th>\n",
       "      <th>Sex</th>\n",
       "      <th>Pclass</th>\n",
       "      <th>Embarked</th>\n",
       "      <th>Survived</th>\n",
       "    </tr>\n",
       "  </thead>\n",
       "  <tbody>\n",
       "    <tr>\n",
       "      <th>2</th>\n",
       "      <td>0</td>\n",
       "      <td>3</td>\n",
       "      <td>2</td>\n",
       "      <td>1</td>\n",
       "    </tr>\n",
       "    <tr>\n",
       "      <th>8</th>\n",
       "      <td>0</td>\n",
       "      <td>3</td>\n",
       "      <td>2</td>\n",
       "      <td>1</td>\n",
       "    </tr>\n",
       "    <tr>\n",
       "      <th>10</th>\n",
       "      <td>0</td>\n",
       "      <td>3</td>\n",
       "      <td>2</td>\n",
       "      <td>1</td>\n",
       "    </tr>\n",
       "    <tr>\n",
       "      <th>14</th>\n",
       "      <td>0</td>\n",
       "      <td>3</td>\n",
       "      <td>2</td>\n",
       "      <td>0</td>\n",
       "    </tr>\n",
       "    <tr>\n",
       "      <th>18</th>\n",
       "      <td>0</td>\n",
       "      <td>3</td>\n",
       "      <td>2</td>\n",
       "      <td>0</td>\n",
       "    </tr>\n",
       "    <tr>\n",
       "      <th>24</th>\n",
       "      <td>0</td>\n",
       "      <td>3</td>\n",
       "      <td>2</td>\n",
       "      <td>0</td>\n",
       "    </tr>\n",
       "  </tbody>\n",
       "</table>\n",
       "</div>"
      ],
      "text/plain": [
       "    Sex  Pclass  Embarked  Survived\n",
       "2     0       3         2         1\n",
       "8     0       3         2         1\n",
       "10    0       3         2         1\n",
       "14    0       3         2         0\n",
       "18    0       3         2         0\n",
       "24    0       3         2         0"
      ]
     },
     "execution_count": 334,
     "metadata": {},
     "output_type": "execute_result"
    }
   ],
   "source": [
    "d=tree[\"tree\"]\n",
    "ds=d[d[\"Sex\"]==1]\n",
    "dd=d[d[\"Sex\"]==0]\n",
    "getVals(d, \"Sex\")\n",
    "\n",
    "ddd=dd[dd[\"Pclass\"]<3]\n",
    "dds=dd[dd[\"Pclass\"]>=3]\n",
    "ddsd=dds[dds[\"Embarked\"]<2]\n",
    "ddss=dds[dds[\"Embarked\"]>=2]\n",
    "\n",
    "dsd=ds[ds[\"Pclass\"]<3]\n",
    "dss=ds[ds[\"Pclass\"]>=3]\n",
    "\n",
    "a=ddss\n",
    "GINI(a, \"Survived\")\n",
    "a"
   ]
  },
  {
   "cell_type": "code",
   "execution_count": 332,
   "metadata": {},
   "outputs": [
    {
     "name": "stdout",
     "output_type": "stream",
     "text": [
      "[0]\n",
      "[3]\n",
      "[2]\n"
     ]
    },
    {
     "ename": "ValueError",
     "evalue": "min() arg is an empty sequence",
     "output_type": "error",
     "traceback": [
      "\u001b[1;31m---------------------------------------------------------------------------\u001b[0m",
      "\u001b[1;31mValueError\u001b[0m                                Traceback (most recent call last)",
      "\u001b[1;32m<ipython-input-332-60125eab2b76>\u001b[0m in \u001b[0;36m<module>\u001b[1;34m\u001b[0m\n\u001b[0;32m      7\u001b[0m     \u001b[1;32mfor\u001b[0m \u001b[0mval\u001b[0m \u001b[1;32min\u001b[0m \u001b[0mvals\u001b[0m\u001b[1;33m[\u001b[0m\u001b[1;36m1\u001b[0m\u001b[1;33m:\u001b[0m\u001b[1;33m]\u001b[0m\u001b[1;33m:\u001b[0m\u001b[1;33m\u001b[0m\u001b[1;33m\u001b[0m\u001b[0m\n\u001b[0;32m      8\u001b[0m         \u001b[0mginis\u001b[0m\u001b[1;33m[\u001b[0m\u001b[1;33m(\u001b[0m\u001b[0matt\u001b[0m \u001b[1;33m,\u001b[0m\u001b[0mval\u001b[0m\u001b[1;33m)\u001b[0m\u001b[1;33m]\u001b[0m\u001b[1;33m=\u001b[0m\u001b[0mGINIsplit\u001b[0m\u001b[1;33m(\u001b[0m\u001b[0md\u001b[0m\u001b[1;33m,\u001b[0m \u001b[0matt\u001b[0m\u001b[1;33m,\u001b[0m \u001b[0mval\u001b[0m\u001b[1;33m,\u001b[0m \u001b[1;34m\"Survived\"\u001b[0m\u001b[1;33m)\u001b[0m\u001b[1;33m\u001b[0m\u001b[1;33m\u001b[0m\u001b[0m\n\u001b[1;32m----> 9\u001b[1;33m \u001b[0mbest\u001b[0m \u001b[1;33m=\u001b[0m \u001b[0mmin\u001b[0m\u001b[1;33m(\u001b[0m\u001b[0mginis\u001b[0m\u001b[1;33m,\u001b[0m \u001b[0mkey\u001b[0m\u001b[1;33m=\u001b[0m\u001b[0mginis\u001b[0m\u001b[1;33m.\u001b[0m\u001b[0mget\u001b[0m\u001b[1;33m)\u001b[0m\u001b[1;33m\u001b[0m\u001b[1;33m\u001b[0m\u001b[0m\n\u001b[0m\u001b[0;32m     10\u001b[0m \u001b[0mbest\u001b[0m\u001b[1;33m\u001b[0m\u001b[1;33m\u001b[0m\u001b[0m\n\u001b[0;32m     11\u001b[0m \u001b[0mginis\u001b[0m\u001b[1;33m\u001b[0m\u001b[1;33m\u001b[0m\u001b[0m\n",
      "\u001b[1;31mValueError\u001b[0m: min() arg is an empty sequence"
     ]
    }
   ],
   "source": [
    "atts=[\"Sex\", \"Pclass\", \"Embarked\"]\n",
    "d=ddss\n",
    "ginis={}\n",
    "for att in atts:\n",
    "    vals = getVals(d, att)\n",
    "    print(vals)\n",
    "    for val in vals[1:]:\n",
    "        ginis[(att ,val)]=GINIsplit(d, att, val, \"Survived\")\n",
    "best = min(ginis, key=ginis.get)\n",
    "best\n",
    "ginis"
   ]
  },
  {
   "cell_type": "code",
   "execution_count": 333,
   "metadata": {},
   "outputs": [
    {
     "data": {
      "text/html": [
       "<div>\n",
       "<style scoped>\n",
       "    .dataframe tbody tr th:only-of-type {\n",
       "        vertical-align: middle;\n",
       "    }\n",
       "\n",
       "    .dataframe tbody tr th {\n",
       "        vertical-align: top;\n",
       "    }\n",
       "\n",
       "    .dataframe thead th {\n",
       "        text-align: right;\n",
       "    }\n",
       "</style>\n",
       "<table border=\"1\" class=\"dataframe\">\n",
       "  <thead>\n",
       "    <tr style=\"text-align: right;\">\n",
       "      <th></th>\n",
       "      <th>Sex</th>\n",
       "      <th>Pclass</th>\n",
       "      <th>Embarked</th>\n",
       "      <th>Survived</th>\n",
       "    </tr>\n",
       "  </thead>\n",
       "  <tbody>\n",
       "  </tbody>\n",
       "</table>\n",
       "</div>"
      ],
      "text/plain": [
       "Empty DataFrame\n",
       "Columns: [Sex, Pclass, Embarked, Survived]\n",
       "Index: []"
      ]
     },
     "execution_count": 333,
     "metadata": {},
     "output_type": "execute_result"
    }
   ],
   "source": [
    "a,b=split(dds, \"Pclass\", 2)\n",
    "a"
   ]
  },
  {
   "cell_type": "code",
   "execution_count": 330,
   "metadata": {},
   "outputs": [
    {
     "data": {
      "text/plain": [
       "0.5"
      ]
     },
     "execution_count": 330,
     "metadata": {},
     "output_type": "execute_result"
    }
   ],
   "source": [
    "bestCandidate(dds, atts, \"Survived\")\n",
    "GINI(ddss,\"Survived\")"
   ]
  },
  {
   "cell_type": "code",
   "execution_count": 348,
   "metadata": {},
   "outputs": [
    {
     "name": "stdout",
     "output_type": "stream",
     "text": [
      "2     0\n",
      "8     0\n",
      "10    0\n",
      "14    0\n",
      "18    0\n",
      "24    0\n",
      "Name: Sex, dtype: int64\n",
      "2     3\n",
      "8     3\n",
      "10    3\n",
      "14    3\n",
      "18    3\n",
      "24    3\n",
      "Name: Pclass, dtype: int64\n",
      "2     2\n",
      "8     2\n",
      "10    2\n",
      "14    2\n",
      "18    2\n",
      "24    2\n",
      "Name: Embarked, dtype: int64\n"
     ]
    },
    {
     "data": {
      "text/plain": [
       "True"
      ]
     },
     "execution_count": 348,
     "metadata": {},
     "output_type": "execute_result"
    }
   ],
   "source": [
    "allEqual(ddss, tree[\"attributes\"])"
   ]
  },
  {
   "cell_type": "code",
   "execution_count": 356,
   "metadata": {},
   "outputs": [],
   "source": [
    "def printNode(node):\n",
    "    nType = node[\"type\"]\n",
    "    nLevel= node[\"level\"]\n",
    "    nGini =node[\"gini\"]\n",
    "    print(nType)\n",
    "    print(\"Level\",nLevel)\n",
    "    if nType in (\"Root\",\"Intermediate\"):\n",
    "        feature = node[\"feature\"]\n",
    "        print(\"Feature\",feature[0],end=\" \")\n",
    "        for i in range(min(getVals(node[\"tree\"],feature[0])),feature[1]):\n",
    "            if (i != feature[1] - 1):\n",
    "                print(i, end = \" \")\n",
    "            else:\n",
    "                print(i, end = \"\")\n",
    "        print()\n",
    "    else:\n",
    "        test = sum(node[\"tree\"][node[\"classifier\"]])/len(node[\"tree\"]) > 0.5\n",
    "        cl = 1 if test else 0\n",
    "        if (len(node[\"tree\"])<node[\"min\"]): cl = node[\"default\"]\n",
    "        print(\"Class\",cl)\n",
    "    if(nGini!=0):\n",
    "        print(\"Gini\",\"{:.4}\".format(nGini))\n",
    "    else:\n",
    "        print(\"Gini\",0)"
   ]
  },
  {
   "cell_type": "code",
   "execution_count": 341,
   "metadata": {},
   "outputs": [],
   "source": [
    "def continueTree(root):\n",
    "    A = list(root[\"attributes\"])\n",
    "    D = root[\"tree\"]\n",
    "    classifier = root[\"classifier\"]\n",
    "    sameAttributes = allEqual(D, A)\n",
    "    if len(D)<=root[\"min\"] or root[\"gini\"]==0 or sameAttributes:\n",
    "        root[\"type\"]= \"Leaf\"\n",
    "    elif root[\"type\"] != \"Leaf\":\n",
    "        root[\"feature\"]= [attribute, value] = bestCandidate(D, A, classifier) #don't call for best candidate if there are no new best candidates\n",
    "        left,right = split(D, attribute, value)\n",
    "        print(\"this:\",root[\"level\"])\n",
    "        root[\"left\"]  = createNode(left , A, \"Intermediate\", root[\"level\"]+1, classifier)\n",
    "        print(\"left: \",root[\"left\"][\"level\"])\n",
    "        root[\"right\"] = createNode(right, A, \"Intermediate\", root[\"level\"]+1, classifier)\n",
    "        print(\"right: \",root[\"right\"][\"level\"])\n",
    "        continueTree(root[\"left\"])\n",
    "        continueTree(root[\"right\"])"
   ]
  },
  {
   "cell_type": "code",
   "execution_count": 349,
   "metadata": {},
   "outputs": [],
   "source": [
    "def allEqual(D, A):\n",
    "    for att in A:\n",
    "        iterator = D[att]\n",
    "        iterator = iter(iterator)\n",
    "        try:\n",
    "            first = next(iterator)\n",
    "        except StopIteration:\n",
    "            return True\n",
    "        answer = all(first == rest for rest in iterator)\n",
    "        if answer == False:\n",
    "            return answer\n",
    "    return True"
   ]
  },
  {
   "cell_type": "code",
   "execution_count": 207,
   "metadata": {},
   "outputs": [],
   "source": [
    "def bestCandidate(data, attributes, classifier):\n",
    "    ginis={}\n",
    "    for att in atts:\n",
    "        vals = getVals(data, att)\n",
    "        for val in vals[1:]:\n",
    "            ginis[(att ,val)]=GINIsplit(data, att, val, classifier)\n",
    "    best = min(ginis, key=ginis.get)\n",
    "    return best"
   ]
  },
  {
   "cell_type": "code",
   "execution_count": 125,
   "metadata": {},
   "outputs": [],
   "source": [
    "def GINIsplit(data, attribute, value, classifier):\n",
    "    \"\"\"returns the Gini of the split if applied on the given attribute with the specified classifier, input is a dataframe\"\"\"\n",
    "    [yes,no]=split(data, attribute, value)\n",
    "    gini = (GINI(yes,classifier)*len(yes)+GINI(no, classifier)*len(no))/len(data)\n",
    "    return gini"
   ]
  },
  {
   "cell_type": "code",
   "execution_count": 81,
   "metadata": {},
   "outputs": [],
   "source": [
    "def split(data, attribute, value):\n",
    "    \"\"\"returns two nodes based on a given split (attribute < value), input is a dataframe\"\"\"\n",
    "    yes = data[data[attribute] < value]\n",
    "    no = data[data[attribute] >= value]\n",
    "    return yes,no"
   ]
  },
  {
   "cell_type": "code",
   "execution_count": 77,
   "metadata": {},
   "outputs": [],
   "source": [
    "def getVals(df, attribute):\n",
    "    \"\"\"returns the DISTINCT values of a specified attribute from a dataset\"\"\"\n",
    "    vals = []\n",
    "    for val in list(df[attribute]):\n",
    "        if val not in vals:\n",
    "            vals += [val]\n",
    "    vals.sort()\n",
    "    return vals"
   ]
  },
  {
   "cell_type": "code",
   "execution_count": 291,
   "metadata": {},
   "outputs": [],
   "source": [
    "def GINI(data, classifier):\n",
    "    \"\"\"returns the Gini of the given node, based on the Class\"\"\"\n",
    "    classVals=getVals(data,classifier)\n",
    "    cl=data[classifier]\n",
    "    sqSum = 0\n",
    "    for val in classVals:\n",
    "        prob= len(cl[cl==val])/len(data)\n",
    "        sqSum += prob**2\n",
    "    GINI= 1-sqSum\n",
    "    return GINI"
   ]
  },
  {
   "cell_type": "code",
   "execution_count": 1,
   "metadata": {},
   "outputs": [],
   "source": [
    "def createNode(D, A, nodeType, level, classifier, minNum=5,alpha=0.5, default = 1):\n",
    "    node = {}\n",
    "    node[\"tree\"] = D\n",
    "    node[\"attributes\"] = A\n",
    "    node[\"type\"] = nodeType\n",
    "    node[\"level\"] = level\n",
    "    node[\"classifier\"] = classifier\n",
    "    node[\"min\"]=minNum\n",
    "    node[\"default\"]=default\n",
    "    node[\"gini\"]=float(GINI(D,classifier))\n",
    "    return node"
   ]
  },
  {
   "cell_type": "code",
   "execution_count": null,
   "metadata": {},
   "outputs": [],
   "source": []
  }
 ],
 "metadata": {
  "kernelspec": {
   "display_name": "Python 3",
   "language": "python",
   "name": "python3"
  },
  "language_info": {
   "codemirror_mode": {
    "name": "ipython",
    "version": 3
   },
   "file_extension": ".py",
   "mimetype": "text/x-python",
   "name": "python",
   "nbconvert_exporter": "python",
   "pygments_lexer": "ipython3",
   "version": "3.6.10"
  }
 },
 "nbformat": 4,
 "nbformat_minor": 4
}
