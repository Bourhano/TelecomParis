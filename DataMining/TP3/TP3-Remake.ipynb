{
 "cells": [
  {
   "cell_type": "code",
   "execution_count": 307,
   "metadata": {},
   "outputs": [
    {
     "name": "stdout",
     "output_type": "stream",
     "text": [
      "Generalization Error = 0.20078740157480315\n"
     ]
    },
    {
     "data": {
      "text/plain": [
       "0.20078740157480315"
      ]
     },
     "execution_count": 307,
     "metadata": {},
     "output_type": "execute_result"
    }
   ],
   "source": [
    "# IMPORTANT CONDITION:\n",
    "# Attributes of each node are the attributes that have more than one value in the current DataFarme.\n",
    "# Because: they might be all the same but have different classifiers, hence producing bad splits\n",
    "# \n",
    "# We shall not try to find a good split of a node that has the same classifier!!!\n",
    "import pandas as pd\n",
    "path='data.csv'\n",
    "df=pd.read_csv(path)\n",
    "#df=df[:20]\n",
    "A=list(df.columns[:-1])\n",
    "classifier=df.columns[-1]\n",
    "D = df\n",
    "default = 0\n",
    "mytree= createNode(D, A, \"Root\", 0, classifier)\n",
    "continueTree(mytree)\n",
    "generalizationError(mytree, 0.5)"
   ]
  },
  {
   "cell_type": "code",
   "execution_count": 304,
   "metadata": {
    "collapsed": true,
    "jupyter": {
     "outputs_hidden": true
    }
   },
   "outputs": [
    {
     "name": "stdout",
     "output_type": "stream",
     "text": [
      "Root\n",
      "Level 0\n",
      "Feature Sex 0\n",
      "Gini 0.4724\n",
      "\n",
      "Intermediate\n",
      "Level 1\n",
      "Feature Pclass 1 2\n",
      "Gini 0.3844\n",
      "*********\n",
      "Intermediate\n",
      "Level 1\n",
      "Feature Pclass 1\n",
      "Gini 0.3064\n",
      "\n",
      "Intermediate\n",
      "Level 2\n",
      "Feature Embarked 0 1\n",
      "Gini 0.1014\n",
      "*********\n",
      "Intermediate\n",
      "Level 2\n",
      "Feature Embarked 0 1\n",
      "Gini 0.5\n",
      "*********\n",
      "Intermediate\n",
      "Level 2\n",
      "Feature Embarked 0\n",
      "Gini 0.4656\n",
      "*********\n",
      "Intermediate\n",
      "Level 2\n",
      "Feature Embarked 0\n",
      "Gini 0.2417\n",
      "\n",
      "Intermediate\n",
      "Level 3\n",
      "Feature Pclass 1\n",
      "Gini 0.03702\n",
      "*********\n",
      "Intermediate\n",
      "Level 3\n",
      "Feature Pclass 1\n",
      "Gini 0.1295\n",
      "*********\n",
      "Intermediate\n",
      "Level 3\n",
      "Feature Embarked 0\n",
      "Gini 0.4228\n",
      "*********\n",
      "Leaf\n",
      "Level 3\n",
      "Class 0\n",
      "Gini 0.4688\n",
      "*********\n",
      "Leaf\n",
      "Level 3\n",
      "Class 0\n",
      "Gini 0.4819\n",
      "*********\n",
      "Intermediate\n",
      "Level 3\n",
      "Feature Embarked 1\n",
      "Gini 0.455\n",
      "*********\n",
      "Intermediate\n",
      "Level 3\n",
      "Feature Pclass 2\n",
      "Gini 0.3503\n",
      "*********\n",
      "Intermediate\n",
      "Level 3\n",
      "Feature Embarked 1\n",
      "Gini 0.2252\n",
      "\n",
      "Intermediate\n",
      "Level 4\n",
      "Feature Embarked 0\n",
      "Gini 0.04442\n",
      "*********\n",
      "Leaf\n",
      "Level 4\n",
      "Class 1\n",
      "Gini 0\n",
      "*********\n",
      "Leaf\n",
      "Level 4\n",
      "Class 1\n",
      "Gini 0.07986\n",
      "*********\n",
      "Leaf\n",
      "Level 4\n",
      "Class 1\n",
      "Gini 0.1631\n",
      "*********\n",
      "Leaf\n",
      "Level 4\n",
      "Class 1\n",
      "Gini 0.4537\n",
      "*********\n",
      "Leaf\n",
      "Level 4\n",
      "Class 1\n",
      "Gini 0.3967\n",
      "*********\n",
      "Leaf\n",
      "Level 4\n",
      "Class 1\n",
      "Gini 0\n",
      "*********\n",
      "Leaf\n",
      "Level 4\n",
      "Class 0\n",
      "Gini 0.4576\n",
      "*********\n",
      "Leaf\n",
      "Level 4\n",
      "Class 0\n",
      "Gini 0.32\n",
      "*********\n",
      "Leaf\n",
      "Level 4\n",
      "Class 0\n",
      "Gini 0.3569\n",
      "*********\n",
      "Intermediate\n",
      "Level 4\n",
      "Feature Pclass 2\n",
      "Gini 0.1387\n",
      "*********\n",
      "Intermediate\n",
      "Level 4\n",
      "Feature Pclass 2\n",
      "Gini 0.2341\n",
      "\n",
      "Leaf\n",
      "Level 5\n",
      "Class 1\n",
      "Gini 0.04543\n",
      "*********\n",
      "Leaf\n",
      "Level 5\n",
      "Class 1\n",
      "Gini 0\n",
      "*********\n",
      "Leaf\n",
      "Level 5\n",
      "Class 1\n",
      "Gini 0\n",
      "*********\n",
      "Leaf\n",
      "Level 5\n",
      "Class 0\n",
      "Gini 0.142\n",
      "*********\n",
      "Leaf\n",
      "Level 5\n",
      "Class 0\n",
      "Gini 0.2615\n",
      "*********\n",
      "Leaf\n",
      "Level 5\n",
      "Class 0\n",
      "Gini 0.2237\n",
      "\n"
     ]
    }
   ],
   "source": [
    "printDecisionTree(mytree)"
   ]
  },
  {
   "cell_type": "markdown",
   "metadata": {},
   "source": [
    "# FUNCTIONS"
   ]
  },
  {
   "cell_type": "code",
   "execution_count": 110,
   "metadata": {
    "collapsed": true,
    "jupyter": {
     "outputs_hidden": true,
     "source_hidden": true
    }
   },
   "outputs": [
    {
     "data": {
      "text/html": [
       "<div>\n",
       "<style scoped>\n",
       "    .dataframe tbody tr th:only-of-type {\n",
       "        vertical-align: middle;\n",
       "    }\n",
       "\n",
       "    .dataframe tbody tr th {\n",
       "        vertical-align: top;\n",
       "    }\n",
       "\n",
       "    .dataframe thead th {\n",
       "        text-align: right;\n",
       "    }\n",
       "</style>\n",
       "<table border=\"1\" class=\"dataframe\">\n",
       "  <thead>\n",
       "    <tr style=\"text-align: right;\">\n",
       "      <th></th>\n",
       "      <th>Sex</th>\n",
       "      <th>Pclass</th>\n",
       "      <th>Embarked</th>\n",
       "      <th>Survived</th>\n",
       "    </tr>\n",
       "  </thead>\n",
       "  <tbody>\n",
       "    <tr>\n",
       "      <th>2</th>\n",
       "      <td>0</td>\n",
       "      <td>3</td>\n",
       "      <td>2</td>\n",
       "      <td>1</td>\n",
       "    </tr>\n",
       "    <tr>\n",
       "      <th>8</th>\n",
       "      <td>0</td>\n",
       "      <td>3</td>\n",
       "      <td>2</td>\n",
       "      <td>1</td>\n",
       "    </tr>\n",
       "    <tr>\n",
       "      <th>10</th>\n",
       "      <td>0</td>\n",
       "      <td>3</td>\n",
       "      <td>2</td>\n",
       "      <td>1</td>\n",
       "    </tr>\n",
       "    <tr>\n",
       "      <th>14</th>\n",
       "      <td>0</td>\n",
       "      <td>3</td>\n",
       "      <td>2</td>\n",
       "      <td>0</td>\n",
       "    </tr>\n",
       "    <tr>\n",
       "      <th>18</th>\n",
       "      <td>0</td>\n",
       "      <td>3</td>\n",
       "      <td>2</td>\n",
       "      <td>0</td>\n",
       "    </tr>\n",
       "  </tbody>\n",
       "</table>\n",
       "</div>"
      ],
      "text/plain": [
       "    Sex  Pclass  Embarked  Survived\n",
       "2     0       3         2         1\n",
       "8     0       3         2         1\n",
       "10    0       3         2         1\n",
       "14    0       3         2         0\n",
       "18    0       3         2         0"
      ]
     },
     "execution_count": 110,
     "metadata": {},
     "output_type": "execute_result"
    }
   ],
   "source": [
    "d=tree[\"tree\"]\n",
    "ds=d[d[\"Sex\"]==1]\n",
    "dd=d[d[\"Sex\"]==0]\n",
    "getVals(d, \"Sex\")\n",
    "\n",
    "ddd=dd[dd[\"Pclass\"]<3]\n",
    "dds=dd[dd[\"Pclass\"]>=3]\n",
    "ddsd=dds[dds[\"Embarked\"]<2]\n",
    "ddss=dds[dds[\"Embarked\"]>=2]\n",
    "\n",
    "dsd=ds[ds[\"Pclass\"]<3]\n",
    "dss=ds[ds[\"Pclass\"]>=3]\n",
    "\n",
    "a=ddss\n",
    "GINI(a, \"Survived\")\n",
    "a"
   ]
  },
  {
   "cell_type": "code",
   "execution_count": 111,
   "metadata": {
    "collapsed": true,
    "jupyter": {
     "outputs_hidden": true,
     "source_hidden": true
    }
   },
   "outputs": [
    {
     "name": "stdout",
     "output_type": "stream",
     "text": [
      "[0]\n",
      "[3]\n",
      "[2]\n"
     ]
    },
    {
     "ename": "ValueError",
     "evalue": "min() arg is an empty sequence",
     "output_type": "error",
     "traceback": [
      "\u001b[1;31m---------------------------------------------------------------------------\u001b[0m",
      "\u001b[1;31mValueError\u001b[0m                                Traceback (most recent call last)",
      "\u001b[1;32m<ipython-input-111-60125eab2b76>\u001b[0m in \u001b[0;36m<module>\u001b[1;34m\u001b[0m\n\u001b[0;32m      7\u001b[0m     \u001b[1;32mfor\u001b[0m \u001b[0mval\u001b[0m \u001b[1;32min\u001b[0m \u001b[0mvals\u001b[0m\u001b[1;33m[\u001b[0m\u001b[1;36m1\u001b[0m\u001b[1;33m:\u001b[0m\u001b[1;33m]\u001b[0m\u001b[1;33m:\u001b[0m\u001b[1;33m\u001b[0m\u001b[1;33m\u001b[0m\u001b[0m\n\u001b[0;32m      8\u001b[0m         \u001b[0mginis\u001b[0m\u001b[1;33m[\u001b[0m\u001b[1;33m(\u001b[0m\u001b[0matt\u001b[0m \u001b[1;33m,\u001b[0m\u001b[0mval\u001b[0m\u001b[1;33m)\u001b[0m\u001b[1;33m]\u001b[0m\u001b[1;33m=\u001b[0m\u001b[0mGINIsplit\u001b[0m\u001b[1;33m(\u001b[0m\u001b[0md\u001b[0m\u001b[1;33m,\u001b[0m \u001b[0matt\u001b[0m\u001b[1;33m,\u001b[0m \u001b[0mval\u001b[0m\u001b[1;33m,\u001b[0m \u001b[1;34m\"Survived\"\u001b[0m\u001b[1;33m)\u001b[0m\u001b[1;33m\u001b[0m\u001b[1;33m\u001b[0m\u001b[0m\n\u001b[1;32m----> 9\u001b[1;33m \u001b[0mbest\u001b[0m \u001b[1;33m=\u001b[0m \u001b[0mmin\u001b[0m\u001b[1;33m(\u001b[0m\u001b[0mginis\u001b[0m\u001b[1;33m,\u001b[0m \u001b[0mkey\u001b[0m\u001b[1;33m=\u001b[0m\u001b[0mginis\u001b[0m\u001b[1;33m.\u001b[0m\u001b[0mget\u001b[0m\u001b[1;33m)\u001b[0m\u001b[1;33m\u001b[0m\u001b[1;33m\u001b[0m\u001b[0m\n\u001b[0m\u001b[0;32m     10\u001b[0m \u001b[0mbest\u001b[0m\u001b[1;33m\u001b[0m\u001b[1;33m\u001b[0m\u001b[0m\n\u001b[0;32m     11\u001b[0m \u001b[0mginis\u001b[0m\u001b[1;33m\u001b[0m\u001b[1;33m\u001b[0m\u001b[0m\n",
      "\u001b[1;31mValueError\u001b[0m: min() arg is an empty sequence"
     ]
    }
   ],
   "source": [
    "atts=[\"Sex\", \"Pclass\", \"Embarked\"]\n",
    "d=ddss\n",
    "ginis={}\n",
    "for att in atts:\n",
    "    vals = getVals(d, att)\n",
    "    print(vals)\n",
    "    for val in vals[1:]:\n",
    "        ginis[(att ,val)]=GINIsplit(d, att, val, \"Survived\")\n",
    "best = min(ginis, key=ginis.get)\n",
    "best\n",
    "ginis"
   ]
  },
  {
   "cell_type": "code",
   "execution_count": 112,
   "metadata": {
    "collapsed": true,
    "jupyter": {
     "outputs_hidden": true,
     "source_hidden": true
    }
   },
   "outputs": [
    {
     "data": {
      "text/html": [
       "<div>\n",
       "<style scoped>\n",
       "    .dataframe tbody tr th:only-of-type {\n",
       "        vertical-align: middle;\n",
       "    }\n",
       "\n",
       "    .dataframe tbody tr th {\n",
       "        vertical-align: top;\n",
       "    }\n",
       "\n",
       "    .dataframe thead th {\n",
       "        text-align: right;\n",
       "    }\n",
       "</style>\n",
       "<table border=\"1\" class=\"dataframe\">\n",
       "  <thead>\n",
       "    <tr style=\"text-align: right;\">\n",
       "      <th></th>\n",
       "      <th>Sex</th>\n",
       "      <th>Pclass</th>\n",
       "      <th>Embarked</th>\n",
       "      <th>Survived</th>\n",
       "    </tr>\n",
       "  </thead>\n",
       "  <tbody>\n",
       "  </tbody>\n",
       "</table>\n",
       "</div>"
      ],
      "text/plain": [
       "Empty DataFrame\n",
       "Columns: [Sex, Pclass, Embarked, Survived]\n",
       "Index: []"
      ]
     },
     "execution_count": 112,
     "metadata": {},
     "output_type": "execute_result"
    }
   ],
   "source": [
    "a,b=split(dds, \"Pclass\", 2)\n",
    "a"
   ]
  },
  {
   "cell_type": "code",
   "execution_count": 113,
   "metadata": {
    "collapsed": true,
    "jupyter": {
     "outputs_hidden": true,
     "source_hidden": true
    }
   },
   "outputs": [
    {
     "data": {
      "text/plain": [
       "0.48"
      ]
     },
     "execution_count": 113,
     "metadata": {},
     "output_type": "execute_result"
    }
   ],
   "source": [
    "bestCandidate(dds, atts, \"Survived\")\n",
    "GINI(ddss,\"Survived\")"
   ]
  },
  {
   "cell_type": "code",
   "execution_count": 114,
   "metadata": {
    "collapsed": true,
    "jupyter": {
     "outputs_hidden": true,
     "source_hidden": true
    }
   },
   "outputs": [
    {
     "data": {
      "text/plain": [
       "True"
      ]
     },
     "execution_count": 114,
     "metadata": {},
     "output_type": "execute_result"
    }
   ],
   "source": [
    "allEqual(ddss, tree[\"attributes\"])"
   ]
  },
  {
   "cell_type": "code",
   "execution_count": 115,
   "metadata": {
    "collapsed": true,
    "jupyter": {
     "outputs_hidden": true,
     "source_hidden": true
    }
   },
   "outputs": [
    {
     "data": {
      "text/plain": [
       "True"
      ]
     },
     "execution_count": 115,
     "metadata": {},
     "output_type": "execute_result"
    }
   ],
   "source": [
    "a =[]\n",
    "a ==[]"
   ]
  },
  {
   "cell_type": "code",
   "execution_count": 196,
   "metadata": {
    "collapsed": true,
    "jupyter": {
     "outputs_hidden": true,
     "source_hidden": true
    }
   },
   "outputs": [
    {
     "name": "stdout",
     "output_type": "stream",
     "text": [
      "Generalization Error = 0.275\n"
     ]
    },
    {
     "data": {
      "text/plain": [
       "(5.5, 3, 5)"
      ]
     },
     "execution_count": 196,
     "metadata": {},
     "output_type": "execute_result"
    }
   ],
   "source": [
    "generalizationError(tree, 0.5)"
   ]
  },
  {
   "cell_type": "code",
   "execution_count": 177,
   "metadata": {
    "collapsed": true,
    "jupyter": {
     "outputs_hidden": true,
     "source_hidden": true
    }
   },
   "outputs": [
    {
     "name": "stdout",
     "output_type": "stream",
     "text": [
      "Generalization Error = 0.275\n",
      "dict_keys(['tree', 'attributes', 'type', 'level', 'classifier', 'min', 'default', 'gini', 'feature'])\n",
      "Generalization Error = 0.125\n"
     ]
    },
    {
     "data": {
      "text/plain": [
       "(2.5, 1, 3)"
      ]
     },
     "execution_count": 177,
     "metadata": {},
     "output_type": "execute_result"
    }
   ],
   "source": [
    "myTree= createNode(D, A, \"Root\", 0, classifier)\n",
    "continueTree(myTree)\n",
    "generalizationError(myTree, 0.5)\n",
    "myTree[\"left\"][\"right\"][\"type\"]=\"leaf\"\n",
    "myTree[\"left\"][\"right\"].pop(\"left\")\n",
    "myTree[\"left\"][\"right\"].pop(\"right\")\n",
    "print(myTree[\"left\"][\"right\"].keys())\n",
    "#printDecisionTree(myTree)\n",
    "generalizationError(myTree, 0.5)\n",
    "#getLevels(myTree)\n",
    "#getTreeOrdered(myTree)"
   ]
  },
  {
   "cell_type": "code",
   "execution_count": 278,
   "metadata": {},
   "outputs": [
    {
     "name": "stdout",
     "output_type": "stream",
     "text": [
      "[1, 2, [2, 23, 3]] [1, 2, [2, 23, 3]] [2, 23, 3]\n"
     ]
    }
   ],
   "source": [
    "a=[1,23,3]\n",
    "aa = [1,2, a]\n",
    "b =aa.copy()\n",
    "c=b[2]\n",
    "c[0]=2\n",
    "print(aa,b,c)"
   ]
  },
  {
   "cell_type": "code",
   "execution_count": 281,
   "metadata": {},
   "outputs": [
    {
     "name": "stdout",
     "output_type": "stream",
     "text": [
      "Generalization Error = 0.275\n"
     ]
    },
    {
     "data": {
      "text/plain": [
       "0.275"
      ]
     },
     "execution_count": 281,
     "metadata": {},
     "output_type": "execute_result"
    }
   ],
   "source": [
    "generalizationError(mytree, 0.5)"
   ]
  },
  {
   "cell_type": "code",
   "execution_count": 288,
   "metadata": {},
   "outputs": [
    {
     "name": "stdout",
     "output_type": "stream",
     "text": [
      "Generalization Error = 0.275\n",
      "Intermediate ('Embarked', 2) \n",
      "dict_keys(['tree', 'attributes', 'type', 'level', 'classifier', 'min', 'default', 'gini', 'feature', 'left', 'right'])\n",
      "Generalization Error = 0.275\n",
      "Intermediate ('Embarked', 2) \n",
      "dict_keys(['tree', 'attributes', 'type', 'level', 'classifier', 'min', 'default', 'gini', 'feature'])\n",
      "Generalization Error = 0.275\n",
      "Generalization Error = 0.25\n",
      "improved!!!!!!!!!!!!\n",
      "Generalization Error = 0.275\n",
      "Intermediate ('Pclass', 3) \n",
      "dict_keys(['tree', 'attributes', 'type', 'level', 'classifier', 'min', 'default', 'gini', 'feature', 'left', 'right'])\n",
      "Generalization Error = 0.275\n",
      "Intermediate ('Pclass', 3) \n",
      "dict_keys(['tree', 'attributes', 'type', 'level', 'classifier', 'min', 'default', 'gini', 'feature'])\n",
      "Generalization Error = 0.275\n",
      "Generalization Error = 0.225\n",
      "improved!!!!!!!!!!!!\n",
      "Generalization Error = 0.275\n",
      "Intermediate ('Pclass', 3) \n",
      "dict_keys(['tree', 'attributes', 'type', 'level', 'classifier', 'min', 'default', 'gini', 'feature', 'left', 'right'])\n",
      "Generalization Error = 0.275\n",
      "Intermediate ('Pclass', 3) \n",
      "dict_keys(['tree', 'attributes', 'type', 'level', 'classifier', 'min', 'default', 'gini', 'feature'])\n",
      "Generalization Error = 0.275\n",
      "Generalization Error = 0.2\n",
      "improved!!!!!!!!!!!!\n",
      "Generalization Error = 0.275\n",
      "Root ('Sex', 1) \n",
      "dict_keys(['tree', 'attributes', 'type', 'level', 'classifier', 'min', 'default', 'gini', 'feature', 'left', 'right'])\n",
      "Generalization Error = 0.275\n",
      "Root ('Sex', 1) \n",
      "dict_keys(['tree', 'attributes', 'type', 'level', 'classifier', 'min', 'default', 'gini', 'feature'])\n",
      "Generalization Error = 0.275\n",
      "Generalization Error = 0.0\n",
      "improved!!!!!!!!!!!!\n"
     ]
    }
   ],
   "source": [
    "import copy\n",
    "\n",
    "root = copy.deepcopy(mytree)\n",
    "walk(mytree, root, root)"
   ]
  },
  {
   "cell_type": "code",
   "execution_count": 289,
   "metadata": {},
   "outputs": [],
   "source": [
    "def walk(originalTree, prunedTree, prunedRoot):\n",
    "    tp = prunedTree[\"type\"]\n",
    "    if(tp!=\"Leaf\"):\n",
    "        walk(originalTree, prunedTree[\"left\"], prunedRoot)\n",
    "        walk(originalTree, prunedTree[\"right\"], prunedRoot)\n",
    "        prunedTree[\"type\"] = \"Leaf\"\n",
    "        left = prunedTree.pop(\"left\")\n",
    "        right= prunedTree.pop(\"right\")\n",
    "        print(tp, prunedTree[\"feature\"],\"\\n\" + str(prunedTree.keys()))\n",
    "        originalError = generalizationError(originalTree, 0.5)\n",
    "        if(generalizationError(prunedRoot, 0.5)<originalError):\n",
    "            print(\"improved!!!!!!!!!!!!\")\n",
    "            return\n",
    "        prunedTree[\"left\"] =left\n",
    "        prunedTree[\"right\"]=right\n",
    "        prunedTree[\"type\"] =tp"
   ]
  },
  {
   "cell_type": "code",
   "execution_count": 315,
   "metadata": {},
   "outputs": [
    {
     "name": "stdout",
     "output_type": "stream",
     "text": [
      "Generalization Error = 0.20078740157480315\n",
      "178.5 170 17\n",
      "Generalization Error = 0.20022497187851518\n",
      "178.0 170 16\n",
      "Pruned leaves of a node at level 4\n",
      "Generalization Error = 0.20022497187851518\n",
      "178.0 170 16\n",
      "Generalization Error = 0.19853768278965128\n",
      "176.5 169 15\n",
      "Pruned leaves of a node at level 4\n",
      "Generalization Error = 0.19853768278965128\n",
      "176.5 169 15\n",
      "Generalization Error = 0.19797525309336333\n",
      "176.0 169 14\n",
      "Pruned leaves of a node at level 4\n",
      "Generalization Error = 0.19797525309336333\n",
      "176.0 169 14\n",
      "Generalization Error = 0.19741282339707536\n",
      "175.5 169 13\n",
      "Pruned leaves of a node at level 3\n",
      "Generalization Error = 0.19741282339707536\n",
      "175.5 169 13\n",
      "Generalization Error = 0.1968503937007874\n",
      "175.0 169 12\n",
      "Pruned leaves of a node at level 3\n",
      "Generalization Error = 0.1968503937007874\n",
      "175.0 169 12\n",
      "Generalization Error = 0.19628796400449944\n",
      "174.5 169 11\n",
      "Pruned leaves of a node at level 3\n",
      "Generalization Error = 0.19628796400449944\n",
      "174.5 169 11\n",
      "Generalization Error = 0.19460067491563554\n",
      "173.0 168 10\n",
      "Pruned leaves of a node at level 3\n",
      "Generalization Error = 0.19460067491563554\n",
      "173.0 168 10\n",
      "Generalization Error = 0.1940382452193476\n",
      "172.5 168 9\n",
      "Pruned leaves of a node at level 3\n",
      "Generalization Error = 0.1940382452193476\n",
      "172.5 168 9\n",
      "Generalization Error = 0.19347581552305962\n",
      "172.0 168 8\n",
      "Pruned leaves of a node at level 3\n",
      "Generalization Error = 0.19347581552305962\n",
      "172.0 168 8\n",
      "Generalization Error = 0.19291338582677164\n",
      "171.5 168 7\n",
      "Pruned leaves of a node at level 2\n",
      "Generalization Error = 0.19291338582677164\n",
      "171.5 168 7\n",
      "Generalization Error = 0.2170978627671541\n",
      "193.0 190 6\n",
      "Generalization Error = 0.19291338582677164\n",
      "171.5 168 7\n",
      "Generalization Error = 0.1923509561304837\n",
      "171.0 168 6\n",
      "Pruned leaves of a node at level 2\n",
      "Generalization Error = 0.1923509561304837\n",
      "171.0 168 6\n",
      "Generalization Error = 0.19178852643419572\n",
      "170.5 168 5\n",
      "Pruned leaves of a node at level 2\n",
      "Generalization Error = 0.19178852643419572\n",
      "170.5 168 5\n",
      "Generalization Error = 0.21541057367829022\n",
      "191.5 190 3\n",
      "Generalization Error = 0.19178852643419572\n",
      "170.5 168 5\n",
      "Generalization Error = 0.19122609673790777\n",
      "170.0 168 4\n",
      "Pruned leaves of a node at level 1\n",
      "Generalization Error = 0.19122609673790777\n",
      "170.0 168 4\n"
     ]
    },
    {
     "data": {
      "text/plain": [
       "0.19122609673790777"
      ]
     },
     "execution_count": 315,
     "metadata": {},
     "output_type": "execute_result"
    }
   ],
   "source": [
    "mytree= createNode(D, A, \"Root\", 0, classifier)\n",
    "continueTree(mytree)\n",
    "nodesByLevel=getTreeOrdered(mytree)\n",
    "levels= getLevels(mytree)[-1]\n",
    "for level in range(levels,0,-1):\n",
    "    for node in nodesByLevel[level]:\n",
    "        if node[\"type\"] != \"Leaf\":\n",
    "            ierror=generalizationError(mytree,0.5)\n",
    "            left=node.pop(\"left\")\n",
    "            right=node.pop(\"right\")\n",
    "            node[\"type\"]=\"Leaf\"\n",
    "            error=generalizationError(mytree,0.5)\n",
    "            if(error< ierror):\n",
    "                print(\"Pruned leaves of a node at level\", level)\n",
    "            else:\n",
    "                node[\"left\"]=left\n",
    "                node[\"right\"]=right\n",
    "                node[\"type\"]=\"Intermediate\"\n",
    "generalizationError(mytree,0.5)"
   ]
  },
  {
   "cell_type": "code",
   "execution_count": 320,
   "metadata": {},
   "outputs": [
    {
     "name": "stdout",
     "output_type": "stream",
     "text": [
      "Generalization Error = 0.19122609673790777\n",
      "170.0 168 4\n",
      "Generalization Error = 0.21541057367829022\n",
      "191.5 190 3\n",
      "Generalization Error = 0.19122609673790777\n",
      "170.0 168 4\n"
     ]
    },
    {
     "data": {
      "text/plain": [
       "0.19122609673790777"
      ]
     },
     "execution_count": 320,
     "metadata": {},
     "output_type": "execute_result"
    }
   ],
   "source": [
    "nodesByLevel=getTreeOrdered(mytree)\n",
    "levels= getLevels(mytree)[-1]\n",
    "for level in range(levels,0,-1):\n",
    "    for node in nodesByLevel[level]:\n",
    "        if node[\"type\"] != \"Leaf\":\n",
    "            ierror=generalizationError(mytree,0.5)\n",
    "            left=node.pop(\"left\")\n",
    "            right=node.pop(\"right\")\n",
    "            node[\"type\"]=\"Leaf\"\n",
    "            error=generalizationError(mytree,0.5)\n",
    "            if(error< ierror):\n",
    "                print(\"Pruned leaves of a node at level\", level)\n",
    "            else:\n",
    "                node[\"left\"]=left\n",
    "                node[\"right\"]=right\n",
    "                node[\"type\"]=\"Intermediate\"\n",
    "generalizationError(mytree,0.5)"
   ]
  },
  {
   "cell_type": "code",
   "execution_count": 316,
   "metadata": {},
   "outputs": [
    {
     "name": "stdout",
     "output_type": "stream",
     "text": [
      "Generalization Error = 0.12317210348706412\n",
      "109.5 109 1\n",
      "Generalization Error = 0.19122609673790777\n",
      "170.0 168 4\n"
     ]
    },
    {
     "data": {
      "text/plain": [
       "0.19122609673790777"
      ]
     },
     "execution_count": 316,
     "metadata": {},
     "output_type": "execute_result"
    }
   ],
   "source": [
    "left=mytree[\"left\"].pop(\"left\")\n",
    "right=mytree[\"left\"].pop(\"right\")\n",
    "mytree[\"type\"]=\"Leaf\"\n",
    "generalizationError(mytree,0.5)\n",
    "mytree[\"left\"][\"left\"]=left\n",
    "mytree[\"left\"][\"right\"]=right\n",
    "mytree[\"left\"][\"type\"]=\"Intermediate\"\n",
    "generalizationError(mytree,0.5)"
   ]
  },
  {
   "cell_type": "code",
   "execution_count": 312,
   "metadata": {},
   "outputs": [
    {
     "name": "stdout",
     "output_type": "stream",
     "text": [
      "Root\n",
      "Level 0\n",
      "Feature Sex 0\n",
      "Gini 0.4724\n",
      "\n",
      "Intermediate\n",
      "Level 1\n",
      "Feature Pclass 1 2\n",
      "Gini 0.3844\n",
      "*********\n",
      "Leaf\n",
      "Level 1\n",
      "Class 0\n",
      "Gini 0.3064\n",
      "\n",
      "Leaf\n",
      "Level 2\n",
      "Class 1\n",
      "Gini 0.1014\n",
      "*********\n",
      "Intermediate\n",
      "Level 2\n",
      "Feature Embarked 0 1\n",
      "Gini 0.5\n",
      "\n",
      "Leaf\n",
      "Level 3\n",
      "Class 1\n",
      "Gini 0.4228\n",
      "*********\n",
      "Leaf\n",
      "Level 3\n",
      "Class 0\n",
      "Gini 0.4688\n",
      "\n"
     ]
    }
   ],
   "source": [
    "printDecisionTree(mytree)"
   ]
  },
  {
   "cell_type": "code",
   "execution_count": 226,
   "metadata": {},
   "outputs": [],
   "source": [
    "def pruneTree(tree, alpha):\n",
    "    prunedTree=dict(tree)\n",
    "    for level in nodesByLevel[1:getLevels(tree)[-1]]:\n",
    "        for node in level:\n",
    "            generalizationError(node, alpha)\n",
    "    return 0"
   ]
  },
  {
   "cell_type": "code",
   "execution_count": 58,
   "metadata": {},
   "outputs": [],
   "source": [
    "def getLevels(tree):\n",
    "    nodesByLevel= getTreeOrdered(tree)\n",
    "    levels =[0]\n",
    "    for a in nodesByLevel:\n",
    "        for val in a:\n",
    "            level= val[\"level\"]\n",
    "            if level not in levels:\n",
    "                levels += [level]\n",
    "    return levels"
   ]
  },
  {
   "cell_type": "code",
   "execution_count": 314,
   "metadata": {},
   "outputs": [],
   "source": [
    "def generalizationError(tree, alpha):\n",
    "    nodesByLevel= getTreeOrdered(tree)\n",
    "    complexity=0\n",
    "    mistakes=0\n",
    "    for level in nodesByLevel[1:]:\n",
    "        for node in level:\n",
    "            if(node[\"type\"]==\"Leaf\"):\n",
    "                complexity+=1\n",
    "                vals=node[\"tree\"].T\n",
    "                for row in node[\"tree\"].T:\n",
    "                    test = sum(node[\"tree\"][node[\"classifier\"]])/len(node[\"tree\"]) > 0.5\n",
    "                    cl = 1 if test else 0\n",
    "                    if (len(node[\"tree\"])<node[\"min\"]): cl = node[\"default\"]\n",
    "                    if(vals[row][node[\"classifier\"]]!=cl):\n",
    "                        mistakes+=1\n",
    "    error = mistakes + alpha * complexity\n",
    "    print(\"Generalization Error =\",error/len(tree[\"tree\"]))\n",
    "    print(error, mistakes, complexity)\n",
    "    return error/len(tree[\"tree\"])\n",
    "    #return error, mistakes, complexity"
   ]
  },
  {
   "cell_type": "code",
   "execution_count": 18,
   "metadata": {},
   "outputs": [],
   "source": [
    "def printDecisionTree(tree):\n",
    "    printNode(tree)\n",
    "    print()\n",
    "    nodesByLevel= getTreeOrdered(tree)\n",
    "    for level in nodesByLevel[1:]:\n",
    "        if level == []:\n",
    "            continue\n",
    "        i=0\n",
    "        for node in level:\n",
    "            i+=1\n",
    "            printNode(node)\n",
    "            if (i != len(level)):\n",
    "                print('*********')\n",
    "        print()"
   ]
  },
  {
   "cell_type": "code",
   "execution_count": 19,
   "metadata": {},
   "outputs": [],
   "source": [
    "def getTreeOrdered(tree):\n",
    "    nodesByLevel=[[]]*len(tree[\"tree\"].columns)*4 #recently edited!!!\n",
    "    nodesByLevel[0] = [tree]\n",
    "    getNextLevel(tree, nodesByLevel)\n",
    "    return nodesByLevel"
   ]
  },
  {
   "cell_type": "code",
   "execution_count": 20,
   "metadata": {},
   "outputs": [],
   "source": [
    "def getNextLevel(tree, result):\n",
    "    if 'left' in tree.keys():\n",
    "        result[tree['level']+1]= result[tree['level']+1] + [tree['left']]\n",
    "        result[tree['level']+1]= result[tree['level']+1] + [tree['right']]\n",
    "        getNextLevel(tree['left'],result)\n",
    "        getNextLevel(tree['right'],result)"
   ]
  },
  {
   "cell_type": "code",
   "execution_count": 21,
   "metadata": {},
   "outputs": [],
   "source": [
    "def printNode(node):\n",
    "    nType = node[\"type\"]\n",
    "    nLevel= node[\"level\"]\n",
    "    nGini =node[\"gini\"]\n",
    "    print(nType)\n",
    "    print(\"Level\",nLevel)\n",
    "    if nType in (\"Root\",\"Intermediate\"):\n",
    "        feature = node[\"feature\"]\n",
    "        print(\"Feature\",feature[0],end=\" \")\n",
    "        for i in range(min(getVals(node[\"tree\"],feature[0])),feature[1]):\n",
    "            if (i != feature[1] - 1):\n",
    "                print(i, end = \" \")\n",
    "            else:\n",
    "                print(i, end = \"\")\n",
    "        print()\n",
    "    else:\n",
    "        test = sum(node[\"tree\"][node[\"classifier\"]])/len(node[\"tree\"]) > 0.5\n",
    "        cl = 1 if test else 0\n",
    "        if (len(node[\"tree\"])<node[\"min\"]): cl = node[\"default\"]\n",
    "        print(\"Class\",cl)\n",
    "    if(nGini!=0):\n",
    "        print(\"Gini\",\"{:.4}\".format(nGini))\n",
    "    else:\n",
    "        print(\"Gini\",0)"
   ]
  },
  {
   "cell_type": "code",
   "execution_count": 22,
   "metadata": {},
   "outputs": [],
   "source": [
    "def continueTree(root):\n",
    "    A = list(root[\"attributes\"])\n",
    "    D = root[\"tree\"]\n",
    "    classifier = root[\"classifier\"]\n",
    "    sameAttributes = allEqual(D, A)\n",
    "    if len(D)<=root[\"min\"] or root[\"gini\"]==0 or sameAttributes:\n",
    "        root[\"type\"]= \"Leaf\"\n",
    "    elif root[\"type\"] != \"Leaf\":\n",
    "        root[\"feature\"]= [attribute, value] = bestCandidate(D, A, classifier) #don't call for best candidate if there are no new best candidates\n",
    "        left,right = split(D, attribute, value)\n",
    "        root[\"left\"]  = createNode(left , A, \"Intermediate\", root[\"level\"]+1, classifier)\n",
    "        root[\"right\"] = createNode(right, A, \"Intermediate\", root[\"level\"]+1, classifier)\n",
    "        continueTree(root[\"left\"])\n",
    "        continueTree(root[\"right\"])"
   ]
  },
  {
   "cell_type": "code",
   "execution_count": 23,
   "metadata": {},
   "outputs": [],
   "source": [
    "def allEqual(D, A):\n",
    "    for att in A:\n",
    "        iterator = D[att]\n",
    "        iterator = iter(iterator)\n",
    "        try:\n",
    "            first = next(iterator)\n",
    "        except StopIteration:\n",
    "            return True\n",
    "        answer = all(first == rest for rest in iterator)\n",
    "        if answer == False:\n",
    "            return answer\n",
    "    return True"
   ]
  },
  {
   "cell_type": "code",
   "execution_count": 32,
   "metadata": {},
   "outputs": [],
   "source": [
    "def bestCandidate(data, attributes, classifier):\n",
    "    ginis={}\n",
    "    for att in attributes:\n",
    "        vals = getVals(data, att)\n",
    "        for val in vals[1:]:\n",
    "            ginis[(att ,val)]=GINIsplit(data, att, val, classifier)\n",
    "    best = min(ginis, key=ginis.get)\n",
    "    return best"
   ]
  },
  {
   "cell_type": "code",
   "execution_count": 25,
   "metadata": {},
   "outputs": [],
   "source": [
    "def GINIsplit(data, attribute, value, classifier):\n",
    "    \"\"\"returns the Gini of the split if applied on the given attribute with the specified classifier, input is a dataframe\"\"\"\n",
    "    [yes,no]=split(data, attribute, value)\n",
    "    gini = (GINI(yes,classifier)*len(yes)+GINI(no, classifier)*len(no))/len(data)\n",
    "    return gini"
   ]
  },
  {
   "cell_type": "code",
   "execution_count": 26,
   "metadata": {},
   "outputs": [],
   "source": [
    "def split(data, attribute, value):\n",
    "    \"\"\"returns two nodes based on a given split (attribute < value), input is a dataframe\"\"\"\n",
    "    yes = data[data[attribute] < value]\n",
    "    no = data[data[attribute] >= value]\n",
    "    return yes,no"
   ]
  },
  {
   "cell_type": "code",
   "execution_count": 27,
   "metadata": {},
   "outputs": [],
   "source": [
    "def getVals(df, attribute):\n",
    "    \"\"\"returns the DISTINCT values of a specified attribute from a dataset\"\"\"\n",
    "    vals = []\n",
    "    for val in list(df[attribute]):\n",
    "        if val not in vals:\n",
    "            vals += [val]\n",
    "    vals.sort()\n",
    "    return vals"
   ]
  },
  {
   "cell_type": "code",
   "execution_count": 28,
   "metadata": {},
   "outputs": [],
   "source": [
    "def GINI(data, classifier):\n",
    "    \"\"\"returns the Gini of the given node, based on the Class\"\"\"\n",
    "    classVals=getVals(data,classifier)\n",
    "    cl=data[classifier]\n",
    "    sqSum = 0\n",
    "    for val in classVals:\n",
    "        prob= len(cl[cl==val])/len(data)\n",
    "        sqSum += prob**2\n",
    "    GINI= 1-sqSum\n",
    "    return GINI"
   ]
  },
  {
   "cell_type": "code",
   "execution_count": 29,
   "metadata": {},
   "outputs": [],
   "source": [
    "def createNode(D, A, nodeType, level, classifier, minNum=5,alpha=0.5, default = 1):\n",
    "    node = {}\n",
    "    node[\"tree\"] = D\n",
    "    node[\"attributes\"] = A\n",
    "    node[\"type\"] = nodeType\n",
    "    node[\"level\"] = level\n",
    "    node[\"classifier\"] = classifier\n",
    "    node[\"min\"]=minNum\n",
    "    node[\"default\"]=default\n",
    "    node[\"gini\"]=float(GINI(D,classifier))\n",
    "    return node"
   ]
  },
  {
   "cell_type": "code",
   "execution_count": null,
   "metadata": {},
   "outputs": [],
   "source": []
  },
  {
   "cell_type": "code",
   "execution_count": null,
   "metadata": {},
   "outputs": [],
   "source": []
  },
  {
   "cell_type": "code",
   "execution_count": null,
   "metadata": {},
   "outputs": [],
   "source": []
  }
 ],
 "metadata": {
  "kernelspec": {
   "display_name": "Python 3",
   "language": "python",
   "name": "python3"
  },
  "language_info": {
   "codemirror_mode": {
    "name": "ipython",
    "version": 3
   },
   "file_extension": ".py",
   "mimetype": "text/x-python",
   "name": "python",
   "nbconvert_exporter": "python",
   "pygments_lexer": "ipython3",
   "version": "3.6.10"
  }
 },
 "nbformat": 4,
 "nbformat_minor": 4
}
