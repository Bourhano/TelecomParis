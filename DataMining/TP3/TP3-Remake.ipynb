{
 "cells": [
  {
   "cell_type": "code",
   "execution_count": 103,
   "metadata": {},
   "outputs": [
    {
     "name": "stdout",
     "output_type": "stream",
     "text": [
      "Generalization Error = 0.0\n",
      "Generalization Error = 0.0\n",
      "Generalization Error = 0.0\n",
      "Generalization Error = 0.0\n",
      "Generalization Error = 0.0\n",
      "Generalization Error = 0.0\n",
      "Generalization Error = 0.0\n",
      "Generalization Error = 0.0\n"
     ]
    }
   ],
   "source": [
    "# IMPORTANT CONDITION:\n",
    "# Attributes of each node are the attributes that have more than one value in the current DataFarme.\n",
    "# Because: they might be all the same but have different classifiers, hence producing bad splits\n",
    "# \n",
    "# We shall not try to find a good split of a node that has the same classifier!!!\n",
    "import pandas as pd\n",
    "path='data.csv'\n",
    "df=pd.read_csv(path)\n",
    "df=df[:20]\n",
    "A=list(df.columns[:-1])\n",
    "classifier=df.columns[-1]\n",
    "D = df\n",
    "default = 0\n",
    "tree= createNode(D, A, \"Root\", 0, classifier)\n",
    "continueTree(tree)"
   ]
  },
  {
   "cell_type": "code",
   "execution_count": 93,
   "metadata": {
    "collapsed": true,
    "jupyter": {
     "outputs_hidden": true
    }
   },
   "outputs": [
    {
     "data": {
      "text/plain": [
       "{'tree':     Sex  Pclass  Embarked  Survived\n",
       " 0     1       3         2         0\n",
       " 1     0       1         0         1\n",
       " 2     0       3         2         1\n",
       " 3     0       1         2         1\n",
       " 4     1       3         2         0\n",
       " 5     1       3         1         0\n",
       " 6     1       1         2         0\n",
       " 7     1       3         2         0\n",
       " 8     0       3         2         1\n",
       " 9     0       2         0         1\n",
       " 10    0       3         2         1\n",
       " 11    0       1         2         1\n",
       " 12    1       3         2         0\n",
       " 13    1       3         2         0\n",
       " 14    0       3         2         0\n",
       " 15    0       2         2         1\n",
       " 16    1       3         1         0\n",
       " 17    1       2         2         1\n",
       " 18    0       3         2         0\n",
       " 19    0       3         0         1,\n",
       " 'attributes': ['Sex', 'Pclass', 'Embarked'],\n",
       " 'type': 'Root',\n",
       " 'level': 0,\n",
       " 'classifier': 'Survived',\n",
       " 'min': 5,\n",
       " 'default': 1,\n",
       " 'gini': 0.5,\n",
       " 'feature': ('Sex', 1),\n",
       " 'left': {'tree':     Sex  Pclass  Embarked  Survived\n",
       "  1     0       1         0         1\n",
       "  2     0       3         2         1\n",
       "  3     0       1         2         1\n",
       "  8     0       3         2         1\n",
       "  9     0       2         0         1\n",
       "  10    0       3         2         1\n",
       "  11    0       1         2         1\n",
       "  14    0       3         2         0\n",
       "  15    0       2         2         1\n",
       "  18    0       3         2         0\n",
       "  19    0       3         0         1,\n",
       "  'attributes': ['Sex', 'Pclass', 'Embarked'],\n",
       "  'type': 'Intermediate',\n",
       "  'level': 1,\n",
       "  'classifier': 'Survived',\n",
       "  'min': 5,\n",
       "  'default': 1,\n",
       "  'gini': 0.2975206611570247,\n",
       "  'feature': ('Pclass', 3),\n",
       "  'left': {'tree':     Sex  Pclass  Embarked  Survived\n",
       "   1     0       1         0         1\n",
       "   3     0       1         2         1\n",
       "   9     0       2         0         1\n",
       "   11    0       1         2         1\n",
       "   15    0       2         2         1,\n",
       "   'attributes': ['Sex', 'Pclass', 'Embarked'],\n",
       "   'type': 'Leaf',\n",
       "   'level': 2,\n",
       "   'classifier': 'Survived',\n",
       "   'min': 5,\n",
       "   'default': 1,\n",
       "   'gini': 0.0},\n",
       "  'right': {'tree':     Sex  Pclass  Embarked  Survived\n",
       "   2     0       3         2         1\n",
       "   8     0       3         2         1\n",
       "   10    0       3         2         1\n",
       "   14    0       3         2         0\n",
       "   18    0       3         2         0\n",
       "   19    0       3         0         1,\n",
       "   'attributes': ['Sex', 'Pclass', 'Embarked'],\n",
       "   'type': 'Intermediate',\n",
       "   'level': 2,\n",
       "   'classifier': 'Survived',\n",
       "   'min': 5,\n",
       "   'default': 1,\n",
       "   'gini': 0.4444444444444444,\n",
       "   'feature': ('Embarked', 2),\n",
       "   'left': {'tree':     Sex  Pclass  Embarked  Survived\n",
       "    19    0       3         0         1,\n",
       "    'attributes': ['Sex', 'Pclass', 'Embarked'],\n",
       "    'type': 'Leaf',\n",
       "    'level': 3,\n",
       "    'classifier': 'Survived',\n",
       "    'min': 5,\n",
       "    'default': 1,\n",
       "    'gini': 0.0},\n",
       "   'right': {'tree':     Sex  Pclass  Embarked  Survived\n",
       "    2     0       3         2         1\n",
       "    8     0       3         2         1\n",
       "    10    0       3         2         1\n",
       "    14    0       3         2         0\n",
       "    18    0       3         2         0,\n",
       "    'attributes': ['Sex', 'Pclass', 'Embarked'],\n",
       "    'type': 'Leaf',\n",
       "    'level': 3,\n",
       "    'classifier': 'Survived',\n",
       "    'min': 5,\n",
       "    'default': 1,\n",
       "    'gini': 0.48}}},\n",
       " 'right': {'tree':     Sex  Pclass  Embarked  Survived\n",
       "  0     1       3         2         0\n",
       "  4     1       3         2         0\n",
       "  5     1       3         1         0\n",
       "  6     1       1         2         0\n",
       "  7     1       3         2         0\n",
       "  12    1       3         2         0\n",
       "  13    1       3         2         0\n",
       "  16    1       3         1         0\n",
       "  17    1       2         2         1,\n",
       "  'attributes': ['Sex', 'Pclass', 'Embarked'],\n",
       "  'type': 'Intermediate',\n",
       "  'level': 1,\n",
       "  'classifier': 'Survived',\n",
       "  'min': 5,\n",
       "  'default': 1,\n",
       "  'gini': 0.19753086419753085,\n",
       "  'feature': ('Pclass', 3),\n",
       "  'left': {'tree':     Sex  Pclass  Embarked  Survived\n",
       "   6     1       1         2         0\n",
       "   17    1       2         2         1,\n",
       "   'attributes': ['Sex', 'Pclass', 'Embarked'],\n",
       "   'type': 'Leaf',\n",
       "   'level': 2,\n",
       "   'classifier': 'Survived',\n",
       "   'min': 5,\n",
       "   'default': 1,\n",
       "   'gini': 0.5},\n",
       "  'right': {'tree':     Sex  Pclass  Embarked  Survived\n",
       "   0     1       3         2         0\n",
       "   4     1       3         2         0\n",
       "   5     1       3         1         0\n",
       "   7     1       3         2         0\n",
       "   12    1       3         2         0\n",
       "   13    1       3         2         0\n",
       "   16    1       3         1         0,\n",
       "   'attributes': ['Sex', 'Pclass', 'Embarked'],\n",
       "   'type': 'Leaf',\n",
       "   'level': 2,\n",
       "   'classifier': 'Survived',\n",
       "   'min': 5,\n",
       "   'default': 1,\n",
       "   'gini': 0.0}}}"
      ]
     },
     "execution_count": 93,
     "metadata": {},
     "output_type": "execute_result"
    }
   ],
   "source": [
    "tree"
   ]
  },
  {
   "cell_type": "markdown",
   "metadata": {},
   "source": [
    "# FUNCTIONS"
   ]
  },
  {
   "cell_type": "code",
   "execution_count": 94,
   "metadata": {
    "collapsed": true,
    "jupyter": {
     "outputs_hidden": true,
     "source_hidden": true
    }
   },
   "outputs": [
    {
     "data": {
      "text/html": [
       "<div>\n",
       "<style scoped>\n",
       "    .dataframe tbody tr th:only-of-type {\n",
       "        vertical-align: middle;\n",
       "    }\n",
       "\n",
       "    .dataframe tbody tr th {\n",
       "        vertical-align: top;\n",
       "    }\n",
       "\n",
       "    .dataframe thead th {\n",
       "        text-align: right;\n",
       "    }\n",
       "</style>\n",
       "<table border=\"1\" class=\"dataframe\">\n",
       "  <thead>\n",
       "    <tr style=\"text-align: right;\">\n",
       "      <th></th>\n",
       "      <th>Sex</th>\n",
       "      <th>Pclass</th>\n",
       "      <th>Embarked</th>\n",
       "      <th>Survived</th>\n",
       "    </tr>\n",
       "  </thead>\n",
       "  <tbody>\n",
       "    <tr>\n",
       "      <th>2</th>\n",
       "      <td>0</td>\n",
       "      <td>3</td>\n",
       "      <td>2</td>\n",
       "      <td>1</td>\n",
       "    </tr>\n",
       "    <tr>\n",
       "      <th>8</th>\n",
       "      <td>0</td>\n",
       "      <td>3</td>\n",
       "      <td>2</td>\n",
       "      <td>1</td>\n",
       "    </tr>\n",
       "    <tr>\n",
       "      <th>10</th>\n",
       "      <td>0</td>\n",
       "      <td>3</td>\n",
       "      <td>2</td>\n",
       "      <td>1</td>\n",
       "    </tr>\n",
       "    <tr>\n",
       "      <th>14</th>\n",
       "      <td>0</td>\n",
       "      <td>3</td>\n",
       "      <td>2</td>\n",
       "      <td>0</td>\n",
       "    </tr>\n",
       "    <tr>\n",
       "      <th>18</th>\n",
       "      <td>0</td>\n",
       "      <td>3</td>\n",
       "      <td>2</td>\n",
       "      <td>0</td>\n",
       "    </tr>\n",
       "  </tbody>\n",
       "</table>\n",
       "</div>"
      ],
      "text/plain": [
       "    Sex  Pclass  Embarked  Survived\n",
       "2     0       3         2         1\n",
       "8     0       3         2         1\n",
       "10    0       3         2         1\n",
       "14    0       3         2         0\n",
       "18    0       3         2         0"
      ]
     },
     "execution_count": 94,
     "metadata": {},
     "output_type": "execute_result"
    }
   ],
   "source": [
    "d=tree[\"tree\"]\n",
    "ds=d[d[\"Sex\"]==1]\n",
    "dd=d[d[\"Sex\"]==0]\n",
    "getVals(d, \"Sex\")\n",
    "\n",
    "ddd=dd[dd[\"Pclass\"]<3]\n",
    "dds=dd[dd[\"Pclass\"]>=3]\n",
    "ddsd=dds[dds[\"Embarked\"]<2]\n",
    "ddss=dds[dds[\"Embarked\"]>=2]\n",
    "\n",
    "dsd=ds[ds[\"Pclass\"]<3]\n",
    "dss=ds[ds[\"Pclass\"]>=3]\n",
    "\n",
    "a=ddss\n",
    "GINI(a, \"Survived\")\n",
    "a"
   ]
  },
  {
   "cell_type": "code",
   "execution_count": 95,
   "metadata": {
    "collapsed": true,
    "jupyter": {
     "outputs_hidden": true,
     "source_hidden": true
    }
   },
   "outputs": [
    {
     "name": "stdout",
     "output_type": "stream",
     "text": [
      "[0]\n",
      "[3]\n",
      "[2]\n"
     ]
    },
    {
     "ename": "ValueError",
     "evalue": "min() arg is an empty sequence",
     "output_type": "error",
     "traceback": [
      "\u001b[1;31m---------------------------------------------------------------------------\u001b[0m",
      "\u001b[1;31mValueError\u001b[0m                                Traceback (most recent call last)",
      "\u001b[1;32m<ipython-input-95-60125eab2b76>\u001b[0m in \u001b[0;36m<module>\u001b[1;34m\u001b[0m\n\u001b[0;32m      7\u001b[0m     \u001b[1;32mfor\u001b[0m \u001b[0mval\u001b[0m \u001b[1;32min\u001b[0m \u001b[0mvals\u001b[0m\u001b[1;33m[\u001b[0m\u001b[1;36m1\u001b[0m\u001b[1;33m:\u001b[0m\u001b[1;33m]\u001b[0m\u001b[1;33m:\u001b[0m\u001b[1;33m\u001b[0m\u001b[1;33m\u001b[0m\u001b[0m\n\u001b[0;32m      8\u001b[0m         \u001b[0mginis\u001b[0m\u001b[1;33m[\u001b[0m\u001b[1;33m(\u001b[0m\u001b[0matt\u001b[0m \u001b[1;33m,\u001b[0m\u001b[0mval\u001b[0m\u001b[1;33m)\u001b[0m\u001b[1;33m]\u001b[0m\u001b[1;33m=\u001b[0m\u001b[0mGINIsplit\u001b[0m\u001b[1;33m(\u001b[0m\u001b[0md\u001b[0m\u001b[1;33m,\u001b[0m \u001b[0matt\u001b[0m\u001b[1;33m,\u001b[0m \u001b[0mval\u001b[0m\u001b[1;33m,\u001b[0m \u001b[1;34m\"Survived\"\u001b[0m\u001b[1;33m)\u001b[0m\u001b[1;33m\u001b[0m\u001b[1;33m\u001b[0m\u001b[0m\n\u001b[1;32m----> 9\u001b[1;33m \u001b[0mbest\u001b[0m \u001b[1;33m=\u001b[0m \u001b[0mmin\u001b[0m\u001b[1;33m(\u001b[0m\u001b[0mginis\u001b[0m\u001b[1;33m,\u001b[0m \u001b[0mkey\u001b[0m\u001b[1;33m=\u001b[0m\u001b[0mginis\u001b[0m\u001b[1;33m.\u001b[0m\u001b[0mget\u001b[0m\u001b[1;33m)\u001b[0m\u001b[1;33m\u001b[0m\u001b[1;33m\u001b[0m\u001b[0m\n\u001b[0m\u001b[0;32m     10\u001b[0m \u001b[0mbest\u001b[0m\u001b[1;33m\u001b[0m\u001b[1;33m\u001b[0m\u001b[0m\n\u001b[0;32m     11\u001b[0m \u001b[0mginis\u001b[0m\u001b[1;33m\u001b[0m\u001b[1;33m\u001b[0m\u001b[0m\n",
      "\u001b[1;31mValueError\u001b[0m: min() arg is an empty sequence"
     ]
    }
   ],
   "source": [
    "atts=[\"Sex\", \"Pclass\", \"Embarked\"]\n",
    "d=ddss\n",
    "ginis={}\n",
    "for att in atts:\n",
    "    vals = getVals(d, att)\n",
    "    print(vals)\n",
    "    for val in vals[1:]:\n",
    "        ginis[(att ,val)]=GINIsplit(d, att, val, \"Survived\")\n",
    "best = min(ginis, key=ginis.get)\n",
    "best\n",
    "ginis"
   ]
  },
  {
   "cell_type": "code",
   "execution_count": 96,
   "metadata": {
    "collapsed": true,
    "jupyter": {
     "outputs_hidden": true,
     "source_hidden": true
    }
   },
   "outputs": [
    {
     "data": {
      "text/html": [
       "<div>\n",
       "<style scoped>\n",
       "    .dataframe tbody tr th:only-of-type {\n",
       "        vertical-align: middle;\n",
       "    }\n",
       "\n",
       "    .dataframe tbody tr th {\n",
       "        vertical-align: top;\n",
       "    }\n",
       "\n",
       "    .dataframe thead th {\n",
       "        text-align: right;\n",
       "    }\n",
       "</style>\n",
       "<table border=\"1\" class=\"dataframe\">\n",
       "  <thead>\n",
       "    <tr style=\"text-align: right;\">\n",
       "      <th></th>\n",
       "      <th>Sex</th>\n",
       "      <th>Pclass</th>\n",
       "      <th>Embarked</th>\n",
       "      <th>Survived</th>\n",
       "    </tr>\n",
       "  </thead>\n",
       "  <tbody>\n",
       "  </tbody>\n",
       "</table>\n",
       "</div>"
      ],
      "text/plain": [
       "Empty DataFrame\n",
       "Columns: [Sex, Pclass, Embarked, Survived]\n",
       "Index: []"
      ]
     },
     "execution_count": 96,
     "metadata": {},
     "output_type": "execute_result"
    }
   ],
   "source": [
    "a,b=split(dds, \"Pclass\", 2)\n",
    "a"
   ]
  },
  {
   "cell_type": "code",
   "execution_count": 97,
   "metadata": {
    "collapsed": true,
    "jupyter": {
     "outputs_hidden": true,
     "source_hidden": true
    }
   },
   "outputs": [
    {
     "data": {
      "text/plain": [
       "0.48"
      ]
     },
     "execution_count": 97,
     "metadata": {},
     "output_type": "execute_result"
    }
   ],
   "source": [
    "bestCandidate(dds, atts, \"Survived\")\n",
    "GINI(ddss,\"Survived\")"
   ]
  },
  {
   "cell_type": "code",
   "execution_count": 98,
   "metadata": {
    "collapsed": true,
    "jupyter": {
     "outputs_hidden": true,
     "source_hidden": true
    }
   },
   "outputs": [
    {
     "data": {
      "text/plain": [
       "True"
      ]
     },
     "execution_count": 98,
     "metadata": {},
     "output_type": "execute_result"
    }
   ],
   "source": [
    "allEqual(ddss, tree[\"attributes\"])"
   ]
  },
  {
   "cell_type": "code",
   "execution_count": 99,
   "metadata": {
    "collapsed": true,
    "jupyter": {
     "outputs_hidden": true,
     "source_hidden": true
    }
   },
   "outputs": [
    {
     "data": {
      "text/plain": [
       "True"
      ]
     },
     "execution_count": 99,
     "metadata": {},
     "output_type": "execute_result"
    }
   ],
   "source": [
    "a =[]\n",
    "a ==[]"
   ]
  },
  {
   "cell_type": "code",
   "execution_count": 100,
   "metadata": {
    "collapsed": true,
    "jupyter": {
     "outputs_hidden": true,
     "source_hidden": true
    }
   },
   "outputs": [
    {
     "name": "stdout",
     "output_type": "stream",
     "text": [
      "Generalization Error = 0.275\n"
     ]
    },
    {
     "data": {
      "text/plain": [
       "(5.5, 3, 5)"
      ]
     },
     "execution_count": 100,
     "metadata": {},
     "output_type": "execute_result"
    }
   ],
   "source": [
    "generalizationError(tree, 0.5)"
   ]
  },
  {
   "cell_type": "code",
   "execution_count": 135,
   "metadata": {},
   "outputs": [
    {
     "name": "stdout",
     "output_type": "stream",
     "text": [
      "Generalization Error = 0.20192307692307693\n",
      "Generalization Error = 0.2001733102253033\n",
      "Generalization Error = 0.06845238095238096\n",
      "Generalization Error = 0.3576388888888889\n",
      "Generalization Error = 0.38934426229508196\n",
      "Generalization Error = 0.14945054945054945\n"
     ]
    },
    {
     "data": {
      "text/plain": [
       "0"
      ]
     },
     "execution_count": 135,
     "metadata": {},
     "output_type": "execute_result"
    }
   ],
   "source": [
    "pruneTree(tree, 0.5)"
   ]
  },
  {
   "cell_type": "code",
   "execution_count": 134,
   "metadata": {},
   "outputs": [],
   "source": [
    "def pruneTree(tree, alpha):\n",
    "    prunedTree=dict(tree)\n",
    "    for level in nodesByLevel[1:getLevels(tree)[-1]]:\n",
    "        for node in level:\n",
    "            generalizationError(node, alpha)\n",
    "    return 0"
   ]
  },
  {
   "cell_type": "code",
   "execution_count": 115,
   "metadata": {},
   "outputs": [],
   "source": [
    "def getLevels(tree):\n",
    "    nodesByLevel= getTreeOrdered(tree)\n",
    "    levels =[0]\n",
    "    for a in nodesByLevel:\n",
    "        for val in a:\n",
    "            level= val[\"level\"]\n",
    "            if level not in levels:\n",
    "                levels += [level]\n",
    "    return levels"
   ]
  },
  {
   "cell_type": "code",
   "execution_count": 116,
   "metadata": {},
   "outputs": [],
   "source": [
    "def generalizationError(tree, alpha):\n",
    "    nodesByLevel= getTreeOrdered(tree)\n",
    "    complexity=0\n",
    "    mistakes=0\n",
    "    for level in nodesByLevel[1:]:\n",
    "        for node in level:\n",
    "            if(node[\"type\"]==\"Leaf\"):\n",
    "                complexity+=1\n",
    "                vals=node[\"tree\"].T\n",
    "                for row in node[\"tree\"].T:\n",
    "                    test = sum(node[\"tree\"][node[\"classifier\"]])/len(node[\"tree\"]) > 0.5\n",
    "                    cl = 1 if test else 0\n",
    "                    if (len(node[\"tree\"])<node[\"min\"]): cl = node[\"default\"]\n",
    "                    if(vals[row][node[\"classifier\"]]!=cl):\n",
    "                        mistakes+=1\n",
    "    error = mistakes + alpha * complexity\n",
    "    print(\"Generalization Error =\",error/len(tree[\"tree\"]))\n",
    "    return error, mistakes, complexity"
   ]
  },
  {
   "cell_type": "code",
   "execution_count": 117,
   "metadata": {},
   "outputs": [],
   "source": [
    "def printDecisionTree(tree):\n",
    "    printNode(tree)\n",
    "    print()\n",
    "    nodesByLevel= getTreeOrdered(tree)\n",
    "    for level in nodesByLevel[1:]:\n",
    "        if level == []:\n",
    "            continue\n",
    "        i=0\n",
    "        for node in level:\n",
    "            i+=1\n",
    "            printNode(node)\n",
    "            if (i != len(level)):\n",
    "                print('*********')\n",
    "        print()"
   ]
  },
  {
   "cell_type": "code",
   "execution_count": 118,
   "metadata": {},
   "outputs": [],
   "source": [
    "def getTreeOrdered(tree):\n",
    "    nodesByLevel=[[]]*len(tree[\"tree\"].columns)*4 #recently edited!!!\n",
    "    nodesByLevel[0] = [tree]\n",
    "    getNextLevel(tree, nodesByLevel)\n",
    "    return nodesByLevel"
   ]
  },
  {
   "cell_type": "code",
   "execution_count": 119,
   "metadata": {},
   "outputs": [],
   "source": [
    "def getNextLevel(tree, result):\n",
    "    if 'left' in tree.keys():\n",
    "        result[tree['level']+1]= result[tree['level']+1] + [tree['left']]\n",
    "        result[tree['level']+1]= result[tree['level']+1] + [tree['right']]\n",
    "        getNextLevel(tree['left'],result)\n",
    "        getNextLevel(tree['right'],result)"
   ]
  },
  {
   "cell_type": "code",
   "execution_count": 120,
   "metadata": {},
   "outputs": [],
   "source": [
    "def printNode(node):\n",
    "    nType = node[\"type\"]\n",
    "    nLevel= node[\"level\"]\n",
    "    nGini =node[\"gini\"]\n",
    "    print(nType)\n",
    "    print(\"Level\",nLevel)\n",
    "    if nType in (\"Root\",\"Intermediate\"):\n",
    "        feature = node[\"feature\"]\n",
    "        print(\"Feature\",feature[0],end=\" \")\n",
    "        for i in range(min(getVals(node[\"tree\"],feature[0])),feature[1]):\n",
    "            if (i != feature[1] - 1):\n",
    "                print(i, end = \" \")\n",
    "            else:\n",
    "                print(i, end = \"\")\n",
    "        print()\n",
    "    else:\n",
    "        test = sum(node[\"tree\"][node[\"classifier\"]])/len(node[\"tree\"]) > 0.5\n",
    "        cl = 1 if test else 0\n",
    "        if (len(node[\"tree\"])<node[\"min\"]): cl = node[\"default\"]\n",
    "        print(\"Class\",cl)\n",
    "    if(nGini!=0):\n",
    "        print(\"Gini\",\"{:.4}\".format(nGini))\n",
    "    else:\n",
    "        print(\"Gini\",0)"
   ]
  },
  {
   "cell_type": "code",
   "execution_count": 121,
   "metadata": {},
   "outputs": [],
   "source": [
    "def continueTree(root):\n",
    "    A = list(root[\"attributes\"])\n",
    "    D = root[\"tree\"]\n",
    "    classifier = root[\"classifier\"]\n",
    "    sameAttributes = allEqual(D, A)\n",
    "    if len(D)<=root[\"min\"] or root[\"gini\"]==0 or sameAttributes:\n",
    "        root[\"type\"]= \"Leaf\"\n",
    "    elif root[\"type\"] != \"Leaf\":\n",
    "        root[\"feature\"]= [attribute, value] = bestCandidate(D, A, classifier) #don't call for best candidate if there are no new best candidates\n",
    "        left,right = split(D, attribute, value)\n",
    "        root[\"left\"]  = createNode(left , A, \"Intermediate\", root[\"level\"]+1, classifier)\n",
    "        root[\"right\"] = createNode(right, A, \"Intermediate\", root[\"level\"]+1, classifier)\n",
    "        continueTree(root[\"left\"])\n",
    "        continueTree(root[\"right\"])"
   ]
  },
  {
   "cell_type": "code",
   "execution_count": 122,
   "metadata": {},
   "outputs": [],
   "source": [
    "def allEqual(D, A):\n",
    "    for att in A:\n",
    "        iterator = D[att]\n",
    "        iterator = iter(iterator)\n",
    "        try:\n",
    "            first = next(iterator)\n",
    "        except StopIteration:\n",
    "            return True\n",
    "        answer = all(first == rest for rest in iterator)\n",
    "        if answer == False:\n",
    "            return answer\n",
    "    return True"
   ]
  },
  {
   "cell_type": "code",
   "execution_count": 123,
   "metadata": {},
   "outputs": [],
   "source": [
    "def bestCandidate(data, attributes, classifier):\n",
    "    ginis={}\n",
    "    for att in atts:\n",
    "        vals = getVals(data, att)\n",
    "        for val in vals[1:]:\n",
    "            ginis[(att ,val)]=GINIsplit(data, att, val, classifier)\n",
    "    best = min(ginis, key=ginis.get)\n",
    "    return best"
   ]
  },
  {
   "cell_type": "code",
   "execution_count": 124,
   "metadata": {},
   "outputs": [],
   "source": [
    "def GINIsplit(data, attribute, value, classifier):\n",
    "    \"\"\"returns the Gini of the split if applied on the given attribute with the specified classifier, input is a dataframe\"\"\"\n",
    "    [yes,no]=split(data, attribute, value)\n",
    "    gini = (GINI(yes,classifier)*len(yes)+GINI(no, classifier)*len(no))/len(data)\n",
    "    return gini"
   ]
  },
  {
   "cell_type": "code",
   "execution_count": 125,
   "metadata": {},
   "outputs": [],
   "source": [
    "def split(data, attribute, value):\n",
    "    \"\"\"returns two nodes based on a given split (attribute < value), input is a dataframe\"\"\"\n",
    "    yes = data[data[attribute] < value]\n",
    "    no = data[data[attribute] >= value]\n",
    "    return yes,no"
   ]
  },
  {
   "cell_type": "code",
   "execution_count": 126,
   "metadata": {},
   "outputs": [],
   "source": [
    "def getVals(df, attribute):\n",
    "    \"\"\"returns the DISTINCT values of a specified attribute from a dataset\"\"\"\n",
    "    vals = []\n",
    "    for val in list(df[attribute]):\n",
    "        if val not in vals:\n",
    "            vals += [val]\n",
    "    vals.sort()\n",
    "    return vals"
   ]
  },
  {
   "cell_type": "code",
   "execution_count": 127,
   "metadata": {},
   "outputs": [],
   "source": [
    "def GINI(data, classifier):\n",
    "    \"\"\"returns the Gini of the given node, based on the Class\"\"\"\n",
    "    classVals=getVals(data,classifier)\n",
    "    cl=data[classifier]\n",
    "    sqSum = 0\n",
    "    for val in classVals:\n",
    "        prob= len(cl[cl==val])/len(data)\n",
    "        sqSum += prob**2\n",
    "    GINI= 1-sqSum\n",
    "    return GINI"
   ]
  },
  {
   "cell_type": "code",
   "execution_count": 128,
   "metadata": {},
   "outputs": [],
   "source": [
    "def createNode(D, A, nodeType, level, classifier, minNum=5,alpha=0.5, default = 1):\n",
    "    node = {}\n",
    "    node[\"tree\"] = D\n",
    "    node[\"attributes\"] = A\n",
    "    node[\"type\"] = nodeType\n",
    "    node[\"level\"] = level\n",
    "    node[\"classifier\"] = classifier\n",
    "    node[\"min\"]=minNum\n",
    "    node[\"default\"]=default\n",
    "    node[\"gini\"]=float(GINI(D,classifier))\n",
    "    return node"
   ]
  }
 ],
 "metadata": {
  "kernelspec": {
   "display_name": "Python 3",
   "language": "python",
   "name": "python3"
  },
  "language_info": {
   "codemirror_mode": {
    "name": "ipython",
    "version": 3
   },
   "file_extension": ".py",
   "mimetype": "text/x-python",
   "name": "python",
   "nbconvert_exporter": "python",
   "pygments_lexer": "ipython3",
   "version": "3.6.10"
  }
 },
 "nbformat": 4,
 "nbformat_minor": 4
}
