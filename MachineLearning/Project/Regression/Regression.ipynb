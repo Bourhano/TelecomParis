{
  "nbformat": 4,
  "nbformat_minor": 0,
  "metadata": {
    "colab": {
      "name": "Regression.ipynb",
      "provenance": [],
      "collapsed_sections": []
    },
    "kernelspec": {
      "name": "python3",
      "display_name": "Python 3"
    },
    "language_info": {
      "name": "python"
    }
  },
  "cells": [
    {
      "cell_type": "markdown",
      "metadata": {
        "id": "9DxmGSkWkoNE"
      },
      "source": [
        "# SD-TSIA210 Machine Learning Project\n",
        "## Regression\n",
        "by Celine Beyrouthy, Bourhan Derknaya, Sahar Kiameh, Karim Reda.\n"
      ]
    },
    {
      "cell_type": "code",
      "metadata": {
        "colab": {
          "resources": {
            "http://localhost:8080/nbextensions/google.colab/files.js": {
              "data": "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",
              "ok": true,
              "headers": [
                [
                  "content-type",
                  "application/javascript"
                ]
              ],
              "status": 200,
              "status_text": ""
            }
          },
          "base_uri": "https://localhost:8080/",
          "height": 72
        },
        "id": "CvRVJ7KLs7H6",
        "outputId": "a06ae57a-ac37-40d6-affa-6205d41cc757"
      },
      "source": [
        "from google.colab import files\n",
        "uploaded = files.upload()"
      ],
      "execution_count": null,
      "outputs": [
        {
          "output_type": "display_data",
          "data": {
            "text/html": [
              "\n",
              "     <input type=\"file\" id=\"files-aea5f714-09b8-4b59-b678-da72aa14da48\" name=\"files[]\" multiple disabled\n",
              "        style=\"border:none\" />\n",
              "     <output id=\"result-aea5f714-09b8-4b59-b678-da72aa14da48\">\n",
              "      Upload widget is only available when the cell has been executed in the\n",
              "      current browser session. Please rerun this cell to enable.\n",
              "      </output>\n",
              "      <script src=\"/nbextensions/google.colab/files.js\"></script> "
            ],
            "text/plain": [
              "<IPython.core.display.HTML object>"
            ]
          },
          "metadata": {
            "tags": []
          }
        },
        {
          "output_type": "stream",
          "text": [
            "Saving Real estate valuation data set.xlsx to Real estate valuation data set (1).xlsx\n"
          ],
          "name": "stdout"
        }
      ]
    },
    {
      "cell_type": "code",
      "metadata": {
        "id": "rqWoQjvBxq5w"
      },
      "source": [
        "import pandas as pd\n",
        "import numpy as np\n",
        "import matplotlib.pyplot as plt\n",
        "import seaborn as sns\n",
        "from sklearn import preprocessing, utils\n",
        "from sklearn.model_selection import train_test_split\n",
        "from sklearn.linear_model import LinearRegression, LassoCV, RidgeCV\n",
        "from sklearn.svm import SVR, LinearSVR\n",
        "from sklearn.tree import DecisionTreeRegressor\n",
        "from sklearn.ensemble import RandomForestRegressor\n",
        "from sklearn.metrics import mean_squared_error, r2_score\n",
        "from sklearn.model_selection import cross_val_score"
      ],
      "execution_count": null,
      "outputs": []
    },
    {
      "cell_type": "code",
      "metadata": {
        "id": "ExcIdz-0tAG8"
      },
      "source": [
        "df = pd.read_excel('Real estate valuation data set.xlsx')"
      ],
      "execution_count": null,
      "outputs": []
    },
    {
      "cell_type": "code",
      "metadata": {
        "colab": {
          "base_uri": "https://localhost:8080/",
          "height": 221
        },
        "id": "3RS1e_g2tM_N",
        "outputId": "7594645f-4229-4a23-fde9-2747f009738a"
      },
      "source": [
        "df.head()"
      ],
      "execution_count": null,
      "outputs": [
        {
          "output_type": "execute_result",
          "data": {
            "text/html": [
              "<div>\n",
              "<style scoped>\n",
              "    .dataframe tbody tr th:only-of-type {\n",
              "        vertical-align: middle;\n",
              "    }\n",
              "\n",
              "    .dataframe tbody tr th {\n",
              "        vertical-align: top;\n",
              "    }\n",
              "\n",
              "    .dataframe thead th {\n",
              "        text-align: right;\n",
              "    }\n",
              "</style>\n",
              "<table border=\"1\" class=\"dataframe\">\n",
              "  <thead>\n",
              "    <tr style=\"text-align: right;\">\n",
              "      <th></th>\n",
              "      <th>No</th>\n",
              "      <th>X1 transaction date</th>\n",
              "      <th>X2 house age</th>\n",
              "      <th>X3 distance to the nearest MRT station</th>\n",
              "      <th>X4 number of convenience stores</th>\n",
              "      <th>X5 latitude</th>\n",
              "      <th>X6 longitude</th>\n",
              "      <th>Y house price of unit area</th>\n",
              "    </tr>\n",
              "  </thead>\n",
              "  <tbody>\n",
              "    <tr>\n",
              "      <th>0</th>\n",
              "      <td>1</td>\n",
              "      <td>2012.916667</td>\n",
              "      <td>32.0</td>\n",
              "      <td>84.87882</td>\n",
              "      <td>10</td>\n",
              "      <td>24.98298</td>\n",
              "      <td>121.54024</td>\n",
              "      <td>37.9</td>\n",
              "    </tr>\n",
              "    <tr>\n",
              "      <th>1</th>\n",
              "      <td>2</td>\n",
              "      <td>2012.916667</td>\n",
              "      <td>19.5</td>\n",
              "      <td>306.59470</td>\n",
              "      <td>9</td>\n",
              "      <td>24.98034</td>\n",
              "      <td>121.53951</td>\n",
              "      <td>42.2</td>\n",
              "    </tr>\n",
              "    <tr>\n",
              "      <th>2</th>\n",
              "      <td>3</td>\n",
              "      <td>2013.583333</td>\n",
              "      <td>13.3</td>\n",
              "      <td>561.98450</td>\n",
              "      <td>5</td>\n",
              "      <td>24.98746</td>\n",
              "      <td>121.54391</td>\n",
              "      <td>47.3</td>\n",
              "    </tr>\n",
              "    <tr>\n",
              "      <th>3</th>\n",
              "      <td>4</td>\n",
              "      <td>2013.500000</td>\n",
              "      <td>13.3</td>\n",
              "      <td>561.98450</td>\n",
              "      <td>5</td>\n",
              "      <td>24.98746</td>\n",
              "      <td>121.54391</td>\n",
              "      <td>54.8</td>\n",
              "    </tr>\n",
              "    <tr>\n",
              "      <th>4</th>\n",
              "      <td>5</td>\n",
              "      <td>2012.833333</td>\n",
              "      <td>5.0</td>\n",
              "      <td>390.56840</td>\n",
              "      <td>5</td>\n",
              "      <td>24.97937</td>\n",
              "      <td>121.54245</td>\n",
              "      <td>43.1</td>\n",
              "    </tr>\n",
              "  </tbody>\n",
              "</table>\n",
              "</div>"
            ],
            "text/plain": [
              "   No  X1 transaction date  ...  X6 longitude  Y house price of unit area\n",
              "0   1          2012.916667  ...     121.54024                        37.9\n",
              "1   2          2012.916667  ...     121.53951                        42.2\n",
              "2   3          2013.583333  ...     121.54391                        47.3\n",
              "3   4          2013.500000  ...     121.54391                        54.8\n",
              "4   5          2012.833333  ...     121.54245                        43.1\n",
              "\n",
              "[5 rows x 8 columns]"
            ]
          },
          "metadata": {
            "tags": []
          },
          "execution_count": 41
        }
      ]
    },
    {
      "cell_type": "code",
      "metadata": {
        "id": "kni0NMottnHn",
        "colab": {
          "base_uri": "https://localhost:8080/"
        },
        "outputId": "cb7d2ae6-0cbe-499f-eba3-7c61a50375cb"
      },
      "source": [
        "for i in (df.columns):\n",
        "  print(i)"
      ],
      "execution_count": null,
      "outputs": [
        {
          "output_type": "stream",
          "text": [
            "No\n",
            "X1 transaction date\n",
            "X2 house age\n",
            "X3 distance to the nearest MRT station\n",
            "X4 number of convenience stores\n",
            "X5 latitude\n",
            "X6 longitude\n",
            "Y house price of unit area\n"
          ],
          "name": "stdout"
        }
      ]
    },
    {
      "cell_type": "code",
      "metadata": {
        "colab": {
          "base_uri": "https://localhost:8080/",
          "height": 314
        },
        "id": "MHmmaWQIEn0f",
        "outputId": "9e68c77e-0ba1-489d-bcd4-612d71843c24"
      },
      "source": [
        "df.drop(['No'], axis = 1).describe()"
      ],
      "execution_count": null,
      "outputs": [
        {
          "output_type": "execute_result",
          "data": {
            "text/html": [
              "<div>\n",
              "<style scoped>\n",
              "    .dataframe tbody tr th:only-of-type {\n",
              "        vertical-align: middle;\n",
              "    }\n",
              "\n",
              "    .dataframe tbody tr th {\n",
              "        vertical-align: top;\n",
              "    }\n",
              "\n",
              "    .dataframe thead th {\n",
              "        text-align: right;\n",
              "    }\n",
              "</style>\n",
              "<table border=\"1\" class=\"dataframe\">\n",
              "  <thead>\n",
              "    <tr style=\"text-align: right;\">\n",
              "      <th></th>\n",
              "      <th>X1 transaction date</th>\n",
              "      <th>X2 house age</th>\n",
              "      <th>X3 distance to the nearest MRT station</th>\n",
              "      <th>X4 number of convenience stores</th>\n",
              "      <th>X5 latitude</th>\n",
              "      <th>X6 longitude</th>\n",
              "      <th>Y house price of unit area</th>\n",
              "    </tr>\n",
              "  </thead>\n",
              "  <tbody>\n",
              "    <tr>\n",
              "      <th>count</th>\n",
              "      <td>414.000000</td>\n",
              "      <td>414.000000</td>\n",
              "      <td>414.000000</td>\n",
              "      <td>414.000000</td>\n",
              "      <td>414.000000</td>\n",
              "      <td>414.000000</td>\n",
              "      <td>414.000000</td>\n",
              "    </tr>\n",
              "    <tr>\n",
              "      <th>mean</th>\n",
              "      <td>2013.148953</td>\n",
              "      <td>17.712560</td>\n",
              "      <td>1083.885689</td>\n",
              "      <td>4.094203</td>\n",
              "      <td>24.969030</td>\n",
              "      <td>121.533361</td>\n",
              "      <td>37.980193</td>\n",
              "    </tr>\n",
              "    <tr>\n",
              "      <th>std</th>\n",
              "      <td>0.281995</td>\n",
              "      <td>11.392485</td>\n",
              "      <td>1262.109595</td>\n",
              "      <td>2.945562</td>\n",
              "      <td>0.012410</td>\n",
              "      <td>0.015347</td>\n",
              "      <td>13.606488</td>\n",
              "    </tr>\n",
              "    <tr>\n",
              "      <th>min</th>\n",
              "      <td>2012.666667</td>\n",
              "      <td>0.000000</td>\n",
              "      <td>23.382840</td>\n",
              "      <td>0.000000</td>\n",
              "      <td>24.932070</td>\n",
              "      <td>121.473530</td>\n",
              "      <td>7.600000</td>\n",
              "    </tr>\n",
              "    <tr>\n",
              "      <th>25%</th>\n",
              "      <td>2012.916667</td>\n",
              "      <td>9.025000</td>\n",
              "      <td>289.324800</td>\n",
              "      <td>1.000000</td>\n",
              "      <td>24.963000</td>\n",
              "      <td>121.528085</td>\n",
              "      <td>27.700000</td>\n",
              "    </tr>\n",
              "    <tr>\n",
              "      <th>50%</th>\n",
              "      <td>2013.166667</td>\n",
              "      <td>16.100000</td>\n",
              "      <td>492.231300</td>\n",
              "      <td>4.000000</td>\n",
              "      <td>24.971100</td>\n",
              "      <td>121.538630</td>\n",
              "      <td>38.450000</td>\n",
              "    </tr>\n",
              "    <tr>\n",
              "      <th>75%</th>\n",
              "      <td>2013.416667</td>\n",
              "      <td>28.150000</td>\n",
              "      <td>1454.279000</td>\n",
              "      <td>6.000000</td>\n",
              "      <td>24.977455</td>\n",
              "      <td>121.543305</td>\n",
              "      <td>46.600000</td>\n",
              "    </tr>\n",
              "    <tr>\n",
              "      <th>max</th>\n",
              "      <td>2013.583333</td>\n",
              "      <td>43.800000</td>\n",
              "      <td>6488.021000</td>\n",
              "      <td>10.000000</td>\n",
              "      <td>25.014590</td>\n",
              "      <td>121.566270</td>\n",
              "      <td>117.500000</td>\n",
              "    </tr>\n",
              "  </tbody>\n",
              "</table>\n",
              "</div>"
            ],
            "text/plain": [
              "       X1 transaction date  ...  Y house price of unit area\n",
              "count           414.000000  ...                  414.000000\n",
              "mean           2013.148953  ...                   37.980193\n",
              "std               0.281995  ...                   13.606488\n",
              "min            2012.666667  ...                    7.600000\n",
              "25%            2012.916667  ...                   27.700000\n",
              "50%            2013.166667  ...                   38.450000\n",
              "75%            2013.416667  ...                   46.600000\n",
              "max            2013.583333  ...                  117.500000\n",
              "\n",
              "[8 rows x 7 columns]"
            ]
          },
          "metadata": {
            "tags": []
          },
          "execution_count": 43
        }
      ]
    },
    {
      "cell_type": "markdown",
      "metadata": {
        "id": "3devgQ1bEYNx"
      },
      "source": [
        "# Distribution of the Variables"
      ]
    },
    {
      "cell_type": "code",
      "metadata": {
        "colab": {
          "base_uri": "https://localhost:8080/",
          "height": 499
        },
        "id": "v4KalG_1DyZp",
        "outputId": "dc77beff-d74f-4351-f3c5-e5e3f0a24037"
      },
      "source": [
        "# Visualise X1 transaction date\n",
        "plt.figure(figsize=(12,8))\n",
        "plt.hist(df['X1 transaction date'], bins=30)\n",
        "plt.title('X1 transaction date')\n",
        "plt.show()"
      ],
      "execution_count": null,
      "outputs": [
        {
          "output_type": "display_data",
          "data": {
            "image/png": "[encoded data removed]",
            "text/plain": [
              "<Figure size 864x576 with 1 Axes>"
            ]
          },
          "metadata": {
            "tags": [],
            "needs_background": "light"
          }
        }
      ]
    },
    {
      "cell_type": "markdown",
      "metadata": {
        "id": "YS0tkydDE9XB"
      },
      "source": [
        "The number of transactions had a peak in May 2013."
      ]
    },
    {
      "cell_type": "code",
      "metadata": {
        "colab": {
          "base_uri": "https://localhost:8080/",
          "height": 499
        },
        "id": "U4zyoPJH1SVB",
        "outputId": "056f0974-0892-4f9d-f92b-73144afda6a3"
      },
      "source": [
        "# Visualise X2 house age\n",
        "plt.figure(figsize=(12,8))\n",
        "plt.hist(df['X2 house age'], bins=100)\n",
        "plt.title('X2 house age')\n",
        "plt.show()"
      ],
      "execution_count": null,
      "outputs": [
        {
          "output_type": "display_data",
          "data": {
            "image/png": "[encoded data removed]",
            "text/plain": [
              "<Figure size 864x576 with 1 Axes>"
            ]
          },
          "metadata": {
            "tags": [],
            "needs_background": "light"
          }
        }
      ]
    },
    {
      "cell_type": "code",
      "metadata": {
        "colab": {
          "base_uri": "https://localhost:8080/",
          "height": 499
        },
        "id": "lLBYMgY9Dc5M",
        "outputId": "11211d52-0a8f-42dd-a021-2fbb74f00f8c"
      },
      "source": [
        "# Visualise X3 distance to the nearest MRT station\n",
        "plt.figure(figsize=(12,8))\n",
        "plt.hist(df['X3 distance to the nearest MRT station'], bins=100)\n",
        "plt.title('X3 distance to the nearest MRT station')\n",
        "plt.show()"
      ],
      "execution_count": null,
      "outputs": [
        {
          "output_type": "display_data",
          "data": {
            "image/png": "[encoded data removed]",
            "text/plain": [
              "<Figure size 864x576 with 1 Axes>"
            ]
          },
          "metadata": {
            "tags": [],
            "needs_background": "light"
          }
        }
      ]
    },
    {
      "cell_type": "markdown",
      "metadata": {
        "id": "DvKtmjJD-xVS"
      },
      "source": [
        "Most houses are located within 1 km of the nearest MRT station."
      ]
    },
    {
      "cell_type": "code",
      "metadata": {
        "colab": {
          "base_uri": "https://localhost:8080/",
          "height": 499
        },
        "id": "v2DKw2xCHRRY",
        "outputId": "c2fca6a5-07bc-43d2-e1ac-93fa42bdf35d"
      },
      "source": [
        "# Visualise X4 number of convenience stores\n",
        "plt.figure(figsize=(12,8))\n",
        "plt.hist(df['X4 number of convenience stores'], bins=20)\n",
        "plt.title('X4 number of convenience stores')\n",
        "plt.show()"
      ],
      "execution_count": null,
      "outputs": [
        {
          "output_type": "display_data",
          "data": {
            "image/png": "[encoded data removed]",
            "text/plain": [
              "<Figure size 864x576 with 1 Axes>"
            ]
          },
          "metadata": {
            "tags": [],
            "needs_background": "light"
          }
        }
      ]
    },
    {
      "cell_type": "markdown",
      "metadata": {
        "id": "1G8bM__zIr_6"
      },
      "source": [
        "67 out of 414 houses don't have any convenience store in the living circle on foot. Which means that approximately 16% of the instances we have in our dataset are probably located in residential areas.\n",
        "\n",
        "More than 50% of the houses have between 1 and 6 convenience stores in the living circle on foot."
      ]
    },
    {
      "cell_type": "code",
      "metadata": {
        "colab": {
          "base_uri": "https://localhost:8080/",
          "height": 499
        },
        "id": "QMBcMtqTHZjL",
        "outputId": "8fc46381-d212-44ba-ae9c-92a534b06b11"
      },
      "source": [
        "# Visualise X5 latitude\n",
        "plt.figure(figsize=(12,8))\n",
        "plt.hist(df['X5 latitude'], bins=100)\n",
        "plt.title('X5 latitude')\n",
        "plt.show()"
      ],
      "execution_count": null,
      "outputs": [
        {
          "output_type": "display_data",
          "data": {
            "image/png": "[encoded data removed]",
            "text/plain": [
              "<Figure size 864x576 with 1 Axes>"
            ]
          },
          "metadata": {
            "tags": [],
            "needs_background": "light"
          }
        }
      ]
    },
    {
      "cell_type": "code",
      "metadata": {
        "colab": {
          "base_uri": "https://localhost:8080/",
          "height": 499
        },
        "id": "e3hNHXBQHf6u",
        "outputId": "36728011-c7b5-461d-f6e1-6ab9d3934d55"
      },
      "source": [
        "# Visualise X6 longitude\n",
        "plt.figure(figsize=(12,8))\n",
        "plt.hist(df['X6 longitude'], bins=100)\n",
        "plt.title('X6 longitude')\n",
        "plt.show()"
      ],
      "execution_count": null,
      "outputs": [
        {
          "output_type": "display_data",
          "data": {
            "image/png": "[encoded data removed]",
            "text/plain": [
              "<Figure size 864x576 with 1 Axes>"
            ]
          },
          "metadata": {
            "tags": [],
            "needs_background": "light"
          }
        }
      ]
    },
    {
      "cell_type": "markdown",
      "metadata": {
        "id": "1m5KN5TCKHTb"
      },
      "source": [
        "By visualising the distribution of the latitude and longitude variables, we can say that most houses are located in the East central part of the area. \n",
        "We can verify this by using the geographical distribution on a map."
      ]
    },
    {
      "cell_type": "code",
      "metadata": {
        "colab": {
          "base_uri": "https://localhost:8080/",
          "height": 499
        },
        "id": "4ZScYm99Hj6B",
        "outputId": "077f0c72-7ad2-45d4-82e8-0f162ebe7385"
      },
      "source": [
        "# Visualise Y house price of unit area\n",
        "plt.figure(figsize=(12,8))\n",
        "plt.hist(df['Y house price of unit area'], bins=100)\n",
        "plt.title('Y house price of unit area')\n",
        "plt.show()"
      ],
      "execution_count": null,
      "outputs": [
        {
          "output_type": "display_data",
          "data": {
            "image/png": "[encoded data removed]",
            "text/plain": [
              "<Figure size 864x576 with 1 Axes>"
            ]
          },
          "metadata": {
            "tags": [],
            "needs_background": "light"
          }
        }
      ]
    },
    {
      "cell_type": "markdown",
      "metadata": {
        "id": "L4S3wMwjLhO5"
      },
      "source": [
        "House price of unit varies greatly from 76,000 New Taiwan Dollar/Ping to more than 1 million New Taiwan Dollar/Ping.\n",
        "More than half of house prices of unit area are between 250,000 and 500,000 New Taiwan Dollar/Ping.\n",
        "There are 8 houses for which the house price of unit area is more than 650,000 New Taiwan Dollar/Ping, with one being 1,115,000 New Taiwan Dollar/Ping (extreme value)."
      ]
    },
    {
      "cell_type": "code",
      "metadata": {
        "colab": {
          "base_uri": "https://localhost:8080/",
          "height": 497
        },
        "id": "lw1tDWKhM1Vf",
        "outputId": "ec4d2b01-2d05-4a16-9d64-9ea060bb6996"
      },
      "source": [
        "# Visualize the geographical distribution of the house prices of unit area with respect to X5 latitude and X6 longitude\n",
        "plt.figure(figsize=(12,8))\n",
        "plt.scatter(df['X5 latitude'], df['X6 longitude'], label = 'Y house price of unit area', c=df['Y house price of unit area'], cmap='Pastel2')\n",
        "plt.xlabel('X5 latitude')\n",
        "plt.ylabel('X6 longitude')\n",
        "plt.colorbar()\n",
        "plt.legend()\n",
        "plt.show()"
      ],
      "execution_count": null,
      "outputs": [
        {
          "output_type": "display_data",
          "data": {
            "image/png": "[encoded data removed]",
            "text/plain": [
              "<Figure size 864x576 with 2 Axes>"
            ]
          },
          "metadata": {
            "tags": [],
            "needs_background": "light"
          }
        }
      ]
    },
    {
      "cell_type": "code",
      "metadata": {
        "colab": {
          "base_uri": "https://localhost:8080/",
          "height": 470
        },
        "id": "lhWOet--NicN",
        "outputId": "25b36948-8514-42af-eb55-d5d0caba9995"
      },
      "source": [
        "corr = df.drop(['No'],axis = 1).corr()\n",
        "sns.heatmap(corr, cmap='Pastel2')"
      ],
      "execution_count": null,
      "outputs": [
        {
          "output_type": "execute_result",
          "data": {
            "text/plain": [
              "<matplotlib.axes._subplots.AxesSubplot at 0x7f21cfd46f50>"
            ]
          },
          "metadata": {
            "tags": []
          },
          "execution_count": 52
        },
        {
          "output_type": "display_data",
          "data": {
            "image/png": "[encoded data removed]",
            "text/plain": [
              "<Figure size 432x288 with 2 Axes>"
            ]
          },
          "metadata": {
            "tags": [],
            "needs_background": "light"
          }
        }
      ]
    },
    {
      "cell_type": "markdown",
      "metadata": {
        "id": "mxmg5tymT1Rr"
      },
      "source": [
        "X3 distance to the nearest MRT station is highly negatively correlated to X4 number of convenience stores, X5 latitude, X6 longitude and Y house price of unit area. This result is very reasonable since the closer the house is located from the MRT station, the higher its price. Same reasoning for the number of convenience stores."
      ]
    },
    {
      "cell_type": "code",
      "metadata": {
        "id": "-LW__XqGwvbH"
      },
      "source": [
        "y = df['Y house price of unit area']\n",
        "X = df.drop(['No','Y house price of unit area'], axis = 1)"
      ],
      "execution_count": null,
      "outputs": []
    },
    {
      "cell_type": "code",
      "metadata": {
        "id": "NdgFOL2gyQbX",
        "colab": {
          "base_uri": "https://localhost:8080/",
          "height": 513
        },
        "outputId": "7cf256a6-6100-4272-fe47-8a83c920479f"
      },
      "source": [
        "plt.figure(figsize=(20,8))\n",
        "\n",
        "plt.plot(X.mean(axis=0), label='Mean')\n",
        "plt.plot(X.std(axis=0), label='Standard Deviation')\n",
        "\n",
        "plt.title('Mean and standard deviation of data for each  feature')\n",
        "plt.xlabel('Feature')\n",
        "plt.ylabel('Value')\n",
        "plt.legend()\n",
        "plt.show()"
      ],
      "execution_count": null,
      "outputs": [
        {
          "output_type": "display_data",
          "data": {
            "image/png": "[encoded data removed]",
            "text/plain": [
              "<Figure size 1440x576 with 1 Axes>"
            ]
          },
          "metadata": {
            "tags": [],
            "needs_background": "light"
          }
        }
      ]
    },
    {
      "cell_type": "markdown",
      "metadata": {
        "id": "c1M0E3rHR7_h"
      },
      "source": [
        "We notice that the data isn't scaled, so we will have to scale it in order to apply regression algorithms."
      ]
    },
    {
      "cell_type": "code",
      "metadata": {
        "id": "xVZzXOEo0Xz6"
      },
      "source": [
        "X_scaled = preprocessing.StandardScaler().fit_transform(X)"
      ],
      "execution_count": null,
      "outputs": []
    },
    {
      "cell_type": "code",
      "metadata": {
        "colab": {
          "base_uri": "https://localhost:8080/",
          "height": 513
        },
        "id": "REZXLS9sTJBj",
        "outputId": "61086254-f883-4190-aaee-d7a425327b74"
      },
      "source": [
        "plt.figure(figsize=(20,8))\n",
        "\n",
        "plt.plot(X_scaled.mean(axis=0), label='Mean')\n",
        "plt.plot(X_scaled.std(axis=0), label='Standard Deviation')\n",
        "\n",
        "plt.title('Mean and standard deviation of the scaled data for each  feature')\n",
        "plt.xlabel('Feature')\n",
        "plt.ylabel('Value')\n",
        "plt.legend()\n",
        "plt.show()"
      ],
      "execution_count": null,
      "outputs": [
        {
          "output_type": "display_data",
          "data": {
            "image/png": "[encoded data removed]",
            "text/plain": [
              "<Figure size 1440x576 with 1 Axes>"
            ]
          },
          "metadata": {
            "tags": [],
            "needs_background": "light"
          }
        }
      ]
    },
    {
      "cell_type": "code",
      "metadata": {
        "id": "eYG2G0_1xcPf"
      },
      "source": [
        "X_train, X_test, y_train, y_test = train_test_split(X_scaled, y, test_size = 0.25, random_state = 42)"
      ],
      "execution_count": null,
      "outputs": []
    },
    {
      "cell_type": "code",
      "metadata": {
        "id": "GZC5MIGRX_Uc"
      },
      "source": [
        "scores = pd.DataFrame()"
      ],
      "execution_count": null,
      "outputs": []
    },
    {
      "cell_type": "markdown",
      "metadata": {
        "id": "PhLgnBLMSsNA"
      },
      "source": [
        "## Linear Regression"
      ]
    },
    {
      "cell_type": "code",
      "metadata": {
        "colab": {
          "base_uri": "https://localhost:8080/"
        },
        "id": "ElCOsmUYSzFp",
        "outputId": "20316bc5-0ed4-4536-e6d4-643855adddff"
      },
      "source": [
        "lin_reg = LinearRegression()\n",
        "lin_reg.fit(X_train, y_train)\n",
        "\n",
        "print(\"Using sklearn's linear_model we obtain:\\n\")\n",
        "print('The estimated parameters are:')\n",
        "for i in range(len(X.columns)):\n",
        "    print('coefficient for {} = {:.4f}'.format(X.columns[i],lin_reg.coef_[i]))"
      ],
      "execution_count": null,
      "outputs": [
        {
          "output_type": "stream",
          "text": [
            "Using sklearn's linear_model we obtain:\n",
            "\n",
            "The estimated parameters are:\n",
            "coefficient for X1 transaction date = 1.6582\n",
            "coefficient for X2 house age = -3.0358\n",
            "coefficient for X3 distance to the nearest MRT station = -6.2874\n",
            "coefficient for X4 number of convenience stores = 3.3197\n",
            "coefficient for X5 latitude = 2.7196\n",
            "coefficient for X6 longitude = -0.6613\n"
          ],
          "name": "stdout"
        }
      ]
    },
    {
      "cell_type": "markdown",
      "metadata": {
        "id": "t5GDq3ij6w90"
      },
      "source": [
        "The distance to the nearest MRT is the variable that affects the most our dependent variable y = house price of unit area. In fact, a 1 unit increase in distance leads to 6 units decrease in house price."
      ]
    },
    {
      "cell_type": "code",
      "metadata": {
        "colab": {
          "base_uri": "https://localhost:8080/"
        },
        "id": "lhtTfVBsYf3p",
        "outputId": "05c4de8f-8973-4550-9bcc-9b6ed3c4c873"
      },
      "source": [
        "y_pred = lin_reg.predict(X_test)\n",
        "R2_train = lin_reg.score(X_train, y_train)\n",
        "R2_test = lin_reg.score(X_test, y_test)\n",
        "MSE_test = mean_squared_error(y_test, y_pred)\n",
        "\n",
        "print('\\nDetermination coefficient R^2 on the train set = {:.4f}.'.format(R2_train))\n",
        "print('\\nDetermination coefficient R^2 on the test set = {:.4f}.'.format(R2_test))\n",
        "\n",
        "print('\\nMean Squared Error on the test set = {:.4f}.'.format(MSE_test))"
      ],
      "execution_count": null,
      "outputs": [
        {
          "output_type": "stream",
          "text": [
            "\n",
            "Determination coefficient R^2 on the train set = 0.5763.\n",
            "\n",
            "Determination coefficient R^2 on the test set = 0.5797.\n",
            "\n",
            "Mean Squared Error on the test set = 66.6713.\n"
          ],
          "name": "stdout"
        }
      ]
    },
    {
      "cell_type": "code",
      "metadata": {
        "colab": {
          "base_uri": "https://localhost:8080/",
          "height": 80
        },
        "id": "vIEFwGwja4Gz",
        "outputId": "1a195314-3890-4346-9204-fb41f7635a34"
      },
      "source": [
        "d = {'Regression': \"Linear Regression\", 'R2_train': R2_train, 'R2_test': R2_test, 'MSE_test': MSE_test}\n",
        "row = pd.DataFrame(d, index=[1])\n",
        "scores = scores.append(row)\n",
        "scores"
      ],
      "execution_count": null,
      "outputs": [
        {
          "output_type": "execute_result",
          "data": {
            "text/html": [
              "<div>\n",
              "<style scoped>\n",
              "    .dataframe tbody tr th:only-of-type {\n",
              "        vertical-align: middle;\n",
              "    }\n",
              "\n",
              "    .dataframe tbody tr th {\n",
              "        vertical-align: top;\n",
              "    }\n",
              "\n",
              "    .dataframe thead th {\n",
              "        text-align: right;\n",
              "    }\n",
              "</style>\n",
              "<table border=\"1\" class=\"dataframe\">\n",
              "  <thead>\n",
              "    <tr style=\"text-align: right;\">\n",
              "      <th></th>\n",
              "      <th>Regression</th>\n",
              "      <th>R2_train</th>\n",
              "      <th>R2_test</th>\n",
              "      <th>MSE_test</th>\n",
              "    </tr>\n",
              "  </thead>\n",
              "  <tbody>\n",
              "    <tr>\n",
              "      <th>1</th>\n",
              "      <td>Linear Regression</td>\n",
              "      <td>0.576348</td>\n",
              "      <td>0.579676</td>\n",
              "      <td>66.671276</td>\n",
              "    </tr>\n",
              "  </tbody>\n",
              "</table>\n",
              "</div>"
            ],
            "text/plain": [
              "          Regression  R2_train   R2_test   MSE_test\n",
              "1  Linear Regression  0.576348  0.579676  66.671276"
            ]
          },
          "metadata": {
            "tags": []
          },
          "execution_count": 61
        }
      ]
    },
    {
      "cell_type": "markdown",
      "metadata": {
        "id": "zLCGxwoQdBef"
      },
      "source": [
        "## SVR with Linear Kernel"
      ]
    },
    {
      "cell_type": "code",
      "metadata": {
        "id": "RIO_OdYIdDPs",
        "colab": {
          "base_uri": "https://localhost:8080/"
        },
        "outputId": "cb52e2a9-9905-4a72-84e7-e36b74bc86f7"
      },
      "source": [
        "svr = SVR(kernel='linear')\n",
        "svr.fit(X_train, y_train)\n",
        "\n",
        "print(\"Using sklearn's linear_model we obtain:\\n\")\n",
        "print('The estimated parameters are:')\n",
        "\n",
        "for i in range(len(X.columns)):\n",
        "    print('coefficient for {} = {:.4f}'.format(X.columns[i], svr.coef_[0][i]))"
      ],
      "execution_count": null,
      "outputs": [
        {
          "output_type": "stream",
          "text": [
            "Using sklearn's linear_model we obtain:\n",
            "\n",
            "The estimated parameters are:\n",
            "coefficient for X1 transaction date = 0.8137\n",
            "coefficient for X2 house age = -3.2476\n",
            "coefficient for X3 distance to the nearest MRT station = -4.5728\n",
            "coefficient for X4 number of convenience stores = 3.7041\n",
            "coefficient for X5 latitude = 3.3603\n",
            "coefficient for X6 longitude = -0.3775\n"
          ],
          "name": "stdout"
        }
      ]
    },
    {
      "cell_type": "markdown",
      "metadata": {
        "id": "X4wTkhwH7_8f"
      },
      "source": [
        "The distance to the nearest MRT is also the variable that affects the most our dependent variable y = house price of unit area. However its effect has decreased: a 1 unit increase in distance leads to 4.5 units decrease in house price."
      ]
    },
    {
      "cell_type": "code",
      "metadata": {
        "colab": {
          "base_uri": "https://localhost:8080/"
        },
        "id": "48nqLxryqaSw",
        "outputId": "fb96ca2d-a312-4ccf-f8f7-8039e9d65001"
      },
      "source": [
        "y_pred = svr.predict(X_test)\n",
        "R2_train = svr.score(X_train, y_train)\n",
        "R2_test = svr.score(X_test, y_test)\n",
        "MSE_test = mean_squared_error(y_test, y_pred)\n",
        "\n",
        "print('\\nDetermination coefficient R^2 on the train set = {:.4f}.'.format(R2_train))\n",
        "print('\\nDetermination coefficient R^2 on the test set = {:.4f}.'.format(R2_test))\n",
        "\n",
        "print('\\nMean Squared Error on the test set = {:.4f}.'.format(MSE_test))"
      ],
      "execution_count": null,
      "outputs": [
        {
          "output_type": "stream",
          "text": [
            "\n",
            "Determination coefficient R^2 on the train set = 0.5575.\n",
            "\n",
            "Determination coefficient R^2 on the test set = 0.5970.\n",
            "\n",
            "Mean Squared Error on the test set = 63.9181.\n"
          ],
          "name": "stdout"
        }
      ]
    },
    {
      "cell_type": "code",
      "metadata": {
        "colab": {
          "base_uri": "https://localhost:8080/",
          "height": 111
        },
        "id": "IQmUeJprsdXm",
        "outputId": "2620052f-7258-4cc4-f826-6cf35e8ad09b"
      },
      "source": [
        "d = {'Regression': \"SVR with linear kernel\", 'R2_train': R2_train, 'R2_test': R2_test, 'MSE_test': MSE_test}\n",
        "row = pd.DataFrame(d, index=[2])\n",
        "scores = scores.append(row)\n",
        "scores"
      ],
      "execution_count": null,
      "outputs": [
        {
          "output_type": "execute_result",
          "data": {
            "text/html": [
              "<div>\n",
              "<style scoped>\n",
              "    .dataframe tbody tr th:only-of-type {\n",
              "        vertical-align: middle;\n",
              "    }\n",
              "\n",
              "    .dataframe tbody tr th {\n",
              "        vertical-align: top;\n",
              "    }\n",
              "\n",
              "    .dataframe thead th {\n",
              "        text-align: right;\n",
              "    }\n",
              "</style>\n",
              "<table border=\"1\" class=\"dataframe\">\n",
              "  <thead>\n",
              "    <tr style=\"text-align: right;\">\n",
              "      <th></th>\n",
              "      <th>Regression</th>\n",
              "      <th>R2_train</th>\n",
              "      <th>R2_test</th>\n",
              "      <th>MSE_test</th>\n",
              "    </tr>\n",
              "  </thead>\n",
              "  <tbody>\n",
              "    <tr>\n",
              "      <th>1</th>\n",
              "      <td>Linear Regression</td>\n",
              "      <td>0.576348</td>\n",
              "      <td>0.579676</td>\n",
              "      <td>66.671276</td>\n",
              "    </tr>\n",
              "    <tr>\n",
              "      <th>2</th>\n",
              "      <td>SVR with linear kernel</td>\n",
              "      <td>0.557472</td>\n",
              "      <td>0.597033</td>\n",
              "      <td>63.918076</td>\n",
              "    </tr>\n",
              "  </tbody>\n",
              "</table>\n",
              "</div>"
            ],
            "text/plain": [
              "               Regression  R2_train   R2_test   MSE_test\n",
              "1       Linear Regression  0.576348  0.579676  66.671276\n",
              "2  SVR with linear kernel  0.557472  0.597033  63.918076"
            ]
          },
          "metadata": {
            "tags": []
          },
          "execution_count": 64
        }
      ]
    },
    {
      "cell_type": "markdown",
      "metadata": {
        "id": "qHpwX4n6jxe6"
      },
      "source": [
        "## Linear SVR"
      ]
    },
    {
      "cell_type": "code",
      "metadata": {
        "id": "SUzOe4xneYni",
        "colab": {
          "base_uri": "https://localhost:8080/"
        },
        "outputId": "85a077e9-4309-4d04-d244-9a506dadfd39"
      },
      "source": [
        "lin_svr = LinearSVR(random_state=42)\n",
        "lin_svr.fit(X_train, y_train) \n",
        "\n",
        "print(\"Using sklearn's linear_model we obtain the below coefficients with {} iterations :\\n\".format(lin_svr.n_iter_))\n",
        "for i in range(len(X.columns)):\n",
        "    print('coefficient for {} = {:.4f}'.format(X.columns[i],lin_svr.coef_[i]))"
      ],
      "execution_count": null,
      "outputs": [
        {
          "output_type": "stream",
          "text": [
            "Using sklearn's linear_model we obtain the below coefficients with 162 iterations :\n",
            "\n",
            "coefficient for X1 transaction date = 0.5325\n",
            "coefficient for X2 house age = -3.1329\n",
            "coefficient for X3 distance to the nearest MRT station = -4.5898\n",
            "coefficient for X4 number of convenience stores = 4.0118\n",
            "coefficient for X5 latitude = 2.8427\n",
            "coefficient for X6 longitude = 0.0909\n"
          ],
          "name": "stdout"
        }
      ]
    },
    {
      "cell_type": "markdown",
      "metadata": {
        "id": "QkGYKsQd81rI"
      },
      "source": [
        "We notice here an increase in the impact of the number of convenience stores over the house price of unit area. "
      ]
    },
    {
      "cell_type": "code",
      "metadata": {
        "colab": {
          "base_uri": "https://localhost:8080/"
        },
        "id": "ghdJutfQpPEK",
        "outputId": "f55421db-f1e4-4f44-a7de-5e484ca4a857"
      },
      "source": [
        "y_pred = lin_svr.predict(X_test)\n",
        "R2_train = lin_svr.score(X_train, y_train)\n",
        "R2_test = lin_svr.score(X_test, y_test)\n",
        "MSE_test = mean_squared_error(y_test, y_pred)\n",
        "\n",
        "print('\\nDetermination coefficient R^2 on the train set = {:.4f}.'.format(R2_train))\n",
        "print('\\nDetermination coefficient R^2 on the test set = {:.4f}.'.format(R2_test))\n",
        "\n",
        "print('\\nMean Squared Error on the test set = {:.4f}.'.format(MSE_test))"
      ],
      "execution_count": null,
      "outputs": [
        {
          "output_type": "stream",
          "text": [
            "\n",
            "Determination coefficient R^2 on the train set = 0.5332.\n",
            "\n",
            "Determination coefficient R^2 on the test set = 0.5917.\n",
            "\n",
            "Mean Squared Error on the test set = 64.7634.\n"
          ],
          "name": "stdout"
        }
      ]
    },
    {
      "cell_type": "code",
      "metadata": {
        "colab": {
          "base_uri": "https://localhost:8080/",
          "height": 142
        },
        "id": "DDDNG1tRsttR",
        "outputId": "30042bf8-5ba3-4519-e315-bfc912559d88"
      },
      "source": [
        "d = {'Regression': \"Linear SVR\", 'R2_train': R2_train, 'R2_test': R2_test, 'MSE_test': MSE_test}\n",
        "row = pd.DataFrame(d, index=[3])\n",
        "scores = scores.append(row)\n",
        "scores"
      ],
      "execution_count": null,
      "outputs": [
        {
          "output_type": "execute_result",
          "data": {
            "text/html": [
              "<div>\n",
              "<style scoped>\n",
              "    .dataframe tbody tr th:only-of-type {\n",
              "        vertical-align: middle;\n",
              "    }\n",
              "\n",
              "    .dataframe tbody tr th {\n",
              "        vertical-align: top;\n",
              "    }\n",
              "\n",
              "    .dataframe thead th {\n",
              "        text-align: right;\n",
              "    }\n",
              "</style>\n",
              "<table border=\"1\" class=\"dataframe\">\n",
              "  <thead>\n",
              "    <tr style=\"text-align: right;\">\n",
              "      <th></th>\n",
              "      <th>Regression</th>\n",
              "      <th>R2_train</th>\n",
              "      <th>R2_test</th>\n",
              "      <th>MSE_test</th>\n",
              "    </tr>\n",
              "  </thead>\n",
              "  <tbody>\n",
              "    <tr>\n",
              "      <th>1</th>\n",
              "      <td>Linear Regression</td>\n",
              "      <td>0.576348</td>\n",
              "      <td>0.579676</td>\n",
              "      <td>66.671276</td>\n",
              "    </tr>\n",
              "    <tr>\n",
              "      <th>2</th>\n",
              "      <td>SVR with linear kernel</td>\n",
              "      <td>0.557472</td>\n",
              "      <td>0.597033</td>\n",
              "      <td>63.918076</td>\n",
              "    </tr>\n",
              "    <tr>\n",
              "      <th>3</th>\n",
              "      <td>Linear SVR</td>\n",
              "      <td>0.533213</td>\n",
              "      <td>0.591704</td>\n",
              "      <td>64.763350</td>\n",
              "    </tr>\n",
              "  </tbody>\n",
              "</table>\n",
              "</div>"
            ],
            "text/plain": [
              "               Regression  R2_train   R2_test   MSE_test\n",
              "1       Linear Regression  0.576348  0.579676  66.671276\n",
              "2  SVR with linear kernel  0.557472  0.597033  63.918076\n",
              "3              Linear SVR  0.533213  0.591704  64.763350"
            ]
          },
          "metadata": {
            "tags": []
          },
          "execution_count": 67
        }
      ]
    },
    {
      "cell_type": "markdown",
      "metadata": {
        "id": "joFJhkZ1nM8L"
      },
      "source": [
        "The previous linear regression and linear SVR have shown close training and testing scores, which means that the regression is coherent and does not overfit. However, it is notable that the scores are average which shows that we can reach better predictions on the labels by improving the model.\n"
      ]
    },
    {
      "cell_type": "markdown",
      "metadata": {
        "id": "TZGXrqWs9OMq"
      },
      "source": [
        "## SVR with RBF Kernel"
      ]
    },
    {
      "cell_type": "code",
      "metadata": {
        "id": "5q9Ls8E67xlR",
        "colab": {
          "base_uri": "https://localhost:8080/"
        },
        "outputId": "8325b1dd-5ec7-498e-a1bb-995b804d6b65"
      },
      "source": [
        "rbfsvr = SVR()\n",
        "rbfsvr.fit(X_train, y_train)\n",
        "\n",
        "y_pred = rbfsvr.predict(X_test)\n",
        "R2_train = rbfsvr.score(X_train, y_train)\n",
        "R2_test = rbfsvr.score(X_test, y_test)\n",
        "MSE_test = mean_squared_error(y_test, y_pred)\n",
        "\n",
        "print('\\nDetermination coefficient R^2 on the train set = {:.4f}.'.format(R2_train))\n",
        "print('\\nDetermination coefficient R^2 on the test set = {:.4f}.'.format(R2_test))\n",
        "\n",
        "print('\\nMean Squared Error on the test set = {:.4f}.'.format(MSE_test))"
      ],
      "execution_count": null,
      "outputs": [
        {
          "output_type": "stream",
          "text": [
            "\n",
            "Determination coefficient R^2 on the train set = 0.5727.\n",
            "\n",
            "Determination coefficient R^2 on the test set = 0.6099.\n",
            "\n",
            "Mean Squared Error on the test set = 61.8781.\n"
          ],
          "name": "stdout"
        }
      ]
    },
    {
      "cell_type": "code",
      "metadata": {
        "colab": {
          "base_uri": "https://localhost:8080/",
          "height": 173
        },
        "id": "rQuayFC9tGn0",
        "outputId": "53804cb5-357a-4c18-e628-e367325bdce3"
      },
      "source": [
        "d = {'Regression': \"SVR with RBF kernel\", 'R2_train': R2_train, 'R2_test': R2_test, 'MSE_test': MSE_test}\n",
        "row = pd.DataFrame(d, index=[4])\n",
        "scores = scores.append(row)\n",
        "scores"
      ],
      "execution_count": null,
      "outputs": [
        {
          "output_type": "execute_result",
          "data": {
            "text/html": [
              "<div>\n",
              "<style scoped>\n",
              "    .dataframe tbody tr th:only-of-type {\n",
              "        vertical-align: middle;\n",
              "    }\n",
              "\n",
              "    .dataframe tbody tr th {\n",
              "        vertical-align: top;\n",
              "    }\n",
              "\n",
              "    .dataframe thead th {\n",
              "        text-align: right;\n",
              "    }\n",
              "</style>\n",
              "<table border=\"1\" class=\"dataframe\">\n",
              "  <thead>\n",
              "    <tr style=\"text-align: right;\">\n",
              "      <th></th>\n",
              "      <th>Regression</th>\n",
              "      <th>R2_train</th>\n",
              "      <th>R2_test</th>\n",
              "      <th>MSE_test</th>\n",
              "    </tr>\n",
              "  </thead>\n",
              "  <tbody>\n",
              "    <tr>\n",
              "      <th>1</th>\n",
              "      <td>Linear Regression</td>\n",
              "      <td>0.576348</td>\n",
              "      <td>0.579676</td>\n",
              "      <td>66.671276</td>\n",
              "    </tr>\n",
              "    <tr>\n",
              "      <th>2</th>\n",
              "      <td>SVR with linear kernel</td>\n",
              "      <td>0.557472</td>\n",
              "      <td>0.597033</td>\n",
              "      <td>63.918076</td>\n",
              "    </tr>\n",
              "    <tr>\n",
              "      <th>3</th>\n",
              "      <td>Linear SVR</td>\n",
              "      <td>0.533213</td>\n",
              "      <td>0.591704</td>\n",
              "      <td>64.763350</td>\n",
              "    </tr>\n",
              "    <tr>\n",
              "      <th>4</th>\n",
              "      <td>SVR with RBF kernel</td>\n",
              "      <td>0.572733</td>\n",
              "      <td>0.609894</td>\n",
              "      <td>61.878137</td>\n",
              "    </tr>\n",
              "  </tbody>\n",
              "</table>\n",
              "</div>"
            ],
            "text/plain": [
              "               Regression  R2_train   R2_test   MSE_test\n",
              "1       Linear Regression  0.576348  0.579676  66.671276\n",
              "2  SVR with linear kernel  0.557472  0.597033  63.918076\n",
              "3              Linear SVR  0.533213  0.591704  64.763350\n",
              "4     SVR with RBF kernel  0.572733  0.609894  61.878137"
            ]
          },
          "metadata": {
            "tags": []
          },
          "execution_count": 69
        }
      ]
    },
    {
      "cell_type": "markdown",
      "metadata": {
        "id": "GKLhqG9UtzXo"
      },
      "source": [
        "### Decision Tree Regressor"
      ]
    },
    {
      "cell_type": "code",
      "metadata": {
        "colab": {
          "base_uri": "https://localhost:8080/"
        },
        "id": "cjr-T7a7t6Oi",
        "outputId": "00f96c19-131c-4369-99e4-78ea0b8dae60"
      },
      "source": [
        "dt = DecisionTreeRegressor(criterion='mse',random_state=42)\n",
        "dt.fit(X_train, y_train)\n",
        "\n",
        "y_pred = dt.predict(X_test)\n",
        "R2_train = dt.score(X_train, y_train)\n",
        "R2_test = dt.score(X_test, y_test)\n",
        "MSE_test = mean_squared_error(y_test, y_pred)\n",
        "\n",
        "print('\\nDetermination coefficient R^2 on the train set = {:.4f}.'.format(R2_train))\n",
        "print('\\nDetermination coefficient R^2 on the test set = {:.4f}.'.format(R2_test))\n",
        "\n",
        "print('\\nMean Squared Error on the test set = {:.4f}.'.format(MSE_test))"
      ],
      "execution_count": null,
      "outputs": [
        {
          "output_type": "stream",
          "text": [
            "\n",
            "Determination coefficient R^2 on the train set = 0.9975.\n",
            "\n",
            "Determination coefficient R^2 on the test set = 0.5740.\n",
            "\n",
            "Mean Squared Error on the test set = 67.5659.\n"
          ],
          "name": "stdout"
        }
      ]
    },
    {
      "cell_type": "code",
      "metadata": {
        "colab": {
          "base_uri": "https://localhost:8080/",
          "height": 204
        },
        "id": "nG0skBSZ3DVx",
        "outputId": "ca4487d1-f345-4bd9-b9a9-443fe3b3bcac"
      },
      "source": [
        "d = {'Regression': \"Decision Tree Regression\", 'R2_train': R2_train, 'R2_test': R2_test, 'MSE_test': MSE_test}\n",
        "row = pd.DataFrame(d, index=[5])\n",
        "scores = scores.append(row)\n",
        "scores"
      ],
      "execution_count": null,
      "outputs": [
        {
          "output_type": "execute_result",
          "data": {
            "text/html": [
              "<div>\n",
              "<style scoped>\n",
              "    .dataframe tbody tr th:only-of-type {\n",
              "        vertical-align: middle;\n",
              "    }\n",
              "\n",
              "    .dataframe tbody tr th {\n",
              "        vertical-align: top;\n",
              "    }\n",
              "\n",
              "    .dataframe thead th {\n",
              "        text-align: right;\n",
              "    }\n",
              "</style>\n",
              "<table border=\"1\" class=\"dataframe\">\n",
              "  <thead>\n",
              "    <tr style=\"text-align: right;\">\n",
              "      <th></th>\n",
              "      <th>Regression</th>\n",
              "      <th>R2_train</th>\n",
              "      <th>R2_test</th>\n",
              "      <th>MSE_test</th>\n",
              "    </tr>\n",
              "  </thead>\n",
              "  <tbody>\n",
              "    <tr>\n",
              "      <th>1</th>\n",
              "      <td>Linear Regression</td>\n",
              "      <td>0.576348</td>\n",
              "      <td>0.579676</td>\n",
              "      <td>66.671276</td>\n",
              "    </tr>\n",
              "    <tr>\n",
              "      <th>2</th>\n",
              "      <td>SVR with linear kernel</td>\n",
              "      <td>0.557472</td>\n",
              "      <td>0.597033</td>\n",
              "      <td>63.918076</td>\n",
              "    </tr>\n",
              "    <tr>\n",
              "      <th>3</th>\n",
              "      <td>Linear SVR</td>\n",
              "      <td>0.533213</td>\n",
              "      <td>0.591704</td>\n",
              "      <td>64.763350</td>\n",
              "    </tr>\n",
              "    <tr>\n",
              "      <th>4</th>\n",
              "      <td>SVR with RBF kernel</td>\n",
              "      <td>0.572733</td>\n",
              "      <td>0.609894</td>\n",
              "      <td>61.878137</td>\n",
              "    </tr>\n",
              "    <tr>\n",
              "      <th>5</th>\n",
              "      <td>Decision Tree Regression</td>\n",
              "      <td>0.997488</td>\n",
              "      <td>0.574036</td>\n",
              "      <td>67.565865</td>\n",
              "    </tr>\n",
              "  </tbody>\n",
              "</table>\n",
              "</div>"
            ],
            "text/plain": [
              "                 Regression  R2_train   R2_test   MSE_test\n",
              "1         Linear Regression  0.576348  0.579676  66.671276\n",
              "2    SVR with linear kernel  0.557472  0.597033  63.918076\n",
              "3                Linear SVR  0.533213  0.591704  64.763350\n",
              "4       SVR with RBF kernel  0.572733  0.609894  61.878137\n",
              "5  Decision Tree Regression  0.997488  0.574036  67.565865"
            ]
          },
          "metadata": {
            "tags": []
          },
          "execution_count": 71
        }
      ]
    },
    {
      "cell_type": "markdown",
      "metadata": {
        "id": "orrb9ieSyxN6"
      },
      "source": [
        "For the decision tree classifier, the determination coefficient on the train set is way higher than the one on the test set which means that our model is overfitting on the train set. In fact, the training determination coefficient is almost equal to 1 which could suggest that a more refined modeling approach is needed for a better prediction."
      ]
    },
    {
      "cell_type": "markdown",
      "metadata": {
        "id": "Bfg1F0kp2vJH"
      },
      "source": [
        "### Random Forest"
      ]
    },
    {
      "cell_type": "code",
      "metadata": {
        "colab": {
          "base_uri": "https://localhost:8080/"
        },
        "id": "-zS_QG-92tTT",
        "outputId": "75d050a9-ef85-446e-f4d2-d0377392fff7"
      },
      "source": [
        "rf = RandomForestRegressor(random_state=42)\n",
        "rf.fit(X_train, y_train)\n",
        "y_pred = rf.predict(X_test)\n",
        "R2_train = rf.score(X_train, y_train)\n",
        "R2_test = rf.score(X_test, y_test)\n",
        "MSE_test = mean_squared_error(y_test, y_pred)\n",
        "\n",
        "print('\\nDetermination coefficient R^2 on the train set = {:.4f}.'.format(R2_train))\n",
        "print('\\nDetermination coefficient R^2 on the test set = {:.4f}.'.format(R2_test))\n",
        "\n",
        "print('\\nMean Squared Error on the test set = {:.4f}.'.format(MSE_test))"
      ],
      "execution_count": null,
      "outputs": [
        {
          "output_type": "stream",
          "text": [
            "\n",
            "Determination coefficient R^2 on the train set = 0.9476.\n",
            "\n",
            "Determination coefficient R^2 on the test set = 0.7314.\n",
            "\n",
            "Mean Squared Error on the test set = 42.6017.\n"
          ],
          "name": "stdout"
        }
      ]
    },
    {
      "cell_type": "code",
      "metadata": {
        "colab": {
          "base_uri": "https://localhost:8080/",
          "height": 235
        },
        "id": "pTSv_Jui-t1E",
        "outputId": "90999977-5c28-4b73-fb38-8da04964775b"
      },
      "source": [
        "d = {'Regression': \"Random Forest Regression\", 'R2_train': R2_train, 'R2_test': R2_test, 'MSE_test': MSE_test}\n",
        "row = pd.DataFrame(d, index=[6])\n",
        "scores = scores.append(row)\n",
        "scores"
      ],
      "execution_count": null,
      "outputs": [
        {
          "output_type": "execute_result",
          "data": {
            "text/html": [
              "<div>\n",
              "<style scoped>\n",
              "    .dataframe tbody tr th:only-of-type {\n",
              "        vertical-align: middle;\n",
              "    }\n",
              "\n",
              "    .dataframe tbody tr th {\n",
              "        vertical-align: top;\n",
              "    }\n",
              "\n",
              "    .dataframe thead th {\n",
              "        text-align: right;\n",
              "    }\n",
              "</style>\n",
              "<table border=\"1\" class=\"dataframe\">\n",
              "  <thead>\n",
              "    <tr style=\"text-align: right;\">\n",
              "      <th></th>\n",
              "      <th>Regression</th>\n",
              "      <th>R2_train</th>\n",
              "      <th>R2_test</th>\n",
              "      <th>MSE_test</th>\n",
              "    </tr>\n",
              "  </thead>\n",
              "  <tbody>\n",
              "    <tr>\n",
              "      <th>1</th>\n",
              "      <td>Linear Regression</td>\n",
              "      <td>0.576348</td>\n",
              "      <td>0.579676</td>\n",
              "      <td>66.671276</td>\n",
              "    </tr>\n",
              "    <tr>\n",
              "      <th>2</th>\n",
              "      <td>SVR with linear kernel</td>\n",
              "      <td>0.557472</td>\n",
              "      <td>0.597033</td>\n",
              "      <td>63.918076</td>\n",
              "    </tr>\n",
              "    <tr>\n",
              "      <th>3</th>\n",
              "      <td>Linear SVR</td>\n",
              "      <td>0.533213</td>\n",
              "      <td>0.591704</td>\n",
              "      <td>64.763350</td>\n",
              "    </tr>\n",
              "    <tr>\n",
              "      <th>4</th>\n",
              "      <td>SVR with RBF kernel</td>\n",
              "      <td>0.572733</td>\n",
              "      <td>0.609894</td>\n",
              "      <td>61.878137</td>\n",
              "    </tr>\n",
              "    <tr>\n",
              "      <th>5</th>\n",
              "      <td>Decision Tree Regression</td>\n",
              "      <td>0.997488</td>\n",
              "      <td>0.574036</td>\n",
              "      <td>67.565865</td>\n",
              "    </tr>\n",
              "    <tr>\n",
              "      <th>6</th>\n",
              "      <td>Random Forest Regression</td>\n",
              "      <td>0.947573</td>\n",
              "      <td>0.731421</td>\n",
              "      <td>42.601660</td>\n",
              "    </tr>\n",
              "  </tbody>\n",
              "</table>\n",
              "</div>"
            ],
            "text/plain": [
              "                 Regression  R2_train   R2_test   MSE_test\n",
              "1         Linear Regression  0.576348  0.579676  66.671276\n",
              "2    SVR with linear kernel  0.557472  0.597033  63.918076\n",
              "3                Linear SVR  0.533213  0.591704  64.763350\n",
              "4       SVR with RBF kernel  0.572733  0.609894  61.878137\n",
              "5  Decision Tree Regression  0.997488  0.574036  67.565865\n",
              "6  Random Forest Regression  0.947573  0.731421  42.601660"
            ]
          },
          "metadata": {
            "tags": []
          },
          "execution_count": 73
        }
      ]
    },
    {
      "cell_type": "markdown",
      "metadata": {
        "id": "-pKPctdy-0Cf"
      },
      "source": [
        "## Lasso Regression"
      ]
    },
    {
      "cell_type": "code",
      "metadata": {
        "colab": {
          "base_uri": "https://localhost:8080/"
        },
        "id": "1LuW78GT-DaK",
        "outputId": "491a396c-6d92-4359-c0de-11f04c74ec80"
      },
      "source": [
        "n_alphas = 30\n",
        "lasso_reg = LassoCV(alphas=np.logspace(\n",
        "    10e-3, 10e1, n_alphas)).fit(X_train, y_train)\n",
        "\n",
        "y_pred = lasso_reg.predict(X_test)\n",
        "\n",
        "R2_train = lasso_reg.score(X_train, y_train)\n",
        "R2_test = lasso_reg.score(X_test, y_test)\n",
        "MSE_test = mean_squared_error(y_test, y_pred)\n",
        "\n",
        "print('\\nDetermination coefficient R^2 on the train set = {:.4f}.'.format(R2_train))\n",
        "print('\\nDetermination coefficient R^2 on the test set = {:.4f}.'.format(R2_test))\n",
        "print('\\nThe Mean Squared Error MSE = {:.4f}.\\n'.format(MSE_test))"
      ],
      "execution_count": null,
      "outputs": [
        {
          "output_type": "stream",
          "text": [
            "\n",
            "Determination coefficient R^2 on the train set = 0.5556.\n",
            "\n",
            "Determination coefficient R^2 on the test set = 0.5747.\n",
            "\n",
            "The Mean Squared Error MSE = 67.4595.\n",
            "\n"
          ],
          "name": "stdout"
        }
      ]
    },
    {
      "cell_type": "code",
      "metadata": {
        "id": "7AbtrRF5-6pv"
      },
      "source": [
        "d = {'Regression': \"Lasso Regression\", 'R2_train': R2_train, 'R2_test': R2_test, 'MSE_test': MSE_test}\n",
        "row = pd.DataFrame(d, index=[7])\n",
        "scores = scores.append(row)"
      ],
      "execution_count": null,
      "outputs": []
    },
    {
      "cell_type": "code",
      "metadata": {
        "colab": {
          "base_uri": "https://localhost:8080/",
          "height": 266
        },
        "id": "-jNsizl7_Bce",
        "outputId": "d5baa3bb-5480-4aae-ade7-54bea29dd336"
      },
      "source": [
        "scores"
      ],
      "execution_count": null,
      "outputs": [
        {
          "output_type": "execute_result",
          "data": {
            "text/html": [
              "<div>\n",
              "<style scoped>\n",
              "    .dataframe tbody tr th:only-of-type {\n",
              "        vertical-align: middle;\n",
              "    }\n",
              "\n",
              "    .dataframe tbody tr th {\n",
              "        vertical-align: top;\n",
              "    }\n",
              "\n",
              "    .dataframe thead th {\n",
              "        text-align: right;\n",
              "    }\n",
              "</style>\n",
              "<table border=\"1\" class=\"dataframe\">\n",
              "  <thead>\n",
              "    <tr style=\"text-align: right;\">\n",
              "      <th></th>\n",
              "      <th>Regression</th>\n",
              "      <th>R2_train</th>\n",
              "      <th>R2_test</th>\n",
              "      <th>MSE_test</th>\n",
              "    </tr>\n",
              "  </thead>\n",
              "  <tbody>\n",
              "    <tr>\n",
              "      <th>1</th>\n",
              "      <td>Linear Regression</td>\n",
              "      <td>0.576348</td>\n",
              "      <td>0.579676</td>\n",
              "      <td>66.671276</td>\n",
              "    </tr>\n",
              "    <tr>\n",
              "      <th>2</th>\n",
              "      <td>SVR with linear kernel</td>\n",
              "      <td>0.557472</td>\n",
              "      <td>0.597033</td>\n",
              "      <td>63.918076</td>\n",
              "    </tr>\n",
              "    <tr>\n",
              "      <th>3</th>\n",
              "      <td>Linear SVR</td>\n",
              "      <td>0.533213</td>\n",
              "      <td>0.591704</td>\n",
              "      <td>64.763350</td>\n",
              "    </tr>\n",
              "    <tr>\n",
              "      <th>4</th>\n",
              "      <td>SVR with RBF kernel</td>\n",
              "      <td>0.572733</td>\n",
              "      <td>0.609894</td>\n",
              "      <td>61.878137</td>\n",
              "    </tr>\n",
              "    <tr>\n",
              "      <th>5</th>\n",
              "      <td>Decision Tree Regression</td>\n",
              "      <td>0.997488</td>\n",
              "      <td>0.574036</td>\n",
              "      <td>67.565865</td>\n",
              "    </tr>\n",
              "    <tr>\n",
              "      <th>6</th>\n",
              "      <td>Random Forest Regression</td>\n",
              "      <td>0.947573</td>\n",
              "      <td>0.731421</td>\n",
              "      <td>42.601660</td>\n",
              "    </tr>\n",
              "    <tr>\n",
              "      <th>7</th>\n",
              "      <td>Lasso Regression</td>\n",
              "      <td>0.555650</td>\n",
              "      <td>0.574706</td>\n",
              "      <td>67.459490</td>\n",
              "    </tr>\n",
              "  </tbody>\n",
              "</table>\n",
              "</div>"
            ],
            "text/plain": [
              "                 Regression  R2_train   R2_test   MSE_test\n",
              "1         Linear Regression  0.576348  0.579676  66.671276\n",
              "2    SVR with linear kernel  0.557472  0.597033  63.918076\n",
              "3                Linear SVR  0.533213  0.591704  64.763350\n",
              "4       SVR with RBF kernel  0.572733  0.609894  61.878137\n",
              "5  Decision Tree Regression  0.997488  0.574036  67.565865\n",
              "6  Random Forest Regression  0.947573  0.731421  42.601660\n",
              "7          Lasso Regression  0.555650  0.574706  67.459490"
            ]
          },
          "metadata": {
            "tags": []
          },
          "execution_count": 76
        }
      ]
    },
    {
      "cell_type": "markdown",
      "metadata": {
        "id": "IHfKMDmA_CNE"
      },
      "source": [
        "## Comparison and Conclusion"
      ]
    },
    {
      "cell_type": "markdown",
      "metadata": {
        "id": "-aFitNKs38zY"
      },
      "source": [
        "The accuracy and performance levels of the **random forest regression** proves to be the best one among all other regressions. It presents the lowest MSE (42.6) and highest determination coefficient R2 on test set (0.73) without overfitting on the training dataset (0.95).\n",
        "\n",
        "For the decicion tree regression, we notice an overfitting because the model doesn't correctly predict the new test set.\n",
        "\n",
        "The other regression models have almost the same accuracy and performace levels.In fact, the highest determination coefficient on the train and test sets reached 0.6 which is not accurate enough."
      ]
    },
    {
      "cell_type": "code",
      "metadata": {
        "id": "-usPTLZucqWo"
      },
      "source": [
        ""
      ],
      "execution_count": null,
      "outputs": []
    }
  ]
}