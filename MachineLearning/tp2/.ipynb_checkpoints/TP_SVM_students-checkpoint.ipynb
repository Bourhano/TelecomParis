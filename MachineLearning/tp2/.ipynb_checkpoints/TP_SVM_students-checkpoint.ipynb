{
 "cells": [
  {
   "cell_type": "code",
   "execution_count": 13,
   "metadata": {},
   "outputs": [],
   "source": [
    "import numpy as np\n",
    "import matplotlib.pyplot as plt\n",
    "from sklearn import svm\n",
    "from sklearn.svm import SVC\n",
    "from sklearn.datasets import make_blobs, make_circles\n",
    "from sklearn.utils import shuffle\n",
    "from sklearn.preprocessing import StandardScaler\n",
    "from sklearn.model_selection import cross_validate, train_test_split, GridSearchCV\n",
    "from scipy.stats import multivariate_normal\n",
    "import warnings\n",
    "warnings.filterwarnings(\"ignore\")\n",
    "\n",
    "%matplotlib inline \n",
    "#change to 'notebook' in case of Jupyter Notebook\n",
    "plt.style.use('ggplot')"
   ]
  },
  {
   "cell_type": "markdown",
   "metadata": {},
   "source": [
    "# TP n°2 : Support Vector Machine (SVM)"
   ]
  },
  {
   "cell_type": "markdown",
   "metadata": {},
   "source": [
    "## Preliminary questions"
   ]
  },
  {
   "cell_type": "markdown",
   "metadata": {},
   "source": [
    "**1)** Show that the primal problem solved by the SVM can be rewritten as follows :\n",
    "\n",
    "$$ \\text{argmin}_{\\mathbf{w} \\in \\mathcal{H}, w_0 \\in \\mathbb{R} } \\left( \\frac{1}{2}||\\mathbf{w}||^2 + C \\sum_{i=1}^n [ 1 - y_i ( \\langle \\mathbf{w}, \\Phi(\\mathbf{x_i}) \\rangle + w_0 )]_+ \\right) $$"
   ]
  },
  {
   "cell_type": "markdown",
   "metadata": {},
   "source": [
    " Our objective function is the minimization of two sums, the first being half of the sum of the squared elements of the prediction vector $ v \\in \\mathbb{R}^m$ :\n",
    "$$\\frac{1}{2}\\sum_{j=1}^m{w_j^2}$$ \n",
    "    and the second is the sum of the elements of the conditional vector $\\xi \\in \\mathbb{R}^n$ multiplied by C. \n",
    "\n",
    "These conditions are that each $\\xi_i$ for i in [1,n] should be :\n",
    "\n",
    "- $\\xi_i \\geq 0$\n",
    "\n",
    "- $ y_i (<w, \\Phi (x_i)> + w_0) \\geq 1 - \\xi_i$\n",
    "\n",
    "    So $\\xi_i$ must qualify both conditions at the same time, so the minimum it is permitted to be will be the maximum between these two conditions in order to fulfill them concurrently.\n",
    "    Hence, we can replace all $\\xi_i$ for i in [1,n] by the max() function of the two conditions, so we get :\n",
    "    $$ objective = \\frac{1}{2}\\sum_{j=1}^m{w_j^2} + C \\sum_{i=1}^n{[1 - y_i (<w, \\Phi (x_i)> + w_0)]_{+}} $$ "
   ]
  },
  {
   "cell_type": "markdown",
   "metadata": {},
   "source": [
    "**2)** Explain the sentence : \"an SVM minimizes the classification error using a convex upper bound\". The function $x \\rightarrow [1 - x]_+ = \\text{max}(0, 1-x)$ is called *Hinge* (*charnière* en français). Explain the difference between the pivotal loss and the loss of binary classification."
   ]
  },
  {
   "cell_type": "markdown",
   "metadata": {},
   "source": [
    "## Example of using SVC (originally in ```svm_script.py```)"
   ]
  },
  {
   "cell_type": "code",
   "execution_count": 14,
   "metadata": {
    "jupyter": {
     "source_hidden": true
    }
   },
   "outputs": [],
   "source": [
    "from matplotlib import rc\n",
    "from matplotlib.colors import ListedColormap\n",
    "import seaborn as sns\n",
    "\n",
    "plt.close('all')\n",
    "rc('font', **{'family': 'sans-serif', 'sans-serif': ['Computer Modern Roman']})\n",
    "# text.usetex is set as False by default to avoid problems with student computers\n",
    "params = {'axes.labelsize': 12,\n",
    "          'font.size': 16,\n",
    "          'legend.fontsize': 16,\n",
    "          'text.usetex': False,\n",
    "          'figure.figsize': (8, 6)}\n",
    "plt.rcParams.update(params)\n",
    "\n",
    "sns.set_context(\"poster\")\n",
    "sns.set_palette(\"colorblind\")\n",
    "sns.set_style(\"white\")\n",
    "sns.axes_style()\n",
    "\n",
    "###############################################################################\n",
    "#               Data Generation\n",
    "###############################################################################\n",
    "\n",
    "\n",
    "def rand_gauss(n=100, mu=[1, 1], sigmas=[0.1, 0.1]):\n",
    "    \"\"\" Sample n points from a Gaussian variable with center mu,\n",
    "    and std deviation sigma\n",
    "    \"\"\"\n",
    "    d = len(mu)\n",
    "    res = np.random.randn(n, d)\n",
    "    return np.array(res * sigmas + mu)\n",
    "\n",
    "\n",
    "def rand_bi_gauss(n1=100, n2=100, mu1=[1, 1], mu2=[-1, -1], sigmas1=[0.1, 0.1],\n",
    "                  sigmas2=[0.1, 0.1]):\n",
    "    \"\"\" Sample n1 and n2 points from two Gaussian variables centered in mu1,\n",
    "    mu2, with respective std deviations sigma1 and sigma2\n",
    "    \"\"\"\n",
    "    ex1 = rand_gauss(n1, mu1, sigmas1)\n",
    "    ex2 = rand_gauss(n2, mu2, sigmas2)\n",
    "    y = np.hstack([np.ones(n1), -1 * np.ones(n2)])\n",
    "    X = np.vstack([ex1, ex2])\n",
    "    ind = np.random.permutation(n1 + n2)\n",
    "    return X[ind, :], y[ind]\n",
    "\n",
    "###############################################################################\n",
    "#           Displaying labeled data\n",
    "###############################################################################\n",
    "\n",
    "symlist = ['o', 's', 'D', 'x', '+', '*', 'p', 'v', '-', '^']\n",
    "\n",
    "\n",
    "def plot_2d(data, y=None, w=None, alpha_choice=1):\n",
    "    \"\"\" Plot in 2D the dataset data, colors and symbols according to the\n",
    "    class given by the vector y (if given); the separating hyperplan w can\n",
    "    also be displayed if asked\"\"\"\n",
    "\n",
    "    k = np.unique(y).shape[0]\n",
    "    color_blind_list = sns.color_palette(\"colorblind\", k)\n",
    "    sns.set_palette(color_blind_list)\n",
    "    if y is None:\n",
    "        labs = [\"\"]\n",
    "        idxbyclass = [range(data.shape[0])]\n",
    "    else:\n",
    "        labs = np.unique(y)\n",
    "        idxbyclass = [np.where(y == labs[i])[0] for i in range(len(labs))]\n",
    "\n",
    "    for i in range(len(labs)):\n",
    "        plt.scatter(data[idxbyclass[i], 0], data[idxbyclass[i], 1],\n",
    "                    c=[color_blind_list[i]], s=80, marker=symlist[i])\n",
    "    plt.ylim([np.min(data[:, 1]), np.max(data[:, 1])])\n",
    "    plt.xlim([np.min(data[:, 0]), np.max(data[:, 0])])\n",
    "    mx = np.min(data[:, 0])\n",
    "    maxx = np.max(data[:, 0])\n",
    "    if w is not None:\n",
    "        plt.plot([mx, maxx], [mx * -w[1] / w[2] - w[0] / w[2],\n",
    "                              maxx * -w[1] / w[2] - w[0] / w[2]],\n",
    "                 \"g\", alpha=alpha_choice)\n",
    "\n",
    "###############################################################################\n",
    "#           Displaying tools for the Frontiere\n",
    "###############################################################################\n",
    "\n",
    "\n",
    "def frontiere(f, X, y, w=None, step=50, alpha_choice=1, colorbar=True,\n",
    "              samples=True):\n",
    "    \"\"\" trace la frontiere pour la fonction de decision f\"\"\"\n",
    "    # construct cmap\n",
    "\n",
    "    min_tot0 = np.min(X[:, 0])\n",
    "    min_tot1 = np.min(X[:, 1])\n",
    "\n",
    "    max_tot0 = np.max(X[:, 0])\n",
    "    max_tot1 = np.max(X[:, 1])\n",
    "    delta0 = (max_tot0 - min_tot0)\n",
    "    delta1 = (max_tot1 - min_tot1)\n",
    "    xx, yy = np.meshgrid(np.arange(min_tot0, max_tot0, delta0 / step),\n",
    "                         np.arange(min_tot1, max_tot1, delta1 / step))\n",
    "    z = np.array([f(vec.reshape(1, -1)) for vec in np.c_[xx.ravel(), yy.ravel()]])\n",
    "    z = z.reshape(xx.shape)\n",
    "    labels = np.unique(z)\n",
    "    color_blind_list = sns.color_palette(\"colorblind\", labels.shape[0])\n",
    "    sns.set_palette(color_blind_list)\n",
    "    my_cmap = ListedColormap(color_blind_list)\n",
    "    plt.imshow(z, origin='lower', interpolation=\"mitchell\", alpha=0.80,\n",
    "               cmap=my_cmap, extent=[min_tot0, max_tot0, min_tot1, max_tot1])\n",
    "    if colorbar is True:\n",
    "        ax = plt.gca()\n",
    "        cbar = plt.colorbar(ticks=labels)\n",
    "        cbar.ax.set_yticklabels(labels)\n",
    "\n",
    "    labels = np.unique(y)\n",
    "    k = np.unique(y).shape[0]\n",
    "    color_blind_list = sns.color_palette(\"colorblind\", k)\n",
    "    sns.set_palette(color_blind_list)\n",
    "    ax = plt.gca()\n",
    "    if samples is True:\n",
    "        for i, label in enumerate(y):\n",
    "            label_num = np.where(labels == label)[0][0]\n",
    "            plt.scatter(X[i, 0], X[i, 1], c=[color_blind_list[label_num]],\n",
    "                        s=80, marker=symlist[label_num])\n",
    "    plt.xlim([min_tot0, max_tot0])\n",
    "    plt.ylim([min_tot1, max_tot1])\n",
    "    ax.get_yaxis().set_ticks([])\n",
    "    ax.get_xaxis().set_ticks([])\n",
    "    if w is not None:\n",
    "        plt.plot([min_tot0, max_tot0],\n",
    "                 [min_tot0 * -w[1] / w[2] - w[0] / w[2],\n",
    "                  max_tot0 * -w[1] / w[2] - w[0] / w[2]],\n",
    "                 \"k\", alpha=alpha_choice)"
   ]
  },
  {
   "cell_type": "code",
   "execution_count": 15,
   "metadata": {},
   "outputs": [
    {
     "name": "stdout",
     "output_type": "stream",
     "text": [
      "Score : 0.9\n"
     ]
    },
    {
     "data": {
      "image/png": "[encoded data removed]",
      "text/plain": [
       "<Figure size 1080x360 with 1 Axes>"
      ]
     },
     "metadata": {},
     "output_type": "display_data"
    },
    {
     "data": {
      "image/png": "[encoded data removed]",
      "text/plain": [
       "<Figure size 576x432 with 2 Axes>"
      ]
     },
     "metadata": {},
     "output_type": "display_data"
    }
   ],
   "source": [
    "# This is an example of using SVC for data generated in the same way as the previous TP\n",
    "n1 = 20\n",
    "n2 = 20\n",
    "mu1 = [1., 1.]\n",
    "mu2 = [-1., -1.]\n",
    "sigma1 = [0.9, 0.9]\n",
    "sigma2 = [0.9, 0.9]\n",
    "X1, y1 = rand_bi_gauss(n1, n2, mu1, mu2, sigma1, sigma2)\n",
    "\n",
    "plt.show()\n",
    "plt.close(\"all\")\n",
    "plt.ion()\n",
    "plt.figure(1, figsize=(15, 5))\n",
    "plt.title('First data set')\n",
    "plot_2d(X1, y1)\n",
    "\n",
    "X_train = X1[::2]\n",
    "Y_train = y1[::2].astype(int)\n",
    "X_test = X1[1::2]\n",
    "Y_test = y1[1::2].astype(int)\n",
    "\n",
    "# fit the model with linear kernel\n",
    "clf = SVC(kernel='linear')\n",
    "clf.fit(X_train, Y_train)\n",
    "\n",
    "# predict labels for the test data base\n",
    "y_pred = clf.predict(X_test)\n",
    "\n",
    "# check your score\n",
    "score = clf.score(X_test, Y_test)\n",
    "print('Score : %s' % score)\n",
    "# display the frontiere\n",
    "\n",
    "\n",
    "def f(xx):\n",
    "    \"\"\"Classifier: needed to avoid warning due to shape issues\"\"\"\n",
    "    return clf.predict(xx.reshape(1, -1))\n",
    "\n",
    "plt.figure(2)\n",
    "frontiere(f, X_train, Y_train, w=None, step=50, alpha_choice=1)"
   ]
  },
  {
   "cell_type": "markdown",
   "metadata": {},
   "source": [
    "## Linear SVM"
   ]
  },
  {
   "cell_type": "markdown",
   "metadata": {},
   "source": [
    "**3)** Draw a i.i.d. sample from a mixture of two Gaussian distrtibutions : each class is a Gaussian with specific parameters. This time, use the function make_blobs available in sklearn.datasets library. Reserve 75% of the data for training and 25% for the test data."
   ]
  },
  {
   "cell_type": "code",
   "execution_count": 52,
   "metadata": {},
   "outputs": [
    {
     "data": {
      "text/plain": [
       "\u001b[1;31mSignature:\u001b[0m\n",
       "\u001b[0mmake_blobs\u001b[0m\u001b[1;33m(\u001b[0m\u001b[1;33m\n",
       "\u001b[0m    \u001b[0mn_samples\u001b[0m\u001b[1;33m=\u001b[0m\u001b[1;36m100\u001b[0m\u001b[1;33m,\u001b[0m\u001b[1;33m\n",
       "\u001b[0m    \u001b[0mn_features\u001b[0m\u001b[1;33m=\u001b[0m\u001b[1;36m2\u001b[0m\u001b[1;33m,\u001b[0m\u001b[1;33m\n",
       "\u001b[0m    \u001b[1;33m*\u001b[0m\u001b[1;33m,\u001b[0m\u001b[1;33m\n",
       "\u001b[0m    \u001b[0mcenters\u001b[0m\u001b[1;33m=\u001b[0m\u001b[1;32mNone\u001b[0m\u001b[1;33m,\u001b[0m\u001b[1;33m\n",
       "\u001b[0m    \u001b[0mcluster_std\u001b[0m\u001b[1;33m=\u001b[0m\u001b[1;36m1.0\u001b[0m\u001b[1;33m,\u001b[0m\u001b[1;33m\n",
       "\u001b[0m    \u001b[0mcenter_box\u001b[0m\u001b[1;33m=\u001b[0m\u001b[1;33m(\u001b[0m\u001b[1;33m-\u001b[0m\u001b[1;36m10.0\u001b[0m\u001b[1;33m,\u001b[0m \u001b[1;36m10.0\u001b[0m\u001b[1;33m)\u001b[0m\u001b[1;33m,\u001b[0m\u001b[1;33m\n",
       "\u001b[0m    \u001b[0mshuffle\u001b[0m\u001b[1;33m=\u001b[0m\u001b[1;32mTrue\u001b[0m\u001b[1;33m,\u001b[0m\u001b[1;33m\n",
       "\u001b[0m    \u001b[0mrandom_state\u001b[0m\u001b[1;33m=\u001b[0m\u001b[1;32mNone\u001b[0m\u001b[1;33m,\u001b[0m\u001b[1;33m\n",
       "\u001b[0m    \u001b[0mreturn_centers\u001b[0m\u001b[1;33m=\u001b[0m\u001b[1;32mFalse\u001b[0m\u001b[1;33m,\u001b[0m\u001b[1;33m\n",
       "\u001b[0m\u001b[1;33m)\u001b[0m\u001b[1;33m\u001b[0m\u001b[1;33m\u001b[0m\u001b[0m\n",
       "\u001b[1;31mDocstring:\u001b[0m\n",
       "Generate isotropic Gaussian blobs for clustering.\n",
       "\n",
       "Read more in the :ref:`User Guide <sample_generators>`.\n",
       "\n",
       "Parameters\n",
       "----------\n",
       "n_samples : int or array-like, optional (default=100)\n",
       "    If int, it is the total number of points equally divided among\n",
       "    clusters.\n",
       "    If array-like, each element of the sequence indicates\n",
       "    the number of samples per cluster.\n",
       "\n",
       "    .. versionchanged:: v0.20\n",
       "        one can now pass an array-like to the ``n_samples`` parameter\n",
       "\n",
       "n_features : int, optional (default=2)\n",
       "    The number of features for each sample.\n",
       "\n",
       "centers : int or array of shape [n_centers, n_features], optional\n",
       "    (default=None)\n",
       "    The number of centers to generate, or the fixed center locations.\n",
       "    If n_samples is an int and centers is None, 3 centers are generated.\n",
       "    If n_samples is array-like, centers must be\n",
       "    either None or an array of length equal to the length of n_samples.\n",
       "\n",
       "cluster_std : float or sequence of floats, optional (default=1.0)\n",
       "    The standard deviation of the clusters.\n",
       "\n",
       "center_box : pair of floats (min, max), optional (default=(-10.0, 10.0))\n",
       "    The bounding box for each cluster center when centers are\n",
       "    generated at random.\n",
       "\n",
       "shuffle : boolean, optional (default=True)\n",
       "    Shuffle the samples.\n",
       "\n",
       "random_state : int, RandomState instance, default=None\n",
       "    Determines random number generation for dataset creation. Pass an int\n",
       "    for reproducible output across multiple function calls.\n",
       "    See :term:`Glossary <random_state>`.\n",
       "\n",
       "return_centers : bool, optional (default=False)\n",
       "    If True, then return the centers of each cluster\n",
       "\n",
       "    .. versionadded:: 0.23\n",
       "\n",
       "Returns\n",
       "-------\n",
       "X : array of shape [n_samples, n_features]\n",
       "    The generated samples.\n",
       "\n",
       "y : array of shape [n_samples]\n",
       "    The integer labels for cluster membership of each sample.\n",
       "\n",
       "centers : array, shape [n_centers, n_features]\n",
       "    The centers of each cluster. Only returned if\n",
       "    ``return_centers=True``.\n",
       "\n",
       "Examples\n",
       "--------\n",
       ">>> from sklearn.datasets import make_blobs\n",
       ">>> X, y = make_blobs(n_samples=10, centers=3, n_features=2,\n",
       "...                   random_state=0)\n",
       ">>> print(X.shape)\n",
       "(10, 2)\n",
       ">>> y\n",
       "array([0, 0, 1, 0, 2, 2, 2, 1, 1, 0])\n",
       ">>> X, y = make_blobs(n_samples=[3, 3, 4], centers=None, n_features=2,\n",
       "...                   random_state=0)\n",
       ">>> print(X.shape)\n",
       "(10, 2)\n",
       ">>> y\n",
       "array([0, 1, 2, 0, 2, 2, 2, 1, 1, 0])\n",
       "\n",
       "See also\n",
       "--------\n",
       "make_classification: a more intricate variant\n",
       "\u001b[1;31mFile:\u001b[0m      d:\\anaconda3\\lib\\site-packages\\sklearn\\datasets\\_samples_generator.py\n",
       "\u001b[1;31mType:\u001b[0m      function\n"
      ]
     },
     "metadata": {},
     "output_type": "display_data"
    }
   ],
   "source": [
    "X, y = make_blobs(centers=2)\n",
    "make_blobs?"
   ]
  },
  {
   "cell_type": "code",
   "execution_count": 34,
   "metadata": {},
   "outputs": [],
   "source": [
    "X_train, X_test, y_train, y_test = train_test_split(\n",
    "    X, y, test_size=0.25)"
   ]
  },
  {
   "cell_type": "code",
   "execution_count": 69,
   "metadata": {},
   "outputs": [
    {
     "data": {
      "image/png": "[encoded data removed]",
      "text/plain": [
       "<Figure size 576x432 with 1 Axes>"
      ]
     },
     "metadata": {},
     "output_type": "display_data"
    }
   ],
   "source": [
    "plot_2d(X,y)"
   ]
  },
  {
   "cell_type": "markdown",
   "metadata": {},
   "source": [
    "**4)** Since the probability distributions are known, numerically estimate the Bayes risk."
   ]
  },
  {
   "cell_type": "code",
   "execution_count": 71,
   "metadata": {},
   "outputs": [
    {
     "data": {
      "text/plain": [
       "0.5066666666666667"
      ]
     },
     "execution_count": 71,
     "metadata": {},
     "output_type": "execute_result"
    }
   ],
   "source": [
    "from scipy.stats import multivariate_normal\n",
    "# Do a Monte-Carlo estimation of the Bayes Risk (given the gaussian distributions you used to generate data)\n",
    "\n",
    "yy = multivariate_normal.pdf(X_train, mean=[-0.1, .1], cov=1)\n",
    "np.mean(yy)\n",
    "np.mean(y_train)"
   ]
  },
  {
   "cell_type": "code",
   "execution_count": 64,
   "metadata": {
    "collapsed": true,
    "jupyter": {
     "outputs_hidden": true
    }
   },
   "outputs": [
    {
     "data": {
      "text/plain": [
       "(array([[  0.91770819,  -3.52914028],\n",
       "        [  1.02198998,  -3.24357073],\n",
       "        [  0.51566711,  -2.99192192],\n",
       "        [  8.0939188 ,  -7.55722595],\n",
       "        [  2.11492659,  -4.32563001],\n",
       "        [  0.07400719,  -6.06786411],\n",
       "        [  1.60696094,  -4.16133159],\n",
       "        [  7.64981168,  -7.00211687],\n",
       "        [  6.68021334,  -9.01460952],\n",
       "        [  1.740164  ,  -3.41879075],\n",
       "        [  6.63193685,  -7.34548154],\n",
       "        [  1.42577647,  -4.67440072],\n",
       "        [  8.7096685 , -10.48748729],\n",
       "        [  8.81493719,  -8.55658947],\n",
       "        [  8.02458943,  -8.19043166],\n",
       "        [  0.28987125,  -3.96929806],\n",
       "        [  7.12607271,  -7.6005708 ],\n",
       "        [  0.12103624,  -2.3499475 ],\n",
       "        [  6.94878945,  -8.94719498],\n",
       "        [  7.80796899,  -9.01836215],\n",
       "        [  0.72817963,  -5.33198302],\n",
       "        [  1.51769483,  -4.60877492],\n",
       "        [  6.79144112,  -9.79077111],\n",
       "        [  7.63115582,  -7.55072645],\n",
       "        [  0.53596688,  -5.25584038],\n",
       "        [ -0.04200825,  -4.75094361],\n",
       "        [  1.03200684,  -4.50894136],\n",
       "        [  6.64624492,  -8.58374489],\n",
       "        [  7.74875864,  -8.74269591],\n",
       "        [  8.44719872,  -8.83996257],\n",
       "        [ -0.24283916,  -4.02406918],\n",
       "        [  7.46857147,  -9.15056533],\n",
       "        [  8.60642648,  -9.69674654],\n",
       "        [  0.44151632,  -4.31431677],\n",
       "        [  6.82188427,  -9.47159239],\n",
       "        [ -0.8330892 ,  -4.48997962],\n",
       "        [  2.29122937,  -3.50589425],\n",
       "        [  5.97233036,  -9.69515111],\n",
       "        [  1.68849807,  -5.56456275],\n",
       "        [  7.6525973 ,  -9.76990844],\n",
       "        [  6.74523517,  -8.05915149],\n",
       "        [  7.6313207 ,  -8.57860465],\n",
       "        [  3.61630158,  -5.34842937],\n",
       "        [ -0.74956607,  -3.12702251],\n",
       "        [  7.58659141,  -8.33992746],\n",
       "        [  7.24758579,  -9.70349436],\n",
       "        [  0.37775459,  -3.33774781],\n",
       "        [ -0.04504451,  -3.77608431],\n",
       "        [  7.37265163,  -7.89984718],\n",
       "        [  0.74098436,  -4.07551408],\n",
       "        [  0.66475824,  -2.65819001],\n",
       "        [  0.71903432,  -4.44768669],\n",
       "        [  0.84938589,  -3.24634422],\n",
       "        [  8.03758593,  -9.07124002],\n",
       "        [  1.93893226,  -3.69942825],\n",
       "        [  4.90128703,  -7.93849375],\n",
       "        [  1.46812262,  -4.42471725],\n",
       "        [  8.53673606,  -9.21853392],\n",
       "        [  0.94990944,  -3.48207059],\n",
       "        [  7.37193799, -10.62736006],\n",
       "        [  1.20693018,  -1.64387755],\n",
       "        [  7.77797625,  -9.09573451],\n",
       "        [ -0.36333098,  -2.63653628],\n",
       "        [  0.16426113,  -3.08804185],\n",
       "        [  6.21214493,  -8.64655792],\n",
       "        [  2.70944761,  -3.71987989],\n",
       "        [  7.1053438 ,  -7.78424661],\n",
       "        [  7.30340256,  -9.18374742],\n",
       "        [  7.5339317 ,  -9.57705757],\n",
       "        [  9.31191085,  -8.17431771],\n",
       "        [  1.30432589,  -3.03505206],\n",
       "        [  0.07117949,  -3.49343718],\n",
       "        [  0.99462002,  -4.79408007],\n",
       "        [  5.92012451,  -8.06993204],\n",
       "        [  1.42386233,  -3.08833843],\n",
       "        [  7.50973087,  -8.86956958],\n",
       "        [  0.18809767,  -4.1672961 ],\n",
       "        [  7.44746777, -10.45739502],\n",
       "        [  7.93692391,  -7.40616517],\n",
       "        [  0.99129644,  -3.05899893],\n",
       "        [  7.76584481,  -9.34695805],\n",
       "        [  7.38934977, -10.42076235],\n",
       "        [  0.24442544,  -2.58665399],\n",
       "        [  8.54801913,  -9.13887524],\n",
       "        [  6.60560584,  -9.71107812],\n",
       "        [  0.78637578,  -4.16581066],\n",
       "        [  7.85979267,  -8.32231813],\n",
       "        [ -1.4494351 ,  -3.8643336 ],\n",
       "        [ -0.11444772,  -2.2166062 ],\n",
       "        [ -1.67325718,  -3.07018904],\n",
       "        [  7.56393838,  -7.94006971],\n",
       "        [  0.33964671,  -4.42866491],\n",
       "        [  7.40607493,  -7.7916324 ],\n",
       "        [ -2.10973319,  -3.63242169],\n",
       "        [  6.94634964,  -8.25543368],\n",
       "        [  1.18872696,  -3.52223532],\n",
       "        [  9.28096149,  -7.84989945],\n",
       "        [  7.25343581,  -8.34156392],\n",
       "        [  8.30462554,  -8.13510988],\n",
       "        [  0.45995012,  -3.65864019]]),\n",
       " array([1, 1, 1, 0, 1, 1, 1, 0, 0, 1, 0, 1, 0, 0, 0, 1, 0, 1, 0, 0, 1, 1,\n",
       "        0, 0, 1, 1, 1, 0, 0, 0, 1, 0, 0, 1, 0, 1, 1, 0, 1, 0, 0, 0, 1, 1,\n",
       "        0, 0, 1, 1, 0, 1, 1, 1, 1, 0, 1, 0, 1, 0, 1, 0, 1, 0, 1, 1, 0, 1,\n",
       "        0, 0, 0, 0, 1, 1, 1, 0, 1, 0, 1, 0, 0, 1, 0, 0, 1, 0, 0, 1, 0, 1,\n",
       "        1, 1, 0, 1, 0, 1, 0, 1, 0, 0, 0, 1]))"
      ]
     },
     "execution_count": 64,
     "metadata": {},
     "output_type": "execute_result"
    }
   ],
   "source": [
    "np.mean(X, axis = 0)\n",
    "X,  y"
   ]
  },
  {
   "cell_type": "markdown",
   "metadata": {},
   "source": [
    "**5)** Draw the decision boundary H induced by SVM as well as the hyperplanes H1 and H−1. Vary the parameter C to see its impact on the number of support vectors. We can use the example https://scikit-learn.org/stable/auto_examples/svm/plot_separating_hyperplane.html."
   ]
  },
  {
   "cell_type": "code",
   "execution_count": null,
   "metadata": {},
   "outputs": [],
   "source": [
    "clf = svm.SVC(kernel='linear', C=1000000000000)\n",
    "clf.fit(X_train, y_train)"
   ]
  },
  {
   "cell_type": "code",
   "execution_count": null,
   "metadata": {},
   "outputs": [],
   "source": [
    "w = np.vstack([clf.coef0, clf.coef_.T])\n",
    "plot_2d(X_train, y_train, w)"
   ]
  },
  {
   "cell_type": "code",
   "execution_count": 99,
   "metadata": {},
   "outputs": [
    {
     "data": {
      "text/plain": [
       "0.0"
      ]
     },
     "execution_count": 99,
     "metadata": {},
     "output_type": "execute_result"
    }
   ],
   "source": [
    "clf.coef0"
   ]
  },
  {
   "cell_type": "code",
   "execution_count": 98,
   "metadata": {},
   "outputs": [
    {
     "data": {
      "text/plain": [
       "array([[ 0.        ,  1.9590576 , -0.14120579]])"
      ]
     },
     "execution_count": 98,
     "metadata": {},
     "output_type": "execute_result"
    }
   ],
   "source": [
    "np.vstack([clf.coef0, clf.coef_.T]).T"
   ]
  },
  {
   "cell_type": "code",
   "execution_count": 83,
   "metadata": {},
   "outputs": [
    {
     "data": {
      "image/png": "[encoded data removed]",
      "text/plain": [
       "<Figure size 576x432 with 1 Axes>"
      ]
     },
     "metadata": {},
     "output_type": "display_data"
    }
   ],
   "source": [
    "plt.scatter(X_train[:, 0], X_train[:, 1], c=y_train, s=30, cmap=plt.cm.Paired)\n",
    "\n",
    "# plot the decision function\n",
    "ax = plt.gca()\n",
    "xlim = ax.get_xlim()\n",
    "ylim = ax.get_ylim()\n",
    "\n",
    "# create grid to evaluate model\n",
    "xx = np.linspace(xlim[0], xlim[1], 30)\n",
    "yy = np.linspace(ylim[0], ylim[1], 30)\n",
    "YY, XX = np.meshgrid(yy, xx)\n",
    "xy = np.vstack([XX.ravel(), YY.ravel()]).T\n",
    "Z = clf.decision_function(xy).reshape(XX.shape)\n",
    "\n",
    "# plot decision boundary and margins\n",
    "ax.contour(XX, YY, Z, colors='k', levels=[-1, 0, 1], alpha=0.5,\n",
    "           linestyles=['--', '-', '--'])\n",
    "\n",
    "plt.show()"
   ]
  },
  {
   "cell_type": "markdown",
   "metadata": {},
   "source": [
    "**6)** Define the Gaussian classes such that the two distributions overlap. Draw an i.i.d. sample from the joint probability distribution. Apply a 5-fold Cross-Validation to find the optimal parameter C∗ to classify this new dataset using a linear kernel."
   ]
  },
  {
   "cell_type": "code",
   "execution_count": null,
   "metadata": {},
   "outputs": [],
   "source": [
    "# Generate data and verify graphically that the two classes overlap\n"
   ]
  },
  {
   "cell_type": "code",
   "execution_count": null,
   "metadata": {},
   "outputs": [],
   "source": [
    "# Find the best working C with a 5-fold cross-validation\n"
   ]
  },
  {
   "cell_type": "markdown",
   "metadata": {},
   "source": [
    "**7)** Show how tuning SVM hyperparameters on training data, for example by taking a Gaussian kernel (the parameters are therefore gamma and C), can lead to overfitting."
   ]
  },
  {
   "cell_type": "code",
   "execution_count": null,
   "metadata": {},
   "outputs": [],
   "source": [
    "# Vary the parameter of the kernel and check the difference between training and testing scores\n"
   ]
  },
  {
   "cell_type": "markdown",
   "metadata": {},
   "source": [
    "## Non linear SVM"
   ]
  },
  {
   "cell_type": "markdown",
   "metadata": {},
   "source": [
    "**8)** Define a new binary nonlinear classification problem : for instance, define one class as a Gaussian surrounded by the other chosen as a circle class, or choose the second class as a mixture of two Gaussian in such way that the separation problem is nonlinear. Generate a non-linearly separable dataset (we could for example use the function make_blobs available in sklearn.datasetslibrary )."
   ]
  },
  {
   "cell_type": "code",
   "execution_count": null,
   "metadata": {},
   "outputs": [],
   "source": []
  },
  {
   "cell_type": "code",
   "execution_count": null,
   "metadata": {},
   "outputs": [],
   "source": []
  },
  {
   "cell_type": "markdown",
   "metadata": {},
   "source": [
    "**9)** Use an SVM with a Gaussian kernel then a polynomial (with well-adapted parameters) then plot the decision boundaries of these algorithms on separate graphs."
   ]
  },
  {
   "cell_type": "code",
   "execution_count": null,
   "metadata": {},
   "outputs": [],
   "source": []
  },
  {
   "cell_type": "markdown",
   "metadata": {},
   "source": [
    "**10)** We wish to compare classification performance between different SVMs based on different kernels\n",
    "(linear, polynomial and Gaussian). Propose a method allowing to compare these three algorithms."
   ]
  },
  {
   "cell_type": "markdown",
   "metadata": {},
   "source": [
    "**11)** Draw the learning curve of the algorithm : with fixed hyper-parameters and fixed test set, calculate the training and test errors by using training sub-sets of training data of various sizes (drawn randomly). Plot the train and test error based on the size of the train set subset. Estimate and display the accuracy of the Bayes predictor on the same graph. Comment."
   ]
  },
  {
   "cell_type": "code",
   "execution_count": null,
   "metadata": {},
   "outputs": [],
   "source": []
  },
  {
   "cell_type": "code",
   "execution_count": null,
   "metadata": {},
   "outputs": [],
   "source": [
    "# Do a Monte-Carlo estimation of the Bayes Risk (given the gaussian distributions you used to generate data)\n"
   ]
  },
  {
   "cell_type": "code",
   "execution_count": null,
   "metadata": {},
   "outputs": [],
   "source": [
    "# Add this estimation to the plot of train/test error\n",
    "\n"
   ]
  },
  {
   "cell_type": "markdown",
   "metadata": {},
   "source": [
    "**12)** Add noise to the dataset by randomly modifying the labels of some training data. Then, draw the complexity curves of the algorithm : with set train and test set, draw the train and test error as a function of the complexity (i.e. as a function of the value of the hyper-parameter controlling the complexity, or the number of support vector). Comment.\n"
   ]
  },
  {
   "cell_type": "code",
   "execution_count": null,
   "metadata": {},
   "outputs": [],
   "source": [
    "# Modify the class of some data points randomly\n",
    "\n"
   ]
  },
  {
   "cell_type": "code",
   "execution_count": null,
   "metadata": {
    "scrolled": true
   },
   "outputs": [],
   "source": [
    "\n"
   ]
  },
  {
   "cell_type": "markdown",
   "metadata": {},
   "source": [
    "## SVM GUI"
   ]
  },
  {
   "cell_type": "markdown",
   "metadata": {},
   "source": [
    "**13)** Start the script svm_gui.py available at the link : http://scikit-learn.org/stable/auto_\n",
    "examples/applications/svm_gui.html\n",
    "This application allows real-time evaluation of the impact the choice of the kernel and the regula-\n",
    "rization parameter C."
   ]
  },
  {
   "cell_type": "markdown",
   "metadata": {},
   "source": [
    "**14)** Generate a very unbalanced data set with much more points in one class than in the other (at least\n",
    "90% vs 10%)"
   ]
  },
  {
   "cell_type": "markdown",
   "metadata": {},
   "source": [
    "**15)** Using a linear kernel and decreasing the parameter C what do you observe ?"
   ]
  },
  {
   "cell_type": "markdown",
   "metadata": {},
   "source": [
    "## Going further : application to face classification"
   ]
  },
  {
   "cell_type": "markdown",
   "metadata": {},
   "source": [
    "Code for downloading and organizing the data:"
   ]
  },
  {
   "cell_type": "code",
   "execution_count": null,
   "metadata": {},
   "outputs": [],
   "source": [
    "###############################################################################\n",
    "#               Face Recognition Task\n",
    "###############################################################################\n",
    "\"\"\"\n",
    "The dataset used in this example is a preprocessed excerpt\n",
    "of the \"Labeled Faces in the Wild\", aka LFW_:\n",
    "\n",
    "  http://vis-www.cs.umass.edu/lfw/lfw-funneled.tgz (233MB)\n",
    "\n",
    "  _LFW: http://vis-www.cs.umass.edu/lfw/\n",
    "\n",
    "\"\"\"\n",
    "\n",
    "from time import time\n",
    "import pylab as pl\n",
    "from sklearn.datasets import fetch_lfw_people\n",
    "\n",
    "\n",
    "####################################################################\n",
    "# Download the data (if not already on disk); load it as numpy arrays\n",
    "lfw_people = fetch_lfw_people(min_faces_per_person=70, resize=0.4,\n",
    "                              color=True, funneled=False, slice_=None,\n",
    "                              download_if_missing=True)\n",
    "# data_home='.'\n",
    "\n",
    "# introspect the images arrays to find the shapes (for plotting)\n",
    "images = lfw_people.images / 255.\n",
    "n_samples, h, w, n_colors = images.shape\n",
    "\n",
    "# the label to predict is the id of the person\n",
    "target_names = lfw_people.target_names.tolist()\n",
    "\n",
    "####################################################################\n",
    "# Pick a pair to classify such as\n",
    "names = ['Tony Blair', 'Colin Powell']\n",
    "# names = ['Donald Rumsfeld', 'Colin Powell']\n",
    "\n",
    "idx0 = (lfw_people.target == target_names.index(names[0]))\n",
    "idx1 = (lfw_people.target == target_names.index(names[1]))\n",
    "images = np.r_[images[idx0], images[idx1]]\n",
    "n_samples = images.shape[0]\n",
    "y = np.r_[np.zeros(np.sum(idx0)), np.ones(np.sum(idx1))].astype(np.int)\n",
    "\n",
    "####################################################################\n",
    "# Extract features\n",
    "\n",
    "# features using only illuminations\n",
    "X = (np.mean(images, axis=3)).reshape(n_samples, -1)\n",
    "\n",
    "# # or compute features using colors (3 times more features)\n",
    "# X = images.copy().reshape(n_samples, -1)\n",
    "\n",
    "# Scale features\n",
    "X -= np.mean(X, axis=0)\n",
    "X /= np.std(X, axis=0)\n",
    "\n",
    "####################################################################\n",
    "# Split data into a half training and half test set\n",
    "# X_train, X_test, y_train, y_test, images_train, images_test = \\\n",
    "#    train_test_split(X, y, images, test_size=0.5, random_state=0)\n",
    "# X_train, X_test, y_train, y_test = \\\n",
    "#    train_test_split(X, y, test_size=0.5, random_state=0)\n",
    "\n",
    "indices = np.random.permutation(X.shape[0])\n",
    "train_idx, test_idx = indices[:int(X.shape[0] / 2)], indices[int(X.shape[0] / 2):]\n",
    "X_train, X_test = X[train_idx, :], X[test_idx, :]\n",
    "y_train, y_test = y[train_idx], y[test_idx]\n",
    "images_train, images_test = images[train_idx, :, :, :], images[test_idx, :, :, :]"
   ]
  },
  {
   "cell_type": "markdown",
   "metadata": {},
   "source": [
    "**16)** By modifying the followind code, show the influence of the regularization parameter. For example, the prediction error can be displayed as a function of C on a logarithmic scale between 1e5 and 1e-5."
   ]
  },
  {
   "cell_type": "code",
   "execution_count": null,
   "metadata": {},
   "outputs": [],
   "source": [
    "####################################################################\n",
    "# Quantitative evaluation of the model quality on the test set\n",
    "print(\"Fitting the classifier to the training set\")\n",
    "t0 = time()\n",
    "\n",
    "clf = svm.SVC(kernel=\"linear\")\n",
    "clf.fit(X_train, y_train)\n",
    "score = clf.score(X_test, y_test)"
   ]
  },
  {
   "cell_type": "code",
   "execution_count": null,
   "metadata": {},
   "outputs": [],
   "source": [
    "print(\"Predicting the people names on the testing set\")\n",
    "t0 = time()\n",
    "\n",
    "# predict labels for the X_test images\n",
    "y_pred = clf.predict(X_test)\n",
    "\n",
    "print(\"done in %0.3fs\" % (time() - t0))\n",
    "print(\"Chance level : %s\" % max(np.mean(y), 1. - np.mean(y)))\n",
    "print(\"Accuracy : %s\" % clf.score(X_test, y_test))"
   ]
  },
  {
   "cell_type": "code",
   "execution_count": null,
   "metadata": {},
   "outputs": [],
   "source": [
    "####################################################################\n",
    "# Qualitative evaluation of the predictions using matplotlib\n",
    "\n",
    "def plot_gallery(images, titles, n_row=3, n_col=4):\n",
    "    \"\"\"Helper function to plot a gallery of portraits\"\"\"\n",
    "    pl.figure(figsize=(1.8 * n_col, 2.4 * n_row))\n",
    "    pl.subplots_adjust(bottom=0, left=.01, right=.99, top=.90,\n",
    "                       hspace=.35)\n",
    "    for i in range(n_row * n_col):\n",
    "        pl.subplot(n_row, n_col, i + 1)\n",
    "        pl.imshow(images[i])\n",
    "        pl.title(titles[i], size=12)\n",
    "        pl.xticks(())\n",
    "        pl.yticks(())\n",
    "\n",
    "\n",
    "def title(y_pred, y_test, names):\n",
    "    pred_name = names[int(y_pred)].rsplit(' ', 1)[-1]\n",
    "    true_name = names[int(y_test)].rsplit(' ', 1)[-1]\n",
    "    return 'predicted: %s\\ntrue:      %s' % (pred_name, true_name)\n",
    "\n",
    "prediction_titles = [title(y_pred[i], y_test[i], names)\n",
    "                     for i in range(y_pred.shape[0])]\n",
    "\n",
    "plot_gallery(images_test, prediction_titles)\n",
    "pl.show()"
   ]
  },
  {
   "cell_type": "markdown",
   "metadata": {},
   "source": [
    "**17)** By adding nuisance variables, thus increasing the number of variables to the number of learning\n",
    "points fixed, show that performance drops.\n",
    "\n",
    "**18)** Explain why the features are centered and reduced.\n",
    "\n",
    "**19)** What is the effect of choosing a non-linear RBF kernel on prediction? You will be able to improve the prediction with a reduction of dimension based on the object sklearn.decomposition.RandomizedPCA."
   ]
  },
  {
   "cell_type": "code",
   "execution_count": null,
   "metadata": {},
   "outputs": [],
   "source": []
  },
  {
   "cell_type": "code",
   "execution_count": null,
   "metadata": {},
   "outputs": [],
   "source": []
  }
 ],
 "metadata": {
  "kernelspec": {
   "display_name": "Python 3",
   "language": "python",
   "name": "python3"
  },
  "language_info": {
   "codemirror_mode": {
    "name": "ipython",
    "version": 3
   },
   "file_extension": ".py",
   "mimetype": "text/x-python",
   "name": "python",
   "nbconvert_exporter": "python",
   "pygments_lexer": "ipython3",
   "version": "3.6.12"
  }
 },
 "nbformat": 4,
 "nbformat_minor": 4
}
