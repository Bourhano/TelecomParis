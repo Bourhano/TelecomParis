{
 "cells": [
  {
   "cell_type": "markdown",
   "metadata": {
    "id": "mPf2yufekv0f"
   },
   "source": [
    "\n",
    "# TP CNN, part 3 : super-resolution\n",
    "\n",
    "Author : Alasdair Newson\n",
    "alasdair.newson@telecom-paris.fr\n",
    " \n",
    "## Objective:\n",
    "\n",
    "We want to implement a Convolutional Neural Network (CNN) to do image super-resolution.\n",
    "\n",
    "## Image super-resolution:\n",
    "\n",
    "The super-resolution problem can be summarised as follows. We have an image as an input, which is defined over a grid $\\{0,1,\\dots, m-1\\} \\times \\{0,1,\\dots, n-1\\}$. We define a factor $\\delta$, by which we upsample the image. The output of the super-resolution is an image defined on the grid $\\{0,\\frac{1}{\\delta},\\dots, m-1\\} \\times \\{0,\\frac{1}{\\delta},\\dots, n-1\\}$.\n",
    "\n",
    "## Model\n",
    "\n",
    "In this part of the TP, you have complete freedom to create any model you want, as long as the input is an image, and the output is also an image of size $\\delta m \\times \\delta n$. You will have to choose the architecture and loss which seems reasonable to you.\n",
    "\n",
    "To help you, here is a function to upsample images in neural networks :\n",
    "\n",
    "- ```from tensorflow.keras.layers import UpSampling2D```\n",
    "\n",
    "Of course, you can use any upsampling layer you wish. \n",
    "\n",
    "## Dataset\n",
    "\n",
    "We will be using the mnist dataset for this part. This is to ensure that you can obtain good results. The input data should be the subsampled version of the mnist images, subsampled by taking one out of every $\\delta$ pixels. The output data should be the normal-resolution mnist images.\n",
    "\n",
    "__IMPORTANT NOTES:__\n",
    "- Think carefully about what the training data and labels are in this case, and create them accordingly\n",
    "- We will use ```n_max=5000``` to limit the number of datapoints (as in part 1) to go faster\n",
    "- We set $\\delta$ to 2 in this TP, because it is not too difficult to create a network that works with this factor. If you change it, it might be more difficult to create a satisfactory network.\n",
    "\n",
    "# Your task:\n",
    "You have to load the mnist data (see the first part of the TP), create the model, train it, and evaluate and display the results.\n",
    "\n",
    "We have created a function ```super_res_interpolate```, which carries out super-resolution using basic interpolation (bilinear or bicubic), with which you can compare your results visually and numerically.\n",
    "\n"
   ]
  },
  {
   "cell_type": "code",
   "execution_count": 45,
   "metadata": {
    "id": "5utO2_UDyKs3"
   },
   "outputs": [
    {
     "name": "stdout",
     "output_type": "stream",
     "text": [
      "2.2.4-tf\n"
     ]
    }
   ],
   "source": [
    "\n",
    "# # Load packages\n",
    "\n",
    "%matplotlib inline\n",
    "import matplotlib.pyplot as plt\n",
    "import numpy as np\n",
    "\n",
    "import tensorflow as tf\n",
    "from tensorflow.keras.utils import to_categorical\n",
    "\n",
    "from tensorflow.keras.models import Sequential, Model\n",
    "from tensorflow.keras.layers import Dense, Dropout, Activation, Flatten, Input\n",
    "from tensorflow.keras.layers import Conv2D, MaxPooling2D, UpSampling2D, AveragePooling2D, Add\n",
    "from tensorflow.keras import optimizers\n",
    "from scipy import interpolate\n",
    "print(tf.keras.__version__)"
   ]
  },
  {
   "cell_type": "markdown",
   "metadata": {
    "id": "mcXyExW4vgmk"
   },
   "source": [
    "This next cell is the only code you are given to carry out the TP. This function carries out a bilinear upsampling, with which you can compare your super-resolution. This function is __not__ supposed to be used by you in your network."
   ]
  },
  {
   "cell_type": "code",
   "execution_count": 2,
   "metadata": {
    "id": "np3Dj3tuqEqn"
   },
   "outputs": [],
   "source": [
    "# choice of the interpolation method\n",
    "interp_method = 'linear'\n",
    "# upsampling factor\n",
    "delta = 2\n",
    "# the maximum number of data to take from mnist (to go a bit faster)\n",
    "n_max = 5000\n",
    "\n",
    "# upsample by a factor of delta\n",
    "# by definition, the new grid has a step size of 1/delta\n",
    "def super_res_interpolate(imgs_in,delta,interp_method = 'linear'):\n",
    "    imgs_out = tf.image.resize( tf.constant(imgs_in),\\\n",
    "        [delta*imgs_in.shape[1],delta*imgs_in.shape[2]], method='bilinear').numpy()\n",
    "\n",
    "    return(imgs_out)\n"
   ]
  },
  {
   "cell_type": "markdown",
   "metadata": {
    "id": "vLGjn0zP5h0V"
   },
   "source": [
    "## Create your super-resolution network\n",
    "\n",
    "The rest is up to you ! Import the data, format it (you can use the first part of the TP as help), create your network, train it, and compare the results with ```super_res_interpolate```.\n",
    "\n",
    "Your network should be able to achieve about $80\\%$ accuracy.\n",
    "\n",
    "__Note__ you can obviously create as many cells as you like in your work."
   ]
  },
  {
   "cell_type": "markdown",
   "metadata": {},
   "source": [
    "### 1. Import MNIST and subsample images:"
   ]
  },
  {
   "cell_type": "code",
   "execution_count": 3,
   "metadata": {},
   "outputs": [],
   "source": [
    "from keras.datasets import mnist\n",
    "(X_train, Y_train_scalar), (X_test, Y_test_scalar) = mnist.load_data()\n",
    "\n",
    "X_train = X_train[0:n_max,:,:]\n",
    "X_test = X_test[0:n_max,:,:]\n",
    "# Y_train_scalar = Y_train_scalar[0:n_max]\n",
    "# Y_test_scalar = Y_test_scalar[0:n_max]\n",
    "\n",
    "mnist_label_list = ['0','1','2','3','4','5','6','7','8','9']\n",
    "\n",
    "# input image dimensions (mnist data is grey-level)\n",
    "img_rows, img_cols, nb_channels = X_train.shape[1], X_train.shape[2], 1\n",
    "\n",
    "# In case depth is 1 (black and white pictures) -> reshape to proper format\n",
    "X_train = X_train.reshape(X_train.shape[0], img_rows, img_cols, nb_channels)\n",
    "X_test = X_test.reshape(X_test.shape[0], img_rows, img_cols, nb_channels)\n",
    "\n",
    "X_train = X_train.astype('float32')\n",
    "X_test = X_test.astype('float32')\n",
    "X_train /= 255\n",
    "X_test /= 255\n",
    "\n",
    "# Y_train = to_categorical(Y_train_scalar)\n",
    "# Y_test = to_categorical(Y_test_scalar)\n",
    "\n",
    "# number of classes\n",
    "# nb_classes = Y_train.shape[1]"
   ]
  },
  {
   "cell_type": "code",
   "execution_count": 9,
   "metadata": {},
   "outputs": [
    {
     "data": {
      "text/plain": [
       "array([1, 3, 5])"
      ]
     },
     "execution_count": 9,
     "metadata": {},
     "output_type": "execute_result"
    }
   ],
   "source": [
    "a=np.array([1,2,3,4,5,6])\n",
    "a[0:-1:2]"
   ]
  },
  {
   "cell_type": "code",
   "execution_count": 24,
   "metadata": {},
   "outputs": [],
   "source": [
    "x_train = np.zeros((n_max, int(img_rows/delta), int(img_cols/delta), nb_channels))\n",
    "for i, x in enumerate(X_train):\n",
    "    x_train[i] = x[0:-1:delta, 0:-1:delta, :]\n",
    "    \n",
    "x_test = np.zeros((n_max, int(img_rows/delta), int(img_cols/delta), nb_channels))\n",
    "for i, x in enumerate(X_test):\n",
    "    x_test[i] = x[0:-1:delta, 0:-1:delta, :]"
   ]
  },
  {
   "cell_type": "code",
   "execution_count": 20,
   "metadata": {},
   "outputs": [
    {
     "data": {
      "text/plain": [
       "Text(0.5, 1.0, 'Subsampled resolution (input to be)')"
      ]
     },
     "execution_count": 20,
     "metadata": {},
     "output_type": "execute_result"
    },
    {
     "data": {
      "image/png": "[encoded data removed]",
      "text/plain": [
       "<Figure size 1440x864 with 2 Axes>"
      ]
     },
     "metadata": {
      "needs_background": "light"
     },
     "output_type": "display_data"
    }
   ],
   "source": [
    "idx = 0\n",
    "plt.figure(figsize=(20, 12))\n",
    "\n",
    "plt.subplot(2, 5, 1)\n",
    "plt.imshow(X_train[idx,:,:],cmap='gray')\n",
    "plt.title(\"Original resolution (output to be)\")\n",
    "\n",
    "\n",
    "plt.subplot(2, 5, 2)\n",
    "plt.imshow(x_train[idx],cmap='gray')\n",
    "plt.title(\"Subsampled resolution (input to be)\")\n"
   ]
  },
  {
   "cell_type": "markdown",
   "metadata": {},
   "source": [
    "### 2. CNN model:"
   ]
  },
  {
   "cell_type": "code",
   "execution_count": 47,
   "metadata": {},
   "outputs": [
    {
     "name": "stdout",
     "output_type": "stream",
     "text": [
      "Model: \"sequential_7\"\n",
      "_________________________________________________________________\n",
      "Layer (type)                 Output Shape              Param #   \n",
      "=================================================================\n",
      "Conv1 (Conv2D)               (None, 14, 14, 1)         10        \n",
      "_________________________________________________________________\n",
      "up_sampling2d_7 (UpSampling2 (None, 28, 28, 1)         0         \n",
      "=================================================================\n",
      "Total params: 10\n",
      "Trainable params: 10\n",
      "Non-trainable params: 0\n",
      "_________________________________________________________________\n"
     ]
    }
   ],
   "source": [
    "learning_rate = 0.01\n",
    "n_epochs = 10\n",
    "batch_size = 64\n",
    "\n",
    "# number of convolutional filters to use\n",
    "nb_filters = 1 #32\n",
    "# convolution kernel size\n",
    "kernel_size = (3, 3)\n",
    "# size of pooling area for max pooling\n",
    "# pool_size = (2, 2)\n",
    "\n",
    "# --- Size of the successive layers\n",
    "n_h_0 = nb_channels  # number of input channels\n",
    "n_h_1 = nb_filters\n",
    "# n_h_2 = nb_filters\n",
    "\n",
    "#input image size\n",
    "img_size = (int(img_rows/delta), int(img_cols/delta), n_h_0)\n",
    "\n",
    "model = Sequential()\n",
    "\n",
    "model.add(Conv2D(filters=n_h_1,\n",
    "                 kernel_size=kernel_size,\n",
    "                 input_shape=img_size,\n",
    "                 strides=(1,1),\n",
    "                 padding='same',\n",
    "                 activation='relu',\n",
    "                 name='Conv1'))\n",
    "\n",
    "# model.add(Conv2D(filters=n_h_2,\n",
    "#                  kernel_size=kernel_size,\n",
    "#                  strides=(1,1),\n",
    "#                  padding='same',\n",
    "#                  activation='relu',\n",
    "#                  name='Conv2'))\n",
    "\n",
    "model.add(UpSampling2D(size=(2,2)))\n",
    "# model.add(Reshape((img_rows, img_cols, n_h_0)))\n",
    "# model.add(Add())\n",
    "\n",
    "model.summary()"
   ]
  },
  {
   "cell_type": "markdown",
   "metadata": {},
   "source": [
    "### 3. Training and accuracy:"
   ]
  },
  {
   "cell_type": "code",
   "execution_count": 48,
   "metadata": {},
   "outputs": [],
   "source": [
    "def deep_dream_loss(model_in,img_in):\n",
    "    activation = model_in(img_in) \n",
    "    if len(activation) == 1:\n",
    "        activation = [activation]\n",
    "\n",
    "    losses = []\n",
    "    for act in activation:\n",
    "        loss = tf.math.reduce_mean(act)\n",
    "        losses.append(loss)\n",
    "    total_loss = tf.math.reduce_sum(losses)\n",
    "\n",
    "    return total_loss"
   ]
  },
  {
   "cell_type": "code",
   "execution_count": 49,
   "metadata": {},
   "outputs": [
    {
     "name": "stdout",
     "output_type": "stream",
     "text": [
      "Train on 5000 samples\n",
      "Epoch 1/10\n",
      "5000/5000 [==============================] - 1s 249us/sample - loss: 0.0793 - accuracy: 0.7984\n",
      "Epoch 2/10\n",
      "5000/5000 [==============================] - 0s 53us/sample - loss: 0.0221 - accuracy: 0.8094\n",
      "Epoch 3/10\n",
      "5000/5000 [==============================] - 0s 47us/sample - loss: 0.0207 - accuracy: 0.8098\n",
      "Epoch 4/10\n",
      "5000/5000 [==============================] - 0s 48us/sample - loss: 0.0207 - accuracy: 0.8098\n",
      "Epoch 5/10\n",
      "5000/5000 [==============================] - 0s 44us/sample - loss: 0.0207 - accuracy: 0.8098\n",
      "Epoch 6/10\n",
      "5000/5000 [==============================] - 0s 42us/sample - loss: 0.0207 - accuracy: 0.8098\n",
      "Epoch 7/10\n",
      "5000/5000 [==============================] - 0s 40us/sample - loss: 0.0207 - accuracy: 0.8098\n",
      "Epoch 8/10\n",
      "5000/5000 [==============================] - 0s 42us/sample - loss: 0.0207 - accuracy: 0.8098\n",
      "Epoch 9/10\n",
      "5000/5000 [==============================] - 0s 41us/sample - loss: 0.0207 - accuracy: 0.8098\n",
      "Epoch 10/10\n",
      "5000/5000 [==============================] - 0s 41us/sample - loss: 0.0207 - accuracy: 0.8098\n",
      "Test loss: 0.020526491731405257\n",
      "Test accuracy: 0.81872016\n"
     ]
    }
   ],
   "source": [
    "model.compile(optimizer=optimizers.Adam(learning_rate=learning_rate), loss= \"mse\", metrics=['accuracy'])\n",
    "model.fit(x_train, X_train, epochs=n_epochs, batch_size=batch_size)\n",
    "\n",
    "score = model.evaluate(x_test, X_test, verbose=False)\n",
    "print('Test loss:', score[0])\n",
    "print('Test accuracy:', score[1])"
   ]
  },
  {
   "cell_type": "markdown",
   "metadata": {},
   "source": [
    "### 4. Comparison:"
   ]
  },
  {
   "cell_type": "code",
   "execution_count": 55,
   "metadata": {},
   "outputs": [],
   "source": [
    "imgs_in = x_train[:5]\n",
    "my_imgs_out = model(imgs_in)\n",
    "orig = X_train[:5]"
   ]
  },
  {
   "cell_type": "code",
   "execution_count": 56,
   "metadata": {},
   "outputs": [
    {
     "data": {
      "image/png": "[encoded data removed]",
      "text/plain": [
       "<Figure size 720x432 with 15 Axes>"
      ]
     },
     "metadata": {
      "needs_background": "light"
     },
     "output_type": "display_data"
    }
   ],
   "source": [
    "plt.figure(figsize=(10, 6))\n",
    "for idx in range(0,5):\n",
    "    plt.subplot(3, 5, idx+1)\n",
    "    plt.imshow(imgs_in[idx,:,:],cmap='gray')\n",
    "    plt.title(\"low res\")\n",
    "for idx in range(5,10):\n",
    "    plt.subplot(3, 5, idx+1)\n",
    "    plt.imshow(my_imgs_out[idx-5,:,:],cmap='gray')\n",
    "    plt.title(\"high res\")\n",
    "for idx in range(10,15):\n",
    "    plt.subplot(3, 5, idx+1)\n",
    "    plt.imshow(orig[idx-10,:,:],cmap='gray')\n",
    "    plt.title(\"orig res\")"
   ]
  },
  {
   "cell_type": "code",
   "execution_count": 32,
   "metadata": {
    "id": "Hfx5BxeUqKf-"
   },
   "outputs": [],
   "source": [
    "imgs_out = super_res_interpolate(imgs_in, delta)"
   ]
  },
  {
   "cell_type": "code",
   "execution_count": 34,
   "metadata": {},
   "outputs": [
    {
     "data": {
      "image/png": "[encoded data removed]",
      "text/plain": [
       "<Figure size 720x432 with 15 Axes>"
      ]
     },
     "metadata": {
      "needs_background": "light"
     },
     "output_type": "display_data"
    }
   ],
   "source": [
    "plt.figure(figsize=(10, 6))\n",
    "for idx in range(0,5):\n",
    "    plt.subplot(3, 5, idx+1)\n",
    "    plt.imshow(imgs_in[idx,:,:],cmap='gray')\n",
    "    plt.title(\"low res\")\n",
    "for idx in range(5,10):\n",
    "    plt.subplot(3, 5, idx+1)\n",
    "    plt.imshow(imgs_out[idx-5,:,:],cmap='gray')\n",
    "    plt.title(\"high res\")\n",
    "for idx in range(10,15):\n",
    "    plt.subplot(3, 5, idx+1)\n",
    "    plt.imshow(orig[idx-10,:,:],cmap='gray')\n",
    "    plt.title(\"orig res\")"
   ]
  },
  {
   "cell_type": "code",
   "execution_count": 60,
   "metadata": {},
   "outputs": [
    {
     "data": {
      "image/png": "[encoded data removed]",
      "text/plain": [
       "<Figure size 1080x576 with 10 Axes>"
      ]
     },
     "metadata": {
      "needs_background": "light"
     },
     "output_type": "display_data"
    }
   ],
   "source": [
    "plt.figure(figsize=(15, 8))\n",
    "for idx in range(0,5):\n",
    "    plt.subplot(3, 5, idx+1)\n",
    "    plt.imshow(my_imgs_out[idx,:,:],cmap='gray')\n",
    "    plt.title(\"My Super-Resolution\")\n",
    "for idx in range(5,10):\n",
    "    plt.subplot(3, 5, idx+1)\n",
    "    plt.imshow(imgs_out[idx-5,:,:],cmap='gray')\n",
    "    plt.title(\"Keras Super-Resolution\")"
   ]
  },
  {
   "cell_type": "markdown",
   "metadata": {},
   "source": [
    "The results are very competitive, we can consider it as a success!"
   ]
  },
  {
   "cell_type": "markdown",
   "metadata": {
    "id": "nssRP8NRAQtA"
   },
   "source": [
    "# Evaluation\n",
    "\n",
    "To evaluate the work, you should rate the code for \n",
    "- 1) Importing MNIST correctly (correctly formatting the data) : 1 point\n",
    "- 2) Creating a model which makes sense (correct input/output sizes) : 1 point\n",
    "- 3) Training and achieving good results  : 2 points. 1 point if the learning increases but does not reach around $80\\%$, 2 points if the learning reaches around $80\\%$\n",
    "- 4) Display a visual comparison of your network with ```super_res_interpolate``` for several examples\n",
    "\n",
    "Total over 5 points.\n"
   ]
  }
 ],
 "metadata": {
  "accelerator": "GPU",
  "colab": {
   "collapsed_sections": [],
   "name": "tp_deep_learning_cnn_part_3_for_students.ipynb",
   "provenance": []
  },
  "kernelspec": {
   "display_name": "Python 3",
   "language": "python",
   "name": "python3"
  },
  "language_info": {
   "codemirror_mode": {
    "name": "ipython",
    "version": 3
   },
   "file_extension": ".py",
   "mimetype": "text/x-python",
   "name": "python",
   "nbconvert_exporter": "python",
   "pygments_lexer": "ipython3",
   "version": "3.6.12"
  }
 },
 "nbformat": 4,
 "nbformat_minor": 4
}
