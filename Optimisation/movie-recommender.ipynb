{
 "cells": [
  {
   "cell_type": "markdown",
   "metadata": {},
   "source": [
    "# Recommender Systems\n",
    "\n",
    "##### By Bourhan DERNAYKA\n",
    "___"
   ]
  },
  {
   "cell_type": "markdown",
   "metadata": {},
   "source": [
    "## 1. Presentation of the model"
   ]
  },
  {
   "cell_type": "markdown",
   "metadata": {},
   "source": [
    "___\n",
    "##### Question 1.1"
   ]
  },
  {
   "cell_type": "code",
   "execution_count": 1,
   "metadata": {},
   "outputs": [
    {
     "name": "stdout",
     "output_type": "stream",
     "text": [
      "(943, 1682)\n",
      "(943, 1682)\n"
     ]
    }
   ],
   "source": [
    "from movielens_utils import *\n",
    "\n",
    "path = \"./ml-100k/u.data\"\n",
    "data, mask = load_movielens(path, False)\n",
    "R = data\n",
    "print(R.shape)\n",
    "print(mask.shape)"
   ]
  },
  {
   "cell_type": "markdown",
   "metadata": {},
   "source": [
    "##### Answer:\n",
    "   We clearly see that the size of the matrix R, which is the scores matrix is of size 943x1682. \n",
    "   \n",
    "   The minidata option is used to take just a small part of our full data and do the predictions on.\n",
    "    For instance, if we set \n",
    "   <code>minidata = True</code>\n",
    "we will get a matrix R and its Mask of sizes 100x200, meaning that the study now is being made on 100 users and just 200 movies."
   ]
  },
  {
   "cell_type": "code",
   "execution_count": 2,
   "metadata": {},
   "outputs": [
    {
     "name": "stdout",
     "output_type": "stream",
     "text": [
      "(100, 200)\n"
     ]
    }
   ],
   "source": [
    "data, small_mask = load_movielens(path, True)\n",
    "R=data\n",
    "mask = small_mask\n",
    "print(data.shape)"
   ]
  },
  {
   "cell_type": "markdown",
   "metadata": {},
   "source": [
    "___\n",
    "##### Question 1.2"
   ]
  },
  {
   "cell_type": "markdown",
   "metadata": {},
   "source": [
    "From the output of Question 1.1, we can see that the first dimension of R is 943, it means that our study is being held on 943 users.\n",
    "\n",
    "For the second dimension (movies), it is 1682. Meaning that the different movies watched by the different users is 1682 movie."
   ]
  },
  {
   "cell_type": "code",
   "execution_count": 3,
   "metadata": {},
   "outputs": [
    {
     "name": "stdout",
     "output_type": "stream",
     "text": [
      "There are 100 user, and 200 movie.\n"
     ]
    }
   ],
   "source": [
    "nUser, nMovie = R.shape\n",
    "print(\"There are\", nUser,\"user, and\", nMovie, \"movie.\")"
   ]
  },
  {
   "cell_type": "markdown",
   "metadata": {},
   "source": [
    "The total number of grades can be obtained by summing all of the matrix R elements. Since each element describes the presence of a grade put by a user on a movie. So it is a binary matrix.\n",
    "\n",
    "Here is the total:"
   ]
  },
  {
   "cell_type": "code",
   "execution_count": 4,
   "metadata": {},
   "outputs": [
    {
     "name": "stdout",
     "output_type": "stream",
     "text": [
      "The total number of grades is 3571 grade.\n"
     ]
    }
   ],
   "source": [
    "print(\"The total number of grades is\", sum(sum(mask)), \"grade.\")"
   ]
  },
  {
   "cell_type": "markdown",
   "metadata": {},
   "source": [
    "___\n",
    "## 2. Finding P when Q$^0$ is fixed\n",
    "___"
   ]
  },
  {
   "cell_type": "markdown",
   "metadata": {},
   "source": [
    "##### Question 2.1\n",
    "\n",
    "    We modify in the library movielens_utils.py, the funcyion: objective.\n",
    "    The gradient of  g(P) will look like:\n",
    "    \n",
    "$$ \\nabla g(P) = - Q^0  (1_k \\circ (R - Q^0 P)) + \\rho P$$"
   ]
  },
  {
   "cell_type": "markdown",
   "metadata": {},
   "source": [
    "___\n",
    "##### Question 2.2"
   ]
  },
  {
   "cell_type": "code",
   "execution_count": 5,
   "metadata": {},
   "outputs": [],
   "source": [
    "from scipy.sparse.linalg import svds\n",
    "Q0, singular, P0 = svds(R, k=4)"
   ]
  },
  {
   "cell_type": "code",
   "execution_count": 6,
   "metadata": {},
   "outputs": [],
   "source": [
    "rho = 0.3\n",
    "val, gradP = objective(P0, Q0, R, mask, rho)"
   ]
  },
  {
   "cell_type": "code",
   "execution_count": 7,
   "metadata": {},
   "outputs": [],
   "source": [
    "def G(Pvec):\n",
    "    P = np.reshape(Pvec, P0.shape)\n",
    "    return objective(P, Q0, R, mask, rho)[0]\n",
    "def gradG(Pvec):\n",
    "    P = np.reshape(Pvec, P0.shape)\n",
    "    return objective(P, Q0, R, mask, rho)[1].ravel()"
   ]
  },
  {
   "cell_type": "code",
   "execution_count": 9,
   "metadata": {},
   "outputs": [
    {
     "data": {
      "text/plain": [
       "0.004347925326378847"
      ]
     },
     "execution_count": 9,
     "metadata": {},
     "output_type": "execute_result"
    }
   ],
   "source": [
    "from scipy.optimize import check_grad\n",
    "check_grad(G, gradG, P0.ravel())"
   ]
  },
  {
   "cell_type": "markdown",
   "metadata": {},
   "source": [
    "We run the objective function to calculate the value of the current equation with our chosen initial values, and the gradient of the function.\n",
    "\n",
    "We check that the dimensions of the gradient complies with the definition of g, where P is our variable.\n",
    "\n",
    "We then check the correctness of our calculated gradient with the check_grad() function of scipy.optimize"
   ]
  },
  {
   "cell_type": "markdown",
   "metadata": {},
   "source": [
    "___\n",
    "##### Question 2.3"
   ]
  },
  {
   "cell_type": "code",
   "execution_count": 60,
   "metadata": {},
   "outputs": [],
   "source": [
    "import math"
   ]
  },
  {
   "cell_type": "code",
   "execution_count": 67,
   "metadata": {},
   "outputs": [],
   "source": [
    "def gradient(g, P0, gamma, epsilon):\n",
    "    grad = objective(P0, Q0, R, mask, rho)[1]\n",
    "    P1 = P0 - gamma * grad\n",
    "    err = float(math.sqrt(sum(sum(grad.T.dot(grad) ** 2))))\n",
    "    if err > epsilon:\n",
    "        P0 = P1\n",
    "        gradient(g, P0, gamma, epsilon)\n",
    "    else:\n",
    "        return P1, err"
   ]
  },
  {
   "cell_type": "markdown",
   "metadata": {},
   "source": [
    "___\n",
    "##### Question 2.4"
   ]
  },
  {
   "cell_type": "code",
   "execution_count": 70,
   "metadata": {},
   "outputs": [
    {
     "name": "stderr",
     "output_type": "stream",
     "text": [
      "D:\\Anaconda3\\lib\\site-packages\\ipykernel_launcher.py:4: RuntimeWarning: overflow encountered in square\n",
      "  after removing the cwd from sys.path.\n",
      "D:\\Anaconda3\\lib\\site-packages\\ipykernel_launcher.py:4: RuntimeWarning: overflow encountered in add\n",
      "  after removing the cwd from sys.path.\n"
     ]
    }
   ],
   "source": [
    "gamma = rho + np.sqrt(sum(sum(Q0.T.dot(Q0) ** 2)))\n",
    "epsilon = 1\n",
    "gradient(1, P0, gamma, epsilon)"
   ]
  },
  {
   "cell_type": "code",
   "execution_count": 69,
   "metadata": {},
   "outputs": [
    {
     "data": {
      "text/plain": [
       "2.3"
      ]
     },
     "execution_count": 69,
     "metadata": {},
     "output_type": "execute_result"
    }
   ],
   "source": [
    " rho + np.sqrt(np.sum(Q0.T.dot(Q0)**2))"
   ]
  },
  {
   "cell_type": "code",
   "execution_count": 31,
   "metadata": {},
   "outputs": [
    {
     "data": {
      "text/plain": [
       "3.9999999999999996"
      ]
     },
     "execution_count": 31,
     "metadata": {},
     "output_type": "execute_result"
    }
   ],
   "source": [
    "np.sum(Q0.T.dot(Q0))"
   ]
  },
  {
   "cell_type": "code",
   "execution_count": 45,
   "metadata": {},
   "outputs": [
    {
     "data": {
      "text/plain": [
       "27129.026700739243"
      ]
     },
     "execution_count": 45,
     "metadata": {},
     "output_type": "execute_result"
    }
   ],
   "source": [
    "grad = objective(P0, Q0, R, mask, rho)[1]\n",
    "np.sqrt(sum(sum(grad.T.dot(grad) ** 2)))"
   ]
  },
  {
   "cell_type": "code",
   "execution_count": 41,
   "metadata": {},
   "outputs": [],
   "source": [
    "a = np.array(([1, 2], [3,3]))"
   ]
  },
  {
   "cell_type": "code",
   "execution_count": 51,
   "metadata": {},
   "outputs": [
    {
     "data": {
      "text/plain": [
       "2.3"
      ]
     },
     "execution_count": 51,
     "metadata": {},
     "output_type": "execute_result"
    }
   ],
   "source": [
    "rho + np.sqrt(sum(sum(Q0.T.dot(Q0) ** 2)))"
   ]
  },
  {
   "cell_type": "code",
   "execution_count": 43,
   "metadata": {},
   "outputs": [
    {
     "data": {
      "text/plain": [
       "array([[1, 4],\n",
       "       [9, 9]], dtype=int32)"
      ]
     },
     "execution_count": 43,
     "metadata": {},
     "output_type": "execute_result"
    }
   ],
   "source": [
    "a**2"
   ]
  },
  {
   "cell_type": "code",
   "execution_count": 48,
   "metadata": {},
   "outputs": [
    {
     "data": {
      "text/plain": [
       "23"
      ]
     },
     "execution_count": 48,
     "metadata": {},
     "output_type": "execute_result"
    }
   ],
   "source": [
    "(sum(sum(a ** 2)))"
   ]
  },
  {
   "cell_type": "code",
   "execution_count": 59,
   "metadata": {},
   "outputs": [
    {
     "data": {
      "text/plain": [
       "float"
      ]
     },
     "execution_count": 59,
     "metadata": {},
     "output_type": "execute_result"
    }
   ],
   "source": [
    "import math\n",
    "type(math.sqrt(sum(sum(Q0.T.dot(Q0) ** 2))))"
   ]
  },
  {
   "cell_type": "code",
   "execution_count": null,
   "metadata": {},
   "outputs": [],
   "source": []
  }
 ],
 "metadata": {
  "kernelspec": {
   "display_name": "Python 3",
   "language": "python",
   "name": "python3"
  },
  "language_info": {
   "codemirror_mode": {
    "name": "ipython",
    "version": 3
   },
   "file_extension": ".py",
   "mimetype": "text/x-python",
   "name": "python",
   "nbconvert_exporter": "python",
   "pygments_lexer": "ipython3",
   "version": "3.6.12"
  }
 },
 "nbformat": 4,
 "nbformat_minor": 4
}
