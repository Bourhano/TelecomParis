{
 "cells": [
  {
   "cell_type": "code",
   "execution_count": 1,
   "metadata": {},
   "outputs": [],
   "source": [
    "from breastcancer_utils import *\n",
    "import matplotlib.pyplot as plt\n",
    "filename = 'wdbc_M1_B0.data'"
   ]
  },
  {
   "cell_type": "code",
   "execution_count": 46,
   "metadata": {},
   "outputs": [],
   "source": [
    "X, y = load_breastcancer(filename)"
   ]
  },
  {
   "cell_type": "code",
   "execution_count": 47,
   "metadata": {},
   "outputs": [],
   "source": [
    "n, m = X.shape"
   ]
  },
  {
   "cell_type": "code",
   "execution_count": 48,
   "metadata": {},
   "outputs": [
    {
     "data": {
      "text/plain": [
       "(569,)"
      ]
     },
     "execution_count": 48,
     "metadata": {},
     "output_type": "execute_result"
    }
   ],
   "source": [
    "y.shape"
   ]
  },
  {
   "cell_type": "markdown",
   "metadata": {},
   "source": [
    "___\n",
    "#### Question 2.2"
   ]
  },
  {
   "cell_type": "code",
   "execution_count": 49,
   "metadata": {},
   "outputs": [
    {
     "data": {
      "text/plain": [
       "[<matplotlib.lines.Line2D at 0x1f4afc1ba90>,\n",
       " <matplotlib.lines.Line2D at 0x1f4afc1ba20>]"
      ]
     },
     "execution_count": 49,
     "metadata": {},
     "output_type": "execute_result"
    },
    {
     "data": {
      "image/png": "[encoded data removed]",
      "text/plain": [
       "<Figure size 432x288 with 1 Axes>"
      ]
     },
     "metadata": {
      "needs_background": "light"
     },
     "output_type": "display_data"
    }
   ],
   "source": [
    "x1 = np.linspace(-5, 1, 50)\n",
    "x2 = np.linspace(1, 5, 50)\n",
    "x = np.hstack([x1, x2])\n",
    "z = np.hstack([1-x1, x2*0])\n",
    "dz = np.hstack([-1*np.ones(len(x1)), x2*0])\n",
    "plt.plot(x,z,'+', x,dz)"
   ]
  },
  {
   "cell_type": "markdown",
   "metadata": {},
   "source": [
    "___\n",
    "#### Question 2.4"
   ]
  },
  {
   "cell_type": "code",
   "execution_count": 50,
   "metadata": {},
   "outputs": [
    {
     "data": {
      "text/plain": [
       "(569, 31)"
      ]
     },
     "execution_count": 50,
     "metadata": {},
     "output_type": "execute_result"
    }
   ],
   "source": [
    "# M_{:,1} = (I_n y)X_{:,1}\n",
    "ones = np.ones((n,1))\n",
    "Xe = np.hstack((X, ones))\n",
    "M = (Xe.T * y).T\n",
    "M.shape"
   ]
  },
  {
   "cell_type": "code",
   "execution_count": 51,
   "metadata": {},
   "outputs": [],
   "source": [
    "def objective(v, a):\n",
    "        \"\"\"\n",
    "            returns the objective function value for the specified inputs\n",
    "            Note: c must be defined preliminary, \n",
    "                    along with X (the covariates matrix), \n",
    "                    and y the output vector of our data.\n",
    "        \"\"\"\n",
    "        N = np.sum(v ** 2)/2\n",
    "        Mva = np.ones(n) - y * (np.dot(X, v) + a)\n",
    "        H = sum(Mva * (Mva>0)) \n",
    "        obj = N + c * H\n",
    "        \n",
    "        ones = np.ones((n,1))\n",
    "        Xe = np.hstack((X, ones))\n",
    "        M = (Xe.T * y).T\n",
    "        dH = np.zeros(n)\n",
    "        for i in range(n):\n",
    "            if Mva[i] > 0:\n",
    "                dH[i] = -1\n",
    "        dN = np.hstack((v, 0)).T\n",
    "        grad = dN + c * M.T.dot(dH)\n",
    "        \n",
    "        return obj, grad"
   ]
  },
  {
   "cell_type": "code",
   "execution_count": 52,
   "metadata": {},
   "outputs": [
    {
     "data": {
      "text/plain": [
       "(603.8252882581148,\n",
       " array([-38.73829648, -20.70475549, -34.49379607, -34.9876155 ,\n",
       "         38.59618269,  45.35166232,  23.55585667,   1.95675574,\n",
       "         36.5927392 ,  89.42902745,  -6.13062046,  28.6170554 ,\n",
       "          0.18689247, -13.53182243,  59.92957203,  84.51089819,\n",
       "         72.68924277,  60.05022852,  41.47511889,  99.88454603,\n",
       "        -39.4982886 , -27.61455329, -34.31830559, -34.37001474,\n",
       "         18.65124737,  28.15298039,  20.26382933,  -2.07793185,\n",
       "         -2.28514378,  55.68259705,  26.        ]))"
      ]
     },
     "execution_count": 52,
     "metadata": {},
     "output_type": "execute_result"
    }
   ],
   "source": [
    "V = np.ones(m)\n",
    "a = 1; c = 1\n",
    "objective(V, a)"
   ]
  },
  {
   "cell_type": "code",
   "execution_count": 53,
   "metadata": {},
   "outputs": [],
   "source": [
    "Va = np.hstack((V, a))\n",
    "ans = np.dot(Xe, Va).shape"
   ]
  },
  {
   "cell_type": "code",
   "execution_count": 54,
   "metadata": {},
   "outputs": [
    {
     "data": {
      "text/plain": [
       "(569,)"
      ]
     },
     "execution_count": 54,
     "metadata": {},
     "output_type": "execute_result"
    }
   ],
   "source": [
    "y.shape"
   ]
  },
  {
   "cell_type": "code",
   "execution_count": 55,
   "metadata": {},
   "outputs": [
    {
     "data": {
      "text/plain": [
       "603.8252882581148"
      ]
     },
     "execution_count": 55,
     "metadata": {},
     "output_type": "execute_result"
    }
   ],
   "source": [
    "N = np.sum(V ** 2)/2\n",
    "Xe = np.hstack((X, ones))\n",
    "Va = np.hstack((V, a))\n",
    "Mva = 1 - y * np.dot(Xe, Va)\n",
    "M = (Xe.T * y).T\n",
    "H = sum(Mva * (Mva>0))\n",
    "f = N + c * H\n",
    "f"
   ]
  },
  {
   "cell_type": "code",
   "execution_count": 56,
   "metadata": {},
   "outputs": [
    {
     "data": {
      "text/plain": [
       "7514.467901815294"
      ]
     },
     "execution_count": 56,
     "metadata": {},
     "output_type": "execute_result"
    }
   ],
   "source": [
    "sum(y * (np.dot(X, V) + a))"
   ]
  },
  {
   "cell_type": "code",
   "execution_count": 57,
   "metadata": {},
   "outputs": [
    {
     "data": {
      "text/plain": [
       "(569,)"
      ]
     },
     "execution_count": 57,
     "metadata": {},
     "output_type": "execute_result"
    }
   ],
   "source": [
    "np.dot(Xe, Va).shape"
   ]
  },
  {
   "cell_type": "code",
   "execution_count": 58,
   "metadata": {},
   "outputs": [
    {
     "data": {
      "text/plain": [
       "(569,)"
      ]
     },
     "execution_count": 58,
     "metadata": {},
     "output_type": "execute_result"
    }
   ],
   "source": [
    "y.shape"
   ]
  },
  {
   "cell_type": "markdown",
   "metadata": {},
   "source": [
    "___\n",
    "#### Question 2.5"
   ]
  },
  {
   "cell_type": "code",
   "execution_count": 59,
   "metadata": {},
   "outputs": [],
   "source": [
    "def norm(vect):\n",
    "    return np.sqrt(np.sum(np.square(vect)))"
   ]
  },
  {
   "cell_type": "code",
   "execution_count": 60,
   "metadata": {},
   "outputs": [],
   "source": [
    "def gradient(V, a):\n",
    "    Va0 = np.hstack((V, a))\n",
    "    mod0 = np.inf \n",
    "    for k in range(0,10000):\n",
    "        gamma = 1 / (k + 1)\n",
    "        grad = objective(Va0[:-1], Va0[-1])[1]\n",
    "        mod = norm(grad)\n",
    "        #print(mod)\n",
    "        Va  = Va0 - gamma * grad\n",
    "        Va0 = Va\n",
    "        \n",
    "        mod0 = mod\n",
    "    return Va[:-1], Va[-1]"
   ]
  },
  {
   "cell_type": "markdown",
   "metadata": {},
   "source": [
    "---\n",
    "Test with zeros:"
   ]
  },
  {
   "cell_type": "code",
   "execution_count": 61,
   "metadata": {},
   "outputs": [
    {
     "name": "stdout",
     "output_type": "stream",
     "text": [
      "(569.0, array([-401.67227502, -228.44097367, -408.60883936, -390.09318973,\n",
      "       -197.28489321, -328.22148127, -383.14721063, -427.3041985 ,\n",
      "       -181.84509798,    7.0634352 , -312.04525371,    4.56861423,\n",
      "       -305.99668108, -301.64736575,   36.873181  , -161.21243374,\n",
      "       -139.60579724, -224.51080955,    3.58836467,  -42.90155493,\n",
      "       -427.21613038, -251.39455908, -430.77071337, -403.76117734,\n",
      "       -231.89607933, -325.17580208, -362.92710448, -436.63153222,\n",
      "       -229.05116772, -178.19917556,  145.        ]))\n"
     ]
    },
    {
     "data": {
      "text/plain": [
       "(26.58455025371073,\n",
       " array([ 2.03063272, -0.9611799 ,  1.61834199,  2.04766806, -4.84796227,\n",
       "        -5.10335695, -3.57037182, -2.33589113, -5.12372002, -4.83122008,\n",
       "         2.82118474, -1.33184844,  1.56231412,  1.99997122, -3.18614696,\n",
       "        -6.10099066, -5.66910111, -3.80741963, -4.55455713, -3.22669201,\n",
       "         1.84103496, -1.94109599,  1.20020529,  1.71995579, -4.02554551,\n",
       "        -4.50742006, -4.52611778, -3.21616738, -4.1301077 , -3.61746869,\n",
       "        -2.        ]))"
      ]
     },
     "execution_count": 61,
     "metadata": {},
     "output_type": "execute_result"
    }
   ],
   "source": [
    "V0 = np.zeros(m); a0 = 0\n",
    "print(objective(V0, a0))\n",
    "Vopt, aopt = gradient(V0, a0)\n",
    "opt = objective(Vopt, aopt)[0]\n",
    "opt\n",
    "objective(Vopt, aopt)"
   ]
  },
  {
   "cell_type": "markdown",
   "metadata": {},
   "source": [
    "---\n",
    "Test with ones:"
   ]
  },
  {
   "cell_type": "code",
   "execution_count": 20,
   "metadata": {},
   "outputs": [
    {
     "name": "stdout",
     "output_type": "stream",
     "text": [
      "(603.8252882581148, array([-38.73829648, -20.70475549, -34.49379607, -34.9876155 ,\n",
      "        38.59618269,  45.35166232,  23.55585667,   1.95675574,\n",
      "        36.5927392 ,  89.42902745,  -6.13062046,  28.6170554 ,\n",
      "         0.18689247, -13.53182243,  59.92957203,  84.51089819,\n",
      "        72.68924277,  60.05022852,  41.47511889,  99.88454603,\n",
      "       -39.4982886 , -27.61455329, -34.31830559, -34.37001474,\n",
      "        18.65124737,  28.15298039,  20.26382933,  -2.07793185,\n",
      "        -2.28514378,  55.68259705,  26.        ]))\n"
     ]
    },
    {
     "data": {
      "text/plain": [
       "(26.53689555318948,\n",
       " array([ 0.18195168,  0.94054712,  0.35516952, -0.15205002,  0.8244559 ,\n",
       "         3.21611425,  0.86139221,  0.64485046,  2.52556414,  2.07984036,\n",
       "        -1.63198288, -0.26969245, -1.07659087, -0.97133772,  0.63077604,\n",
       "         5.18433793,  0.55072144, -0.215716  ,  3.33709558,  2.52509351,\n",
       "         0.20728638,  1.40391121,  0.52276148, -0.15571956,  1.82368762,\n",
       "         4.84113034,  1.8431172 ,  1.22342048,  5.83732042,  3.90970319,\n",
       "         2.        ]))"
      ]
     },
     "execution_count": 20,
     "metadata": {},
     "output_type": "execute_result"
    }
   ],
   "source": [
    "V0 = np.ones(m); a0 = 1\n",
    "print(objective(V0, a0))\n",
    "Vopt, aopt = gradient(V0, a0)\n",
    "opt = objective(Vopt, aopt)[0]\n",
    "objective(Vopt, aopt)"
   ]
  },
  {
   "cell_type": "markdown",
   "metadata": {},
   "source": [
    "___\n",
    "Gradient function verification"
   ]
  },
  {
   "cell_type": "code",
   "execution_count": 21,
   "metadata": {},
   "outputs": [],
   "source": [
    "def Gvec(Va):\n",
    "    return objective(Va[:-1], Va[-1])[0]\n",
    "def gradGvec(Va):\n",
    "    return objective(Va[:-1], Va[-1])[1].ravel()"
   ]
  },
  {
   "cell_type": "code",
   "execution_count": 22,
   "metadata": {},
   "outputs": [
    {
     "name": "stdout",
     "output_type": "stream",
     "text": [
      "the gradient error for initializationvalues of 1 is: 7.280418426132196e-05\n",
      "the gradient error for initializationvalues of 0 is: 0.00014103374334746124\n"
     ]
    }
   ],
   "source": [
    "from scipy.optimize import check_grad\n",
    "V0 = np.ones(m); a0 = 1\n",
    "err = check_grad(Gvec, gradGvec, np.hstack((V0, a0)))\n",
    "print(\"the gradient error for initializationvalues of 1 is:\", err)\n",
    "V0 = np.zeros(m); a0 = 0\n",
    "err = check_grad(Gvec, gradGvec, np.hstack((V0, a0)))\n",
    "print(\"the gradient error for initializationvalues of 0 is:\", err)"
   ]
  },
  {
   "cell_type": "markdown",
   "metadata": {},
   "source": [
    "Hence, our gradient function representation is accurate."
   ]
  },
  {
   "cell_type": "markdown",
   "metadata": {},
   "source": [
    "___\n",
    "#### Question 3.1"
   ]
  },
  {
   "cell_type": "code",
   "execution_count": 84,
   "metadata": {},
   "outputs": [],
   "source": [
    "def objective(v, a, i):\n",
    "        \"\"\"\n",
    "            returns the objective function value for the specified inputs\n",
    "            Note: c must be defined preliminary, \n",
    "                    along with X (the covariates matrix), \n",
    "                    and y the output vector of our data.\n",
    "        \"\"\"\n",
    "        N = np.sum(v ** 2)/2\n",
    "        Mva = 1 - y[i] * (np.dot(X[i], v) + a)\n",
    "        H = Mva * (Mva>0) \n",
    "        obj = N + c * H\n",
    "        \n",
    "        ones = np.ones(1)\n",
    "        Xe = np.hstack((X[i], ones))\n",
    "        M = y[i]*Xe\n",
    "        dH = np.zeros(1)\n",
    "        if Mva > 0:\n",
    "                dH[0] = -1\n",
    "        dN = np.hstack((v, 0)).T\n",
    "        grad = dN + c * dH * M.T\n",
    "        \n",
    "        return obj, grad"
   ]
  },
  {
   "cell_type": "code",
   "execution_count": 91,
   "metadata": {},
   "outputs": [],
   "source": [
    "def gradientStat(V, a):\n",
    "    i = int(np.random.uniform(0,n))\n",
    "    Va0 = np.hstack((V, a))\n",
    "    mod0 = np.inf \n",
    "    for k in range(0,10000):\n",
    "        gamma = 1 / (k + 1)\n",
    "        grad = objective(Va0[:-1], Va0[-1], i)[1]\n",
    "        mod = norm(grad)\n",
    "        #print(mod)\n",
    "        Va  = Va0 - gamma * grad\n",
    "        Va0 = Va\n",
    "        \n",
    "        mod0 = mod\n",
    "    return Va[:-1], Va[-1]"
   ]
  },
  {
   "cell_type": "code",
   "execution_count": 100,
   "metadata": {},
   "outputs": [
    {
     "name": "stdout",
     "output_type": "stream",
     "text": [
      "(23.504602382334852, array([0.74799655, 1.19555543, 0.78996979, 0.6814915 , 0.03782321,\n",
      "       1.34034992, 1.15317924, 0.46892394, 0.23104331, 1.21581465,\n",
      "       0.55183697, 0.26817817, 1.24897108, 0.636376  , 0.29597849,\n",
      "       3.29660519, 2.48995339, 1.30558077, 0.36042717, 2.64089068,\n",
      "       0.82828928, 0.9711403 , 1.23050627, 0.7414407 , 0.46219525,\n",
      "       2.97416391, 2.83942577, 1.32118645, 0.90979949, 3.26950952,\n",
      "       1.        ]))\n"
     ]
    },
    {
     "data": {
      "text/plain": [
       "(1.578020018292065,\n",
       " array([-1.94361438e-01,  2.34281093e-01, -1.53670292e-01, -2.77202319e-01,\n",
       "        -1.00389169e+00,  3.55775891e-01,  1.84841626e-01, -4.95240389e-01,\n",
       "        -7.81231278e-01,  1.53885213e-01, -4.29602861e-01, -7.46823845e-01,\n",
       "         2.67431206e-01, -3.44563566e-01, -7.33833456e-01,  2.31983977e+00,\n",
       "         1.51998641e+00,  3.59922681e-01, -6.60368634e-01,  1.63761324e+00,\n",
       "        -1.22666748e-01, -4.76490664e-04,  2.78597723e-01, -2.23842492e-01,\n",
       "        -5.70212275e-01,  1.99838459e+00,  1.87651136e+00,  3.70746231e-01,\n",
       "        -9.16360273e-02,  2.25396944e+00,  1.00000000e+00]))"
      ]
     },
     "execution_count": 100,
     "metadata": {},
     "output_type": "execute_result"
    }
   ],
   "source": [
    "from scipy.stats import uniform\n",
    "i = int(np.random.uniform(0,n))\n",
    "\n",
    "V0 = np.ones(m); a0 = 1\n",
    "print(objective(V0, a0, i))\n",
    "Vopt, aopt = gradientStat(V0, a0)\n",
    "opt = objective(Vopt, aopt, i)[0]\n",
    "objective(Vopt, aopt, i)"
   ]
  },
  {
   "cell_type": "markdown",
   "metadata": {},
   "source": [
    "___\n",
    "#### Question 4.1"
   ]
  },
  {
   "cell_type": "code",
   "execution_count": 30,
   "metadata": {},
   "outputs": [
    {
     "data": {
      "text/plain": [
       "569"
      ]
     },
     "execution_count": 30,
     "metadata": {},
     "output_type": "execute_result"
    }
   ],
   "source": [
    "n"
   ]
  },
  {
   "cell_type": "code",
   "execution_count": null,
   "metadata": {},
   "outputs": [],
   "source": []
  }
 ],
 "metadata": {
  "kernelspec": {
   "display_name": "Python 3",
   "language": "python",
   "name": "python3"
  },
  "language_info": {
   "codemirror_mode": {
    "name": "ipython",
    "version": 3
   },
   "file_extension": ".py",
   "mimetype": "text/x-python",
   "name": "python",
   "nbconvert_exporter": "python",
   "pygments_lexer": "ipython3",
   "version": "3.6.12"
  }
 },
 "nbformat": 4,
 "nbformat_minor": 4
}
