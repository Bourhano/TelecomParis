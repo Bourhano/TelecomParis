{
 "cells": [
  {
   "cell_type": "code",
   "execution_count": 1,
   "metadata": {},
   "outputs": [],
   "source": [
    "import numpy as np\n",
    "import pandas as pd\n",
    "import scipy.optimize as opt\n",
    "import matplotlib.pyplot as plt\n",
    "import breastcancer_utils as bcu"
   ]
  },
  {
   "cell_type": "markdown",
   "metadata": {},
   "source": [
    "## Import data"
   ]
  },
  {
   "cell_type": "code",
   "execution_count": 2,
   "metadata": {},
   "outputs": [],
   "source": [
    "filename = 'wdbc_M1_B0.data'\n",
    "X,Y = bcu.load_breastcancer(filename)\n",
    "n = len(X)"
   ]
  },
  {
   "cell_type": "markdown",
   "metadata": {},
   "source": [
    "## Sub-gradient method"
   ]
  },
  {
   "cell_type": "markdown",
   "metadata": {},
   "source": [
    "### Question 2.1"
   ]
  },
  {
   "cell_type": "markdown",
   "metadata": {},
   "source": [
    "### Question 2.2"
   ]
  },
  {
   "cell_type": "code",
   "execution_count": 3,
   "metadata": {},
   "outputs": [],
   "source": [
    "def h(z):\n",
    "    return np.maximum(np.zeros(z.shape),1-z)"
   ]
  },
  {
   "cell_type": "code",
   "execution_count": 4,
   "metadata": {},
   "outputs": [
    {
     "data": {
      "text/plain": [
       "<matplotlib.legend.Legend at 0x7fad8491ccd0>"
      ]
     },
     "execution_count": 4,
     "metadata": {},
     "output_type": "execute_result"
    },
    {
     "data": {
      "image/png": "[encoded data removed]",
      "text/plain": [
       "<Figure size 432x288 with 1 Axes>"
      ]
     },
     "metadata": {
      "needs_background": "light"
     },
     "output_type": "display_data"
    }
   ],
   "source": [
    "x = np.linspace(0,2,100)\n",
    "z_1 = -0.8*x + 0.8\n",
    "z_2 = -0.5*x + 0.5\n",
    "z_3 = -0.3*x + 0.3\n",
    "z_4 = -0.1*x + 0.1\n",
    "y = h(x)\n",
    "plt.plot(x,y, label='h(z)')\n",
    "plt.plot(x, z_1, c='red', label='Sub diff of h at z=1')\n",
    "plt.plot(x,z_2, c='red')\n",
    "plt.plot(x,z_3, c='red')\n",
    "plt.plot(x, z_4, c='red')\n",
    "plt.xlabel('z')\n",
    "plt.legend()"
   ]
  },
  {
   "cell_type": "markdown",
   "metadata": {},
   "source": [
    "For $z<1$, h is differentiable so $\\partial h(z)=\\{\\nabla h(z)\\}$ and $\\nabla{h}(z)=-1$ so for $z<1, \\partial h(z)=\\{-1\\}$.\n",
    "\n",
    "For $z>1$, h is differentiable so $\\partial h(z)=\\{\\nabla h(z)\\}$ and $\\nabla{h}(z)=0$ so for $z>1, \\partial h(z)=\\{0\\}$.\n",
    "\n",
    "For $z=1$, h is not differentiable but every tangent in $z=1$ with a slope in $[-1,0]$ is a sub-gradient of $h$ at $z=1$, as they are the only ones under the curve of $h$. Therefore, $\\partial h(1)=[-1,0]$."
   ]
  },
  {
   "cell_type": "markdown",
   "metadata": {},
   "source": [
    "### Question 2.3"
   ]
  },
  {
   "cell_type": "markdown",
   "metadata": {},
   "source": [
    "$\\displaystyle N(v,a)=\\frac{1}{2}\\sum_{j=1}^{m} v_j^2$\n",
    "\n",
    "$\\displaystyle M(v,a)=Diag(Y)(X^Tv + a\\mathbb{1}_{n})$\n",
    "\n",
    "$\\displaystyle H(u)=\\sum_{i=1}^{n} max(0,1-u_i)$\n",
    "\n",
    "$N$ is separable as it is the sum of the coefficients of $v$ squared, M is linear and H is also separable.\n",
    "\n",
    "Therefore, we have that: $f(v,a)=N(v, a)+cH(M(v, a))$\n",
    "\n",
    "$\\displaystyle \\partial N=\\{\\nabla N\\}$ because it is differentiable. $\\nabla N(v,a)=(v,0)$\n",
    "\n",
    "$\\displaystyle \\partial H(u)=\\prod_{i=1}^{n} \\partial h(u_i)$ because $H$ is separable and $h$ is the function of the question 2.2."
   ]
  },
  {
   "cell_type": "markdown",
   "metadata": {},
   "source": [
    "### Question 2.4"
   ]
  },
  {
   "cell_type": "code",
   "execution_count": 5,
   "metadata": {},
   "outputs": [],
   "source": [
    "def H(u):\n",
    "    return np.sum(h(u))\n",
    "\n",
    "def objective_function(va, c, M):\n",
    "    N = 1/2 * np.sum(va[:-1]**2)\n",
    "    sub_grad_H = []\n",
    "    M_va = M@va\n",
    "    sub_grad_H = np.dot(M.T, (M_va>=1)- 1)\n",
    "    return N + c * H(M_va), np.concatenate([va[:-1], [0]]) + c * sub_grad_H"
   ]
  },
  {
   "cell_type": "code",
   "execution_count": 6,
   "metadata": {},
   "outputs": [
    {
     "name": "stdout",
     "output_type": "stream",
     "text": [
      "(569.0, array([-401.67227502, -228.44097367, -408.60883936, -390.09318973,\n",
      "       -197.28489321, -328.22148127, -383.14721063, -427.3041985 ,\n",
      "       -181.84509798,    7.0634352 , -312.04525371,    4.56861423,\n",
      "       -305.99668108, -301.64736575,   36.873181  , -161.21243374,\n",
      "       -139.60579724, -224.51080955,    3.58836467,  -42.90155493,\n",
      "       -427.21613038, -251.39455908, -430.77071337, -403.76117734,\n",
      "       -231.89607933, -325.17580208, -362.92710448, -436.63153222,\n",
      "       -229.05116772, -178.19917556,  145.        ]))\n"
     ]
    }
   ],
   "source": [
    "M = np.dot(np.diag(Y), np.concatenate([X, np.ones((569,1))], axis = 1))\n",
    "va = np.zeros(31)\n",
    "print(objective_function(va,1,M))"
   ]
  },
  {
   "cell_type": "markdown",
   "metadata": {},
   "source": [
    "### Question 2.5"
   ]
  },
  {
   "cell_type": "code",
   "execution_count": 7,
   "metadata": {},
   "outputs": [],
   "source": [
    "def subgrad_method(va0, nb_iter, M):\n",
    "    gamma_sum, va_moy = 0, np.zeros(len(va0))\n",
    "    for i in range(nb_iter):\n",
    "        gamma = 0.001/np.sqrt(i+1)\n",
    "        gamma_sum += gamma\n",
    "        va_moy += gamma * va0\n",
    "        sub_grad = objective_function(va0, 1, M)[1]\n",
    "        va0 = va0 - gamma * sub_grad\n",
    "    return va_moy/gamma_sum"
   ]
  },
  {
   "cell_type": "code",
   "execution_count": 8,
   "metadata": {},
   "outputs": [
    {
     "name": "stdout",
     "output_type": "stream",
     "text": [
      "The minimum of the objective function is 28.087767544895126\n"
     ]
    }
   ],
   "source": [
    "va_min = subgrad_method(va, int(1e5), M)\n",
    "print('The minimum of the objective function is', objective_function(va_min, 1, M)[0])"
   ]
  },
  {
   "cell_type": "markdown",
   "metadata": {},
   "source": [
    "The method is very slow to converge when using $\\gamma_k=\\frac{1}{k+1}$ (it does not converge to a minimum of the objective function with $100~000$ iterations). When using $\\gamma_k=\\frac{1}{\\sqrt{k+1}}$, the convergence is better (it is the gamma used in the lecture notes)."
   ]
  },
  {
   "cell_type": "markdown",
   "metadata": {},
   "source": [
    "## Stochastic subgradient method "
   ]
  },
  {
   "cell_type": "markdown",
   "metadata": {},
   "source": [
    "### Question 3.1"
   ]
  },
  {
   "cell_type": "markdown",
   "metadata": {},
   "source": [
    "$\\displaystyle \\begin{array}{} \\mathbb{E}\\left[f_I(v,a)\\right] =\\mathbb{E}\\left(\\sum_{i=1}^{n}f_i(v,a)\\mathbb{P}(I=i)\\right)=\\sum_{i=1}^{n}\\mathbb{E}\\left(f_i(v,a)\\mathbb{P}(I=i)\\right)=\\frac{1}{n}\\sum_{i=1}^{n}\\mathbb{E}\\left(f_i(v,a)\\right)=\\frac{1}{n}\\sum_{i=1}^{n}f_i(v,a)=f(v,a) \\end{array}$"
   ]
  },
  {
   "cell_type": "markdown",
   "metadata": {},
   "source": [
    "### Question 3.2"
   ]
  },
  {
   "cell_type": "markdown",
   "metadata": {},
   "source": [
    "$M_i(v,a)=y_i(x_i^Tv+a)$, therefore $M_i=y_i(x_i^T,1)$ which is the $i^{th}$ line of M.\n",
    "\n",
    "$\\partial f_i(v,a) = \\left \\{ \\begin{array} {} \\{(v,0) - ncM_i^T\\} & if \\, M_i(v,a) \\lt 1 \\\\ \\{(v,0) + tncM_i^t,\\,t \\in [-1;0]\\} & if \\, M_i(v,a) = 1 \\\\ \\{(v,0)\\} & if \\, M_i(v,a) \\gt 1 \\\\ \\end{array} \\right .$"
   ]
  },
  {
   "cell_type": "markdown",
   "metadata": {},
   "source": [
    "### Question 3.3"
   ]
  },
  {
   "cell_type": "code",
   "execution_count": 9,
   "metadata": {},
   "outputs": [],
   "source": [
    "def subgrad_f(va, Mi, c):\n",
    "    M_i_va = Mi@va\n",
    "    coef = (M_i_va >= 1) - 1\n",
    "    return np.concatenate([va[:-1], [0]]) + coef*c*n*Mi.T\n",
    "\n",
    "def stochastic_subgrad_method(va0, nb_iter, M, c):\n",
    "    gamma_sum, va_moy = 0, np.zeros(len(va0))\n",
    "    for i in range(1, nb_iter):\n",
    "        gamma = 0.001/np.sqrt(i)\n",
    "        gamma_sum += gamma\n",
    "        va_moy += gamma * va0\n",
    "        I = np.random.randint(1,n)\n",
    "        sub_grad_f = subgrad_f(va0, M[I,:], c)\n",
    "        va0 = va0 - gamma * sub_grad_f\n",
    "    return va_moy/gamma_sum"
   ]
  },
  {
   "cell_type": "code",
   "execution_count": 10,
   "metadata": {},
   "outputs": [
    {
     "name": "stdout",
     "output_type": "stream",
     "text": [
      "The solution of the problem 2 is 29.20066387438036\n"
     ]
    }
   ],
   "source": [
    "va_min = stochastic_subgrad_method(va, int(1e5), M, 1)\n",
    "print('The solution of the problem 2 is', objective_function(va_min, 1, M)[0])"
   ]
  },
  {
   "cell_type": "markdown",
   "metadata": {},
   "source": [
    "## Augmented Lagrangian method"
   ]
  },
  {
   "cell_type": "markdown",
   "metadata": {},
   "source": [
    "### Question 4.1"
   ]
  },
  {
   "cell_type": "markdown",
   "metadata": {},
   "source": [
    "$$\\displaystyle L(v,a,\\xi,\\phi_I)=\\frac{1}{2}\\sum_{j=1}^{m}v_j^2+c\\sum_{i=1}^{n}\\xi_i\\langle \\phi_I,G(v,a,\\xi)\\rangle-\\iota_{\\mathbb{R}_+^{2n}}(\\phi_I)$$\n",
    "\n",
    "$$\\displaystyle G(v,a,\\xi)=\\left(g_i(v,a,\\xi),t_i(v,a,\\xi)\\right)$$\n",
    "\n",
    "$$\\forall i\\in \\{1,n\\}, g_i(v,a,\\xi)=1-y_i(x_i^Tv+a)-\\xi_i \\mbox{ and } t_i=-\\xi_i$$"
   ]
  },
  {
   "cell_type": "markdown",
   "metadata": {},
   "source": [
    "### Question 4.2"
   ]
  },
  {
   "cell_type": "markdown",
   "metadata": {},
   "source": [
    "$$\n",
    "\\nabla_xg(x,\\phi) = \\left\\{\n",
    "    \\begin{array}{ll}\n",
    "        \\rho\\left(x+\\frac{\\phi}{\\rho}\\right) & \\mbox{if } x+\\frac{\\phi}{\\rho} > 0 \\\\\n",
    "        0 & \\mbox{otherwise.}\n",
    "    \\end{array}\n",
    "\\right. = \\rho max\\left(0,x+\\frac{\\phi}{\\rho}\\right)\n",
    "$$\n",
    "\n",
    "$$\n",
    "\\nabla_\\phi g(x,\\phi) = \\left\\{\n",
    "    \\begin{array}{ll}\n",
    "        \\left(x+\\frac{\\phi}{\\rho}\\right)-\\frac{\\phi}{\\rho} & \\mbox{if } x+\\frac{\\phi}{\\rho} > 0 \\\\\n",
    "        -\\frac{\\phi}{\\rho} & \\mbox{otherwise.}\n",
    "    \\end{array}\n",
    "\\right. = max\\left(-\\frac{\\phi}{\\rho},x\\right)\n",
    "$$"
   ]
  },
  {
   "cell_type": "markdown",
   "metadata": {},
   "source": [
    "### Question 4.3"
   ]
  },
  {
   "cell_type": "markdown",
   "metadata": {},
   "source": [
    "$x\\mapsto g(x,\\phi)$ is a $x\\mapsto max(0,x)$ which is a convex function. Therefore $x\\mapsto g(x,\\phi)$ is convex for all $\\phi$.\n",
    "\n",
    "Define $w:\\phi \\mapsto \\nabla_\\phi g(x,\\phi)$. Then $w'(\\phi)=-\\frac{1}{\\rho}\\mathbb{1}_{\\phi \\geq -2x}(\\phi)$. Therefore, the second derivative of $\\phi \\mapsto g(x,\\phi)$ is negative so the function $\\phi \\mapsto g(x,\\phi)$ is concave."
   ]
  },
  {
   "cell_type": "markdown",
   "metadata": {},
   "source": [
    "### Question 4.4"
   ]
  },
  {
   "cell_type": "code",
   "execution_count": 11,
   "metadata": {},
   "outputs": [],
   "source": [
    "rho = 2\n",
    "def g(x, phi, psi):\n",
    "    return -1/(2*rho)*phi**2 + rho/2*(np.maximum(0, x+phi/rho))**2\n",
    "\n",
    "\n",
    "def nabla_x_g(x, phi):\n",
    "    return rho * np.maximum(np.zeros(x.shape), x + phi/rho)\n",
    "\n",
    "\n",
    "def nabla_phi_g(x, phi):\n",
    "    return np.maximum(-phi/rho, x)\n",
    "\n",
    "\n",
    "def L(v_a_xi, phi, psi):\n",
    "    v, a, xi = v_a_xi[:30], v_a_xi[30], v_a_xi[31:]\n",
    "    x = 1-xi-np.dot(np.diag(Y), np.dot(X, v) + a)\n",
    "    return 1/2*np.linalg.norm(v)**2 + np.sum(xi) + np.sum(g(rho, -xi, phi)) \\\n",
    "        + np.sum(g(x, psi, phi))\n",
    "\n",
    "\n",
    "def gradL_v_a_xi(v_a_xi, phi, psi):\n",
    "    v, a, xi = v_a_xi[:30], v_a_xi[30], v_a_xi[31:]\n",
    "    x = 1-xi-np.dot(np.diag(Y), np.dot(X, v)+a)\n",
    "    nabla_v = v - np.dot(np.diag(Y), X).T@nabla_x_g(x, psi)\n",
    "    nabla_a = - np.sum(Y*nabla_x_g(x, psi))\n",
    "    nabla_xi = 1 - nabla_x_g(-xi, phi) - nabla_x_g(x, psi)\n",
    "    return np.concatenate([nabla_v, [nabla_a], nabla_xi])"
   ]
  },
  {
   "cell_type": "code",
   "execution_count": 12,
   "metadata": {},
   "outputs": [],
   "source": [
    "def grad_desc_line_search(phi, psi, eps):\n",
    "    v_a_xi = np.zeros(31 + n)\n",
    "    grad_L = gradL_v_a_xi(v_a_xi, phi, psi)\n",
    "    while np.linalg.norm(grad_L) > eps:\n",
    "        gamma = 1/750    \n",
    "        v_a_xi = v_a_xi - gamma * grad_L\n",
    "        grad_L = gradL_v_a_xi(v_a_xi, phi, psi)\n",
    "    return v_a_xi[:30], v_a_xi[30], v_a_xi[31:]"
   ]
  },
  {
   "cell_type": "markdown",
   "metadata": {},
   "source": [
    "### Question 4.5"
   ]
  },
  {
   "cell_type": "code",
   "execution_count": 13,
   "metadata": {},
   "outputs": [],
   "source": [
    "def nabla_phi_psi_L(v, a, xi, phi, psi):\n",
    "    x = 1-xi-np.dot(np.diag(Y), np.dot(X, v) + a)\n",
    "    return nabla_phi_g(-xi, phi), nabla_phi_g(x, psi)"
   ]
  },
  {
   "cell_type": "markdown",
   "metadata": {},
   "source": [
    "### Question 4.6"
   ]
  },
  {
   "cell_type": "code",
   "execution_count": 14,
   "metadata": {},
   "outputs": [],
   "source": [
    "def augmented_lagragian_method(phi0, psi0, eps, nb_iter):\n",
    "    for i in range(nb_iter):\n",
    "        if i%10 == 0:\n",
    "            print(i)\n",
    "        v, a, xi = grad_desc_line_search(phi0, psi0, eps)\n",
    "        phi0 = phi0 + rho*nabla_phi_psi_L(v, a, xi, phi0, psi0)[0]\n",
    "        psi0 = psi0 + rho*nabla_phi_psi_L(v, a, xi, phi0, psi0)[1]\n",
    "    return v, a, xi"
   ]
  },
  {
   "cell_type": "code",
   "execution_count": 15,
   "metadata": {
    "scrolled": false
   },
   "outputs": [
    {
     "name": "stdout",
     "output_type": "stream",
     "text": [
      "0\n",
      "10\n",
      "20\n",
      "30\n",
      "40\n",
      "50\n",
      "60\n",
      "70\n",
      "80\n",
      "90\n",
      "100\n",
      "110\n",
      "120\n",
      "130\n",
      "140\n",
      "150\n",
      "160\n",
      "170\n",
      "180\n",
      "190\n",
      "200\n",
      "210\n",
      "220\n",
      "230\n",
      "240\n",
      "250\n",
      "260\n",
      "270\n",
      "280\n",
      "290\n",
      "300\n",
      "310\n",
      "320\n",
      "330\n",
      "340\n",
      "350\n",
      "360\n",
      "370\n",
      "380\n",
      "390\n",
      "400\n",
      "410\n",
      "420\n",
      "430\n",
      "440\n",
      "450\n",
      "460\n",
      "470\n",
      "480\n",
      "490\n",
      "500\n",
      "510\n",
      "520\n",
      "530\n",
      "540\n",
      "550\n",
      "560\n",
      "570\n",
      "580\n",
      "590\n",
      "600\n",
      "610\n",
      "620\n",
      "630\n",
      "640\n",
      "650\n",
      "660\n",
      "670\n",
      "680\n",
      "690\n",
      "700\n",
      "710\n",
      "720\n",
      "730\n",
      "740\n",
      "750\n",
      "760\n",
      "770\n",
      "780\n",
      "790\n",
      "800\n",
      "810\n",
      "820\n",
      "830\n",
      "840\n",
      "850\n",
      "860\n",
      "870\n",
      "880\n",
      "890\n",
      "900\n",
      "910\n",
      "920\n",
      "930\n",
      "940\n",
      "950\n",
      "960\n",
      "970\n",
      "980\n",
      "990\n",
      "1000\n",
      "1010\n",
      "1020\n",
      "1030\n",
      "1040\n",
      "1050\n",
      "1060\n",
      "1070\n",
      "1080\n",
      "1090\n",
      "1100\n",
      "1110\n",
      "1120\n",
      "1130\n",
      "1140\n",
      "1150\n",
      "1160\n",
      "1170\n",
      "1180\n",
      "1190\n",
      "1200\n",
      "1210\n",
      "1220\n",
      "1230\n",
      "1240\n",
      "1250\n",
      "1260\n",
      "1270\n",
      "1280\n",
      "1290\n",
      "1300\n",
      "1310\n",
      "1320\n",
      "1330\n",
      "1340\n",
      "1350\n",
      "1360\n",
      "1370\n",
      "1380\n",
      "1390\n",
      "1400\n",
      "1410\n",
      "1420\n",
      "1430\n",
      "1440\n",
      "1450\n",
      "1460\n",
      "1470\n",
      "1480\n",
      "1490\n",
      "1500\n",
      "1510\n",
      "1520\n",
      "1530\n",
      "1540\n",
      "1550\n",
      "1560\n",
      "1570\n",
      "1580\n",
      "1590\n",
      "1600\n",
      "1610\n",
      "1620\n",
      "1630\n",
      "1640\n",
      "1650\n",
      "1660\n",
      "1670\n",
      "1680\n",
      "1690\n",
      "1700\n",
      "1710\n",
      "1720\n",
      "1730\n",
      "1740\n",
      "1750\n",
      "1760\n",
      "1770\n",
      "1780\n",
      "1790\n",
      "1800\n",
      "1810\n",
      "1820\n",
      "1830\n",
      "1840\n",
      "1850\n",
      "1860\n",
      "1870\n",
      "1880\n",
      "1890\n",
      "1900\n",
      "1910\n",
      "1920\n",
      "1930\n",
      "1940\n",
      "1950\n",
      "1960\n",
      "1970\n",
      "1980\n",
      "1990\n"
     ]
    }
   ],
   "source": [
    "v, a, xi = augmented_lagragian_method(0, 0, 1, 2000)"
   ]
  },
  {
   "cell_type": "code",
   "execution_count": 18,
   "metadata": {},
   "outputs": [
    {
     "data": {
      "text/plain": [
       "27.032783761635468"
      ]
     },
     "execution_count": 18,
     "metadata": {},
     "output_type": "execute_result"
    }
   ],
   "source": [
    "def f(v,xi):\n",
    "    return 1/2 * np.sum(v**2) + 1 * np.sum(xi)\n",
    "f(v,xi)"
   ]
  },
  {
   "cell_type": "markdown",
   "metadata": {},
   "source": [
    "## Comparison"
   ]
  },
  {
   "cell_type": "markdown",
   "metadata": {},
   "source": [
    "### Question 5.1"
   ]
  },
  {
   "cell_type": "markdown",
   "metadata": {},
   "source": [
    "The subgradient method seems better in this example than the stochastic gradient method. Indeed, the stochastic method is quite random and the value returned by the method depends a lot on the i chosen at random in the method. The augmented lagragian method seems even better than the subgradient method, but requires more time and computing capacity than  the other methods."
   ]
  }
 ],
 "metadata": {
  "kernelspec": {
   "display_name": "Python 3.7.6 64-bit ('base': conda)",
   "language": "python",
   "name": "python37664bitbasecondae5433ad43d13444bb011d4b7eb072777"
  },
  "language_info": {
   "codemirror_mode": {
    "name": "ipython",
    "version": 3
   },
   "file_extension": ".py",
   "mimetype": "text/x-python",
   "name": "python",
   "nbconvert_exporter": "python",
   "pygments_lexer": "ipython3",
   "version": "3.7.6"
  },
  "toc": {
   "base_numbering": 1,
   "nav_menu": {},
   "number_sections": true,
   "sideBar": true,
   "skip_h1_title": false,
   "title_cell": "Table of Contents",
   "title_sidebar": "Contents",
   "toc_cell": false,
   "toc_position": {},
   "toc_section_display": true,
   "toc_window_display": false
  },
  "varInspector": {
   "cols": {
    "lenName": 16,
    "lenType": 16,
    "lenVar": 40
   },
   "kernels_config": {
    "python": {
     "delete_cmd_postfix": "",
     "delete_cmd_prefix": "del ",
     "library": "var_list.py",
     "varRefreshCmd": "print(var_dic_list())"
    },
    "r": {
     "delete_cmd_postfix": ") ",
     "delete_cmd_prefix": "rm(",
     "library": "var_list.r",
     "varRefreshCmd": "cat(var_dic_list()) "
    }
   },
   "types_to_exclude": [
    "module",
    "function",
    "builtin_function_or_method",
    "instance",
    "_Feature"
   ],
   "window_display": false
  }
 },
 "nbformat": 4,
 "nbformat_minor": 4
}
