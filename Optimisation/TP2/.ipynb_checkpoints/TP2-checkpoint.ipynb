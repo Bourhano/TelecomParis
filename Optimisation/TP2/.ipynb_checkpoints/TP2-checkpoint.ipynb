{
 "cells": [
  {
   "cell_type": "markdown",
   "metadata": {},
   "source": [
    "# TP 2"
   ]
  },
  {
   "cell_type": "code",
   "execution_count": 1,
   "metadata": {},
   "outputs": [],
   "source": [
    "import numpy as np\n",
    "import matplotlib.pyplot as plt\n",
    "from breastcancer_utils import *"
   ]
  },
  {
   "cell_type": "markdown",
   "metadata": {},
   "source": [
    "## 1 Données"
   ]
  },
  {
   "cell_type": "code",
   "execution_count": 4,
   "metadata": {},
   "outputs": [],
   "source": [
    "X, y = load_breastcancer(\"wdbc_M1_B0.data\")"
   ]
  },
  {
   "cell_type": "markdown",
   "metadata": {},
   "source": [
    "## 2 Méthode du sous-gradient"
   ]
  },
  {
   "cell_type": "markdown",
   "metadata": {},
   "source": [
    "### Question 2.1"
   ]
  },
  {
   "cell_type": "markdown",
   "metadata": {},
   "source": [
    "On note $\\rho = min_{v\\in\\mathbb{R}^m, a\\in\\mathbb{R}, \\xi\\in\\mathbb{R}^n}\\dfrac{1}{2}\\displaystyle\\sum_{j=1}^m v_j^2 + c\\displaystyle\\sum_{i=1}^n \\xi_i$ sous les contraintes indiquées et $\\lambda = min_{v\\in\\mathbb{R}^m, a\\in\\mathbb{R}}\\dfrac{1}{2}\\displaystyle\\sum_{j=1}^m v_j^2 + c\\displaystyle\\sum_{i=1}^n max(0, 1-y_i(x_i^\\top v+a))$ <br/>\n",
    "Il est clair que $\\lambda \\leqslant \\rho$ <br/>\n",
    "Soit $v\\in\\mathbb{R}^m$, $a\\in\\mathbb{R}$ <br/>\n",
    "On pose $\\xi_i = max(0, 1-y_i(x_i^\\top v+a))$ <br/>\n",
    "On a que $\\forall i\\in \\{1,...,n \\}, \\xi_i \\geqslant 0$ et $\\xi_i \\geqslant 1-y_i(x_i^\\top v+a)$\n",
    "$\\begin{eqnarray*}\n",
    "\\dfrac{1}{2}\\displaystyle\\sum_{j=1}^m v_j^2 + c\\displaystyle\\sum_{i=1}^n max(0, 1-y_i(x_i^\\top v+a)) &=& \\dfrac{1}{2}\\displaystyle\\sum_{j=1}^m v_j^2 + c\\displaystyle\\sum_{i=1}^n \\xi_i \\\\\n",
    "&\\geqslant& \\rho \\\\\n",
    "\\end{eqnarray*}$ <br/>\n",
    "D'où $ \\dfrac{1}{2}\\displaystyle\\sum_{j=1}^m v_j^2 + c\\displaystyle\\sum_{i=1}^n max(0, 1-y_i(x_i^\\top v+a)) \\geqslant \\rho$ ie $\\lambda\\geqslant \\rho$ <br/>\n",
    "Donc $\\rho = \\lambda$"
   ]
  },
  {
   "cell_type": "markdown",
   "metadata": {},
   "source": [
    "### Question 2.2"
   ]
  },
  {
   "cell_type": "code",
   "execution_count": 58,
   "metadata": {},
   "outputs": [],
   "source": [
    "def h(z):\n",
    "    return max(0,1-z)"
   ]
  },
  {
   "cell_type": "code",
   "execution_count": 59,
   "metadata": {},
   "outputs": [],
   "source": [
    "def drondh(z):\n",
    "    if z<1:\n",
    "        return -1\n",
    "    elif z>1:\n",
    "        return 0"
   ]
  },
  {
   "cell_type": "code",
   "execution_count": 60,
   "metadata": {},
   "outputs": [
    {
     "data": {
      "image/png": "[encoded data removed]",
      "text/plain": [
       "<Figure size 432x288 with 1 Axes>"
      ]
     },
     "metadata": {
      "needs_background": "light"
     },
     "output_type": "display_data"
    }
   ],
   "source": [
    "li_z = np.linspace(-10,10,1000)\n",
    "li_z2 = np.linspace(-8, 8, 5)\n",
    "plt.plot(li_z,[h(li_z[i]) for i in range(len(li_z))],color = 'black', label='h')\n",
    "for i in range(len(li_z2)):\n",
    "    li_image = [h(li_z[i])+(k-li_z[i])*drondh(li_z[i]) for k in range(len(li_z2))]\n",
    "    plt.plot(li_z2, li_image,label='droite dirigée par le sous gradient')\n",
    "plt.legend()\n",
    "plt.show()"
   ]
  },
  {
   "cell_type": "markdown",
   "metadata": {},
   "source": [
    "### Question 2.3"
   ]
  },
  {
   "cell_type": "markdown",
   "metadata": {},
   "source": [
    "On pose $N(v,a):= \\dfrac{1}{2}\\displaystyle\\sum_{j=1}^m v_j^2$, $H(u:=(u_1,...,u_n)):= \\displaystyle\\sum_{i=1}^n max(0,1-u_i)$ et $M(v,a):= (y_i(x_i^\\top v+a))_{1\\leqslant i\\leqslant n}$ <br/>\n",
    "$M$ est clairement linéaire. <br/>\n",
    "$N$ et $H$ sont aussi séparables évidemment. <br/>\n",
    "On a donc $f(v,a) = N(v,a) + cH(M(v,a)) $ <br/>\n",
    "Comme $0\\in relint(domH -MdomN)$ <br/>\n",
    "$\\partial f(v,a) = \\partial N(v,a) + cM^\\top\\partial H(M(v,a))$"
   ]
  },
  {
   "cell_type": "markdown",
   "metadata": {},
   "source": [
    "$\\partial N(v,a) = \\{v_1\\}\\times...\\times \\{v_m\\}$\n"
   ]
  },
  {
   "cell_type": "code",
   "execution_count": 66,
   "metadata": {},
   "outputs": [],
   "source": [
    "### PENSER A METTRE LES SINGLETONS 0"
   ]
  },
  {
   "cell_type": "markdown",
   "metadata": {},
   "source": [
    "$\\partial H(u) = \\{h(u_1)\\}\\times...\\times \\{h(u_n)\\}$"
   ]
  },
  {
   "cell_type": "markdown",
   "metadata": {},
   "source": [
    "### Question 2.4"
   ]
  },
  {
   "cell_type": "code",
   "execution_count": 69,
   "metadata": {},
   "outputs": [],
   "source": [
    "def values(nu,a,c):\n",
    "    f = (1/2)*np.sum(nu**2)\n",
    "    for i in range(len(y)):\n",
    "        f += c*h(y[i](X[0][i]*nu+a))\n",
    "    ###\n",
    "    return f, sub_grad_f"
   ]
  },
  {
   "cell_type": "markdown",
   "metadata": {},
   "source": [
    "### Question 2.5"
   ]
  },
  {
   "cell_type": "code",
   "execution_count": 72,
   "metadata": {},
   "outputs": [],
   "source": [
    "def sub_gradient(v_0, a_0, nb_iter):\n",
    "    (v_0, a_0) = (0,0)\n",
    "    (v_1, a_1) = (v_0, a_0) - 1*values(v_0,a_0,1)[1]\n",
    "    for k in range(nb_iter):\n",
    "        (v_0, a_0), (v_1, a_1) = (v_1, a_1), (v_0, a_0) - (1/(k+1))*values(v_0,a_0,1)[1]\n",
    "    return v_1, a_1"
   ]
  },
  {
   "cell_type": "markdown",
   "metadata": {},
   "source": [
    "## 3 Méthode du sous-gradient stochastique"
   ]
  },
  {
   "cell_type": "markdown",
   "metadata": {},
   "source": [
    "### Question 3.1"
   ]
  },
  {
   "cell_type": "markdown",
   "metadata": {},
   "source": [
    "$\\begin{eqnarray}\n",
    "\\mathbb{E}[f_I(v,a)] &=& \\dfrac{1}{2}\\displaystyle\\sum_{j=1}^m v_j^2 + cn\\mathbb{E}[max(0,1-y_I(x_I^\\top v + a))] \\\\\n",
    "&=& \\dfrac{1}{2}\\displaystyle\\sum_{j=1}^m v_j^2 + cn\\displaystyle\\int_0^1 max(0,1-y_u(x_u^\\top v + a))du \\\\\n",
    "&=& f(v,a) \\\\\n",
    "\\end{eqnarray}$"
   ]
  },
  {
   "cell_type": "markdown",
   "metadata": {},
   "source": [
    "### Question 3.2"
   ]
  },
  {
   "cell_type": "markdown",
   "metadata": {},
   "source": [
    "$f_i$ est la somme de fonctions convexe donc <br/>\n",
    "$\\partial f(v,a) = \\partial N(v,a) + cn (y_i(x_i^\\top v+a))^\\top\\partial h(y_i(x_i^\\top v+a))$"
   ]
  },
  {
   "cell_type": "markdown",
   "metadata": {},
   "source": [
    "\n"
   ]
  },
  {
   "cell_type": "markdown",
   "metadata": {},
   "source": [
    "### Question 3.3"
   ]
  },
  {
   "cell_type": "code",
   "execution_count": 1,
   "metadata": {},
   "outputs": [],
   "source": [
    "def sub_gradient_stoch(v_0, a_0, step_size, nb_iter):\n",
    "    (v_0, a_0) = (0,0)\n",
    "    (v_1, a_1) = (v_0, a_0) - step_size*values(v_0,a_0,1)[1]\n",
    "    for k in range(nb_iter):\n",
    "        (v_0, a_0), (v_1, a_1) = (v_1, a_1), (v_0, a_0) - step_size*values(v_0,a_0,1)[1]\n",
    "    return v_1, a_1"
   ]
  },
  {
   "cell_type": "markdown",
   "metadata": {},
   "source": [
    "## 4 Méthode du lagrangien augmenté"
   ]
  },
  {
   "cell_type": "markdown",
   "metadata": {},
   "source": [
    "### Question 4.1 "
   ]
  },
  {
   "cell_type": "markdown",
   "metadata": {},
   "source": [
    "Le lagrangien du problème (1) s'écrit: <br/>\n",
    "$L(v,a,\\xi; \\lambda, \\mu) = \\dfrac{1}{2}\\displaystyle\\sum_{j=1}^mv_j^2 + c\\displaystyle\\sum_{i=1}^n\\xi_i + \\displaystyle\\sum_{i=1}^n \\lambda_i(1-y_i(x_i^\\top v+a)-\\xi_i) - \\displaystyle\\sum_{i=1}^n \\mu_i\\xi_i$"
   ]
  },
  {
   "cell_type": "markdown",
   "metadata": {},
   "source": [
    "### Question 4.2"
   ]
  },
  {
   "cell_type": "markdown",
   "metadata": {},
   "source": [
    "On a $g(x,\\phi) = \\begin{cases}\n",
    "-\\dfrac{1}{2\\rho}\\phi^2+\\dfrac{\\rho}{2}(x+\\rho^{-1}\\phi)^2 & si x+\\rho^{-1}\\phi \\geqslant 0 \\\\\n",
    "-\\dfrac{1}{2\\rho}\\phi^2 & sinon \\\\\n",
    "\\end{cases}$ <br/>\n",
    "Donc $\\nabla_xg(x,\\phi) = \\begin{cases}\n",
    "\\rho(x+\\rho^{-1}\\phi) & si x+\\rho^{-1}\\phi \\geqslant 0 \\\\\n",
    "0 & sinon \\\\\n",
    "\\end{cases}$ = $\\rho max(0,x+\\rho^{-1}\\phi)$ <br/>\n",
    "et $\\nabla_\\phi g(x,\\phi) = \\begin{cases}\n",
    "-\\dfrac{\\phi}{\\rho} + (x+\\rho^{-1}\\phi)=x & si x \\geqslant -\\rho^{-1}\\phi \\\\\n",
    "-\\dfrac{\\phi}{\\rho} & sinon \\\\\n",
    "\\end{cases}$ = $ max(x,-\\rho^{-1}\\phi)$ <br/>"
   ]
  },
  {
   "cell_type": "markdown",
   "metadata": {},
   "source": [
    "### Question 4.3"
   ]
  },
  {
   "cell_type": "markdown",
   "metadata": {},
   "source": [
    "Il s'agit de la composition de fonctions convexes (donc encore convexes) et de leur combinaison linéaire à coefficients positifs ce qui conserve la convéxité. Les applications partielles de g sont donc encore convexes."
   ]
  },
  {
   "cell_type": "markdown",
   "metadata": {},
   "source": [
    "### Question 4.4"
   ]
  },
  {
   "cell_type": "markdown",
   "metadata": {},
   "source": [
    "### Question 4.5"
   ]
  },
  {
   "cell_type": "markdown",
   "metadata": {},
   "source": [
    "### Question 4.6"
   ]
  },
  {
   "cell_type": "markdown",
   "metadata": {},
   "source": [
    "## 5 Comparaison "
   ]
  },
  {
   "cell_type": "markdown",
   "metadata": {},
   "source": [
    "### Question 5.1"
   ]
  },
  {
   "cell_type": "markdown",
   "metadata": {},
   "source": [
    "La méthode du sous-gradient est la meilleure."
   ]
  },
  {
   "cell_type": "code",
   "execution_count": null,
   "metadata": {},
   "outputs": [],
   "source": []
  }
 ],
 "metadata": {
  "kernelspec": {
   "display_name": "Python 3",
   "language": "python",
   "name": "python3"
  },
  "language_info": {
   "codemirror_mode": {
    "name": "ipython",
    "version": 3
   },
   "file_extension": ".py",
   "mimetype": "text/x-python",
   "name": "python",
   "nbconvert_exporter": "python",
   "pygments_lexer": "ipython3",
   "version": "3.8.3"
  }
 },
 "nbformat": 4,
 "nbformat_minor": 4
}
