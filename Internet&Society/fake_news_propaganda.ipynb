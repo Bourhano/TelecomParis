{
 "cells": [
  {
   "cell_type": "code",
   "execution_count": null,
   "metadata": {},
   "outputs": [],
   "source": [
    "import numpy as np\n",
    "import pandas as pd\n",
    "import matplotlib.pyplot as plt"
   ]
  },
  {
   "cell_type": "code",
   "execution_count": 53,
   "metadata": {},
   "outputs": [],
   "source": [
    "df = pd.read_excel('Data Collection - 2020 US Elections (1).xlsx')\n",
    "x = df[\"Times shared on Facebook(killo)\"]\n",
    "y = df[\"Times retweeted on Twitter(kilo)\"]\n",
    "c = df[\"Truth of the news (1 for true, -1 for fake, lie by omission 0)\"]\n",
    "side = df[\"Republicans Favor (R) or Democrats Favor (D)\"]"
   ]
  },
  {
   "cell_type": "code",
   "execution_count": 85,
   "metadata": {},
   "outputs": [
    {
     "data": {
      "image/png": "[encoded data removed]",
      "text/plain": [
       "<Figure size 432x288 with 1 Axes>"
      ]
     },
     "metadata": {
      "needs_background": "light"
     },
     "output_type": "display_data"
    }
   ],
   "source": [
    "ones = np.where(c == 1)[0]\n",
    "not_ones = np.where(c != 1)[0]\n",
    "plt.plot(x[ones], y[ones], 'or')\n",
    "plt.plot(x[not_ones], y[not_ones], 'ob')\n",
    "plt.savefig('TruthOrNot.png')\n",
    "#plt.set_xlabel(df.axes[1][2])\n",
    "#plt.set_ylabel(df.axes[1][3])"
   ]
  },
  {
   "cell_type": "code",
   "execution_count": 86,
   "metadata": {},
   "outputs": [
    {
     "data": {
      "image/png": "[encoded data removed]",
      "text/plain": [
       "<Figure size 432x288 with 1 Axes>"
      ]
     },
     "metadata": {
      "needs_background": "light"
     },
     "output_type": "display_data"
    }
   ],
   "source": [
    "democrats = np.where(side == 'D')[0]\n",
    "republicans = np.where(side == 'R')[0]\n",
    "plt.plot(x[republicans], y[republicans], 'og')\n",
    "plt.plot(x[democrats], y[democrats], 'oy')\n",
    "plt.savefig('DemocratsvRepublicans.png')"
   ]
  },
  {
   "cell_type": "code",
   "execution_count": null,
   "metadata": {},
   "outputs": [],
   "source": []
  }
 ],
 "metadata": {
  "kernelspec": {
   "display_name": "Python 3",
   "language": "python",
   "name": "python3"
  },
  "language_info": {
   "codemirror_mode": {
    "name": "ipython",
    "version": 3
   },
   "file_extension": ".py",
   "mimetype": "text/x-python",
   "name": "python",
   "nbconvert_exporter": "python",
   "pygments_lexer": "ipython3",
   "version": "3.6.12"
  }
 },
 "nbformat": 4,
 "nbformat_minor": 4
}
